{
 "cells": [
  {
   "cell_type": "code",
   "execution_count": 1,
   "metadata": {},
   "outputs": [],
   "source": [
    "\n",
    "from pathlib import Path\n",
    "from h5py import File\n",
    "import numpy as np\n",
    "import pandas as pd\n",
    "import matplotlib.pyplot as plt\n",
    "import plotly.express as px\n",
    "from IPython.display import display\n",
    "import json\n",
    "import wandb\n",
    "pd.options.plotting.backend = \"plotly\""
   ]
  },
  {
   "cell_type": "markdown",
   "metadata": {},
   "source": [
    "## Acquisition des données"
   ]
  },
  {
   "cell_type": "code",
   "execution_count": 2,
   "metadata": {},
   "outputs": [],
   "source": [
    "config = {\n",
    "    \"dataset_path\": \"dataset_250pts_40ksamples.hdf5\",\n",
    "    \"num_pts\": 250,\n",
    "}\n",
    "dataset_path = Path('../../data/'+config[\"dataset_path\"])\n",
    "final_assignements = {}\n",
    "init_assignements = {}\n",
    "metadata = {}\n",
    "points_coords = {}\n",
    "with File(dataset_path) as cache:\n",
    "    for k,v in cache[\"final_assignements\"].items():\n",
    "        final_assignements[k] = np.copy(v)\n",
    "    for k,v in cache[\"init_assignements\"].items():\n",
    "        init_assignements[k] = np.copy(v)\n",
    "    for k,v in cache[\"metadata\"].items():\n",
    "        arr = np.copy(v)\n",
    "        metadata[k] = {\"SEED\": arr[0], \"NUM_CLUST\": arr[1], \"NUM_POINTS\": arr[2], \n",
    "                       \"INIT_CHOICE\": arr[3], \n",
    "                       \"IMPR_CLASS\": arr[4], \n",
    "                       \"IT_ORDER\": arr[5], \n",
    "                       \"init_cost\": arr[6], \"final_cost\": arr[7], \"num_iter\": arr[8], \"num_iter_glob\": arr[9], \"duration\": arr[10],\"dataset_key\":k}\n",
    "    for k,v in cache[\"points_coords\"].items():\n",
    "        points_coords[k] = np.copy(v)\n",
    "df_number = pd.DataFrame(list(metadata.values()))\n",
    "df = df_number.copy()\n",
    "df.loc[df[\"INIT_CHOICE\"] == 0,\"INIT_CHOICE\"] = \"random\"\n",
    "df.loc[df[\"INIT_CHOICE\"] == 1,\"INIT_CHOICE\"] = \"kmeans+\"\n",
    "df.loc[df[\"IMPR_CLASS\"] == 0,\"IMPR_CLASS\"] = \"BI\"\n",
    "df.loc[df[\"IMPR_CLASS\"] == 1,\"IMPR_CLASS\"] = \"FI\"\n",
    "df.loc[df[\"IT_ORDER\"] == 0,\"IT_ORDER\"] = \"BACK\"\n",
    "df.loc[df[\"IT_ORDER\"] != 0,\"IT_ORDER\"] = \"other\"\n",
    "df_src = df.copy()"
   ]
  },
  {
   "cell_type": "markdown",
   "metadata": {},
   "source": [
    "## Initialisation de wandb (où seront stockées les figures)"
   ]
  },
  {
   "cell_type": "code",
   "execution_count": 76,
   "metadata": {},
   "outputs": [
    {
     "data": {
      "text/html": [
       "wandb version 0.12.14 is available!  To upgrade, please run:\n",
       " $ pip install wandb --upgrade"
      ],
      "text/plain": [
       "<IPython.core.display.HTML object>"
      ]
     },
     "metadata": {},
     "output_type": "display_data"
    },
    {
     "data": {
      "text/html": [
       "Tracking run with wandb version 0.12.12"
      ],
      "text/plain": [
       "<IPython.core.display.HTML object>"
      ]
     },
     "metadata": {},
     "output_type": "display_data"
    },
    {
     "data": {
      "text/html": [
       "Run data is saved locally in <code>c:\\Users\\robin\\Documents\\Cours\\Poly\\Recherche\\MaitriseClustering\\repr_partitions_cluster\\experiments\\wandb\\run-20220415_175741-3a9owi4f</code>"
      ],
      "text/plain": [
       "<IPython.core.display.HTML object>"
      ]
     },
     "metadata": {},
     "output_type": "display_data"
    },
    {
     "data": {
      "text/html": [
       "Syncing run <strong><a href=\"https://wandb.ai/romo-1245/Recherche%20Maitrise/runs/3a9owi4f\" target=\"_blank\">Base dataset source points</a></strong> to <a href=\"https://wandb.ai/romo-1245/Recherche%20Maitrise\" target=\"_blank\">Weights & Biases</a> (<a href=\"https://wandb.me/run\" target=\"_blank\">docs</a>)<br/>"
      ],
      "text/plain": [
       "<IPython.core.display.HTML object>"
      ]
     },
     "metadata": {},
     "output_type": "display_data"
    }
   ],
   "source": [
    "run = wandb.init(\n",
    "                config=config,\n",
    "                project=\"Recherche Maitrise\",  # Title of your project\n",
    "                group=\"Dataset statistics\",  # In what group of runs do you want this run to be in?\n",
    "                name=f\"Base dataset source points\", \n",
    "                tags=[\"dataset\", \"diversified_dataset\"],\n",
    "                save_code=True,\n",
    "                entity=\"romo-1245\",\n",
    "            )"
   ]
  },
  {
   "cell_type": "markdown",
   "metadata": {},
   "source": [
    "## Statistiques générales "
   ]
  },
  {
   "cell_type": "code",
   "execution_count": 3,
   "metadata": {},
   "outputs": [],
   "source": [
    "df_sel = df_number.query(\"NUM_CLUST == 2\")\n",
    "for col in df_sel.columns:  \n",
    "    fig = px.histogram(df_sel, x=col, nbins=100)\n",
    "    run.log({\"stats_\"+col:fig})\n",
    "run.log({\"num_unique_SEED\":len(df_sel[\"SEED\"].unique()),\"num_samples\":len(df_sel)})"
   ]
  },
  {
   "cell_type": "markdown",
   "metadata": {},
   "source": [
    "## Statistiques par catégorie"
   ]
  },
  {
   "cell_type": "code",
   "execution_count": 4,
   "metadata": {},
   "outputs": [],
   "source": [
    "\n",
    "df[\"category\"] = df[\"IMPR_CLASS\"].astype(str)+\"_\"+df[\"INIT_CHOICE\"].astype(str)\n",
    "for num_clust in df[\"NUM_CLUST\"].unique():\n",
    "    df_tmp = df.query(f\"NUM_CLUST == {num_clust}\")\n",
    "    for attr in [\"init_cost\",\"num_iter\",\"num_iter_glob\",\"duration\",\"final_cost\"]:\n",
    "        fig = px.histogram(df_tmp,x=attr,color=\"category\",nbins=1000,barmode=\"overlay\",)    \n",
    "        run.log({\"hist_categories_\"+attr+\"_\"+str(num_clust):fig})"
   ]
  },
  {
   "cell_type": "markdown",
   "metadata": {},
   "source": [
    "## Comparaison FI BI pour même nuage de point"
   ]
  },
  {
   "cell_type": "code",
   "execution_count": 5,
   "metadata": {},
   "outputs": [
    {
     "data": {
      "text/html": [
       "<div>\n",
       "<style scoped>\n",
       "    .dataframe tbody tr th:only-of-type {\n",
       "        vertical-align: middle;\n",
       "    }\n",
       "\n",
       "    .dataframe tbody tr th {\n",
       "        vertical-align: top;\n",
       "    }\n",
       "\n",
       "    .dataframe thead th {\n",
       "        text-align: right;\n",
       "    }\n",
       "</style>\n",
       "<table border=\"1\" class=\"dataframe\">\n",
       "  <thead>\n",
       "    <tr style=\"text-align: right;\">\n",
       "      <th></th>\n",
       "      <th>SEED</th>\n",
       "      <th>NUM_CLUST</th>\n",
       "      <th>NUM_POINTS</th>\n",
       "      <th>INIT_CHOICE</th>\n",
       "      <th>IMPR_CLASS</th>\n",
       "      <th>IT_ORDER</th>\n",
       "      <th>init_cost</th>\n",
       "      <th>final_cost</th>\n",
       "      <th>num_iter</th>\n",
       "      <th>num_iter_glob</th>\n",
       "      <th>duration</th>\n",
       "      <th>dataset_key</th>\n",
       "    </tr>\n",
       "  </thead>\n",
       "  <tbody>\n",
       "    <tr>\n",
       "      <th>0</th>\n",
       "      <td>0.0</td>\n",
       "      <td>2.0</td>\n",
       "      <td>250.0</td>\n",
       "      <td>random</td>\n",
       "      <td>BI</td>\n",
       "      <td>other</td>\n",
       "      <td>0.0</td>\n",
       "      <td>8.731149e-11</td>\n",
       "      <td>30.0</td>\n",
       "      <td>-12063.0</td>\n",
       "      <td>-415.0</td>\n",
       "      <td>0,0,2,0,0</td>\n",
       "    </tr>\n",
       "    <tr>\n",
       "      <th>1</th>\n",
       "      <td>1.0</td>\n",
       "      <td>2.0</td>\n",
       "      <td>250.0</td>\n",
       "      <td>kmeans+</td>\n",
       "      <td>BI</td>\n",
       "      <td>other</td>\n",
       "      <td>0.0</td>\n",
       "      <td>1.164153e-10</td>\n",
       "      <td>0.0</td>\n",
       "      <td>-3057.0</td>\n",
       "      <td>-77.0</td>\n",
       "      <td>1,0,2,1,0</td>\n",
       "    </tr>\n",
       "    <tr>\n",
       "      <th>2</th>\n",
       "      <td>10.0</td>\n",
       "      <td>2.0</td>\n",
       "      <td>250.0</td>\n",
       "      <td>kmeans+</td>\n",
       "      <td>BI</td>\n",
       "      <td>other</td>\n",
       "      <td>0.0</td>\n",
       "      <td>-1.746230e-10</td>\n",
       "      <td>0.0</td>\n",
       "      <td>-3730.0</td>\n",
       "      <td>-73.0</td>\n",
       "      <td>10,0,2,1,0</td>\n",
       "    </tr>\n",
       "    <tr>\n",
       "      <th>3</th>\n",
       "      <td>100.0</td>\n",
       "      <td>2.0</td>\n",
       "      <td>250.0</td>\n",
       "      <td>random</td>\n",
       "      <td>BI</td>\n",
       "      <td>other</td>\n",
       "      <td>0.0</td>\n",
       "      <td>5.491090e+01</td>\n",
       "      <td>74.0</td>\n",
       "      <td>-12212.0</td>\n",
       "      <td>-217.0</td>\n",
       "      <td>100,0,2,0,0</td>\n",
       "    </tr>\n",
       "    <tr>\n",
       "      <th>4</th>\n",
       "      <td>1000.0</td>\n",
       "      <td>2.0</td>\n",
       "      <td>250.0</td>\n",
       "      <td>kmeans+</td>\n",
       "      <td>BI</td>\n",
       "      <td>other</td>\n",
       "      <td>0.0</td>\n",
       "      <td>5.820766e-11</td>\n",
       "      <td>4.0</td>\n",
       "      <td>-8576.0</td>\n",
       "      <td>-169.0</td>\n",
       "      <td>1000,0,2,1,0</td>\n",
       "    </tr>\n",
       "    <tr>\n",
       "      <th>...</th>\n",
       "      <td>...</td>\n",
       "      <td>...</td>\n",
       "      <td>...</td>\n",
       "      <td>...</td>\n",
       "      <td>...</td>\n",
       "      <td>...</td>\n",
       "      <td>...</td>\n",
       "      <td>...</td>\n",
       "      <td>...</td>\n",
       "      <td>...</td>\n",
       "      <td>...</td>\n",
       "      <td>...</td>\n",
       "    </tr>\n",
       "    <tr>\n",
       "      <th>79995</th>\n",
       "      <td>9995.0</td>\n",
       "      <td>2.0</td>\n",
       "      <td>250.0</td>\n",
       "      <td>kmeans+</td>\n",
       "      <td>BI</td>\n",
       "      <td>other</td>\n",
       "      <td>0.0</td>\n",
       "      <td>1.222539e+04</td>\n",
       "      <td>7.0</td>\n",
       "      <td>-12367.0</td>\n",
       "      <td>-275.0</td>\n",
       "      <td>9995,0,2,1,0</td>\n",
       "    </tr>\n",
       "    <tr>\n",
       "      <th>79996</th>\n",
       "      <td>9996.0</td>\n",
       "      <td>2.0</td>\n",
       "      <td>250.0</td>\n",
       "      <td>random</td>\n",
       "      <td>BI</td>\n",
       "      <td>other</td>\n",
       "      <td>0.0</td>\n",
       "      <td>-2.567337e+02</td>\n",
       "      <td>112.0</td>\n",
       "      <td>-6356.0</td>\n",
       "      <td>-147.0</td>\n",
       "      <td>9996,0,2,0,0</td>\n",
       "    </tr>\n",
       "    <tr>\n",
       "      <th>79997</th>\n",
       "      <td>9997.0</td>\n",
       "      <td>2.0</td>\n",
       "      <td>250.0</td>\n",
       "      <td>kmeans+</td>\n",
       "      <td>BI</td>\n",
       "      <td>other</td>\n",
       "      <td>0.0</td>\n",
       "      <td>-1.746230e-10</td>\n",
       "      <td>2.0</td>\n",
       "      <td>-4003.0</td>\n",
       "      <td>-150.0</td>\n",
       "      <td>9997,0,2,1,0</td>\n",
       "    </tr>\n",
       "    <tr>\n",
       "      <th>79998</th>\n",
       "      <td>9998.0</td>\n",
       "      <td>2.0</td>\n",
       "      <td>250.0</td>\n",
       "      <td>kmeans+</td>\n",
       "      <td>BI</td>\n",
       "      <td>other</td>\n",
       "      <td>0.0</td>\n",
       "      <td>-5.820766e-11</td>\n",
       "      <td>2.0</td>\n",
       "      <td>-9096.0</td>\n",
       "      <td>-121.0</td>\n",
       "      <td>9998,0,2,1,0</td>\n",
       "    </tr>\n",
       "    <tr>\n",
       "      <th>79999</th>\n",
       "      <td>9999.0</td>\n",
       "      <td>2.0</td>\n",
       "      <td>250.0</td>\n",
       "      <td>random</td>\n",
       "      <td>BI</td>\n",
       "      <td>other</td>\n",
       "      <td>0.0</td>\n",
       "      <td>3.288199e+04</td>\n",
       "      <td>157.0</td>\n",
       "      <td>-2958.0</td>\n",
       "      <td>44.0</td>\n",
       "      <td>9999,0,2,0,0</td>\n",
       "    </tr>\n",
       "  </tbody>\n",
       "</table>\n",
       "<p>80000 rows × 12 columns</p>\n",
       "</div>"
      ],
      "text/plain": [
       "         SEED  NUM_CLUST  NUM_POINTS INIT_CHOICE IMPR_CLASS IT_ORDER  \\\n",
       "0         0.0        2.0       250.0      random         BI    other   \n",
       "1         1.0        2.0       250.0     kmeans+         BI    other   \n",
       "2        10.0        2.0       250.0     kmeans+         BI    other   \n",
       "3       100.0        2.0       250.0      random         BI    other   \n",
       "4      1000.0        2.0       250.0     kmeans+         BI    other   \n",
       "...       ...        ...         ...         ...        ...      ...   \n",
       "79995  9995.0        2.0       250.0     kmeans+         BI    other   \n",
       "79996  9996.0        2.0       250.0      random         BI    other   \n",
       "79997  9997.0        2.0       250.0     kmeans+         BI    other   \n",
       "79998  9998.0        2.0       250.0     kmeans+         BI    other   \n",
       "79999  9999.0        2.0       250.0      random         BI    other   \n",
       "\n",
       "       init_cost    final_cost  num_iter  num_iter_glob  duration  \\\n",
       "0            0.0  8.731149e-11      30.0       -12063.0    -415.0   \n",
       "1            0.0  1.164153e-10       0.0        -3057.0     -77.0   \n",
       "2            0.0 -1.746230e-10       0.0        -3730.0     -73.0   \n",
       "3            0.0  5.491090e+01      74.0       -12212.0    -217.0   \n",
       "4            0.0  5.820766e-11       4.0        -8576.0    -169.0   \n",
       "...          ...           ...       ...            ...       ...   \n",
       "79995        0.0  1.222539e+04       7.0       -12367.0    -275.0   \n",
       "79996        0.0 -2.567337e+02     112.0        -6356.0    -147.0   \n",
       "79997        0.0 -1.746230e-10       2.0        -4003.0    -150.0   \n",
       "79998        0.0 -5.820766e-11       2.0        -9096.0    -121.0   \n",
       "79999        0.0  3.288199e+04     157.0        -2958.0      44.0   \n",
       "\n",
       "        dataset_key  \n",
       "0         0,0,2,0,0  \n",
       "1         1,0,2,1,0  \n",
       "2        10,0,2,1,0  \n",
       "3       100,0,2,0,0  \n",
       "4      1000,0,2,1,0  \n",
       "...             ...  \n",
       "79995  9995,0,2,1,0  \n",
       "79996  9996,0,2,0,0  \n",
       "79997  9997,0,2,1,0  \n",
       "79998  9998,0,2,1,0  \n",
       "79999  9999,0,2,0,0  \n",
       "\n",
       "[80000 rows x 12 columns]"
      ]
     },
     "metadata": {},
     "output_type": "display_data"
    }
   ],
   "source": [
    "df_cpy = df.copy()\n",
    "try:\n",
    "    df_cpy.drop(columns=[\"category\"],inplace=True)\n",
    "except KeyError:\n",
    "    pass\n",
    "df_orig = df_cpy.copy()\n",
    "df_cpy.loc[df_cpy[\"IT_ORDER\"]==\"BACK\",\"IT_ORDER\"] = 0\n",
    "df_cpy.loc[df_cpy[\"IT_ORDER\"]==\"other\",\"IT_ORDER\"] = -1\n",
    "df_cpy.loc[df_cpy[\"INIT_CHOICE\"]==\"random\",\"INIT_CHOICE\"] = 0\n",
    "df_cpy.loc[df_cpy[\"INIT_CHOICE\"]==\"kmeans+\",\"INIT_CHOICE\"] = 1\n",
    "Ldf = []\n",
    "for impr in [\"FI\",\"BI\"]:\n",
    "    df_impr = df_cpy.query(f\"IMPR_CLASS == \\'{impr}\\'\")\n",
    "    df_impr = df_impr.drop(columns=[\"IMPR_CLASS\",\"dataset_key\"])\n",
    "    df_impr.set_index(\"SEED\",inplace=True)\n",
    "    Ldf.append(df_impr)\n",
    "new_df = (Ldf[0]-Ldf[1])\n",
    "df_infos = df_orig.copy().query(\"IMPR_CLASS=='BI'\").set_index(\"SEED\")\n",
    "for k in [\"init_cost\",attr,\"num_iter\",\"num_iter_glob\",\"duration\"]:\n",
    "    df_infos[k] = new_df[k]\n",
    "df_infos.reset_index(inplace=True)\n",
    "display(df_infos)"
   ]
  },
  {
   "cell_type": "markdown",
   "metadata": {},
   "source": [
    "Affichage de la différence FI-BI"
   ]
  },
  {
   "cell_type": "code",
   "execution_count": 6,
   "metadata": {},
   "outputs": [],
   "source": [
    "for num_clust in [2]:\n",
    "    df_tmp = df_infos.query(f\"NUM_CLUST == {num_clust}\")\n",
    "    for attr in [\"init_cost\",\"num_iter\",\"num_iter_glob\",\"duration\",\"final_cost\"]:\n",
    "       df_rand = df_tmp.query(f\"INIT_CHOICE == \\'random\\'\")\n",
    "       df_kmeans = df_tmp.query(f\"INIT_CHOICE == \\'kmeans+\\'\")\n",
    "       fig = px.histogram(df_tmp,x=attr,color=\"INIT_CHOICE\",\n",
    "                     color_discrete_map = {'random':'blue','kmeans+':'red'},\n",
    "                     histnorm=\"percent\",\n",
    "                     range_y=None,\n",
    "                     barmode=\"overlay\",\n",
    "                     nbins=500,title=\"FI-BI (mean in dotted line) \"+ f\"Mean random:{df_rand[attr].mean():.2f} ; \"+f\"Mean kmeans+:{df_kmeans[attr].mean():.2f}\")  \n",
    "       fig.add_vline(x=df_rand[attr].mean(),\n",
    "              line=dict(dash= 'dot',color='blue')\n",
    "              )\n",
    "       fig.add_vline(x=df_kmeans[attr].mean(),\n",
    "              line=dict(dash= 'dot',color='red')\n",
    "              )\n",
    "       run.log({\"hist_FI-BI_\"+attr+\"_\"+str(num_clust):fig})"
   ]
  },
  {
   "cell_type": "markdown",
   "metadata": {},
   "source": [
    "## Calcul de l'algorithme le plus performant"
   ]
  },
  {
   "cell_type": "code",
   "execution_count": null,
   "metadata": {},
   "outputs": [],
   "source": [
    "\n",
    "dico_backup_best = {}\n",
    "dico_backup_diff = {}\n",
    "\n",
    "for attr in [\"final_cost\"]:\n",
    "   if attr not in dico_backup_best:\n",
    "      dico_backup_best[attr] = {}\n",
    "   if attr not in dico_backup_diff:\n",
    "      dico_backup_diff[attr] = {}\n",
    "   for num_clust in [2]:\n",
    "      df_tmp = df_infos.query(f\"NUM_CLUST == {num_clust}\")\n",
    "      if num_clust not in dico_backup_diff[attr]:\n",
    "         dico_backup_diff[attr][num_clust] = {}\n",
    "      for index, row in df_tmp.iterrows():\n",
    "         dico_backup_diff[attr][num_clust][row[\"dataset_key\"]] = row[attr]\n",
    "      df_tmpcpy = df_tmp.copy()\n",
    "      df_tmp.loc[df_tmpcpy[attr] > 0,attr] = \"BI\"\n",
    "      df_tmp.loc[df_tmpcpy[attr] < 0,attr] = \"FI\"\n",
    "      df_tmp.loc[df_tmpcpy[attr] == 0,attr] = \"Equal\"\n",
    "      if num_clust not in dico_backup_best[attr]:\n",
    "         dico_backup_best[attr][num_clust] = {}\n",
    "      for index, row in df_tmp.iterrows():\n",
    "         dico_backup_best[attr][num_clust][row[\"dataset_key\"]] = row[attr]\n",
    "      fig = px.histogram(df_tmp,x=attr,color=\"INIT_CHOICE\",\n",
    "                              range_y=None, \n",
    "                              barmode=\"overlay\",\n",
    "                              nbins=500,title=\"Suggestions\")\n",
    "      run.log({\"hist_suggestions_\"+attr+\"_\"+str(num_clust):fig})\n",
    "with open(str(dataset_path.parent / f'./dico_best.json'), 'w') as fp:\n",
    "   json.dump(dico_backup_best, fp,indent=4)\n",
    "with open(str(dataset_path.parent / f'./dico_diff.json'), 'w') as fp:\n",
    "   json.dump(dico_backup_diff, fp,indent=4)\n",
    "run.finish()\n"
   ]
  },
  {
   "cell_type": "markdown",
   "metadata": {},
   "source": [
    "## Affichage des images générées par le script points_to_images"
   ]
  },
  {
   "cell_type": "code",
   "execution_count": 8,
   "metadata": {},
   "outputs": [],
   "source": [
    "import matplotlib.pyplot as plt\n",
    "from h5py import File\n",
    "from pathlib import Path\n",
    "import numpy as np"
   ]
  },
  {
   "cell_type": "code",
   "execution_count": 17,
   "metadata": {},
   "outputs": [
    {
     "name": "stderr",
     "output_type": "stream",
     "text": [
      "Clipping input data to the valid range for imshow with RGB data ([0..1] for floats or [0..255] for integers).\n"
     ]
    },
    {
     "name": "stdout",
     "output_type": "stream",
     "text": [
      "(256, 256, 3)\n",
      "[0. 1. 2.]\n"
     ]
    },
    {
     "data": {
      "text/plain": [
       "<matplotlib.image.AxesImage at 0x1a756b390d0>"
      ]
     },
     "execution_count": 17,
     "metadata": {},
     "output_type": "execute_result"
    },
    {
     "data": {
      "image/png": "[encoded data removed]",
      "text/plain": [
       "<Figure size 360x360 with 1 Axes>"
      ]
     },
     "metadata": {
      "needs_background": "light"
     },
     "output_type": "display_data"
    }
   ],
   "source": [
    "\n",
    "with File(str(Path(\"../../data/image_dataset/dataset_ia_2_clusters_250pts_grid_256px_tr.hdf5\").resolve()),\"r\") as f:\n",
    "    k = list(f[\"input\"].keys())[0]\n",
    "    array = np.copy(f[\"input\"][k])\n",
    "shape = (*array.shape[:2],1)\n",
    "zeros = np.zeros(shape)\n",
    "array = np.concatenate((array,zeros),axis=-1)\n",
    "print(array.shape)\n",
    "print(np.unique(array))\n",
    "fig = plt.figure(figsize=(5,5))\n",
    "plt.matshow(array, fignum=1)"
   ]
  },
  {
   "cell_type": "markdown",
   "metadata": {},
   "source": [
    "## Statistiques d'intensité de pixels sur tout le dataset"
   ]
  },
  {
   "cell_type": "code",
   "execution_count": 9,
   "metadata": {},
   "outputs": [],
   "source": [
    "df = df_src.copy().query(\"NUM_CLUST == 2 & IMPR_CLASS == 'BI'\")\n",
    "df.sort_values(by=['dataset_key'],inplace=True)\n",
    "for grid in [64,128,256]:\n",
    "    dico_clust_overlap = {}\n",
    "    for dataset in [\"tr\",\"val\"]:\n",
    "        with File(str(Path(f\"../../data/image_dataset/dataset_ia_2_clusters_250pts_grid_{grid}px_{dataset}.hdf5\").resolve()),\"r\") as f:\n",
    "            for k in f[\"input\"]:\n",
    "                dico_clust_overlap[k] = np.max(np.copy(f[\"input\"][k]))\n",
    "            \n",
    "    elements = [dico_clust_overlap[k] for k in sorted(list(dico_clust_overlap.keys()))]\n",
    "    df[f\"grid_{grid}px_overlap\"] = elements\n"
   ]
  },
  {
   "cell_type": "code",
   "execution_count": null,
   "metadata": {},
   "outputs": [],
   "source": [
    "cols = [*[f\"grid_{grid}px_overlap\" for grid in [64,128,256]]]\n",
    "print(\"Min\")\n",
    "df_aggr=df[cols].copy().min() \n",
    "display(df_aggr)\n",
    "print(\"Mean\")\n",
    "df_aggr=df[cols].copy().mean()\n",
    "display(df_aggr)\n",
    "print(\"Max\")\n",
    "df_aggr=df[cols].copy().max()\n",
    "display(df_aggr)\n",
    "print(len(df))\n"
   ]
  },
  {
   "cell_type": "code",
   "execution_count": null,
   "metadata": {},
   "outputs": [],
   "source": []
  }
 ],
 "metadata": {
  "interpreter": {
   "hash": "c3bcd55b981df2d4e98506e55e0683f8c0a7103630b8b3a45913c49397aa6f36"
  },
  "kernelspec": {
   "display_name": "Python 3.8.12 (conda)",
   "language": "python",
   "name": "python3"
  },
  "language_info": {
   "codemirror_mode": {
    "name": "ipython",
    "version": 3
   },
   "file_extension": ".py",
   "mimetype": "text/x-python",
   "name": "python",
   "nbconvert_exporter": "python",
   "pygments_lexer": "ipython3",
   "version": "3.8.12"
  },
  "orig_nbformat": 4
 },
 "nbformat": 4,
 "nbformat_minor": 2
}
