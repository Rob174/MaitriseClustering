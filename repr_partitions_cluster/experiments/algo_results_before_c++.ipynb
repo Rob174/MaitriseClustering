{
 "cells": [
  {
   "cell_type": "markdown",
   "metadata": {},
   "source": []
  },
  {
   "cell_type": "markdown",
   "metadata": {},
   "source": [
    "Imports"
   ]
  },
  {
   "cell_type": "code",
   "execution_count": 1,
   "metadata": {},
   "outputs": [],
   "source": [
    "\n",
    "\n",
    "import pandas as pd\n",
    "import numpy as np\n",
    "from pathlib import Path\n",
    "from IPython.display import display, HTML\n",
    "import plotly.express as px\n",
    "import dataframe_image as dfi\n",
    "import matplotlib.pyplot as plt\n",
    "import matplotlib.colors as mcolors\n",
    "pd.options.mode.chained_assignment = 'warn'  # default=\n",
    "pd.options.plotting.backend = \"plotly\"\n",
    "pd.options.display.float_format = '{:,.2f}'.format\n",
    "PATH_CACHE = Path(\"../../data/algos_results.csv\").resolve()\n",
    "# print(PATH_CACHE)\n",
    "pd.set_option('display.max_columns', None)  "
   ]
  },
  {
   "cell_type": "markdown",
   "metadata": {},
   "source": [
    "## Load original data and preprocess"
   ]
  },
  {
   "cell_type": "code",
   "execution_count": 2,
   "metadata": {},
   "outputs": [
    {
     "data": {
      "text/html": [
       "<div>\n",
       "<style scoped>\n",
       "    .dataframe tbody tr th:only-of-type {\n",
       "        vertical-align: middle;\n",
       "    }\n",
       "\n",
       "    .dataframe tbody tr th {\n",
       "        vertical-align: top;\n",
       "    }\n",
       "\n",
       "    .dataframe thead th {\n",
       "        text-align: right;\n",
       "    }\n",
       "</style>\n",
       "<table border=\"1\" class=\"dataframe\">\n",
       "  <thead>\n",
       "    <tr style=\"text-align: right;\">\n",
       "      <th></th>\n",
       "      <th>num_clusters</th>\n",
       "      <th>init_type</th>\n",
       "      <th>init_cost</th>\n",
       "      <th>end_cost</th>\n",
       "      <th>num_iter_tot</th>\n",
       "      <th>time</th>\n",
       "      <th>algorithm</th>\n",
       "      <th>Nb. points</th>\n",
       "    </tr>\n",
       "  </thead>\n",
       "  <tbody>\n",
       "    <tr>\n",
       "      <th>0</th>\n",
       "      <td>2</td>\n",
       "      <td>random</td>\n",
       "      <td>26,804.39</td>\n",
       "      <td>15,272.50</td>\n",
       "      <td>180</td>\n",
       "      <td>0.02</td>\n",
       "      <td>BI_BACK</td>\n",
       "      <td>20</td>\n",
       "    </tr>\n",
       "    <tr>\n",
       "      <th>1</th>\n",
       "      <td>2</td>\n",
       "      <td>random</td>\n",
       "      <td>19,462.05</td>\n",
       "      <td>11,661.72</td>\n",
       "      <td>180</td>\n",
       "      <td>0.02</td>\n",
       "      <td>BI_BACK</td>\n",
       "      <td>20</td>\n",
       "    </tr>\n",
       "    <tr>\n",
       "      <th>2</th>\n",
       "      <td>2</td>\n",
       "      <td>random</td>\n",
       "      <td>31,366.33</td>\n",
       "      <td>20,703.83</td>\n",
       "      <td>160</td>\n",
       "      <td>0.02</td>\n",
       "      <td>BI_BACK</td>\n",
       "      <td>20</td>\n",
       "    </tr>\n",
       "    <tr>\n",
       "      <th>3</th>\n",
       "      <td>2</td>\n",
       "      <td>random</td>\n",
       "      <td>29,653.63</td>\n",
       "      <td>17,133.42</td>\n",
       "      <td>200</td>\n",
       "      <td>0.03</td>\n",
       "      <td>BI_BACK</td>\n",
       "      <td>20</td>\n",
       "    </tr>\n",
       "    <tr>\n",
       "      <th>4</th>\n",
       "      <td>2</td>\n",
       "      <td>random</td>\n",
       "      <td>37,801.91</td>\n",
       "      <td>23,625.19</td>\n",
       "      <td>160</td>\n",
       "      <td>0.02</td>\n",
       "      <td>BI_BACK</td>\n",
       "      <td>20</td>\n",
       "    </tr>\n",
       "  </tbody>\n",
       "</table>\n",
       "</div>"
      ],
      "text/plain": [
       "   num_clusters init_type  init_cost  end_cost  num_iter_tot  time algorithm  \\\n",
       "0             2    random  26,804.39 15,272.50           180  0.02   BI_BACK   \n",
       "1             2    random  19,462.05 11,661.72           180  0.02   BI_BACK   \n",
       "2             2    random  31,366.33 20,703.83           160  0.02   BI_BACK   \n",
       "3             2    random  29,653.63 17,133.42           200  0.03   BI_BACK   \n",
       "4             2    random  37,801.91 23,625.19           160  0.02   BI_BACK   \n",
       "\n",
       "   Nb. points  \n",
       "0          20  \n",
       "1          20  \n",
       "2          20  \n",
       "3          20  \n",
       "4          20  "
      ]
     },
     "metadata": {},
     "output_type": "display_data"
    },
    {
     "name": "stdout",
     "output_type": "stream",
     "text": [
      "None\n"
     ]
    }
   ],
   "source": [
    "orig_df = pd.read_csv(PATH_CACHE, sep=\",\",header=0,index_col=False)\n",
    "for orig_name,new_name in [(\"CallbackBestImprovement\",\"BI\"),(\"CallbackFirstImprovement\",\"FI\")]:\n",
    "    orig_df.loc[orig_df.ImprClass == orig_name,\"ImprClass\"] = new_name\n",
    "orig_df.loc[:,\"algorithm\"] = orig_df[\"ImprClass\"]+\"_\" + orig_df[\"iteration_order\"]\n",
    "orig_df.loc[:,\"Nb. points\"] = orig_df[\"num_points\"]\n",
    "orig_df.drop([\"ImprClass\",\"iteration_order\",\"num_iter\",\"global_index\",\"num_points\"],axis=1,inplace=True)\n",
    "df = orig_df.copy()\n",
    "print(display(df.head()))"
   ]
  },
  {
   "cell_type": "markdown",
   "metadata": {},
   "source": [
    "## Merged Data"
   ]
  },
  {
   "cell_type": "code",
   "execution_count": 5,
   "metadata": {},
   "outputs": [],
   "source": [
    "QUERY = \"algorithm == 'BI_BACK' & num_clusters == 16 & init_type == 'random'\""
   ]
  },
  {
   "cell_type": "code",
   "execution_count": 6,
   "metadata": {},
   "outputs": [
    {
     "data": {
      "text/html": [
       "<style type=\"text/css\">\n",
       "#T_f5ab9_row0_col10, #T_f5ab9_row0_col11, #T_f5ab9_row0_col12, #T_f5ab9_row1_col10, #T_f5ab9_row1_col11, #T_f5ab9_row1_col12, #T_f5ab9_row2_col10, #T_f5ab9_row2_col11, #T_f5ab9_row2_col12, #T_f5ab9_row3_col10, #T_f5ab9_row3_col11, #T_f5ab9_row3_col12, #T_f5ab9_row4_col10, #T_f5ab9_row4_col11, #T_f5ab9_row4_col12, #T_f5ab9_row5_col10, #T_f5ab9_row5_col11, #T_f5ab9_row5_col12, #T_f5ab9_row6_col10, #T_f5ab9_row6_col11, #T_f5ab9_row6_col12, #T_f5ab9_row7_col10, #T_f5ab9_row7_col11, #T_f5ab9_row7_col12, #T_f5ab9_row8_col10, #T_f5ab9_row8_col11, #T_f5ab9_row8_col12, #T_f5ab9_row9_col10, #T_f5ab9_row9_col11, #T_f5ab9_row9_col12 {\n",
       "  background-color: #67000d;\n",
       "  color: #f1f1f1;\n",
       "}\n",
       "</style>\n",
       "<table id=\"T_f5ab9\">\n",
       "  <thead>\n",
       "    <tr>\n",
       "      <th class=\"blank level0\" >&nbsp;</th>\n",
       "      <th id=\"T_f5ab9_level0_col0\" class=\"col_heading level0 col0\" >index</th>\n",
       "      <th id=\"T_f5ab9_level0_col1\" class=\"col_heading level0 col1\" >num_clusters</th>\n",
       "      <th id=\"T_f5ab9_level0_col2\" class=\"col_heading level0 col2\" >Nb. points</th>\n",
       "      <th id=\"T_f5ab9_level0_col3\" class=\"col_heading level0 col3\" >init_type</th>\n",
       "      <th id=\"T_f5ab9_level0_col4\" class=\"col_heading level0 col4\" >algorithm</th>\n",
       "      <th id=\"T_f5ab9_level0_col5\" class=\"col_heading level0 col5\" >init_cost</th>\n",
       "      <th id=\"T_f5ab9_level0_col6\" class=\"col_heading level0 col6\" >end_cost</th>\n",
       "      <th id=\"T_f5ab9_level0_col7\" class=\"col_heading level0 col7\" >num_iter_tot</th>\n",
       "      <th id=\"T_f5ab9_level0_col8\" class=\"col_heading level0 col8\" >time</th>\n",
       "      <th id=\"T_f5ab9_level0_col9\" class=\"col_heading level0 col9\" >prct_amelioration_init_cost</th>\n",
       "      <th id=\"T_f5ab9_level0_col10\" class=\"col_heading level0 col10\" >prct_amelioration_end_cost</th>\n",
       "      <th id=\"T_f5ab9_level0_col11\" class=\"col_heading level0 col11\" >prct_amelioration_num_iter_tot</th>\n",
       "      <th id=\"T_f5ab9_level0_col12\" class=\"col_heading level0 col12\" >prct_amelioration_time</th>\n",
       "      <th id=\"T_f5ab9_level0_col13\" class=\"col_heading level0 col13\" >Nb pts par cluster</th>\n",
       "    </tr>\n",
       "  </thead>\n",
       "  <tbody>\n",
       "    <tr>\n",
       "      <th id=\"T_f5ab9_level0_row0\" class=\"row_heading level0 row0\" >61</th>\n",
       "      <td id=\"T_f5ab9_row0_col0\" class=\"data row0 col0\" >61</td>\n",
       "      <td id=\"T_f5ab9_row0_col1\" class=\"data row0 col1\" >16</td>\n",
       "      <td id=\"T_f5ab9_row0_col2\" class=\"data row0 col2\" >20</td>\n",
       "      <td id=\"T_f5ab9_row0_col3\" class=\"data row0 col3\" >random</td>\n",
       "      <td id=\"T_f5ab9_row0_col4\" class=\"data row0 col4\" >BI_BACK</td>\n",
       "      <td id=\"T_f5ab9_row0_col5\" class=\"data row0 col5\" >13812.063088</td>\n",
       "      <td id=\"T_f5ab9_row0_col6\" class=\"data row0 col6\" >191.750591</td>\n",
       "      <td id=\"T_f5ab9_row0_col7\" class=\"data row0 col7\" >2940.600000</td>\n",
       "      <td id=\"T_f5ab9_row0_col8\" class=\"data row0 col8\" >0.271764</td>\n",
       "      <td id=\"T_f5ab9_row0_col9\" class=\"data row0 col9\" >0.000000</td>\n",
       "      <td id=\"T_f5ab9_row0_col10\" class=\"data row0 col10\" >0.000000</td>\n",
       "      <td id=\"T_f5ab9_row0_col11\" class=\"data row0 col11\" >0.000000</td>\n",
       "      <td id=\"T_f5ab9_row0_col12\" class=\"data row0 col12\" >0.000000</td>\n",
       "      <td id=\"T_f5ab9_row0_col13\" class=\"data row0 col13\" >1.250000</td>\n",
       "    </tr>\n",
       "    <tr>\n",
       "      <th id=\"T_f5ab9_level0_row1\" class=\"row_heading level0 row1\" >63</th>\n",
       "      <td id=\"T_f5ab9_row1_col0\" class=\"data row1 col0\" >63</td>\n",
       "      <td id=\"T_f5ab9_row1_col1\" class=\"data row1 col1\" >16</td>\n",
       "      <td id=\"T_f5ab9_row1_col2\" class=\"data row1 col2\" >30</td>\n",
       "      <td id=\"T_f5ab9_row1_col3\" class=\"data row1 col3\" >random</td>\n",
       "      <td id=\"T_f5ab9_row1_col4\" class=\"data row1 col4\" >BI_BACK</td>\n",
       "      <td id=\"T_f5ab9_row1_col5\" class=\"data row1 col5\" >27028.361179</td>\n",
       "      <td id=\"T_f5ab9_row1_col6\" class=\"data row1 col6\" >883.609451</td>\n",
       "      <td id=\"T_f5ab9_row1_col7\" class=\"data row1 col7\" >9097.200000</td>\n",
       "      <td id=\"T_f5ab9_row1_col8\" class=\"data row1 col8\" >1.015846</td>\n",
       "      <td id=\"T_f5ab9_row1_col9\" class=\"data row1 col9\" >0.000000</td>\n",
       "      <td id=\"T_f5ab9_row1_col10\" class=\"data row1 col10\" >0.000000</td>\n",
       "      <td id=\"T_f5ab9_row1_col11\" class=\"data row1 col11\" >0.000000</td>\n",
       "      <td id=\"T_f5ab9_row1_col12\" class=\"data row1 col12\" >0.000000</td>\n",
       "      <td id=\"T_f5ab9_row1_col13\" class=\"data row1 col13\" >1.875000</td>\n",
       "    </tr>\n",
       "    <tr>\n",
       "      <th id=\"T_f5ab9_level0_row2\" class=\"row_heading level0 row2\" >65</th>\n",
       "      <td id=\"T_f5ab9_row2_col0\" class=\"data row2 col0\" >65</td>\n",
       "      <td id=\"T_f5ab9_row2_col1\" class=\"data row2 col1\" >16</td>\n",
       "      <td id=\"T_f5ab9_row2_col2\" class=\"data row2 col2\" >40</td>\n",
       "      <td id=\"T_f5ab9_row2_col3\" class=\"data row2 col3\" >random</td>\n",
       "      <td id=\"T_f5ab9_row2_col4\" class=\"data row2 col4\" >BI_BACK</td>\n",
       "      <td id=\"T_f5ab9_row2_col5\" class=\"data row2 col5\" >42083.631002</td>\n",
       "      <td id=\"T_f5ab9_row2_col6\" class=\"data row2 col6\" >1687.343954</td>\n",
       "      <td id=\"T_f5ab9_row2_col7\" class=\"data row2 col7\" >19051.800000</td>\n",
       "      <td id=\"T_f5ab9_row2_col8\" class=\"data row2 col8\" >2.235287</td>\n",
       "      <td id=\"T_f5ab9_row2_col9\" class=\"data row2 col9\" >0.000000</td>\n",
       "      <td id=\"T_f5ab9_row2_col10\" class=\"data row2 col10\" >0.000000</td>\n",
       "      <td id=\"T_f5ab9_row2_col11\" class=\"data row2 col11\" >0.000000</td>\n",
       "      <td id=\"T_f5ab9_row2_col12\" class=\"data row2 col12\" >0.000000</td>\n",
       "      <td id=\"T_f5ab9_row2_col13\" class=\"data row2 col13\" >2.500000</td>\n",
       "    </tr>\n",
       "    <tr>\n",
       "      <th id=\"T_f5ab9_level0_row3\" class=\"row_heading level0 row3\" >67</th>\n",
       "      <td id=\"T_f5ab9_row3_col0\" class=\"data row3 col0\" >67</td>\n",
       "      <td id=\"T_f5ab9_row3_col1\" class=\"data row3 col1\" >16</td>\n",
       "      <td id=\"T_f5ab9_row3_col2\" class=\"data row3 col2\" >50</td>\n",
       "      <td id=\"T_f5ab9_row3_col3\" class=\"data row3 col3\" >random</td>\n",
       "      <td id=\"T_f5ab9_row3_col4\" class=\"data row3 col4\" >BI_BACK</td>\n",
       "      <td id=\"T_f5ab9_row3_col5\" class=\"data row3 col5\" >57677.620448</td>\n",
       "      <td id=\"T_f5ab9_row3_col6\" class=\"data row3 col6\" >2608.048226</td>\n",
       "      <td id=\"T_f5ab9_row3_col7\" class=\"data row3 col7\" >32466.000000</td>\n",
       "      <td id=\"T_f5ab9_row3_col8\" class=\"data row3 col8\" >3.888880</td>\n",
       "      <td id=\"T_f5ab9_row3_col9\" class=\"data row3 col9\" >0.000000</td>\n",
       "      <td id=\"T_f5ab9_row3_col10\" class=\"data row3 col10\" >0.000000</td>\n",
       "      <td id=\"T_f5ab9_row3_col11\" class=\"data row3 col11\" >0.000000</td>\n",
       "      <td id=\"T_f5ab9_row3_col12\" class=\"data row3 col12\" >0.000000</td>\n",
       "      <td id=\"T_f5ab9_row3_col13\" class=\"data row3 col13\" >3.125000</td>\n",
       "    </tr>\n",
       "    <tr>\n",
       "      <th id=\"T_f5ab9_level0_row4\" class=\"row_heading level0 row4\" >69</th>\n",
       "      <td id=\"T_f5ab9_row4_col0\" class=\"data row4 col0\" >69</td>\n",
       "      <td id=\"T_f5ab9_row4_col1\" class=\"data row4 col1\" >16</td>\n",
       "      <td id=\"T_f5ab9_row4_col2\" class=\"data row4 col2\" >60</td>\n",
       "      <td id=\"T_f5ab9_row4_col3\" class=\"data row4 col3\" >random</td>\n",
       "      <td id=\"T_f5ab9_row4_col4\" class=\"data row4 col4\" >BI_BACK</td>\n",
       "      <td id=\"T_f5ab9_row4_col5\" class=\"data row4 col5\" >74155.091455</td>\n",
       "      <td id=\"T_f5ab9_row4_col6\" class=\"data row4 col6\" >3526.350408</td>\n",
       "      <td id=\"T_f5ab9_row4_col7\" class=\"data row4 col7\" >49560.300000</td>\n",
       "      <td id=\"T_f5ab9_row4_col8\" class=\"data row4 col8\" >5.989835</td>\n",
       "      <td id=\"T_f5ab9_row4_col9\" class=\"data row4 col9\" >0.000000</td>\n",
       "      <td id=\"T_f5ab9_row4_col10\" class=\"data row4 col10\" >0.000000</td>\n",
       "      <td id=\"T_f5ab9_row4_col11\" class=\"data row4 col11\" >0.000000</td>\n",
       "      <td id=\"T_f5ab9_row4_col12\" class=\"data row4 col12\" >0.000000</td>\n",
       "      <td id=\"T_f5ab9_row4_col13\" class=\"data row4 col13\" >3.750000</td>\n",
       "    </tr>\n",
       "    <tr>\n",
       "      <th id=\"T_f5ab9_level0_row5\" class=\"row_heading level0 row5\" >71</th>\n",
       "      <td id=\"T_f5ab9_row5_col0\" class=\"data row5 col0\" >71</td>\n",
       "      <td id=\"T_f5ab9_row5_col1\" class=\"data row5 col1\" >16</td>\n",
       "      <td id=\"T_f5ab9_row5_col2\" class=\"data row5 col2\" >70</td>\n",
       "      <td id=\"T_f5ab9_row5_col3\" class=\"data row5 col3\" >random</td>\n",
       "      <td id=\"T_f5ab9_row5_col4\" class=\"data row5 col4\" >BI_BACK</td>\n",
       "      <td id=\"T_f5ab9_row5_col5\" class=\"data row5 col5\" >90839.789660</td>\n",
       "      <td id=\"T_f5ab9_row5_col6\" class=\"data row5 col6\" >4523.495940</td>\n",
       "      <td id=\"T_f5ab9_row5_col7\" class=\"data row5 col7\" >70150.500000</td>\n",
       "      <td id=\"T_f5ab9_row5_col8\" class=\"data row5 col8\" >8.553366</td>\n",
       "      <td id=\"T_f5ab9_row5_col9\" class=\"data row5 col9\" >0.000000</td>\n",
       "      <td id=\"T_f5ab9_row5_col10\" class=\"data row5 col10\" >0.000000</td>\n",
       "      <td id=\"T_f5ab9_row5_col11\" class=\"data row5 col11\" >0.000000</td>\n",
       "      <td id=\"T_f5ab9_row5_col12\" class=\"data row5 col12\" >0.000000</td>\n",
       "      <td id=\"T_f5ab9_row5_col13\" class=\"data row5 col13\" >4.375000</td>\n",
       "    </tr>\n",
       "    <tr>\n",
       "      <th id=\"T_f5ab9_level0_row6\" class=\"row_heading level0 row6\" >73</th>\n",
       "      <td id=\"T_f5ab9_row6_col0\" class=\"data row6 col0\" >73</td>\n",
       "      <td id=\"T_f5ab9_row6_col1\" class=\"data row6 col1\" >16</td>\n",
       "      <td id=\"T_f5ab9_row6_col2\" class=\"data row6 col2\" >80</td>\n",
       "      <td id=\"T_f5ab9_row6_col3\" class=\"data row6 col3\" >random</td>\n",
       "      <td id=\"T_f5ab9_row6_col4\" class=\"data row6 col4\" >BI_BACK</td>\n",
       "      <td id=\"T_f5ab9_row6_col5\" class=\"data row6 col5\" >106485.618080</td>\n",
       "      <td id=\"T_f5ab9_row6_col6\" class=\"data row6 col6\" >5490.127312</td>\n",
       "      <td id=\"T_f5ab9_row6_col7\" class=\"data row6 col7\" >94718.400000</td>\n",
       "      <td id=\"T_f5ab9_row6_col8\" class=\"data row6 col8\" >12.120796</td>\n",
       "      <td id=\"T_f5ab9_row6_col9\" class=\"data row6 col9\" >0.000000</td>\n",
       "      <td id=\"T_f5ab9_row6_col10\" class=\"data row6 col10\" >0.000000</td>\n",
       "      <td id=\"T_f5ab9_row6_col11\" class=\"data row6 col11\" >0.000000</td>\n",
       "      <td id=\"T_f5ab9_row6_col12\" class=\"data row6 col12\" >0.000000</td>\n",
       "      <td id=\"T_f5ab9_row6_col13\" class=\"data row6 col13\" >5.000000</td>\n",
       "    </tr>\n",
       "    <tr>\n",
       "      <th id=\"T_f5ab9_level0_row7\" class=\"row_heading level0 row7\" >75</th>\n",
       "      <td id=\"T_f5ab9_row7_col0\" class=\"data row7 col0\" >75</td>\n",
       "      <td id=\"T_f5ab9_row7_col1\" class=\"data row7 col1\" >16</td>\n",
       "      <td id=\"T_f5ab9_row7_col2\" class=\"data row7 col2\" >90</td>\n",
       "      <td id=\"T_f5ab9_row7_col3\" class=\"data row7 col3\" >random</td>\n",
       "      <td id=\"T_f5ab9_row7_col4\" class=\"data row7 col4\" >BI_BACK</td>\n",
       "      <td id=\"T_f5ab9_row7_col5\" class=\"data row7 col5\" >123547.025957</td>\n",
       "      <td id=\"T_f5ab9_row7_col6\" class=\"data row7 col6\" >6486.076909</td>\n",
       "      <td id=\"T_f5ab9_row7_col7\" class=\"data row7 col7\" >123581.700000</td>\n",
       "      <td id=\"T_f5ab9_row7_col8\" class=\"data row7 col8\" >15.340886</td>\n",
       "      <td id=\"T_f5ab9_row7_col9\" class=\"data row7 col9\" >0.000000</td>\n",
       "      <td id=\"T_f5ab9_row7_col10\" class=\"data row7 col10\" >0.000000</td>\n",
       "      <td id=\"T_f5ab9_row7_col11\" class=\"data row7 col11\" >0.000000</td>\n",
       "      <td id=\"T_f5ab9_row7_col12\" class=\"data row7 col12\" >0.000000</td>\n",
       "      <td id=\"T_f5ab9_row7_col13\" class=\"data row7 col13\" >5.625000</td>\n",
       "    </tr>\n",
       "    <tr>\n",
       "      <th id=\"T_f5ab9_level0_row8\" class=\"row_heading level0 row8\" >77</th>\n",
       "      <td id=\"T_f5ab9_row8_col0\" class=\"data row8 col0\" >77</td>\n",
       "      <td id=\"T_f5ab9_row8_col1\" class=\"data row8 col1\" >16</td>\n",
       "      <td id=\"T_f5ab9_row8_col2\" class=\"data row8 col2\" >100</td>\n",
       "      <td id=\"T_f5ab9_row8_col3\" class=\"data row8 col3\" >random</td>\n",
       "      <td id=\"T_f5ab9_row8_col4\" class=\"data row8 col4\" >BI_BACK</td>\n",
       "      <td id=\"T_f5ab9_row8_col5\" class=\"data row8 col5\" >140354.173711</td>\n",
       "      <td id=\"T_f5ab9_row8_col6\" class=\"data row8 col6\" >7486.183512</td>\n",
       "      <td id=\"T_f5ab9_row8_col7\" class=\"data row8 col7\" >155668.500000</td>\n",
       "      <td id=\"T_f5ab9_row8_col8\" class=\"data row8 col8\" >19.117406</td>\n",
       "      <td id=\"T_f5ab9_row8_col9\" class=\"data row8 col9\" >0.000000</td>\n",
       "      <td id=\"T_f5ab9_row8_col10\" class=\"data row8 col10\" >0.000000</td>\n",
       "      <td id=\"T_f5ab9_row8_col11\" class=\"data row8 col11\" >0.000000</td>\n",
       "      <td id=\"T_f5ab9_row8_col12\" class=\"data row8 col12\" >0.000000</td>\n",
       "      <td id=\"T_f5ab9_row8_col13\" class=\"data row8 col13\" >6.250000</td>\n",
       "    </tr>\n",
       "    <tr>\n",
       "      <th id=\"T_f5ab9_level0_row9\" class=\"row_heading level0 row9\" >79</th>\n",
       "      <td id=\"T_f5ab9_row9_col0\" class=\"data row9 col0\" >79</td>\n",
       "      <td id=\"T_f5ab9_row9_col1\" class=\"data row9 col1\" >16</td>\n",
       "      <td id=\"T_f5ab9_row9_col2\" class=\"data row9 col2\" >200</td>\n",
       "      <td id=\"T_f5ab9_row9_col3\" class=\"data row9 col3\" >random</td>\n",
       "      <td id=\"T_f5ab9_row9_col4\" class=\"data row9 col4\" >BI_BACK</td>\n",
       "      <td id=\"T_f5ab9_row9_col5\" class=\"data row9 col5\" >306852.143045</td>\n",
       "      <td id=\"T_f5ab9_row9_col6\" class=\"data row9 col6\" >17753.474353</td>\n",
       "      <td id=\"T_f5ab9_row9_col7\" class=\"data row9 col7\" >696177.000000</td>\n",
       "      <td id=\"T_f5ab9_row9_col8\" class=\"data row9 col8\" >84.434516</td>\n",
       "      <td id=\"T_f5ab9_row9_col9\" class=\"data row9 col9\" >0.000000</td>\n",
       "      <td id=\"T_f5ab9_row9_col10\" class=\"data row9 col10\" >0.000000</td>\n",
       "      <td id=\"T_f5ab9_row9_col11\" class=\"data row9 col11\" >0.000000</td>\n",
       "      <td id=\"T_f5ab9_row9_col12\" class=\"data row9 col12\" >0.000000</td>\n",
       "      <td id=\"T_f5ab9_row9_col13\" class=\"data row9 col13\" >12.500000</td>\n",
       "    </tr>\n",
       "  </tbody>\n",
       "</table>\n"
      ],
      "text/plain": [
       "<pandas.io.formats.style.Styler at 0x29acd55dd00>"
      ]
     },
     "metadata": {},
     "output_type": "display_data"
    },
    {
     "name": "stdout",
     "output_type": "stream",
     "text": [
      "None\n"
     ]
    }
   ],
   "source": [
    "grouped_cols = [\"num_clusters\",\"Nb. points\",\"init_type\",\"algorithm\"]\n",
    "df_compil = orig_df.groupby(grouped_cols).mean().reset_index()\n",
    "df_BI = df_compil[df_compil[\"algorithm\"] == \"BI_BACK\"].copy().set_index(grouped_cols)\n",
    "Ldf = []\n",
    "for algo in pd.unique(df_compil[\"algorithm\"]):\n",
    "    df_algo = df_compil[df_compil[\"algorithm\"] == algo].copy()\n",
    "    df_algo[\"algorithm\"] = \"BI_BACK\"\n",
    "    df_algo = df_algo.set_index(grouped_cols)\n",
    "    df_algo_orig = df_algo.copy()\n",
    "    df_algo = (df_algo - df_BI)/df_BI*100\n",
    "    df_algo.columns = [\"prct_amelioration_\"+c for c in df_algo.columns]\n",
    "    df_algo = pd.concat([df_algo_orig,df_algo],axis=1)\n",
    "    df_algo = df_algo.reset_index()\n",
    "    df_algo[\"algorithm\"] = algo\n",
    "    Ldf.append(df_algo)\n",
    "df_compil = pd.concat(Ldf,axis=0)\n",
    "df_compil.loc[:,\"Nb pts par cluster\"] = df_compil[\"Nb. points\"]/df_compil[\"num_clusters\"]\n",
    "# print(display(df_compil[df_compil[\"algorithm\"]!=\"BI_BACK\"].head()))\n",
    "\n",
    "# sample the colormaps that you want to use. Use 128 from each so we get 256\n",
    "def generate_cmap(negative_good=True):\n",
    "    # thanks to https://stackoverflow.com/questions/31051488/combining-two-matplotlib-colormaps\n",
    "    # colors in total\n",
    "    Lintervals = [\n",
    "        (1,0),\n",
    "        (0.,1.)\n",
    "    ]\n",
    "    Lcmap_names = [\"Reds\",\"Greens\"]\n",
    "    if negative_good:\n",
    "        Lcmap_names = Lcmap_names[::-1]\n",
    "    Lcmaps = [\n",
    "        plt.get_cmap(name)(np.linspace(*interval,128)) for name,interval in zip(Lcmap_names,Lintervals)\n",
    "    ]\n",
    "    \n",
    "\n",
    "    # combine them and build a new colormap\n",
    "    colors = np.vstack(Lcmaps)\n",
    "    mymap = mcolors.LinearSegmentedColormap.from_list('my_colormap', colors)\n",
    "    return mymap\n",
    "def select_col(x):\n",
    "    c1 = 'background-color: red'\n",
    "    c2 = '' \n",
    "    #compare columns\n",
    "    mask = x['Diff'] > x['HistoricStandardDev']\n",
    "    #DataFrame with same index and columns names as original filled empty strings\n",
    "    df1 =  pd.DataFrame(c2, index=x.index, columns=x.columns)\n",
    "    #modify values of df1 column by boolean mask\n",
    "    df1.loc[mask, 'Current'] = c1\n",
    "    return df1\n",
    "\n",
    "# Colors\n",
    "Lindexes = [f\"prct_amelioration_{col}\" for col in [\"end_cost\",\"num_iter_tot\",\"time\"]]\n",
    "df = df_compil.copy().reset_index()\n",
    "df = df.query(QUERY)\n",
    "styler = df.copy().style\n",
    "for indexes,negative_good in zip(Lindexes,[False,False,False]):\n",
    "    maxi = df[indexes].abs().max()\n",
    "    styler.background_gradient(cmap=generate_cmap(negative_good=negative_good), subset=indexes,vmin=-maxi,vmax=maxi)\n",
    "print(display(styler))\n"
   ]
  },
  {
   "cell_type": "markdown",
   "metadata": {},
   "source": [
    "# Observations"
   ]
  },
  {
   "cell_type": "markdown",
   "metadata": {},
   "source": [
    "\n",
    "## Initialisation random\n",
    "\n",
    "Coût final\n",
    "- A partir d'environ 5 points par cluster il devient plus intéressant d'utiliser BI_BACK\n",
    "- Pour 2 clusters un comportement plus instable est observé\n",
    "\n",
    "Temps de calcul et nombre d'itérations\n",
    "- à partir de 1.25 points par cluster il devient plus intéressant d'utiliser FI_BACK (si nombre de clusters >= 16)\n",
    "\n",
    "## Initialisation KMeans+\n",
    "\n",
    "Coût final\n",
    "- BI_BACK et FI très similaires.\n",
    "- BI_BACK est plus meilleur si nb points/cluster $\\in [3.12,5.63]$ pour num_clusters >= 16\n",
    "- BI_BACK est plus meilleur si nb points/cluster > 6.25,11.25 pour num_clusters < 16 : tendance moins visible\n",
    "\n",
    "Temps de calcul et nombre d'itérations\n",
    "- BI_BACK toujours meilleur\n",
    "\n",
    "## Comparaison FI_BACK, FI_CURR, FI_RANDOM\n",
    "\n",
    "- Pour nb points/cluster < 30 mêmes ordre de grandeur pour chaque algorithme\n",
    "- "
   ]
  },
  {
   "cell_type": "markdown",
   "metadata": {},
   "source": [
    "# % improvement of COLUMN = f(combination of number of points / cluster, algorithm, initialization) ?"
   ]
  },
  {
   "cell_type": "code",
   "execution_count": 5,
   "metadata": {},
   "outputs": [],
   "source": [
    "COLUMN = \"prct_amelioration_end_cost\""
   ]
  },
  {
   "cell_type": "code",
   "execution_count": 6,
   "metadata": {},
   "outputs": [
    {
     "data": {
      "application/vnd.plotly.v1+json": {
       "config": {
        "plotlyServerURL": "https://plot.ly"
       },
       "data": [
        {
         "customdata": [
          [
           0
          ],
          [
           0
          ],
          [
           0
          ],
          [
           0
          ],
          [
           0
          ],
          [
           0
          ],
          [
           0
          ],
          [
           0
          ],
          [
           0
          ],
          [
           0
          ],
          [
           0
          ],
          [
           0
          ],
          [
           0
          ],
          [
           0
          ],
          [
           0
          ],
          [
           0
          ],
          [
           0
          ],
          [
           0
          ],
          [
           0
          ],
          [
           0
          ],
          [
           0
          ],
          [
           0
          ],
          [
           0
          ],
          [
           0
          ],
          [
           0
          ],
          [
           0
          ],
          [
           0
          ],
          [
           0
          ],
          [
           0
          ],
          [
           0
          ],
          [
           0
          ],
          [
           0
          ],
          [
           0
          ],
          [
           0
          ],
          [
           0
          ],
          [
           0
          ],
          [
           0
          ],
          [
           0
          ],
          [
           0
          ],
          [
           0
          ],
          [
           0
          ],
          [
           0
          ],
          [
           0
          ],
          [
           0
          ],
          [
           0
          ],
          [
           0
          ],
          [
           0
          ],
          [
           0
          ],
          [
           0
          ],
          [
           0
          ],
          [
           0
          ],
          [
           0
          ],
          [
           0
          ],
          [
           0
          ],
          [
           0
          ],
          [
           0
          ],
          [
           0
          ],
          [
           0
          ],
          [
           0
          ],
          [
           0
          ],
          [
           0
          ],
          [
           0
          ],
          [
           0
          ],
          [
           0
          ],
          [
           0
          ],
          [
           0
          ],
          [
           0
          ],
          [
           0
          ],
          [
           0
          ],
          [
           0
          ],
          [
           0
          ],
          [
           0
          ],
          [
           0
          ],
          [
           0
          ],
          [
           0
          ],
          [
           0
          ],
          [
           0
          ],
          [
           0
          ],
          [
           0
          ],
          [
           0
          ],
          [
           0
          ],
          [
           0
          ],
          [
           0
          ],
          [
           0
          ],
          [
           0
          ],
          [
           0
          ],
          [
           0
          ],
          [
           0
          ],
          [
           0
          ],
          [
           0
          ],
          [
           0
          ],
          [
           0
          ],
          [
           0
          ],
          [
           0
          ],
          [
           0
          ],
          [
           0
          ],
          [
           0
          ],
          [
           0
          ],
          [
           0
          ],
          [
           0
          ],
          [
           0
          ],
          [
           0
          ],
          [
           0
          ],
          [
           0
          ],
          [
           0
          ],
          [
           1.180995195096384
          ],
          [
           -0.3689591272566944
          ],
          [
           -1.096042735797241
          ],
          [
           -0.0671200058704346
          ],
          [
           0.6756672282496373
          ],
          [
           -0.7909383097524406
          ],
          [
           -0.061144872009556074
          ],
          [
           0.0027241561737011174
          ],
          [
           -0.17060848336557743
          ],
          [
           0.660749909132614
          ],
          [
           -0.13097758521482822
          ],
          [
           -0.3162286485663369
          ],
          [
           -0.35973368753869117
          ],
          [
           -0.4110332665869354
          ],
          [
           0.3969962949914577
          ],
          [
           -0.0031980451637366606
          ],
          [
           -0.2353608216363756
          ],
          [
           -0.13222640772922198
          ],
          [
           -0.19081783314487555
          ],
          [
           0.13866590164356768
          ],
          [
           0.349880343209717
          ],
          [
           0.3084287378286293
          ],
          [
           -0.5006566645408754
          ],
          [
           -2.503462592230688
          ],
          [
           1.0800057087184063
          ],
          [
           -1.6041360434732996
          ],
          [
           -0.25413461010541477
          ],
          [
           -1.5443681193659748
          ],
          [
           -0.4602425068584109
          ],
          [
           -1.2017922766062217
          ],
          [
           0.1831495443999884
          ],
          [
           -1.367111360976827
          ],
          [
           -0.08674225014818164
          ],
          [
           -1.7618027719165252
          ],
          [
           -0.45448556279767593
          ],
          [
           -0.8931858933316464
          ],
          [
           -0.2962153831561102
          ],
          [
           -0.9220923712284383
          ],
          [
           0.3288074853387536
          ],
          [
           -0.06639594328412884
          ],
          [
           1.3146443408346453
          ],
          [
           5.330730767435296
          ],
          [
           0.9947837376193505
          ],
          [
           1.0135527958042991
          ],
          [
           0.37649531980740913
          ],
          [
           -0.3097319743412047
          ],
          [
           -0.14124202677663703
          ],
          [
           -0.8668014457690094
          ],
          [
           -0.563358063712492
          ],
          [
           -1.1588461448396017
          ],
          [
           -0.3658471446342153
          ],
          [
           -1.0216298922084133
          ],
          [
           -0.043160708113115086
          ],
          [
           -1.3900602979757652
          ],
          [
           -0.27581473291441305
          ],
          [
           -1.874284528839505
          ],
          [
           0.07718805322933185
          ],
          [
           -1.6174149731781151
          ],
          [
           0.19770787741849932
          ],
          [
           -1.9279611944291466
          ],
          [
           43.48177686559488
          ],
          [
           28.109633288383662
          ],
          [
           4.76926323167663
          ],
          [
           11.068756200997726
          ],
          [
           2.3360209136963883
          ],
          [
           4.788147905263722
          ],
          [
           0.14968014600260582
          ],
          [
           2.881044687606139
          ],
          [
           -0.9230145384543307
          ],
          [
           1.949481593367936
          ],
          [
           -0.07043009449316937
          ],
          [
           -0.7559412234642918
          ],
          [
           -1.1023943078436718
          ],
          [
           -0.9038757965913481
          ],
          [
           -1.5826664389451466
          ],
          [
           -1.3549212667494734
          ],
          [
           0.4086968885104065
          ],
          [
           -1.3166622473473448
          ],
          [
           -0.4292458743606842
          ],
          [
           -2.8728391577172046
          ],
          [
           63.724268069085596
          ],
          [
           30.41935899491404
          ],
          [
           21.507319105779736
          ],
          [
           17.57043919043624
          ],
          [
           7.716454204532915
          ],
          [
           10.468025702712426
          ],
          [
           2.9273234128580508
          ],
          [
           6.948180949375381
          ],
          [
           0.4831154740125615
          ],
          [
           5.487283679317024
          ],
          [
           1.4221776660968175
          ],
          [
           2.5587075442740908
          ],
          [
           -0.27144961646110927
          ],
          [
           2.2154278853918616
          ],
          [
           -2.0551723638597372
          ],
          [
           -2.647129636941065
          ],
          [
           234.9758746331228
          ],
          [
           40.130135224429615
          ],
          [
           79.53173582162664
          ],
          [
           27.74322995553292
          ],
          [
           38.20543598950305
          ],
          [
           20.13808418409898
          ],
          [
           23.330327693662003
          ],
          [
           16.45873248869927
          ],
          [
           null
          ],
          [
           -0.05608744346246089
          ],
          [
           -1.0215943764302131
          ],
          [
           0.38063022722938256
          ],
          [
           -0.19478151579724384
          ],
          [
           0.25853370698982364
          ],
          [
           0.5307673853485064
          ],
          [
           -0.7188462654212321
          ],
          [
           0.30205660202650114
          ],
          [
           -0.07936281352285446
          ],
          [
           -0.08367440002360586
          ],
          [
           -0.05803001025945063
          ],
          [
           -0.6366298907082403
          ],
          [
           -0.21464965404318428
          ],
          [
           0.4465700136085726
          ],
          [
           -0.15519461966429554
          ],
          [
           0.45907921731530266
          ],
          [
           -0.3145257527759302
          ],
          [
           0.033891810306493235
          ],
          [
           -0.04191097102930421
          ],
          [
           0.4091108973023578
          ],
          [
           1.2865186425420587
          ],
          [
           -0.24695796174413429
          ],
          [
           -0.5921862820094379
          ],
          [
           -1.8325677360158819
          ],
          [
           1.7719826062077302
          ],
          [
           -1.4546793500846988
          ],
          [
           -0.4742294604657807
          ],
          [
           -0.992164847385947
          ],
          [
           0.024576126572155955
          ],
          [
           -1.3194829712996987
          ],
          [
           0.0875171881092478
          ],
          [
           -1.1229259290946703
          ],
          [
           0.1341220910494033
          ],
          [
           -1.6403865013718246
          ],
          [
           -0.1771460319328207
          ],
          [
           -0.3989735107524193
          ],
          [
           0.28068718468762033
          ],
          [
           -1.150247041560911
          ],
          [
           0.2626195259508419
          ],
          [
           -0.22541137496797956
          ],
          [
           0.2722337073227757
          ],
          [
           6.9132260320035925
          ],
          [
           0.331298347083666
          ],
          [
           0.7639761155048588
          ],
          [
           1.122721352071705
          ],
          [
           -0.6370257248380079
          ],
          [
           -0.1317928724430733
          ],
          [
           -1.1920171326013929
          ],
          [
           -0.6682626580606756
          ],
          [
           -1.034219083217491
          ],
          [
           -0.6816018389424152
          ],
          [
           -1.1836469681800215
          ],
          [
           0.23495830723847733
          ],
          [
           -1.898194946477569
          ],
          [
           -0.18589479181044866
          ],
          [
           -2.121432013460689
          ],
          [
           -0.27886833535741273
          ],
          [
           -1.6582661621150536
          ],
          [
           0.017843651966375124
          ],
          [
           -2.2747162688416025
          ],
          [
           45.50847428939281
          ],
          [
           25.302620823451594
          ],
          [
           5.86465575417963
          ],
          [
           9.909102938701439
          ],
          [
           1.5029722836755164
          ],
          [
           6.1102000109369285
          ],
          [
           0.48752330362848656
          ],
          [
           1.794452007977414
          ],
          [
           -1.2420176833680208
          ],
          [
           0.46380895110135073
          ],
          [
           -0.9137024643617627
          ],
          [
           -0.5071343223334145
          ],
          [
           -1.0451356753973409
          ],
          [
           -0.39652708838943396
          ],
          [
           -0.602091896055906
          ],
          [
           -1.5018465826726057
          ],
          [
           0.3200049925046593
          ],
          [
           -2.004624948810819
          ],
          [
           -0.23246181972469865
          ],
          [
           -2.803721680574604
          ],
          [
           60.64515352730714
          ],
          [
           28.499108614476093
          ],
          [
           22.337400654960994
          ],
          [
           14.136221036954687
          ],
          [
           8.099134189741235
          ],
          [
           9.363429153243759
          ],
          [
           3.42247890250797
          ],
          [
           6.532684337008883
          ],
          [
           1.0410061208043986
          ],
          [
           5.042309078222195
          ],
          [
           1.407841799116353
          ],
          [
           3.1205155502156834
          ],
          [
           -0.9029562788946139
          ],
          [
           1.7685267124664603
          ],
          [
           -2.5735637191434266
          ],
          [
           -3.3867359864001667
          ],
          [
           238.43545418347634
          ],
          [
           32.90081672148707
          ],
          [
           84.4918399544514
          ],
          [
           23.890189929570514
          ],
          [
           39.91078703336958
          ],
          [
           18.511692842691136
          ],
          [
           22.57199481926329
          ],
          [
           15.251637474547033
          ],
          [
           -0.14942328222241463
          ],
          [
           0.7623098154341965
          ],
          [
           -1.424605352040746
          ],
          [
           1.024905985182906
          ],
          [
           0.15205913197640844
          ],
          [
           0.5383323300369369
          ],
          [
           -1.0337920818723214
          ],
          [
           -0.8265099517359046
          ],
          [
           -0.32889969354302856
          ],
          [
           -0.0362032800442452
          ],
          [
           0.21122688624205785
          ],
          [
           -0.7700563387899422
          ],
          [
           -0.8604391299561575
          ],
          [
           0.19566690764683475
          ],
          [
           -0.03969409362629779
          ],
          [
           -0.14822840685255406
          ],
          [
           -0.08778021305132493
          ],
          [
           -0.6167754383334154
          ],
          [
           -0.10485820134244253
          ],
          [
           0.15194143383444872
          ],
          [
           0.29613116908026654
          ],
          [
           0.7566695455509469
          ],
          [
           0.43136467624778196
          ],
          [
           0.8719179597300635
          ],
          [
           -1.7188214445272674
          ],
          [
           -0.3827143524060497
          ],
          [
           -1.3075634318034268
          ],
          [
           -0.6954183066644195
          ],
          [
           -0.6999874355551513
          ],
          [
           -0.2500029464555531
          ],
          [
           -1.1147242976947647
          ],
          [
           -0.273168210378199
          ],
          [
           -1.6178063364028286
          ],
          [
           0.36928144156633314
          ],
          [
           -1.3881453354605584
          ],
          [
           -0.2521158532469989
          ],
          [
           -1.0546690359286892
          ],
          [
           0.10254981532229587
          ],
          [
           -0.9459473377070319
          ],
          [
           0.3231907836592006
          ],
          [
           -0.351547937849501
          ],
          [
           -1.232236596779369
          ],
          [
           5.104327895241049
          ],
          [
           0.24613839075689745
          ],
          [
           0.4728748768614698
          ],
          [
           0.5006164434345495
          ],
          [
           -0.6624715095765568
          ],
          [
           -0.210308282578444
          ],
          [
           -1.0139404048094056
          ],
          [
           -0.7534570316807587
          ],
          [
           -0.7283130953164009
          ],
          [
           -0.4964368489168292
          ],
          [
           -1.644722644172637
          ],
          [
           -0.7515832192927382
          ],
          [
           -1.804523080110913
          ],
          [
           0.06659143399751308
          ],
          [
           -1.9736441224906234
          ],
          [
           0.021466045954087465
          ],
          [
           -1.9491022160063531
          ],
          [
           0.021913141204657254
          ],
          [
           -2.315634867595782
          ],
          [
           42.93595651089917
          ],
          [
           24.180263462377457
          ],
          [
           5.12286507516853
          ],
          [
           11.178185961575304
          ],
          [
           2.4177011849913557
          ],
          [
           5.7179811889856165
          ],
          [
           1.0671540833949995
          ],
          [
           1.5354655829997386
          ],
          [
           -1.0015144405881709
          ],
          [
           1.2991301078776893
          ],
          [
           0.06206670706646494
          ],
          [
           -0.47543041960571547
          ],
          [
           -0.9262695292817603
          ],
          [
           -0.9860451023615469
          ],
          [
           -1.5399006239806576
          ],
          [
           -1.7064744396483769
          ],
          [
           0.10729011345176369
          ],
          [
           -1.7526093947111416
          ],
          [
           -0.5268722201467755
          ],
          [
           -2.5544185145461227
          ],
          [
           65.5391123436312
          ],
          [
           28.292357295762443
          ],
          [
           19.522306672962948
          ],
          [
           15.552065451562926
          ],
          [
           7.9991998524857095
          ],
          [
           8.480143715643676
          ],
          [
           3.446493439496779
          ],
          [
           6.316975754977452
          ],
          [
           0.8254038037670814
          ],
          [
           4.671605606790654
          ],
          [
           1.4247950673811038
          ],
          [
           2.4026482991077716
          ],
          [
           -0.5405921783711745
          ],
          [
           1.6529336382803548
          ],
          [
           -2.957805037639808
          ],
          [
           -3.3126336060521724
          ],
          [
           240.9552284109298
          ],
          [
           31.678008012428112
          ],
          [
           83.05695447845581
          ],
          [
           24.36195915562611
          ],
          [
           40.306968686328624
          ],
          [
           19.05707868057861
          ],
          [
           23.111296276395507
          ],
          [
           15.77418525072695
          ],
          [
           null
          ]
         ],
         "hovertemplate": "Nb pts par cluster=%{x}<br>init_type=%{y}<br>algorithm=%{z}<br>prct_amelioration_end_cost=%{customdata[0]}<br>color=%{marker.color}<extra></extra>",
         "legendgroup": "",
         "marker": {
          "color": [
           0,
           0,
           0,
           0,
           0,
           0,
           0,
           0,
           0,
           0,
           0,
           0,
           0,
           0,
           0,
           0,
           0,
           0,
           0,
           0,
           0,
           0,
           0,
           0,
           0,
           0,
           0,
           0,
           0,
           0,
           0,
           0,
           0,
           0,
           0,
           0,
           0,
           0,
           0,
           0,
           0,
           0,
           0,
           0,
           0,
           0,
           0,
           0,
           0,
           0,
           0,
           0,
           0,
           0,
           0,
           0,
           0,
           0,
           0,
           0,
           0,
           0,
           0,
           0,
           0,
           0,
           0,
           0,
           0,
           0,
           0,
           0,
           0,
           0,
           0,
           0,
           0,
           0,
           0,
           0,
           0,
           0,
           0,
           0,
           0,
           0,
           0,
           0,
           0,
           0,
           0,
           0,
           0,
           0,
           0,
           0,
           0,
           0,
           0,
           0,
           0,
           0,
           0,
           0,
           0,
           3.0722481306809395,
           -2.5669782583269583,
           -3.039827488052622,
           -1.8268519858048096,
           2.8297328549387393,
           -2.898142611463665,
           -1.7863600402547577,
           0.43523200171080356,
           -2.232000622301949,
           2.820037112078879,
           -2.1171969792402665,
           -2.500001212056257,
           -2.55598110956471,
           -2.613876972509828,
           2.5987864536843404,
           -0.5048845926882239,
           -2.371734171492909,
           -2.1213181993686825,
           -2.2806189598570747,
           2.1419696799006367,
           2.5439195438680073,
           2.489154836625788,
           -2.6995400016939683,
           -3.398541106376362,
           3.033426051096533,
           -3.205241197130396,
           -2.405063814811224,
           -3.1887508278352388,
           -2.6629867265480565,
           -3.07982940866534,
           2.262805842657582,
           -3.1358038923936506,
           -1.938230683829156,
           -3.2459572889440462,
           -2.6575200919652713,
           -2.950941855357077,
           -2.471607608696785,
           -2.9647744289770466,
           2.5169416957424433,
           -1.8221415452846033,
           3.118808276244252,
           3.7267867487095687,
           2.9977286769598734,
           3.0058463759488916,
           2.575759581879482,
           -2.4909860408852555,
           -2.1499639409187714,
           -2.9379196270236214,
           -2.7507845150386174,
           -3.0640257803272024,
           -2.5632996697987043,
           -3.0092935916077876,
           -1.6350885612911246,
           -3.1430336394700413,
           -2.440617460725037,
           -3.272835520343192,
           1.887550087666368,
           -3.2088214592633646,
           2.2960239735687558,
           -3.2850982882727795,
           4.638307283048928,
           4.448855179941476,
           3.678451293268363,
           4.044098821836993,
           3.368476726566338,
           3.6801675572414263,
           2.17516419811632,
           3.4595499946324573,
           -2.965208541676795,
           3.2899191390179907,
           -1.847758271067817,
           -2.878488029208258,
           -3.0423369621121124,
           -2.9561087572885243,
           -3.199389393074555,
           -3.131914059483708,
           2.6114013313550855,
           -3.1194743832187855,
           -2.6327061296896814,
           -3.458311311731149,
           4.804304855904619,
           4.4831500582408195,
           4.332586278814778,
           4.244782617249371,
           3.88741778308754,
           4.019864780315997,
           3.4664707062603988,
           3.841871120122202,
           2.6840509480032724,
           3.7393574127525544,
           3.152953854189587,
           3.408020649636187,
           -2.433689232365095,
           3.345457617835874,
           -3.3128482512894717,
           -3.4227752103718196,
           5.37102327481828,
           4.603470623155833,
           4.900540461259839,
           4.443157021632909,
           4.5821251600919295,
           4.304018152024453,
           4.367920838860178,
           4.216396386504472,
           null,
           -1.7488656447617026,
           -3.0092784936014345,
           2.5805032742233567,
           -2.2895477412071514,
           2.4125171733694497,
           2.724904228438158,
           -2.8566360208166475,
           2.4800883325082737,
           -1.899617055766474,
           -1.9225926069889248,
           -1.7636526473458911,
           -2.8038870255273607,
           -2.3317301928515297,
           2.6498895576034163,
           -2.1908766609259667,
           2.6618876325404037,
           -2.4976562104509012,
           1.5300947669820497,
           -1.6223277230572566,
           2.6118410477585803,
           3.1094160838184086,
           -2.3926230320598494,
           -2.772458342741548,
           -3.263060036155866,
           3.248459454534623,
           -3.1627672738472716,
           -2.6759885300729978,
           -2.996583835825793,
           1.390513435063958,
           -3.120403789767667,
           1.942093355512947,
           -3.050351110093702,
           2.127500315739023,
           -3.214946186850603,
           -2.2483314285914044,
           -2.6009440623134514,
           2.448222584538597,
           -3.0607911249314665,
           2.4193270130613405,
           -2.3529758281305715,
           2.434941897494674,
           3.8396807566288684,
           2.5202192691019007,
           2.883079781263403,
           3.050271982197537,
           -2.8041569706863876,
           -2.1198919235937668,
           -3.0762824974686254,
           -2.824947193801696,
           -3.014612547030705,
           -2.8335307534744096,
           -3.073222190027542,
           2.3709908046432906,
           -3.2783408128498506,
           -2.269267222371855,
           -3.326629118284119,
           -2.4453992042615544,
           -3.2196542387960903,
           1.2514837439039883,
           -3.3569272337135407,
           4.658092275655705,
           4.403165507350272,
           3.7682425248150704,
           3.9960343400144476,
           3.176950971832571,
           3.7860554266459125,
           2.687995379819936,
           3.253931847762991,
           -3.0941277792016577,
           2.666339125881122,
           -2.960804796256053,
           -2.7051230041498946,
           -3.019172672506067,
           -2.5982728611018207,
           -2.779662781796274,
           -3.176625570682982,
           2.5051567539458772,
           -3.3020331311217666,
           -2.366351633163588,
           -3.44773489995445,
           4.782796099836596,
           4.454831276504357,
           4.349032634003989,
           4.150333327272563,
           3.908438594592795,
           3.9714349288228297,
           3.5343407796540594,
           3.8150916733425326,
           3.017453283039605,
           3.702629463088209,
           3.1485538553523074,
           3.4942263511072675,
           -2.955666722301878,
           3.247611623941083,
           -3.4105349254635153,
           -3.5297813424614017,
           5.377370833330853,
           4.517206678899293,
           4.926814767720369,
           4.378219602451281,
           4.6010902920756624,
           4.267446135588281,
           4.353569941918506,
           4.183316473714475,
           -2.1744182718631584,
           2.882131511743619,
           -3.1536945715945373,
           3.0106840293050405,
           2.182012507004793,
           2.731050462548398,
           -3.0144332014510113,
           -2.917248087136709,
           -2.5170634688227773,
           -1.5587479197205547,
           2.3247491970218244,
           -2.886522500147181,
           -2.9347201524564945,
           2.291517381398273,
           -1.5987258897268963,
           -2.1709314408706804,
           -1.943396630586221,
           -2.79012707060604,
           -2.020602403885509,
           2.181676220419266,
           2.4714841211588032,
           2.8789062548274407,
           2.634844578553331,
           2.9404756233354323,
           -3.2352307634327184,
           -2.5828747492740707,
           -3.1164627663071864,
           -2.8422461191610036,
           -2.845090244702774,
           -2.397945127159426,
           -3.0471674675674887,
           -2.436430157452282,
           -3.208926532068887,
           2.567357482501084,
           -3.1424349380815584,
           -2.401600155320321,
           -3.023116195728227,
           2.010934882602191,
           -2.975866959256065,
           2.509458967625375,
           -2.54598455474411,
           -3.0906941029668165,
           3.707938565109626,
           2.3911793568704365,
           2.674746241208776,
           2.6995051105051338,
           -2.8211672056280936,
           -2.3228563768578914,
           -3.0060124297280644,
           -2.877058490312187,
           -2.8623181187865128,
           -2.6958640103111646,
           -3.216092671732137,
           -2.875977074981012,
           -3.2563624411202197,
           1.8234183672052262,
           -3.295268845612208,
           1.331752054754495,
           -3.289834615250761,
           1.3407046372625,
           -3.364670080318863,
           4.6328211423897,
           4.383461028519516,
           3.7095129176796924,
           4.048371330312469,
           3.383402623353246,
           3.757242722282344,
           3.0282271305181423,
           3.1862400863077016,
           -3.0006572156590954,
           3.1136526478426534,
           1.7928587046120812,
           -2.6770869658739684,
           -2.9667373776620325,
           -2.9938967803152035,
           -3.18749269496023,
           -3.2320997876027615,
           2.030559704527328,
           -3.243685135361457,
           -2.721705300575032,
           -3.407292053329727,
           4.816500555037303,
           4.451669134020838,
           4.290531130756609,
           4.191788075333793,
           3.903046547363255,
           3.9284032124432855,
           3.537377456138472,
           3.80050921004306,
           2.9166664659361725,
           3.6694661709997924,
           3.1537524029368855,
           3.3806902032069637,
           -2.7328697577614998,
           3.218255417934917,
           -3.470969544283025,
           -3.5201734033829215,
           5.38193635435742,
           4.500757864318656,
           4.919376002412551,
           4.386712210736888,
           4.605380137961966,
           4.280056327039867,
           4.363824305059263,
           4.197946936838432,
           null
          ],
          "coloraxis": "coloraxis",
          "symbol": "circle"
         },
         "mode": "markers",
         "name": "",
         "scene": "scene",
         "showlegend": false,
         "type": "scatter3d",
         "x": [
          10,
          10,
          15,
          15,
          20,
          20,
          25,
          25,
          30,
          30,
          35,
          35,
          40,
          40,
          45,
          45,
          50,
          50,
          100,
          100,
          5,
          5,
          7.5,
          7.5,
          10,
          10,
          12.5,
          12.5,
          15,
          15,
          17.5,
          17.5,
          20,
          20,
          22.5,
          22.5,
          25,
          25,
          50,
          50,
          2.5,
          2.5,
          3.75,
          3.75,
          5,
          5,
          6.25,
          6.25,
          7.5,
          7.5,
          8.75,
          8.75,
          10,
          10,
          11.25,
          11.25,
          12.5,
          12.5,
          25,
          25,
          1.25,
          1.25,
          1.875,
          1.875,
          2.5,
          2.5,
          3.125,
          3.125,
          3.75,
          3.75,
          4.375,
          4.375,
          5,
          5,
          5.625,
          5.625,
          6.25,
          6.25,
          12.5,
          12.5,
          1.25,
          1.25,
          1.5625,
          1.5625,
          1.875,
          1.875,
          2.1875,
          2.1875,
          2.5,
          2.5,
          2.8125,
          2.8125,
          3.125,
          3.125,
          6.25,
          6.25,
          1.09375,
          1.09375,
          1.25,
          1.25,
          1.40625,
          1.40625,
          1.5625,
          1.5625,
          3.125,
          10,
          10,
          15,
          15,
          20,
          20,
          25,
          25,
          30,
          30,
          35,
          35,
          40,
          40,
          45,
          45,
          50,
          50,
          100,
          100,
          5,
          5,
          7.5,
          7.5,
          10,
          10,
          12.5,
          12.5,
          15,
          15,
          17.5,
          17.5,
          20,
          20,
          22.5,
          22.5,
          25,
          25,
          50,
          50,
          2.5,
          2.5,
          3.75,
          3.75,
          5,
          5,
          6.25,
          6.25,
          7.5,
          7.5,
          8.75,
          8.75,
          10,
          10,
          11.25,
          11.25,
          12.5,
          12.5,
          25,
          25,
          1.25,
          1.25,
          1.875,
          1.875,
          2.5,
          2.5,
          3.125,
          3.125,
          3.75,
          3.75,
          4.375,
          4.375,
          5,
          5,
          5.625,
          5.625,
          6.25,
          6.25,
          12.5,
          12.5,
          1.25,
          1.25,
          1.5625,
          1.5625,
          1.875,
          1.875,
          2.1875,
          2.1875,
          2.5,
          2.5,
          2.8125,
          2.8125,
          3.125,
          3.125,
          6.25,
          6.25,
          1.09375,
          1.09375,
          1.25,
          1.25,
          1.40625,
          1.40625,
          1.5625,
          1.5625,
          3.125,
          10,
          10,
          15,
          15,
          20,
          20,
          25,
          25,
          30,
          30,
          35,
          35,
          40,
          40,
          45,
          45,
          50,
          50,
          100,
          100,
          5,
          5,
          7.5,
          7.5,
          10,
          10,
          12.5,
          12.5,
          15,
          15,
          17.5,
          17.5,
          20,
          20,
          22.5,
          22.5,
          25,
          25,
          50,
          50,
          2.5,
          2.5,
          3.75,
          3.75,
          5,
          5,
          6.25,
          6.25,
          7.5,
          7.5,
          8.75,
          8.75,
          10,
          10,
          11.25,
          11.25,
          12.5,
          12.5,
          25,
          25,
          1.25,
          1.25,
          1.875,
          1.875,
          2.5,
          2.5,
          3.125,
          3.125,
          3.75,
          3.75,
          4.375,
          4.375,
          5,
          5,
          5.625,
          5.625,
          6.25,
          6.25,
          12.5,
          12.5,
          1.25,
          1.25,
          1.5625,
          1.5625,
          1.875,
          1.875,
          2.1875,
          2.1875,
          2.5,
          2.5,
          2.8125,
          2.8125,
          3.125,
          3.125,
          6.25,
          6.25,
          1.09375,
          1.09375,
          1.25,
          1.25,
          1.40625,
          1.40625,
          1.5625,
          1.5625,
          3.125,
          10,
          10,
          15,
          15,
          20,
          20,
          25,
          25,
          30,
          30,
          35,
          35,
          40,
          40,
          45,
          45,
          50,
          50,
          100,
          100,
          5,
          5,
          7.5,
          7.5,
          10,
          10,
          12.5,
          12.5,
          15,
          15,
          17.5,
          17.5,
          20,
          20,
          22.5,
          22.5,
          25,
          25,
          50,
          50,
          2.5,
          2.5,
          3.75,
          3.75,
          5,
          5,
          6.25,
          6.25,
          7.5,
          7.5,
          8.75,
          8.75,
          10,
          10,
          11.25,
          11.25,
          12.5,
          12.5,
          25,
          25,
          1.25,
          1.25,
          1.875,
          1.875,
          2.5,
          2.5,
          3.125,
          3.125,
          3.75,
          3.75,
          4.375,
          4.375,
          5,
          5,
          5.625,
          5.625,
          6.25,
          6.25,
          12.5,
          12.5,
          1.25,
          1.25,
          1.5625,
          1.5625,
          1.875,
          1.875,
          2.1875,
          2.1875,
          2.5,
          2.5,
          2.8125,
          2.8125,
          3.125,
          3.125,
          6.25,
          6.25,
          1.09375,
          1.09375,
          1.25,
          1.25,
          1.40625,
          1.40625,
          1.5625,
          1.5625,
          3.125
         ],
         "y": [
          "kmean+",
          "random",
          "kmean+",
          "random",
          "kmean+",
          "random",
          "kmean+",
          "random",
          "kmean+",
          "random",
          "kmean+",
          "random",
          "kmean+",
          "random",
          "kmean+",
          "random",
          "kmean+",
          "random",
          "kmean+",
          "random",
          "kmean+",
          "random",
          "kmean+",
          "random",
          "kmean+",
          "random",
          "kmean+",
          "random",
          "kmean+",
          "random",
          "kmean+",
          "random",
          "kmean+",
          "random",
          "kmean+",
          "random",
          "kmean+",
          "random",
          "kmean+",
          "random",
          "kmean+",
          "random",
          "kmean+",
          "random",
          "kmean+",
          "random",
          "kmean+",
          "random",
          "kmean+",
          "random",
          "kmean+",
          "random",
          "kmean+",
          "random",
          "kmean+",
          "random",
          "kmean+",
          "random",
          "kmean+",
          "random",
          "kmean+",
          "random",
          "kmean+",
          "random",
          "kmean+",
          "random",
          "kmean+",
          "random",
          "kmean+",
          "random",
          "kmean+",
          "random",
          "kmean+",
          "random",
          "kmean+",
          "random",
          "kmean+",
          "random",
          "kmean+",
          "random",
          "kmean+",
          "random",
          "kmean+",
          "random",
          "kmean+",
          "random",
          "kmean+",
          "random",
          "kmean+",
          "random",
          "kmean+",
          "random",
          "kmean+",
          "random",
          "kmean+",
          "random",
          "kmean+",
          "random",
          "kmean+",
          "random",
          "kmean+",
          "random",
          "kmean+",
          "random",
          "random",
          "kmean+",
          "random",
          "kmean+",
          "random",
          "kmean+",
          "random",
          "kmean+",
          "random",
          "kmean+",
          "random",
          "kmean+",
          "random",
          "kmean+",
          "random",
          "kmean+",
          "random",
          "kmean+",
          "random",
          "kmean+",
          "random",
          "kmean+",
          "random",
          "kmean+",
          "random",
          "kmean+",
          "random",
          "kmean+",
          "random",
          "kmean+",
          "random",
          "kmean+",
          "random",
          "kmean+",
          "random",
          "kmean+",
          "random",
          "kmean+",
          "random",
          "kmean+",
          "random",
          "kmean+",
          "random",
          "kmean+",
          "random",
          "kmean+",
          "random",
          "kmean+",
          "random",
          "kmean+",
          "random",
          "kmean+",
          "random",
          "kmean+",
          "random",
          "kmean+",
          "random",
          "kmean+",
          "random",
          "kmean+",
          "random",
          "kmean+",
          "random",
          "kmean+",
          "random",
          "kmean+",
          "random",
          "kmean+",
          "random",
          "kmean+",
          "random",
          "kmean+",
          "random",
          "kmean+",
          "random",
          "kmean+",
          "random",
          "kmean+",
          "random",
          "kmean+",
          "random",
          "kmean+",
          "random",
          "kmean+",
          "random",
          "kmean+",
          "random",
          "kmean+",
          "random",
          "kmean+",
          "random",
          "kmean+",
          "random",
          "kmean+",
          "random",
          "kmean+",
          "random",
          "kmean+",
          "random",
          "kmean+",
          "random",
          "kmean+",
          "random",
          "kmean+",
          "random",
          "random",
          "kmean+",
          "random",
          "kmean+",
          "random",
          "kmean+",
          "random",
          "kmean+",
          "random",
          "kmean+",
          "random",
          "kmean+",
          "random",
          "kmean+",
          "random",
          "kmean+",
          "random",
          "kmean+",
          "random",
          "kmean+",
          "random",
          "kmean+",
          "random",
          "kmean+",
          "random",
          "kmean+",
          "random",
          "kmean+",
          "random",
          "kmean+",
          "random",
          "kmean+",
          "random",
          "kmean+",
          "random",
          "kmean+",
          "random",
          "kmean+",
          "random",
          "kmean+",
          "random",
          "kmean+",
          "random",
          "kmean+",
          "random",
          "kmean+",
          "random",
          "kmean+",
          "random",
          "kmean+",
          "random",
          "kmean+",
          "random",
          "kmean+",
          "random",
          "kmean+",
          "random",
          "kmean+",
          "random",
          "kmean+",
          "random",
          "kmean+",
          "random",
          "kmean+",
          "random",
          "kmean+",
          "random",
          "kmean+",
          "random",
          "kmean+",
          "random",
          "kmean+",
          "random",
          "kmean+",
          "random",
          "kmean+",
          "random",
          "kmean+",
          "random",
          "kmean+",
          "random",
          "kmean+",
          "random",
          "kmean+",
          "random",
          "kmean+",
          "random",
          "kmean+",
          "random",
          "kmean+",
          "random",
          "kmean+",
          "random",
          "kmean+",
          "random",
          "kmean+",
          "random",
          "kmean+",
          "random",
          "kmean+",
          "random",
          "kmean+",
          "random",
          "kmean+",
          "random",
          "random",
          "kmean+",
          "random",
          "kmean+",
          "random",
          "kmean+",
          "random",
          "kmean+",
          "random",
          "kmean+",
          "random",
          "kmean+",
          "random",
          "kmean+",
          "random",
          "kmean+",
          "random",
          "kmean+",
          "random",
          "kmean+",
          "random",
          "kmean+",
          "random",
          "kmean+",
          "random",
          "kmean+",
          "random",
          "kmean+",
          "random",
          "kmean+",
          "random",
          "kmean+",
          "random",
          "kmean+",
          "random",
          "kmean+",
          "random",
          "kmean+",
          "random",
          "kmean+",
          "random",
          "kmean+",
          "random",
          "kmean+",
          "random",
          "kmean+",
          "random",
          "kmean+",
          "random",
          "kmean+",
          "random",
          "kmean+",
          "random",
          "kmean+",
          "random",
          "kmean+",
          "random",
          "kmean+",
          "random",
          "kmean+",
          "random",
          "kmean+",
          "random",
          "kmean+",
          "random",
          "kmean+",
          "random",
          "kmean+",
          "random",
          "kmean+",
          "random",
          "kmean+",
          "random",
          "kmean+",
          "random",
          "kmean+",
          "random",
          "kmean+",
          "random",
          "kmean+",
          "random",
          "kmean+",
          "random",
          "kmean+",
          "random",
          "kmean+",
          "random",
          "kmean+",
          "random",
          "kmean+",
          "random",
          "kmean+",
          "random",
          "kmean+",
          "random",
          "kmean+",
          "random",
          "kmean+",
          "random",
          "kmean+",
          "random",
          "kmean+",
          "random",
          "kmean+",
          "random",
          "random"
         ],
         "z": [
          "BI_BACK",
          "BI_BACK",
          "BI_BACK",
          "BI_BACK",
          "BI_BACK",
          "BI_BACK",
          "BI_BACK",
          "BI_BACK",
          "BI_BACK",
          "BI_BACK",
          "BI_BACK",
          "BI_BACK",
          "BI_BACK",
          "BI_BACK",
          "BI_BACK",
          "BI_BACK",
          "BI_BACK",
          "BI_BACK",
          "BI_BACK",
          "BI_BACK",
          "BI_BACK",
          "BI_BACK",
          "BI_BACK",
          "BI_BACK",
          "BI_BACK",
          "BI_BACK",
          "BI_BACK",
          "BI_BACK",
          "BI_BACK",
          "BI_BACK",
          "BI_BACK",
          "BI_BACK",
          "BI_BACK",
          "BI_BACK",
          "BI_BACK",
          "BI_BACK",
          "BI_BACK",
          "BI_BACK",
          "BI_BACK",
          "BI_BACK",
          "BI_BACK",
          "BI_BACK",
          "BI_BACK",
          "BI_BACK",
          "BI_BACK",
          "BI_BACK",
          "BI_BACK",
          "BI_BACK",
          "BI_BACK",
          "BI_BACK",
          "BI_BACK",
          "BI_BACK",
          "BI_BACK",
          "BI_BACK",
          "BI_BACK",
          "BI_BACK",
          "BI_BACK",
          "BI_BACK",
          "BI_BACK",
          "BI_BACK",
          "BI_BACK",
          "BI_BACK",
          "BI_BACK",
          "BI_BACK",
          "BI_BACK",
          "BI_BACK",
          "BI_BACK",
          "BI_BACK",
          "BI_BACK",
          "BI_BACK",
          "BI_BACK",
          "BI_BACK",
          "BI_BACK",
          "BI_BACK",
          "BI_BACK",
          "BI_BACK",
          "BI_BACK",
          "BI_BACK",
          "BI_BACK",
          "BI_BACK",
          "BI_BACK",
          "BI_BACK",
          "BI_BACK",
          "BI_BACK",
          "BI_BACK",
          "BI_BACK",
          "BI_BACK",
          "BI_BACK",
          "BI_BACK",
          "BI_BACK",
          "BI_BACK",
          "BI_BACK",
          "BI_BACK",
          "BI_BACK",
          "BI_BACK",
          "BI_BACK",
          "BI_BACK",
          "BI_BACK",
          "BI_BACK",
          "BI_BACK",
          "BI_BACK",
          "BI_BACK",
          "BI_BACK",
          "BI_BACK",
          "BI_BACK",
          "FI_BACK",
          "FI_BACK",
          "FI_BACK",
          "FI_BACK",
          "FI_BACK",
          "FI_BACK",
          "FI_BACK",
          "FI_BACK",
          "FI_BACK",
          "FI_BACK",
          "FI_BACK",
          "FI_BACK",
          "FI_BACK",
          "FI_BACK",
          "FI_BACK",
          "FI_BACK",
          "FI_BACK",
          "FI_BACK",
          "FI_BACK",
          "FI_BACK",
          "FI_BACK",
          "FI_BACK",
          "FI_BACK",
          "FI_BACK",
          "FI_BACK",
          "FI_BACK",
          "FI_BACK",
          "FI_BACK",
          "FI_BACK",
          "FI_BACK",
          "FI_BACK",
          "FI_BACK",
          "FI_BACK",
          "FI_BACK",
          "FI_BACK",
          "FI_BACK",
          "FI_BACK",
          "FI_BACK",
          "FI_BACK",
          "FI_BACK",
          "FI_BACK",
          "FI_BACK",
          "FI_BACK",
          "FI_BACK",
          "FI_BACK",
          "FI_BACK",
          "FI_BACK",
          "FI_BACK",
          "FI_BACK",
          "FI_BACK",
          "FI_BACK",
          "FI_BACK",
          "FI_BACK",
          "FI_BACK",
          "FI_BACK",
          "FI_BACK",
          "FI_BACK",
          "FI_BACK",
          "FI_BACK",
          "FI_BACK",
          "FI_BACK",
          "FI_BACK",
          "FI_BACK",
          "FI_BACK",
          "FI_BACK",
          "FI_BACK",
          "FI_BACK",
          "FI_BACK",
          "FI_BACK",
          "FI_BACK",
          "FI_BACK",
          "FI_BACK",
          "FI_BACK",
          "FI_BACK",
          "FI_BACK",
          "FI_BACK",
          "FI_BACK",
          "FI_BACK",
          "FI_BACK",
          "FI_BACK",
          "FI_BACK",
          "FI_BACK",
          "FI_BACK",
          "FI_BACK",
          "FI_BACK",
          "FI_BACK",
          "FI_BACK",
          "FI_BACK",
          "FI_BACK",
          "FI_BACK",
          "FI_BACK",
          "FI_BACK",
          "FI_BACK",
          "FI_BACK",
          "FI_BACK",
          "FI_BACK",
          "FI_BACK",
          "FI_BACK",
          "FI_BACK",
          "FI_BACK",
          "FI_BACK",
          "FI_BACK",
          "FI_BACK",
          "FI_BACK",
          "FI_BACK",
          "FI_CURR",
          "FI_CURR",
          "FI_CURR",
          "FI_CURR",
          "FI_CURR",
          "FI_CURR",
          "FI_CURR",
          "FI_CURR",
          "FI_CURR",
          "FI_CURR",
          "FI_CURR",
          "FI_CURR",
          "FI_CURR",
          "FI_CURR",
          "FI_CURR",
          "FI_CURR",
          "FI_CURR",
          "FI_CURR",
          "FI_CURR",
          "FI_CURR",
          "FI_CURR",
          "FI_CURR",
          "FI_CURR",
          "FI_CURR",
          "FI_CURR",
          "FI_CURR",
          "FI_CURR",
          "FI_CURR",
          "FI_CURR",
          "FI_CURR",
          "FI_CURR",
          "FI_CURR",
          "FI_CURR",
          "FI_CURR",
          "FI_CURR",
          "FI_CURR",
          "FI_CURR",
          "FI_CURR",
          "FI_CURR",
          "FI_CURR",
          "FI_CURR",
          "FI_CURR",
          "FI_CURR",
          "FI_CURR",
          "FI_CURR",
          "FI_CURR",
          "FI_CURR",
          "FI_CURR",
          "FI_CURR",
          "FI_CURR",
          "FI_CURR",
          "FI_CURR",
          "FI_CURR",
          "FI_CURR",
          "FI_CURR",
          "FI_CURR",
          "FI_CURR",
          "FI_CURR",
          "FI_CURR",
          "FI_CURR",
          "FI_CURR",
          "FI_CURR",
          "FI_CURR",
          "FI_CURR",
          "FI_CURR",
          "FI_CURR",
          "FI_CURR",
          "FI_CURR",
          "FI_CURR",
          "FI_CURR",
          "FI_CURR",
          "FI_CURR",
          "FI_CURR",
          "FI_CURR",
          "FI_CURR",
          "FI_CURR",
          "FI_CURR",
          "FI_CURR",
          "FI_CURR",
          "FI_CURR",
          "FI_CURR",
          "FI_CURR",
          "FI_CURR",
          "FI_CURR",
          "FI_CURR",
          "FI_CURR",
          "FI_CURR",
          "FI_CURR",
          "FI_CURR",
          "FI_CURR",
          "FI_CURR",
          "FI_CURR",
          "FI_CURR",
          "FI_CURR",
          "FI_CURR",
          "FI_CURR",
          "FI_CURR",
          "FI_CURR",
          "FI_CURR",
          "FI_CURR",
          "FI_CURR",
          "FI_CURR",
          "FI_CURR",
          "FI_CURR",
          "FI_CURR",
          "FI_RANDOM",
          "FI_RANDOM",
          "FI_RANDOM",
          "FI_RANDOM",
          "FI_RANDOM",
          "FI_RANDOM",
          "FI_RANDOM",
          "FI_RANDOM",
          "FI_RANDOM",
          "FI_RANDOM",
          "FI_RANDOM",
          "FI_RANDOM",
          "FI_RANDOM",
          "FI_RANDOM",
          "FI_RANDOM",
          "FI_RANDOM",
          "FI_RANDOM",
          "FI_RANDOM",
          "FI_RANDOM",
          "FI_RANDOM",
          "FI_RANDOM",
          "FI_RANDOM",
          "FI_RANDOM",
          "FI_RANDOM",
          "FI_RANDOM",
          "FI_RANDOM",
          "FI_RANDOM",
          "FI_RANDOM",
          "FI_RANDOM",
          "FI_RANDOM",
          "FI_RANDOM",
          "FI_RANDOM",
          "FI_RANDOM",
          "FI_RANDOM",
          "FI_RANDOM",
          "FI_RANDOM",
          "FI_RANDOM",
          "FI_RANDOM",
          "FI_RANDOM",
          "FI_RANDOM",
          "FI_RANDOM",
          "FI_RANDOM",
          "FI_RANDOM",
          "FI_RANDOM",
          "FI_RANDOM",
          "FI_RANDOM",
          "FI_RANDOM",
          "FI_RANDOM",
          "FI_RANDOM",
          "FI_RANDOM",
          "FI_RANDOM",
          "FI_RANDOM",
          "FI_RANDOM",
          "FI_RANDOM",
          "FI_RANDOM",
          "FI_RANDOM",
          "FI_RANDOM",
          "FI_RANDOM",
          "FI_RANDOM",
          "FI_RANDOM",
          "FI_RANDOM",
          "FI_RANDOM",
          "FI_RANDOM",
          "FI_RANDOM",
          "FI_RANDOM",
          "FI_RANDOM",
          "FI_RANDOM",
          "FI_RANDOM",
          "FI_RANDOM",
          "FI_RANDOM",
          "FI_RANDOM",
          "FI_RANDOM",
          "FI_RANDOM",
          "FI_RANDOM",
          "FI_RANDOM",
          "FI_RANDOM",
          "FI_RANDOM",
          "FI_RANDOM",
          "FI_RANDOM",
          "FI_RANDOM",
          "FI_RANDOM",
          "FI_RANDOM",
          "FI_RANDOM",
          "FI_RANDOM",
          "FI_RANDOM",
          "FI_RANDOM",
          "FI_RANDOM",
          "FI_RANDOM",
          "FI_RANDOM",
          "FI_RANDOM",
          "FI_RANDOM",
          "FI_RANDOM",
          "FI_RANDOM",
          "FI_RANDOM",
          "FI_RANDOM",
          "FI_RANDOM",
          "FI_RANDOM",
          "FI_RANDOM",
          "FI_RANDOM",
          "FI_RANDOM",
          "FI_RANDOM",
          "FI_RANDOM",
          "FI_RANDOM",
          "FI_RANDOM",
          "FI_RANDOM"
         ]
        }
       ],
       "layout": {
        "coloraxis": {
         "cmax": 3.001,
         "cmin": -3.001,
         "colorbar": {
          "ticktext": [
           "-1E0",
           "-1E-1",
           "-1E-2",
           0,
           "1E-2",
           "1E-1",
           "1E0"
          ],
          "tickvals": [
           -3,
           -2,
           -1,
           0,
           1,
           2,
           3
          ],
          "title": {
           "text": "prct_amelioration_end_cost"
          }
         },
         "colorscale": [
          [
           0,
           "blue"
          ],
          [
           0.25,
           "cyan"
          ],
          [
           0.5,
           "green"
          ],
          [
           0.75,
           "yellow"
          ],
          [
           1,
           "red"
          ]
         ]
        },
        "height": 900,
        "legend": {
         "tracegroupgap": 0
        },
        "margin": {
         "t": 60
        },
        "scene": {
         "domain": {
          "x": [
           0,
           1
          ],
          "y": [
           0,
           1
          ]
         },
         "xaxis": {
          "title": {
           "text": "Nb pts par cluster"
          }
         },
         "yaxis": {
          "title": {
           "text": "init_type"
          }
         },
         "zaxis": {
          "title": {
           "text": "algorithm"
          }
         }
        },
        "template": {
         "data": {
          "bar": [
           {
            "error_x": {
             "color": "#f2f5fa"
            },
            "error_y": {
             "color": "#f2f5fa"
            },
            "marker": {
             "line": {
              "color": "rgb(17,17,17)",
              "width": 0.5
             },
             "pattern": {
              "fillmode": "overlay",
              "size": 10,
              "solidity": 0.2
             }
            },
            "type": "bar"
           }
          ],
          "barpolar": [
           {
            "marker": {
             "line": {
              "color": "rgb(17,17,17)",
              "width": 0.5
             },
             "pattern": {
              "fillmode": "overlay",
              "size": 10,
              "solidity": 0.2
             }
            },
            "type": "barpolar"
           }
          ],
          "carpet": [
           {
            "aaxis": {
             "endlinecolor": "#A2B1C6",
             "gridcolor": "#506784",
             "linecolor": "#506784",
             "minorgridcolor": "#506784",
             "startlinecolor": "#A2B1C6"
            },
            "baxis": {
             "endlinecolor": "#A2B1C6",
             "gridcolor": "#506784",
             "linecolor": "#506784",
             "minorgridcolor": "#506784",
             "startlinecolor": "#A2B1C6"
            },
            "type": "carpet"
           }
          ],
          "choropleth": [
           {
            "colorbar": {
             "outlinewidth": 0,
             "ticks": ""
            },
            "type": "choropleth"
           }
          ],
          "contour": [
           {
            "colorbar": {
             "outlinewidth": 0,
             "ticks": ""
            },
            "colorscale": [
             [
              0,
              "#0d0887"
             ],
             [
              0.1111111111111111,
              "#46039f"
             ],
             [
              0.2222222222222222,
              "#7201a8"
             ],
             [
              0.3333333333333333,
              "#9c179e"
             ],
             [
              0.4444444444444444,
              "#bd3786"
             ],
             [
              0.5555555555555556,
              "#d8576b"
             ],
             [
              0.6666666666666666,
              "#ed7953"
             ],
             [
              0.7777777777777778,
              "#fb9f3a"
             ],
             [
              0.8888888888888888,
              "#fdca26"
             ],
             [
              1,
              "#f0f921"
             ]
            ],
            "type": "contour"
           }
          ],
          "contourcarpet": [
           {
            "colorbar": {
             "outlinewidth": 0,
             "ticks": ""
            },
            "type": "contourcarpet"
           }
          ],
          "heatmap": [
           {
            "colorbar": {
             "outlinewidth": 0,
             "ticks": ""
            },
            "colorscale": [
             [
              0,
              "#0d0887"
             ],
             [
              0.1111111111111111,
              "#46039f"
             ],
             [
              0.2222222222222222,
              "#7201a8"
             ],
             [
              0.3333333333333333,
              "#9c179e"
             ],
             [
              0.4444444444444444,
              "#bd3786"
             ],
             [
              0.5555555555555556,
              "#d8576b"
             ],
             [
              0.6666666666666666,
              "#ed7953"
             ],
             [
              0.7777777777777778,
              "#fb9f3a"
             ],
             [
              0.8888888888888888,
              "#fdca26"
             ],
             [
              1,
              "#f0f921"
             ]
            ],
            "type": "heatmap"
           }
          ],
          "heatmapgl": [
           {
            "colorbar": {
             "outlinewidth": 0,
             "ticks": ""
            },
            "colorscale": [
             [
              0,
              "#0d0887"
             ],
             [
              0.1111111111111111,
              "#46039f"
             ],
             [
              0.2222222222222222,
              "#7201a8"
             ],
             [
              0.3333333333333333,
              "#9c179e"
             ],
             [
              0.4444444444444444,
              "#bd3786"
             ],
             [
              0.5555555555555556,
              "#d8576b"
             ],
             [
              0.6666666666666666,
              "#ed7953"
             ],
             [
              0.7777777777777778,
              "#fb9f3a"
             ],
             [
              0.8888888888888888,
              "#fdca26"
             ],
             [
              1,
              "#f0f921"
             ]
            ],
            "type": "heatmapgl"
           }
          ],
          "histogram": [
           {
            "marker": {
             "pattern": {
              "fillmode": "overlay",
              "size": 10,
              "solidity": 0.2
             }
            },
            "type": "histogram"
           }
          ],
          "histogram2d": [
           {
            "colorbar": {
             "outlinewidth": 0,
             "ticks": ""
            },
            "colorscale": [
             [
              0,
              "#0d0887"
             ],
             [
              0.1111111111111111,
              "#46039f"
             ],
             [
              0.2222222222222222,
              "#7201a8"
             ],
             [
              0.3333333333333333,
              "#9c179e"
             ],
             [
              0.4444444444444444,
              "#bd3786"
             ],
             [
              0.5555555555555556,
              "#d8576b"
             ],
             [
              0.6666666666666666,
              "#ed7953"
             ],
             [
              0.7777777777777778,
              "#fb9f3a"
             ],
             [
              0.8888888888888888,
              "#fdca26"
             ],
             [
              1,
              "#f0f921"
             ]
            ],
            "type": "histogram2d"
           }
          ],
          "histogram2dcontour": [
           {
            "colorbar": {
             "outlinewidth": 0,
             "ticks": ""
            },
            "colorscale": [
             [
              0,
              "#0d0887"
             ],
             [
              0.1111111111111111,
              "#46039f"
             ],
             [
              0.2222222222222222,
              "#7201a8"
             ],
             [
              0.3333333333333333,
              "#9c179e"
             ],
             [
              0.4444444444444444,
              "#bd3786"
             ],
             [
              0.5555555555555556,
              "#d8576b"
             ],
             [
              0.6666666666666666,
              "#ed7953"
             ],
             [
              0.7777777777777778,
              "#fb9f3a"
             ],
             [
              0.8888888888888888,
              "#fdca26"
             ],
             [
              1,
              "#f0f921"
             ]
            ],
            "type": "histogram2dcontour"
           }
          ],
          "mesh3d": [
           {
            "colorbar": {
             "outlinewidth": 0,
             "ticks": ""
            },
            "type": "mesh3d"
           }
          ],
          "parcoords": [
           {
            "line": {
             "colorbar": {
              "outlinewidth": 0,
              "ticks": ""
             }
            },
            "type": "parcoords"
           }
          ],
          "pie": [
           {
            "automargin": true,
            "type": "pie"
           }
          ],
          "scatter": [
           {
            "marker": {
             "line": {
              "color": "#283442"
             }
            },
            "type": "scatter"
           }
          ],
          "scatter3d": [
           {
            "line": {
             "colorbar": {
              "outlinewidth": 0,
              "ticks": ""
             }
            },
            "marker": {
             "colorbar": {
              "outlinewidth": 0,
              "ticks": ""
             }
            },
            "type": "scatter3d"
           }
          ],
          "scattercarpet": [
           {
            "marker": {
             "colorbar": {
              "outlinewidth": 0,
              "ticks": ""
             }
            },
            "type": "scattercarpet"
           }
          ],
          "scattergeo": [
           {
            "marker": {
             "colorbar": {
              "outlinewidth": 0,
              "ticks": ""
             }
            },
            "type": "scattergeo"
           }
          ],
          "scattergl": [
           {
            "marker": {
             "line": {
              "color": "#283442"
             }
            },
            "type": "scattergl"
           }
          ],
          "scattermapbox": [
           {
            "marker": {
             "colorbar": {
              "outlinewidth": 0,
              "ticks": ""
             }
            },
            "type": "scattermapbox"
           }
          ],
          "scatterpolar": [
           {
            "marker": {
             "colorbar": {
              "outlinewidth": 0,
              "ticks": ""
             }
            },
            "type": "scatterpolar"
           }
          ],
          "scatterpolargl": [
           {
            "marker": {
             "colorbar": {
              "outlinewidth": 0,
              "ticks": ""
             }
            },
            "type": "scatterpolargl"
           }
          ],
          "scatterternary": [
           {
            "marker": {
             "colorbar": {
              "outlinewidth": 0,
              "ticks": ""
             }
            },
            "type": "scatterternary"
           }
          ],
          "surface": [
           {
            "colorbar": {
             "outlinewidth": 0,
             "ticks": ""
            },
            "colorscale": [
             [
              0,
              "#0d0887"
             ],
             [
              0.1111111111111111,
              "#46039f"
             ],
             [
              0.2222222222222222,
              "#7201a8"
             ],
             [
              0.3333333333333333,
              "#9c179e"
             ],
             [
              0.4444444444444444,
              "#bd3786"
             ],
             [
              0.5555555555555556,
              "#d8576b"
             ],
             [
              0.6666666666666666,
              "#ed7953"
             ],
             [
              0.7777777777777778,
              "#fb9f3a"
             ],
             [
              0.8888888888888888,
              "#fdca26"
             ],
             [
              1,
              "#f0f921"
             ]
            ],
            "type": "surface"
           }
          ],
          "table": [
           {
            "cells": {
             "fill": {
              "color": "#506784"
             },
             "line": {
              "color": "rgb(17,17,17)"
             }
            },
            "header": {
             "fill": {
              "color": "#2a3f5f"
             },
             "line": {
              "color": "rgb(17,17,17)"
             }
            },
            "type": "table"
           }
          ]
         },
         "layout": {
          "annotationdefaults": {
           "arrowcolor": "#f2f5fa",
           "arrowhead": 0,
           "arrowwidth": 1
          },
          "autotypenumbers": "strict",
          "coloraxis": {
           "colorbar": {
            "outlinewidth": 0,
            "ticks": ""
           }
          },
          "colorscale": {
           "diverging": [
            [
             0,
             "#8e0152"
            ],
            [
             0.1,
             "#c51b7d"
            ],
            [
             0.2,
             "#de77ae"
            ],
            [
             0.3,
             "#f1b6da"
            ],
            [
             0.4,
             "#fde0ef"
            ],
            [
             0.5,
             "#f7f7f7"
            ],
            [
             0.6,
             "#e6f5d0"
            ],
            [
             0.7,
             "#b8e186"
            ],
            [
             0.8,
             "#7fbc41"
            ],
            [
             0.9,
             "#4d9221"
            ],
            [
             1,
             "#276419"
            ]
           ],
           "sequential": [
            [
             0,
             "#0d0887"
            ],
            [
             0.1111111111111111,
             "#46039f"
            ],
            [
             0.2222222222222222,
             "#7201a8"
            ],
            [
             0.3333333333333333,
             "#9c179e"
            ],
            [
             0.4444444444444444,
             "#bd3786"
            ],
            [
             0.5555555555555556,
             "#d8576b"
            ],
            [
             0.6666666666666666,
             "#ed7953"
            ],
            [
             0.7777777777777778,
             "#fb9f3a"
            ],
            [
             0.8888888888888888,
             "#fdca26"
            ],
            [
             1,
             "#f0f921"
            ]
           ],
           "sequentialminus": [
            [
             0,
             "#0d0887"
            ],
            [
             0.1111111111111111,
             "#46039f"
            ],
            [
             0.2222222222222222,
             "#7201a8"
            ],
            [
             0.3333333333333333,
             "#9c179e"
            ],
            [
             0.4444444444444444,
             "#bd3786"
            ],
            [
             0.5555555555555556,
             "#d8576b"
            ],
            [
             0.6666666666666666,
             "#ed7953"
            ],
            [
             0.7777777777777778,
             "#fb9f3a"
            ],
            [
             0.8888888888888888,
             "#fdca26"
            ],
            [
             1,
             "#f0f921"
            ]
           ]
          },
          "colorway": [
           "#636efa",
           "#EF553B",
           "#00cc96",
           "#ab63fa",
           "#FFA15A",
           "#19d3f3",
           "#FF6692",
           "#B6E880",
           "#FF97FF",
           "#FECB52"
          ],
          "font": {
           "color": "#f2f5fa"
          },
          "geo": {
           "bgcolor": "rgb(17,17,17)",
           "lakecolor": "rgb(17,17,17)",
           "landcolor": "rgb(17,17,17)",
           "showlakes": true,
           "showland": true,
           "subunitcolor": "#506784"
          },
          "hoverlabel": {
           "align": "left"
          },
          "hovermode": "closest",
          "mapbox": {
           "style": "dark"
          },
          "paper_bgcolor": "rgb(17,17,17)",
          "plot_bgcolor": "rgb(17,17,17)",
          "polar": {
           "angularaxis": {
            "gridcolor": "#506784",
            "linecolor": "#506784",
            "ticks": ""
           },
           "bgcolor": "rgb(17,17,17)",
           "radialaxis": {
            "gridcolor": "#506784",
            "linecolor": "#506784",
            "ticks": ""
           }
          },
          "scene": {
           "xaxis": {
            "backgroundcolor": "rgb(17,17,17)",
            "gridcolor": "#506784",
            "gridwidth": 2,
            "linecolor": "#506784",
            "showbackground": true,
            "ticks": "",
            "zerolinecolor": "#C8D4E3"
           },
           "yaxis": {
            "backgroundcolor": "rgb(17,17,17)",
            "gridcolor": "#506784",
            "gridwidth": 2,
            "linecolor": "#506784",
            "showbackground": true,
            "ticks": "",
            "zerolinecolor": "#C8D4E3"
           },
           "zaxis": {
            "backgroundcolor": "rgb(17,17,17)",
            "gridcolor": "#506784",
            "gridwidth": 2,
            "linecolor": "#506784",
            "showbackground": true,
            "ticks": "",
            "zerolinecolor": "#C8D4E3"
           }
          },
          "shapedefaults": {
           "line": {
            "color": "#f2f5fa"
           }
          },
          "sliderdefaults": {
           "bgcolor": "#C8D4E3",
           "bordercolor": "rgb(17,17,17)",
           "borderwidth": 1,
           "tickwidth": 0
          },
          "ternary": {
           "aaxis": {
            "gridcolor": "#506784",
            "linecolor": "#506784",
            "ticks": ""
           },
           "baxis": {
            "gridcolor": "#506784",
            "linecolor": "#506784",
            "ticks": ""
           },
           "bgcolor": "rgb(17,17,17)",
           "caxis": {
            "gridcolor": "#506784",
            "linecolor": "#506784",
            "ticks": ""
           }
          },
          "title": {
           "x": 0.05
          },
          "updatemenudefaults": {
           "bgcolor": "#506784",
           "borderwidth": 0
          },
          "xaxis": {
           "automargin": true,
           "gridcolor": "#283442",
           "linecolor": "#506784",
           "ticks": "",
           "title": {
            "standoff": 15
           },
           "zerolinecolor": "#283442",
           "zerolinewidth": 2
          },
          "yaxis": {
           "automargin": true,
           "gridcolor": "#283442",
           "linecolor": "#506784",
           "ticks": "",
           "title": {
            "standoff": 15
           },
           "zerolinecolor": "#283442",
           "zerolinewidth": 2
          }
         }
        },
        "width": 1000
       }
      }
     },
     "metadata": {},
     "output_type": "display_data"
    }
   ],
   "source": [
    "df = df_compil.copy().reset_index()\n",
    "ticks_pow = [-2,-1,0]\n",
    "max_val = abs(min(ticks_pow))\n",
    "delta_zero = 0.001+1\n",
    "logscale = lambda x:  np.sign(x) * (1-min(ticks_pow)+np.clip(np.log10(np.abs(x+1e-16)),min(ticks_pow)-delta_zero,np.inf))\n",
    "fig = px.scatter_3d(df,x=\"Nb pts par cluster\",y=\"init_type\",z=\"algorithm\",color=logscale(df[COLUMN]),\n",
    "                    hover_data=[\"Nb pts par cluster\",\"init_type\",\"algorithm\",COLUMN],\n",
    "                    color_continuous_scale=[\"red\",\"yellow\",\"green\",\"cyan\",\"blue\"][::-1],\n",
    "                    range_color=[-max_val-delta_zero,max_val+delta_zero],\n",
    "                    template=\"plotly_dark\",width=1000,height=900)\n",
    "def build(f):\n",
    "    ticks_pos = [f(1,p) for p in ticks_pow]\n",
    "    ticks_neg = [f(-1,p) for p in ticks_pow[::-1]]\n",
    "    return [*ticks_neg,logscale(0),*ticks_pos]\n",
    "def func(sign,p):\n",
    "    real_value = sign*10**p\n",
    "    return logscale(real_value)\n",
    "Lp = build(func)\n",
    "Lannot = build(lambda sign,p: \"1E\"+str(p) if sign > 0 else \"-1E\"+str(p))\n",
    "fig.update_layout(coloraxis_colorbar=dict(\n",
    "    title=COLUMN,\n",
    "    tickvals=np.round(Lp,decimals=2),\n",
    "    ticktext=Lannot,\n",
    "))\n",
    "fig.show()"
   ]
  },
  {
   "cell_type": "code",
   "execution_count": null,
   "metadata": {},
   "outputs": [],
   "source": []
  }
 ],
 "metadata": {
  "interpreter": {
   "hash": "a7a80cf5091cc3b0eca4837265a50c60c3c4b353b9419c8d484eb15b11025f30"
  },
  "kernelspec": {
   "display_name": "Python 3.8.12 (conda)",
   "language": "python",
   "name": "python3"
  },
  "language_info": {
   "codemirror_mode": {
    "name": "ipython",
    "version": 3
   },
   "file_extension": ".py",
   "mimetype": "text/x-python",
   "name": "python",
   "nbconvert_exporter": "python",
   "pygments_lexer": "ipython3",
   "version": "3.8.12"
  },
  "orig_nbformat": 4
 },
 "nbformat": 4,
 "nbformat_minor": 2
}
