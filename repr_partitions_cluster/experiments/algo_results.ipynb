{
 "cells": [
  {
   "cell_type": "markdown",
   "metadata": {},
   "source": [
    "Notebook prior to the INF8225 project to analyse which algorithm produces the best final clustering depending on multiple metrics (final cost, duration, number of iterations). Out of the scope of the INF8225 project."
   ]
  },
  {
   "cell_type": "markdown",
   "metadata": {},
   "source": [
    "Imports"
   ]
  },
  {
   "cell_type": "code",
   "execution_count": 464,
   "metadata": {},
   "outputs": [],
   "source": [
    "\n",
    "\n",
    "\n",
    "import pandas as pd\n",
    "import numpy as np\n",
    "from pathlib import Path\n",
    "from IPython.display import display, HTML\n",
    "import plotly.express as px\n",
    "import dataframe_image as dfi\n",
    "import matplotlib.pyplot as plt\n",
    "import matplotlib.colors as mcolors\n",
    "pd.options.mode.chained_assignment = 'warn'  # default=\n",
    "pd.options.plotting.backend = \"plotly\"\n",
    "pd.options.display.float_format = '{:,.2f}'.format\n",
    "pd.set_option('colheader_justify', 'center')\n",
    "PATH_CACHE = Path(\"../../data/results_fi_bi.csv\").resolve()\n",
    "pd.set_option('display.max_columns', None)  "
   ]
  },
  {
   "cell_type": "markdown",
   "metadata": {},
   "source": [
    "## Load original data and preprocess"
   ]
  },
  {
   "cell_type": "code",
   "execution_count": 465,
   "metadata": {},
   "outputs": [],
   "source": [
    "orig_df = pd.read_csv(PATH_CACHE, sep=\",\",header=0,index_col=False)\n",
    "# for col in orig_df:\n",
    "#     print(col,orig_df[col].unique())\n",
    "for orig_name,new_name in [(0,\"BI\"),(1,\"FI\"),(2,\"DI\")]:\n",
    "    orig_df.loc[orig_df.ImprClass == orig_name,\"ImprClass\"] = new_name\n",
    "for orig_name,new_name in [(0,\"BACK\"),(1,\"CURR\"),(2,\"RANDOM\")]:\n",
    "    orig_df.loc[orig_df.iteration_order == orig_name,\"iteration_order\"] = new_name\n",
    "for orig_name,new_name in [(0,\"random\"),(1,\"kmeans+\")]:\n",
    "    orig_df.loc[orig_df.init_type == orig_name,\"init_type\"] = new_name\n",
    "orig_df.loc[:,\"algorithm\"] = orig_df[\"ImprClass\"]+\"_\" + orig_df[\"iteration_order\"]\n",
    "orig_df.loc[:,\"Nb. points\"] = orig_df[\"num_points\"]\n",
    "orig_df.drop([\"ImprClass\",\"iteration_order\",\"num_points\",\"seed\"],axis=1,inplace=True)\n",
    "df = orig_df.copy()\n",
    "# print(display(orig_df.query(\"num_clusters==2 & init_type=='random' & algorithm=='FI_CURR'\")))"
   ]
  },
  {
   "cell_type": "markdown",
   "metadata": {},
   "source": [
    "### Temps observé"
   ]
  },
  {
   "cell_type": "code",
   "execution_count": 485,
   "metadata": {},
   "outputs": [
    {
     "name": "stdout",
     "output_type": "stream",
     "text": [
      "Time: 4 h 44 m 41 s\n"
     ]
    }
   ],
   "source": [
    "ALGO = \"FI_CURR\"\n",
    "df_time = orig_df.copy()\n",
    "val=np.sum(df_time.query(f\"algorithm == '{ALGO}'\")[\"time\"])*1e-6 # en s\n",
    "h = int(val/3600)\n",
    "m = int((val-h*3600)/60)\n",
    "s = int(val-h*3600-m*60)\n",
    "print(\"Time:\",h,\"h\",m,\"m\",s,\"s\")"
   ]
  },
  {
   "cell_type": "markdown",
   "metadata": {},
   "source": [
    "## Merged Data"
   ]
  },
  {
   "cell_type": "code",
   "execution_count": 486,
   "metadata": {},
   "outputs": [],
   "source": [
    "FIELDS = [\"end_cost\",\"time\",\"num_iter\",\"num_iter_tot\"]"
   ]
  },
  {
   "cell_type": "code",
   "execution_count": 487,
   "metadata": {},
   "outputs": [
    {
     "name": "stderr",
     "output_type": "stream",
     "text": [
      "C:\\Users\\robin\\AppData\\Local\\Temp\\ipykernel_1228\\1945538580.py:16: PerformanceWarning:\n",
      "\n",
      "dropping on a non-lexsorted multi-index without a level parameter may impact performance.\n",
      "\n"
     ]
    },
    {
     "data": {
      "text/html": [
       "<div>\n",
       "<style scoped>\n",
       "    .dataframe tbody tr th:only-of-type {\n",
       "        vertical-align: middle;\n",
       "    }\n",
       "\n",
       "    .dataframe tbody tr th {\n",
       "        vertical-align: top;\n",
       "    }\n",
       "\n",
       "    .dataframe thead tr th {\n",
       "        text-align: left;\n",
       "    }\n",
       "\n",
       "    .dataframe thead tr:last-of-type th {\n",
       "        text-align: right;\n",
       "    }\n",
       "</style>\n",
       "<table border=\"1\" class=\"dataframe\">\n",
       "  <thead>\n",
       "    <tr>\n",
       "      <th></th>\n",
       "      <th colspan=\"10\" halign=\"left\">end_cost</th>\n",
       "    </tr>\n",
       "    <tr>\n",
       "      <th>init_type</th>\n",
       "      <th colspan=\"5\" halign=\"left\">random</th>\n",
       "      <th colspan=\"5\" halign=\"left\">kmeans+</th>\n",
       "    </tr>\n",
       "    <tr>\n",
       "      <th>algorithm</th>\n",
       "      <th>BI_BACK</th>\n",
       "      <th>FI_BACK</th>\n",
       "      <th>FI_CURR</th>\n",
       "      <th>% augm. FI_BACK</th>\n",
       "      <th>% augm. FI_CURR</th>\n",
       "      <th>BI_BACK</th>\n",
       "      <th>FI_BACK</th>\n",
       "      <th>FI_CURR</th>\n",
       "      <th>% augm. FI_BACK</th>\n",
       "      <th>% augm. FI_CURR</th>\n",
       "    </tr>\n",
       "    <tr>\n",
       "      <th>num_clusters</th>\n",
       "      <th></th>\n",
       "      <th></th>\n",
       "      <th></th>\n",
       "      <th></th>\n",
       "      <th></th>\n",
       "      <th></th>\n",
       "      <th></th>\n",
       "      <th></th>\n",
       "      <th></th>\n",
       "      <th></th>\n",
       "    </tr>\n",
       "  </thead>\n",
       "  <tbody>\n",
       "    <tr>\n",
       "      <th>2</th>\n",
       "      <td>1,030,079.28</td>\n",
       "      <td>1,052,649.77</td>\n",
       "      <td>1,049,107.92</td>\n",
       "      <td>2.19</td>\n",
       "      <td>1.85</td>\n",
       "      <td>1,583,164.60</td>\n",
       "      <td>1,586,455.92</td>\n",
       "      <td>1,582,858.71</td>\n",
       "      <td>0.21</td>\n",
       "      <td>-0.02</td>\n",
       "    </tr>\n",
       "    <tr>\n",
       "      <th>4</th>\n",
       "      <td>413,903.17</td>\n",
       "      <td>541,583.69</td>\n",
       "      <td>544,726.83</td>\n",
       "      <td>30.85</td>\n",
       "      <td>31.61</td>\n",
       "      <td>1,443,572.15</td>\n",
       "      <td>1,442,080.41</td>\n",
       "      <td>1,447,817.54</td>\n",
       "      <td>-0.10</td>\n",
       "      <td>0.29</td>\n",
       "    </tr>\n",
       "    <tr>\n",
       "      <th>8</th>\n",
       "      <td>211,770.48</td>\n",
       "      <td>541,871.99</td>\n",
       "      <td>575,471.25</td>\n",
       "      <td>155.88</td>\n",
       "      <td>171.74</td>\n",
       "      <td>1,530,993.81</td>\n",
       "      <td>1,535,985.34</td>\n",
       "      <td>1,530,183.21</td>\n",
       "      <td>0.33</td>\n",
       "      <td>-0.05</td>\n",
       "    </tr>\n",
       "    <tr>\n",
       "      <th>16</th>\n",
       "      <td>102,322.38</td>\n",
       "      <td>541,905.44</td>\n",
       "      <td>575,264.81</td>\n",
       "      <td>429.61</td>\n",
       "      <td>462.21</td>\n",
       "      <td>1,577,687.04</td>\n",
       "      <td>1,579,973.49</td>\n",
       "      <td>1,579,800.29</td>\n",
       "      <td>0.14</td>\n",
       "      <td>0.13</td>\n",
       "    </tr>\n",
       "    <tr>\n",
       "      <th>32</th>\n",
       "      <td>49,055.96</td>\n",
       "      <td>608,219.31</td>\n",
       "      <td>666,539.49</td>\n",
       "      <td>1,139.85</td>\n",
       "      <td>1,258.73</td>\n",
       "      <td>1,584,017.72</td>\n",
       "      <td>1,583,804.08</td>\n",
       "      <td>1,585,308.47</td>\n",
       "      <td>-0.01</td>\n",
       "      <td>0.08</td>\n",
       "    </tr>\n",
       "    <tr>\n",
       "      <th>64</th>\n",
       "      <td>23,515.97</td>\n",
       "      <td>634,924.87</td>\n",
       "      <td>687,167.75</td>\n",
       "      <td>2,599.97</td>\n",
       "      <td>2,822.13</td>\n",
       "      <td>1,544,217.57</td>\n",
       "      <td>1,547,452.93</td>\n",
       "      <td>1,546,382.81</td>\n",
       "      <td>0.21</td>\n",
       "      <td>0.14</td>\n",
       "    </tr>\n",
       "    <tr>\n",
       "      <th>128</th>\n",
       "      <td>10,520.54</td>\n",
       "      <td>590,615.33</td>\n",
       "      <td>619,982.11</td>\n",
       "      <td>5,513.92</td>\n",
       "      <td>5,793.06</td>\n",
       "      <td>1,446,970.07</td>\n",
       "      <td>1,446,704.29</td>\n",
       "      <td>1,446,322.76</td>\n",
       "      <td>-0.02</td>\n",
       "      <td>-0.04</td>\n",
       "    </tr>\n",
       "    <tr>\n",
       "      <th>256</th>\n",
       "      <td>3,703.82</td>\n",
       "      <td>476,977.44</td>\n",
       "      <td>511,158.74</td>\n",
       "      <td>12,778.00</td>\n",
       "      <td>13,700.86</td>\n",
       "      <td>1,246,042.30</td>\n",
       "      <td>1,246,529.83</td>\n",
       "      <td>1,245,851.79</td>\n",
       "      <td>0.04</td>\n",
       "      <td>-0.02</td>\n",
       "    </tr>\n",
       "  </tbody>\n",
       "</table>\n",
       "</div>"
      ],
      "text/plain": [
       "               end_cost                                              \\\n",
       "init_type       random                                                \n",
       "algorithm      BI_BACK      FI_BACK      FI_CURR    % augm. FI_BACK   \n",
       "num_clusters                                                          \n",
       "2            1,030,079.28 1,052,649.77 1,049,107.92         2.19      \n",
       "4              413,903.17   541,583.69   544,726.83        30.85      \n",
       "8              211,770.48   541,871.99   575,471.25       155.88      \n",
       "16             102,322.38   541,905.44   575,264.81       429.61      \n",
       "32              49,055.96   608,219.31   666,539.49     1,139.85      \n",
       "64              23,515.97   634,924.87   687,167.75     2,599.97      \n",
       "128             10,520.54   590,615.33   619,982.11     5,513.92      \n",
       "256              3,703.82   476,977.44   511,158.74    12,778.00      \n",
       "\n",
       "                                                                     \\\n",
       "init_type                      kmeans+                                \n",
       "algorithm    % augm. FI_CURR   BI_BACK      FI_BACK      FI_CURR      \n",
       "num_clusters                                                          \n",
       "2                    1.85    1,583,164.60 1,586,455.92 1,582,858.71   \n",
       "4                   31.61    1,443,572.15 1,442,080.41 1,447,817.54   \n",
       "8                  171.74    1,530,993.81 1,535,985.34 1,530,183.21   \n",
       "16                 462.21    1,577,687.04 1,579,973.49 1,579,800.29   \n",
       "32               1,258.73    1,584,017.72 1,583,804.08 1,585,308.47   \n",
       "64               2,822.13    1,544,217.57 1,547,452.93 1,546,382.81   \n",
       "128              5,793.06    1,446,970.07 1,446,704.29 1,446,322.76   \n",
       "256             13,700.86    1,246,042.30 1,246,529.83 1,245,851.79   \n",
       "\n",
       "                                              \n",
       "init_type                                     \n",
       "algorithm    % augm. FI_BACK % augm. FI_CURR  \n",
       "num_clusters                                  \n",
       "2                  0.21           -0.02       \n",
       "4                 -0.10            0.29       \n",
       "8                  0.33           -0.05       \n",
       "16                 0.14            0.13       \n",
       "32                -0.01            0.08       \n",
       "64                 0.21            0.14       \n",
       "128               -0.02           -0.04       \n",
       "256                0.04           -0.02       "
      ]
     },
     "metadata": {},
     "output_type": "display_data"
    },
    {
     "data": {
      "text/html": [
       "<div>\n",
       "<style scoped>\n",
       "    .dataframe tbody tr th:only-of-type {\n",
       "        vertical-align: middle;\n",
       "    }\n",
       "\n",
       "    .dataframe tbody tr th {\n",
       "        vertical-align: top;\n",
       "    }\n",
       "\n",
       "    .dataframe thead tr th {\n",
       "        text-align: left;\n",
       "    }\n",
       "\n",
       "    .dataframe thead tr:last-of-type th {\n",
       "        text-align: right;\n",
       "    }\n",
       "</style>\n",
       "<table border=\"1\" class=\"dataframe\">\n",
       "  <thead>\n",
       "    <tr>\n",
       "      <th></th>\n",
       "      <th colspan=\"10\" halign=\"left\">time</th>\n",
       "    </tr>\n",
       "    <tr>\n",
       "      <th>init_type</th>\n",
       "      <th colspan=\"5\" halign=\"left\">random</th>\n",
       "      <th colspan=\"5\" halign=\"left\">kmeans+</th>\n",
       "    </tr>\n",
       "    <tr>\n",
       "      <th>algorithm</th>\n",
       "      <th>BI_BACK</th>\n",
       "      <th>FI_BACK</th>\n",
       "      <th>FI_CURR</th>\n",
       "      <th>% augm. FI_BACK</th>\n",
       "      <th>% augm. FI_CURR</th>\n",
       "      <th>BI_BACK</th>\n",
       "      <th>FI_BACK</th>\n",
       "      <th>FI_CURR</th>\n",
       "      <th>% augm. FI_BACK</th>\n",
       "      <th>% augm. FI_CURR</th>\n",
       "    </tr>\n",
       "    <tr>\n",
       "      <th>num_clusters</th>\n",
       "      <th></th>\n",
       "      <th></th>\n",
       "      <th></th>\n",
       "      <th></th>\n",
       "      <th></th>\n",
       "      <th></th>\n",
       "      <th></th>\n",
       "      <th></th>\n",
       "      <th></th>\n",
       "      <th></th>\n",
       "    </tr>\n",
       "  </thead>\n",
       "  <tbody>\n",
       "    <tr>\n",
       "      <th>2</th>\n",
       "      <td>9,475.51</td>\n",
       "      <td>6,036.15</td>\n",
       "      <td>5,805.13</td>\n",
       "      <td>-36.30</td>\n",
       "      <td>-38.74</td>\n",
       "      <td>3,725.17</td>\n",
       "      <td>2,825.93</td>\n",
       "      <td>2,270.99</td>\n",
       "      <td>-24.14</td>\n",
       "      <td>-39.04</td>\n",
       "    </tr>\n",
       "    <tr>\n",
       "      <th>4</th>\n",
       "      <td>40,993.40</td>\n",
       "      <td>29,707.16</td>\n",
       "      <td>37,861.39</td>\n",
       "      <td>-27.53</td>\n",
       "      <td>-7.64</td>\n",
       "      <td>21,974.78</td>\n",
       "      <td>14,368.35</td>\n",
       "      <td>12,617.00</td>\n",
       "      <td>-34.61</td>\n",
       "      <td>-42.58</td>\n",
       "    </tr>\n",
       "    <tr>\n",
       "      <th>8</th>\n",
       "      <td>119,703.27</td>\n",
       "      <td>132,509.73</td>\n",
       "      <td>141,422.74</td>\n",
       "      <td>10.70</td>\n",
       "      <td>18.14</td>\n",
       "      <td>53,300.16</td>\n",
       "      <td>42,333.36</td>\n",
       "      <td>39,850.10</td>\n",
       "      <td>-20.58</td>\n",
       "      <td>-25.23</td>\n",
       "    </tr>\n",
       "    <tr>\n",
       "      <th>16</th>\n",
       "      <td>294,998.26</td>\n",
       "      <td>444,285.95</td>\n",
       "      <td>470,387.48</td>\n",
       "      <td>50.61</td>\n",
       "      <td>59.45</td>\n",
       "      <td>116,383.87</td>\n",
       "      <td>92,560.44</td>\n",
       "      <td>98,915.74</td>\n",
       "      <td>-20.47</td>\n",
       "      <td>-15.01</td>\n",
       "    </tr>\n",
       "    <tr>\n",
       "      <th>32</th>\n",
       "      <td>651,564.32</td>\n",
       "      <td>1,004,434.93</td>\n",
       "      <td>1,072,246.39</td>\n",
       "      <td>54.16</td>\n",
       "      <td>64.56</td>\n",
       "      <td>217,642.91</td>\n",
       "      <td>172,427.85</td>\n",
       "      <td>164,885.93</td>\n",
       "      <td>-20.77</td>\n",
       "      <td>-24.24</td>\n",
       "    </tr>\n",
       "    <tr>\n",
       "      <th>64</th>\n",
       "      <td>1,267,183.00</td>\n",
       "      <td>1,640,063.00</td>\n",
       "      <td>2,113,844.14</td>\n",
       "      <td>29.43</td>\n",
       "      <td>66.81</td>\n",
       "      <td>392,115.09</td>\n",
       "      <td>311,681.05</td>\n",
       "      <td>281,201.57</td>\n",
       "      <td>-20.51</td>\n",
       "      <td>-28.29</td>\n",
       "    </tr>\n",
       "    <tr>\n",
       "      <th>128</th>\n",
       "      <td>2,399,886.46</td>\n",
       "      <td>3,758,853.47</td>\n",
       "      <td>4,347,150.77</td>\n",
       "      <td>56.63</td>\n",
       "      <td>81.14</td>\n",
       "      <td>693,547.96</td>\n",
       "      <td>579,400.57</td>\n",
       "      <td>467,813.48</td>\n",
       "      <td>-16.46</td>\n",
       "      <td>-32.55</td>\n",
       "    </tr>\n",
       "    <tr>\n",
       "      <th>256</th>\n",
       "      <td>3,894,641.72</td>\n",
       "      <td>5,976,909.46</td>\n",
       "      <td>7,032,811.70</td>\n",
       "      <td>53.46</td>\n",
       "      <td>80.58</td>\n",
       "      <td>1,025,515.51</td>\n",
       "      <td>967,973.99</td>\n",
       "      <td>792,030.53</td>\n",
       "      <td>-5.61</td>\n",
       "      <td>-22.77</td>\n",
       "    </tr>\n",
       "  </tbody>\n",
       "</table>\n",
       "</div>"
      ],
      "text/plain": [
       "                 time                                                \\\n",
       "init_type       random                                                \n",
       "algorithm      BI_BACK      FI_BACK      FI_CURR    % augm. FI_BACK   \n",
       "num_clusters                                                          \n",
       "2                9,475.51     6,036.15     5,805.13      -36.30       \n",
       "4               40,993.40    29,707.16    37,861.39      -27.53       \n",
       "8              119,703.27   132,509.73   141,422.74       10.70       \n",
       "16             294,998.26   444,285.95   470,387.48       50.61       \n",
       "32             651,564.32 1,004,434.93 1,072,246.39       54.16       \n",
       "64           1,267,183.00 1,640,063.00 2,113,844.14       29.43       \n",
       "128          2,399,886.46 3,758,853.47 4,347,150.77       56.63       \n",
       "256          3,894,641.72 5,976,909.46 7,032,811.70       53.46       \n",
       "\n",
       "                                                                 \\\n",
       "init_type                      kmeans+                            \n",
       "algorithm    % augm. FI_CURR   BI_BACK     FI_BACK    FI_CURR     \n",
       "num_clusters                                                      \n",
       "2                 -38.74         3,725.17   2,825.93   2,270.99   \n",
       "4                  -7.64        21,974.78  14,368.35  12,617.00   \n",
       "8                  18.14        53,300.16  42,333.36  39,850.10   \n",
       "16                 59.45       116,383.87  92,560.44  98,915.74   \n",
       "32                 64.56       217,642.91 172,427.85 164,885.93   \n",
       "64                 66.81       392,115.09 311,681.05 281,201.57   \n",
       "128                81.14       693,547.96 579,400.57 467,813.48   \n",
       "256                80.58     1,025,515.51 967,973.99 792,030.53   \n",
       "\n",
       "                                              \n",
       "init_type                                     \n",
       "algorithm    % augm. FI_BACK % augm. FI_CURR  \n",
       "num_clusters                                  \n",
       "2                 -24.14          -39.04      \n",
       "4                 -34.61          -42.58      \n",
       "8                 -20.58          -25.23      \n",
       "16                -20.47          -15.01      \n",
       "32                -20.77          -24.24      \n",
       "64                -20.51          -28.29      \n",
       "128               -16.46          -32.55      \n",
       "256                -5.61          -22.77      "
      ]
     },
     "metadata": {},
     "output_type": "display_data"
    },
    {
     "data": {
      "text/html": [
       "<div>\n",
       "<style scoped>\n",
       "    .dataframe tbody tr th:only-of-type {\n",
       "        vertical-align: middle;\n",
       "    }\n",
       "\n",
       "    .dataframe tbody tr th {\n",
       "        vertical-align: top;\n",
       "    }\n",
       "\n",
       "    .dataframe thead tr th {\n",
       "        text-align: left;\n",
       "    }\n",
       "\n",
       "    .dataframe thead tr:last-of-type th {\n",
       "        text-align: right;\n",
       "    }\n",
       "</style>\n",
       "<table border=\"1\" class=\"dataframe\">\n",
       "  <thead>\n",
       "    <tr>\n",
       "      <th></th>\n",
       "      <th colspan=\"10\" halign=\"left\">num_iter</th>\n",
       "    </tr>\n",
       "    <tr>\n",
       "      <th>init_type</th>\n",
       "      <th colspan=\"5\" halign=\"left\">random</th>\n",
       "      <th colspan=\"5\" halign=\"left\">kmeans+</th>\n",
       "    </tr>\n",
       "    <tr>\n",
       "      <th>algorithm</th>\n",
       "      <th>BI_BACK</th>\n",
       "      <th>FI_BACK</th>\n",
       "      <th>FI_CURR</th>\n",
       "      <th>% augm. FI_BACK</th>\n",
       "      <th>% augm. FI_CURR</th>\n",
       "      <th>BI_BACK</th>\n",
       "      <th>FI_BACK</th>\n",
       "      <th>FI_CURR</th>\n",
       "      <th>% augm. FI_BACK</th>\n",
       "      <th>% augm. FI_CURR</th>\n",
       "    </tr>\n",
       "    <tr>\n",
       "      <th>num_clusters</th>\n",
       "      <th></th>\n",
       "      <th></th>\n",
       "      <th></th>\n",
       "      <th></th>\n",
       "      <th></th>\n",
       "      <th></th>\n",
       "      <th></th>\n",
       "      <th></th>\n",
       "      <th></th>\n",
       "      <th></th>\n",
       "    </tr>\n",
       "  </thead>\n",
       "  <tbody>\n",
       "    <tr>\n",
       "      <th>2</th>\n",
       "      <td>510.15</td>\n",
       "      <td>817.11</td>\n",
       "      <td>819.38</td>\n",
       "      <td>60.17</td>\n",
       "      <td>60.61</td>\n",
       "      <td>175.07</td>\n",
       "      <td>185.94</td>\n",
       "      <td>190.63</td>\n",
       "      <td>6.21</td>\n",
       "      <td>8.89</td>\n",
       "    </tr>\n",
       "    <tr>\n",
       "      <th>4</th>\n",
       "      <td>886.30</td>\n",
       "      <td>2,062.68</td>\n",
       "      <td>2,053.62</td>\n",
       "      <td>132.73</td>\n",
       "      <td>131.71</td>\n",
       "      <td>395.61</td>\n",
       "      <td>512.55</td>\n",
       "      <td>512.11</td>\n",
       "      <td>29.56</td>\n",
       "      <td>29.45</td>\n",
       "    </tr>\n",
       "    <tr>\n",
       "      <th>8</th>\n",
       "      <td>1,217.48</td>\n",
       "      <td>3,587.72</td>\n",
       "      <td>3,569.65</td>\n",
       "      <td>194.68</td>\n",
       "      <td>193.20</td>\n",
       "      <td>504.69</td>\n",
       "      <td>754.40</td>\n",
       "      <td>763.66</td>\n",
       "      <td>49.48</td>\n",
       "      <td>51.31</td>\n",
       "    </tr>\n",
       "    <tr>\n",
       "      <th>16</th>\n",
       "      <td>1,399.40</td>\n",
       "      <td>5,556.27</td>\n",
       "      <td>5,654.24</td>\n",
       "      <td>297.05</td>\n",
       "      <td>304.05</td>\n",
       "      <td>537.01</td>\n",
       "      <td>826.93</td>\n",
       "      <td>828.81</td>\n",
       "      <td>53.99</td>\n",
       "      <td>54.34</td>\n",
       "    </tr>\n",
       "    <tr>\n",
       "      <th>32</th>\n",
       "      <td>1,534.25</td>\n",
       "      <td>7,221.29</td>\n",
       "      <td>7,129.06</td>\n",
       "      <td>370.67</td>\n",
       "      <td>364.66</td>\n",
       "      <td>504.39</td>\n",
       "      <td>784.41</td>\n",
       "      <td>796.97</td>\n",
       "      <td>55.52</td>\n",
       "      <td>58.00</td>\n",
       "    </tr>\n",
       "    <tr>\n",
       "      <th>64</th>\n",
       "      <td>1,571.68</td>\n",
       "      <td>8,588.02</td>\n",
       "      <td>8,440.80</td>\n",
       "      <td>446.42</td>\n",
       "      <td>437.05</td>\n",
       "      <td>451.08</td>\n",
       "      <td>708.27</td>\n",
       "      <td>711.75</td>\n",
       "      <td>57.02</td>\n",
       "      <td>57.79</td>\n",
       "    </tr>\n",
       "    <tr>\n",
       "      <th>128</th>\n",
       "      <td>1,491.85</td>\n",
       "      <td>9,873.52</td>\n",
       "      <td>9,919.03</td>\n",
       "      <td>561.83</td>\n",
       "      <td>564.88</td>\n",
       "      <td>397.19</td>\n",
       "      <td>627.29</td>\n",
       "      <td>639.87</td>\n",
       "      <td>57.93</td>\n",
       "      <td>61.10</td>\n",
       "    </tr>\n",
       "    <tr>\n",
       "      <th>256</th>\n",
       "      <td>1,284.59</td>\n",
       "      <td>9,585.79</td>\n",
       "      <td>9,234.18</td>\n",
       "      <td>646.22</td>\n",
       "      <td>618.85</td>\n",
       "      <td>345.61</td>\n",
       "      <td>529.58</td>\n",
       "      <td>524.62</td>\n",
       "      <td>53.23</td>\n",
       "      <td>51.79</td>\n",
       "    </tr>\n",
       "  </tbody>\n",
       "</table>\n",
       "</div>"
      ],
      "text/plain": [
       "             num_iter                                                    \\\n",
       "init_type     random                                                      \n",
       "algorithm    BI_BACK  FI_BACK  FI_CURR  % augm. FI_BACK % augm. FI_CURR   \n",
       "num_clusters                                                              \n",
       "2              510.15   817.11   819.38       60.17           60.61       \n",
       "4              886.30 2,062.68 2,053.62      132.73          131.71       \n",
       "8            1,217.48 3,587.72 3,569.65      194.68          193.20       \n",
       "16           1,399.40 5,556.27 5,654.24      297.05          304.05       \n",
       "32           1,534.25 7,221.29 7,129.06      370.67          364.66       \n",
       "64           1,571.68 8,588.02 8,440.80      446.42          437.05       \n",
       "128          1,491.85 9,873.52 9,919.03      561.83          564.88       \n",
       "256          1,284.59 9,585.79 9,234.18      646.22          618.85       \n",
       "\n",
       "                                                                      \n",
       "init_type    kmeans+                                                  \n",
       "algorithm    BI_BACK FI_BACK FI_CURR % augm. FI_BACK % augm. FI_CURR  \n",
       "num_clusters                                                          \n",
       "2             175.07  185.94  190.63       6.21            8.89       \n",
       "4             395.61  512.55  512.11      29.56           29.45       \n",
       "8             504.69  754.40  763.66      49.48           51.31       \n",
       "16            537.01  826.93  828.81      53.99           54.34       \n",
       "32            504.39  784.41  796.97      55.52           58.00       \n",
       "64            451.08  708.27  711.75      57.02           57.79       \n",
       "128           397.19  627.29  639.87      57.93           61.10       \n",
       "256           345.61  529.58  524.62      53.23           51.79       "
      ]
     },
     "metadata": {},
     "output_type": "display_data"
    },
    {
     "data": {
      "text/html": [
       "<div>\n",
       "<style scoped>\n",
       "    .dataframe tbody tr th:only-of-type {\n",
       "        vertical-align: middle;\n",
       "    }\n",
       "\n",
       "    .dataframe tbody tr th {\n",
       "        vertical-align: top;\n",
       "    }\n",
       "\n",
       "    .dataframe thead tr th {\n",
       "        text-align: left;\n",
       "    }\n",
       "\n",
       "    .dataframe thead tr:last-of-type th {\n",
       "        text-align: right;\n",
       "    }\n",
       "</style>\n",
       "<table border=\"1\" class=\"dataframe\">\n",
       "  <thead>\n",
       "    <tr>\n",
       "      <th></th>\n",
       "      <th colspan=\"10\" halign=\"left\">num_iter_tot</th>\n",
       "    </tr>\n",
       "    <tr>\n",
       "      <th>init_type</th>\n",
       "      <th colspan=\"5\" halign=\"left\">random</th>\n",
       "      <th colspan=\"5\" halign=\"left\">kmeans+</th>\n",
       "    </tr>\n",
       "    <tr>\n",
       "      <th>algorithm</th>\n",
       "      <th>BI_BACK</th>\n",
       "      <th>FI_BACK</th>\n",
       "      <th>FI_CURR</th>\n",
       "      <th>% augm. FI_BACK</th>\n",
       "      <th>% augm. FI_CURR</th>\n",
       "      <th>BI_BACK</th>\n",
       "      <th>FI_BACK</th>\n",
       "      <th>FI_CURR</th>\n",
       "      <th>% augm. FI_BACK</th>\n",
       "      <th>% augm. FI_CURR</th>\n",
       "    </tr>\n",
       "    <tr>\n",
       "      <th>num_clusters</th>\n",
       "      <th></th>\n",
       "      <th></th>\n",
       "      <th></th>\n",
       "      <th></th>\n",
       "      <th></th>\n",
       "      <th></th>\n",
       "      <th></th>\n",
       "      <th></th>\n",
       "      <th></th>\n",
       "      <th></th>\n",
       "    </tr>\n",
       "  </thead>\n",
       "  <tbody>\n",
       "    <tr>\n",
       "      <th>2</th>\n",
       "      <td>511,154.00</td>\n",
       "      <td>330,086.96</td>\n",
       "      <td>330,109.53</td>\n",
       "      <td>-35.42</td>\n",
       "      <td>-35.42</td>\n",
       "      <td>176,066.00</td>\n",
       "      <td>90,808.66</td>\n",
       "      <td>92,835.18</td>\n",
       "      <td>-48.42</td>\n",
       "      <td>-47.27</td>\n",
       "    </tr>\n",
       "    <tr>\n",
       "      <th>4</th>\n",
       "      <td>2,661,888.00</td>\n",
       "      <td>2,328,509.02</td>\n",
       "      <td>2,315,292.78</td>\n",
       "      <td>-12.52</td>\n",
       "      <td>-13.02</td>\n",
       "      <td>1,189,836.00</td>\n",
       "      <td>722,785.83</td>\n",
       "      <td>719,630.33</td>\n",
       "      <td>-39.25</td>\n",
       "      <td>-39.52</td>\n",
       "    </tr>\n",
       "    <tr>\n",
       "      <th>8</th>\n",
       "      <td>8,529,388.00</td>\n",
       "      <td>9,013,647.59</td>\n",
       "      <td>8,907,540.10</td>\n",
       "      <td>5.68</td>\n",
       "      <td>4.43</td>\n",
       "      <td>3,539,858.00</td>\n",
       "      <td>2,411,948.65</td>\n",
       "      <td>2,445,188.58</td>\n",
       "      <td>-31.86</td>\n",
       "      <td>-30.92</td>\n",
       "    </tr>\n",
       "    <tr>\n",
       "      <th>16</th>\n",
       "      <td>21,006,000.00</td>\n",
       "      <td>28,892,365.27</td>\n",
       "      <td>28,773,720.54</td>\n",
       "      <td>37.54</td>\n",
       "      <td>36.98</td>\n",
       "      <td>8,070,090.00</td>\n",
       "      <td>5,655,091.60</td>\n",
       "      <td>5,652,694.24</td>\n",
       "      <td>-29.93</td>\n",
       "      <td>-29.96</td>\n",
       "    </tr>\n",
       "    <tr>\n",
       "      <th>32</th>\n",
       "      <td>47,592,874.00</td>\n",
       "      <td>70,619,655.86</td>\n",
       "      <td>68,060,844.21</td>\n",
       "      <td>48.38</td>\n",
       "      <td>43.01</td>\n",
       "      <td>15,667,245.00</td>\n",
       "      <td>11,028,412.75</td>\n",
       "      <td>11,202,833.55</td>\n",
       "      <td>-29.61</td>\n",
       "      <td>-28.50</td>\n",
       "    </tr>\n",
       "    <tr>\n",
       "      <th>64</th>\n",
       "      <td>99,079,092.00</td>\n",
       "      <td>150,153,325.33</td>\n",
       "      <td>142,517,872.09</td>\n",
       "      <td>51.55</td>\n",
       "      <td>43.84</td>\n",
       "      <td>28,480,977.00</td>\n",
       "      <td>19,965,781.36</td>\n",
       "      <td>20,118,279.23</td>\n",
       "      <td>-29.90</td>\n",
       "      <td>-29.36</td>\n",
       "    </tr>\n",
       "    <tr>\n",
       "      <th>128</th>\n",
       "      <td>189,591,696.00</td>\n",
       "      <td>297,514,238.76</td>\n",
       "      <td>297,086,015.95</td>\n",
       "      <td>56.92</td>\n",
       "      <td>56.70</td>\n",
       "      <td>50,569,749.00</td>\n",
       "      <td>35,151,860.10</td>\n",
       "      <td>36,060,293.02</td>\n",
       "      <td>-30.49</td>\n",
       "      <td>-28.69</td>\n",
       "    </tr>\n",
       "    <tr>\n",
       "      <th>256</th>\n",
       "      <td>327,824,175.00</td>\n",
       "      <td>501,769,959.20</td>\n",
       "      <td>475,185,237.97</td>\n",
       "      <td>53.06</td>\n",
       "      <td>44.95</td>\n",
       "      <td>88,385,805.00</td>\n",
       "      <td>58,870,454.49</td>\n",
       "      <td>58,396,002.09</td>\n",
       "      <td>-33.39</td>\n",
       "      <td>-33.93</td>\n",
       "    </tr>\n",
       "  </tbody>\n",
       "</table>\n",
       "</div>"
      ],
      "text/plain": [
       "              num_iter_tot                                                 \\\n",
       "init_type        random                                                     \n",
       "algorithm       BI_BACK        FI_BACK        FI_CURR     % augm. FI_BACK   \n",
       "num_clusters                                                                \n",
       "2                511,154.00     330,086.96     330,109.53      -35.42       \n",
       "4              2,661,888.00   2,328,509.02   2,315,292.78      -12.52       \n",
       "8              8,529,388.00   9,013,647.59   8,907,540.10        5.68       \n",
       "16            21,006,000.00  28,892,365.27  28,773,720.54       37.54       \n",
       "32            47,592,874.00  70,619,655.86  68,060,844.21       48.38       \n",
       "64            99,079,092.00 150,153,325.33 142,517,872.09       51.55       \n",
       "128          189,591,696.00 297,514,238.76 297,086,015.95       56.92       \n",
       "256          327,824,175.00 501,769,959.20 475,185,237.97       53.06       \n",
       "\n",
       "                                                                        \\\n",
       "init_type                       kmeans+                                  \n",
       "algorithm    % augm. FI_CURR    BI_BACK       FI_BACK       FI_CURR      \n",
       "num_clusters                                                             \n",
       "2                 -35.42        176,066.00     90,808.66     92,835.18   \n",
       "4                 -13.02      1,189,836.00    722,785.83    719,630.33   \n",
       "8                   4.43      3,539,858.00  2,411,948.65  2,445,188.58   \n",
       "16                 36.98      8,070,090.00  5,655,091.60  5,652,694.24   \n",
       "32                 43.01     15,667,245.00 11,028,412.75 11,202,833.55   \n",
       "64                 43.84     28,480,977.00 19,965,781.36 20,118,279.23   \n",
       "128                56.70     50,569,749.00 35,151,860.10 36,060,293.02   \n",
       "256                44.95     88,385,805.00 58,870,454.49 58,396,002.09   \n",
       "\n",
       "                                              \n",
       "init_type                                     \n",
       "algorithm    % augm. FI_BACK % augm. FI_CURR  \n",
       "num_clusters                                  \n",
       "2                 -48.42          -47.27      \n",
       "4                 -39.25          -39.52      \n",
       "8                 -31.86          -30.92      \n",
       "16                -29.93          -29.96      \n",
       "32                -29.61          -28.50      \n",
       "64                -29.90          -29.36      \n",
       "128               -30.49          -28.69      \n",
       "256               -33.39          -33.93      "
      ]
     },
     "metadata": {},
     "output_type": "display_data"
    }
   ],
   "source": [
    "grouped_cols = [\"num_clusters\",\"Nb. points\",\"algorithm\",\"init_type\"]\n",
    "df_compil = orig_df.copy().groupby(grouped_cols).mean().reset_index()\n",
    "Ldf = []\n",
    "col_names = [(\"random\",\"BI_BACK\"),(\"random\",\"FI_BACK\"),(\"random\",\"FI_CURR\"),(\"random\",\"% augm. FI_BACK\"),(\"random\",\"% augm. FI_CURR\"),\n",
    "             (\"kmeans+\",\"BI_BACK\"),(\"kmeans+\",\"FI_BACK\"),(\"kmeans+\",\"FI_CURR\"),(\"kmeans+\",\"% augm. FI_BACK\"),(\"kmeans+\",\"% augm. FI_CURR\")\n",
    "             ]\n",
    "for field in FIELDS:\n",
    "    df = df_compil.set_index(grouped_cols)[field].unstack().unstack()\n",
    "    for init in [\"random\",\"kmeans+\"]:\n",
    "        for fi in [\"FI_BACK\",\"FI_CURR\"]:\n",
    "            df[init,\"% augm. \"+fi] = (df[init,fi]-df[init,\"BI_BACK\"])/df[init,\"BI_BACK\"]*100\n",
    "    df = df[col_names]\n",
    "    df = pd.concat([df], axis=1, keys=[field]) # Add field name to columns\n",
    "    Ldf.append(df)\n",
    "df_compil = pd.concat(Ldf, axis=1)\n",
    "df_compil = df_compil.reset_index().drop([\"Nb. points\"],axis=1).set_index(\"num_clusters\")\n",
    "# display(df_compil)\n",
    "for f in FIELDS:\n",
    "    display(df_compil[[f]])"
   ]
  },
  {
   "cell_type": "markdown",
   "metadata": {},
   "source": [
    "### Temps avec moyennes"
   ]
  },
  {
   "cell_type": "code",
   "execution_count": 484,
   "metadata": {},
   "outputs": [
    {
     "name": "stdout",
     "output_type": "stream",
     "text": [
      "Time: 4 h 12 m 56 s\n"
     ]
    }
   ],
   "source": [
    "ALGO = \"FI_BACK\"\n",
    "df_time = Ldf[1].copy()\n",
    "tot = 0.\n",
    "for init in [\"random\",\"kmeans+\"]:\n",
    "    tot += np.sum(df_time[\"time\",init,ALGO])\n",
    "val=tot*1e-6*1000 # en s\n",
    "h = int(val/3600)\n",
    "m = int((val-h*3600)/60)\n",
    "s = int(val-h*3600-m*60)\n",
    "print(\"Time:\",h,\"h\",m,\"m\",s,\"s\")\n"
   ]
  },
  {
   "cell_type": "code",
   "execution_count": 470,
   "metadata": {},
   "outputs": [
    {
     "data": {
      "application/vnd.plotly.v1+json": {
       "config": {
        "plotlyServerURL": "https://plot.ly"
       },
       "data": [
        {
         "customdata": [
          [
           2,
           1.8472985922693252
          ],
          [
           4,
           31.607311495941776
          ],
          [
           8,
           171.742904684644
          ],
          [
           16,
           462.2082056263903
          ],
          [
           32,
           1258.7328044986684
          ],
          [
           64,
           2822.132068976996
          ],
          [
           128,
           5793.061674807343
          ],
          [
           256,
           13700.864029329943
          ],
          [
           2,
           -0.019321647178389655
          ],
          [
           4,
           0.2940889328281384
          ],
          [
           8,
           -0.05294634495570092
          ],
          [
           16,
           0.13394605959992506
          ],
          [
           32,
           0.08148594441827611
          ],
          [
           64,
           0.14021579398389314
          ],
          [
           128,
           -0.04473585498760904
          ],
          [
           256,
           -0.015288944013377413
          ]
         ],
         "hovertemplate": "x=%{x}<br>init_type=%{y}<br>num_clusters=%{customdata[0]}<br>% augm. FI_CURR=%{customdata[1]}<br>color=%{marker.color}<extra></extra>",
         "legendgroup": "",
         "marker": {
          "color": [
           3.266537099281079,
           4.499787556512357,
           5.234878803839544,
           5.6648376512829195,
           6.099933550721674,
           6.450577333828619,
           6.762908152163121,
           7.136747956305152,
           -1.2860441474413813,
           2.468478681419323,
           -1.7238359848333191,
           2.1269299421384793,
           1.9110827033655347,
           2.1467969355544865,
           -1.6506557419554422,
           -1.1843774903174484
          ],
          "coloraxis": "coloraxis",
          "line": {
           "color": "black",
           "width": 2
          },
          "size": 12,
          "symbol": "circle"
         },
         "mode": "markers",
         "name": "",
         "orientation": "h",
         "showlegend": false,
         "type": "scatter",
         "x": [
          1,
          2,
          3,
          4,
          5,
          6,
          7,
          8,
          1,
          2,
          3,
          4,
          5,
          6,
          7,
          8
         ],
         "xaxis": "x",
         "y": [
          "random",
          "random",
          "random",
          "random",
          "random",
          "random",
          "random",
          "random",
          "kmeans+",
          "kmeans+",
          "kmeans+",
          "kmeans+",
          "kmeans+",
          "kmeans+",
          "kmeans+",
          "kmeans+"
         ],
         "yaxis": "y"
        }
       ],
       "layout": {
        "coloraxis": {
         "cmax": 3.001,
         "cmin": -3.001,
         "colorbar": {
          "ticktext": [
           "-1E0",
           "-1E-1",
           "-1E-2",
           0,
           "1E-2",
           "1E-1",
           "1E0"
          ],
          "tickvals": [
           -3,
           -2,
           -1,
           0,
           1,
           2,
           3
          ],
          "title": {
           "text": "% augmentation <br>coût final"
          }
         },
         "colorscale": [
          [
           0,
           "green"
          ],
          [
           0.25,
           "#00FF00"
          ],
          [
           0.5,
           "white"
          ],
          [
           0.75,
           "orange"
          ],
          [
           1,
           "red"
          ]
         ]
        },
        "height": 400,
        "legend": {
         "tracegroupgap": 0
        },
        "template": {
         "data": {
          "bar": [
           {
            "error_x": {
             "color": "#2a3f5f"
            },
            "error_y": {
             "color": "#2a3f5f"
            },
            "marker": {
             "line": {
              "color": "#E5ECF6",
              "width": 0.5
             },
             "pattern": {
              "fillmode": "overlay",
              "size": 10,
              "solidity": 0.2
             }
            },
            "type": "bar"
           }
          ],
          "barpolar": [
           {
            "marker": {
             "line": {
              "color": "#E5ECF6",
              "width": 0.5
             },
             "pattern": {
              "fillmode": "overlay",
              "size": 10,
              "solidity": 0.2
             }
            },
            "type": "barpolar"
           }
          ],
          "carpet": [
           {
            "aaxis": {
             "endlinecolor": "#2a3f5f",
             "gridcolor": "white",
             "linecolor": "white",
             "minorgridcolor": "white",
             "startlinecolor": "#2a3f5f"
            },
            "baxis": {
             "endlinecolor": "#2a3f5f",
             "gridcolor": "white",
             "linecolor": "white",
             "minorgridcolor": "white",
             "startlinecolor": "#2a3f5f"
            },
            "type": "carpet"
           }
          ],
          "choropleth": [
           {
            "colorbar": {
             "outlinewidth": 0,
             "ticks": ""
            },
            "type": "choropleth"
           }
          ],
          "contour": [
           {
            "colorbar": {
             "outlinewidth": 0,
             "ticks": ""
            },
            "colorscale": [
             [
              0,
              "#0d0887"
             ],
             [
              0.1111111111111111,
              "#46039f"
             ],
             [
              0.2222222222222222,
              "#7201a8"
             ],
             [
              0.3333333333333333,
              "#9c179e"
             ],
             [
              0.4444444444444444,
              "#bd3786"
             ],
             [
              0.5555555555555556,
              "#d8576b"
             ],
             [
              0.6666666666666666,
              "#ed7953"
             ],
             [
              0.7777777777777778,
              "#fb9f3a"
             ],
             [
              0.8888888888888888,
              "#fdca26"
             ],
             [
              1,
              "#f0f921"
             ]
            ],
            "type": "contour"
           }
          ],
          "contourcarpet": [
           {
            "colorbar": {
             "outlinewidth": 0,
             "ticks": ""
            },
            "type": "contourcarpet"
           }
          ],
          "heatmap": [
           {
            "colorbar": {
             "outlinewidth": 0,
             "ticks": ""
            },
            "colorscale": [
             [
              0,
              "#0d0887"
             ],
             [
              0.1111111111111111,
              "#46039f"
             ],
             [
              0.2222222222222222,
              "#7201a8"
             ],
             [
              0.3333333333333333,
              "#9c179e"
             ],
             [
              0.4444444444444444,
              "#bd3786"
             ],
             [
              0.5555555555555556,
              "#d8576b"
             ],
             [
              0.6666666666666666,
              "#ed7953"
             ],
             [
              0.7777777777777778,
              "#fb9f3a"
             ],
             [
              0.8888888888888888,
              "#fdca26"
             ],
             [
              1,
              "#f0f921"
             ]
            ],
            "type": "heatmap"
           }
          ],
          "heatmapgl": [
           {
            "colorbar": {
             "outlinewidth": 0,
             "ticks": ""
            },
            "colorscale": [
             [
              0,
              "#0d0887"
             ],
             [
              0.1111111111111111,
              "#46039f"
             ],
             [
              0.2222222222222222,
              "#7201a8"
             ],
             [
              0.3333333333333333,
              "#9c179e"
             ],
             [
              0.4444444444444444,
              "#bd3786"
             ],
             [
              0.5555555555555556,
              "#d8576b"
             ],
             [
              0.6666666666666666,
              "#ed7953"
             ],
             [
              0.7777777777777778,
              "#fb9f3a"
             ],
             [
              0.8888888888888888,
              "#fdca26"
             ],
             [
              1,
              "#f0f921"
             ]
            ],
            "type": "heatmapgl"
           }
          ],
          "histogram": [
           {
            "marker": {
             "pattern": {
              "fillmode": "overlay",
              "size": 10,
              "solidity": 0.2
             }
            },
            "type": "histogram"
           }
          ],
          "histogram2d": [
           {
            "colorbar": {
             "outlinewidth": 0,
             "ticks": ""
            },
            "colorscale": [
             [
              0,
              "#0d0887"
             ],
             [
              0.1111111111111111,
              "#46039f"
             ],
             [
              0.2222222222222222,
              "#7201a8"
             ],
             [
              0.3333333333333333,
              "#9c179e"
             ],
             [
              0.4444444444444444,
              "#bd3786"
             ],
             [
              0.5555555555555556,
              "#d8576b"
             ],
             [
              0.6666666666666666,
              "#ed7953"
             ],
             [
              0.7777777777777778,
              "#fb9f3a"
             ],
             [
              0.8888888888888888,
              "#fdca26"
             ],
             [
              1,
              "#f0f921"
             ]
            ],
            "type": "histogram2d"
           }
          ],
          "histogram2dcontour": [
           {
            "colorbar": {
             "outlinewidth": 0,
             "ticks": ""
            },
            "colorscale": [
             [
              0,
              "#0d0887"
             ],
             [
              0.1111111111111111,
              "#46039f"
             ],
             [
              0.2222222222222222,
              "#7201a8"
             ],
             [
              0.3333333333333333,
              "#9c179e"
             ],
             [
              0.4444444444444444,
              "#bd3786"
             ],
             [
              0.5555555555555556,
              "#d8576b"
             ],
             [
              0.6666666666666666,
              "#ed7953"
             ],
             [
              0.7777777777777778,
              "#fb9f3a"
             ],
             [
              0.8888888888888888,
              "#fdca26"
             ],
             [
              1,
              "#f0f921"
             ]
            ],
            "type": "histogram2dcontour"
           }
          ],
          "mesh3d": [
           {
            "colorbar": {
             "outlinewidth": 0,
             "ticks": ""
            },
            "type": "mesh3d"
           }
          ],
          "parcoords": [
           {
            "line": {
             "colorbar": {
              "outlinewidth": 0,
              "ticks": ""
             }
            },
            "type": "parcoords"
           }
          ],
          "pie": [
           {
            "automargin": true,
            "type": "pie"
           }
          ],
          "scatter": [
           {
            "marker": {
             "colorbar": {
              "outlinewidth": 0,
              "ticks": ""
             }
            },
            "type": "scatter"
           }
          ],
          "scatter3d": [
           {
            "line": {
             "colorbar": {
              "outlinewidth": 0,
              "ticks": ""
             }
            },
            "marker": {
             "colorbar": {
              "outlinewidth": 0,
              "ticks": ""
             }
            },
            "type": "scatter3d"
           }
          ],
          "scattercarpet": [
           {
            "marker": {
             "colorbar": {
              "outlinewidth": 0,
              "ticks": ""
             }
            },
            "type": "scattercarpet"
           }
          ],
          "scattergeo": [
           {
            "marker": {
             "colorbar": {
              "outlinewidth": 0,
              "ticks": ""
             }
            },
            "type": "scattergeo"
           }
          ],
          "scattergl": [
           {
            "marker": {
             "colorbar": {
              "outlinewidth": 0,
              "ticks": ""
             }
            },
            "type": "scattergl"
           }
          ],
          "scattermapbox": [
           {
            "marker": {
             "colorbar": {
              "outlinewidth": 0,
              "ticks": ""
             }
            },
            "type": "scattermapbox"
           }
          ],
          "scatterpolar": [
           {
            "marker": {
             "colorbar": {
              "outlinewidth": 0,
              "ticks": ""
             }
            },
            "type": "scatterpolar"
           }
          ],
          "scatterpolargl": [
           {
            "marker": {
             "colorbar": {
              "outlinewidth": 0,
              "ticks": ""
             }
            },
            "type": "scatterpolargl"
           }
          ],
          "scatterternary": [
           {
            "marker": {
             "colorbar": {
              "outlinewidth": 0,
              "ticks": ""
             }
            },
            "type": "scatterternary"
           }
          ],
          "surface": [
           {
            "colorbar": {
             "outlinewidth": 0,
             "ticks": ""
            },
            "colorscale": [
             [
              0,
              "#0d0887"
             ],
             [
              0.1111111111111111,
              "#46039f"
             ],
             [
              0.2222222222222222,
              "#7201a8"
             ],
             [
              0.3333333333333333,
              "#9c179e"
             ],
             [
              0.4444444444444444,
              "#bd3786"
             ],
             [
              0.5555555555555556,
              "#d8576b"
             ],
             [
              0.6666666666666666,
              "#ed7953"
             ],
             [
              0.7777777777777778,
              "#fb9f3a"
             ],
             [
              0.8888888888888888,
              "#fdca26"
             ],
             [
              1,
              "#f0f921"
             ]
            ],
            "type": "surface"
           }
          ],
          "table": [
           {
            "cells": {
             "fill": {
              "color": "#EBF0F8"
             },
             "line": {
              "color": "white"
             }
            },
            "header": {
             "fill": {
              "color": "#C8D4E3"
             },
             "line": {
              "color": "white"
             }
            },
            "type": "table"
           }
          ]
         },
         "layout": {
          "annotationdefaults": {
           "arrowcolor": "#2a3f5f",
           "arrowhead": 0,
           "arrowwidth": 1
          },
          "autotypenumbers": "strict",
          "coloraxis": {
           "colorbar": {
            "outlinewidth": 0,
            "ticks": ""
           }
          },
          "colorscale": {
           "diverging": [
            [
             0,
             "#8e0152"
            ],
            [
             0.1,
             "#c51b7d"
            ],
            [
             0.2,
             "#de77ae"
            ],
            [
             0.3,
             "#f1b6da"
            ],
            [
             0.4,
             "#fde0ef"
            ],
            [
             0.5,
             "#f7f7f7"
            ],
            [
             0.6,
             "#e6f5d0"
            ],
            [
             0.7,
             "#b8e186"
            ],
            [
             0.8,
             "#7fbc41"
            ],
            [
             0.9,
             "#4d9221"
            ],
            [
             1,
             "#276419"
            ]
           ],
           "sequential": [
            [
             0,
             "#0d0887"
            ],
            [
             0.1111111111111111,
             "#46039f"
            ],
            [
             0.2222222222222222,
             "#7201a8"
            ],
            [
             0.3333333333333333,
             "#9c179e"
            ],
            [
             0.4444444444444444,
             "#bd3786"
            ],
            [
             0.5555555555555556,
             "#d8576b"
            ],
            [
             0.6666666666666666,
             "#ed7953"
            ],
            [
             0.7777777777777778,
             "#fb9f3a"
            ],
            [
             0.8888888888888888,
             "#fdca26"
            ],
            [
             1,
             "#f0f921"
            ]
           ],
           "sequentialminus": [
            [
             0,
             "#0d0887"
            ],
            [
             0.1111111111111111,
             "#46039f"
            ],
            [
             0.2222222222222222,
             "#7201a8"
            ],
            [
             0.3333333333333333,
             "#9c179e"
            ],
            [
             0.4444444444444444,
             "#bd3786"
            ],
            [
             0.5555555555555556,
             "#d8576b"
            ],
            [
             0.6666666666666666,
             "#ed7953"
            ],
            [
             0.7777777777777778,
             "#fb9f3a"
            ],
            [
             0.8888888888888888,
             "#fdca26"
            ],
            [
             1,
             "#f0f921"
            ]
           ]
          },
          "colorway": [
           "#636efa",
           "#EF553B",
           "#00cc96",
           "#ab63fa",
           "#FFA15A",
           "#19d3f3",
           "#FF6692",
           "#B6E880",
           "#FF97FF",
           "#FECB52"
          ],
          "font": {
           "color": "#2a3f5f"
          },
          "geo": {
           "bgcolor": "white",
           "lakecolor": "white",
           "landcolor": "#E5ECF6",
           "showlakes": true,
           "showland": true,
           "subunitcolor": "white"
          },
          "hoverlabel": {
           "align": "left"
          },
          "hovermode": "closest",
          "mapbox": {
           "style": "light"
          },
          "paper_bgcolor": "white",
          "plot_bgcolor": "#E5ECF6",
          "polar": {
           "angularaxis": {
            "gridcolor": "white",
            "linecolor": "white",
            "ticks": ""
           },
           "bgcolor": "#E5ECF6",
           "radialaxis": {
            "gridcolor": "white",
            "linecolor": "white",
            "ticks": ""
           }
          },
          "scene": {
           "xaxis": {
            "backgroundcolor": "#E5ECF6",
            "gridcolor": "white",
            "gridwidth": 2,
            "linecolor": "white",
            "showbackground": true,
            "ticks": "",
            "zerolinecolor": "white"
           },
           "yaxis": {
            "backgroundcolor": "#E5ECF6",
            "gridcolor": "white",
            "gridwidth": 2,
            "linecolor": "white",
            "showbackground": true,
            "ticks": "",
            "zerolinecolor": "white"
           },
           "zaxis": {
            "backgroundcolor": "#E5ECF6",
            "gridcolor": "white",
            "gridwidth": 2,
            "linecolor": "white",
            "showbackground": true,
            "ticks": "",
            "zerolinecolor": "white"
           }
          },
          "shapedefaults": {
           "line": {
            "color": "#2a3f5f"
           }
          },
          "ternary": {
           "aaxis": {
            "gridcolor": "white",
            "linecolor": "white",
            "ticks": ""
           },
           "baxis": {
            "gridcolor": "white",
            "linecolor": "white",
            "ticks": ""
           },
           "bgcolor": "#E5ECF6",
           "caxis": {
            "gridcolor": "white",
            "linecolor": "white",
            "ticks": ""
           }
          },
          "title": {
           "x": 0.05
          },
          "xaxis": {
           "automargin": true,
           "gridcolor": "white",
           "linecolor": "white",
           "ticks": "",
           "title": {
            "standoff": 15
           },
           "zerolinecolor": "white",
           "zerolinewidth": 2
          },
          "yaxis": {
           "automargin": true,
           "gridcolor": "white",
           "linecolor": "white",
           "ticks": "",
           "title": {
            "standoff": 15
           },
           "zerolinecolor": "white",
           "zerolinewidth": 2
          }
         }
        },
        "title": {
         "text": "% augmentation du coût final<br>pour 1000 points de FI_CURR par rapport à BI_BACK"
        },
        "width": 800,
        "xaxis": {
         "anchor": "y",
         "domain": [
          0,
          1
         ],
         "range": [
          0,
          9
         ],
         "ticktext": [
          "1",
          "2",
          "4",
          "8",
          "16",
          "32",
          "64",
          "128",
          "256"
         ],
         "tickvals": [
          0,
          1,
          2,
          3,
          4,
          5,
          6,
          7,
          8
         ],
         "title": {
          "text": "Nombre de clusters"
         }
        },
        "yaxis": {
         "anchor": "x",
         "domain": [
          0,
          1
         ],
         "title": {
          "text": "Initialisation"
         }
        }
       }
      }
     },
     "metadata": {},
     "output_type": "display_data"
    },
    {
     "data": {
      "application/vnd.plotly.v1+json": {
       "config": {
        "plotlyServerURL": "https://plot.ly"
       },
       "data": [
        {
         "customdata": [
          [
           2,
           -38.73539260683594
          ],
          [
           4,
           -7.6402859972580925
          ],
          [
           8,
           18.144425643974262
          ],
          [
           16,
           59.45432490778633
          ],
          [
           32,
           64.56493244796647
          ],
          [
           64,
           66.81443335335148
          ],
          [
           128,
           81.1398519009185
          ],
          [
           256,
           80.57660239881325
          ],
          [
           2,
           -39.03655862945205
          ],
          [
           4,
           -42.584198795164276
          ],
          [
           8,
           -25.234560727328354
          ],
          [
           16,
           -15.0090637991169
          ],
          [
           32,
           -24.24015811734774
          ],
          [
           64,
           -28.285960562532907
          ],
          [
           128,
           -32.54778203789171
          ],
          [
           256,
           -22.767571297941938
          ]
         ],
         "hovertemplate": "x=%{x}<br>init_type=%{y}<br>num_clusters=%{customdata[0]}<br>% augm. FI_CURR=%{customdata[1]}<br>color=%{marker.color}<extra></extra>",
         "legendgroup": "",
         "marker": {
          "color": [
           -2.588107962164581,
           -1.8831096157361993,
           2.2587432253003916,
           2.7741834521467768,
           2.809996700975285,
           2.824870289550705,
           2.9092342106806988,
           2.906208950933273,
           -2.5914715243093056,
           -2.629248480579722,
           -2.4019957491189303,
           -2.1763536036651363,
           -2.3845354483848284,
           -2.451570931526992,
           -2.5125213990017787,
           -2.3573167052678334
          ],
          "coloraxis": "coloraxis",
          "line": {
           "color": "black",
           "width": 2
          },
          "size": 12,
          "symbol": "circle"
         },
         "mode": "markers",
         "name": "",
         "orientation": "h",
         "showlegend": false,
         "type": "scatter",
         "x": [
          1,
          2,
          3,
          4,
          5,
          6,
          7,
          8,
          1,
          2,
          3,
          4,
          5,
          6,
          7,
          8
         ],
         "xaxis": "x",
         "y": [
          "random",
          "random",
          "random",
          "random",
          "random",
          "random",
          "random",
          "random",
          "kmeans+",
          "kmeans+",
          "kmeans+",
          "kmeans+",
          "kmeans+",
          "kmeans+",
          "kmeans+",
          "kmeans+"
         ],
         "yaxis": "y"
        }
       ],
       "layout": {
        "coloraxis": {
         "cmax": 3.001,
         "cmin": -3.001,
         "colorbar": {
          "ticktext": [
           "-1E2",
           "-1E1",
           "-1E0",
           0,
           "1E0",
           "1E1",
           "1E2"
          ],
          "tickvals": [
           -3,
           -2,
           -1,
           0,
           1,
           2,
           3
          ],
          "title": {
           "text": "% augmentation <br>temps d'exécution"
          }
         },
         "colorscale": [
          [
           0,
           "green"
          ],
          [
           0.25,
           "#00FF00"
          ],
          [
           0.5,
           "white"
          ],
          [
           0.75,
           "orange"
          ],
          [
           1,
           "red"
          ]
         ]
        },
        "height": 400,
        "legend": {
         "tracegroupgap": 0
        },
        "template": {
         "data": {
          "bar": [
           {
            "error_x": {
             "color": "#2a3f5f"
            },
            "error_y": {
             "color": "#2a3f5f"
            },
            "marker": {
             "line": {
              "color": "#E5ECF6",
              "width": 0.5
             },
             "pattern": {
              "fillmode": "overlay",
              "size": 10,
              "solidity": 0.2
             }
            },
            "type": "bar"
           }
          ],
          "barpolar": [
           {
            "marker": {
             "line": {
              "color": "#E5ECF6",
              "width": 0.5
             },
             "pattern": {
              "fillmode": "overlay",
              "size": 10,
              "solidity": 0.2
             }
            },
            "type": "barpolar"
           }
          ],
          "carpet": [
           {
            "aaxis": {
             "endlinecolor": "#2a3f5f",
             "gridcolor": "white",
             "linecolor": "white",
             "minorgridcolor": "white",
             "startlinecolor": "#2a3f5f"
            },
            "baxis": {
             "endlinecolor": "#2a3f5f",
             "gridcolor": "white",
             "linecolor": "white",
             "minorgridcolor": "white",
             "startlinecolor": "#2a3f5f"
            },
            "type": "carpet"
           }
          ],
          "choropleth": [
           {
            "colorbar": {
             "outlinewidth": 0,
             "ticks": ""
            },
            "type": "choropleth"
           }
          ],
          "contour": [
           {
            "colorbar": {
             "outlinewidth": 0,
             "ticks": ""
            },
            "colorscale": [
             [
              0,
              "#0d0887"
             ],
             [
              0.1111111111111111,
              "#46039f"
             ],
             [
              0.2222222222222222,
              "#7201a8"
             ],
             [
              0.3333333333333333,
              "#9c179e"
             ],
             [
              0.4444444444444444,
              "#bd3786"
             ],
             [
              0.5555555555555556,
              "#d8576b"
             ],
             [
              0.6666666666666666,
              "#ed7953"
             ],
             [
              0.7777777777777778,
              "#fb9f3a"
             ],
             [
              0.8888888888888888,
              "#fdca26"
             ],
             [
              1,
              "#f0f921"
             ]
            ],
            "type": "contour"
           }
          ],
          "contourcarpet": [
           {
            "colorbar": {
             "outlinewidth": 0,
             "ticks": ""
            },
            "type": "contourcarpet"
           }
          ],
          "heatmap": [
           {
            "colorbar": {
             "outlinewidth": 0,
             "ticks": ""
            },
            "colorscale": [
             [
              0,
              "#0d0887"
             ],
             [
              0.1111111111111111,
              "#46039f"
             ],
             [
              0.2222222222222222,
              "#7201a8"
             ],
             [
              0.3333333333333333,
              "#9c179e"
             ],
             [
              0.4444444444444444,
              "#bd3786"
             ],
             [
              0.5555555555555556,
              "#d8576b"
             ],
             [
              0.6666666666666666,
              "#ed7953"
             ],
             [
              0.7777777777777778,
              "#fb9f3a"
             ],
             [
              0.8888888888888888,
              "#fdca26"
             ],
             [
              1,
              "#f0f921"
             ]
            ],
            "type": "heatmap"
           }
          ],
          "heatmapgl": [
           {
            "colorbar": {
             "outlinewidth": 0,
             "ticks": ""
            },
            "colorscale": [
             [
              0,
              "#0d0887"
             ],
             [
              0.1111111111111111,
              "#46039f"
             ],
             [
              0.2222222222222222,
              "#7201a8"
             ],
             [
              0.3333333333333333,
              "#9c179e"
             ],
             [
              0.4444444444444444,
              "#bd3786"
             ],
             [
              0.5555555555555556,
              "#d8576b"
             ],
             [
              0.6666666666666666,
              "#ed7953"
             ],
             [
              0.7777777777777778,
              "#fb9f3a"
             ],
             [
              0.8888888888888888,
              "#fdca26"
             ],
             [
              1,
              "#f0f921"
             ]
            ],
            "type": "heatmapgl"
           }
          ],
          "histogram": [
           {
            "marker": {
             "pattern": {
              "fillmode": "overlay",
              "size": 10,
              "solidity": 0.2
             }
            },
            "type": "histogram"
           }
          ],
          "histogram2d": [
           {
            "colorbar": {
             "outlinewidth": 0,
             "ticks": ""
            },
            "colorscale": [
             [
              0,
              "#0d0887"
             ],
             [
              0.1111111111111111,
              "#46039f"
             ],
             [
              0.2222222222222222,
              "#7201a8"
             ],
             [
              0.3333333333333333,
              "#9c179e"
             ],
             [
              0.4444444444444444,
              "#bd3786"
             ],
             [
              0.5555555555555556,
              "#d8576b"
             ],
             [
              0.6666666666666666,
              "#ed7953"
             ],
             [
              0.7777777777777778,
              "#fb9f3a"
             ],
             [
              0.8888888888888888,
              "#fdca26"
             ],
             [
              1,
              "#f0f921"
             ]
            ],
            "type": "histogram2d"
           }
          ],
          "histogram2dcontour": [
           {
            "colorbar": {
             "outlinewidth": 0,
             "ticks": ""
            },
            "colorscale": [
             [
              0,
              "#0d0887"
             ],
             [
              0.1111111111111111,
              "#46039f"
             ],
             [
              0.2222222222222222,
              "#7201a8"
             ],
             [
              0.3333333333333333,
              "#9c179e"
             ],
             [
              0.4444444444444444,
              "#bd3786"
             ],
             [
              0.5555555555555556,
              "#d8576b"
             ],
             [
              0.6666666666666666,
              "#ed7953"
             ],
             [
              0.7777777777777778,
              "#fb9f3a"
             ],
             [
              0.8888888888888888,
              "#fdca26"
             ],
             [
              1,
              "#f0f921"
             ]
            ],
            "type": "histogram2dcontour"
           }
          ],
          "mesh3d": [
           {
            "colorbar": {
             "outlinewidth": 0,
             "ticks": ""
            },
            "type": "mesh3d"
           }
          ],
          "parcoords": [
           {
            "line": {
             "colorbar": {
              "outlinewidth": 0,
              "ticks": ""
             }
            },
            "type": "parcoords"
           }
          ],
          "pie": [
           {
            "automargin": true,
            "type": "pie"
           }
          ],
          "scatter": [
           {
            "marker": {
             "colorbar": {
              "outlinewidth": 0,
              "ticks": ""
             }
            },
            "type": "scatter"
           }
          ],
          "scatter3d": [
           {
            "line": {
             "colorbar": {
              "outlinewidth": 0,
              "ticks": ""
             }
            },
            "marker": {
             "colorbar": {
              "outlinewidth": 0,
              "ticks": ""
             }
            },
            "type": "scatter3d"
           }
          ],
          "scattercarpet": [
           {
            "marker": {
             "colorbar": {
              "outlinewidth": 0,
              "ticks": ""
             }
            },
            "type": "scattercarpet"
           }
          ],
          "scattergeo": [
           {
            "marker": {
             "colorbar": {
              "outlinewidth": 0,
              "ticks": ""
             }
            },
            "type": "scattergeo"
           }
          ],
          "scattergl": [
           {
            "marker": {
             "colorbar": {
              "outlinewidth": 0,
              "ticks": ""
             }
            },
            "type": "scattergl"
           }
          ],
          "scattermapbox": [
           {
            "marker": {
             "colorbar": {
              "outlinewidth": 0,
              "ticks": ""
             }
            },
            "type": "scattermapbox"
           }
          ],
          "scatterpolar": [
           {
            "marker": {
             "colorbar": {
              "outlinewidth": 0,
              "ticks": ""
             }
            },
            "type": "scatterpolar"
           }
          ],
          "scatterpolargl": [
           {
            "marker": {
             "colorbar": {
              "outlinewidth": 0,
              "ticks": ""
             }
            },
            "type": "scatterpolargl"
           }
          ],
          "scatterternary": [
           {
            "marker": {
             "colorbar": {
              "outlinewidth": 0,
              "ticks": ""
             }
            },
            "type": "scatterternary"
           }
          ],
          "surface": [
           {
            "colorbar": {
             "outlinewidth": 0,
             "ticks": ""
            },
            "colorscale": [
             [
              0,
              "#0d0887"
             ],
             [
              0.1111111111111111,
              "#46039f"
             ],
             [
              0.2222222222222222,
              "#7201a8"
             ],
             [
              0.3333333333333333,
              "#9c179e"
             ],
             [
              0.4444444444444444,
              "#bd3786"
             ],
             [
              0.5555555555555556,
              "#d8576b"
             ],
             [
              0.6666666666666666,
              "#ed7953"
             ],
             [
              0.7777777777777778,
              "#fb9f3a"
             ],
             [
              0.8888888888888888,
              "#fdca26"
             ],
             [
              1,
              "#f0f921"
             ]
            ],
            "type": "surface"
           }
          ],
          "table": [
           {
            "cells": {
             "fill": {
              "color": "#EBF0F8"
             },
             "line": {
              "color": "white"
             }
            },
            "header": {
             "fill": {
              "color": "#C8D4E3"
             },
             "line": {
              "color": "white"
             }
            },
            "type": "table"
           }
          ]
         },
         "layout": {
          "annotationdefaults": {
           "arrowcolor": "#2a3f5f",
           "arrowhead": 0,
           "arrowwidth": 1
          },
          "autotypenumbers": "strict",
          "coloraxis": {
           "colorbar": {
            "outlinewidth": 0,
            "ticks": ""
           }
          },
          "colorscale": {
           "diverging": [
            [
             0,
             "#8e0152"
            ],
            [
             0.1,
             "#c51b7d"
            ],
            [
             0.2,
             "#de77ae"
            ],
            [
             0.3,
             "#f1b6da"
            ],
            [
             0.4,
             "#fde0ef"
            ],
            [
             0.5,
             "#f7f7f7"
            ],
            [
             0.6,
             "#e6f5d0"
            ],
            [
             0.7,
             "#b8e186"
            ],
            [
             0.8,
             "#7fbc41"
            ],
            [
             0.9,
             "#4d9221"
            ],
            [
             1,
             "#276419"
            ]
           ],
           "sequential": [
            [
             0,
             "#0d0887"
            ],
            [
             0.1111111111111111,
             "#46039f"
            ],
            [
             0.2222222222222222,
             "#7201a8"
            ],
            [
             0.3333333333333333,
             "#9c179e"
            ],
            [
             0.4444444444444444,
             "#bd3786"
            ],
            [
             0.5555555555555556,
             "#d8576b"
            ],
            [
             0.6666666666666666,
             "#ed7953"
            ],
            [
             0.7777777777777778,
             "#fb9f3a"
            ],
            [
             0.8888888888888888,
             "#fdca26"
            ],
            [
             1,
             "#f0f921"
            ]
           ],
           "sequentialminus": [
            [
             0,
             "#0d0887"
            ],
            [
             0.1111111111111111,
             "#46039f"
            ],
            [
             0.2222222222222222,
             "#7201a8"
            ],
            [
             0.3333333333333333,
             "#9c179e"
            ],
            [
             0.4444444444444444,
             "#bd3786"
            ],
            [
             0.5555555555555556,
             "#d8576b"
            ],
            [
             0.6666666666666666,
             "#ed7953"
            ],
            [
             0.7777777777777778,
             "#fb9f3a"
            ],
            [
             0.8888888888888888,
             "#fdca26"
            ],
            [
             1,
             "#f0f921"
            ]
           ]
          },
          "colorway": [
           "#636efa",
           "#EF553B",
           "#00cc96",
           "#ab63fa",
           "#FFA15A",
           "#19d3f3",
           "#FF6692",
           "#B6E880",
           "#FF97FF",
           "#FECB52"
          ],
          "font": {
           "color": "#2a3f5f"
          },
          "geo": {
           "bgcolor": "white",
           "lakecolor": "white",
           "landcolor": "#E5ECF6",
           "showlakes": true,
           "showland": true,
           "subunitcolor": "white"
          },
          "hoverlabel": {
           "align": "left"
          },
          "hovermode": "closest",
          "mapbox": {
           "style": "light"
          },
          "paper_bgcolor": "white",
          "plot_bgcolor": "#E5ECF6",
          "polar": {
           "angularaxis": {
            "gridcolor": "white",
            "linecolor": "white",
            "ticks": ""
           },
           "bgcolor": "#E5ECF6",
           "radialaxis": {
            "gridcolor": "white",
            "linecolor": "white",
            "ticks": ""
           }
          },
          "scene": {
           "xaxis": {
            "backgroundcolor": "#E5ECF6",
            "gridcolor": "white",
            "gridwidth": 2,
            "linecolor": "white",
            "showbackground": true,
            "ticks": "",
            "zerolinecolor": "white"
           },
           "yaxis": {
            "backgroundcolor": "#E5ECF6",
            "gridcolor": "white",
            "gridwidth": 2,
            "linecolor": "white",
            "showbackground": true,
            "ticks": "",
            "zerolinecolor": "white"
           },
           "zaxis": {
            "backgroundcolor": "#E5ECF6",
            "gridcolor": "white",
            "gridwidth": 2,
            "linecolor": "white",
            "showbackground": true,
            "ticks": "",
            "zerolinecolor": "white"
           }
          },
          "shapedefaults": {
           "line": {
            "color": "#2a3f5f"
           }
          },
          "ternary": {
           "aaxis": {
            "gridcolor": "white",
            "linecolor": "white",
            "ticks": ""
           },
           "baxis": {
            "gridcolor": "white",
            "linecolor": "white",
            "ticks": ""
           },
           "bgcolor": "#E5ECF6",
           "caxis": {
            "gridcolor": "white",
            "linecolor": "white",
            "ticks": ""
           }
          },
          "title": {
           "x": 0.05
          },
          "xaxis": {
           "automargin": true,
           "gridcolor": "white",
           "linecolor": "white",
           "ticks": "",
           "title": {
            "standoff": 15
           },
           "zerolinecolor": "white",
           "zerolinewidth": 2
          },
          "yaxis": {
           "automargin": true,
           "gridcolor": "white",
           "linecolor": "white",
           "ticks": "",
           "title": {
            "standoff": 15
           },
           "zerolinecolor": "white",
           "zerolinewidth": 2
          }
         }
        },
        "title": {
         "text": "% augmentation du temps d'exécution<br>pour 1000 points de FI_CURR par rapport à BI_BACK"
        },
        "width": 800,
        "xaxis": {
         "anchor": "y",
         "domain": [
          0,
          1
         ],
         "range": [
          0,
          9
         ],
         "ticktext": [
          "1",
          "2",
          "4",
          "8",
          "16",
          "32",
          "64",
          "128",
          "256"
         ],
         "tickvals": [
          0,
          1,
          2,
          3,
          4,
          5,
          6,
          7,
          8
         ],
         "title": {
          "text": "Nombre de clusters"
         }
        },
        "yaxis": {
         "anchor": "x",
         "domain": [
          0,
          1
         ],
         "title": {
          "text": "Initialisation"
         }
        }
       }
      }
     },
     "metadata": {},
     "output_type": "display_data"
    },
    {
     "data": {
      "application/vnd.plotly.v1+json": {
       "config": {
        "plotlyServerURL": "https://plot.ly"
       },
       "data": [
        {
         "customdata": [
          [
           2,
           60.61365783665323
          ],
          [
           4,
           131.70802982299367
          ],
          [
           8,
           193.19867858633052
          ],
          [
           16,
           304.04773474346143
          ],
          [
           32,
           364.6593719162538
          ],
          [
           64,
           437.0547769144434
          ],
          [
           128,
           564.8821461703874
          ],
          [
           256,
           618.8457750946803
          ],
          [
           2,
           8.890361349433924
          ],
          [
           4,
           29.447033962569364
          ],
          [
           8,
           51.31208217256397
          ],
          [
           16,
           54.3383127935256
          ],
          [
           32,
           58.004341835268
          ],
          [
           64,
           57.78943377989221
          ],
          [
           128,
           61.09968352438523
          ],
          [
           256,
           51.794647739799956
          ]
         ],
         "hovertemplate": "x=%{x}<br>init_type=%{y}<br>num_clusters=%{customdata[0]}<br>% augm. FI_CURR=%{customdata[1]}<br>color=%{marker.color}<extra></extra>",
         "legendgroup": "",
         "marker": {
          "color": [
           2.78257049305704,
           3.119612253333155,
           3.286004151662148,
           3.4829417721227087,
           3.5618873796135673,
           3.6405358713430447,
           3.7519578485153766,
           3.7915824303275367,
           1.948919413262215,
           2.4690415572365207,
           2.7102196380759174,
           2.7351061494326743,
           2.763460503296095,
           2.76184843927564,
           2.7860389607504246,
           2.714284883738154
          ],
          "coloraxis": "coloraxis",
          "line": {
           "color": "black",
           "width": 2
          },
          "size": 12,
          "symbol": "circle"
         },
         "mode": "markers",
         "name": "",
         "orientation": "h",
         "showlegend": false,
         "type": "scatter",
         "x": [
          1,
          2,
          3,
          4,
          5,
          6,
          7,
          8,
          1,
          2,
          3,
          4,
          5,
          6,
          7,
          8
         ],
         "xaxis": "x",
         "y": [
          "random",
          "random",
          "random",
          "random",
          "random",
          "random",
          "random",
          "random",
          "kmeans+",
          "kmeans+",
          "kmeans+",
          "kmeans+",
          "kmeans+",
          "kmeans+",
          "kmeans+",
          "kmeans+"
         ],
         "yaxis": "y"
        }
       ],
       "layout": {
        "coloraxis": {
         "cmax": 4.0009999999999994,
         "cmin": 0,
         "colorbar": {
          "ticktext": [
           0,
           "1E0",
           "1E1",
           "1E2",
           "1E3"
          ],
          "tickvals": [
           0,
           1,
           2,
           3,
           4
          ],
          "title": {
           "text": "% augmentation <br>Nb. iterations"
          }
         },
         "colorscale": [
          [
           0,
           "white"
          ],
          [
           0.5,
           "orange"
          ],
          [
           1,
           "red"
          ]
         ]
        },
        "height": 400,
        "legend": {
         "tracegroupgap": 0
        },
        "template": {
         "data": {
          "bar": [
           {
            "error_x": {
             "color": "#2a3f5f"
            },
            "error_y": {
             "color": "#2a3f5f"
            },
            "marker": {
             "line": {
              "color": "#E5ECF6",
              "width": 0.5
             },
             "pattern": {
              "fillmode": "overlay",
              "size": 10,
              "solidity": 0.2
             }
            },
            "type": "bar"
           }
          ],
          "barpolar": [
           {
            "marker": {
             "line": {
              "color": "#E5ECF6",
              "width": 0.5
             },
             "pattern": {
              "fillmode": "overlay",
              "size": 10,
              "solidity": 0.2
             }
            },
            "type": "barpolar"
           }
          ],
          "carpet": [
           {
            "aaxis": {
             "endlinecolor": "#2a3f5f",
             "gridcolor": "white",
             "linecolor": "white",
             "minorgridcolor": "white",
             "startlinecolor": "#2a3f5f"
            },
            "baxis": {
             "endlinecolor": "#2a3f5f",
             "gridcolor": "white",
             "linecolor": "white",
             "minorgridcolor": "white",
             "startlinecolor": "#2a3f5f"
            },
            "type": "carpet"
           }
          ],
          "choropleth": [
           {
            "colorbar": {
             "outlinewidth": 0,
             "ticks": ""
            },
            "type": "choropleth"
           }
          ],
          "contour": [
           {
            "colorbar": {
             "outlinewidth": 0,
             "ticks": ""
            },
            "colorscale": [
             [
              0,
              "#0d0887"
             ],
             [
              0.1111111111111111,
              "#46039f"
             ],
             [
              0.2222222222222222,
              "#7201a8"
             ],
             [
              0.3333333333333333,
              "#9c179e"
             ],
             [
              0.4444444444444444,
              "#bd3786"
             ],
             [
              0.5555555555555556,
              "#d8576b"
             ],
             [
              0.6666666666666666,
              "#ed7953"
             ],
             [
              0.7777777777777778,
              "#fb9f3a"
             ],
             [
              0.8888888888888888,
              "#fdca26"
             ],
             [
              1,
              "#f0f921"
             ]
            ],
            "type": "contour"
           }
          ],
          "contourcarpet": [
           {
            "colorbar": {
             "outlinewidth": 0,
             "ticks": ""
            },
            "type": "contourcarpet"
           }
          ],
          "heatmap": [
           {
            "colorbar": {
             "outlinewidth": 0,
             "ticks": ""
            },
            "colorscale": [
             [
              0,
              "#0d0887"
             ],
             [
              0.1111111111111111,
              "#46039f"
             ],
             [
              0.2222222222222222,
              "#7201a8"
             ],
             [
              0.3333333333333333,
              "#9c179e"
             ],
             [
              0.4444444444444444,
              "#bd3786"
             ],
             [
              0.5555555555555556,
              "#d8576b"
             ],
             [
              0.6666666666666666,
              "#ed7953"
             ],
             [
              0.7777777777777778,
              "#fb9f3a"
             ],
             [
              0.8888888888888888,
              "#fdca26"
             ],
             [
              1,
              "#f0f921"
             ]
            ],
            "type": "heatmap"
           }
          ],
          "heatmapgl": [
           {
            "colorbar": {
             "outlinewidth": 0,
             "ticks": ""
            },
            "colorscale": [
             [
              0,
              "#0d0887"
             ],
             [
              0.1111111111111111,
              "#46039f"
             ],
             [
              0.2222222222222222,
              "#7201a8"
             ],
             [
              0.3333333333333333,
              "#9c179e"
             ],
             [
              0.4444444444444444,
              "#bd3786"
             ],
             [
              0.5555555555555556,
              "#d8576b"
             ],
             [
              0.6666666666666666,
              "#ed7953"
             ],
             [
              0.7777777777777778,
              "#fb9f3a"
             ],
             [
              0.8888888888888888,
              "#fdca26"
             ],
             [
              1,
              "#f0f921"
             ]
            ],
            "type": "heatmapgl"
           }
          ],
          "histogram": [
           {
            "marker": {
             "pattern": {
              "fillmode": "overlay",
              "size": 10,
              "solidity": 0.2
             }
            },
            "type": "histogram"
           }
          ],
          "histogram2d": [
           {
            "colorbar": {
             "outlinewidth": 0,
             "ticks": ""
            },
            "colorscale": [
             [
              0,
              "#0d0887"
             ],
             [
              0.1111111111111111,
              "#46039f"
             ],
             [
              0.2222222222222222,
              "#7201a8"
             ],
             [
              0.3333333333333333,
              "#9c179e"
             ],
             [
              0.4444444444444444,
              "#bd3786"
             ],
             [
              0.5555555555555556,
              "#d8576b"
             ],
             [
              0.6666666666666666,
              "#ed7953"
             ],
             [
              0.7777777777777778,
              "#fb9f3a"
             ],
             [
              0.8888888888888888,
              "#fdca26"
             ],
             [
              1,
              "#f0f921"
             ]
            ],
            "type": "histogram2d"
           }
          ],
          "histogram2dcontour": [
           {
            "colorbar": {
             "outlinewidth": 0,
             "ticks": ""
            },
            "colorscale": [
             [
              0,
              "#0d0887"
             ],
             [
              0.1111111111111111,
              "#46039f"
             ],
             [
              0.2222222222222222,
              "#7201a8"
             ],
             [
              0.3333333333333333,
              "#9c179e"
             ],
             [
              0.4444444444444444,
              "#bd3786"
             ],
             [
              0.5555555555555556,
              "#d8576b"
             ],
             [
              0.6666666666666666,
              "#ed7953"
             ],
             [
              0.7777777777777778,
              "#fb9f3a"
             ],
             [
              0.8888888888888888,
              "#fdca26"
             ],
             [
              1,
              "#f0f921"
             ]
            ],
            "type": "histogram2dcontour"
           }
          ],
          "mesh3d": [
           {
            "colorbar": {
             "outlinewidth": 0,
             "ticks": ""
            },
            "type": "mesh3d"
           }
          ],
          "parcoords": [
           {
            "line": {
             "colorbar": {
              "outlinewidth": 0,
              "ticks": ""
             }
            },
            "type": "parcoords"
           }
          ],
          "pie": [
           {
            "automargin": true,
            "type": "pie"
           }
          ],
          "scatter": [
           {
            "marker": {
             "colorbar": {
              "outlinewidth": 0,
              "ticks": ""
             }
            },
            "type": "scatter"
           }
          ],
          "scatter3d": [
           {
            "line": {
             "colorbar": {
              "outlinewidth": 0,
              "ticks": ""
             }
            },
            "marker": {
             "colorbar": {
              "outlinewidth": 0,
              "ticks": ""
             }
            },
            "type": "scatter3d"
           }
          ],
          "scattercarpet": [
           {
            "marker": {
             "colorbar": {
              "outlinewidth": 0,
              "ticks": ""
             }
            },
            "type": "scattercarpet"
           }
          ],
          "scattergeo": [
           {
            "marker": {
             "colorbar": {
              "outlinewidth": 0,
              "ticks": ""
             }
            },
            "type": "scattergeo"
           }
          ],
          "scattergl": [
           {
            "marker": {
             "colorbar": {
              "outlinewidth": 0,
              "ticks": ""
             }
            },
            "type": "scattergl"
           }
          ],
          "scattermapbox": [
           {
            "marker": {
             "colorbar": {
              "outlinewidth": 0,
              "ticks": ""
             }
            },
            "type": "scattermapbox"
           }
          ],
          "scatterpolar": [
           {
            "marker": {
             "colorbar": {
              "outlinewidth": 0,
              "ticks": ""
             }
            },
            "type": "scatterpolar"
           }
          ],
          "scatterpolargl": [
           {
            "marker": {
             "colorbar": {
              "outlinewidth": 0,
              "ticks": ""
             }
            },
            "type": "scatterpolargl"
           }
          ],
          "scatterternary": [
           {
            "marker": {
             "colorbar": {
              "outlinewidth": 0,
              "ticks": ""
             }
            },
            "type": "scatterternary"
           }
          ],
          "surface": [
           {
            "colorbar": {
             "outlinewidth": 0,
             "ticks": ""
            },
            "colorscale": [
             [
              0,
              "#0d0887"
             ],
             [
              0.1111111111111111,
              "#46039f"
             ],
             [
              0.2222222222222222,
              "#7201a8"
             ],
             [
              0.3333333333333333,
              "#9c179e"
             ],
             [
              0.4444444444444444,
              "#bd3786"
             ],
             [
              0.5555555555555556,
              "#d8576b"
             ],
             [
              0.6666666666666666,
              "#ed7953"
             ],
             [
              0.7777777777777778,
              "#fb9f3a"
             ],
             [
              0.8888888888888888,
              "#fdca26"
             ],
             [
              1,
              "#f0f921"
             ]
            ],
            "type": "surface"
           }
          ],
          "table": [
           {
            "cells": {
             "fill": {
              "color": "#EBF0F8"
             },
             "line": {
              "color": "white"
             }
            },
            "header": {
             "fill": {
              "color": "#C8D4E3"
             },
             "line": {
              "color": "white"
             }
            },
            "type": "table"
           }
          ]
         },
         "layout": {
          "annotationdefaults": {
           "arrowcolor": "#2a3f5f",
           "arrowhead": 0,
           "arrowwidth": 1
          },
          "autotypenumbers": "strict",
          "coloraxis": {
           "colorbar": {
            "outlinewidth": 0,
            "ticks": ""
           }
          },
          "colorscale": {
           "diverging": [
            [
             0,
             "#8e0152"
            ],
            [
             0.1,
             "#c51b7d"
            ],
            [
             0.2,
             "#de77ae"
            ],
            [
             0.3,
             "#f1b6da"
            ],
            [
             0.4,
             "#fde0ef"
            ],
            [
             0.5,
             "#f7f7f7"
            ],
            [
             0.6,
             "#e6f5d0"
            ],
            [
             0.7,
             "#b8e186"
            ],
            [
             0.8,
             "#7fbc41"
            ],
            [
             0.9,
             "#4d9221"
            ],
            [
             1,
             "#276419"
            ]
           ],
           "sequential": [
            [
             0,
             "#0d0887"
            ],
            [
             0.1111111111111111,
             "#46039f"
            ],
            [
             0.2222222222222222,
             "#7201a8"
            ],
            [
             0.3333333333333333,
             "#9c179e"
            ],
            [
             0.4444444444444444,
             "#bd3786"
            ],
            [
             0.5555555555555556,
             "#d8576b"
            ],
            [
             0.6666666666666666,
             "#ed7953"
            ],
            [
             0.7777777777777778,
             "#fb9f3a"
            ],
            [
             0.8888888888888888,
             "#fdca26"
            ],
            [
             1,
             "#f0f921"
            ]
           ],
           "sequentialminus": [
            [
             0,
             "#0d0887"
            ],
            [
             0.1111111111111111,
             "#46039f"
            ],
            [
             0.2222222222222222,
             "#7201a8"
            ],
            [
             0.3333333333333333,
             "#9c179e"
            ],
            [
             0.4444444444444444,
             "#bd3786"
            ],
            [
             0.5555555555555556,
             "#d8576b"
            ],
            [
             0.6666666666666666,
             "#ed7953"
            ],
            [
             0.7777777777777778,
             "#fb9f3a"
            ],
            [
             0.8888888888888888,
             "#fdca26"
            ],
            [
             1,
             "#f0f921"
            ]
           ]
          },
          "colorway": [
           "#636efa",
           "#EF553B",
           "#00cc96",
           "#ab63fa",
           "#FFA15A",
           "#19d3f3",
           "#FF6692",
           "#B6E880",
           "#FF97FF",
           "#FECB52"
          ],
          "font": {
           "color": "#2a3f5f"
          },
          "geo": {
           "bgcolor": "white",
           "lakecolor": "white",
           "landcolor": "#E5ECF6",
           "showlakes": true,
           "showland": true,
           "subunitcolor": "white"
          },
          "hoverlabel": {
           "align": "left"
          },
          "hovermode": "closest",
          "mapbox": {
           "style": "light"
          },
          "paper_bgcolor": "white",
          "plot_bgcolor": "#E5ECF6",
          "polar": {
           "angularaxis": {
            "gridcolor": "white",
            "linecolor": "white",
            "ticks": ""
           },
           "bgcolor": "#E5ECF6",
           "radialaxis": {
            "gridcolor": "white",
            "linecolor": "white",
            "ticks": ""
           }
          },
          "scene": {
           "xaxis": {
            "backgroundcolor": "#E5ECF6",
            "gridcolor": "white",
            "gridwidth": 2,
            "linecolor": "white",
            "showbackground": true,
            "ticks": "",
            "zerolinecolor": "white"
           },
           "yaxis": {
            "backgroundcolor": "#E5ECF6",
            "gridcolor": "white",
            "gridwidth": 2,
            "linecolor": "white",
            "showbackground": true,
            "ticks": "",
            "zerolinecolor": "white"
           },
           "zaxis": {
            "backgroundcolor": "#E5ECF6",
            "gridcolor": "white",
            "gridwidth": 2,
            "linecolor": "white",
            "showbackground": true,
            "ticks": "",
            "zerolinecolor": "white"
           }
          },
          "shapedefaults": {
           "line": {
            "color": "#2a3f5f"
           }
          },
          "ternary": {
           "aaxis": {
            "gridcolor": "white",
            "linecolor": "white",
            "ticks": ""
           },
           "baxis": {
            "gridcolor": "white",
            "linecolor": "white",
            "ticks": ""
           },
           "bgcolor": "#E5ECF6",
           "caxis": {
            "gridcolor": "white",
            "linecolor": "white",
            "ticks": ""
           }
          },
          "title": {
           "x": 0.05
          },
          "xaxis": {
           "automargin": true,
           "gridcolor": "white",
           "linecolor": "white",
           "ticks": "",
           "title": {
            "standoff": 15
           },
           "zerolinecolor": "white",
           "zerolinewidth": 2
          },
          "yaxis": {
           "automargin": true,
           "gridcolor": "white",
           "linecolor": "white",
           "ticks": "",
           "title": {
            "standoff": 15
           },
           "zerolinecolor": "white",
           "zerolinewidth": 2
          }
         }
        },
        "title": {
         "text": "% augmentation du Nb. iterations<br>pour 1000 points de FI_CURR par rapport à BI_BACK"
        },
        "width": 800,
        "xaxis": {
         "anchor": "y",
         "domain": [
          0,
          1
         ],
         "range": [
          0,
          9
         ],
         "ticktext": [
          "1",
          "2",
          "4",
          "8",
          "16",
          "32",
          "64",
          "128",
          "256"
         ],
         "tickvals": [
          0,
          1,
          2,
          3,
          4,
          5,
          6,
          7,
          8
         ],
         "title": {
          "text": "Nombre de clusters"
         }
        },
        "yaxis": {
         "anchor": "x",
         "domain": [
          0,
          1
         ],
         "title": {
          "text": "Initialisation"
         }
        }
       }
      }
     },
     "metadata": {},
     "output_type": "display_data"
    },
    {
     "data": {
      "application/vnd.plotly.v1+json": {
       "config": {
        "plotlyServerURL": "https://plot.ly"
       },
       "data": [
        {
         "customdata": [
          [
           2,
           -35.418772816020216
          ],
          [
           4,
           -13.020653874242653
          ],
          [
           8,
           4.433519720289421
          ],
          [
           16,
           36.97858012472627
          ],
          [
           32,
           43.00637573179548
          ],
          [
           64,
           43.84252944909911
          ],
          [
           128,
           56.69779964835592
          ],
          [
           256,
           44.95124954283802
          ],
          [
           2,
           -47.27251030863427
          ],
          [
           4,
           -39.518527511354506
          ],
          [
           8,
           -30.924105458467544
          ],
          [
           16,
           -29.955003760800686
          ],
          [
           32,
           -28.49519141367866
          ],
          [
           64,
           -29.362397806788714
          ],
          [
           128,
           -28.691967555543936
          ],
          [
           256,
           -33.9305648808652
          ]
         ],
         "hovertemplate": "x=%{x}<br>init_type=%{y}<br>num_clusters=%{customdata[0]}<br>% augm. FI_CURR=%{customdata[1]}<br>color=%{marker.color}<extra></extra>",
         "legendgroup": "",
         "marker": {
          "color": [
           -2.5492335097489307,
           -2.1146327942817114,
           1.6467486445462922,
           2.567950231435514,
           2.6335328448790634,
           2.6418956023671942,
           2.753566204940178,
           2.652741768639145,
           -2.674608665223169,
           -2.596800754093545,
           -2.4902971456473084,
           -2.476469378451334,
           -2.4547715786506177,
           -2.467791518265016,
           -2.4577603310698475,
           -2.530591089901545
          ],
          "coloraxis": "coloraxis",
          "line": {
           "color": "black",
           "width": 2
          },
          "size": 12,
          "symbol": "circle"
         },
         "mode": "markers",
         "name": "",
         "orientation": "h",
         "showlegend": false,
         "type": "scatter",
         "x": [
          1,
          2,
          3,
          4,
          5,
          6,
          7,
          8,
          1,
          2,
          3,
          4,
          5,
          6,
          7,
          8
         ],
         "xaxis": "x",
         "y": [
          "random",
          "random",
          "random",
          "random",
          "random",
          "random",
          "random",
          "random",
          "kmeans+",
          "kmeans+",
          "kmeans+",
          "kmeans+",
          "kmeans+",
          "kmeans+",
          "kmeans+",
          "kmeans+"
         ],
         "yaxis": "y"
        }
       ],
       "layout": {
        "coloraxis": {
         "cmax": 3.001,
         "cmin": -3.001,
         "colorbar": {
          "ticktext": [
           "-1E2",
           "-1E1",
           "-1E0",
           0,
           "1E0",
           "1E1",
           "1E2"
          ],
          "tickvals": [
           -3,
           -2,
           -1,
           0,
           1,
           2,
           3
          ],
          "title": {
           "text": "% augmentation <br>Nb. iterations tot."
          }
         },
         "colorscale": [
          [
           0,
           "green"
          ],
          [
           0.25,
           "#00FF00"
          ],
          [
           0.5,
           "white"
          ],
          [
           0.75,
           "orange"
          ],
          [
           1,
           "red"
          ]
         ]
        },
        "height": 400,
        "legend": {
         "tracegroupgap": 0
        },
        "template": {
         "data": {
          "bar": [
           {
            "error_x": {
             "color": "#2a3f5f"
            },
            "error_y": {
             "color": "#2a3f5f"
            },
            "marker": {
             "line": {
              "color": "#E5ECF6",
              "width": 0.5
             },
             "pattern": {
              "fillmode": "overlay",
              "size": 10,
              "solidity": 0.2
             }
            },
            "type": "bar"
           }
          ],
          "barpolar": [
           {
            "marker": {
             "line": {
              "color": "#E5ECF6",
              "width": 0.5
             },
             "pattern": {
              "fillmode": "overlay",
              "size": 10,
              "solidity": 0.2
             }
            },
            "type": "barpolar"
           }
          ],
          "carpet": [
           {
            "aaxis": {
             "endlinecolor": "#2a3f5f",
             "gridcolor": "white",
             "linecolor": "white",
             "minorgridcolor": "white",
             "startlinecolor": "#2a3f5f"
            },
            "baxis": {
             "endlinecolor": "#2a3f5f",
             "gridcolor": "white",
             "linecolor": "white",
             "minorgridcolor": "white",
             "startlinecolor": "#2a3f5f"
            },
            "type": "carpet"
           }
          ],
          "choropleth": [
           {
            "colorbar": {
             "outlinewidth": 0,
             "ticks": ""
            },
            "type": "choropleth"
           }
          ],
          "contour": [
           {
            "colorbar": {
             "outlinewidth": 0,
             "ticks": ""
            },
            "colorscale": [
             [
              0,
              "#0d0887"
             ],
             [
              0.1111111111111111,
              "#46039f"
             ],
             [
              0.2222222222222222,
              "#7201a8"
             ],
             [
              0.3333333333333333,
              "#9c179e"
             ],
             [
              0.4444444444444444,
              "#bd3786"
             ],
             [
              0.5555555555555556,
              "#d8576b"
             ],
             [
              0.6666666666666666,
              "#ed7953"
             ],
             [
              0.7777777777777778,
              "#fb9f3a"
             ],
             [
              0.8888888888888888,
              "#fdca26"
             ],
             [
              1,
              "#f0f921"
             ]
            ],
            "type": "contour"
           }
          ],
          "contourcarpet": [
           {
            "colorbar": {
             "outlinewidth": 0,
             "ticks": ""
            },
            "type": "contourcarpet"
           }
          ],
          "heatmap": [
           {
            "colorbar": {
             "outlinewidth": 0,
             "ticks": ""
            },
            "colorscale": [
             [
              0,
              "#0d0887"
             ],
             [
              0.1111111111111111,
              "#46039f"
             ],
             [
              0.2222222222222222,
              "#7201a8"
             ],
             [
              0.3333333333333333,
              "#9c179e"
             ],
             [
              0.4444444444444444,
              "#bd3786"
             ],
             [
              0.5555555555555556,
              "#d8576b"
             ],
             [
              0.6666666666666666,
              "#ed7953"
             ],
             [
              0.7777777777777778,
              "#fb9f3a"
             ],
             [
              0.8888888888888888,
              "#fdca26"
             ],
             [
              1,
              "#f0f921"
             ]
            ],
            "type": "heatmap"
           }
          ],
          "heatmapgl": [
           {
            "colorbar": {
             "outlinewidth": 0,
             "ticks": ""
            },
            "colorscale": [
             [
              0,
              "#0d0887"
             ],
             [
              0.1111111111111111,
              "#46039f"
             ],
             [
              0.2222222222222222,
              "#7201a8"
             ],
             [
              0.3333333333333333,
              "#9c179e"
             ],
             [
              0.4444444444444444,
              "#bd3786"
             ],
             [
              0.5555555555555556,
              "#d8576b"
             ],
             [
              0.6666666666666666,
              "#ed7953"
             ],
             [
              0.7777777777777778,
              "#fb9f3a"
             ],
             [
              0.8888888888888888,
              "#fdca26"
             ],
             [
              1,
              "#f0f921"
             ]
            ],
            "type": "heatmapgl"
           }
          ],
          "histogram": [
           {
            "marker": {
             "pattern": {
              "fillmode": "overlay",
              "size": 10,
              "solidity": 0.2
             }
            },
            "type": "histogram"
           }
          ],
          "histogram2d": [
           {
            "colorbar": {
             "outlinewidth": 0,
             "ticks": ""
            },
            "colorscale": [
             [
              0,
              "#0d0887"
             ],
             [
              0.1111111111111111,
              "#46039f"
             ],
             [
              0.2222222222222222,
              "#7201a8"
             ],
             [
              0.3333333333333333,
              "#9c179e"
             ],
             [
              0.4444444444444444,
              "#bd3786"
             ],
             [
              0.5555555555555556,
              "#d8576b"
             ],
             [
              0.6666666666666666,
              "#ed7953"
             ],
             [
              0.7777777777777778,
              "#fb9f3a"
             ],
             [
              0.8888888888888888,
              "#fdca26"
             ],
             [
              1,
              "#f0f921"
             ]
            ],
            "type": "histogram2d"
           }
          ],
          "histogram2dcontour": [
           {
            "colorbar": {
             "outlinewidth": 0,
             "ticks": ""
            },
            "colorscale": [
             [
              0,
              "#0d0887"
             ],
             [
              0.1111111111111111,
              "#46039f"
             ],
             [
              0.2222222222222222,
              "#7201a8"
             ],
             [
              0.3333333333333333,
              "#9c179e"
             ],
             [
              0.4444444444444444,
              "#bd3786"
             ],
             [
              0.5555555555555556,
              "#d8576b"
             ],
             [
              0.6666666666666666,
              "#ed7953"
             ],
             [
              0.7777777777777778,
              "#fb9f3a"
             ],
             [
              0.8888888888888888,
              "#fdca26"
             ],
             [
              1,
              "#f0f921"
             ]
            ],
            "type": "histogram2dcontour"
           }
          ],
          "mesh3d": [
           {
            "colorbar": {
             "outlinewidth": 0,
             "ticks": ""
            },
            "type": "mesh3d"
           }
          ],
          "parcoords": [
           {
            "line": {
             "colorbar": {
              "outlinewidth": 0,
              "ticks": ""
             }
            },
            "type": "parcoords"
           }
          ],
          "pie": [
           {
            "automargin": true,
            "type": "pie"
           }
          ],
          "scatter": [
           {
            "marker": {
             "colorbar": {
              "outlinewidth": 0,
              "ticks": ""
             }
            },
            "type": "scatter"
           }
          ],
          "scatter3d": [
           {
            "line": {
             "colorbar": {
              "outlinewidth": 0,
              "ticks": ""
             }
            },
            "marker": {
             "colorbar": {
              "outlinewidth": 0,
              "ticks": ""
             }
            },
            "type": "scatter3d"
           }
          ],
          "scattercarpet": [
           {
            "marker": {
             "colorbar": {
              "outlinewidth": 0,
              "ticks": ""
             }
            },
            "type": "scattercarpet"
           }
          ],
          "scattergeo": [
           {
            "marker": {
             "colorbar": {
              "outlinewidth": 0,
              "ticks": ""
             }
            },
            "type": "scattergeo"
           }
          ],
          "scattergl": [
           {
            "marker": {
             "colorbar": {
              "outlinewidth": 0,
              "ticks": ""
             }
            },
            "type": "scattergl"
           }
          ],
          "scattermapbox": [
           {
            "marker": {
             "colorbar": {
              "outlinewidth": 0,
              "ticks": ""
             }
            },
            "type": "scattermapbox"
           }
          ],
          "scatterpolar": [
           {
            "marker": {
             "colorbar": {
              "outlinewidth": 0,
              "ticks": ""
             }
            },
            "type": "scatterpolar"
           }
          ],
          "scatterpolargl": [
           {
            "marker": {
             "colorbar": {
              "outlinewidth": 0,
              "ticks": ""
             }
            },
            "type": "scatterpolargl"
           }
          ],
          "scatterternary": [
           {
            "marker": {
             "colorbar": {
              "outlinewidth": 0,
              "ticks": ""
             }
            },
            "type": "scatterternary"
           }
          ],
          "surface": [
           {
            "colorbar": {
             "outlinewidth": 0,
             "ticks": ""
            },
            "colorscale": [
             [
              0,
              "#0d0887"
             ],
             [
              0.1111111111111111,
              "#46039f"
             ],
             [
              0.2222222222222222,
              "#7201a8"
             ],
             [
              0.3333333333333333,
              "#9c179e"
             ],
             [
              0.4444444444444444,
              "#bd3786"
             ],
             [
              0.5555555555555556,
              "#d8576b"
             ],
             [
              0.6666666666666666,
              "#ed7953"
             ],
             [
              0.7777777777777778,
              "#fb9f3a"
             ],
             [
              0.8888888888888888,
              "#fdca26"
             ],
             [
              1,
              "#f0f921"
             ]
            ],
            "type": "surface"
           }
          ],
          "table": [
           {
            "cells": {
             "fill": {
              "color": "#EBF0F8"
             },
             "line": {
              "color": "white"
             }
            },
            "header": {
             "fill": {
              "color": "#C8D4E3"
             },
             "line": {
              "color": "white"
             }
            },
            "type": "table"
           }
          ]
         },
         "layout": {
          "annotationdefaults": {
           "arrowcolor": "#2a3f5f",
           "arrowhead": 0,
           "arrowwidth": 1
          },
          "autotypenumbers": "strict",
          "coloraxis": {
           "colorbar": {
            "outlinewidth": 0,
            "ticks": ""
           }
          },
          "colorscale": {
           "diverging": [
            [
             0,
             "#8e0152"
            ],
            [
             0.1,
             "#c51b7d"
            ],
            [
             0.2,
             "#de77ae"
            ],
            [
             0.3,
             "#f1b6da"
            ],
            [
             0.4,
             "#fde0ef"
            ],
            [
             0.5,
             "#f7f7f7"
            ],
            [
             0.6,
             "#e6f5d0"
            ],
            [
             0.7,
             "#b8e186"
            ],
            [
             0.8,
             "#7fbc41"
            ],
            [
             0.9,
             "#4d9221"
            ],
            [
             1,
             "#276419"
            ]
           ],
           "sequential": [
            [
             0,
             "#0d0887"
            ],
            [
             0.1111111111111111,
             "#46039f"
            ],
            [
             0.2222222222222222,
             "#7201a8"
            ],
            [
             0.3333333333333333,
             "#9c179e"
            ],
            [
             0.4444444444444444,
             "#bd3786"
            ],
            [
             0.5555555555555556,
             "#d8576b"
            ],
            [
             0.6666666666666666,
             "#ed7953"
            ],
            [
             0.7777777777777778,
             "#fb9f3a"
            ],
            [
             0.8888888888888888,
             "#fdca26"
            ],
            [
             1,
             "#f0f921"
            ]
           ],
           "sequentialminus": [
            [
             0,
             "#0d0887"
            ],
            [
             0.1111111111111111,
             "#46039f"
            ],
            [
             0.2222222222222222,
             "#7201a8"
            ],
            [
             0.3333333333333333,
             "#9c179e"
            ],
            [
             0.4444444444444444,
             "#bd3786"
            ],
            [
             0.5555555555555556,
             "#d8576b"
            ],
            [
             0.6666666666666666,
             "#ed7953"
            ],
            [
             0.7777777777777778,
             "#fb9f3a"
            ],
            [
             0.8888888888888888,
             "#fdca26"
            ],
            [
             1,
             "#f0f921"
            ]
           ]
          },
          "colorway": [
           "#636efa",
           "#EF553B",
           "#00cc96",
           "#ab63fa",
           "#FFA15A",
           "#19d3f3",
           "#FF6692",
           "#B6E880",
           "#FF97FF",
           "#FECB52"
          ],
          "font": {
           "color": "#2a3f5f"
          },
          "geo": {
           "bgcolor": "white",
           "lakecolor": "white",
           "landcolor": "#E5ECF6",
           "showlakes": true,
           "showland": true,
           "subunitcolor": "white"
          },
          "hoverlabel": {
           "align": "left"
          },
          "hovermode": "closest",
          "mapbox": {
           "style": "light"
          },
          "paper_bgcolor": "white",
          "plot_bgcolor": "#E5ECF6",
          "polar": {
           "angularaxis": {
            "gridcolor": "white",
            "linecolor": "white",
            "ticks": ""
           },
           "bgcolor": "#E5ECF6",
           "radialaxis": {
            "gridcolor": "white",
            "linecolor": "white",
            "ticks": ""
           }
          },
          "scene": {
           "xaxis": {
            "backgroundcolor": "#E5ECF6",
            "gridcolor": "white",
            "gridwidth": 2,
            "linecolor": "white",
            "showbackground": true,
            "ticks": "",
            "zerolinecolor": "white"
           },
           "yaxis": {
            "backgroundcolor": "#E5ECF6",
            "gridcolor": "white",
            "gridwidth": 2,
            "linecolor": "white",
            "showbackground": true,
            "ticks": "",
            "zerolinecolor": "white"
           },
           "zaxis": {
            "backgroundcolor": "#E5ECF6",
            "gridcolor": "white",
            "gridwidth": 2,
            "linecolor": "white",
            "showbackground": true,
            "ticks": "",
            "zerolinecolor": "white"
           }
          },
          "shapedefaults": {
           "line": {
            "color": "#2a3f5f"
           }
          },
          "ternary": {
           "aaxis": {
            "gridcolor": "white",
            "linecolor": "white",
            "ticks": ""
           },
           "baxis": {
            "gridcolor": "white",
            "linecolor": "white",
            "ticks": ""
           },
           "bgcolor": "#E5ECF6",
           "caxis": {
            "gridcolor": "white",
            "linecolor": "white",
            "ticks": ""
           }
          },
          "title": {
           "x": 0.05
          },
          "xaxis": {
           "automargin": true,
           "gridcolor": "white",
           "linecolor": "white",
           "ticks": "",
           "title": {
            "standoff": 15
           },
           "zerolinecolor": "white",
           "zerolinewidth": 2
          },
          "yaxis": {
           "automargin": true,
           "gridcolor": "white",
           "linecolor": "white",
           "ticks": "",
           "title": {
            "standoff": 15
           },
           "zerolinecolor": "white",
           "zerolinewidth": 2
          }
         }
        },
        "title": {
         "text": "% augmentation du Nb. iterations tot.<br>pour 1000 points de FI_CURR par rapport à BI_BACK"
        },
        "width": 800,
        "xaxis": {
         "anchor": "y",
         "domain": [
          0,
          1
         ],
         "range": [
          0,
          9
         ],
         "ticktext": [
          "1",
          "2",
          "4",
          "8",
          "16",
          "32",
          "64",
          "128",
          "256"
         ],
         "tickvals": [
          0,
          1,
          2,
          3,
          4,
          5,
          6,
          7,
          8
         ],
         "title": {
          "text": "Nombre de clusters"
         }
        },
        "yaxis": {
         "anchor": "x",
         "domain": [
          0,
          1
         ],
         "title": {
          "text": "Initialisation"
         }
        }
       }
      }
     },
     "metadata": {},
     "output_type": "display_data"
    }
   ],
   "source": [
    "ALGO = \"FI_CURR\"\n",
    "for FIELD,(name,ticks_pow,sign) in {\"end_cost\":(\"coût final\",[-2,-1,0],True),\"time\":(\"temps d'exécution\",[0,1,2],True),\"num_iter\":(\"Nb. iterations\",[0,1,2,3],False),\"num_iter_tot\":(\"Nb. iterations tot.\",[0,1,2],True)}.items():\n",
    "    df = df_compil[FIELD]\n",
    "    Ldf = []\n",
    "    for init in [\"random\",\"kmeans+\"]:\n",
    "        df_init = pd.concat([df[(init,\"% augm. \"+ALGO)]],axis=1,keys=[\"% augm. \"+ALGO]).reset_index()\n",
    "        df_init[\"init_type\"] = init\n",
    "        Ldf.append(df_init)\n",
    "    df = pd.concat(Ldf,axis=0)\n",
    "\n",
    "    max_val = max(abs(x) for x in ticks_pow)\n",
    "    min_ticks = min(ticks_pow)\n",
    "    def logscale(x):\n",
    "        x = np.array(x)\n",
    "        log_val = np.log10(np.abs(x+1e-16))\n",
    "        clipped = np.clip(log_val,min_ticks-1,np.inf)\n",
    "        return np.sign(x) * (1-min_ticks+clipped)\n",
    "    colors = [\"green\",\"#00FF00\",\"white\",\"orange\",\"red\"] if sign else [\"white\",\"orange\",\"red\"]\n",
    "    fig = px.scatter(df,x=np.log2(df[\"num_clusters\"]).astype(int),y=\"init_type\",color=logscale(df[\"% augm. \"+ALGO]),# x=\"Nb. points\",\n",
    "                        hover_data=[\"num_clusters\",\"init_type\",\"% augm. \"+ALGO],\n",
    "                        color_continuous_scale=colors,\n",
    "                        range_color=[-max_val-delta_zero if sign else 0.,max_val+delta_zero],\n",
    "                        range_x=[0,9],\n",
    "                        width=800,height=400,\n",
    "                        title=f\"% augmentation du {name}<br>pour 1000 points de {ALGO} par rapport à BI_BACK\"\n",
    "                        )\n",
    "\n",
    "    def build(f):\n",
    "        ticks_pos = [f(1,p) for p in ticks_pow]\n",
    "        if sign:\n",
    "            ticks_neg = [f(-1,p) for p in ticks_pow[::-1]]\n",
    "        else:\n",
    "            ticks_neg = []\n",
    "        return [*ticks_neg,logscale(0),*ticks_pos]\n",
    "    def func(sign,p):\n",
    "        real_value = sign*10**p\n",
    "        return logscale(real_value)\n",
    "    Lp = build(func)\n",
    "    Lannot = build(lambda sign,p: \"1E\"+str(p) if sign > 0 else \"-1E\"+str(p))\n",
    "    # print(Lp)\n",
    "    # print(Lannot)\n",
    "    fig.update_layout(\n",
    "        xaxis_title=\"Nombre de clusters\",\n",
    "        yaxis_title=\"Initialisation\",\n",
    "        coloraxis_colorbar=dict(\n",
    "        title=f\"% augmentation <br>{name}\",\n",
    "        tickvals=np.round(Lp,decimals=2),\n",
    "        ticktext=Lannot,\n",
    "    ))\n",
    "    fig.update_xaxes(\n",
    "        ticktext=[str(2**i) for i in range(9)],\n",
    "        tickvals=[i for i in range(9)],\n",
    "    )\n",
    "    fig.update_traces(marker=dict(size=12,\n",
    "                                line=dict(width=2,\n",
    "                                            color='black')),\n",
    "                    selector=dict(mode='markers'))\n",
    "    fig.show()"
   ]
  },
  {
   "cell_type": "code",
   "execution_count": null,
   "metadata": {},
   "outputs": [],
   "source": []
  }
 ],
 "metadata": {
  "interpreter": {
   "hash": "a7a80cf5091cc3b0eca4837265a50c60c3c4b353b9419c8d484eb15b11025f30"
  },
  "kernelspec": {
   "display_name": "Python 3.8.12 (conda)",
   "language": "python",
   "name": "python3"
  },
  "language_info": {
   "codemirror_mode": {
    "name": "ipython",
    "version": 3
   },
   "file_extension": ".py",
   "mimetype": "text/x-python",
   "name": "python",
   "nbconvert_exporter": "python",
   "pygments_lexer": "ipython3",
   "version": "3.8.12"
  },
  "orig_nbformat": 4
 },
 "nbformat": 4,
 "nbformat_minor": 2
}
