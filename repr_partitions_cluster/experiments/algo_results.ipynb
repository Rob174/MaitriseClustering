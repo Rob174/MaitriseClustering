{
 "cells": [
  {
   "cell_type": "markdown",
   "metadata": {},
   "source": []
  },
  {
   "cell_type": "markdown",
   "metadata": {},
   "source": [
    "Imports"
   ]
  },
  {
   "cell_type": "code",
   "execution_count": 35,
   "metadata": {},
   "outputs": [],
   "source": [
    "\n",
    "\n",
    "import pandas as pd\n",
    "import numpy as np\n",
    "from pathlib import Path\n",
    "from IPython.display import display, HTML\n",
    "import plotly.express as px\n",
    "import dataframe_image as dfi\n",
    "import matplotlib.pyplot as plt\n",
    "import matplotlib.colors as mcolors\n",
    "pd.options.mode.chained_assignment = 'warn'  # default=\n",
    "pd.options.plotting.backend = \"plotly\"\n",
    "pd.options.display.float_format = '{:,.2f}'.format\n",
    "PATH_CACHE = Path(\"../../data/results.csv\").resolve()\n",
    "# print(PATH_CACHE)\n",
    "pd.set_option('display.max_columns', None)  "
   ]
  },
  {
   "cell_type": "markdown",
   "metadata": {},
   "source": [
    "## Load original data and preprocess"
   ]
  },
  {
   "cell_type": "code",
   "execution_count": 49,
   "metadata": {},
   "outputs": [
    {
     "data": {
      "text/html": [
       "<div>\n",
       "<style scoped>\n",
       "    .dataframe tbody tr th:only-of-type {\n",
       "        vertical-align: middle;\n",
       "    }\n",
       "\n",
       "    .dataframe tbody tr th {\n",
       "        vertical-align: top;\n",
       "    }\n",
       "\n",
       "    .dataframe thead th {\n",
       "        text-align: right;\n",
       "    }\n",
       "</style>\n",
       "<table border=\"1\" class=\"dataframe\">\n",
       "  <thead>\n",
       "    <tr style=\"text-align: right;\">\n",
       "      <th></th>\n",
       "      <th>num_clusters</th>\n",
       "      <th>init_type</th>\n",
       "      <th>init_cost</th>\n",
       "      <th>end_cost</th>\n",
       "      <th>num_iter_tot</th>\n",
       "      <th>time</th>\n",
       "      <th>algorithm</th>\n",
       "      <th>Nb. points</th>\n",
       "    </tr>\n",
       "  </thead>\n",
       "  <tbody>\n",
       "    <tr>\n",
       "      <th>218000</th>\n",
       "      <td>32</td>\n",
       "      <td>random</td>\n",
       "      <td>36,283.90</td>\n",
       "      <td>873.72</td>\n",
       "      <td>40542</td>\n",
       "      <td>779.00</td>\n",
       "      <td>FI_BACK</td>\n",
       "      <td>40</td>\n",
       "    </tr>\n",
       "    <tr>\n",
       "      <th>218001</th>\n",
       "      <td>32</td>\n",
       "      <td>random</td>\n",
       "      <td>36,283.90</td>\n",
       "      <td>873.72</td>\n",
       "      <td>40542</td>\n",
       "      <td>764.00</td>\n",
       "      <td>FI_BACK</td>\n",
       "      <td>40</td>\n",
       "    </tr>\n",
       "    <tr>\n",
       "      <th>218002</th>\n",
       "      <td>32</td>\n",
       "      <td>random</td>\n",
       "      <td>36,283.90</td>\n",
       "      <td>873.72</td>\n",
       "      <td>40542</td>\n",
       "      <td>727.00</td>\n",
       "      <td>FI_BACK</td>\n",
       "      <td>40</td>\n",
       "    </tr>\n",
       "    <tr>\n",
       "      <th>218003</th>\n",
       "      <td>32</td>\n",
       "      <td>random</td>\n",
       "      <td>36,283.90</td>\n",
       "      <td>873.72</td>\n",
       "      <td>40542</td>\n",
       "      <td>732.00</td>\n",
       "      <td>FI_BACK</td>\n",
       "      <td>40</td>\n",
       "    </tr>\n",
       "    <tr>\n",
       "      <th>218004</th>\n",
       "      <td>32</td>\n",
       "      <td>random</td>\n",
       "      <td>36,283.90</td>\n",
       "      <td>873.72</td>\n",
       "      <td>40542</td>\n",
       "      <td>735.00</td>\n",
       "      <td>FI_BACK</td>\n",
       "      <td>40</td>\n",
       "    </tr>\n",
       "    <tr>\n",
       "      <th>...</th>\n",
       "      <td>...</td>\n",
       "      <td>...</td>\n",
       "      <td>...</td>\n",
       "      <td>...</td>\n",
       "      <td>...</td>\n",
       "      <td>...</td>\n",
       "      <td>...</td>\n",
       "      <td>...</td>\n",
       "    </tr>\n",
       "    <tr>\n",
       "      <th>704023</th>\n",
       "      <td>32</td>\n",
       "      <td>random</td>\n",
       "      <td>110,293.00</td>\n",
       "      <td>2,122.37</td>\n",
       "      <td>457756</td>\n",
       "      <td>5,318.00</td>\n",
       "      <td>FI_BACK</td>\n",
       "      <td>90</td>\n",
       "    </tr>\n",
       "    <tr>\n",
       "      <th>704024</th>\n",
       "      <td>32</td>\n",
       "      <td>random</td>\n",
       "      <td>110,293.00</td>\n",
       "      <td>2,122.37</td>\n",
       "      <td>457756</td>\n",
       "      <td>5,122.00</td>\n",
       "      <td>FI_BACK</td>\n",
       "      <td>90</td>\n",
       "    </tr>\n",
       "    <tr>\n",
       "      <th>704025</th>\n",
       "      <td>32</td>\n",
       "      <td>random</td>\n",
       "      <td>110,293.00</td>\n",
       "      <td>2,122.37</td>\n",
       "      <td>457756</td>\n",
       "      <td>4,852.00</td>\n",
       "      <td>FI_BACK</td>\n",
       "      <td>90</td>\n",
       "    </tr>\n",
       "    <tr>\n",
       "      <th>704026</th>\n",
       "      <td>32</td>\n",
       "      <td>random</td>\n",
       "      <td>110,293.00</td>\n",
       "      <td>2,122.37</td>\n",
       "      <td>457756</td>\n",
       "      <td>5,134.00</td>\n",
       "      <td>FI_BACK</td>\n",
       "      <td>90</td>\n",
       "    </tr>\n",
       "    <tr>\n",
       "      <th>704027</th>\n",
       "      <td>32</td>\n",
       "      <td>random</td>\n",
       "      <td>110,293.00</td>\n",
       "      <td>2,122.37</td>\n",
       "      <td>457756</td>\n",
       "      <td>5,164.00</td>\n",
       "      <td>FI_BACK</td>\n",
       "      <td>90</td>\n",
       "    </tr>\n",
       "  </tbody>\n",
       "</table>\n",
       "<p>6000 rows × 8 columns</p>\n",
       "</div>"
      ],
      "text/plain": [
       "        num_clusters init_type  init_cost  end_cost  num_iter_tot     time  \\\n",
       "218000            32    random  36,283.90    873.72         40542   779.00   \n",
       "218001            32    random  36,283.90    873.72         40542   764.00   \n",
       "218002            32    random  36,283.90    873.72         40542   727.00   \n",
       "218003            32    random  36,283.90    873.72         40542   732.00   \n",
       "218004            32    random  36,283.90    873.72         40542   735.00   \n",
       "...              ...       ...        ...       ...           ...      ...   \n",
       "704023            32    random 110,293.00  2,122.37        457756 5,318.00   \n",
       "704024            32    random 110,293.00  2,122.37        457756 5,122.00   \n",
       "704025            32    random 110,293.00  2,122.37        457756 4,852.00   \n",
       "704026            32    random 110,293.00  2,122.37        457756 5,134.00   \n",
       "704027            32    random 110,293.00  2,122.37        457756 5,164.00   \n",
       "\n",
       "       algorithm  Nb. points  \n",
       "218000   FI_BACK          40  \n",
       "218001   FI_BACK          40  \n",
       "218002   FI_BACK          40  \n",
       "218003   FI_BACK          40  \n",
       "218004   FI_BACK          40  \n",
       "...          ...         ...  \n",
       "704023   FI_BACK          90  \n",
       "704024   FI_BACK          90  \n",
       "704025   FI_BACK          90  \n",
       "704026   FI_BACK          90  \n",
       "704027   FI_BACK          90  \n",
       "\n",
       "[6000 rows x 8 columns]"
      ]
     },
     "metadata": {},
     "output_type": "display_data"
    },
    {
     "name": "stdout",
     "output_type": "stream",
     "text": [
      "None\n"
     ]
    }
   ],
   "source": [
    "orig_df = pd.read_csv(PATH_CACHE, sep=\",\",header=0,index_col=False)\n",
    "# for col in orig_df:\n",
    "#     print(col,orig_df[col].unique())\n",
    "for orig_name,new_name in [(0,\"BI\"),(1,\"FI\"),(2,\"DI\")]:\n",
    "    orig_df.loc[orig_df.ImprClass == orig_name,\"ImprClass\"] = new_name\n",
    "for orig_name,new_name in [(0,\"BACK\"),(1,\"CURR\"),(2,\"RANDOM\")]:\n",
    "    orig_df.loc[orig_df.iteration_order == orig_name,\"iteration_order\"] = new_name\n",
    "for orig_name,new_name in [(0,\"random\"),(1,\"kmeans+\")]:\n",
    "    orig_df.loc[orig_df.init_type == orig_name,\"init_type\"] = new_name\n",
    "orig_df.loc[:,\"algorithm\"] = orig_df[\"ImprClass\"]+\"_\" + orig_df[\"iteration_order\"]\n",
    "orig_df.loc[:,\"Nb. points\"] = orig_df[\"num_points\"]\n",
    "orig_df.drop([\"ImprClass\",\"iteration_order\",\"num_iter\",\"num_points\"],axis=1,inplace=True)\n",
    "df = orig_df.copy()\n",
    "print(display(orig_df.query(\"algorithm == 'FI_BACK' & num_clusters == 32 & init_type == 'random'\")))"
   ]
  },
  {
   "cell_type": "markdown",
   "metadata": {},
   "source": [
    "## Merged Data"
   ]
  },
  {
   "cell_type": "code",
   "execution_count": 43,
   "metadata": {},
   "outputs": [],
   "source": [
    "QUERY = \"algorithm == 'FI_BACK' & num_clusters == 32 & init_type == 'random'\""
   ]
  },
  {
   "cell_type": "code",
   "execution_count": 52,
   "metadata": {},
   "outputs": [
    {
     "data": {
      "text/html": [
       "<div>\n",
       "<style scoped>\n",
       "    .dataframe tbody tr th:only-of-type {\n",
       "        vertical-align: middle;\n",
       "    }\n",
       "\n",
       "    .dataframe tbody tr th {\n",
       "        vertical-align: top;\n",
       "    }\n",
       "\n",
       "    .dataframe thead th {\n",
       "        text-align: right;\n",
       "    }\n",
       "</style>\n",
       "<table border=\"1\" class=\"dataframe\">\n",
       "  <thead>\n",
       "    <tr style=\"text-align: right;\">\n",
       "      <th></th>\n",
       "      <th>num_clusters</th>\n",
       "      <th>Nb. points</th>\n",
       "      <th>init_type</th>\n",
       "      <th>algorithm</th>\n",
       "      <th>init_cost</th>\n",
       "      <th>end_cost</th>\n",
       "      <th>num_iter_tot</th>\n",
       "      <th>time</th>\n",
       "      <th>prct_amelioration_init_cost</th>\n",
       "      <th>prct_amelioration_end_cost</th>\n",
       "      <th>prct_amelioration_num_iter_tot</th>\n",
       "      <th>prct_amelioration_time</th>\n",
       "    </tr>\n",
       "  </thead>\n",
       "  <tbody>\n",
       "    <tr>\n",
       "      <th>69</th>\n",
       "      <td>32</td>\n",
       "      <td>60</td>\n",
       "      <td>random</td>\n",
       "      <td>BI_BACK</td>\n",
       "      <td>52,613.46</td>\n",
       "      <td>1,322.26</td>\n",
       "      <td>103,213.59</td>\n",
       "      <td>995.01</td>\n",
       "      <td>NaN</td>\n",
       "      <td>NaN</td>\n",
       "      <td>17.41</td>\n",
       "      <td>14.05</td>\n",
       "    </tr>\n",
       "  </tbody>\n",
       "</table>\n",
       "</div>"
      ],
      "text/plain": [
       "    num_clusters  Nb. points init_type algorithm  init_cost  end_cost  \\\n",
       "69            32          60    random   BI_BACK  52,613.46  1,322.26   \n",
       "\n",
       "    num_iter_tot   time  prct_amelioration_init_cost  \\\n",
       "69    103,213.59 995.01                          NaN   \n",
       "\n",
       "    prct_amelioration_end_cost  prct_amelioration_num_iter_tot  \\\n",
       "69                         NaN                           17.41   \n",
       "\n",
       "    prct_amelioration_time  \n",
       "69                   14.05  "
      ]
     },
     "metadata": {},
     "output_type": "display_data"
    },
    {
     "name": "stdout",
     "output_type": "stream",
     "text": [
      "None\n"
     ]
    },
    {
     "data": {
      "text/html": [
       "<div>\n",
       "<style scoped>\n",
       "    .dataframe tbody tr th:only-of-type {\n",
       "        vertical-align: middle;\n",
       "    }\n",
       "\n",
       "    .dataframe tbody tr th {\n",
       "        vertical-align: top;\n",
       "    }\n",
       "\n",
       "    .dataframe thead th {\n",
       "        text-align: right;\n",
       "    }\n",
       "</style>\n",
       "<table border=\"1\" class=\"dataframe\">\n",
       "  <thead>\n",
       "    <tr style=\"text-align: right;\">\n",
       "      <th></th>\n",
       "      <th>num_clusters</th>\n",
       "      <th>Nb. points</th>\n",
       "      <th>init_type</th>\n",
       "      <th>algorithm</th>\n",
       "      <th>init_cost</th>\n",
       "      <th>end_cost</th>\n",
       "      <th>num_iter_tot</th>\n",
       "      <th>time</th>\n",
       "    </tr>\n",
       "  </thead>\n",
       "  <tbody>\n",
       "    <tr>\n",
       "      <th>627</th>\n",
       "      <td>32</td>\n",
       "      <td>60</td>\n",
       "      <td>random</td>\n",
       "      <td>FI_BACK</td>\n",
       "      <td>52,613.46</td>\n",
       "      <td>1,322.26</td>\n",
       "      <td>103,213.59</td>\n",
       "      <td>995.01</td>\n",
       "    </tr>\n",
       "  </tbody>\n",
       "</table>\n",
       "</div>"
      ],
      "text/plain": [
       "     num_clusters  Nb. points init_type algorithm  init_cost  end_cost  \\\n",
       "627            32          60    random   FI_BACK  52,613.46  1,322.26   \n",
       "\n",
       "     num_iter_tot   time  \n",
       "627    103,213.59 995.01  "
      ]
     },
     "metadata": {},
     "output_type": "display_data"
    },
    {
     "name": "stdout",
     "output_type": "stream",
     "text": [
      "None\n"
     ]
    },
    {
     "data": {
      "text/html": [
       "<div>\n",
       "<style scoped>\n",
       "    .dataframe tbody tr th:only-of-type {\n",
       "        vertical-align: middle;\n",
       "    }\n",
       "\n",
       "    .dataframe tbody tr th {\n",
       "        vertical-align: top;\n",
       "    }\n",
       "\n",
       "    .dataframe thead th {\n",
       "        text-align: right;\n",
       "    }\n",
       "</style>\n",
       "<table border=\"1\" class=\"dataframe\">\n",
       "  <thead>\n",
       "    <tr style=\"text-align: right;\">\n",
       "      <th></th>\n",
       "      <th>num_clusters</th>\n",
       "      <th>Nb. points</th>\n",
       "      <th>init_type</th>\n",
       "      <th>algorithm</th>\n",
       "      <th>init_cost</th>\n",
       "      <th>end_cost</th>\n",
       "      <th>num_iter_tot</th>\n",
       "      <th>time</th>\n",
       "    </tr>\n",
       "  </thead>\n",
       "  <tbody>\n",
       "    <tr>\n",
       "      <th>627</th>\n",
       "      <td>32</td>\n",
       "      <td>60</td>\n",
       "      <td>random</td>\n",
       "      <td>FI_BACK</td>\n",
       "      <td>52,613.46</td>\n",
       "      <td>1,322.26</td>\n",
       "      <td>103,213.59</td>\n",
       "      <td>995.01</td>\n",
       "    </tr>\n",
       "  </tbody>\n",
       "</table>\n",
       "</div>"
      ],
      "text/plain": [
       "     num_clusters  Nb. points init_type algorithm  init_cost  end_cost  \\\n",
       "627            32          60    random   FI_BACK  52,613.46  1,322.26   \n",
       "\n",
       "     num_iter_tot   time  \n",
       "627    103,213.59 995.01  "
      ]
     },
     "metadata": {},
     "output_type": "display_data"
    },
    {
     "name": "stdout",
     "output_type": "stream",
     "text": [
      "None\n"
     ]
    },
    {
     "data": {
      "text/html": [
       "<div>\n",
       "<style scoped>\n",
       "    .dataframe tbody tr th:only-of-type {\n",
       "        vertical-align: middle;\n",
       "    }\n",
       "\n",
       "    .dataframe tbody tr th {\n",
       "        vertical-align: top;\n",
       "    }\n",
       "\n",
       "    .dataframe thead th {\n",
       "        text-align: right;\n",
       "    }\n",
       "</style>\n",
       "<table border=\"1\" class=\"dataframe\">\n",
       "  <thead>\n",
       "    <tr style=\"text-align: right;\">\n",
       "      <th></th>\n",
       "      <th>num_clusters</th>\n",
       "      <th>Nb. points</th>\n",
       "      <th>init_type</th>\n",
       "      <th>algorithm</th>\n",
       "      <th>init_cost</th>\n",
       "      <th>end_cost</th>\n",
       "      <th>num_iter_tot</th>\n",
       "      <th>time</th>\n",
       "    </tr>\n",
       "  </thead>\n",
       "  <tbody>\n",
       "    <tr>\n",
       "      <th>627</th>\n",
       "      <td>32</td>\n",
       "      <td>60</td>\n",
       "      <td>random</td>\n",
       "      <td>FI_BACK</td>\n",
       "      <td>52,613.46</td>\n",
       "      <td>1,322.26</td>\n",
       "      <td>103,213.59</td>\n",
       "      <td>995.01</td>\n",
       "    </tr>\n",
       "  </tbody>\n",
       "</table>\n",
       "</div>"
      ],
      "text/plain": [
       "     num_clusters  Nb. points init_type algorithm  init_cost  end_cost  \\\n",
       "627            32          60    random   FI_BACK  52,613.46  1,322.26   \n",
       "\n",
       "     num_iter_tot   time  \n",
       "627    103,213.59 995.01  "
      ]
     },
     "metadata": {},
     "output_type": "display_data"
    },
    {
     "name": "stdout",
     "output_type": "stream",
     "text": [
      "None\n"
     ]
    },
    {
     "data": {
      "text/html": [
       "<div>\n",
       "<style scoped>\n",
       "    .dataframe tbody tr th:only-of-type {\n",
       "        vertical-align: middle;\n",
       "    }\n",
       "\n",
       "    .dataframe tbody tr th {\n",
       "        vertical-align: top;\n",
       "    }\n",
       "\n",
       "    .dataframe thead th {\n",
       "        text-align: right;\n",
       "    }\n",
       "</style>\n",
       "<table border=\"1\" class=\"dataframe\">\n",
       "  <thead>\n",
       "    <tr style=\"text-align: right;\">\n",
       "      <th></th>\n",
       "      <th>num_clusters</th>\n",
       "      <th>Nb. points</th>\n",
       "      <th>init_type</th>\n",
       "      <th>algorithm</th>\n",
       "      <th>init_cost</th>\n",
       "      <th>end_cost</th>\n",
       "      <th>num_iter_tot</th>\n",
       "      <th>time</th>\n",
       "    </tr>\n",
       "  </thead>\n",
       "  <tbody>\n",
       "    <tr>\n",
       "      <th>627</th>\n",
       "      <td>32</td>\n",
       "      <td>60</td>\n",
       "      <td>random</td>\n",
       "      <td>FI_BACK</td>\n",
       "      <td>52,613.46</td>\n",
       "      <td>1,322.26</td>\n",
       "      <td>103,213.59</td>\n",
       "      <td>995.01</td>\n",
       "    </tr>\n",
       "  </tbody>\n",
       "</table>\n",
       "</div>"
      ],
      "text/plain": [
       "     num_clusters  Nb. points init_type algorithm  init_cost  end_cost  \\\n",
       "627            32          60    random   FI_BACK  52,613.46  1,322.26   \n",
       "\n",
       "     num_iter_tot   time  \n",
       "627    103,213.59 995.01  "
      ]
     },
     "metadata": {},
     "output_type": "display_data"
    },
    {
     "name": "stdout",
     "output_type": "stream",
     "text": [
      "None\n"
     ]
    },
    {
     "data": {
      "text/html": [
       "<style type=\"text/css\">\n",
       "#T_5f619_row0_col10, #T_5f619_row5_col11, #T_5f619_row5_col12 {\n",
       "  background-color: #00441b;\n",
       "  color: #f1f1f1;\n",
       "}\n",
       "#T_5f619_row0_col11 {\n",
       "  background-color: #7fc97f;\n",
       "  color: #000000;\n",
       "}\n",
       "#T_5f619_row0_col12 {\n",
       "  background-color: #87cd86;\n",
       "  color: #000000;\n",
       "}\n",
       "#T_5f619_row1_col10 {\n",
       "  background-color: #6ec173;\n",
       "  color: #000000;\n",
       "}\n",
       "#T_5f619_row1_col11 {\n",
       "  background-color: #fff2ec;\n",
       "  color: #000000;\n",
       "}\n",
       "#T_5f619_row1_col12 {\n",
       "  background-color: #f1faee;\n",
       "  color: #000000;\n",
       "}\n",
       "#T_5f619_row2_col10 {\n",
       "  background-color: #000000;\n",
       "  color: #f1f1f1;\n",
       "}\n",
       "#T_5f619_row2_col11 {\n",
       "  background-color: #ccebc6;\n",
       "  color: #000000;\n",
       "}\n",
       "#T_5f619_row2_col12 {\n",
       "  background-color: #e1f3dc;\n",
       "  color: #000000;\n",
       "}\n",
       "#T_5f619_row3_col10 {\n",
       "  background-color: #fee1d4;\n",
       "  color: #000000;\n",
       "}\n",
       "#T_5f619_row3_col11 {\n",
       "  background-color: #58b668;\n",
       "  color: #f1f1f1;\n",
       "}\n",
       "#T_5f619_row3_col12 {\n",
       "  background-color: #72c375;\n",
       "  color: #000000;\n",
       "}\n",
       "#T_5f619_row4_col10 {\n",
       "  background-color: #fee0d2;\n",
       "  color: #000000;\n",
       "}\n",
       "#T_5f619_row4_col11 {\n",
       "  background-color: #4bb062;\n",
       "  color: #f1f1f1;\n",
       "}\n",
       "#T_5f619_row4_col12 {\n",
       "  background-color: #68be70;\n",
       "  color: #000000;\n",
       "}\n",
       "#T_5f619_row5_col10 {\n",
       "  background-color: #ffede5;\n",
       "  color: #000000;\n",
       "}\n",
       "</style>\n",
       "<table id=\"T_5f619\">\n",
       "  <thead>\n",
       "    <tr>\n",
       "      <th class=\"blank level0\" >&nbsp;</th>\n",
       "      <th id=\"T_5f619_level0_col0\" class=\"col_heading level0 col0\" >index</th>\n",
       "      <th id=\"T_5f619_level0_col1\" class=\"col_heading level0 col1\" >num_clusters</th>\n",
       "      <th id=\"T_5f619_level0_col2\" class=\"col_heading level0 col2\" >Nb. points</th>\n",
       "      <th id=\"T_5f619_level0_col3\" class=\"col_heading level0 col3\" >init_type</th>\n",
       "      <th id=\"T_5f619_level0_col4\" class=\"col_heading level0 col4\" >algorithm</th>\n",
       "      <th id=\"T_5f619_level0_col5\" class=\"col_heading level0 col5\" >init_cost</th>\n",
       "      <th id=\"T_5f619_level0_col6\" class=\"col_heading level0 col6\" >end_cost</th>\n",
       "      <th id=\"T_5f619_level0_col7\" class=\"col_heading level0 col7\" >num_iter_tot</th>\n",
       "      <th id=\"T_5f619_level0_col8\" class=\"col_heading level0 col8\" >time</th>\n",
       "      <th id=\"T_5f619_level0_col9\" class=\"col_heading level0 col9\" >prct_amelioration_init_cost</th>\n",
       "      <th id=\"T_5f619_level0_col10\" class=\"col_heading level0 col10\" >prct_amelioration_end_cost</th>\n",
       "      <th id=\"T_5f619_level0_col11\" class=\"col_heading level0 col11\" >prct_amelioration_num_iter_tot</th>\n",
       "      <th id=\"T_5f619_level0_col12\" class=\"col_heading level0 col12\" >prct_amelioration_time</th>\n",
       "      <th id=\"T_5f619_level0_col13\" class=\"col_heading level0 col13\" >Nb pts par cluster</th>\n",
       "    </tr>\n",
       "  </thead>\n",
       "  <tbody>\n",
       "    <tr>\n",
       "      <th id=\"T_5f619_level0_row0\" class=\"row_heading level0 row0\" >557</th>\n",
       "      <td id=\"T_5f619_row0_col0\" class=\"data row0 col0\" >65</td>\n",
       "      <td id=\"T_5f619_row0_col1\" class=\"data row0 col1\" >32</td>\n",
       "      <td id=\"T_5f619_row0_col2\" class=\"data row0 col2\" >40</td>\n",
       "      <td id=\"T_5f619_row0_col3\" class=\"data row0 col3\" >random</td>\n",
       "      <td id=\"T_5f619_row0_col4\" class=\"data row0 col4\" >FI_BACK</td>\n",
       "      <td id=\"T_5f619_row0_col5\" class=\"data row0 col5\" >33714.223600</td>\n",
       "      <td id=\"T_5f619_row0_col6\" class=\"data row0 col6\" >752.014936</td>\n",
       "      <td id=\"T_5f619_row0_col7\" class=\"data row0 col7\" >33932.400000</td>\n",
       "      <td id=\"T_5f619_row0_col8\" class=\"data row0 col8\" >309.549000</td>\n",
       "      <td id=\"T_5f619_row0_col9\" class=\"data row0 col9\" >19.127486</td>\n",
       "      <td id=\"T_5f619_row0_col10\" class=\"data row0 col10\" >83.907609</td>\n",
       "      <td id=\"T_5f619_row0_col11\" class=\"data row0 col11\" >36.062245</td>\n",
       "      <td id=\"T_5f619_row0_col12\" class=\"data row0 col12\" >43.644894</td>\n",
       "      <td id=\"T_5f619_row0_col13\" class=\"data row0 col13\" >1.250000</td>\n",
       "    </tr>\n",
       "    <tr>\n",
       "      <th id=\"T_5f619_level0_row1\" class=\"row_heading level0 row1\" >559</th>\n",
       "      <td id=\"T_5f619_row1_col0\" class=\"data row1 col0\" >67</td>\n",
       "      <td id=\"T_5f619_row1_col1\" class=\"data row1 col1\" >32</td>\n",
       "      <td id=\"T_5f619_row1_col2\" class=\"data row1 col2\" >50</td>\n",
       "      <td id=\"T_5f619_row1_col3\" class=\"data row1 col3\" >random</td>\n",
       "      <td id=\"T_5f619_row1_col4\" class=\"data row1 col4\" >FI_BACK</td>\n",
       "      <td id=\"T_5f619_row1_col5\" class=\"data row1 col5\" >32987.222400</td>\n",
       "      <td id=\"T_5f619_row1_col6\" class=\"data row1 col6\" >1348.679960</td>\n",
       "      <td id=\"T_5f619_row1_col7\" class=\"data row1 col7\" >58570.436000</td>\n",
       "      <td id=\"T_5f619_row1_col8\" class=\"data row1 col8\" >549.123000</td>\n",
       "      <td id=\"T_5f619_row1_col9\" class=\"data row1 col9\" >-26.003383</td>\n",
       "      <td id=\"T_5f619_row1_col10\" class=\"data row1 col10\" >42.860495</td>\n",
       "      <td id=\"T_5f619_row1_col11\" class=\"data row1 col11\" >-1.191386</td>\n",
       "      <td id=\"T_5f619_row1_col12\" class=\"data row1 col12\" >3.859925</td>\n",
       "      <td id=\"T_5f619_row1_col13\" class=\"data row1 col13\" >1.562500</td>\n",
       "    </tr>\n",
       "    <tr>\n",
       "      <th id=\"T_5f619_level0_row2\" class=\"row_heading level0 row2\" >561</th>\n",
       "      <td id=\"T_5f619_row2_col0\" class=\"data row2 col0\" >69</td>\n",
       "      <td id=\"T_5f619_row2_col1\" class=\"data row2 col1\" >32</td>\n",
       "      <td id=\"T_5f619_row2_col2\" class=\"data row2 col2\" >60</td>\n",
       "      <td id=\"T_5f619_row2_col3\" class=\"data row2 col3\" >random</td>\n",
       "      <td id=\"T_5f619_row2_col4\" class=\"data row2 col4\" >FI_BACK</td>\n",
       "      <td id=\"T_5f619_row2_col5\" class=\"data row2 col5\" >52613.461900</td>\n",
       "      <td id=\"T_5f619_row2_col6\" class=\"data row2 col6\" >1322.262500</td>\n",
       "      <td id=\"T_5f619_row2_col7\" class=\"data row2 col7\" >103213.592000</td>\n",
       "      <td id=\"T_5f619_row2_col8\" class=\"data row2 col8\" >995.010000</td>\n",
       "      <td id=\"T_5f619_row2_col9\" class=\"data row2 col9\" >nan</td>\n",
       "      <td id=\"T_5f619_row2_col10\" class=\"data row2 col10\" >nan</td>\n",
       "      <td id=\"T_5f619_row2_col11\" class=\"data row2 col11\" >17.412935</td>\n",
       "      <td id=\"T_5f619_row2_col12\" class=\"data row2 col12\" >14.053156</td>\n",
       "      <td id=\"T_5f619_row2_col13\" class=\"data row2 col13\" >1.875000</td>\n",
       "    </tr>\n",
       "    <tr>\n",
       "      <th id=\"T_5f619_level0_row3\" class=\"row_heading level0 row3\" >563</th>\n",
       "      <td id=\"T_5f619_row3_col0\" class=\"data row3 col0\" >71</td>\n",
       "      <td id=\"T_5f619_row3_col1\" class=\"data row3 col1\" >32</td>\n",
       "      <td id=\"T_5f619_row3_col2\" class=\"data row3 col2\" >70</td>\n",
       "      <td id=\"T_5f619_row3_col3\" class=\"data row3 col3\" >random</td>\n",
       "      <td id=\"T_5f619_row3_col4\" class=\"data row3 col4\" >FI_BACK</td>\n",
       "      <td id=\"T_5f619_row3_col5\" class=\"data row3 col5\" >68700.436000</td>\n",
       "      <td id=\"T_5f619_row3_col6\" class=\"data row3 col6\" >1445.853960</td>\n",
       "      <td id=\"T_5f619_row3_col7\" class=\"data row3 col7\" >180414.698000</td>\n",
       "      <td id=\"T_5f619_row3_col8\" class=\"data row3 col8\" >1841.007000</td>\n",
       "      <td id=\"T_5f619_row3_col9\" class=\"data row3 col9\" >-6.231218</td>\n",
       "      <td id=\"T_5f619_row3_col10\" class=\"data row3 col10\" >-9.947351</td>\n",
       "      <td id=\"T_5f619_row3_col11\" class=\"data row3 col11\" >42.642168</td>\n",
       "      <td id=\"T_5f619_row3_col12\" class=\"data row3 col12\" >48.314609</td>\n",
       "      <td id=\"T_5f619_row3_col13\" class=\"data row3 col13\" >2.187500</td>\n",
       "    </tr>\n",
       "    <tr>\n",
       "      <th id=\"T_5f619_level0_row4\" class=\"row_heading level0 row4\" >565</th>\n",
       "      <td id=\"T_5f619_row4_col0\" class=\"data row4 col0\" >73</td>\n",
       "      <td id=\"T_5f619_row4_col1\" class=\"data row4 col1\" >32</td>\n",
       "      <td id=\"T_5f619_row4_col2\" class=\"data row4 col2\" >80</td>\n",
       "      <td id=\"T_5f619_row4_col3\" class=\"data row4 col3\" >random</td>\n",
       "      <td id=\"T_5f619_row4_col4\" class=\"data row4 col4\" >FI_BACK</td>\n",
       "      <td id=\"T_5f619_row4_col5\" class=\"data row4 col5\" >85909.699100</td>\n",
       "      <td id=\"T_5f619_row4_col6\" class=\"data row4 col6\" >1888.643110</td>\n",
       "      <td id=\"T_5f619_row4_col7\" class=\"data row4 col7\" >256124.111000</td>\n",
       "      <td id=\"T_5f619_row4_col8\" class=\"data row4 col8\" >2669.591000</td>\n",
       "      <td id=\"T_5f619_row4_col9\" class=\"data row4 col9\" >4.474418</td>\n",
       "      <td id=\"T_5f619_row4_col10\" class=\"data row4 col10\" >-10.571830</td>\n",
       "      <td id=\"T_5f619_row4_col11\" class=\"data row4 col11\" >45.409793</td>\n",
       "      <td id=\"T_5f619_row4_col12\" class=\"data row4 col12\" >50.798791</td>\n",
       "      <td id=\"T_5f619_row4_col13\" class=\"data row4 col13\" >2.500000</td>\n",
       "    </tr>\n",
       "    <tr>\n",
       "      <th id=\"T_5f619_level0_row5\" class=\"row_heading level0 row5\" >567</th>\n",
       "      <td id=\"T_5f619_row5_col0\" class=\"data row5 col0\" >75</td>\n",
       "      <td id=\"T_5f619_row5_col1\" class=\"data row5 col1\" >32</td>\n",
       "      <td id=\"T_5f619_row5_col2\" class=\"data row5 col2\" >90</td>\n",
       "      <td id=\"T_5f619_row5_col3\" class=\"data row5 col3\" >random</td>\n",
       "      <td id=\"T_5f619_row5_col4\" class=\"data row5 col4\" >FI_BACK</td>\n",
       "      <td id=\"T_5f619_row5_col5\" class=\"data row5 col5\" >101630.259400</td>\n",
       "      <td id=\"T_5f619_row5_col6\" class=\"data row5 col6\" >2310.365970</td>\n",
       "      <td id=\"T_5f619_row5_col7\" class=\"data row5 col7\" >384415.199000</td>\n",
       "      <td id=\"T_5f619_row5_col8\" class=\"data row5 col8\" >4133.811000</td>\n",
       "      <td id=\"T_5f619_row5_col9\" class=\"data row5 col9\" >-3.159791</td>\n",
       "      <td id=\"T_5f619_row5_col10\" class=\"data row5 col10\" >-4.292649</td>\n",
       "      <td id=\"T_5f619_row5_col11\" class=\"data row5 col11\" >75.692368</td>\n",
       "      <td id=\"T_5f619_row5_col12\" class=\"data row5 col12\" >96.492585</td>\n",
       "      <td id=\"T_5f619_row5_col13\" class=\"data row5 col13\" >2.812500</td>\n",
       "    </tr>\n",
       "  </tbody>\n",
       "</table>\n"
      ],
      "text/plain": [
       "<pandas.io.formats.style.Styler at 0x24d1f328f40>"
      ]
     },
     "metadata": {},
     "output_type": "display_data"
    },
    {
     "name": "stdout",
     "output_type": "stream",
     "text": [
      "None\n"
     ]
    }
   ],
   "source": [
    "grouped_cols = [\"num_clusters\",\"Nb. points\",\"init_type\",\"algorithm\"]\n",
    "df_compil = orig_df.groupby(grouped_cols).mean().reset_index()\n",
    "df_BI = df_compil[df_compil[\"algorithm\"] == \"BI_BACK\"].copy().set_index(grouped_cols)\n",
    "Ldf = []\n",
    "for algo in pd.unique(df_compil[\"algorithm\"]):\n",
    "    df_algo = df_compil[df_compil[\"algorithm\"] == algo].copy()\n",
    "    df_algo[\"algorithm\"] = \"BI_BACK\"\n",
    "    df_algo = df_algo.set_index(grouped_cols)\n",
    "    df_algo_orig = df_algo.copy()\n",
    "    df_algo = (df_algo - df_BI)/df_BI*100\n",
    "    df_algo.columns = [\"prct_amelioration_\"+c for c in df_algo.columns]\n",
    "    df_algo = pd.concat([df_algo_orig,df_algo],axis=1)\n",
    "    df_algo = df_algo.reset_index()\n",
    "    if df_algo[\"prct_amelioration_end_cost\"].isnull().values.any():\n",
    "        b=0\n",
    "    df_algo[\"algorithm\"] = algo\n",
    "    Ldf.append(df_algo)\n",
    "df_compil = pd.concat(Ldf,axis=0)\n",
    "df_compil.loc[:,\"Nb pts par cluster\"] = df_compil[\"Nb. points\"]/df_compil[\"num_clusters\"]\n",
    "# print(display(df_compil[df_compil[\"algorithm\"]!=\"BI_BACK\"].head()))\n",
    "\n",
    "# sample the colormaps that you want to use. Use 128 from each so we get 256\n",
    "def generate_cmap(negative_good=True):\n",
    "    # thanks to https://stackoverflow.com/questions/31051488/combining-two-matplotlib-colormaps\n",
    "    # colors in total\n",
    "    Lintervals = [\n",
    "        (1,0),\n",
    "        (0.,1.)\n",
    "    ]\n",
    "    Lcmap_names = [\"Reds\",\"Greens\"]\n",
    "    if negative_good:\n",
    "        Lcmap_names = Lcmap_names[::-1]\n",
    "    Lcmaps = [\n",
    "        plt.get_cmap(name)(np.linspace(*interval,128)) for name,interval in zip(Lcmap_names,Lintervals)\n",
    "    ]\n",
    "    \n",
    "\n",
    "    # combine them and build a new colormap\n",
    "    colors = np.vstack(Lcmaps)\n",
    "    mymap = mcolors.LinearSegmentedColormap.from_list('my_colormap', colors)\n",
    "    return mymap\n",
    "def select_col(x):\n",
    "    c1 = 'background-color: red'\n",
    "    c2 = '' \n",
    "    #compare columns\n",
    "    mask = x['Diff'] > x['HistoricStandardDev']\n",
    "    #DataFrame with same index and columns names as original filled empty strings\n",
    "    df1 =  pd.DataFrame(c2, index=x.index, columns=x.columns)\n",
    "    #modify values of df1 column by boolean mask\n",
    "    df1.loc[mask, 'Current'] = c1\n",
    "    return df1\n",
    "\n",
    "# Colors\n",
    "Lindexes = [f\"prct_amelioration_{col}\" for col in [\"end_cost\",\"num_iter_tot\",\"time\"]]\n",
    "df = df_compil.copy().reset_index()\n",
    "df = df.query(QUERY)\n",
    "styler = df.copy().style\n",
    "for indexes,negative_good in zip(Lindexes,[False,False,False]):\n",
    "    maxi = df[indexes].abs().max()\n",
    "    styler.background_gradient(cmap=generate_cmap(negative_good=negative_good), subset=indexes,vmin=-maxi,vmax=maxi)\n",
    "print(display(styler))\n"
   ]
  },
  {
   "cell_type": "code",
   "execution_count": null,
   "metadata": {},
   "outputs": [
    {
     "data": {
      "application/vnd.plotly.v1+json": {
       "config": {
        "plotlyServerURL": "https://plot.ly"
       },
       "data": [
        {
         "customdata": [
          [
           0
          ],
          [
           0
          ],
          [
           0
          ],
          [
           0
          ],
          [
           0
          ],
          [
           0
          ],
          [
           0
          ],
          [
           0
          ],
          [
           0
          ],
          [
           0
          ],
          [
           0
          ],
          [
           0
          ],
          [
           0
          ],
          [
           0
          ],
          [
           0
          ],
          [
           0
          ],
          [
           0
          ],
          [
           0
          ],
          [
           0
          ],
          [
           0
          ],
          [
           0
          ],
          [
           0
          ],
          [
           0
          ],
          [
           0
          ],
          [
           0
          ],
          [
           0
          ],
          [
           0
          ],
          [
           0
          ],
          [
           0
          ],
          [
           0
          ],
          [
           0
          ],
          [
           0
          ],
          [
           0
          ],
          [
           0
          ],
          [
           0
          ],
          [
           0
          ],
          [
           0
          ],
          [
           0
          ],
          [
           0
          ],
          [
           0
          ],
          [
           0
          ],
          [
           0
          ],
          [
           0
          ],
          [
           0
          ],
          [
           0
          ],
          [
           0
          ],
          [
           0
          ],
          [
           0
          ],
          [
           0
          ],
          [
           0
          ],
          [
           0
          ],
          [
           0
          ],
          [
           0
          ],
          [
           0
          ],
          [
           0
          ],
          [
           0
          ],
          [
           0
          ],
          [
           0
          ],
          [
           0
          ],
          [
           0
          ],
          [
           0
          ],
          [
           0
          ],
          [
           0
          ],
          [
           0
          ],
          [
           0
          ],
          [
           0
          ],
          [
           0
          ],
          [
           0
          ],
          [
           0
          ],
          [
           null
          ],
          [
           0
          ],
          [
           0
          ],
          [
           0
          ],
          [
           0
          ],
          [
           0
          ],
          [
           0
          ],
          [
           0
          ],
          [
           0
          ],
          [
           0
          ],
          [
           0
          ],
          [
           0
          ],
          [
           0
          ],
          [
           -35.78717342699808
          ],
          [
           -14.971928115716167
          ],
          [
           1.2998492151563492
          ],
          [
           11.506631330692118
          ],
          [
           -12.389677345763971
          ],
          [
           -12.779154201044607
          ],
          [
           -7.761318449431077
          ],
          [
           -9.335319543618334
          ],
          [
           4.0304186464964005
          ],
          [
           9.697845187860118
          ],
          [
           -0.6314844937088805
          ],
          [
           33.3189014164437
          ],
          [
           -8.203141744637053
          ],
          [
           -12.436770967482316
          ],
          [
           5.448351285680342
          ],
          [
           -10.693298730057432
          ],
          [
           0
          ],
          [
           0
          ],
          [
           11.753919557456333
          ],
          [
           -10.513342203940777
          ],
          [
           13.309834706650758
          ],
          [
           -13.460997364131352
          ],
          [
           27.21531108855748
          ],
          [
           5.125576862278478
          ],
          [
           13.637604960413018
          ],
          [
           -22.168940959963443
          ],
          [
           21.60767394827932
          ],
          [
           -5.6338301435651035
          ],
          [
           -6.1679691804220855
          ],
          [
           27.6716993325228
          ],
          [
           -3.1047221304805173
          ],
          [
           -6.484523381344462
          ],
          [
           -19.232321120426327
          ],
          [
           -47.33830044336754
          ],
          [
           10.697595980106117
          ],
          [
           -26.915531010985
          ],
          [
           7.720780547936859
          ],
          [
           -12.259671481542707
          ],
          [
           23.191228518775826
          ],
          [
           -0.9252893002176849
          ],
          [
           -8.387872540266635
          ],
          [
           15.155932848806028
          ],
          [
           45.94257418464069
          ],
          [
           -2.5855904087418455
          ],
          [
           12.03252542749457
          ],
          [
           -2.1582875780766217
          ],
          [
           -9.184894378592395
          ],
          [
           -3.548211962831413
          ],
          [
           17.60687531308078
          ],
          [
           -36.739462408903414
          ],
          [
           -19.701302986895904
          ],
          [
           -0.9314068659251665
          ],
          [
           -22.98861639729649
          ],
          [
           59.48783459834367
          ],
          [
           -15.421208466756086
          ],
          [
           -25.855854469698787
          ],
          [
           -24.485952879752208
          ],
          [
           -10.41291986570162
          ],
          [
           -0.12254627819516486
          ],
          [
           7.867017288901526
          ],
          [
           -19.961094790499416
          ],
          [
           -0.7067767600001963
          ],
          [
           3.36394759097828
          ],
          [
           -10.514391066254655
          ],
          [
           -10.425963520765519
          ],
          [
           75.29825529044484
          ],
          [
           81.69114968751198
          ],
          [
           7.0666957089373446
          ],
          [
           -5.26419508155159
          ],
          [
           null
          ],
          [
           -17.785088391829575
          ],
          [
           10.145975016049812
          ],
          [
           10.348715629687403
          ],
          [
           -15.239946317427675
          ],
          [
           -7.032296311430695
          ],
          [
           -6.497090052262804
          ],
          [
           -0.30839679713451656
          ],
          [
           10.417821134463672
          ],
          [
           -8.168643294214114
          ],
          [
           -5.62841600790595
          ],
          [
           -2.9656660208441994
          ],
          [
           -13.978102454833769
          ],
          [
           -35.78717342699808
          ],
          [
           -14.971928115716167
          ],
          [
           1.222756929532748
          ],
          [
           11.630052641576084
          ],
          [
           -12.389677345763971
          ],
          [
           -12.779154201044607
          ],
          [
           4.638692896946151
          ],
          [
           -0.6010837111716719
          ],
          [
           -22.10335588325114
          ],
          [
           -2.999411689758078
          ],
          [
           0.34249705936990266
          ],
          [
           -4.549335725510187
          ],
          [
           5.635331086468324
          ],
          [
           -7.723096010589403
          ],
          [
           13.641866140120431
          ],
          [
           -0.5201337195009441
          ],
          [
           -29.901687411888055
          ],
          [
           -15.420681340816452
          ],
          [
           20.227852144799403
          ],
          [
           -3.1095754705645944
          ],
          [
           21.77775422246291
          ],
          [
           -0.2556788570667286
          ],
          [
           20.43524992886671
          ],
          [
           9.775450988758882
          ],
          [
           27.238807948035376
          ],
          [
           0.49893563745814634
          ],
          [
           11.240987857321594
          ],
          [
           5.243539977792109
          ],
          [
           -9.278692462661647
          ],
          [
           9.233957563335059
          ],
          [
           1.1027786459946045
          ],
          [
           -3.216166949110116
          ],
          [
           -19.76490529312796
          ],
          [
           -15.222683898789716
          ],
          [
           1.0881030844251256
          ],
          [
           72.41366007731858
          ],
          [
           -14.462152817989098
          ],
          [
           -34.106206228586636
          ],
          [
           3.0521985376021217
          ],
          [
           2.8492354914366453
          ],
          [
           -20.114838741437097
          ],
          [
           18.37791570060591
          ],
          [
           21.369578332804032
          ],
          [
           3.624079178161238
          ],
          [
           1.929192469347369
          ],
          [
           2.382877823479678
          ],
          [
           -8.092119321566189
          ],
          [
           -2.5105707811091778
          ],
          [
           12.302865613123725
          ],
          [
           -40.400121574942474
          ],
          [
           26.58984472069938
          ],
          [
           -5.458372392166128
          ],
          [
           -15.866526264837272
          ],
          [
           53.131772747590404
          ],
          [
           -13.094463180330793
          ],
          [
           -11.450061102846814
          ],
          [
           -25.16400070336866
          ],
          [
           -13.107230949146134
          ],
          [
           4.823980534343133
          ],
          [
           11.570022226914018
          ],
          [
           0.27037565368483524
          ],
          [
           -4.694808086779051
          ],
          [
           0.5921853113434016
          ],
          [
           -8.243058609470335
          ],
          [
           -22.037569129491054
          ],
          [
           206.19734422535169
          ],
          [
           46.57184488548495
          ],
          [
           9.977767761234949
          ],
          [
           -10.700848031740284
          ],
          [
           null
          ],
          [
           -21.836498052053763
          ],
          [
           7.110379749396166
          ],
          [
           -6.447618629793876
          ],
          [
           -10.960816089801376
          ],
          [
           -5.3378868111688345
          ],
          [
           0.6007609583848916
          ],
          [
           3.511238035634018
          ],
          [
           -4.78991561740429
          ],
          [
           9.506961468914778
          ],
          [
           0.36523631130802214
          ],
          [
           5.0537884716001065
          ],
          [
           -14.372725784513474
          ],
          [
           -35.78717342699808
          ],
          [
           -14.971928115716167
          ],
          [
           1.2996387983757915
          ],
          [
           11.506631330692118
          ],
          [
           0
          ],
          [
           2.4612955929877285
          ],
          [
           -7.994684239044283
          ],
          [
           -9.180270059264137
          ],
          [
           4.0304186464964005
          ],
          [
           -0.019381874352637822
          ],
          [
           -0.9393038318096699
          ],
          [
           16.070911950018125
          ],
          [
           -7.4771131936834365
          ],
          [
           -11.848498463696076
          ],
          [
           5.448351285680342
          ],
          [
           -2.6056685595788105
          ],
          [
           0
          ],
          [
           24.975748015122125
          ],
          [
           12.028685899355118
          ],
          [
           -5.308584143353859
          ],
          [
           -16.437156161381587
          ],
          [
           -2.4170696673088803
          ],
          [
           27.236165662363977
          ],
          [
           16.23074769633478
          ],
          [
           12.627342904004713
          ],
          [
           -22.28294721090297
          ],
          [
           22.24302294725184
          ],
          [
           5.628958029100442
          ],
          [
           -26.475494569672236
          ],
          [
           4.64391642348234
          ],
          [
           -7.928646697873636
          ],
          [
           -2.6184097226759957
          ],
          [
           -18.114437930191485
          ],
          [
           -11.76862722587413
          ],
          [
           -49.412981951076475
          ],
          [
           18.069342809085395
          ],
          [
           7.713228865722901
          ],
          [
           -15.194672821161525
          ],
          [
           16.335069704134284
          ],
          [
           -10.921231442983315
          ],
          [
           0.437872152074471
          ],
          [
           6.3414833437650575
          ],
          [
           32.906144185521676
          ],
          [
           5.8044793084976885
          ],
          [
           13.248022106570009
          ],
          [
           8.207076874014271
          ],
          [
           -8.72461287032189
          ],
          [
           -11.182981214911235
          ],
          [
           4.297455663439892
          ],
          [
           23.955920929253676
          ],
          [
           41.2731383878326
          ],
          [
           -11.572646558270717
          ],
          [
           -43.12466742463386
          ],
          [
           27.093105052438236
          ],
          [
           -13.465932648489035
          ],
          [
           -11.104412680798054
          ],
          [
           -19.20844784139889
          ],
          [
           -9.435925732703224
          ],
          [
           11.18993817710432
          ],
          [
           7.385042706114538
          ],
          [
           -9.38661145289496
          ],
          [
           null
          ],
          [
           7.633631395051537
          ],
          [
           -11.332555999776538
          ],
          [
           0.37118026239761637
          ],
          [
           63.03794096121492
          ],
          [
           32.453370429303554
          ],
          [
           -3.462642934501415
          ],
          [
           -6.181550690767189
          ],
          [
           null
          ],
          [
           -12.822513699864793
          ],
          [
           null
          ],
          [
           3.482446275563391
          ],
          [
           -10.734022411704993
          ],
          [
           3.1796651929492956
          ],
          [
           null
          ],
          [
           -0.5115004253124775
          ],
          [
           -7.790637901379382
          ],
          [
           6.927719278343244
          ],
          [
           null
          ],
          [
           15.835391931216918
          ],
          [
           null
          ],
          [
           -35.78717342699808
          ],
          [
           -14.971928115716167
          ],
          [
           1.2225335571542388
          ],
          [
           11.630052641576084
          ],
          [
           -12.389677345763971
          ],
          [
           -16.375470294832457
          ],
          [
           4.0423189362875815
          ],
          [
           -6.967427795944824
          ],
          [
           4.0304186464964005
          ],
          [
           9.55861352745771
          ],
          [
           7.107037528879598
          ],
          [
           -4.543601462359613
          ],
          [
           -0.09211709451407972
          ],
          [
           -3.33152009764836
          ],
          [
           11.153315100040512
          ],
          [
           -8.286234192483002
          ],
          [
           -29.901687411888055
          ],
          [
           23.062013977662634
          ],
          [
           21.792750867303468
          ],
          [
           -7.028700415581825
          ],
          [
           16.137937453529215
          ],
          [
           -11.109567864752968
          ],
          [
           27.096830774321262
          ],
          [
           10.757333459907136
          ],
          [
           37.65889283946298
          ],
          [
           -9.857956154516167
          ],
          [
           25.141969515765922
          ],
          [
           -6.916105147093113
          ],
          [
           -2.221054600971433
          ],
          [
           9.513727877218416
          ],
          [
           13.582487778718711
          ],
          [
           -2.6251294094013553
          ],
          [
           -20.788476304069306
          ],
          [
           -3.8153945571447765
          ],
          [
           30.948656737843894
          ],
          [
           21.812141753507518
          ],
          [
           -11.358768724961795
          ],
          [
           -15.357481837814458
          ],
          [
           24.652327093181558
          ],
          [
           7.040694155314426
          ],
          [
           -21.50103615083721
          ],
          [
           9.630804932149195
          ],
          [
           56.50046271161824
          ],
          [
           0.8982466009434253
          ],
          [
           0.13789612090505965
          ],
          [
           0.7806694368300028
          ],
          [
           -5.863302055451716
          ],
          [
           -9.978572528942932
          ],
          [
           12.302865613123725
          ],
          [
           -10.288334915316245
          ],
          [
           27.89990173731193
          ],
          [
           -16.00441318588959
          ],
          [
           -14.220221656416426
          ],
          [
           18.919809931426
          ],
          [
           -9.894586073274093
          ],
          [
           -7.448778794078306
          ],
          [
           -13.703395829205789
          ],
          [
           -9.68921431416438
          ],
          [
           8.016147295677474
          ],
          [
           6.986307568819511
          ],
          [
           -5.782542141200291
          ],
          [
           null
          ],
          [
           13.451075425517178
          ],
          [
           null
          ],
          [
           -11.79457722985454
          ],
          [
           81.94932408106006
          ],
          [
           40.55527331518474
          ],
          [
           2.9301271099243227
          ],
          [
           -12.780693136150767
          ],
          [
           null
          ],
          [
           -14.550205267794283
          ],
          [
           -5.534630248204935
          ],
          [
           -4.209792518304206
          ],
          [
           null
          ],
          [
           -11.524470460675493
          ],
          [
           null
          ],
          [
           -0.41624606673841735
          ],
          [
           null
          ],
          [
           15.015214031670332
          ],
          [
           -7.015916409323944
          ],
          [
           6.530464132083683
          ],
          [
           null
          ],
          [
           10.502984183722761
          ],
          [
           -13.647961817561976
          ],
          [
           -29.125139116875765
          ],
          [
           -0.2204961531358424
          ],
          [
           -25.650159768218213
          ],
          [
           -2.591321527879408
          ],
          [
           -17.501585982532337
          ],
          [
           -7.45692083200393
          ],
          [
           -9.519524958380229
          ],
          [
           -5.0308251726145485
          ],
          [
           -4.655777919359661
          ],
          [
           7.779598019997458
          ],
          [
           -7.561655565983544
          ],
          [
           -7.321581011735681
          ],
          [
           -3.3783533867894766
          ],
          [
           -3.467662480400408
          ],
          [
           -6.257402816596333
          ],
          [
           2.5661143398894684
          ],
          [
           -3.805037440964438
          ],
          [
           -3.289802590971127
          ],
          [
           43.495220374052515
          ],
          [
           39.52271892055105
          ],
          [
           -2.6260075396754723
          ],
          [
           14.116487887239195
          ],
          [
           5.191703841286886
          ],
          [
           -18.783731317546533
          ],
          [
           15.258560042694693
          ],
          [
           -0.7514204898208471
          ],
          [
           -13.621494319526755
          ],
          [
           3.5458906575759572
          ],
          [
           4.128309865487077
          ],
          [
           -0.4159132268308042
          ],
          [
           24.744131729150894
          ],
          [
           -15.6125807963924
          ],
          [
           13.619206688330465
          ],
          [
           13.249270544588107
          ],
          [
           -22.243909469932273
          ],
          [
           -22.994190579584085
          ],
          [
           38.06674306100949
          ],
          [
           1.2739000661155935
          ],
          [
           3.031639392868626
          ],
          [
           10.672584955108958
          ],
          [
           24.21098568376561
          ],
          [
           2.128307960691152
          ],
          [
           -2.871558763866198
          ],
          [
           6.049344944482393
          ],
          [
           -7.0429534847723145
          ],
          [
           -11.955174139329706
          ],
          [
           42.728261643838174
          ],
          [
           -26.130484086610785
          ],
          [
           17.580435012365907
          ],
          [
           -16.646790188138905
          ],
          [
           -33.05864814581989
          ],
          [
           21.848880271437856
          ],
          [
           4.831832277848248
          ],
          [
           -9.457060867966801
          ],
          [
           -13.509898352569335
          ],
          [
           null
          ],
          [
           0.499264801757578
          ],
          [
           7.3124975932816705
          ],
          [
           -10.32478679417358
          ],
          [
           -9.193509802992272
          ],
          [
           7.904478779934795
          ],
          [
           -10.66312996993168
          ],
          [
           -6.335847790955909
          ],
          [
           56.01156919249917
          ],
          [
           26.575240756361584
          ],
          [
           -2.047651365742096
          ],
          [
           -21.12211196112877
          ],
          [
           null
          ],
          [
           -16.076661781265653
          ],
          [
           null
          ],
          [
           3.8111163748929235
          ],
          [
           -10.140889857313683
          ],
          [
           -1.2645953274416026
          ],
          [
           -7.138602627817724
          ],
          [
           8.86446503426778
          ],
          [
           null
          ],
          [
           -1.2727009506212181
          ],
          [
           null
          ],
          [
           18.472704980227846
          ],
          [
           null
          ],
          [
           -35.78717342699808
          ],
          [
           -7.0002629912823275
          ],
          [
           0.13385120700358752
          ],
          [
           4.240553444363008
          ],
          [
           0
          ],
          [
           0
          ],
          [
           -7.994684239044283
          ],
          [
           2.572686121014712
          ],
          [
           0
          ],
          [
           -0.12359294827496926
          ],
          [
           -10.619707423480765
          ],
          [
           7.379386997382525
          ],
          [
           -7.353779367808241
          ],
          [
           -0.04145648793010574
          ],
          [
           5.951690860051688
          ],
          [
           -10.926992695181928
          ],
          [
           0
          ],
          [
           23.340398790519938
          ],
          [
           -1.5602917065180997
          ],
          [
           -2.482621787021633
          ],
          [
           -0.6907613838280253
          ],
          [
           -0.002259239240822806
          ],
          [
           2.323895495422231
          ],
          [
           -1.7256683780363582
          ],
          [
           0
          ],
          [
           -5.668839716852712
          ],
          [
           0.0000032604485712153372
          ],
          [
           3.6068408332712174
          ],
          [
           -0.78769036123283
          ],
          [
           -0.5267407395245289
          ],
          [
           -0.16780925231546817
          ],
          [
           -4.742234808295008
          ],
          [
           0.04500590895801166
          ],
          [
           -5.860494680706213
          ],
          [
           0.741087057044481
          ],
          [
           7.158726231526079
          ],
          [
           -6.580240354312439
          ],
          [
           -6.913706528584047
          ],
          [
           44.323227495405746
          ],
          [
           -9.71544105466391
          ],
          [
           1.2640890808212162
          ],
          [
           22.944856411011376
          ],
          [
           26.803290099559685
          ],
          [
           -0.7414866445565597
          ],
          [
           -4.204107225205118
          ],
          [
           6.429943618060144
          ],
          [
           -12.482085000516838
          ],
          [
           -15.01472557980211
          ],
          [
           0
          ],
          [
           -1.218383599594185
          ],
          [
           -5.2295138361576985
          ],
          [
           0.27240101727762056
          ],
          [
           -10.100234275724173
          ],
          [
           20.665074857939818
          ],
          [
           -9.715144008906403
          ],
          [
           -18.764253302787594
          ],
          [
           -29.522433219374538
          ],
          [
           0.8684667194476952
          ],
          [
           8.41825419625973
          ],
          [
           30.503490996599336
          ],
          [
           -7.152580896086952
          ],
          [
           -7.344816269594348
          ],
          [
           4.146763731364376
          ],
          [
           -8.761793825905164
          ],
          [
           10.429976557908205
          ],
          [
           83.90760946934388
          ],
          [
           12.588639119473925
          ],
          [
           42.86049451229223
          ],
          [
           -28.525399352396757
          ],
          [
           null
          ],
          [
           -20.02494896170677
          ],
          [
           -9.947350875501058
          ],
          [
           -16.603746814699264
          ],
          [
           -10.57182994932666
          ],
          [
           2.802719874463084
          ],
          [
           -4.292648939581997
          ],
          [
           7.501156298918602
          ],
          [
           60.85436877522735
          ],
          [
           -2.342598629714127
          ],
          [
           26.42868373025946
          ],
          [
           11.917168248737733
          ],
          [
           8.623514329586344
          ],
          [
           -35.78717342699808
          ],
          [
           -14.956509034237566
          ],
          [
           1.2225335571542388
          ],
          [
           11.630052641576084
          ],
          [
           -12.389677345763971
          ],
          [
           -12.779154201044607
          ],
          [
           -7.761318449431077
          ],
          [
           0.28117303248632647
          ],
          [
           4.0304186464964005
          ],
          [
           9.564264757414334
          ],
          [
           -0.41450615842469407
          ],
          [
           16.070750334741266
          ],
          [
           -21.62611761193518
          ],
          [
           -7.457549038773194
          ],
          [
           5.448351285680342
          ],
          [
           -10.716849516931902
          ],
          [
           0
          ],
          [
           23.340594964923525
          ],
          [
           11.753919557456333
          ],
          [
           -10.513342203940777
          ],
          [
           13.207376111913174
          ],
          [
           -13.537344069510441
          ],
          [
           27.2847168242601
          ],
          [
           10.733459204834869
          ],
          [
           13.637604960413018
          ],
          [
           -22.555662622358412
          ],
          [
           21.60767394827932
          ],
          [
           -5.816460111840592
          ],
          [
           -5.910463213625283
          ],
          [
           10.283495642615339
          ],
          [
           10.736956725101383
          ],
          [
           9.37677339319949
          ],
          [
           -16.97809614337466
          ],
          [
           -46.43850295718763
          ],
          [
           15.317456776052746
          ],
          [
           -26.513366815249924
          ],
          [
           1.0564346657187296
          ],
          [
           -11.241304967348345
          ],
          [
           18.642754989517837
          ],
          [
           5.262241605147116
          ],
          [
           4.503656981264205
          ],
          [
           11.010590534599718
          ],
          [
           20.35632002065971
          ],
          [
           6.989652678434482
          ],
          [
           -4.137594097148827
          ],
          [
           -3.6184046651916457
          ],
          [
           4.245625626858628
          ],
          [
           -15.730552485889271
          ],
          [
           17.60687531308078
          ],
          [
           6.717576318927924
          ],
          [
           -19.687533474832936
          ],
          [
           -33.1788221633883
          ],
          [
           -25.85672431384251
          ],
          [
           67.94940314742999
          ],
          [
           16.985910307353404
          ],
          [
           23.689253047483195
          ],
          [
           -27.609525945448492
          ],
          [
           -26.274633180040315
          ],
          [
           -11.382258644344194
          ],
          [
           12.919389104342752
          ],
          [
           -9.612119079550718
          ],
          [
           4.935377402808334
          ],
          [
           -7.364931872296483
          ],
          [
           -4.439848608369144
          ],
          [
           -22.522673834901482
          ],
          [
           152.24188460940363
          ],
          [
           16.17608031495894
          ],
          [
           24.938065104366423
          ],
          [
           9.670577967275847
          ],
          [
           null
          ],
          [
           -16.958010998674077
          ],
          [
           -1.6476173411734907
          ],
          [
           -9.859749551453394
          ],
          [
           0.781491842609689
          ],
          [
           -10.423565371436501
          ],
          [
           -6.167984310159268
          ],
          [
           -4.76292080095842
          ],
          [
           9.926596144370551
          ],
          [
           -15.551088058658022
          ],
          [
           -5.338741008826322
          ],
          [
           28.649897140436952
          ],
          [
           -1.12915838923939
          ],
          [
           -35.78717342699808
          ],
          [
           -14.971928115716167
          ],
          [
           -14.060691919262528
          ],
          [
           11.630052641576084
          ],
          [
           -12.389677345763971
          ],
          [
           -12.779154201044607
          ],
          [
           -8.795375555485137
          ],
          [
           -1.26246537080628
          ],
          [
           -13.097675979767764
          ],
          [
           -7.554487292221486
          ],
          [
           0.34249705936990266
          ],
          [
           6.849952327404683
          ],
          [
           -2.4150756135802434
          ],
          [
           -10.506478072728912
          ],
          [
           9.691975546826976
          ],
          [
           2.6920606262989364
          ],
          [
           -29.880936742968284
          ],
          [
           -16.476777858008823
          ],
          [
           -9.468893432082604
          ],
          [
           -3.4037669897578233
          ],
          [
           29.226274025866296
          ],
          [
           -2.140152349555093
          ],
          [
           -3.45855374775162
          ],
          [
           8.7144058129337
          ],
          [
           21.876756442104064
          ],
          [
           -7.794650746278347
          ],
          [
           -5.699443779727054
          ],
          [
           0.9672966490132223
          ],
          [
           -5.589521178123229
          ],
          [
           6.319284058165678
          ],
          [
           -20.38751129507614
          ],
          [
           -9.741835042366773
          ],
          [
           -4.700216444729059
          ],
          [
           -4.213113225345555
          ],
          [
           1.0881030844251256
          ],
          [
           9.615503522072796
          ],
          [
           9.538725776404775
          ],
          [
           -14.048772844744631
          ],
          [
           20.889882828816383
          ],
          [
           5.3527012313565105
          ],
          [
           4.118288264845367
          ],
          [
           6.242779073835043
          ],
          [
           16.660519361605523
          ],
          [
           -0.9943406167713412
          ],
          [
           11.326543047169002
          ],
          [
           11.095012547443552
          ],
          [
           -11.807399550749063
          ],
          [
           -16.542898409094914
          ],
          [
           64.78483982127159
          ],
          [
           -17.465684239687114
          ],
          [
           -14.640934604261021
          ],
          [
           -32.457266543225046
          ],
          [
           -14.495697525984678
          ],
          [
           50.75257557119974
          ],
          [
           -0.10876108968972541
          ],
          [
           9.406998403496639
          ],
          [
           -16.864419928283322
          ],
          [
           0.00296460535596889
          ],
          [
           -3.3069470364248232
          ],
          [
           19.10780706961706
          ],
          [
           -15.358146546883239
          ],
          [
           -3.7009850173615013
          ],
          [
           -1.6597113274694801
          ],
          [
           -5.083972851987958
          ],
          [
           -22.689140857193607
          ],
          [
           96.69886870600567
          ],
          [
           21.605187524762602
          ],
          [
           -7.496712610632585
          ],
          [
           -24.27035726332405
          ],
          [
           null
          ],
          [
           -17.225135000625883
          ],
          [
           5.848340032490499
          ],
          [
           -6.784228160774197
          ],
          [
           -0.6678203707399225
          ],
          [
           -11.112336460214472
          ],
          [
           -1.4050090818723935
          ],
          [
           7.7293559431798675
          ],
          [
           3.0842858669072064
          ],
          [
           -5.070841233757525
          ],
          [
           1.9467625867162275
          ],
          [
           7.282603089388837
          ],
          [
           -8.079115908604996
          ]
         ],
         "hovertemplate": "Nb pts par cluster=%{x}<br>init_type=%{y}<br>algorithm=%{z}<br>prct_amelioration_end_cost=%{customdata[0]}<br>color=%{marker.color}<extra></extra>",
         "legendgroup": "",
         "marker": {
          "color": [
           0,
           0,
           0,
           0,
           0,
           0,
           0,
           0,
           0,
           0,
           0,
           0,
           0,
           0,
           0,
           0,
           0,
           0,
           0,
           0,
           0,
           0,
           0,
           0,
           0,
           0,
           0,
           0,
           0,
           0,
           0,
           0,
           0,
           0,
           0,
           0,
           0,
           0,
           0,
           0,
           0,
           0,
           0,
           0,
           0,
           0,
           0,
           0,
           0,
           0,
           0,
           0,
           0,
           0,
           0,
           0,
           0,
           0,
           0,
           0,
           0,
           0,
           0,
           0,
           0,
           0,
           0,
           0,
           0,
           null,
           0,
           0,
           0,
           0,
           0,
           0,
           0,
           0,
           0,
           0,
           0,
           0,
           -4.553727397928019,
           -4.175277733281901,
           3.113892976288686,
           4.060948198640805,
           -4.093059996547261,
           -4.10650211063187,
           -3.8899355030462277,
           -3.970129188236358,
           3.6053501593967336,
           3.9866752469485376,
           -2.800362690791035,
           4.522690673507802,
           -3.9139802159252075,
           -4.094707636541383,
           3.736265101201754,
           -4.029111699527492,
           0,
           0,
           4.070182714124478,
           -4.021740800708311,
           4.124172662053547,
           -4.129077239211259,
           4.434813302947479,
           3.7097427505094283,
           4.134738106111726,
           -4.345744946780267,
           4.33460801788749,
           -3.7508037491416957,
           -3.790142195003007,
           4.44203583019539,
           -3.4920227373309296,
           -3.811878060534367,
           -4.284031701761128,
           -4.675212661676779,
           4.029286191715303,
           -4.430002952342891,
           3.887661208434951,
           -4.088478832689347,
           4.36532375531299,
           -2.9662775401386248,
           -3.923651822427612,
           4.180582672384323,
           4.662215325270512,
           -3.41255972808033,
           4.080356788114525,
           -3.334109311176728,
           -3.9630741665146374,
           -3.550009555787206,
           4.2456822886932395,
           -4.565132797191485,
           -4.2944949500857375,
           -2.969139435038008,
           -4.361512833422317,
           4.774428160568833,
           -4.188118408078058,
           -4.412558894664393,
           -4.38891700941064,
           -4.01757252622095,
           -2.0883001260014193,
           3.8958101045947418,
           -4.300184357013169,
           -2.8492822607418997,
           3.52684922103603,
           -4.021784125883661,
           -4.018116201047747,
           4.876784913431635,
           4.912175008183864,
           3.8492163910494632,
           -3.7213319750723732,
           null,
           -4.250056027969279,
           4.006293788554512,
           4.014886453217885,
           -4.182983437207913,
           -3.847097161796672,
           -3.8127188863020445,
           -2.4891098590221463,
           4.017776896676802,
           -3.912149931836733,
           -3.750386189555347,
           -3.4721222412738593,
           -4.145448219383326,
           -4.553727397928019,
           -4.175277733281901,
           3.087340132707229,
           4.065581680497518,
           -4.093059996547261,
           -4.10650211063187,
           3.66639562115499,
           -2.7789349591379557,
           -4.344458216261259,
           -3.4770360797372657,
           2.5346568470549933,
           -3.657947987468879,
           3.7509194367622856,
           -3.8877914338555932,
           4.134873783731102,
           -2.7161150093574156,
           -4.475695697120204,
           -4.188103562821278,
           4.305949770502705,
           -3.492701101767647,
           4.338013092174604,
           -2.4076948162590446,
           4.310379953624022,
           3.990136802631719,
           4.435188097627007,
           2.6980445253836915,
           4.050804478682505,
           3.7196245835005257,
           -3.9674867805012206,
           3.965387874324743,
           3.0424883479156923,
           -3.5073385846023477,
           -4.2958947376888315,
           -4.182491229285745,
           3.0366700413881524,
           4.859820499023321,
           -4.160232946304396,
           -4.532833413760303,
           3.4846127799318185,
           3.454728345485493,
           -4.3035165552277,
           4.2642962550884835,
           4.329795952695509,
           3.5591976774879086,
           3.2853755579734267,
           3.3771017754774464,
           -3.9080622779934417,
           -3.399772470048867,
           4.0900062801399955,
           -4.606382672022665,
           4.424715801147276,
           -3.7370631616647434,
           -4.20048185497502,
           4.72535430643585,
           -4.1170876988208995,
           -4.05880780427926,
           -4.400779688652101,
           -4.117510951756699,
           3.683405546676784,
           4.0633341932660825,
           2.431967582438359,
           -3.6716178439809677,
           2.7724576308789777,
           -3.916088387758183,
           -4.343163687644731,
           5.314283067369891,
           4.668123442307134,
           3.9990333912459843,
           -4.0294181964619735,
           null,
           -4.339182991238975,
           3.8518927960410316,
           -3.8093993414716123,
           -4.039842890836564,
           -3.7273693604207714,
           2.7787017014446156,
           3.5454602723756787,
           -3.6803278626382623,
           3.9780417337467564,
           2.5625739479881444,
           3.703617060389723,
           -4.1575391398052695,
           -4.553727397928019,
           -4.175277733281901,
           3.113822667946105,
           4.060948198640805,
           0,
           3.391163774082523,
           -3.9028013153682117,
           -3.962855457184148,
           3.6053501593967336,
           -1.2873957738316653,
           -2.9728060940073973,
           4.20604052166834,
           -3.8737339553450876,
           -4.073663316569781,
           3.736265101201754,
           -3.4159191727348333,
           0,
           4.397518504064193,
           4.08021818446107,
           -3.7249787055030588,
           -4.215826681193439,
           -3.383289168277644,
           4.435145967084795,
           4.210338526783276,
           4.101311974187097,
           -4.3479726314201335,
           4.347193809892702,
           3.75042801046549,
           -4.422844081598159,
           3.6668843951433985,
           -3.8991990660311595,
           -3.4180376049247165,
           -4.258024862930126,
           -4.070725806683862,
           -4.693841063276599,
           4.2569423573435525,
           3.8872362178717825,
           -4.181691353083686,
           4.213120992013556,
           -4.038271610780773,
           2.6413473256786135,
           3.802190856093457,
           4.517276996330943,
           3.7637632673840518,
           4.122151044135352,
           3.9141885013900843,
           -3.9407461654864573,
           -4.04855759537445,
           3.633211404795337,
           4.379412870948927,
           4.615667493658035,
           -4.063432689480358,
           -4.634725758836037,
           4.4328587809601885,
           -4.129236437960331,
           -4.045495593390229,
           -4.283492272662308,
           -3.974784514027451,
           4.0488276871166775,
           3.868353011086866,
           -3.9725088411580574,
           null,
           3.882731185353711,
           -4.054327873800335,
           2.5695848744441725,
           4.799602019142245,
           4.51125980692488,
           -3.5394077096924352,
           -3.7910974349537563,
           null,
           -4.1079731717481245,
           null,
           3.541884425194684,
           -4.03076249772106,
           3.5023813927801393,
           null,
           -2.7088459991640836,
           -3.8915730193807527,
           3.8405902810969703,
           null,
           4.19962881677382,
           null,
           -4.553727397928019,
           -4.175277733281901,
           3.0872607888483343,
           4.065581680497518,
           -4.093059996547261,
           -4.214193781550395,
           3.6066305760781887,
           -3.843072476777489,
           3.6053501593967336,
           3.980394902627335,
           3.851688608750756,
           -3.657400230649987,
           -1.964340231328644,
           -3.522642437526549,
           4.047403971928387,
           -3.9183572035297107,
           -4.475695697120204,
           4.362897231024291,
           4.338312054068441,
           -3.846875032769971,
           4.2078480279207255,
           -4.045697166267312,
           4.432918499076949,
           4.031704631259059,
           4.57586754773641,
           -3.9937868822003213,
           4.400399295479057,
           -3.8398615873282007,
           -3.346559235094681,
           3.978350725062377,
           4.132979322935472,
           -3.4191507174195452,
           -4.3178226587886535,
           -3.581539455824437,
           4.490641804115362,
           4.33869831143208,
           -4.0553312569968245,
           -4.18632001038316,
           4.391857921423615,
           3.847615479164983,
           -4.332459389392259,
           3.983662586499575,
           4.752052004496955,
           2.953395582465268,
           2.1395520494012126,
           2.892467177089931,
           -3.768142267992894,
           -3.9990684183270924,
           4.0900062801399955,
           -4.012345093362639,
           4.445602673703047,
           -4.204239755031096,
           -4.152906365972388,
           4.276916769161572,
           -3.9953976307957695,
           -3.8720850772494435,
           -4.136828202713861,
           -3.9862885621016373,
           3.90396568870184,
           3.844247701327505,
           -3.762118806444656,
           null,
           4.128757007959001,
           null,
           -4.071682378453332,
           4.913545375855555,
           4.608047332598631,
           3.4668864606071286,
           -4.106554407581582,
           null,
           -4.162869120197634,
           -3.7430886122918654,
           -3.624260691945869,
           null,
           -4.061620979069052,
           null,
           -2.6193501427260952,
           null,
           4.176531527151775,
           -3.846084406015679,
           3.814944048478699,
           null,
           4.021312711488018,
           -4.135067798814264,
           -4.464268008456297,
           -2.343401016994561,
           -4.409090074564383,
           -3.4135213030361555,
           -4.243077405957877,
           -3.872559532334805,
           -3.978615276840186,
           -3.701639225318584,
           -3.6679922562859697,
           3.8909571571173025,
           -3.87861689132862,
           -3.8646048721148016,
           -3.528705076231269,
           -3.540036819475131,
           -3.796394113327213,
           3.409276003588691,
           -3.580358934516382,
           -3.5171698383073764,
           4.638441535593217,
           4.596846813738839,
           -3.4192959686821554,
           4.149726659823534,
           3.715309910340205,
           -4.273781867464589,
           4.183513550983282,
           -2.875883033281004,
           -4.134224753621268,
           3.549725339402645,
           3.615772287412908,
           -2.61900273197419,
           4.393472219034043,
           -4.193474698897745,
           4.134151810886995,
           4.12219196829691,
           -4.347211118881536,
           -4.361618126542926,
           4.580545720756057,
           3.1051353601525173,
           3.4816775416166394,
           4.028269620528051,
           4.384012470908325,
           3.3280344694651247,
           -3.458117708153906,
           3.7817083494625567,
           -3.8477548201013447,
           -4.077555906440851,
           4.630715224344325,
           -4.417147455429447,
           4.2450296171048,
           -4.221330505832396,
           -4.519285090166624,
           4.339429184812322,
           3.6841118506815342,
           -3.9757561842712494,
           -4.130652081436219,
           null,
           2.698330949309084,
           3.864065736153531,
           -4.013881092282923,
           -3.963481343494013,
           3.897873237903752,
           -4.0278847027343705,
           -3.801804735446659,
           4.7482777398191995,
           4.424477207670807,
           -3.3112560153783788,
           -4.324737340339401,
           null,
           -4.206195875228157,
           null,
           3.581052210436342,
           -4.006076065763065,
           -3.1019515728037237,
           -3.8536132075155076,
           3.947652531287648,
           null,
           -3.1047263684985933,
           null,
           4.266530494355878,
           null,
           -4.553727397928019,
           -3.8451143562310004,
           2.1266222917921653,
           3.627422541061456,
           0,
           0,
           -3.9028013153682117,
           3.4103868036116185,
           0,
           -2.091993692333421,
           -4.026112551950897,
           3.8680202866588953,
           -3.8665105957829375,
           -1.617592507184238,
           3.774640365202405,
           -4.038500652746004,
           0,
           4.368108272062507,
           -3.193205800077525,
           -3.3949105623573987,
           -2.8393280508711487,
           -0.35396222271659417,
           3.3662165941219366,
           -3.2369573409583756,
           0,
           -3.7534941777405746,
           -0.0009999999999998899,
           3.557126977705885,
           -2.8963555311504057,
           -2.721596909142502,
           -2.2248159023733503,
           -3.675983053948823,
           1.6532695373172799,
           -3.767934276092088,
           2.869869228456017,
           3.854835754174928,
           -3.81824175723784,
           -3.839710940765897,
           4.646631377000393,
           -3.9874625211744856,
           3.1017776799162324,
           4.360685344222853,
           4.428188106878908,
           -2.8701033330479815,
           -3.623673784121441,
           3.8082071647636133,
           -4.096287135713998,
           -4.1765173991212965,
           0,
           -3.0857840444204974,
           -3.718461316383912,
           2.4352087251101757,
           -4.004331447393955,
           4.315236982825145,
           -3.9874492425899297,
           -4.273331286951543,
           -4.470152148889445,
           2.9387531804835723,
           3.92522203549684,
           4.484349545372993,
           -3.854462778399774,
           -3.865980936395937,
           3.6177092914315767,
           -3.942593029562862,
           4.018283332320821,
           4.923801348202836,
           4.099978783733932,
           4.632057177501909,
           -4.4552317332069284,
           null,
           -4.3015714178560325,
           -3.9977074371944044,
           -4.2202061023373325,
           -4.024150168774558,
           3.4475796931743456,
           -3.6327253725613033,
           3.8751282147960806,
           4.784291761972277,
           -3.369697884912586,
           4.422075533811992,
           4.076173070836296,
           3.9356842893639863,
           -4.553727397928019,
           -4.174830237640141,
           3.0872607888483343,
           4.065581680497518,
           -4.093059996547261,
           -4.10650211063187,
           -3.8899355030462277,
           2.4489736648399387,
           3.6053501593967336,
           3.980651589724436,
           -2.6175309873591353,
           4.206036154213894,
           -4.334978560537055,
           -3.872596117843497,
           3.736265101201754,
           -4.030067132511069,
           0,
           4.368111922261619,
           4.070182714124478,
           -4.021740800708311,
           4.120816545600519,
           -4.131533467222209,
           4.435919450796481,
           4.030739709986543,
           4.134738106111726,
           -4.353255589979808,
           4.33460801788749,
           -3.7646587541318732,
           -3.7716215186542037,
           4.012140768379185,
           4.030881202705685,
           3.972053420618005,
           -4.229888988570834,
           -4.666878210896164,
           4.18518666348101,
           -4.4234648803714265,
           3.0238426436550534,
           -4.050816730025003,
           4.270510091941485,
           3.7211707839574726,
           3.6535653052853068,
           4.041810612254254,
           4.308699269776131,
           3.844455595833383,
           -3.6167478836194995,
           -3.5585171346719995,
           3.627941696057569,
           -4.196743976110852,
           4.2456822886932395,
           3.8272126091879723,
           -4.294191309567853,
           -4.520860964659395,
           -4.412573504978582,
           4.832185646338328,
           4.230088826499934,
           4.374551367076899,
           -4.441058949882896,
           -4.41953666156055,
           -4.056228450059445,
           4.111241978451213,
           -3.982819142413952,
           3.693320368290393,
           -3.8671687338504013,
           -3.647368161630198,
           -4.352619947583006,
           5.182534151463925,
           4.208873294543717,
           4.396862754391319,
           3.9854524307011667,
           null,
           -4.229374912604861,
           -3.216856354258114,
           -3.9938658835210084,
           2.8929244491138895,
           -4.018016294423444,
           -3.79014326030556,
           -3.6778733600140683,
           3.9968003533150798,
           -4.191760780587282,
           -3.7274388530238944,
           4.457123067091512,
           -3.0527548655281134,
           -4.553727397928019,
           -4.175277733281901,
           -4.148006692612957,
           4.065581680497518,
           -4.093059996547261,
           -4.10650211063187,
           -3.9442543882156107,
           -3.101219474336041,
           -4.1171942423197265,
           -3.8782049949867825,
           2.5346568470549933,
           3.835687549008173,
           -3.382930732622347,
           -4.021457158472069,
           3.986412309727591,
           3.430084836150233,
           -4.4753942081341656,
           -4.216872286529505,
           -3.9762992288005075,
           -3.531959822115823,
           4.465773451924336,
           -3.330444690272572,
           -3.5388945292327323,
           3.940237780320196,
           4.339982931751053,
           -3.891796660594498,
           -3.7558324740615774,
           2.9855596832581095,
           -3.7473746059891844,
           3.8006678777759464,
           -4.309364214655954,
           -3.9886407714278684,
           -3.6721178576350937,
           -3.6246031307342603,
           3.0366700413881524,
           3.9829720312819408,
           3.9794903636730203,
           -4.147638390431026,
           4.3199360040329084,
           3.728573003294817,
           3.6147167423427424,
           3.7953779659240707,
           4.221688535628014,
           -2.9975351798143928,
           4.054097379887644,
           4.045127797715608,
           -4.072154259585095,
           -4.218611602725511,
           4.811473389323387,
           -4.242185604328061,
           -4.165568800801467,
           -4.511311942009603,
           -4.161239118235173,
           4.705458086545394,
           -2.03647355018306,
           3.9734510703189008,
           -4.226971407708548,
           0.471966888886727,
           -3.519427239373141,
           4.2812108475880954,
           -4.1863388072950825,
           -3.5683173269512602,
           -3.2200325580466123,
           -3.706203222790054,
           -4.355818051281844,
           4.985421393239019,
           4.334558040173571,
           -3.874870862318869,
           -4.385076169259345,
           null,
           -4.23616263434147,
           3.767032615307737,
           -3.831500445277397,
           -2.8246596623449007,
           -4.0458053825317855,
           -3.147679131496841,
           3.8881433073754694,
           3.489154623810418,
           -3.705080013154375,
           3.2893129912909966,
           3.8622866410286214,
           -3.907363838865974
          ],
          "coloraxis": "coloraxis",
          "symbol": "circle"
         },
         "mode": "markers",
         "name": "",
         "scene": "scene",
         "showlegend": false,
         "type": "scatter3d",
         "x": [
          10,
          10,
          15,
          15,
          20,
          20,
          25,
          25,
          30,
          30,
          35,
          35,
          40,
          40,
          45,
          45,
          5,
          5,
          7.5,
          7.5,
          10,
          10,
          12.5,
          12.5,
          15,
          15,
          17.5,
          17.5,
          20,
          20,
          22.5,
          22.5,
          2.5,
          2.5,
          3.75,
          3.75,
          5,
          5,
          6.25,
          6.25,
          7.5,
          7.5,
          8.75,
          8.75,
          10,
          10,
          11.25,
          11.25,
          1.25,
          1.25,
          1.875,
          1.875,
          2.5,
          2.5,
          3.125,
          3.125,
          3.75,
          3.75,
          4.375,
          4.375,
          5,
          5,
          5.625,
          5.625,
          1.25,
          1.25,
          1.5625,
          1.5625,
          1.875,
          1.875,
          2.1875,
          2.1875,
          2.5,
          2.5,
          2.8125,
          2.8125,
          1.09375,
          1.09375,
          1.25,
          1.25,
          1.40625,
          1.40625,
          10,
          10,
          15,
          15,
          20,
          20,
          25,
          25,
          30,
          30,
          35,
          35,
          40,
          40,
          45,
          45,
          5,
          5,
          7.5,
          7.5,
          10,
          10,
          12.5,
          12.5,
          15,
          15,
          17.5,
          17.5,
          20,
          20,
          22.5,
          22.5,
          2.5,
          2.5,
          3.75,
          3.75,
          5,
          5,
          6.25,
          6.25,
          7.5,
          7.5,
          8.75,
          8.75,
          10,
          10,
          11.25,
          11.25,
          1.25,
          1.25,
          1.875,
          1.875,
          2.5,
          2.5,
          3.125,
          3.125,
          3.75,
          3.75,
          4.375,
          4.375,
          5,
          5,
          5.625,
          5.625,
          1.25,
          1.25,
          1.5625,
          1.5625,
          1.875,
          1.875,
          2.1875,
          2.1875,
          2.5,
          2.5,
          2.8125,
          2.8125,
          1.09375,
          1.09375,
          1.25,
          1.25,
          1.40625,
          1.40625,
          10,
          10,
          15,
          15,
          20,
          20,
          25,
          25,
          30,
          30,
          35,
          35,
          40,
          40,
          45,
          45,
          5,
          5,
          7.5,
          7.5,
          10,
          10,
          12.5,
          12.5,
          15,
          15,
          17.5,
          17.5,
          20,
          20,
          22.5,
          22.5,
          2.5,
          2.5,
          3.75,
          3.75,
          5,
          5,
          6.25,
          6.25,
          7.5,
          7.5,
          8.75,
          8.75,
          10,
          10,
          11.25,
          11.25,
          1.25,
          1.25,
          1.875,
          1.875,
          2.5,
          2.5,
          3.125,
          3.125,
          3.75,
          3.75,
          4.375,
          4.375,
          5,
          5,
          5.625,
          5.625,
          1.25,
          1.25,
          1.5625,
          1.5625,
          1.875,
          1.875,
          2.1875,
          2.1875,
          2.5,
          2.5,
          2.8125,
          2.8125,
          1.09375,
          1.09375,
          1.25,
          1.25,
          1.40625,
          1.40625,
          10,
          10,
          15,
          15,
          20,
          20,
          25,
          25,
          30,
          30,
          35,
          35,
          40,
          40,
          45,
          45,
          5,
          5,
          7.5,
          7.5,
          10,
          10,
          12.5,
          12.5,
          15,
          15,
          17.5,
          17.5,
          20,
          20,
          22.5,
          22.5,
          2.5,
          2.5,
          3.75,
          3.75,
          5,
          5,
          6.25,
          6.25,
          7.5,
          7.5,
          8.75,
          8.75,
          10,
          10,
          11.25,
          11.25,
          1.25,
          1.25,
          1.875,
          1.875,
          2.5,
          2.5,
          3.125,
          3.125,
          3.75,
          3.75,
          4.375,
          4.375,
          5,
          5,
          5.625,
          5.625,
          1.25,
          1.25,
          1.5625,
          1.5625,
          1.875,
          1.875,
          2.1875,
          2.1875,
          2.5,
          2.5,
          2.8125,
          2.8125,
          1.09375,
          1.09375,
          1.25,
          1.25,
          1.40625,
          1.40625,
          10,
          10,
          15,
          15,
          20,
          20,
          25,
          25,
          30,
          30,
          35,
          35,
          40,
          40,
          45,
          45,
          5,
          5,
          7.5,
          7.5,
          10,
          10,
          12.5,
          12.5,
          15,
          15,
          17.5,
          17.5,
          20,
          20,
          22.5,
          22.5,
          2.5,
          2.5,
          3.75,
          3.75,
          5,
          5,
          6.25,
          6.25,
          7.5,
          7.5,
          8.75,
          8.75,
          10,
          10,
          11.25,
          11.25,
          1.25,
          1.25,
          1.875,
          1.875,
          2.5,
          2.5,
          3.125,
          3.125,
          3.75,
          3.75,
          4.375,
          4.375,
          5,
          5,
          5.625,
          5.625,
          1.25,
          1.25,
          1.5625,
          1.5625,
          1.875,
          1.875,
          2.1875,
          2.1875,
          2.5,
          2.5,
          2.8125,
          2.8125,
          1.09375,
          1.09375,
          1.25,
          1.25,
          1.40625,
          1.40625,
          10,
          10,
          15,
          15,
          20,
          20,
          25,
          25,
          30,
          30,
          35,
          35,
          40,
          40,
          45,
          45,
          5,
          5,
          7.5,
          7.5,
          10,
          10,
          12.5,
          12.5,
          15,
          15,
          17.5,
          17.5,
          20,
          20,
          22.5,
          22.5,
          2.5,
          2.5,
          3.75,
          3.75,
          5,
          5,
          6.25,
          6.25,
          7.5,
          7.5,
          8.75,
          8.75,
          10,
          10,
          11.25,
          11.25,
          1.25,
          1.25,
          1.875,
          1.875,
          2.5,
          2.5,
          3.125,
          3.125,
          3.75,
          3.75,
          4.375,
          4.375,
          5,
          5,
          5.625,
          5.625,
          1.25,
          1.25,
          1.5625,
          1.5625,
          1.875,
          1.875,
          2.1875,
          2.1875,
          2.5,
          2.5,
          2.8125,
          2.8125,
          1.09375,
          1.09375,
          1.25,
          1.25,
          1.40625,
          1.40625,
          10,
          10,
          15,
          15,
          20,
          20,
          25,
          25,
          30,
          30,
          35,
          35,
          40,
          40,
          45,
          45,
          5,
          5,
          7.5,
          7.5,
          10,
          10,
          12.5,
          12.5,
          15,
          15,
          17.5,
          17.5,
          20,
          20,
          22.5,
          22.5,
          2.5,
          2.5,
          3.75,
          3.75,
          5,
          5,
          6.25,
          6.25,
          7.5,
          7.5,
          8.75,
          8.75,
          10,
          10,
          11.25,
          11.25,
          1.25,
          1.25,
          1.875,
          1.875,
          2.5,
          2.5,
          3.125,
          3.125,
          3.75,
          3.75,
          4.375,
          4.375,
          5,
          5,
          5.625,
          5.625,
          1.25,
          1.25,
          1.5625,
          1.5625,
          1.875,
          1.875,
          2.1875,
          2.1875,
          2.5,
          2.5,
          2.8125,
          2.8125,
          1.09375,
          1.09375,
          1.25,
          1.25,
          1.40625,
          1.40625,
          10,
          10,
          15,
          15,
          20,
          20,
          25,
          25,
          30,
          30,
          35,
          35,
          40,
          40,
          45,
          45,
          5,
          5,
          7.5,
          7.5,
          10,
          10,
          12.5,
          12.5,
          15,
          15,
          17.5,
          17.5,
          20,
          20,
          22.5,
          22.5,
          2.5,
          2.5,
          3.75,
          3.75,
          5,
          5,
          6.25,
          6.25,
          7.5,
          7.5,
          8.75,
          8.75,
          10,
          10,
          11.25,
          11.25,
          1.25,
          1.25,
          1.875,
          1.875,
          2.5,
          2.5,
          3.125,
          3.125,
          3.75,
          3.75,
          4.375,
          4.375,
          5,
          5,
          5.625,
          5.625,
          1.25,
          1.25,
          1.5625,
          1.5625,
          1.875,
          1.875,
          2.1875,
          2.1875,
          2.5,
          2.5,
          2.8125,
          2.8125,
          1.09375,
          1.09375,
          1.25,
          1.25,
          1.40625,
          1.40625,
          10,
          10,
          15,
          15,
          20,
          20,
          25,
          25,
          30,
          30,
          35,
          35,
          40,
          40,
          45,
          45,
          5,
          5,
          7.5,
          7.5,
          10,
          10,
          12.5,
          12.5,
          15,
          15,
          17.5,
          17.5,
          20,
          20,
          22.5,
          22.5,
          2.5,
          2.5,
          3.75,
          3.75,
          5,
          5,
          6.25,
          6.25,
          7.5,
          7.5,
          8.75,
          8.75,
          10,
          10,
          11.25,
          11.25,
          1.25,
          1.25,
          1.875,
          1.875,
          2.5,
          2.5,
          3.125,
          3.125,
          3.75,
          3.75,
          4.375,
          4.375,
          5,
          5,
          5.625,
          5.625,
          1.25,
          1.25,
          1.5625,
          1.5625,
          1.875,
          1.875,
          2.1875,
          2.1875,
          2.5,
          2.5,
          2.8125,
          2.8125,
          1.09375,
          1.09375,
          1.25,
          1.25,
          1.40625,
          1.40625
         ],
         "y": [
          "kmeans+",
          "random",
          "kmeans+",
          "random",
          "kmeans+",
          "random",
          "kmeans+",
          "random",
          "kmeans+",
          "random",
          "kmeans+",
          "random",
          "kmeans+",
          "random",
          "kmeans+",
          "random",
          "kmeans+",
          "random",
          "kmeans+",
          "random",
          "kmeans+",
          "random",
          "kmeans+",
          "random",
          "kmeans+",
          "random",
          "kmeans+",
          "random",
          "kmeans+",
          "random",
          "kmeans+",
          "random",
          "kmeans+",
          "random",
          "kmeans+",
          "random",
          "kmeans+",
          "random",
          "kmeans+",
          "random",
          "kmeans+",
          "random",
          "kmeans+",
          "random",
          "kmeans+",
          "random",
          "kmeans+",
          "random",
          "kmeans+",
          "random",
          "kmeans+",
          "random",
          "kmeans+",
          "random",
          "kmeans+",
          "random",
          "kmeans+",
          "random",
          "kmeans+",
          "random",
          "kmeans+",
          "random",
          "kmeans+",
          "random",
          "kmeans+",
          "random",
          "kmeans+",
          "random",
          "kmeans+",
          "random",
          "kmeans+",
          "random",
          "kmeans+",
          "random",
          "kmeans+",
          "random",
          "kmeans+",
          "random",
          "kmeans+",
          "random",
          "kmeans+",
          "random",
          "kmeans+",
          "random",
          "kmeans+",
          "random",
          "kmeans+",
          "random",
          "kmeans+",
          "random",
          "kmeans+",
          "random",
          "kmeans+",
          "random",
          "kmeans+",
          "random",
          "kmeans+",
          "random",
          "kmeans+",
          "random",
          "kmeans+",
          "random",
          "kmeans+",
          "random",
          "kmeans+",
          "random",
          "kmeans+",
          "random",
          "kmeans+",
          "random",
          "kmeans+",
          "random",
          "kmeans+",
          "random",
          "kmeans+",
          "random",
          "kmeans+",
          "random",
          "kmeans+",
          "random",
          "kmeans+",
          "random",
          "kmeans+",
          "random",
          "kmeans+",
          "random",
          "kmeans+",
          "random",
          "kmeans+",
          "random",
          "kmeans+",
          "random",
          "kmeans+",
          "random",
          "kmeans+",
          "random",
          "kmeans+",
          "random",
          "kmeans+",
          "random",
          "kmeans+",
          "random",
          "kmeans+",
          "random",
          "kmeans+",
          "random",
          "kmeans+",
          "random",
          "kmeans+",
          "random",
          "kmeans+",
          "random",
          "kmeans+",
          "random",
          "kmeans+",
          "random",
          "kmeans+",
          "random",
          "kmeans+",
          "random",
          "kmeans+",
          "random",
          "kmeans+",
          "random",
          "kmeans+",
          "random",
          "kmeans+",
          "random",
          "kmeans+",
          "random",
          "kmeans+",
          "random",
          "kmeans+",
          "random",
          "kmeans+",
          "random",
          "kmeans+",
          "random",
          "kmeans+",
          "random",
          "kmeans+",
          "random",
          "kmeans+",
          "random",
          "kmeans+",
          "random",
          "kmeans+",
          "random",
          "kmeans+",
          "random",
          "kmeans+",
          "random",
          "kmeans+",
          "random",
          "kmeans+",
          "random",
          "kmeans+",
          "random",
          "kmeans+",
          "random",
          "kmeans+",
          "random",
          "kmeans+",
          "random",
          "kmeans+",
          "random",
          "kmeans+",
          "random",
          "kmeans+",
          "random",
          "kmeans+",
          "random",
          "kmeans+",
          "random",
          "kmeans+",
          "random",
          "kmeans+",
          "random",
          "kmeans+",
          "random",
          "kmeans+",
          "random",
          "kmeans+",
          "random",
          "kmeans+",
          "random",
          "kmeans+",
          "random",
          "kmeans+",
          "random",
          "kmeans+",
          "random",
          "kmeans+",
          "random",
          "kmeans+",
          "random",
          "kmeans+",
          "random",
          "kmeans+",
          "random",
          "kmeans+",
          "random",
          "kmeans+",
          "random",
          "kmeans+",
          "random",
          "kmeans+",
          "random",
          "kmeans+",
          "random",
          "kmeans+",
          "random",
          "kmeans+",
          "random",
          "kmeans+",
          "random",
          "kmeans+",
          "random",
          "kmeans+",
          "random",
          "kmeans+",
          "random",
          "kmeans+",
          "random",
          "kmeans+",
          "random",
          "kmeans+",
          "random",
          "kmeans+",
          "random",
          "kmeans+",
          "random",
          "kmeans+",
          "random",
          "kmeans+",
          "random",
          "kmeans+",
          "random",
          "kmeans+",
          "random",
          "kmeans+",
          "random",
          "kmeans+",
          "random",
          "kmeans+",
          "random",
          "kmeans+",
          "random",
          "kmeans+",
          "random",
          "kmeans+",
          "random",
          "kmeans+",
          "random",
          "kmeans+",
          "random",
          "kmeans+",
          "random",
          "kmeans+",
          "random",
          "kmeans+",
          "random",
          "kmeans+",
          "random",
          "kmeans+",
          "random",
          "kmeans+",
          "random",
          "kmeans+",
          "random",
          "kmeans+",
          "random",
          "kmeans+",
          "random",
          "kmeans+",
          "random",
          "kmeans+",
          "random",
          "kmeans+",
          "random",
          "kmeans+",
          "random",
          "kmeans+",
          "random",
          "kmeans+",
          "random",
          "kmeans+",
          "random",
          "kmeans+",
          "random",
          "kmeans+",
          "random",
          "kmeans+",
          "random",
          "kmeans+",
          "random",
          "kmeans+",
          "random",
          "kmeans+",
          "random",
          "kmeans+",
          "random",
          "kmeans+",
          "random",
          "kmeans+",
          "random",
          "kmeans+",
          "random",
          "kmeans+",
          "random",
          "kmeans+",
          "random",
          "kmeans+",
          "random",
          "kmeans+",
          "random",
          "kmeans+",
          "random",
          "kmeans+",
          "random",
          "kmeans+",
          "random",
          "kmeans+",
          "random",
          "kmeans+",
          "random",
          "kmeans+",
          "random",
          "kmeans+",
          "random",
          "kmeans+",
          "random",
          "kmeans+",
          "random",
          "kmeans+",
          "random",
          "kmeans+",
          "random",
          "kmeans+",
          "random",
          "kmeans+",
          "random",
          "kmeans+",
          "random",
          "kmeans+",
          "random",
          "kmeans+",
          "random",
          "kmeans+",
          "random",
          "kmeans+",
          "random",
          "kmeans+",
          "random",
          "kmeans+",
          "random",
          "kmeans+",
          "random",
          "kmeans+",
          "random",
          "kmeans+",
          "random",
          "kmeans+",
          "random",
          "kmeans+",
          "random",
          "kmeans+",
          "random",
          "kmeans+",
          "random",
          "kmeans+",
          "random",
          "kmeans+",
          "random",
          "kmeans+",
          "random",
          "kmeans+",
          "random",
          "kmeans+",
          "random",
          "kmeans+",
          "random",
          "kmeans+",
          "random",
          "kmeans+",
          "random",
          "kmeans+",
          "random",
          "kmeans+",
          "random",
          "kmeans+",
          "random",
          "kmeans+",
          "random",
          "kmeans+",
          "random",
          "kmeans+",
          "random",
          "kmeans+",
          "random",
          "kmeans+",
          "random",
          "kmeans+",
          "random",
          "kmeans+",
          "random",
          "kmeans+",
          "random",
          "kmeans+",
          "random",
          "kmeans+",
          "random",
          "kmeans+",
          "random",
          "kmeans+",
          "random",
          "kmeans+",
          "random",
          "kmeans+",
          "random",
          "kmeans+",
          "random",
          "kmeans+",
          "random",
          "kmeans+",
          "random",
          "kmeans+",
          "random",
          "kmeans+",
          "random",
          "kmeans+",
          "random",
          "kmeans+",
          "random",
          "kmeans+",
          "random",
          "kmeans+",
          "random",
          "kmeans+",
          "random",
          "kmeans+",
          "random",
          "kmeans+",
          "random",
          "kmeans+",
          "random",
          "kmeans+",
          "random",
          "kmeans+",
          "random",
          "kmeans+",
          "random",
          "kmeans+",
          "random",
          "kmeans+",
          "random",
          "kmeans+",
          "random",
          "kmeans+",
          "random",
          "kmeans+",
          "random",
          "kmeans+",
          "random",
          "kmeans+",
          "random",
          "kmeans+",
          "random",
          "kmeans+",
          "random",
          "kmeans+",
          "random",
          "kmeans+",
          "random",
          "kmeans+",
          "random",
          "kmeans+",
          "random",
          "kmeans+",
          "random",
          "kmeans+",
          "random",
          "kmeans+",
          "random",
          "kmeans+",
          "random",
          "kmeans+",
          "random",
          "kmeans+",
          "random",
          "kmeans+",
          "random",
          "kmeans+",
          "random",
          "kmeans+",
          "random",
          "kmeans+",
          "random",
          "kmeans+",
          "random",
          "kmeans+",
          "random",
          "kmeans+",
          "random",
          "kmeans+",
          "random",
          "kmeans+",
          "random",
          "kmeans+",
          "random",
          "kmeans+",
          "random",
          "kmeans+",
          "random",
          "kmeans+",
          "random",
          "kmeans+",
          "random",
          "kmeans+",
          "random",
          "kmeans+",
          "random",
          "kmeans+",
          "random",
          "kmeans+",
          "random",
          "kmeans+",
          "random",
          "kmeans+",
          "random",
          "kmeans+",
          "random",
          "kmeans+",
          "random",
          "kmeans+",
          "random",
          "kmeans+",
          "random",
          "kmeans+",
          "random",
          "kmeans+",
          "random",
          "kmeans+",
          "random",
          "kmeans+",
          "random",
          "kmeans+",
          "random",
          "kmeans+",
          "random",
          "kmeans+",
          "random",
          "kmeans+",
          "random",
          "kmeans+",
          "random",
          "kmeans+",
          "random",
          "kmeans+",
          "random",
          "kmeans+",
          "random",
          "kmeans+",
          "random",
          "kmeans+",
          "random",
          "kmeans+",
          "random",
          "kmeans+",
          "random",
          "kmeans+",
          "random",
          "kmeans+",
          "random",
          "kmeans+",
          "random",
          "kmeans+",
          "random",
          "kmeans+",
          "random",
          "kmeans+",
          "random",
          "kmeans+",
          "random",
          "kmeans+",
          "random",
          "kmeans+",
          "random",
          "kmeans+",
          "random",
          "kmeans+",
          "random",
          "kmeans+",
          "random",
          "kmeans+",
          "random",
          "kmeans+",
          "random",
          "kmeans+",
          "random",
          "kmeans+",
          "random",
          "kmeans+",
          "random",
          "kmeans+",
          "random",
          "kmeans+",
          "random",
          "kmeans+",
          "random",
          "kmeans+",
          "random",
          "kmeans+",
          "random",
          "kmeans+",
          "random",
          "kmeans+",
          "random",
          "kmeans+",
          "random",
          "kmeans+",
          "random",
          "kmeans+",
          "random",
          "kmeans+",
          "random",
          "kmeans+",
          "random",
          "kmeans+",
          "random",
          "kmeans+",
          "random",
          "kmeans+",
          "random",
          "kmeans+",
          "random",
          "kmeans+",
          "random",
          "kmeans+",
          "random",
          "kmeans+",
          "random",
          "kmeans+",
          "random",
          "kmeans+",
          "random",
          "kmeans+",
          "random",
          "kmeans+",
          "random",
          "kmeans+",
          "random",
          "kmeans+",
          "random",
          "kmeans+",
          "random",
          "kmeans+",
          "random",
          "kmeans+",
          "random",
          "kmeans+",
          "random",
          "kmeans+",
          "random",
          "kmeans+",
          "random",
          "kmeans+",
          "random",
          "kmeans+",
          "random",
          "kmeans+",
          "random",
          "kmeans+",
          "random",
          "kmeans+",
          "random",
          "kmeans+",
          "random",
          "kmeans+",
          "random",
          "kmeans+",
          "random",
          "kmeans+",
          "random",
          "kmeans+",
          "random",
          "kmeans+",
          "random",
          "kmeans+",
          "random",
          "kmeans+",
          "random",
          "kmeans+",
          "random",
          "kmeans+",
          "random",
          "kmeans+",
          "random"
         ],
         "z": [
          "BI_BACK",
          "BI_BACK",
          "BI_BACK",
          "BI_BACK",
          "BI_BACK",
          "BI_BACK",
          "BI_BACK",
          "BI_BACK",
          "BI_BACK",
          "BI_BACK",
          "BI_BACK",
          "BI_BACK",
          "BI_BACK",
          "BI_BACK",
          "BI_BACK",
          "BI_BACK",
          "BI_BACK",
          "BI_BACK",
          "BI_BACK",
          "BI_BACK",
          "BI_BACK",
          "BI_BACK",
          "BI_BACK",
          "BI_BACK",
          "BI_BACK",
          "BI_BACK",
          "BI_BACK",
          "BI_BACK",
          "BI_BACK",
          "BI_BACK",
          "BI_BACK",
          "BI_BACK",
          "BI_BACK",
          "BI_BACK",
          "BI_BACK",
          "BI_BACK",
          "BI_BACK",
          "BI_BACK",
          "BI_BACK",
          "BI_BACK",
          "BI_BACK",
          "BI_BACK",
          "BI_BACK",
          "BI_BACK",
          "BI_BACK",
          "BI_BACK",
          "BI_BACK",
          "BI_BACK",
          "BI_BACK",
          "BI_BACK",
          "BI_BACK",
          "BI_BACK",
          "BI_BACK",
          "BI_BACK",
          "BI_BACK",
          "BI_BACK",
          "BI_BACK",
          "BI_BACK",
          "BI_BACK",
          "BI_BACK",
          "BI_BACK",
          "BI_BACK",
          "BI_BACK",
          "BI_BACK",
          "BI_BACK",
          "BI_BACK",
          "BI_BACK",
          "BI_BACK",
          "BI_BACK",
          "BI_BACK",
          "BI_BACK",
          "BI_BACK",
          "BI_BACK",
          "BI_BACK",
          "BI_BACK",
          "BI_BACK",
          "BI_BACK",
          "BI_BACK",
          "BI_BACK",
          "BI_BACK",
          "BI_BACK",
          "BI_BACK",
          "BI_CURR",
          "BI_CURR",
          "BI_CURR",
          "BI_CURR",
          "BI_CURR",
          "BI_CURR",
          "BI_CURR",
          "BI_CURR",
          "BI_CURR",
          "BI_CURR",
          "BI_CURR",
          "BI_CURR",
          "BI_CURR",
          "BI_CURR",
          "BI_CURR",
          "BI_CURR",
          "BI_CURR",
          "BI_CURR",
          "BI_CURR",
          "BI_CURR",
          "BI_CURR",
          "BI_CURR",
          "BI_CURR",
          "BI_CURR",
          "BI_CURR",
          "BI_CURR",
          "BI_CURR",
          "BI_CURR",
          "BI_CURR",
          "BI_CURR",
          "BI_CURR",
          "BI_CURR",
          "BI_CURR",
          "BI_CURR",
          "BI_CURR",
          "BI_CURR",
          "BI_CURR",
          "BI_CURR",
          "BI_CURR",
          "BI_CURR",
          "BI_CURR",
          "BI_CURR",
          "BI_CURR",
          "BI_CURR",
          "BI_CURR",
          "BI_CURR",
          "BI_CURR",
          "BI_CURR",
          "BI_CURR",
          "BI_CURR",
          "BI_CURR",
          "BI_CURR",
          "BI_CURR",
          "BI_CURR",
          "BI_CURR",
          "BI_CURR",
          "BI_CURR",
          "BI_CURR",
          "BI_CURR",
          "BI_CURR",
          "BI_CURR",
          "BI_CURR",
          "BI_CURR",
          "BI_CURR",
          "BI_CURR",
          "BI_CURR",
          "BI_CURR",
          "BI_CURR",
          "BI_CURR",
          "BI_CURR",
          "BI_CURR",
          "BI_CURR",
          "BI_CURR",
          "BI_CURR",
          "BI_CURR",
          "BI_CURR",
          "BI_CURR",
          "BI_CURR",
          "BI_CURR",
          "BI_CURR",
          "BI_CURR",
          "BI_CURR",
          "BI_RANDOM",
          "BI_RANDOM",
          "BI_RANDOM",
          "BI_RANDOM",
          "BI_RANDOM",
          "BI_RANDOM",
          "BI_RANDOM",
          "BI_RANDOM",
          "BI_RANDOM",
          "BI_RANDOM",
          "BI_RANDOM",
          "BI_RANDOM",
          "BI_RANDOM",
          "BI_RANDOM",
          "BI_RANDOM",
          "BI_RANDOM",
          "BI_RANDOM",
          "BI_RANDOM",
          "BI_RANDOM",
          "BI_RANDOM",
          "BI_RANDOM",
          "BI_RANDOM",
          "BI_RANDOM",
          "BI_RANDOM",
          "BI_RANDOM",
          "BI_RANDOM",
          "BI_RANDOM",
          "BI_RANDOM",
          "BI_RANDOM",
          "BI_RANDOM",
          "BI_RANDOM",
          "BI_RANDOM",
          "BI_RANDOM",
          "BI_RANDOM",
          "BI_RANDOM",
          "BI_RANDOM",
          "BI_RANDOM",
          "BI_RANDOM",
          "BI_RANDOM",
          "BI_RANDOM",
          "BI_RANDOM",
          "BI_RANDOM",
          "BI_RANDOM",
          "BI_RANDOM",
          "BI_RANDOM",
          "BI_RANDOM",
          "BI_RANDOM",
          "BI_RANDOM",
          "BI_RANDOM",
          "BI_RANDOM",
          "BI_RANDOM",
          "BI_RANDOM",
          "BI_RANDOM",
          "BI_RANDOM",
          "BI_RANDOM",
          "BI_RANDOM",
          "BI_RANDOM",
          "BI_RANDOM",
          "BI_RANDOM",
          "BI_RANDOM",
          "BI_RANDOM",
          "BI_RANDOM",
          "BI_RANDOM",
          "BI_RANDOM",
          "BI_RANDOM",
          "BI_RANDOM",
          "BI_RANDOM",
          "BI_RANDOM",
          "BI_RANDOM",
          "BI_RANDOM",
          "BI_RANDOM",
          "BI_RANDOM",
          "BI_RANDOM",
          "BI_RANDOM",
          "BI_RANDOM",
          "BI_RANDOM",
          "BI_RANDOM",
          "BI_RANDOM",
          "BI_RANDOM",
          "BI_RANDOM",
          "BI_RANDOM",
          "BI_RANDOM",
          "DI_BACK",
          "DI_BACK",
          "DI_BACK",
          "DI_BACK",
          "DI_BACK",
          "DI_BACK",
          "DI_BACK",
          "DI_BACK",
          "DI_BACK",
          "DI_BACK",
          "DI_BACK",
          "DI_BACK",
          "DI_BACK",
          "DI_BACK",
          "DI_BACK",
          "DI_BACK",
          "DI_BACK",
          "DI_BACK",
          "DI_BACK",
          "DI_BACK",
          "DI_BACK",
          "DI_BACK",
          "DI_BACK",
          "DI_BACK",
          "DI_BACK",
          "DI_BACK",
          "DI_BACK",
          "DI_BACK",
          "DI_BACK",
          "DI_BACK",
          "DI_BACK",
          "DI_BACK",
          "DI_BACK",
          "DI_BACK",
          "DI_BACK",
          "DI_BACK",
          "DI_BACK",
          "DI_BACK",
          "DI_BACK",
          "DI_BACK",
          "DI_BACK",
          "DI_BACK",
          "DI_BACK",
          "DI_BACK",
          "DI_BACK",
          "DI_BACK",
          "DI_BACK",
          "DI_BACK",
          "DI_BACK",
          "DI_BACK",
          "DI_BACK",
          "DI_BACK",
          "DI_BACK",
          "DI_BACK",
          "DI_BACK",
          "DI_BACK",
          "DI_BACK",
          "DI_BACK",
          "DI_BACK",
          "DI_BACK",
          "DI_BACK",
          "DI_BACK",
          "DI_BACK",
          "DI_BACK",
          "DI_BACK",
          "DI_BACK",
          "DI_BACK",
          "DI_BACK",
          "DI_BACK",
          "DI_BACK",
          "DI_BACK",
          "DI_BACK",
          "DI_BACK",
          "DI_BACK",
          "DI_BACK",
          "DI_BACK",
          "DI_BACK",
          "DI_BACK",
          "DI_BACK",
          "DI_BACK",
          "DI_BACK",
          "DI_BACK",
          "DI_CURR",
          "DI_CURR",
          "DI_CURR",
          "DI_CURR",
          "DI_CURR",
          "DI_CURR",
          "DI_CURR",
          "DI_CURR",
          "DI_CURR",
          "DI_CURR",
          "DI_CURR",
          "DI_CURR",
          "DI_CURR",
          "DI_CURR",
          "DI_CURR",
          "DI_CURR",
          "DI_CURR",
          "DI_CURR",
          "DI_CURR",
          "DI_CURR",
          "DI_CURR",
          "DI_CURR",
          "DI_CURR",
          "DI_CURR",
          "DI_CURR",
          "DI_CURR",
          "DI_CURR",
          "DI_CURR",
          "DI_CURR",
          "DI_CURR",
          "DI_CURR",
          "DI_CURR",
          "DI_CURR",
          "DI_CURR",
          "DI_CURR",
          "DI_CURR",
          "DI_CURR",
          "DI_CURR",
          "DI_CURR",
          "DI_CURR",
          "DI_CURR",
          "DI_CURR",
          "DI_CURR",
          "DI_CURR",
          "DI_CURR",
          "DI_CURR",
          "DI_CURR",
          "DI_CURR",
          "DI_CURR",
          "DI_CURR",
          "DI_CURR",
          "DI_CURR",
          "DI_CURR",
          "DI_CURR",
          "DI_CURR",
          "DI_CURR",
          "DI_CURR",
          "DI_CURR",
          "DI_CURR",
          "DI_CURR",
          "DI_CURR",
          "DI_CURR",
          "DI_CURR",
          "DI_CURR",
          "DI_CURR",
          "DI_CURR",
          "DI_CURR",
          "DI_CURR",
          "DI_CURR",
          "DI_CURR",
          "DI_CURR",
          "DI_CURR",
          "DI_CURR",
          "DI_CURR",
          "DI_CURR",
          "DI_CURR",
          "DI_CURR",
          "DI_CURR",
          "DI_CURR",
          "DI_CURR",
          "DI_CURR",
          "DI_CURR",
          "DI_RANDOM",
          "DI_RANDOM",
          "DI_RANDOM",
          "DI_RANDOM",
          "DI_RANDOM",
          "DI_RANDOM",
          "DI_RANDOM",
          "DI_RANDOM",
          "DI_RANDOM",
          "DI_RANDOM",
          "DI_RANDOM",
          "DI_RANDOM",
          "DI_RANDOM",
          "DI_RANDOM",
          "DI_RANDOM",
          "DI_RANDOM",
          "DI_RANDOM",
          "DI_RANDOM",
          "DI_RANDOM",
          "DI_RANDOM",
          "DI_RANDOM",
          "DI_RANDOM",
          "DI_RANDOM",
          "DI_RANDOM",
          "DI_RANDOM",
          "DI_RANDOM",
          "DI_RANDOM",
          "DI_RANDOM",
          "DI_RANDOM",
          "DI_RANDOM",
          "DI_RANDOM",
          "DI_RANDOM",
          "DI_RANDOM",
          "DI_RANDOM",
          "DI_RANDOM",
          "DI_RANDOM",
          "DI_RANDOM",
          "DI_RANDOM",
          "DI_RANDOM",
          "DI_RANDOM",
          "DI_RANDOM",
          "DI_RANDOM",
          "DI_RANDOM",
          "DI_RANDOM",
          "DI_RANDOM",
          "DI_RANDOM",
          "DI_RANDOM",
          "DI_RANDOM",
          "DI_RANDOM",
          "DI_RANDOM",
          "DI_RANDOM",
          "DI_RANDOM",
          "DI_RANDOM",
          "DI_RANDOM",
          "DI_RANDOM",
          "DI_RANDOM",
          "DI_RANDOM",
          "DI_RANDOM",
          "DI_RANDOM",
          "DI_RANDOM",
          "DI_RANDOM",
          "DI_RANDOM",
          "DI_RANDOM",
          "DI_RANDOM",
          "DI_RANDOM",
          "DI_RANDOM",
          "DI_RANDOM",
          "DI_RANDOM",
          "DI_RANDOM",
          "DI_RANDOM",
          "DI_RANDOM",
          "DI_RANDOM",
          "DI_RANDOM",
          "DI_RANDOM",
          "DI_RANDOM",
          "DI_RANDOM",
          "DI_RANDOM",
          "DI_RANDOM",
          "DI_RANDOM",
          "DI_RANDOM",
          "DI_RANDOM",
          "DI_RANDOM",
          "FI_BACK",
          "FI_BACK",
          "FI_BACK",
          "FI_BACK",
          "FI_BACK",
          "FI_BACK",
          "FI_BACK",
          "FI_BACK",
          "FI_BACK",
          "FI_BACK",
          "FI_BACK",
          "FI_BACK",
          "FI_BACK",
          "FI_BACK",
          "FI_BACK",
          "FI_BACK",
          "FI_BACK",
          "FI_BACK",
          "FI_BACK",
          "FI_BACK",
          "FI_BACK",
          "FI_BACK",
          "FI_BACK",
          "FI_BACK",
          "FI_BACK",
          "FI_BACK",
          "FI_BACK",
          "FI_BACK",
          "FI_BACK",
          "FI_BACK",
          "FI_BACK",
          "FI_BACK",
          "FI_BACK",
          "FI_BACK",
          "FI_BACK",
          "FI_BACK",
          "FI_BACK",
          "FI_BACK",
          "FI_BACK",
          "FI_BACK",
          "FI_BACK",
          "FI_BACK",
          "FI_BACK",
          "FI_BACK",
          "FI_BACK",
          "FI_BACK",
          "FI_BACK",
          "FI_BACK",
          "FI_BACK",
          "FI_BACK",
          "FI_BACK",
          "FI_BACK",
          "FI_BACK",
          "FI_BACK",
          "FI_BACK",
          "FI_BACK",
          "FI_BACK",
          "FI_BACK",
          "FI_BACK",
          "FI_BACK",
          "FI_BACK",
          "FI_BACK",
          "FI_BACK",
          "FI_BACK",
          "FI_BACK",
          "FI_BACK",
          "FI_BACK",
          "FI_BACK",
          "FI_BACK",
          "FI_BACK",
          "FI_BACK",
          "FI_BACK",
          "FI_BACK",
          "FI_BACK",
          "FI_BACK",
          "FI_BACK",
          "FI_BACK",
          "FI_BACK",
          "FI_BACK",
          "FI_BACK",
          "FI_BACK",
          "FI_BACK",
          "FI_CURR",
          "FI_CURR",
          "FI_CURR",
          "FI_CURR",
          "FI_CURR",
          "FI_CURR",
          "FI_CURR",
          "FI_CURR",
          "FI_CURR",
          "FI_CURR",
          "FI_CURR",
          "FI_CURR",
          "FI_CURR",
          "FI_CURR",
          "FI_CURR",
          "FI_CURR",
          "FI_CURR",
          "FI_CURR",
          "FI_CURR",
          "FI_CURR",
          "FI_CURR",
          "FI_CURR",
          "FI_CURR",
          "FI_CURR",
          "FI_CURR",
          "FI_CURR",
          "FI_CURR",
          "FI_CURR",
          "FI_CURR",
          "FI_CURR",
          "FI_CURR",
          "FI_CURR",
          "FI_CURR",
          "FI_CURR",
          "FI_CURR",
          "FI_CURR",
          "FI_CURR",
          "FI_CURR",
          "FI_CURR",
          "FI_CURR",
          "FI_CURR",
          "FI_CURR",
          "FI_CURR",
          "FI_CURR",
          "FI_CURR",
          "FI_CURR",
          "FI_CURR",
          "FI_CURR",
          "FI_CURR",
          "FI_CURR",
          "FI_CURR",
          "FI_CURR",
          "FI_CURR",
          "FI_CURR",
          "FI_CURR",
          "FI_CURR",
          "FI_CURR",
          "FI_CURR",
          "FI_CURR",
          "FI_CURR",
          "FI_CURR",
          "FI_CURR",
          "FI_CURR",
          "FI_CURR",
          "FI_CURR",
          "FI_CURR",
          "FI_CURR",
          "FI_CURR",
          "FI_CURR",
          "FI_CURR",
          "FI_CURR",
          "FI_CURR",
          "FI_CURR",
          "FI_CURR",
          "FI_CURR",
          "FI_CURR",
          "FI_CURR",
          "FI_CURR",
          "FI_CURR",
          "FI_CURR",
          "FI_CURR",
          "FI_CURR",
          "FI_RANDOM",
          "FI_RANDOM",
          "FI_RANDOM",
          "FI_RANDOM",
          "FI_RANDOM",
          "FI_RANDOM",
          "FI_RANDOM",
          "FI_RANDOM",
          "FI_RANDOM",
          "FI_RANDOM",
          "FI_RANDOM",
          "FI_RANDOM",
          "FI_RANDOM",
          "FI_RANDOM",
          "FI_RANDOM",
          "FI_RANDOM",
          "FI_RANDOM",
          "FI_RANDOM",
          "FI_RANDOM",
          "FI_RANDOM",
          "FI_RANDOM",
          "FI_RANDOM",
          "FI_RANDOM",
          "FI_RANDOM",
          "FI_RANDOM",
          "FI_RANDOM",
          "FI_RANDOM",
          "FI_RANDOM",
          "FI_RANDOM",
          "FI_RANDOM",
          "FI_RANDOM",
          "FI_RANDOM",
          "FI_RANDOM",
          "FI_RANDOM",
          "FI_RANDOM",
          "FI_RANDOM",
          "FI_RANDOM",
          "FI_RANDOM",
          "FI_RANDOM",
          "FI_RANDOM",
          "FI_RANDOM",
          "FI_RANDOM",
          "FI_RANDOM",
          "FI_RANDOM",
          "FI_RANDOM",
          "FI_RANDOM",
          "FI_RANDOM",
          "FI_RANDOM",
          "FI_RANDOM",
          "FI_RANDOM",
          "FI_RANDOM",
          "FI_RANDOM",
          "FI_RANDOM",
          "FI_RANDOM",
          "FI_RANDOM",
          "FI_RANDOM",
          "FI_RANDOM",
          "FI_RANDOM",
          "FI_RANDOM",
          "FI_RANDOM",
          "FI_RANDOM",
          "FI_RANDOM",
          "FI_RANDOM",
          "FI_RANDOM",
          "FI_RANDOM",
          "FI_RANDOM",
          "FI_RANDOM",
          "FI_RANDOM",
          "FI_RANDOM",
          "FI_RANDOM",
          "FI_RANDOM",
          "FI_RANDOM",
          "FI_RANDOM",
          "FI_RANDOM",
          "FI_RANDOM",
          "FI_RANDOM",
          "FI_RANDOM",
          "FI_RANDOM",
          "FI_RANDOM",
          "FI_RANDOM",
          "FI_RANDOM",
          "FI_RANDOM"
         ]
        }
       ],
       "layout": {
        "coloraxis": {
         "cmax": 3.001,
         "cmin": -3.001,
         "colorbar": {
          "ticktext": [
           "-1E0",
           "-1E-1",
           "-1E-2",
           0,
           "1E-2",
           "1E-1",
           "1E0"
          ],
          "tickvals": [
           -3,
           -2,
           -1,
           0,
           1,
           2,
           3
          ],
          "title": {
           "text": "prct_amelioration_end_cost"
          }
         },
         "colorscale": [
          [
           0,
           "blue"
          ],
          [
           0.25,
           "cyan"
          ],
          [
           0.5,
           "green"
          ],
          [
           0.75,
           "yellow"
          ],
          [
           1,
           "red"
          ]
         ]
        },
        "height": 900,
        "legend": {
         "tracegroupgap": 0
        },
        "margin": {
         "t": 60
        },
        "scene": {
         "domain": {
          "x": [
           0,
           1
          ],
          "y": [
           0,
           1
          ]
         },
         "xaxis": {
          "title": {
           "text": "Nb pts par cluster"
          }
         },
         "yaxis": {
          "title": {
           "text": "init_type"
          }
         },
         "zaxis": {
          "title": {
           "text": "algorithm"
          }
         }
        },
        "template": {
         "data": {
          "bar": [
           {
            "error_x": {
             "color": "#f2f5fa"
            },
            "error_y": {
             "color": "#f2f5fa"
            },
            "marker": {
             "line": {
              "color": "rgb(17,17,17)",
              "width": 0.5
             },
             "pattern": {
              "fillmode": "overlay",
              "size": 10,
              "solidity": 0.2
             }
            },
            "type": "bar"
           }
          ],
          "barpolar": [
           {
            "marker": {
             "line": {
              "color": "rgb(17,17,17)",
              "width": 0.5
             },
             "pattern": {
              "fillmode": "overlay",
              "size": 10,
              "solidity": 0.2
             }
            },
            "type": "barpolar"
           }
          ],
          "carpet": [
           {
            "aaxis": {
             "endlinecolor": "#A2B1C6",
             "gridcolor": "#506784",
             "linecolor": "#506784",
             "minorgridcolor": "#506784",
             "startlinecolor": "#A2B1C6"
            },
            "baxis": {
             "endlinecolor": "#A2B1C6",
             "gridcolor": "#506784",
             "linecolor": "#506784",
             "minorgridcolor": "#506784",
             "startlinecolor": "#A2B1C6"
            },
            "type": "carpet"
           }
          ],
          "choropleth": [
           {
            "colorbar": {
             "outlinewidth": 0,
             "ticks": ""
            },
            "type": "choropleth"
           }
          ],
          "contour": [
           {
            "colorbar": {
             "outlinewidth": 0,
             "ticks": ""
            },
            "colorscale": [
             [
              0,
              "#0d0887"
             ],
             [
              0.1111111111111111,
              "#46039f"
             ],
             [
              0.2222222222222222,
              "#7201a8"
             ],
             [
              0.3333333333333333,
              "#9c179e"
             ],
             [
              0.4444444444444444,
              "#bd3786"
             ],
             [
              0.5555555555555556,
              "#d8576b"
             ],
             [
              0.6666666666666666,
              "#ed7953"
             ],
             [
              0.7777777777777778,
              "#fb9f3a"
             ],
             [
              0.8888888888888888,
              "#fdca26"
             ],
             [
              1,
              "#f0f921"
             ]
            ],
            "type": "contour"
           }
          ],
          "contourcarpet": [
           {
            "colorbar": {
             "outlinewidth": 0,
             "ticks": ""
            },
            "type": "contourcarpet"
           }
          ],
          "heatmap": [
           {
            "colorbar": {
             "outlinewidth": 0,
             "ticks": ""
            },
            "colorscale": [
             [
              0,
              "#0d0887"
             ],
             [
              0.1111111111111111,
              "#46039f"
             ],
             [
              0.2222222222222222,
              "#7201a8"
             ],
             [
              0.3333333333333333,
              "#9c179e"
             ],
             [
              0.4444444444444444,
              "#bd3786"
             ],
             [
              0.5555555555555556,
              "#d8576b"
             ],
             [
              0.6666666666666666,
              "#ed7953"
             ],
             [
              0.7777777777777778,
              "#fb9f3a"
             ],
             [
              0.8888888888888888,
              "#fdca26"
             ],
             [
              1,
              "#f0f921"
             ]
            ],
            "type": "heatmap"
           }
          ],
          "heatmapgl": [
           {
            "colorbar": {
             "outlinewidth": 0,
             "ticks": ""
            },
            "colorscale": [
             [
              0,
              "#0d0887"
             ],
             [
              0.1111111111111111,
              "#46039f"
             ],
             [
              0.2222222222222222,
              "#7201a8"
             ],
             [
              0.3333333333333333,
              "#9c179e"
             ],
             [
              0.4444444444444444,
              "#bd3786"
             ],
             [
              0.5555555555555556,
              "#d8576b"
             ],
             [
              0.6666666666666666,
              "#ed7953"
             ],
             [
              0.7777777777777778,
              "#fb9f3a"
             ],
             [
              0.8888888888888888,
              "#fdca26"
             ],
             [
              1,
              "#f0f921"
             ]
            ],
            "type": "heatmapgl"
           }
          ],
          "histogram": [
           {
            "marker": {
             "pattern": {
              "fillmode": "overlay",
              "size": 10,
              "solidity": 0.2
             }
            },
            "type": "histogram"
           }
          ],
          "histogram2d": [
           {
            "colorbar": {
             "outlinewidth": 0,
             "ticks": ""
            },
            "colorscale": [
             [
              0,
              "#0d0887"
             ],
             [
              0.1111111111111111,
              "#46039f"
             ],
             [
              0.2222222222222222,
              "#7201a8"
             ],
             [
              0.3333333333333333,
              "#9c179e"
             ],
             [
              0.4444444444444444,
              "#bd3786"
             ],
             [
              0.5555555555555556,
              "#d8576b"
             ],
             [
              0.6666666666666666,
              "#ed7953"
             ],
             [
              0.7777777777777778,
              "#fb9f3a"
             ],
             [
              0.8888888888888888,
              "#fdca26"
             ],
             [
              1,
              "#f0f921"
             ]
            ],
            "type": "histogram2d"
           }
          ],
          "histogram2dcontour": [
           {
            "colorbar": {
             "outlinewidth": 0,
             "ticks": ""
            },
            "colorscale": [
             [
              0,
              "#0d0887"
             ],
             [
              0.1111111111111111,
              "#46039f"
             ],
             [
              0.2222222222222222,
              "#7201a8"
             ],
             [
              0.3333333333333333,
              "#9c179e"
             ],
             [
              0.4444444444444444,
              "#bd3786"
             ],
             [
              0.5555555555555556,
              "#d8576b"
             ],
             [
              0.6666666666666666,
              "#ed7953"
             ],
             [
              0.7777777777777778,
              "#fb9f3a"
             ],
             [
              0.8888888888888888,
              "#fdca26"
             ],
             [
              1,
              "#f0f921"
             ]
            ],
            "type": "histogram2dcontour"
           }
          ],
          "mesh3d": [
           {
            "colorbar": {
             "outlinewidth": 0,
             "ticks": ""
            },
            "type": "mesh3d"
           }
          ],
          "parcoords": [
           {
            "line": {
             "colorbar": {
              "outlinewidth": 0,
              "ticks": ""
             }
            },
            "type": "parcoords"
           }
          ],
          "pie": [
           {
            "automargin": true,
            "type": "pie"
           }
          ],
          "scatter": [
           {
            "marker": {
             "line": {
              "color": "#283442"
             }
            },
            "type": "scatter"
           }
          ],
          "scatter3d": [
           {
            "line": {
             "colorbar": {
              "outlinewidth": 0,
              "ticks": ""
             }
            },
            "marker": {
             "colorbar": {
              "outlinewidth": 0,
              "ticks": ""
             }
            },
            "type": "scatter3d"
           }
          ],
          "scattercarpet": [
           {
            "marker": {
             "colorbar": {
              "outlinewidth": 0,
              "ticks": ""
             }
            },
            "type": "scattercarpet"
           }
          ],
          "scattergeo": [
           {
            "marker": {
             "colorbar": {
              "outlinewidth": 0,
              "ticks": ""
             }
            },
            "type": "scattergeo"
           }
          ],
          "scattergl": [
           {
            "marker": {
             "line": {
              "color": "#283442"
             }
            },
            "type": "scattergl"
           }
          ],
          "scattermapbox": [
           {
            "marker": {
             "colorbar": {
              "outlinewidth": 0,
              "ticks": ""
             }
            },
            "type": "scattermapbox"
           }
          ],
          "scatterpolar": [
           {
            "marker": {
             "colorbar": {
              "outlinewidth": 0,
              "ticks": ""
             }
            },
            "type": "scatterpolar"
           }
          ],
          "scatterpolargl": [
           {
            "marker": {
             "colorbar": {
              "outlinewidth": 0,
              "ticks": ""
             }
            },
            "type": "scatterpolargl"
           }
          ],
          "scatterternary": [
           {
            "marker": {
             "colorbar": {
              "outlinewidth": 0,
              "ticks": ""
             }
            },
            "type": "scatterternary"
           }
          ],
          "surface": [
           {
            "colorbar": {
             "outlinewidth": 0,
             "ticks": ""
            },
            "colorscale": [
             [
              0,
              "#0d0887"
             ],
             [
              0.1111111111111111,
              "#46039f"
             ],
             [
              0.2222222222222222,
              "#7201a8"
             ],
             [
              0.3333333333333333,
              "#9c179e"
             ],
             [
              0.4444444444444444,
              "#bd3786"
             ],
             [
              0.5555555555555556,
              "#d8576b"
             ],
             [
              0.6666666666666666,
              "#ed7953"
             ],
             [
              0.7777777777777778,
              "#fb9f3a"
             ],
             [
              0.8888888888888888,
              "#fdca26"
             ],
             [
              1,
              "#f0f921"
             ]
            ],
            "type": "surface"
           }
          ],
          "table": [
           {
            "cells": {
             "fill": {
              "color": "#506784"
             },
             "line": {
              "color": "rgb(17,17,17)"
             }
            },
            "header": {
             "fill": {
              "color": "#2a3f5f"
             },
             "line": {
              "color": "rgb(17,17,17)"
             }
            },
            "type": "table"
           }
          ]
         },
         "layout": {
          "annotationdefaults": {
           "arrowcolor": "#f2f5fa",
           "arrowhead": 0,
           "arrowwidth": 1
          },
          "autotypenumbers": "strict",
          "coloraxis": {
           "colorbar": {
            "outlinewidth": 0,
            "ticks": ""
           }
          },
          "colorscale": {
           "diverging": [
            [
             0,
             "#8e0152"
            ],
            [
             0.1,
             "#c51b7d"
            ],
            [
             0.2,
             "#de77ae"
            ],
            [
             0.3,
             "#f1b6da"
            ],
            [
             0.4,
             "#fde0ef"
            ],
            [
             0.5,
             "#f7f7f7"
            ],
            [
             0.6,
             "#e6f5d0"
            ],
            [
             0.7,
             "#b8e186"
            ],
            [
             0.8,
             "#7fbc41"
            ],
            [
             0.9,
             "#4d9221"
            ],
            [
             1,
             "#276419"
            ]
           ],
           "sequential": [
            [
             0,
             "#0d0887"
            ],
            [
             0.1111111111111111,
             "#46039f"
            ],
            [
             0.2222222222222222,
             "#7201a8"
            ],
            [
             0.3333333333333333,
             "#9c179e"
            ],
            [
             0.4444444444444444,
             "#bd3786"
            ],
            [
             0.5555555555555556,
             "#d8576b"
            ],
            [
             0.6666666666666666,
             "#ed7953"
            ],
            [
             0.7777777777777778,
             "#fb9f3a"
            ],
            [
             0.8888888888888888,
             "#fdca26"
            ],
            [
             1,
             "#f0f921"
            ]
           ],
           "sequentialminus": [
            [
             0,
             "#0d0887"
            ],
            [
             0.1111111111111111,
             "#46039f"
            ],
            [
             0.2222222222222222,
             "#7201a8"
            ],
            [
             0.3333333333333333,
             "#9c179e"
            ],
            [
             0.4444444444444444,
             "#bd3786"
            ],
            [
             0.5555555555555556,
             "#d8576b"
            ],
            [
             0.6666666666666666,
             "#ed7953"
            ],
            [
             0.7777777777777778,
             "#fb9f3a"
            ],
            [
             0.8888888888888888,
             "#fdca26"
            ],
            [
             1,
             "#f0f921"
            ]
           ]
          },
          "colorway": [
           "#636efa",
           "#EF553B",
           "#00cc96",
           "#ab63fa",
           "#FFA15A",
           "#19d3f3",
           "#FF6692",
           "#B6E880",
           "#FF97FF",
           "#FECB52"
          ],
          "font": {
           "color": "#f2f5fa"
          },
          "geo": {
           "bgcolor": "rgb(17,17,17)",
           "lakecolor": "rgb(17,17,17)",
           "landcolor": "rgb(17,17,17)",
           "showlakes": true,
           "showland": true,
           "subunitcolor": "#506784"
          },
          "hoverlabel": {
           "align": "left"
          },
          "hovermode": "closest",
          "mapbox": {
           "style": "dark"
          },
          "paper_bgcolor": "rgb(17,17,17)",
          "plot_bgcolor": "rgb(17,17,17)",
          "polar": {
           "angularaxis": {
            "gridcolor": "#506784",
            "linecolor": "#506784",
            "ticks": ""
           },
           "bgcolor": "rgb(17,17,17)",
           "radialaxis": {
            "gridcolor": "#506784",
            "linecolor": "#506784",
            "ticks": ""
           }
          },
          "scene": {
           "xaxis": {
            "backgroundcolor": "rgb(17,17,17)",
            "gridcolor": "#506784",
            "gridwidth": 2,
            "linecolor": "#506784",
            "showbackground": true,
            "ticks": "",
            "zerolinecolor": "#C8D4E3"
           },
           "yaxis": {
            "backgroundcolor": "rgb(17,17,17)",
            "gridcolor": "#506784",
            "gridwidth": 2,
            "linecolor": "#506784",
            "showbackground": true,
            "ticks": "",
            "zerolinecolor": "#C8D4E3"
           },
           "zaxis": {
            "backgroundcolor": "rgb(17,17,17)",
            "gridcolor": "#506784",
            "gridwidth": 2,
            "linecolor": "#506784",
            "showbackground": true,
            "ticks": "",
            "zerolinecolor": "#C8D4E3"
           }
          },
          "shapedefaults": {
           "line": {
            "color": "#f2f5fa"
           }
          },
          "sliderdefaults": {
           "bgcolor": "#C8D4E3",
           "bordercolor": "rgb(17,17,17)",
           "borderwidth": 1,
           "tickwidth": 0
          },
          "ternary": {
           "aaxis": {
            "gridcolor": "#506784",
            "linecolor": "#506784",
            "ticks": ""
           },
           "baxis": {
            "gridcolor": "#506784",
            "linecolor": "#506784",
            "ticks": ""
           },
           "bgcolor": "rgb(17,17,17)",
           "caxis": {
            "gridcolor": "#506784",
            "linecolor": "#506784",
            "ticks": ""
           }
          },
          "title": {
           "x": 0.05
          },
          "updatemenudefaults": {
           "bgcolor": "#506784",
           "borderwidth": 0
          },
          "xaxis": {
           "automargin": true,
           "gridcolor": "#283442",
           "linecolor": "#506784",
           "ticks": "",
           "title": {
            "standoff": 15
           },
           "zerolinecolor": "#283442",
           "zerolinewidth": 2
          },
          "yaxis": {
           "automargin": true,
           "gridcolor": "#283442",
           "linecolor": "#506784",
           "ticks": "",
           "title": {
            "standoff": 15
           },
           "zerolinecolor": "#283442",
           "zerolinewidth": 2
          }
         }
        },
        "width": 1000
       }
      }
     },
     "metadata": {},
     "output_type": "display_data"
    }
   ],
   "source": [
    "df = df_compil.copy().reset_index()\n",
    "ticks_pow = [-2,-1,0]\n",
    "max_val = abs(min(ticks_pow))\n",
    "delta_zero = 0.001+1\n",
    "logscale = lambda x:  np.sign(x) * (1-min(ticks_pow)+np.clip(np.log10(np.abs(x+1e-16)),min(ticks_pow)-delta_zero,np.inf))\n",
    "fig = px.scatter_3d(df,x=\"Nb. points\",y=\"init_type\",z=\"algorithm\",color=logscale(df[COLUMN]),\n",
    "                    hover_data=[\"Nb. points\",\"num_clusters\",\"init_type\",\"algorithm\",COLUMN],\n",
    "                    color_continuous_scale=[\"red\",\"yellow\",\"green\",\"cyan\",\"blue\"][::-1],\n",
    "                    range_color=[-max_val-delta_zero,max_val+delta_zero],\n",
    "                    template=\"plotly_dark\",width=1000,height=900)\n",
    "def build(f):\n",
    "    ticks_pos = [f(1,p) for p in ticks_pow]\n",
    "    ticks_neg = [f(-1,p) for p in ticks_pow[::-1]]\n",
    "    return [*ticks_neg,logscale(0),*ticks_pos]\n",
    "def func(sign,p):\n",
    "    real_value = sign*10**p\n",
    "    return logscale(real_value)\n",
    "Lp = build(func)\n",
    "Lannot = build(lambda sign,p: \"1E\"+str(p) if sign > 0 else \"-1E\"+str(p))\n",
    "fig.update_layout(coloraxis_colorbar=dict(\n",
    "    title=COLUMN,\n",
    "    tickvals=np.round(Lp,decimals=2),\n",
    "    ticktext=Lannot,\n",
    "))\n",
    "fig.show()"
   ]
  },
  {
   "cell_type": "markdown",
   "metadata": {},
   "source": [
    "# Observations"
   ]
  },
  {
   "cell_type": "markdown",
   "metadata": {},
   "source": [
    "\n",
    "## Initialisation random\n",
    "\n",
    "Coût final\n",
    "- A partir d'environ 5 points par cluster il devient plus intéressant d'utiliser BI_BACK\n",
    "- Pour 2 clusters un comportement plus instable est observé\n",
    "\n",
    "Temps de calcul et nombre d'itérations\n",
    "- à partir de 1.25 points par cluster il devient plus intéressant d'utiliser FI_BACK (si nombre de clusters >= 16)\n",
    "\n",
    "## Initialisation KMeans+\n",
    "\n",
    "Coût final\n",
    "- BI_BACK et FI très similaires.\n",
    "- BI_BACK est plus meilleur si nb points/cluster $\\in [3.12,5.63]$ pour num_clusters >= 16\n",
    "- BI_BACK est plus meilleur si nb points/cluster > 6.25,11.25 pour num_clusters < 16 : tendance moins visible\n",
    "\n",
    "Temps de calcul et nombre d'itérations\n",
    "- BI_BACK toujours meilleur\n",
    "\n",
    "## Comparaison FI_BACK, FI_CURR, FI_RANDOM\n",
    "\n",
    "- Pour nb points/cluster < 30 mêmes ordre de grandeur pour chaque algorithme\n",
    "- "
   ]
  },
  {
   "cell_type": "markdown",
   "metadata": {},
   "source": [
    "# % improvement of COLUMN = f(combination of number of points / cluster, algorithm, initialization) ?"
   ]
  },
  {
   "cell_type": "code",
   "execution_count": 41,
   "metadata": {},
   "outputs": [],
   "source": [
    "COLUMN = \"prct_amelioration_end_cost\"\n",
    "QUERY = \"init_type == 'random'\""
   ]
  },
  {
   "cell_type": "code",
   "execution_count": 42,
   "metadata": {},
   "outputs": [
    {
     "data": {
      "application/vnd.plotly.v1+json": {
       "config": {
        "plotlyServerURL": "https://plot.ly"
       },
       "data": [
        {
         "customdata": [
          [
           "random",
           0
          ],
          [
           "random",
           0
          ],
          [
           "random",
           0
          ],
          [
           "random",
           0
          ],
          [
           "random",
           0
          ],
          [
           "random",
           0
          ],
          [
           "random",
           0
          ],
          [
           "random",
           0
          ],
          [
           "random",
           0
          ],
          [
           "random",
           0
          ],
          [
           "random",
           0
          ],
          [
           "random",
           0
          ],
          [
           "random",
           0
          ],
          [
           "random",
           0
          ],
          [
           "random",
           0
          ],
          [
           "random",
           0
          ],
          [
           "random",
           0
          ],
          [
           "random",
           0
          ],
          [
           "random",
           0
          ],
          [
           "random",
           0
          ],
          [
           "random",
           0
          ],
          [
           "random",
           0
          ],
          [
           "random",
           0
          ],
          [
           "random",
           0
          ],
          [
           "random",
           0
          ],
          [
           "random",
           0
          ],
          [
           "random",
           0
          ],
          [
           "random",
           0
          ],
          [
           "random",
           0
          ],
          [
           "random",
           0
          ],
          [
           "random",
           0
          ],
          [
           "random",
           0
          ],
          [
           "random",
           0
          ],
          [
           "random",
           0
          ],
          [
           "random",
           null
          ],
          [
           "random",
           0
          ],
          [
           "random",
           0
          ],
          [
           "random",
           0
          ],
          [
           "random",
           0
          ],
          [
           "random",
           0
          ],
          [
           "random",
           0
          ],
          [
           "random",
           -14.971928115716167
          ],
          [
           "random",
           11.506631330692118
          ],
          [
           "random",
           -12.779154201044607
          ],
          [
           "random",
           -9.335319543618334
          ],
          [
           "random",
           9.697845187860118
          ],
          [
           "random",
           33.3189014164437
          ],
          [
           "random",
           -12.436770967482316
          ],
          [
           "random",
           -10.693298730057432
          ],
          [
           "random",
           0
          ],
          [
           "random",
           -10.513342203940777
          ],
          [
           "random",
           -13.460997364131352
          ],
          [
           "random",
           5.125576862278478
          ],
          [
           "random",
           -22.168940959963443
          ],
          [
           "random",
           -5.6338301435651035
          ],
          [
           "random",
           27.6716993325228
          ],
          [
           "random",
           -6.484523381344462
          ],
          [
           "random",
           -47.33830044336754
          ],
          [
           "random",
           -26.915531010985
          ],
          [
           "random",
           -12.259671481542707
          ],
          [
           "random",
           -0.9252893002176849
          ],
          [
           "random",
           15.155932848806028
          ],
          [
           "random",
           -2.5855904087418455
          ],
          [
           "random",
           -2.1582875780766217
          ],
          [
           "random",
           -3.548211962831413
          ],
          [
           "random",
           -36.739462408903414
          ],
          [
           "random",
           -0.9314068659251665
          ],
          [
           "random",
           59.48783459834367
          ],
          [
           "random",
           -25.855854469698787
          ],
          [
           "random",
           -10.41291986570162
          ],
          [
           "random",
           7.867017288901526
          ],
          [
           "random",
           -0.7067767600001963
          ],
          [
           "random",
           -10.514391066254655
          ],
          [
           "random",
           75.29825529044484
          ],
          [
           "random",
           7.0666957089373446
          ],
          [
           "random",
           null
          ],
          [
           "random",
           10.145975016049812
          ],
          [
           "random",
           -15.239946317427675
          ],
          [
           "random",
           -6.497090052262804
          ],
          [
           "random",
           10.417821134463672
          ],
          [
           "random",
           -5.62841600790595
          ],
          [
           "random",
           -13.978102454833769
          ],
          [
           "random",
           -14.971928115716167
          ],
          [
           "random",
           11.630052641576084
          ],
          [
           "random",
           -12.779154201044607
          ],
          [
           "random",
           -0.6010837111716719
          ],
          [
           "random",
           -2.999411689758078
          ],
          [
           "random",
           -4.549335725510187
          ],
          [
           "random",
           -7.723096010589403
          ],
          [
           "random",
           -0.5201337195009441
          ],
          [
           "random",
           -15.420681340816452
          ],
          [
           "random",
           -3.1095754705645944
          ],
          [
           "random",
           -0.2556788570667286
          ],
          [
           "random",
           9.775450988758882
          ],
          [
           "random",
           0.49893563745814634
          ],
          [
           "random",
           5.243539977792109
          ],
          [
           "random",
           9.233957563335059
          ],
          [
           "random",
           -3.216166949110116
          ],
          [
           "random",
           -15.222683898789716
          ],
          [
           "random",
           72.41366007731858
          ],
          [
           "random",
           -34.106206228586636
          ],
          [
           "random",
           2.8492354914366453
          ],
          [
           "random",
           18.37791570060591
          ],
          [
           "random",
           3.624079178161238
          ],
          [
           "random",
           2.382877823479678
          ],
          [
           "random",
           -2.5105707811091778
          ],
          [
           "random",
           -40.400121574942474
          ],
          [
           "random",
           -5.458372392166128
          ],
          [
           "random",
           53.131772747590404
          ],
          [
           "random",
           -11.450061102846814
          ],
          [
           "random",
           -13.107230949146134
          ],
          [
           "random",
           11.570022226914018
          ],
          [
           "random",
           -4.694808086779051
          ],
          [
           "random",
           -8.243058609470335
          ],
          [
           "random",
           206.19734422535169
          ],
          [
           "random",
           9.977767761234949
          ],
          [
           "random",
           null
          ],
          [
           "random",
           7.110379749396166
          ],
          [
           "random",
           -10.960816089801376
          ],
          [
           "random",
           0.6007609583848916
          ],
          [
           "random",
           -4.78991561740429
          ],
          [
           "random",
           0.36523631130802214
          ],
          [
           "random",
           -14.372725784513474
          ],
          [
           "random",
           -14.971928115716167
          ],
          [
           "random",
           11.506631330692118
          ],
          [
           "random",
           2.4612955929877285
          ],
          [
           "random",
           -9.180270059264137
          ],
          [
           "random",
           -0.019381874352637822
          ],
          [
           "random",
           16.070911950018125
          ],
          [
           "random",
           -11.848498463696076
          ],
          [
           "random",
           -2.6056685595788105
          ],
          [
           "random",
           24.975748015122125
          ],
          [
           "random",
           -5.308584143353859
          ],
          [
           "random",
           -2.4170696673088803
          ],
          [
           "random",
           16.23074769633478
          ],
          [
           "random",
           -22.28294721090297
          ],
          [
           "random",
           5.628958029100442
          ],
          [
           "random",
           4.64391642348234
          ],
          [
           "random",
           -2.6184097226759957
          ],
          [
           "random",
           -11.76862722587413
          ],
          [
           "random",
           18.069342809085395
          ],
          [
           "random",
           -15.194672821161525
          ],
          [
           "random",
           -10.921231442983315
          ],
          [
           "random",
           6.3414833437650575
          ],
          [
           "random",
           5.8044793084976885
          ],
          [
           "random",
           8.207076874014271
          ],
          [
           "random",
           -11.182981214911235
          ],
          [
           "random",
           23.955920929253676
          ],
          [
           "random",
           -11.572646558270717
          ],
          [
           "random",
           27.093105052438236
          ],
          [
           "random",
           -11.104412680798054
          ],
          [
           "random",
           -9.435925732703224
          ],
          [
           "random",
           7.385042706114538
          ],
          [
           "random",
           null
          ],
          [
           "random",
           -11.332555999776538
          ],
          [
           "random",
           63.03794096121492
          ],
          [
           "random",
           -3.462642934501415
          ],
          [
           "random",
           null
          ],
          [
           "random",
           null
          ],
          [
           "random",
           -10.734022411704993
          ],
          [
           "random",
           null
          ],
          [
           "random",
           -7.790637901379382
          ],
          [
           "random",
           null
          ],
          [
           "random",
           null
          ],
          [
           "random",
           -14.971928115716167
          ],
          [
           "random",
           11.630052641576084
          ],
          [
           "random",
           -16.375470294832457
          ],
          [
           "random",
           -6.967427795944824
          ],
          [
           "random",
           9.55861352745771
          ],
          [
           "random",
           -4.543601462359613
          ],
          [
           "random",
           -3.33152009764836
          ],
          [
           "random",
           -8.286234192483002
          ],
          [
           "random",
           23.062013977662634
          ],
          [
           "random",
           -7.028700415581825
          ],
          [
           "random",
           -11.109567864752968
          ],
          [
           "random",
           10.757333459907136
          ],
          [
           "random",
           -9.857956154516167
          ],
          [
           "random",
           -6.916105147093113
          ],
          [
           "random",
           9.513727877218416
          ],
          [
           "random",
           -2.6251294094013553
          ],
          [
           "random",
           -3.8153945571447765
          ],
          [
           "random",
           21.812141753507518
          ],
          [
           "random",
           -15.357481837814458
          ],
          [
           "random",
           7.040694155314426
          ],
          [
           "random",
           9.630804932149195
          ],
          [
           "random",
           0.8982466009434253
          ],
          [
           "random",
           0.7806694368300028
          ],
          [
           "random",
           -9.978572528942932
          ],
          [
           "random",
           -10.288334915316245
          ],
          [
           "random",
           -16.00441318588959
          ],
          [
           "random",
           18.919809931426
          ],
          [
           "random",
           -7.448778794078306
          ],
          [
           "random",
           -9.68921431416438
          ],
          [
           "random",
           6.986307568819511
          ],
          [
           "random",
           null
          ],
          [
           "random",
           null
          ],
          [
           "random",
           81.94932408106006
          ],
          [
           "random",
           2.9301271099243227
          ],
          [
           "random",
           null
          ],
          [
           "random",
           -5.534630248204935
          ],
          [
           "random",
           null
          ],
          [
           "random",
           null
          ],
          [
           "random",
           null
          ],
          [
           "random",
           -7.015916409323944
          ],
          [
           "random",
           null
          ],
          [
           "random",
           -13.647961817561976
          ],
          [
           "random",
           -0.2204961531358424
          ],
          [
           "random",
           -2.591321527879408
          ],
          [
           "random",
           -7.45692083200393
          ],
          [
           "random",
           -5.0308251726145485
          ],
          [
           "random",
           7.779598019997458
          ],
          [
           "random",
           -7.321581011735681
          ],
          [
           "random",
           -3.467662480400408
          ],
          [
           "random",
           2.5661143398894684
          ],
          [
           "random",
           -3.289802590971127
          ],
          [
           "random",
           39.52271892055105
          ],
          [
           "random",
           14.116487887239195
          ],
          [
           "random",
           -18.783731317546533
          ],
          [
           "random",
           -0.7514204898208471
          ],
          [
           "random",
           3.5458906575759572
          ],
          [
           "random",
           -0.4159132268308042
          ],
          [
           "random",
           -15.6125807963924
          ],
          [
           "random",
           13.249270544588107
          ],
          [
           "random",
           -22.994190579584085
          ],
          [
           "random",
           1.2739000661155935
          ],
          [
           "random",
           10.672584955108958
          ],
          [
           "random",
           2.128307960691152
          ],
          [
           "random",
           6.049344944482393
          ],
          [
           "random",
           -11.955174139329706
          ],
          [
           "random",
           -26.130484086610785
          ],
          [
           "random",
           -16.646790188138905
          ],
          [
           "random",
           21.848880271437856
          ],
          [
           "random",
           -9.457060867966801
          ],
          [
           "random",
           null
          ],
          [
           "random",
           7.3124975932816705
          ],
          [
           "random",
           -9.193509802992272
          ],
          [
           "random",
           -10.66312996993168
          ],
          [
           "random",
           56.01156919249917
          ],
          [
           "random",
           -2.047651365742096
          ],
          [
           "random",
           null
          ],
          [
           "random",
           null
          ],
          [
           "random",
           -10.140889857313683
          ],
          [
           "random",
           -7.138602627817724
          ],
          [
           "random",
           null
          ],
          [
           "random",
           null
          ],
          [
           "random",
           null
          ],
          [
           "random",
           -7.0002629912823275
          ],
          [
           "random",
           4.240553444363008
          ],
          [
           "random",
           0
          ],
          [
           "random",
           2.572686121014712
          ],
          [
           "random",
           -0.12359294827496926
          ],
          [
           "random",
           7.379386997382525
          ],
          [
           "random",
           -0.04145648793010574
          ],
          [
           "random",
           -10.926992695181928
          ],
          [
           "random",
           23.340398790519938
          ],
          [
           "random",
           -2.482621787021633
          ],
          [
           "random",
           -0.002259239240822806
          ],
          [
           "random",
           -1.7256683780363582
          ],
          [
           "random",
           -5.668839716852712
          ],
          [
           "random",
           3.6068408332712174
          ],
          [
           "random",
           -0.5267407395245289
          ],
          [
           "random",
           -4.742234808295008
          ],
          [
           "random",
           -5.860494680706213
          ],
          [
           "random",
           7.158726231526079
          ],
          [
           "random",
           -6.913706528584047
          ],
          [
           "random",
           -9.71544105466391
          ],
          [
           "random",
           22.944856411011376
          ],
          [
           "random",
           -0.7414866445565597
          ],
          [
           "random",
           6.429943618060144
          ],
          [
           "random",
           -15.01472557980211
          ],
          [
           "random",
           -1.218383599594185
          ],
          [
           "random",
           0.27240101727762056
          ],
          [
           "random",
           20.665074857939818
          ],
          [
           "random",
           -18.764253302787594
          ],
          [
           "random",
           0.8684667194476952
          ],
          [
           "random",
           30.503490996599336
          ],
          [
           "random",
           -7.344816269594348
          ],
          [
           "random",
           -8.761793825905164
          ],
          [
           "random",
           83.90760946934388
          ],
          [
           "random",
           42.86049451229223
          ],
          [
           "random",
           null
          ],
          [
           "random",
           -9.947350875501058
          ],
          [
           "random",
           -10.57182994932666
          ],
          [
           "random",
           -4.292648939581997
          ],
          [
           "random",
           60.85436877522735
          ],
          [
           "random",
           26.42868373025946
          ],
          [
           "random",
           8.623514329586344
          ],
          [
           "random",
           -14.956509034237566
          ],
          [
           "random",
           11.630052641576084
          ],
          [
           "random",
           -12.779154201044607
          ],
          [
           "random",
           0.28117303248632647
          ],
          [
           "random",
           9.564264757414334
          ],
          [
           "random",
           16.070750334741266
          ],
          [
           "random",
           -7.457549038773194
          ],
          [
           "random",
           -10.716849516931902
          ],
          [
           "random",
           23.340594964923525
          ],
          [
           "random",
           -10.513342203940777
          ],
          [
           "random",
           -13.537344069510441
          ],
          [
           "random",
           10.733459204834869
          ],
          [
           "random",
           -22.555662622358412
          ],
          [
           "random",
           -5.816460111840592
          ],
          [
           "random",
           10.283495642615339
          ],
          [
           "random",
           9.37677339319949
          ],
          [
           "random",
           -46.43850295718763
          ],
          [
           "random",
           -26.513366815249924
          ],
          [
           "random",
           -11.241304967348345
          ],
          [
           "random",
           5.262241605147116
          ],
          [
           "random",
           11.010590534599718
          ],
          [
           "random",
           6.989652678434482
          ],
          [
           "random",
           -3.6184046651916457
          ],
          [
           "random",
           -15.730552485889271
          ],
          [
           "random",
           6.717576318927924
          ],
          [
           "random",
           -33.1788221633883
          ],
          [
           "random",
           67.94940314742999
          ],
          [
           "random",
           23.689253047483195
          ],
          [
           "random",
           -26.274633180040315
          ],
          [
           "random",
           12.919389104342752
          ],
          [
           "random",
           4.935377402808334
          ],
          [
           "random",
           -4.439848608369144
          ],
          [
           "random",
           152.24188460940363
          ],
          [
           "random",
           24.938065104366423
          ],
          [
           "random",
           null
          ],
          [
           "random",
           -1.6476173411734907
          ],
          [
           "random",
           0.781491842609689
          ],
          [
           "random",
           -6.167984310159268
          ],
          [
           "random",
           9.926596144370551
          ],
          [
           "random",
           -5.338741008826322
          ],
          [
           "random",
           -1.12915838923939
          ],
          [
           "random",
           -14.971928115716167
          ],
          [
           "random",
           11.630052641576084
          ],
          [
           "random",
           -12.779154201044607
          ],
          [
           "random",
           -1.26246537080628
          ],
          [
           "random",
           -7.554487292221486
          ],
          [
           "random",
           6.849952327404683
          ],
          [
           "random",
           -10.506478072728912
          ],
          [
           "random",
           2.6920606262989364
          ],
          [
           "random",
           -16.476777858008823
          ],
          [
           "random",
           -3.4037669897578233
          ],
          [
           "random",
           -2.140152349555093
          ],
          [
           "random",
           8.7144058129337
          ],
          [
           "random",
           -7.794650746278347
          ],
          [
           "random",
           0.9672966490132223
          ],
          [
           "random",
           6.319284058165678
          ],
          [
           "random",
           -9.741835042366773
          ],
          [
           "random",
           -4.213113225345555
          ],
          [
           "random",
           9.615503522072796
          ],
          [
           "random",
           -14.048772844744631
          ],
          [
           "random",
           5.3527012313565105
          ],
          [
           "random",
           6.242779073835043
          ],
          [
           "random",
           -0.9943406167713412
          ],
          [
           "random",
           11.095012547443552
          ],
          [
           "random",
           -16.542898409094914
          ],
          [
           "random",
           -17.465684239687114
          ],
          [
           "random",
           -32.457266543225046
          ],
          [
           "random",
           50.75257557119974
          ],
          [
           "random",
           9.406998403496639
          ],
          [
           "random",
           0.00296460535596889
          ],
          [
           "random",
           19.10780706961706
          ],
          [
           "random",
           -3.7009850173615013
          ],
          [
           "random",
           -5.083972851987958
          ],
          [
           "random",
           96.69886870600567
          ],
          [
           "random",
           -7.496712610632585
          ],
          [
           "random",
           null
          ],
          [
           "random",
           5.848340032490499
          ],
          [
           "random",
           -0.6678203707399225
          ],
          [
           "random",
           -1.4050090818723935
          ],
          [
           "random",
           3.0842858669072064
          ],
          [
           "random",
           1.9467625867162275
          ],
          [
           "random",
           -8.079115908604996
          ]
         ],
         "hovertemplate": "Nb. points=%{x}<br>num_clusters=%{y}<br>algorithm=%{z}<br>init_type=%{customdata[0]}<br>prct_amelioration_end_cost=%{customdata[1]}<br>color=%{marker.color}<extra></extra>",
         "legendgroup": "",
         "marker": {
          "color": [
           0,
           0,
           0,
           0,
           0,
           0,
           0,
           0,
           0,
           0,
           0,
           0,
           0,
           0,
           0,
           0,
           0,
           0,
           0,
           0,
           0,
           0,
           0,
           0,
           0,
           0,
           0,
           0,
           0,
           0,
           0,
           0,
           0,
           0,
           null,
           0,
           0,
           0,
           0,
           0,
           0,
           -4.175277733281901,
           4.060948198640805,
           -4.10650211063187,
           -3.970129188236358,
           3.9866752469485376,
           4.522690673507802,
           -4.094707636541383,
           -4.029111699527492,
           0,
           -4.021740800708311,
           -4.129077239211259,
           3.7097427505094283,
           -4.345744946780267,
           -3.7508037491416957,
           4.44203583019539,
           -3.811878060534367,
           -4.675212661676779,
           -4.430002952342891,
           -4.088478832689347,
           -2.9662775401386248,
           4.180582672384323,
           -3.41255972808033,
           -3.334109311176728,
           -3.550009555787206,
           -4.565132797191485,
           -2.969139435038008,
           4.774428160568833,
           -4.412558894664393,
           -4.01757252622095,
           3.8958101045947418,
           -2.8492822607418997,
           -4.021784125883661,
           4.876784913431635,
           3.8492163910494632,
           null,
           4.006293788554512,
           -4.182983437207913,
           -3.8127188863020445,
           4.017776896676802,
           -3.750386189555347,
           -4.145448219383326,
           -4.175277733281901,
           4.065581680497518,
           -4.10650211063187,
           -2.7789349591379557,
           -3.4770360797372657,
           -3.657947987468879,
           -3.8877914338555932,
           -2.7161150093574156,
           -4.188103562821278,
           -3.492701101767647,
           -2.4076948162590446,
           3.990136802631719,
           2.6980445253836915,
           3.7196245835005257,
           3.965387874324743,
           -3.5073385846023477,
           -4.182491229285745,
           4.859820499023321,
           -4.532833413760303,
           3.454728345485493,
           4.2642962550884835,
           3.5591976774879086,
           3.3771017754774464,
           -3.399772470048867,
           -4.606382672022665,
           -3.7370631616647434,
           4.72535430643585,
           -4.05880780427926,
           -4.117510951756699,
           4.0633341932660825,
           -3.6716178439809677,
           -3.916088387758183,
           5.314283067369891,
           3.9990333912459843,
           null,
           3.8518927960410316,
           -4.039842890836564,
           2.7787017014446156,
           -3.6803278626382623,
           2.5625739479881444,
           -4.1575391398052695,
           -4.175277733281901,
           4.060948198640805,
           3.391163774082523,
           -3.962855457184148,
           -1.2873957738316653,
           4.20604052166834,
           -4.073663316569781,
           -3.4159191727348333,
           4.397518504064193,
           -3.7249787055030588,
           -3.383289168277644,
           4.210338526783276,
           -4.3479726314201335,
           3.75042801046549,
           3.6668843951433985,
           -3.4180376049247165,
           -4.070725806683862,
           4.2569423573435525,
           -4.181691353083686,
           -4.038271610780773,
           3.802190856093457,
           3.7637632673840518,
           3.9141885013900843,
           -4.04855759537445,
           4.379412870948927,
           -4.063432689480358,
           4.4328587809601885,
           -4.045495593390229,
           -3.974784514027451,
           3.868353011086866,
           null,
           -4.054327873800335,
           4.799602019142245,
           -3.5394077096924352,
           null,
           null,
           -4.03076249772106,
           null,
           -3.8915730193807527,
           null,
           null,
           -4.175277733281901,
           4.065581680497518,
           -4.214193781550395,
           -3.843072476777489,
           3.980394902627335,
           -3.657400230649987,
           -3.522642437526549,
           -3.9183572035297107,
           4.362897231024291,
           -3.846875032769971,
           -4.045697166267312,
           4.031704631259059,
           -3.9937868822003213,
           -3.8398615873282007,
           3.978350725062377,
           -3.4191507174195452,
           -3.581539455824437,
           4.33869831143208,
           -4.18632001038316,
           3.847615479164983,
           3.983662586499575,
           2.953395582465268,
           2.892467177089931,
           -3.9990684183270924,
           -4.012345093362639,
           -4.204239755031096,
           4.276916769161572,
           -3.8720850772494435,
           -3.9862885621016373,
           3.844247701327505,
           null,
           null,
           4.913545375855555,
           3.4668864606071286,
           null,
           -3.7430886122918654,
           null,
           null,
           null,
           -3.846084406015679,
           null,
           -4.135067798814264,
           -2.343401016994561,
           -3.4135213030361555,
           -3.872559532334805,
           -3.701639225318584,
           3.8909571571173025,
           -3.8646048721148016,
           -3.540036819475131,
           3.409276003588691,
           -3.5171698383073764,
           4.596846813738839,
           4.149726659823534,
           -4.273781867464589,
           -2.875883033281004,
           3.549725339402645,
           -2.61900273197419,
           -4.193474698897745,
           4.12219196829691,
           -4.361618126542926,
           3.1051353601525173,
           4.028269620528051,
           3.3280344694651247,
           3.7817083494625567,
           -4.077555906440851,
           -4.417147455429447,
           -4.221330505832396,
           4.339429184812322,
           -3.9757561842712494,
           null,
           3.864065736153531,
           -3.963481343494013,
           -4.0278847027343705,
           4.7482777398191995,
           -3.3112560153783788,
           null,
           null,
           -4.006076065763065,
           -3.8536132075155076,
           null,
           null,
           null,
           -3.8451143562310004,
           3.627422541061456,
           0,
           3.4103868036116185,
           -2.091993692333421,
           3.8680202866588953,
           -1.617592507184238,
           -4.038500652746004,
           4.368108272062507,
           -3.3949105623573987,
           -0.35396222271659417,
           -3.2369573409583756,
           -3.7534941777405746,
           3.557126977705885,
           -2.721596909142502,
           -3.675983053948823,
           -3.767934276092088,
           3.854835754174928,
           -3.839710940765897,
           -3.9874625211744856,
           4.360685344222853,
           -2.8701033330479815,
           3.8082071647636133,
           -4.1765173991212965,
           -3.0857840444204974,
           2.4352087251101757,
           4.315236982825145,
           -4.273331286951543,
           2.9387531804835723,
           4.484349545372993,
           -3.865980936395937,
           -3.942593029562862,
           4.923801348202836,
           4.632057177501909,
           null,
           -3.9977074371944044,
           -4.024150168774558,
           -3.6327253725613033,
           4.784291761972277,
           4.422075533811992,
           3.9356842893639863,
           -4.174830237640141,
           4.065581680497518,
           -4.10650211063187,
           2.4489736648399387,
           3.980651589724436,
           4.206036154213894,
           -3.872596117843497,
           -4.030067132511069,
           4.368111922261619,
           -4.021740800708311,
           -4.131533467222209,
           4.030739709986543,
           -4.353255589979808,
           -3.7646587541318732,
           4.012140768379185,
           3.972053420618005,
           -4.666878210896164,
           -4.4234648803714265,
           -4.050816730025003,
           3.7211707839574726,
           4.041810612254254,
           3.844455595833383,
           -3.5585171346719995,
           -4.196743976110852,
           3.8272126091879723,
           -4.520860964659395,
           4.832185646338328,
           4.374551367076899,
           -4.41953666156055,
           4.111241978451213,
           3.693320368290393,
           -3.647368161630198,
           5.182534151463925,
           4.396862754391319,
           null,
           -3.216856354258114,
           2.8929244491138895,
           -3.79014326030556,
           3.9968003533150798,
           -3.7274388530238944,
           -3.0527548655281134,
           -4.175277733281901,
           4.065581680497518,
           -4.10650211063187,
           -3.101219474336041,
           -3.8782049949867825,
           3.835687549008173,
           -4.021457158472069,
           3.430084836150233,
           -4.216872286529505,
           -3.531959822115823,
           -3.330444690272572,
           3.940237780320196,
           -3.891796660594498,
           2.9855596832581095,
           3.8006678777759464,
           -3.9886407714278684,
           -3.6246031307342603,
           3.9829720312819408,
           -4.147638390431026,
           3.728573003294817,
           3.7953779659240707,
           -2.9975351798143928,
           4.045127797715608,
           -4.218611602725511,
           -4.242185604328061,
           -4.511311942009603,
           4.705458086545394,
           3.9734510703189008,
           0.471966888886727,
           4.2812108475880954,
           -3.5683173269512602,
           -3.706203222790054,
           4.985421393239019,
           -3.874870862318869,
           null,
           3.767032615307737,
           -2.8246596623449007,
           -3.147679131496841,
           3.489154623810418,
           3.2893129912909966,
           -3.907363838865974
          ],
          "coloraxis": "coloraxis",
          "symbol": "circle"
         },
         "mode": "markers",
         "name": "",
         "scene": "scene",
         "showlegend": false,
         "type": "scatter3d",
         "x": [
          20,
          30,
          40,
          50,
          60,
          70,
          80,
          90,
          20,
          30,
          40,
          50,
          60,
          70,
          80,
          90,
          20,
          30,
          40,
          50,
          60,
          70,
          80,
          90,
          20,
          30,
          40,
          50,
          60,
          70,
          80,
          90,
          40,
          50,
          60,
          70,
          80,
          90,
          70,
          80,
          90,
          20,
          30,
          40,
          50,
          60,
          70,
          80,
          90,
          20,
          30,
          40,
          50,
          60,
          70,
          80,
          90,
          20,
          30,
          40,
          50,
          60,
          70,
          80,
          90,
          20,
          30,
          40,
          50,
          60,
          70,
          80,
          90,
          40,
          50,
          60,
          70,
          80,
          90,
          70,
          80,
          90,
          20,
          30,
          40,
          50,
          60,
          70,
          80,
          90,
          20,
          30,
          40,
          50,
          60,
          70,
          80,
          90,
          20,
          30,
          40,
          50,
          60,
          70,
          80,
          90,
          20,
          30,
          40,
          50,
          60,
          70,
          80,
          90,
          40,
          50,
          60,
          70,
          80,
          90,
          70,
          80,
          90,
          20,
          30,
          40,
          50,
          60,
          70,
          80,
          90,
          20,
          30,
          40,
          50,
          60,
          70,
          80,
          90,
          20,
          30,
          40,
          50,
          60,
          70,
          80,
          90,
          20,
          30,
          40,
          50,
          60,
          70,
          80,
          90,
          40,
          50,
          60,
          70,
          80,
          90,
          70,
          80,
          90,
          20,
          30,
          40,
          50,
          60,
          70,
          80,
          90,
          20,
          30,
          40,
          50,
          60,
          70,
          80,
          90,
          20,
          30,
          40,
          50,
          60,
          70,
          80,
          90,
          20,
          30,
          40,
          50,
          60,
          70,
          80,
          90,
          40,
          50,
          60,
          70,
          80,
          90,
          70,
          80,
          90,
          20,
          30,
          40,
          50,
          60,
          70,
          80,
          90,
          20,
          30,
          40,
          50,
          60,
          70,
          80,
          90,
          20,
          30,
          40,
          50,
          60,
          70,
          80,
          90,
          20,
          30,
          40,
          50,
          60,
          70,
          80,
          90,
          40,
          50,
          60,
          70,
          80,
          90,
          70,
          80,
          90,
          20,
          30,
          40,
          50,
          60,
          70,
          80,
          90,
          20,
          30,
          40,
          50,
          60,
          70,
          80,
          90,
          20,
          30,
          40,
          50,
          60,
          70,
          80,
          90,
          20,
          30,
          40,
          50,
          60,
          70,
          80,
          90,
          40,
          50,
          60,
          70,
          80,
          90,
          70,
          80,
          90,
          20,
          30,
          40,
          50,
          60,
          70,
          80,
          90,
          20,
          30,
          40,
          50,
          60,
          70,
          80,
          90,
          20,
          30,
          40,
          50,
          60,
          70,
          80,
          90,
          20,
          30,
          40,
          50,
          60,
          70,
          80,
          90,
          40,
          50,
          60,
          70,
          80,
          90,
          70,
          80,
          90,
          20,
          30,
          40,
          50,
          60,
          70,
          80,
          90,
          20,
          30,
          40,
          50,
          60,
          70,
          80,
          90,
          20,
          30,
          40,
          50,
          60,
          70,
          80,
          90,
          20,
          30,
          40,
          50,
          60,
          70,
          80,
          90,
          40,
          50,
          60,
          70,
          80,
          90,
          70,
          80,
          90
         ],
         "y": [
          2,
          2,
          2,
          2,
          2,
          2,
          2,
          2,
          4,
          4,
          4,
          4,
          4,
          4,
          4,
          4,
          8,
          8,
          8,
          8,
          8,
          8,
          8,
          8,
          16,
          16,
          16,
          16,
          16,
          16,
          16,
          16,
          32,
          32,
          32,
          32,
          32,
          32,
          64,
          64,
          64,
          2,
          2,
          2,
          2,
          2,
          2,
          2,
          2,
          4,
          4,
          4,
          4,
          4,
          4,
          4,
          4,
          8,
          8,
          8,
          8,
          8,
          8,
          8,
          8,
          16,
          16,
          16,
          16,
          16,
          16,
          16,
          16,
          32,
          32,
          32,
          32,
          32,
          32,
          64,
          64,
          64,
          2,
          2,
          2,
          2,
          2,
          2,
          2,
          2,
          4,
          4,
          4,
          4,
          4,
          4,
          4,
          4,
          8,
          8,
          8,
          8,
          8,
          8,
          8,
          8,
          16,
          16,
          16,
          16,
          16,
          16,
          16,
          16,
          32,
          32,
          32,
          32,
          32,
          32,
          64,
          64,
          64,
          2,
          2,
          2,
          2,
          2,
          2,
          2,
          2,
          4,
          4,
          4,
          4,
          4,
          4,
          4,
          4,
          8,
          8,
          8,
          8,
          8,
          8,
          8,
          8,
          16,
          16,
          16,
          16,
          16,
          16,
          16,
          16,
          32,
          32,
          32,
          32,
          32,
          32,
          64,
          64,
          64,
          2,
          2,
          2,
          2,
          2,
          2,
          2,
          2,
          4,
          4,
          4,
          4,
          4,
          4,
          4,
          4,
          8,
          8,
          8,
          8,
          8,
          8,
          8,
          8,
          16,
          16,
          16,
          16,
          16,
          16,
          16,
          16,
          32,
          32,
          32,
          32,
          32,
          32,
          64,
          64,
          64,
          2,
          2,
          2,
          2,
          2,
          2,
          2,
          2,
          4,
          4,
          4,
          4,
          4,
          4,
          4,
          4,
          8,
          8,
          8,
          8,
          8,
          8,
          8,
          8,
          16,
          16,
          16,
          16,
          16,
          16,
          16,
          16,
          32,
          32,
          32,
          32,
          32,
          32,
          64,
          64,
          64,
          2,
          2,
          2,
          2,
          2,
          2,
          2,
          2,
          4,
          4,
          4,
          4,
          4,
          4,
          4,
          4,
          8,
          8,
          8,
          8,
          8,
          8,
          8,
          8,
          16,
          16,
          16,
          16,
          16,
          16,
          16,
          16,
          32,
          32,
          32,
          32,
          32,
          32,
          64,
          64,
          64,
          2,
          2,
          2,
          2,
          2,
          2,
          2,
          2,
          4,
          4,
          4,
          4,
          4,
          4,
          4,
          4,
          8,
          8,
          8,
          8,
          8,
          8,
          8,
          8,
          16,
          16,
          16,
          16,
          16,
          16,
          16,
          16,
          32,
          32,
          32,
          32,
          32,
          32,
          64,
          64,
          64,
          2,
          2,
          2,
          2,
          2,
          2,
          2,
          2,
          4,
          4,
          4,
          4,
          4,
          4,
          4,
          4,
          8,
          8,
          8,
          8,
          8,
          8,
          8,
          8,
          16,
          16,
          16,
          16,
          16,
          16,
          16,
          16,
          32,
          32,
          32,
          32,
          32,
          32,
          64,
          64,
          64
         ],
         "z": [
          "BI_BACK",
          "BI_BACK",
          "BI_BACK",
          "BI_BACK",
          "BI_BACK",
          "BI_BACK",
          "BI_BACK",
          "BI_BACK",
          "BI_BACK",
          "BI_BACK",
          "BI_BACK",
          "BI_BACK",
          "BI_BACK",
          "BI_BACK",
          "BI_BACK",
          "BI_BACK",
          "BI_BACK",
          "BI_BACK",
          "BI_BACK",
          "BI_BACK",
          "BI_BACK",
          "BI_BACK",
          "BI_BACK",
          "BI_BACK",
          "BI_BACK",
          "BI_BACK",
          "BI_BACK",
          "BI_BACK",
          "BI_BACK",
          "BI_BACK",
          "BI_BACK",
          "BI_BACK",
          "BI_BACK",
          "BI_BACK",
          "BI_BACK",
          "BI_BACK",
          "BI_BACK",
          "BI_BACK",
          "BI_BACK",
          "BI_BACK",
          "BI_BACK",
          "BI_CURR",
          "BI_CURR",
          "BI_CURR",
          "BI_CURR",
          "BI_CURR",
          "BI_CURR",
          "BI_CURR",
          "BI_CURR",
          "BI_CURR",
          "BI_CURR",
          "BI_CURR",
          "BI_CURR",
          "BI_CURR",
          "BI_CURR",
          "BI_CURR",
          "BI_CURR",
          "BI_CURR",
          "BI_CURR",
          "BI_CURR",
          "BI_CURR",
          "BI_CURR",
          "BI_CURR",
          "BI_CURR",
          "BI_CURR",
          "BI_CURR",
          "BI_CURR",
          "BI_CURR",
          "BI_CURR",
          "BI_CURR",
          "BI_CURR",
          "BI_CURR",
          "BI_CURR",
          "BI_CURR",
          "BI_CURR",
          "BI_CURR",
          "BI_CURR",
          "BI_CURR",
          "BI_CURR",
          "BI_CURR",
          "BI_CURR",
          "BI_CURR",
          "BI_RANDOM",
          "BI_RANDOM",
          "BI_RANDOM",
          "BI_RANDOM",
          "BI_RANDOM",
          "BI_RANDOM",
          "BI_RANDOM",
          "BI_RANDOM",
          "BI_RANDOM",
          "BI_RANDOM",
          "BI_RANDOM",
          "BI_RANDOM",
          "BI_RANDOM",
          "BI_RANDOM",
          "BI_RANDOM",
          "BI_RANDOM",
          "BI_RANDOM",
          "BI_RANDOM",
          "BI_RANDOM",
          "BI_RANDOM",
          "BI_RANDOM",
          "BI_RANDOM",
          "BI_RANDOM",
          "BI_RANDOM",
          "BI_RANDOM",
          "BI_RANDOM",
          "BI_RANDOM",
          "BI_RANDOM",
          "BI_RANDOM",
          "BI_RANDOM",
          "BI_RANDOM",
          "BI_RANDOM",
          "BI_RANDOM",
          "BI_RANDOM",
          "BI_RANDOM",
          "BI_RANDOM",
          "BI_RANDOM",
          "BI_RANDOM",
          "BI_RANDOM",
          "BI_RANDOM",
          "BI_RANDOM",
          "DI_BACK",
          "DI_BACK",
          "DI_BACK",
          "DI_BACK",
          "DI_BACK",
          "DI_BACK",
          "DI_BACK",
          "DI_BACK",
          "DI_BACK",
          "DI_BACK",
          "DI_BACK",
          "DI_BACK",
          "DI_BACK",
          "DI_BACK",
          "DI_BACK",
          "DI_BACK",
          "DI_BACK",
          "DI_BACK",
          "DI_BACK",
          "DI_BACK",
          "DI_BACK",
          "DI_BACK",
          "DI_BACK",
          "DI_BACK",
          "DI_BACK",
          "DI_BACK",
          "DI_BACK",
          "DI_BACK",
          "DI_BACK",
          "DI_BACK",
          "DI_BACK",
          "DI_BACK",
          "DI_BACK",
          "DI_BACK",
          "DI_BACK",
          "DI_BACK",
          "DI_BACK",
          "DI_BACK",
          "DI_BACK",
          "DI_BACK",
          "DI_BACK",
          "DI_CURR",
          "DI_CURR",
          "DI_CURR",
          "DI_CURR",
          "DI_CURR",
          "DI_CURR",
          "DI_CURR",
          "DI_CURR",
          "DI_CURR",
          "DI_CURR",
          "DI_CURR",
          "DI_CURR",
          "DI_CURR",
          "DI_CURR",
          "DI_CURR",
          "DI_CURR",
          "DI_CURR",
          "DI_CURR",
          "DI_CURR",
          "DI_CURR",
          "DI_CURR",
          "DI_CURR",
          "DI_CURR",
          "DI_CURR",
          "DI_CURR",
          "DI_CURR",
          "DI_CURR",
          "DI_CURR",
          "DI_CURR",
          "DI_CURR",
          "DI_CURR",
          "DI_CURR",
          "DI_CURR",
          "DI_CURR",
          "DI_CURR",
          "DI_CURR",
          "DI_CURR",
          "DI_CURR",
          "DI_CURR",
          "DI_CURR",
          "DI_CURR",
          "DI_RANDOM",
          "DI_RANDOM",
          "DI_RANDOM",
          "DI_RANDOM",
          "DI_RANDOM",
          "DI_RANDOM",
          "DI_RANDOM",
          "DI_RANDOM",
          "DI_RANDOM",
          "DI_RANDOM",
          "DI_RANDOM",
          "DI_RANDOM",
          "DI_RANDOM",
          "DI_RANDOM",
          "DI_RANDOM",
          "DI_RANDOM",
          "DI_RANDOM",
          "DI_RANDOM",
          "DI_RANDOM",
          "DI_RANDOM",
          "DI_RANDOM",
          "DI_RANDOM",
          "DI_RANDOM",
          "DI_RANDOM",
          "DI_RANDOM",
          "DI_RANDOM",
          "DI_RANDOM",
          "DI_RANDOM",
          "DI_RANDOM",
          "DI_RANDOM",
          "DI_RANDOM",
          "DI_RANDOM",
          "DI_RANDOM",
          "DI_RANDOM",
          "DI_RANDOM",
          "DI_RANDOM",
          "DI_RANDOM",
          "DI_RANDOM",
          "DI_RANDOM",
          "DI_RANDOM",
          "DI_RANDOM",
          "FI_BACK",
          "FI_BACK",
          "FI_BACK",
          "FI_BACK",
          "FI_BACK",
          "FI_BACK",
          "FI_BACK",
          "FI_BACK",
          "FI_BACK",
          "FI_BACK",
          "FI_BACK",
          "FI_BACK",
          "FI_BACK",
          "FI_BACK",
          "FI_BACK",
          "FI_BACK",
          "FI_BACK",
          "FI_BACK",
          "FI_BACK",
          "FI_BACK",
          "FI_BACK",
          "FI_BACK",
          "FI_BACK",
          "FI_BACK",
          "FI_BACK",
          "FI_BACK",
          "FI_BACK",
          "FI_BACK",
          "FI_BACK",
          "FI_BACK",
          "FI_BACK",
          "FI_BACK",
          "FI_BACK",
          "FI_BACK",
          "FI_BACK",
          "FI_BACK",
          "FI_BACK",
          "FI_BACK",
          "FI_BACK",
          "FI_BACK",
          "FI_BACK",
          "FI_CURR",
          "FI_CURR",
          "FI_CURR",
          "FI_CURR",
          "FI_CURR",
          "FI_CURR",
          "FI_CURR",
          "FI_CURR",
          "FI_CURR",
          "FI_CURR",
          "FI_CURR",
          "FI_CURR",
          "FI_CURR",
          "FI_CURR",
          "FI_CURR",
          "FI_CURR",
          "FI_CURR",
          "FI_CURR",
          "FI_CURR",
          "FI_CURR",
          "FI_CURR",
          "FI_CURR",
          "FI_CURR",
          "FI_CURR",
          "FI_CURR",
          "FI_CURR",
          "FI_CURR",
          "FI_CURR",
          "FI_CURR",
          "FI_CURR",
          "FI_CURR",
          "FI_CURR",
          "FI_CURR",
          "FI_CURR",
          "FI_CURR",
          "FI_CURR",
          "FI_CURR",
          "FI_CURR",
          "FI_CURR",
          "FI_CURR",
          "FI_CURR",
          "FI_RANDOM",
          "FI_RANDOM",
          "FI_RANDOM",
          "FI_RANDOM",
          "FI_RANDOM",
          "FI_RANDOM",
          "FI_RANDOM",
          "FI_RANDOM",
          "FI_RANDOM",
          "FI_RANDOM",
          "FI_RANDOM",
          "FI_RANDOM",
          "FI_RANDOM",
          "FI_RANDOM",
          "FI_RANDOM",
          "FI_RANDOM",
          "FI_RANDOM",
          "FI_RANDOM",
          "FI_RANDOM",
          "FI_RANDOM",
          "FI_RANDOM",
          "FI_RANDOM",
          "FI_RANDOM",
          "FI_RANDOM",
          "FI_RANDOM",
          "FI_RANDOM",
          "FI_RANDOM",
          "FI_RANDOM",
          "FI_RANDOM",
          "FI_RANDOM",
          "FI_RANDOM",
          "FI_RANDOM",
          "FI_RANDOM",
          "FI_RANDOM",
          "FI_RANDOM",
          "FI_RANDOM",
          "FI_RANDOM",
          "FI_RANDOM",
          "FI_RANDOM",
          "FI_RANDOM",
          "FI_RANDOM"
         ]
        }
       ],
       "layout": {
        "coloraxis": {
         "cmax": 3.001,
         "cmin": -3.001,
         "colorbar": {
          "ticktext": [
           "-1E0",
           "-1E-1",
           "-1E-2",
           0,
           "1E-2",
           "1E-1",
           "1E0"
          ],
          "tickvals": [
           -3,
           -2,
           -1,
           0,
           1,
           2,
           3
          ],
          "title": {
           "text": "prct_amelioration_end_cost"
          }
         },
         "colorscale": [
          [
           0,
           "blue"
          ],
          [
           0.25,
           "cyan"
          ],
          [
           0.5,
           "green"
          ],
          [
           0.75,
           "yellow"
          ],
          [
           1,
           "red"
          ]
         ]
        },
        "height": 900,
        "legend": {
         "tracegroupgap": 0
        },
        "margin": {
         "t": 60
        },
        "scene": {
         "domain": {
          "x": [
           0,
           1
          ],
          "y": [
           0,
           1
          ]
         },
         "xaxis": {
          "title": {
           "text": "Nb. points"
          }
         },
         "yaxis": {
          "title": {
           "text": "num_clusters"
          }
         },
         "zaxis": {
          "title": {
           "text": "algorithm"
          }
         }
        },
        "template": {
         "data": {
          "bar": [
           {
            "error_x": {
             "color": "#f2f5fa"
            },
            "error_y": {
             "color": "#f2f5fa"
            },
            "marker": {
             "line": {
              "color": "rgb(17,17,17)",
              "width": 0.5
             },
             "pattern": {
              "fillmode": "overlay",
              "size": 10,
              "solidity": 0.2
             }
            },
            "type": "bar"
           }
          ],
          "barpolar": [
           {
            "marker": {
             "line": {
              "color": "rgb(17,17,17)",
              "width": 0.5
             },
             "pattern": {
              "fillmode": "overlay",
              "size": 10,
              "solidity": 0.2
             }
            },
            "type": "barpolar"
           }
          ],
          "carpet": [
           {
            "aaxis": {
             "endlinecolor": "#A2B1C6",
             "gridcolor": "#506784",
             "linecolor": "#506784",
             "minorgridcolor": "#506784",
             "startlinecolor": "#A2B1C6"
            },
            "baxis": {
             "endlinecolor": "#A2B1C6",
             "gridcolor": "#506784",
             "linecolor": "#506784",
             "minorgridcolor": "#506784",
             "startlinecolor": "#A2B1C6"
            },
            "type": "carpet"
           }
          ],
          "choropleth": [
           {
            "colorbar": {
             "outlinewidth": 0,
             "ticks": ""
            },
            "type": "choropleth"
           }
          ],
          "contour": [
           {
            "colorbar": {
             "outlinewidth": 0,
             "ticks": ""
            },
            "colorscale": [
             [
              0,
              "#0d0887"
             ],
             [
              0.1111111111111111,
              "#46039f"
             ],
             [
              0.2222222222222222,
              "#7201a8"
             ],
             [
              0.3333333333333333,
              "#9c179e"
             ],
             [
              0.4444444444444444,
              "#bd3786"
             ],
             [
              0.5555555555555556,
              "#d8576b"
             ],
             [
              0.6666666666666666,
              "#ed7953"
             ],
             [
              0.7777777777777778,
              "#fb9f3a"
             ],
             [
              0.8888888888888888,
              "#fdca26"
             ],
             [
              1,
              "#f0f921"
             ]
            ],
            "type": "contour"
           }
          ],
          "contourcarpet": [
           {
            "colorbar": {
             "outlinewidth": 0,
             "ticks": ""
            },
            "type": "contourcarpet"
           }
          ],
          "heatmap": [
           {
            "colorbar": {
             "outlinewidth": 0,
             "ticks": ""
            },
            "colorscale": [
             [
              0,
              "#0d0887"
             ],
             [
              0.1111111111111111,
              "#46039f"
             ],
             [
              0.2222222222222222,
              "#7201a8"
             ],
             [
              0.3333333333333333,
              "#9c179e"
             ],
             [
              0.4444444444444444,
              "#bd3786"
             ],
             [
              0.5555555555555556,
              "#d8576b"
             ],
             [
              0.6666666666666666,
              "#ed7953"
             ],
             [
              0.7777777777777778,
              "#fb9f3a"
             ],
             [
              0.8888888888888888,
              "#fdca26"
             ],
             [
              1,
              "#f0f921"
             ]
            ],
            "type": "heatmap"
           }
          ],
          "heatmapgl": [
           {
            "colorbar": {
             "outlinewidth": 0,
             "ticks": ""
            },
            "colorscale": [
             [
              0,
              "#0d0887"
             ],
             [
              0.1111111111111111,
              "#46039f"
             ],
             [
              0.2222222222222222,
              "#7201a8"
             ],
             [
              0.3333333333333333,
              "#9c179e"
             ],
             [
              0.4444444444444444,
              "#bd3786"
             ],
             [
              0.5555555555555556,
              "#d8576b"
             ],
             [
              0.6666666666666666,
              "#ed7953"
             ],
             [
              0.7777777777777778,
              "#fb9f3a"
             ],
             [
              0.8888888888888888,
              "#fdca26"
             ],
             [
              1,
              "#f0f921"
             ]
            ],
            "type": "heatmapgl"
           }
          ],
          "histogram": [
           {
            "marker": {
             "pattern": {
              "fillmode": "overlay",
              "size": 10,
              "solidity": 0.2
             }
            },
            "type": "histogram"
           }
          ],
          "histogram2d": [
           {
            "colorbar": {
             "outlinewidth": 0,
             "ticks": ""
            },
            "colorscale": [
             [
              0,
              "#0d0887"
             ],
             [
              0.1111111111111111,
              "#46039f"
             ],
             [
              0.2222222222222222,
              "#7201a8"
             ],
             [
              0.3333333333333333,
              "#9c179e"
             ],
             [
              0.4444444444444444,
              "#bd3786"
             ],
             [
              0.5555555555555556,
              "#d8576b"
             ],
             [
              0.6666666666666666,
              "#ed7953"
             ],
             [
              0.7777777777777778,
              "#fb9f3a"
             ],
             [
              0.8888888888888888,
              "#fdca26"
             ],
             [
              1,
              "#f0f921"
             ]
            ],
            "type": "histogram2d"
           }
          ],
          "histogram2dcontour": [
           {
            "colorbar": {
             "outlinewidth": 0,
             "ticks": ""
            },
            "colorscale": [
             [
              0,
              "#0d0887"
             ],
             [
              0.1111111111111111,
              "#46039f"
             ],
             [
              0.2222222222222222,
              "#7201a8"
             ],
             [
              0.3333333333333333,
              "#9c179e"
             ],
             [
              0.4444444444444444,
              "#bd3786"
             ],
             [
              0.5555555555555556,
              "#d8576b"
             ],
             [
              0.6666666666666666,
              "#ed7953"
             ],
             [
              0.7777777777777778,
              "#fb9f3a"
             ],
             [
              0.8888888888888888,
              "#fdca26"
             ],
             [
              1,
              "#f0f921"
             ]
            ],
            "type": "histogram2dcontour"
           }
          ],
          "mesh3d": [
           {
            "colorbar": {
             "outlinewidth": 0,
             "ticks": ""
            },
            "type": "mesh3d"
           }
          ],
          "parcoords": [
           {
            "line": {
             "colorbar": {
              "outlinewidth": 0,
              "ticks": ""
             }
            },
            "type": "parcoords"
           }
          ],
          "pie": [
           {
            "automargin": true,
            "type": "pie"
           }
          ],
          "scatter": [
           {
            "marker": {
             "line": {
              "color": "#283442"
             }
            },
            "type": "scatter"
           }
          ],
          "scatter3d": [
           {
            "line": {
             "colorbar": {
              "outlinewidth": 0,
              "ticks": ""
             }
            },
            "marker": {
             "colorbar": {
              "outlinewidth": 0,
              "ticks": ""
             }
            },
            "type": "scatter3d"
           }
          ],
          "scattercarpet": [
           {
            "marker": {
             "colorbar": {
              "outlinewidth": 0,
              "ticks": ""
             }
            },
            "type": "scattercarpet"
           }
          ],
          "scattergeo": [
           {
            "marker": {
             "colorbar": {
              "outlinewidth": 0,
              "ticks": ""
             }
            },
            "type": "scattergeo"
           }
          ],
          "scattergl": [
           {
            "marker": {
             "line": {
              "color": "#283442"
             }
            },
            "type": "scattergl"
           }
          ],
          "scattermapbox": [
           {
            "marker": {
             "colorbar": {
              "outlinewidth": 0,
              "ticks": ""
             }
            },
            "type": "scattermapbox"
           }
          ],
          "scatterpolar": [
           {
            "marker": {
             "colorbar": {
              "outlinewidth": 0,
              "ticks": ""
             }
            },
            "type": "scatterpolar"
           }
          ],
          "scatterpolargl": [
           {
            "marker": {
             "colorbar": {
              "outlinewidth": 0,
              "ticks": ""
             }
            },
            "type": "scatterpolargl"
           }
          ],
          "scatterternary": [
           {
            "marker": {
             "colorbar": {
              "outlinewidth": 0,
              "ticks": ""
             }
            },
            "type": "scatterternary"
           }
          ],
          "surface": [
           {
            "colorbar": {
             "outlinewidth": 0,
             "ticks": ""
            },
            "colorscale": [
             [
              0,
              "#0d0887"
             ],
             [
              0.1111111111111111,
              "#46039f"
             ],
             [
              0.2222222222222222,
              "#7201a8"
             ],
             [
              0.3333333333333333,
              "#9c179e"
             ],
             [
              0.4444444444444444,
              "#bd3786"
             ],
             [
              0.5555555555555556,
              "#d8576b"
             ],
             [
              0.6666666666666666,
              "#ed7953"
             ],
             [
              0.7777777777777778,
              "#fb9f3a"
             ],
             [
              0.8888888888888888,
              "#fdca26"
             ],
             [
              1,
              "#f0f921"
             ]
            ],
            "type": "surface"
           }
          ],
          "table": [
           {
            "cells": {
             "fill": {
              "color": "#506784"
             },
             "line": {
              "color": "rgb(17,17,17)"
             }
            },
            "header": {
             "fill": {
              "color": "#2a3f5f"
             },
             "line": {
              "color": "rgb(17,17,17)"
             }
            },
            "type": "table"
           }
          ]
         },
         "layout": {
          "annotationdefaults": {
           "arrowcolor": "#f2f5fa",
           "arrowhead": 0,
           "arrowwidth": 1
          },
          "autotypenumbers": "strict",
          "coloraxis": {
           "colorbar": {
            "outlinewidth": 0,
            "ticks": ""
           }
          },
          "colorscale": {
           "diverging": [
            [
             0,
             "#8e0152"
            ],
            [
             0.1,
             "#c51b7d"
            ],
            [
             0.2,
             "#de77ae"
            ],
            [
             0.3,
             "#f1b6da"
            ],
            [
             0.4,
             "#fde0ef"
            ],
            [
             0.5,
             "#f7f7f7"
            ],
            [
             0.6,
             "#e6f5d0"
            ],
            [
             0.7,
             "#b8e186"
            ],
            [
             0.8,
             "#7fbc41"
            ],
            [
             0.9,
             "#4d9221"
            ],
            [
             1,
             "#276419"
            ]
           ],
           "sequential": [
            [
             0,
             "#0d0887"
            ],
            [
             0.1111111111111111,
             "#46039f"
            ],
            [
             0.2222222222222222,
             "#7201a8"
            ],
            [
             0.3333333333333333,
             "#9c179e"
            ],
            [
             0.4444444444444444,
             "#bd3786"
            ],
            [
             0.5555555555555556,
             "#d8576b"
            ],
            [
             0.6666666666666666,
             "#ed7953"
            ],
            [
             0.7777777777777778,
             "#fb9f3a"
            ],
            [
             0.8888888888888888,
             "#fdca26"
            ],
            [
             1,
             "#f0f921"
            ]
           ],
           "sequentialminus": [
            [
             0,
             "#0d0887"
            ],
            [
             0.1111111111111111,
             "#46039f"
            ],
            [
             0.2222222222222222,
             "#7201a8"
            ],
            [
             0.3333333333333333,
             "#9c179e"
            ],
            [
             0.4444444444444444,
             "#bd3786"
            ],
            [
             0.5555555555555556,
             "#d8576b"
            ],
            [
             0.6666666666666666,
             "#ed7953"
            ],
            [
             0.7777777777777778,
             "#fb9f3a"
            ],
            [
             0.8888888888888888,
             "#fdca26"
            ],
            [
             1,
             "#f0f921"
            ]
           ]
          },
          "colorway": [
           "#636efa",
           "#EF553B",
           "#00cc96",
           "#ab63fa",
           "#FFA15A",
           "#19d3f3",
           "#FF6692",
           "#B6E880",
           "#FF97FF",
           "#FECB52"
          ],
          "font": {
           "color": "#f2f5fa"
          },
          "geo": {
           "bgcolor": "rgb(17,17,17)",
           "lakecolor": "rgb(17,17,17)",
           "landcolor": "rgb(17,17,17)",
           "showlakes": true,
           "showland": true,
           "subunitcolor": "#506784"
          },
          "hoverlabel": {
           "align": "left"
          },
          "hovermode": "closest",
          "mapbox": {
           "style": "dark"
          },
          "paper_bgcolor": "rgb(17,17,17)",
          "plot_bgcolor": "rgb(17,17,17)",
          "polar": {
           "angularaxis": {
            "gridcolor": "#506784",
            "linecolor": "#506784",
            "ticks": ""
           },
           "bgcolor": "rgb(17,17,17)",
           "radialaxis": {
            "gridcolor": "#506784",
            "linecolor": "#506784",
            "ticks": ""
           }
          },
          "scene": {
           "xaxis": {
            "backgroundcolor": "rgb(17,17,17)",
            "gridcolor": "#506784",
            "gridwidth": 2,
            "linecolor": "#506784",
            "showbackground": true,
            "ticks": "",
            "zerolinecolor": "#C8D4E3"
           },
           "yaxis": {
            "backgroundcolor": "rgb(17,17,17)",
            "gridcolor": "#506784",
            "gridwidth": 2,
            "linecolor": "#506784",
            "showbackground": true,
            "ticks": "",
            "zerolinecolor": "#C8D4E3"
           },
           "zaxis": {
            "backgroundcolor": "rgb(17,17,17)",
            "gridcolor": "#506784",
            "gridwidth": 2,
            "linecolor": "#506784",
            "showbackground": true,
            "ticks": "",
            "zerolinecolor": "#C8D4E3"
           }
          },
          "shapedefaults": {
           "line": {
            "color": "#f2f5fa"
           }
          },
          "sliderdefaults": {
           "bgcolor": "#C8D4E3",
           "bordercolor": "rgb(17,17,17)",
           "borderwidth": 1,
           "tickwidth": 0
          },
          "ternary": {
           "aaxis": {
            "gridcolor": "#506784",
            "linecolor": "#506784",
            "ticks": ""
           },
           "baxis": {
            "gridcolor": "#506784",
            "linecolor": "#506784",
            "ticks": ""
           },
           "bgcolor": "rgb(17,17,17)",
           "caxis": {
            "gridcolor": "#506784",
            "linecolor": "#506784",
            "ticks": ""
           }
          },
          "title": {
           "x": 0.05
          },
          "updatemenudefaults": {
           "bgcolor": "#506784",
           "borderwidth": 0
          },
          "xaxis": {
           "automargin": true,
           "gridcolor": "#283442",
           "linecolor": "#506784",
           "ticks": "",
           "title": {
            "standoff": 15
           },
           "zerolinecolor": "#283442",
           "zerolinewidth": 2
          },
          "yaxis": {
           "automargin": true,
           "gridcolor": "#283442",
           "linecolor": "#506784",
           "ticks": "",
           "title": {
            "standoff": 15
           },
           "zerolinecolor": "#283442",
           "zerolinewidth": 2
          }
         }
        },
        "width": 1000
       }
      }
     },
     "metadata": {},
     "output_type": "display_data"
    }
   ],
   "source": [
    "df = df_compil.query(QUERY)\n",
    "df = df.copy().reset_index()\n",
    "ticks_pow = [-2,-1,0]\n",
    "max_val = abs(min(ticks_pow))\n",
    "delta_zero = 0.001+1\n",
    "logscale = lambda x:  np.sign(x) * (1-min(ticks_pow)+np.clip(np.log10(np.abs(x+1e-16)),min(ticks_pow)-delta_zero,np.inf))\n",
    "fig = px.scatter_3d(df,x=\"Nb. points\",y=\"num_clusters\",z=\"algorithm\",color=logscale(df[COLUMN]),\n",
    "                    hover_data=[\"Nb. points\",\"num_clusters\",\"init_type\",\"algorithm\",COLUMN],\n",
    "                    color_continuous_scale=[\"red\",\"yellow\",\"green\",\"cyan\",\"blue\"][::-1],\n",
    "                    range_color=[-max_val-delta_zero,max_val+delta_zero],\n",
    "                    template=\"plotly_dark\",width=1000,height=900)\n",
    "def build(f):\n",
    "    ticks_pos = [f(1,p) for p in ticks_pow]\n",
    "    ticks_neg = [f(-1,p) for p in ticks_pow[::-1]]\n",
    "    return [*ticks_neg,logscale(0),*ticks_pos]\n",
    "def func(sign,p):\n",
    "    real_value = sign*10**p\n",
    "    return logscale(real_value)\n",
    "Lp = build(func)\n",
    "Lannot = build(lambda sign,p: \"1E\"+str(p) if sign > 0 else \"-1E\"+str(p))\n",
    "fig.update_layout(coloraxis_colorbar=dict(\n",
    "    title=COLUMN,\n",
    "    tickvals=np.round(Lp,decimals=2),\n",
    "    ticktext=Lannot,\n",
    "))\n",
    "fig.show()"
   ]
  },
  {
   "cell_type": "code",
   "execution_count": null,
   "metadata": {},
   "outputs": [],
   "source": []
  }
 ],
 "metadata": {
  "interpreter": {
   "hash": "a7a80cf5091cc3b0eca4837265a50c60c3c4b353b9419c8d484eb15b11025f30"
  },
  "kernelspec": {
   "display_name": "Python 3.8.12 (conda)",
   "language": "python",
   "name": "python3"
  },
  "language_info": {
   "codemirror_mode": {
    "name": "ipython",
    "version": 3
   },
   "file_extension": ".py",
   "mimetype": "text/x-python",
   "name": "python",
   "nbconvert_exporter": "python",
   "pygments_lexer": "ipython3",
   "version": "3.8.12"
  },
  "orig_nbformat": 4
 },
 "nbformat": 4,
 "nbformat_minor": 2
}
