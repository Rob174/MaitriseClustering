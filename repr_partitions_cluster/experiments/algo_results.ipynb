{
 "cells": [
  {
   "cell_type": "markdown",
   "metadata": {},
   "source": []
  },
  {
   "cell_type": "code",
   "execution_count": 169,
   "metadata": {},
   "outputs": [
    {
     "name": "stdout",
     "output_type": "stream",
     "text": [
      "C:\\Users\\robin\\Documents\\Cours\\Poly\\Recherche\\MaitriseClustering\\data\\algos_results.csv\n"
     ]
    }
   ],
   "source": [
    "\n",
    "import pandas as pd\n",
    "import numpy as np\n",
    "from pathlib import Path\n",
    "from IPython.display import display, HTML\n",
    "import plotly.express as px\n",
    "import dataframe_image as dfi\n",
    "pd.options.mode.chained_assignment = 'warn'  # default=\n",
    "pd.options.plotting.backend = \"plotly\"\n",
    "PATH_CACHE = Path(\"../../data/algos_results.csv\").resolve()\n",
    "print(PATH_CACHE)\n",
    "pd.set_option('display.max_columns', None)  "
   ]
  },
  {
   "cell_type": "code",
   "execution_count": 176,
   "metadata": {},
   "outputs": [
    {
     "data": {
      "text/html": [
       "<div>\n",
       "<style scoped>\n",
       "    .dataframe tbody tr th:only-of-type {\n",
       "        vertical-align: middle;\n",
       "    }\n",
       "\n",
       "    .dataframe tbody tr th {\n",
       "        vertical-align: top;\n",
       "    }\n",
       "\n",
       "    .dataframe thead tr th {\n",
       "        text-align: left;\n",
       "    }\n",
       "\n",
       "    .dataframe thead tr:last-of-type th {\n",
       "        text-align: right;\n",
       "    }\n",
       "</style>\n",
       "<table border=\"1\" class=\"dataframe\">\n",
       "  <thead>\n",
       "    <tr>\n",
       "      <th></th>\n",
       "      <th colspan=\"11\" halign=\"left\">4 clusters</th>\n",
       "      <th colspan=\"11\" halign=\"left\">8 clusters</th>\n",
       "    </tr>\n",
       "    <tr>\n",
       "      <th></th>\n",
       "      <th colspan=\"2\" halign=\"left\">BI_BACK</th>\n",
       "      <th colspan=\"3\" halign=\"left\">FI_CURR</th>\n",
       "      <th colspan=\"3\" halign=\"left\">FI_BACK</th>\n",
       "      <th colspan=\"3\" halign=\"left\">FI_RANDOM</th>\n",
       "      <th colspan=\"2\" halign=\"left\">BI_BACK</th>\n",
       "      <th colspan=\"3\" halign=\"left\">FI_CURR</th>\n",
       "      <th colspan=\"3\" halign=\"left\">FI_BACK</th>\n",
       "      <th colspan=\"3\" halign=\"left\">FI_RANDOM</th>\n",
       "    </tr>\n",
       "    <tr>\n",
       "      <th></th>\n",
       "      <th>init_cost</th>\n",
       "      <th>end_cost</th>\n",
       "      <th>init_cost</th>\n",
       "      <th>end_cost</th>\n",
       "      <th>cost_augm</th>\n",
       "      <th>init_cost</th>\n",
       "      <th>end_cost</th>\n",
       "      <th>cost_augm</th>\n",
       "      <th>init_cost</th>\n",
       "      <th>end_cost</th>\n",
       "      <th>cost_augm</th>\n",
       "      <th>init_cost</th>\n",
       "      <th>end_cost</th>\n",
       "      <th>init_cost</th>\n",
       "      <th>end_cost</th>\n",
       "      <th>cost_augm</th>\n",
       "      <th>init_cost</th>\n",
       "      <th>end_cost</th>\n",
       "      <th>cost_augm</th>\n",
       "      <th>init_cost</th>\n",
       "      <th>end_cost</th>\n",
       "      <th>cost_augm</th>\n",
       "    </tr>\n",
       "    <tr>\n",
       "      <th>num_points</th>\n",
       "      <th></th>\n",
       "      <th></th>\n",
       "      <th></th>\n",
       "      <th></th>\n",
       "      <th></th>\n",
       "      <th></th>\n",
       "      <th></th>\n",
       "      <th></th>\n",
       "      <th></th>\n",
       "      <th></th>\n",
       "      <th></th>\n",
       "      <th></th>\n",
       "      <th></th>\n",
       "      <th></th>\n",
       "      <th></th>\n",
       "      <th></th>\n",
       "      <th></th>\n",
       "      <th></th>\n",
       "      <th></th>\n",
       "      <th></th>\n",
       "      <th></th>\n",
       "      <th></th>\n",
       "    </tr>\n",
       "  </thead>\n",
       "  <tbody>\n",
       "    <tr>\n",
       "      <th>20</th>\n",
       "      <td>8983.228952</td>\n",
       "      <td>5666.104084</td>\n",
       "      <td>8983.228952</td>\n",
       "      <td>5708.917922</td>\n",
       "      <td>42.813838</td>\n",
       "      <td>8983.228952</td>\n",
       "      <td>5713.990093</td>\n",
       "      <td>47.886009</td>\n",
       "      <td>8983.228952</td>\n",
       "      <td>5716.541750</td>\n",
       "      <td>50.437666</td>\n",
       "      <td>3489.819105</td>\n",
       "      <td>1845.740767</td>\n",
       "      <td>3489.819105</td>\n",
       "      <td>1905.375321</td>\n",
       "      <td>59.634554</td>\n",
       "      <td>3489.819105</td>\n",
       "      <td>1906.406861</td>\n",
       "      <td>60.666094</td>\n",
       "      <td>3489.819105</td>\n",
       "      <td>1908.470152</td>\n",
       "      <td>62.729384</td>\n",
       "    </tr>\n",
       "    <tr>\n",
       "      <th>30</th>\n",
       "      <td>15947.727810</td>\n",
       "      <td>9191.637699</td>\n",
       "      <td>15947.727810</td>\n",
       "      <td>9271.308567</td>\n",
       "      <td>79.670867</td>\n",
       "      <td>15947.727810</td>\n",
       "      <td>9271.308565</td>\n",
       "      <td>79.670866</td>\n",
       "      <td>15947.727810</td>\n",
       "      <td>9271.308566</td>\n",
       "      <td>79.670867</td>\n",
       "      <td>7606.568303</td>\n",
       "      <td>3989.666723</td>\n",
       "      <td>7606.568303</td>\n",
       "      <td>4000.296804</td>\n",
       "      <td>10.630082</td>\n",
       "      <td>7606.568303</td>\n",
       "      <td>3997.765533</td>\n",
       "      <td>8.098810</td>\n",
       "      <td>7606.568303</td>\n",
       "      <td>4001.270119</td>\n",
       "      <td>11.603396</td>\n",
       "    </tr>\n",
       "    <tr>\n",
       "      <th>40</th>\n",
       "      <td>24062.430269</td>\n",
       "      <td>14652.902367</td>\n",
       "      <td>24062.430269</td>\n",
       "      <td>14647.878613</td>\n",
       "      <td>-5.023754</td>\n",
       "      <td>24062.430269</td>\n",
       "      <td>14656.341074</td>\n",
       "      <td>3.438707</td>\n",
       "      <td>24062.430269</td>\n",
       "      <td>14665.506216</td>\n",
       "      <td>12.603849</td>\n",
       "      <td>12658.359175</td>\n",
       "      <td>6233.574676</td>\n",
       "      <td>12658.359175</td>\n",
       "      <td>6178.820095</td>\n",
       "      <td>-54.754581</td>\n",
       "      <td>12658.359175</td>\n",
       "      <td>6191.894092</td>\n",
       "      <td>-41.680584</td>\n",
       "      <td>12658.359175</td>\n",
       "      <td>6190.743093</td>\n",
       "      <td>-42.831583</td>\n",
       "    </tr>\n",
       "    <tr>\n",
       "      <th>50</th>\n",
       "      <td>30751.879945</td>\n",
       "      <td>18844.731802</td>\n",
       "      <td>30751.879945</td>\n",
       "      <td>18695.749330</td>\n",
       "      <td>-148.982471</td>\n",
       "      <td>30751.879945</td>\n",
       "      <td>18702.612748</td>\n",
       "      <td>-142.119054</td>\n",
       "      <td>30751.879945</td>\n",
       "      <td>18687.750081</td>\n",
       "      <td>-156.981721</td>\n",
       "      <td>17286.611220</td>\n",
       "      <td>8700.293555</td>\n",
       "      <td>17286.611220</td>\n",
       "      <td>8561.910829</td>\n",
       "      <td>-138.382726</td>\n",
       "      <td>17286.611220</td>\n",
       "      <td>8557.949586</td>\n",
       "      <td>-142.343969</td>\n",
       "      <td>17286.611220</td>\n",
       "      <td>8553.919495</td>\n",
       "      <td>-146.374060</td>\n",
       "    </tr>\n",
       "    <tr>\n",
       "      <th>60</th>\n",
       "      <td>36319.875562</td>\n",
       "      <td>22199.490576</td>\n",
       "      <td>36319.875562</td>\n",
       "      <td>22162.996923</td>\n",
       "      <td>-36.493653</td>\n",
       "      <td>36319.875562</td>\n",
       "      <td>22161.020119</td>\n",
       "      <td>-38.470457</td>\n",
       "      <td>36319.875562</td>\n",
       "      <td>22167.579978</td>\n",
       "      <td>-31.910598</td>\n",
       "      <td>21571.692702</td>\n",
       "      <td>10927.631942</td>\n",
       "      <td>21571.692702</td>\n",
       "      <td>10431.772171</td>\n",
       "      <td>-495.859772</td>\n",
       "      <td>21571.692702</td>\n",
       "      <td>10455.116078</td>\n",
       "      <td>-472.515864</td>\n",
       "      <td>21571.692702</td>\n",
       "      <td>10436.501849</td>\n",
       "      <td>-491.130094</td>\n",
       "    </tr>\n",
       "    <tr>\n",
       "      <th>70</th>\n",
       "      <td>44098.577466</td>\n",
       "      <td>28808.300117</td>\n",
       "      <td>44098.577466</td>\n",
       "      <td>28414.490180</td>\n",
       "      <td>-393.809937</td>\n",
       "      <td>44098.577466</td>\n",
       "      <td>28414.509838</td>\n",
       "      <td>-393.790279</td>\n",
       "      <td>44098.577466</td>\n",
       "      <td>28403.214887</td>\n",
       "      <td>-405.085230</td>\n",
       "      <td>26887.838907</td>\n",
       "      <td>12657.740678</td>\n",
       "      <td>26887.838907</td>\n",
       "      <td>12524.753321</td>\n",
       "      <td>-132.987357</td>\n",
       "      <td>26887.838907</td>\n",
       "      <td>12497.626232</td>\n",
       "      <td>-160.114446</td>\n",
       "      <td>26887.838907</td>\n",
       "      <td>12490.285104</td>\n",
       "      <td>-167.455574</td>\n",
       "    </tr>\n",
       "    <tr>\n",
       "      <th>80</th>\n",
       "      <td>49739.737326</td>\n",
       "      <td>32074.180727</td>\n",
       "      <td>49739.737326</td>\n",
       "      <td>31827.106213</td>\n",
       "      <td>-247.074513</td>\n",
       "      <td>49739.737326</td>\n",
       "      <td>31815.489026</td>\n",
       "      <td>-258.691701</td>\n",
       "      <td>49739.737326</td>\n",
       "      <td>31815.851886</td>\n",
       "      <td>-258.328840</td>\n",
       "      <td>30635.349981</td>\n",
       "      <td>14490.125038</td>\n",
       "      <td>30635.349981</td>\n",
       "      <td>14255.325561</td>\n",
       "      <td>-234.799478</td>\n",
       "      <td>30635.349981</td>\n",
       "      <td>14216.284648</td>\n",
       "      <td>-273.840391</td>\n",
       "      <td>30635.349981</td>\n",
       "      <td>14227.549853</td>\n",
       "      <td>-262.575185</td>\n",
       "    </tr>\n",
       "    <tr>\n",
       "      <th>90</th>\n",
       "      <td>58292.689820</td>\n",
       "      <td>37262.165567</td>\n",
       "      <td>58292.689820</td>\n",
       "      <td>37148.989520</td>\n",
       "      <td>-113.176047</td>\n",
       "      <td>58292.689820</td>\n",
       "      <td>37148.989499</td>\n",
       "      <td>-113.176068</td>\n",
       "      <td>58292.689820</td>\n",
       "      <td>37148.989648</td>\n",
       "      <td>-113.175920</td>\n",
       "      <td>36406.312258</td>\n",
       "      <td>16914.089003</td>\n",
       "      <td>36406.312258</td>\n",
       "      <td>16886.473945</td>\n",
       "      <td>-27.615058</td>\n",
       "      <td>36406.312258</td>\n",
       "      <td>16894.899648</td>\n",
       "      <td>-19.189355</td>\n",
       "      <td>36406.312258</td>\n",
       "      <td>16902.076101</td>\n",
       "      <td>-12.012901</td>\n",
       "    </tr>\n",
       "    <tr>\n",
       "      <th>100</th>\n",
       "      <td>65484.981246</td>\n",
       "      <td>42090.919486</td>\n",
       "      <td>65484.981246</td>\n",
       "      <td>42089.270929</td>\n",
       "      <td>-1.648557</td>\n",
       "      <td>65484.981246</td>\n",
       "      <td>42073.397762</td>\n",
       "      <td>-17.521724</td>\n",
       "      <td>65484.981246</td>\n",
       "      <td>42073.397691</td>\n",
       "      <td>-17.521795</td>\n",
       "      <td>41184.420297</td>\n",
       "      <td>19395.483381</td>\n",
       "      <td>41184.420297</td>\n",
       "      <td>18872.270076</td>\n",
       "      <td>-523.213305</td>\n",
       "      <td>41184.420297</td>\n",
       "      <td>18880.442173</td>\n",
       "      <td>-515.041208</td>\n",
       "      <td>41184.420297</td>\n",
       "      <td>18882.249101</td>\n",
       "      <td>-513.234280</td>\n",
       "    </tr>\n",
       "  </tbody>\n",
       "</table>\n",
       "</div>"
      ],
      "text/plain": [
       "              4 clusters                                            \\\n",
       "                 BI_BACK                     FI_CURR                 \n",
       "               init_cost      end_cost     init_cost      end_cost   \n",
       "num_points                                                           \n",
       "20           8983.228952   5666.104084   8983.228952   5708.917922   \n",
       "30          15947.727810   9191.637699  15947.727810   9271.308567   \n",
       "40          24062.430269  14652.902367  24062.430269  14647.878613   \n",
       "50          30751.879945  18844.731802  30751.879945  18695.749330   \n",
       "60          36319.875562  22199.490576  36319.875562  22162.996923   \n",
       "70          44098.577466  28808.300117  44098.577466  28414.490180   \n",
       "80          49739.737326  32074.180727  49739.737326  31827.106213   \n",
       "90          58292.689820  37262.165567  58292.689820  37148.989520   \n",
       "100         65484.981246  42090.919486  65484.981246  42089.270929   \n",
       "\n",
       "                                                                              \\\n",
       "                             FI_BACK                               FI_RANDOM   \n",
       "             cost_augm     init_cost      end_cost   cost_augm     init_cost   \n",
       "num_points                                                                     \n",
       "20           42.813838   8983.228952   5713.990093   47.886009   8983.228952   \n",
       "30           79.670867  15947.727810   9271.308565   79.670866  15947.727810   \n",
       "40           -5.023754  24062.430269  14656.341074    3.438707  24062.430269   \n",
       "50         -148.982471  30751.879945  18702.612748 -142.119054  30751.879945   \n",
       "60          -36.493653  36319.875562  22161.020119  -38.470457  36319.875562   \n",
       "70         -393.809937  44098.577466  28414.509838 -393.790279  44098.577466   \n",
       "80         -247.074513  49739.737326  31815.489026 -258.691701  49739.737326   \n",
       "90         -113.176047  58292.689820  37148.989499 -113.176068  58292.689820   \n",
       "100          -1.648557  65484.981246  42073.397762  -17.521724  65484.981246   \n",
       "\n",
       "                                        8 clusters                \\\n",
       "                                           BI_BACK                 \n",
       "                end_cost   cost_augm     init_cost      end_cost   \n",
       "num_points                                                         \n",
       "20           5716.541750   50.437666   3489.819105   1845.740767   \n",
       "30           9271.308566   79.670867   7606.568303   3989.666723   \n",
       "40          14665.506216   12.603849  12658.359175   6233.574676   \n",
       "50          18687.750081 -156.981721  17286.611220   8700.293555   \n",
       "60          22167.579978  -31.910598  21571.692702  10927.631942   \n",
       "70          28403.214887 -405.085230  26887.838907  12657.740678   \n",
       "80          31815.851886 -258.328840  30635.349981  14490.125038   \n",
       "90          37148.989648 -113.175920  36406.312258  16914.089003   \n",
       "100         42073.397691  -17.521795  41184.420297  19395.483381   \n",
       "\n",
       "                                                                  \\\n",
       "                 FI_CURR                                 FI_BACK   \n",
       "               init_cost      end_cost   cost_augm     init_cost   \n",
       "num_points                                                         \n",
       "20           3489.819105   1905.375321   59.634554   3489.819105   \n",
       "30           7606.568303   4000.296804   10.630082   7606.568303   \n",
       "40          12658.359175   6178.820095  -54.754581  12658.359175   \n",
       "50          17286.611220   8561.910829 -138.382726  17286.611220   \n",
       "60          21571.692702  10431.772171 -495.859772  21571.692702   \n",
       "70          26887.838907  12524.753321 -132.987357  26887.838907   \n",
       "80          30635.349981  14255.325561 -234.799478  30635.349981   \n",
       "90          36406.312258  16886.473945  -27.615058  36406.312258   \n",
       "100         41184.420297  18872.270076 -523.213305  41184.420297   \n",
       "\n",
       "                                                                              \n",
       "                                         FI_RANDOM                            \n",
       "                end_cost   cost_augm     init_cost      end_cost   cost_augm  \n",
       "num_points                                                                    \n",
       "20           1906.406861   60.666094   3489.819105   1908.470152   62.729384  \n",
       "30           3997.765533    8.098810   7606.568303   4001.270119   11.603396  \n",
       "40           6191.894092  -41.680584  12658.359175   6190.743093  -42.831583  \n",
       "50           8557.949586 -142.343969  17286.611220   8553.919495 -146.374060  \n",
       "60          10455.116078 -472.515864  21571.692702  10436.501849 -491.130094  \n",
       "70          12497.626232 -160.114446  26887.838907  12490.285104 -167.455574  \n",
       "80          14216.284648 -273.840391  30635.349981  14227.549853 -262.575185  \n",
       "90          16894.899648  -19.189355  36406.312258  16902.076101  -12.012901  \n",
       "100         18880.442173 -515.041208  41184.420297  18882.249101 -513.234280  "
      ]
     },
     "execution_count": 176,
     "metadata": {},
     "output_type": "execute_result"
    }
   ],
   "source": [
    "df = pd.read_csv(PATH_CACHE)\n",
    "init_type = \"kmean+\"\n",
    "local_df = df[df[\"init_type\"] == init_type].copy()\n",
    "local_df.loc[:,\"algorithm\"] = local_df[\"ImprClass\"]+\"_\" + local_df[\"iteration_order\"]\n",
    "local_df.loc[:,\"index\"] = local_df[\"uuid_points_coords\"]+\"_\" + local_df[\"uuid_points_assign\"]+\"_\"+local_df[\"num_points\"].astype(str)\n",
    "local_df = local_df.drop([\"ImprClass\",\"init_type\",\"iteration_order\",\"uuid_points_coords\",\"uuid_points_assign\",\"time\",\"num_iter\"],axis=1)\n",
    "Lcluster_concat = []\n",
    "for num_clusters in [4,8]:\n",
    "    Linit_concat = []\n",
    "    df_clusters = local_df[local_df[\"num_clusters\"] == num_clusters].copy()\n",
    "    for algorithm in pd.unique(df_clusters[\"algorithm\"]):\n",
    "        tmp_df = df_clusters[df_clusters[\"algorithm\"] == algorithm].copy()\n",
    "        tmp_df.set_index([\"index\"],inplace=True)\n",
    "        if \"Best\" in algorithm:\n",
    "            backup_tmp_df = tmp_df.copy()\n",
    "        else:\n",
    "            tmp_df.loc[:,\"cost_augm\"] = tmp_df[\"end_cost\"].copy() - backup_tmp_df[\"end_cost\"].copy()\n",
    "        tmp_df = tmp_df.groupby(\"num_points\",as_index=False).mean()\n",
    "        tmp_df = tmp_df.drop(['num_clusters'],axis=1)\n",
    "        tmp_df.set_index([\"num_points\"],inplace=True)\n",
    "        Linit_concat.append(tmp_df)\n",
    "    Lcluster_concat.append(pd.concat(Linit_concat,axis=1, keys=[\"BI_BACK\", \"FI_CURR\", \"FI_BACK\", \"FI_RANDOM\"]))\n",
    "df100_cluster = pd.concat(Lcluster_concat, axis=1, keys=[\"4 clusters\", \"8 clusters\",\"16 clusters\", \"64 clusters\"])\n",
    "df100_cluster"
   ]
  },
  {
   "cell_type": "code",
   "execution_count": 177,
   "metadata": {},
   "outputs": [],
   "source": [
    "dfi.export(df100_cluster,\"mytable.png\")"
   ]
  },
  {
   "cell_type": "code",
   "execution_count": 167,
   "metadata": {},
   "outputs": [],
   "source": [
    "class SignColorFormatter:\n",
    "    def format(self,df):\n",
    "        original_df = df.copy()\n",
    "        df.loc[\n",
    "            original_df[\"cost_augm_BI_ref\"] < 0, \"cost_augm_BI_ref\"\n",
    "        ] = \"decrease\"\n",
    "        df.loc[\n",
    "            original_df[\"cost_augm_BI_ref\"] > 0, \"cost_augm_BI_ref\"\n",
    "        ] = \"increase\"\n",
    "        df.loc[\n",
    "            original_df[\"cost_augm_BI_ref\"] == 0, \"cost_augm_BI_ref\"\n",
    "        ] = \"no_change\"\n",
    "        return df\n",
    "    def get_colors(self):\n",
    "        return {\"decrease\":\"red\",\"increase\":\"green\",\"no_change\":\"blue\"}\n",
    "class MultipleRanges:\n",
    "    def __init__(self):\n",
    "        self.dico = {\"#9E2A2B\":[100,99999],\n",
    "                     \"#F3722C\":[10,100],\n",
    "                     \"#F8961E\":[1,10],\n",
    "                     \"#F9844A\":[0,1],\n",
    "                     \"white\": 0,\n",
    "                     \"#C6FF94\":[-1,0],\n",
    "                     \"#00BC78\":[-10,-1],\n",
    "                     \"#4D908E\":[-100,-10],\n",
    "                     \"#245F84\":[-99999,-100],\n",
    "                     }\n",
    "    def format(self,df):\n",
    "        original_df = df.copy()\n",
    "        for ranges in self.dico.values():\n",
    "            if isinstance(ranges,list):\n",
    "                if  ranges[1] in self.dico.values():\n",
    "                    localization = (original_df[\"cost_augm_BI_ref\"] > ranges[0]) & (original_df[\"cost_augm_BI_ref\"] < ranges[1])\n",
    "                else:\n",
    "                    localization = (original_df[\"cost_augm_BI_ref\"] > ranges[0]) & (original_df[\"cost_augm_BI_ref\"] <= ranges[1])\n",
    "                    \n",
    "                df.loc[\n",
    "                    localization, \"cost_augm_BI_ref\"\n",
    "                ] = str(ranges)\n",
    "            elif isinstance(ranges,int):\n",
    "                df.loc[\n",
    "                    original_df[\"cost_augm_BI_ref\"] == ranges, \"cost_augm_BI_ref\"\n",
    "                ] = str(ranges)\n",
    "            else:\n",
    "                print(f\"WARNING: ranges {ranges} is not a list or int\")\n",
    "        return df\n",
    "    def get_colors(self):\n",
    "        return {str(ranges):color for color,ranges in self.dico.items()}\n",
    "    \n",
    "def reformat(df, init=\"random\", average=True, color_formatter=None):\n",
    "    tmp_df = df[df[\"init_type\"] == init].copy()\n",
    "    tmp_df.loc[:, \"algorithm\"] = tmp_df[\"ImprClass\"] + \"_\" + tmp_df[\"iteration_order\"]\n",
    "    tmp_df.loc[:, \"index\"] = (\n",
    "        tmp_df[\"uuid_points_coords\"]\n",
    "        + \"_\"\n",
    "        + tmp_df[\"uuid_points_assign\"]\n",
    "        + \"_\"\n",
    "        + tmp_df[\"num_points\"].astype(str)\n",
    "    )\n",
    "    tmp_df = tmp_df.drop(\n",
    "        [\n",
    "            \"init_cost\",\n",
    "            \"ImprClass\",\n",
    "            \"init_type\",\n",
    "            \"iteration_order\",\n",
    "            \"uuid_points_coords\",\n",
    "            \"uuid_points_assign\",\n",
    "        ],\n",
    "        axis=1,\n",
    "    )\n",
    "    Lnew = []\n",
    "    for num_clust in [2, 4, 8, 16, 32, 64, 128]:\n",
    "        df_tmp = tmp_df[tmp_df[\"num_clusters\"] == num_clust].copy()\n",
    "        Ldf = []\n",
    "        for algorithm in pd.unique(df_tmp[\"algorithm\"]):\n",
    "            df_tmp1 = df_tmp[df_tmp[\"algorithm\"] == algorithm].copy()\n",
    "            df_tmp1.set_index([\"index\"], inplace=True)\n",
    "            if \"Best\" in algorithm:\n",
    "                backup_tmp_df = df_tmp1.copy()\n",
    "                backup_tmp_df.loc[:, \"algorithm\"] = algorithm\n",
    "                backup_tmp_df.loc[:, \"num_clusters\"] = num_clust\n",
    "                continue\n",
    "            else:\n",
    "                current = df_tmp1\n",
    "                df_tmp1 = df_tmp1.assign(\n",
    "                    cost_augm_BI_ref=current[\"end_cost\"].copy()\n",
    "                    - backup_tmp_df[\"end_cost\"].copy()\n",
    "                )\n",
    "            if average:\n",
    "                df_tmp1 = df_tmp1.groupby(\"num_points\", as_index=False).mean()\n",
    "            df_tmp1.loc[:, \"algorithm\"] = algorithm\n",
    "            df_tmp1.loc[:, \"num_clusters\"] = num_clust\n",
    "            new_df_tmp1 = df_tmp1.copy()\n",
    "            if color_formatter is not None:\n",
    "                new_df_tmp1 = color_formatter.format(new_df_tmp1)\n",
    "            Ldf.append(new_df_tmp1)\n",
    "        if len(Ldf) > 0:\n",
    "            Lnew.append(pd.concat(Ldf, axis=0))\n",
    "    new_df = pd.concat(Lnew, axis=0)\n",
    "    return new_df\n",
    "\n",
    "\n",
    "def table(init_df, init=\"random\"):\n",
    "    df = reformat(init_df.copy(), init, average=False)\n",
    "    return display(df)\n",
    "\n",
    "\n",
    "def plot(init_df, init=\"random\", color_formatter=None):\n",
    "    df = reformat(init_df.copy(), init, color_formatter=color_formatter)\n",
    "    # fig = px.scatter_3d(\n",
    "    #     df,\n",
    "    #     x=\"num_points\",\n",
    "    #     y=\"algorithm\",\n",
    "    #     z=\"num_clusters\",\n",
    "    #     log_z=True,\n",
    "    #     color=\"cost_augm_BI_ref\",\n",
    "    #     color_discrete_map=color_formatter.get_colors() if color_formatter is not None else None,\n",
    "    #     template=\"plotly_dark\",\n",
    "    #     width=1000,\n",
    "    #     height=800,\n",
    "    #     labels={\n",
    "    #                  \"num_points\": \"Nombre de points\",\n",
    "    #                  \"algorithm\": \"Algorithme\",\n",
    "    #                  \"num_clusters\": \"Nombre de clusters\",\n",
    "    #                  \"cost_augm_BI_ref\": \"Augmentation du coût<br> par rapport à<br> Best Improvement\"\n",
    "    #              },\n",
    "    #     category_orders={\"cost_augm_BI_ref\": (color_formatter.get_colors().keys()) } if color_formatter is not None else None ,\n",
    "    #     title=f\"Augmentation du coûtpar rapport à Best Improvement (CURR)<br>avec initialisation {init}\",\n",
    "    # )\n",
    "    fig = px.scatter(\n",
    "        df[df[\"algorithm\"] == \"CallbackFirstImprovement_CURR\"],\n",
    "        x=\"num_points\",\n",
    "        y=\"num_clusters\",\n",
    "        log_y=True,\n",
    "        color=\"cost_augm_BI_ref\",\n",
    "        color_discrete_map=color_formatter.get_colors() if color_formatter is not None else None,\n",
    "        width=1000,\n",
    "        height=800,\n",
    "        labels={\n",
    "                     \"num_points\": \"Nombre de points\",\n",
    "                     \"algorithm\": \"Algorithme\",\n",
    "                     \"num_clusters\": \"Nombre de clusters\",\n",
    "                     \"cost_augm_BI_ref\": \"Augmentation du coût<br> par rapport à<br> Best Improvement\"\n",
    "                 },\n",
    "        category_orders={\"cost_augm_BI_ref\": (color_formatter.get_colors().keys()) } if color_formatter is not None else None ,\n",
    "        title=f\"Augmentation du coût de FirstImprovement_CURR par rapport à Best Improvement (CURR)<br>avec initialisation \\\"{init}\\\"\",\n",
    "    )\n",
    "    fig.update_traces(marker=dict(size=12),\n",
    "                  selector=dict(mode='markers'))\n",
    "    fig.show()  # \"png\"\n"
   ]
  },
  {
   "cell_type": "code",
   "execution_count": 168,
   "metadata": {},
   "outputs": [
    {
     "data": {
      "application/vnd.plotly.v1+json": {
       "config": {
        "plotlyServerURL": "https://plot.ly"
       },
       "data": [
        {
         "hovertemplate": "Augmentation du coût<br> par rapport à<br> Best Improvement=[100, 99999]<br>Nombre de points=%{x}<br>Nombre de clusters=%{y}<extra></extra>",
         "legendgroup": "[100, 99999]",
         "marker": {
          "color": "#9E2A2B",
          "size": 12,
          "symbol": "circle"
         },
         "mode": "markers",
         "name": "[100, 99999]",
         "orientation": "v",
         "showlegend": true,
         "type": "scatter",
         "x": [
          80,
          40
         ],
         "xaxis": "x",
         "y": [
          2,
          32
         ],
         "yaxis": "y"
        },
        {
         "hovertemplate": "Augmentation du coût<br> par rapport à<br> Best Improvement=[10, 100]<br>Nombre de points=%{x}<br>Nombre de clusters=%{y}<extra></extra>",
         "legendgroup": "[10, 100]",
         "marker": {
          "color": "#F3722C",
          "size": 12,
          "symbol": "circle"
         },
         "mode": "markers",
         "name": "[10, 100]",
         "orientation": "v",
         "showlegend": true,
         "type": "scatter",
         "x": [
          70,
          20,
          30,
          20,
          30,
          20,
          30,
          70,
          80,
          90,
          100,
          200
         ],
         "xaxis": "x",
         "y": [
          2,
          4,
          4,
          8,
          8,
          16,
          16,
          64,
          64,
          64,
          64,
          128
         ],
         "yaxis": "y"
        },
        {
         "hovertemplate": "Augmentation du coût<br> par rapport à<br> Best Improvement=[1, 10]<br>Nombre de points=%{x}<br>Nombre de clusters=%{y}<extra></extra>",
         "legendgroup": "[1, 10]",
         "marker": {
          "color": "#F8961E",
          "size": 12,
          "symbol": "circle"
         },
         "mode": "markers",
         "name": "[1, 10]",
         "orientation": "v",
         "showlegend": true,
         "type": "scatter",
         "x": [
          50
         ],
         "xaxis": "x",
         "y": [
          32
         ],
         "yaxis": "y"
        },
        {
         "hovertemplate": "Augmentation du coût<br> par rapport à<br> Best Improvement=[0, 1]<br>Nombre de points=%{x}<br>Nombre de clusters=%{y}<extra></extra>",
         "legendgroup": "[0, 1]",
         "marker": {
          "color": "#F9844A",
          "size": 12,
          "symbol": "circle"
         },
         "mode": "markers",
         "name": "[0, 1]",
         "orientation": "v",
         "showlegend": true,
         "type": "scatter",
         "x": [
          30,
          50
         ],
         "xaxis": "x",
         "y": [
          2,
          2
         ],
         "yaxis": "y"
        },
        {
         "hovertemplate": "Augmentation du coût<br> par rapport à<br> Best Improvement=[-1, 0]<br>Nombre de points=%{x}<br>Nombre de clusters=%{y}<extra></extra>",
         "legendgroup": "[-1, 0]",
         "marker": {
          "color": "#C6FF94",
          "size": 12,
          "symbol": "circle"
         },
         "mode": "markers",
         "name": "[-1, 0]",
         "orientation": "v",
         "showlegend": true,
         "type": "scatter",
         "x": [
          90
         ],
         "xaxis": "x",
         "y": [
          2
         ],
         "yaxis": "y"
        },
        {
         "hovertemplate": "Augmentation du coût<br> par rapport à<br> Best Improvement=[-10, -1]<br>Nombre de points=%{x}<br>Nombre de clusters=%{y}<extra></extra>",
         "legendgroup": "[-10, -1]",
         "marker": {
          "color": "#00BC78",
          "size": 12,
          "symbol": "circle"
         },
         "mode": "markers",
         "name": "[-10, -1]",
         "orientation": "v",
         "showlegend": true,
         "type": "scatter",
         "x": [
          40,
          100
         ],
         "xaxis": "x",
         "y": [
          4,
          4
         ],
         "yaxis": "y"
        },
        {
         "hovertemplate": "Augmentation du coût<br> par rapport à<br> Best Improvement=[-100, -10]<br>Nombre de points=%{x}<br>Nombre de clusters=%{y}<extra></extra>",
         "legendgroup": "[-100, -10]",
         "marker": {
          "color": "#4D908E",
          "size": 12,
          "symbol": "circle"
         },
         "mode": "markers",
         "name": "[-100, -10]",
         "orientation": "v",
         "showlegend": true,
         "type": "scatter",
         "x": [
          40,
          60,
          60,
          40,
          90,
          40,
          50,
          70,
          60,
          70
         ],
         "xaxis": "x",
         "y": [
          2,
          2,
          4,
          8,
          8,
          16,
          16,
          16,
          32,
          32
         ],
         "yaxis": "y"
        },
        {
         "hovertemplate": "Augmentation du coût<br> par rapport à<br> Best Improvement=[-99999, -100]<br>Nombre de points=%{x}<br>Nombre de clusters=%{y}<extra></extra>",
         "legendgroup": "[-99999, -100]",
         "marker": {
          "color": "#245F84",
          "size": 12,
          "symbol": "circle"
         },
         "mode": "markers",
         "name": "[-99999, -100]",
         "orientation": "v",
         "showlegend": true,
         "type": "scatter",
         "x": [
          20,
          100,
          50,
          70,
          80,
          90,
          50,
          60,
          70,
          80,
          100,
          60,
          80,
          90,
          100,
          200,
          80,
          90,
          100
         ],
         "xaxis": "x",
         "y": [
          2,
          2,
          4,
          4,
          4,
          4,
          8,
          8,
          8,
          8,
          8,
          16,
          16,
          16,
          16,
          16,
          32,
          32,
          32
         ],
         "yaxis": "y"
        }
       ],
       "layout": {
        "height": 800,
        "legend": {
         "title": {
          "text": "Augmentation du coût<br> par rapport à<br> Best Improvement"
         },
         "tracegroupgap": 0
        },
        "template": {
         "data": {
          "bar": [
           {
            "error_x": {
             "color": "#2a3f5f"
            },
            "error_y": {
             "color": "#2a3f5f"
            },
            "marker": {
             "line": {
              "color": "#E5ECF6",
              "width": 0.5
             },
             "pattern": {
              "fillmode": "overlay",
              "size": 10,
              "solidity": 0.2
             }
            },
            "type": "bar"
           }
          ],
          "barpolar": [
           {
            "marker": {
             "line": {
              "color": "#E5ECF6",
              "width": 0.5
             },
             "pattern": {
              "fillmode": "overlay",
              "size": 10,
              "solidity": 0.2
             }
            },
            "type": "barpolar"
           }
          ],
          "carpet": [
           {
            "aaxis": {
             "endlinecolor": "#2a3f5f",
             "gridcolor": "white",
             "linecolor": "white",
             "minorgridcolor": "white",
             "startlinecolor": "#2a3f5f"
            },
            "baxis": {
             "endlinecolor": "#2a3f5f",
             "gridcolor": "white",
             "linecolor": "white",
             "minorgridcolor": "white",
             "startlinecolor": "#2a3f5f"
            },
            "type": "carpet"
           }
          ],
          "choropleth": [
           {
            "colorbar": {
             "outlinewidth": 0,
             "ticks": ""
            },
            "type": "choropleth"
           }
          ],
          "contour": [
           {
            "colorbar": {
             "outlinewidth": 0,
             "ticks": ""
            },
            "colorscale": [
             [
              0,
              "#0d0887"
             ],
             [
              0.1111111111111111,
              "#46039f"
             ],
             [
              0.2222222222222222,
              "#7201a8"
             ],
             [
              0.3333333333333333,
              "#9c179e"
             ],
             [
              0.4444444444444444,
              "#bd3786"
             ],
             [
              0.5555555555555556,
              "#d8576b"
             ],
             [
              0.6666666666666666,
              "#ed7953"
             ],
             [
              0.7777777777777778,
              "#fb9f3a"
             ],
             [
              0.8888888888888888,
              "#fdca26"
             ],
             [
              1,
              "#f0f921"
             ]
            ],
            "type": "contour"
           }
          ],
          "contourcarpet": [
           {
            "colorbar": {
             "outlinewidth": 0,
             "ticks": ""
            },
            "type": "contourcarpet"
           }
          ],
          "heatmap": [
           {
            "colorbar": {
             "outlinewidth": 0,
             "ticks": ""
            },
            "colorscale": [
             [
              0,
              "#0d0887"
             ],
             [
              0.1111111111111111,
              "#46039f"
             ],
             [
              0.2222222222222222,
              "#7201a8"
             ],
             [
              0.3333333333333333,
              "#9c179e"
             ],
             [
              0.4444444444444444,
              "#bd3786"
             ],
             [
              0.5555555555555556,
              "#d8576b"
             ],
             [
              0.6666666666666666,
              "#ed7953"
             ],
             [
              0.7777777777777778,
              "#fb9f3a"
             ],
             [
              0.8888888888888888,
              "#fdca26"
             ],
             [
              1,
              "#f0f921"
             ]
            ],
            "type": "heatmap"
           }
          ],
          "heatmapgl": [
           {
            "colorbar": {
             "outlinewidth": 0,
             "ticks": ""
            },
            "colorscale": [
             [
              0,
              "#0d0887"
             ],
             [
              0.1111111111111111,
              "#46039f"
             ],
             [
              0.2222222222222222,
              "#7201a8"
             ],
             [
              0.3333333333333333,
              "#9c179e"
             ],
             [
              0.4444444444444444,
              "#bd3786"
             ],
             [
              0.5555555555555556,
              "#d8576b"
             ],
             [
              0.6666666666666666,
              "#ed7953"
             ],
             [
              0.7777777777777778,
              "#fb9f3a"
             ],
             [
              0.8888888888888888,
              "#fdca26"
             ],
             [
              1,
              "#f0f921"
             ]
            ],
            "type": "heatmapgl"
           }
          ],
          "histogram": [
           {
            "marker": {
             "pattern": {
              "fillmode": "overlay",
              "size": 10,
              "solidity": 0.2
             }
            },
            "type": "histogram"
           }
          ],
          "histogram2d": [
           {
            "colorbar": {
             "outlinewidth": 0,
             "ticks": ""
            },
            "colorscale": [
             [
              0,
              "#0d0887"
             ],
             [
              0.1111111111111111,
              "#46039f"
             ],
             [
              0.2222222222222222,
              "#7201a8"
             ],
             [
              0.3333333333333333,
              "#9c179e"
             ],
             [
              0.4444444444444444,
              "#bd3786"
             ],
             [
              0.5555555555555556,
              "#d8576b"
             ],
             [
              0.6666666666666666,
              "#ed7953"
             ],
             [
              0.7777777777777778,
              "#fb9f3a"
             ],
             [
              0.8888888888888888,
              "#fdca26"
             ],
             [
              1,
              "#f0f921"
             ]
            ],
            "type": "histogram2d"
           }
          ],
          "histogram2dcontour": [
           {
            "colorbar": {
             "outlinewidth": 0,
             "ticks": ""
            },
            "colorscale": [
             [
              0,
              "#0d0887"
             ],
             [
              0.1111111111111111,
              "#46039f"
             ],
             [
              0.2222222222222222,
              "#7201a8"
             ],
             [
              0.3333333333333333,
              "#9c179e"
             ],
             [
              0.4444444444444444,
              "#bd3786"
             ],
             [
              0.5555555555555556,
              "#d8576b"
             ],
             [
              0.6666666666666666,
              "#ed7953"
             ],
             [
              0.7777777777777778,
              "#fb9f3a"
             ],
             [
              0.8888888888888888,
              "#fdca26"
             ],
             [
              1,
              "#f0f921"
             ]
            ],
            "type": "histogram2dcontour"
           }
          ],
          "mesh3d": [
           {
            "colorbar": {
             "outlinewidth": 0,
             "ticks": ""
            },
            "type": "mesh3d"
           }
          ],
          "parcoords": [
           {
            "line": {
             "colorbar": {
              "outlinewidth": 0,
              "ticks": ""
             }
            },
            "type": "parcoords"
           }
          ],
          "pie": [
           {
            "automargin": true,
            "type": "pie"
           }
          ],
          "scatter": [
           {
            "marker": {
             "colorbar": {
              "outlinewidth": 0,
              "ticks": ""
             }
            },
            "type": "scatter"
           }
          ],
          "scatter3d": [
           {
            "line": {
             "colorbar": {
              "outlinewidth": 0,
              "ticks": ""
             }
            },
            "marker": {
             "colorbar": {
              "outlinewidth": 0,
              "ticks": ""
             }
            },
            "type": "scatter3d"
           }
          ],
          "scattercarpet": [
           {
            "marker": {
             "colorbar": {
              "outlinewidth": 0,
              "ticks": ""
             }
            },
            "type": "scattercarpet"
           }
          ],
          "scattergeo": [
           {
            "marker": {
             "colorbar": {
              "outlinewidth": 0,
              "ticks": ""
             }
            },
            "type": "scattergeo"
           }
          ],
          "scattergl": [
           {
            "marker": {
             "colorbar": {
              "outlinewidth": 0,
              "ticks": ""
             }
            },
            "type": "scattergl"
           }
          ],
          "scattermapbox": [
           {
            "marker": {
             "colorbar": {
              "outlinewidth": 0,
              "ticks": ""
             }
            },
            "type": "scattermapbox"
           }
          ],
          "scatterpolar": [
           {
            "marker": {
             "colorbar": {
              "outlinewidth": 0,
              "ticks": ""
             }
            },
            "type": "scatterpolar"
           }
          ],
          "scatterpolargl": [
           {
            "marker": {
             "colorbar": {
              "outlinewidth": 0,
              "ticks": ""
             }
            },
            "type": "scatterpolargl"
           }
          ],
          "scatterternary": [
           {
            "marker": {
             "colorbar": {
              "outlinewidth": 0,
              "ticks": ""
             }
            },
            "type": "scatterternary"
           }
          ],
          "surface": [
           {
            "colorbar": {
             "outlinewidth": 0,
             "ticks": ""
            },
            "colorscale": [
             [
              0,
              "#0d0887"
             ],
             [
              0.1111111111111111,
              "#46039f"
             ],
             [
              0.2222222222222222,
              "#7201a8"
             ],
             [
              0.3333333333333333,
              "#9c179e"
             ],
             [
              0.4444444444444444,
              "#bd3786"
             ],
             [
              0.5555555555555556,
              "#d8576b"
             ],
             [
              0.6666666666666666,
              "#ed7953"
             ],
             [
              0.7777777777777778,
              "#fb9f3a"
             ],
             [
              0.8888888888888888,
              "#fdca26"
             ],
             [
              1,
              "#f0f921"
             ]
            ],
            "type": "surface"
           }
          ],
          "table": [
           {
            "cells": {
             "fill": {
              "color": "#EBF0F8"
             },
             "line": {
              "color": "white"
             }
            },
            "header": {
             "fill": {
              "color": "#C8D4E3"
             },
             "line": {
              "color": "white"
             }
            },
            "type": "table"
           }
          ]
         },
         "layout": {
          "annotationdefaults": {
           "arrowcolor": "#2a3f5f",
           "arrowhead": 0,
           "arrowwidth": 1
          },
          "autotypenumbers": "strict",
          "coloraxis": {
           "colorbar": {
            "outlinewidth": 0,
            "ticks": ""
           }
          },
          "colorscale": {
           "diverging": [
            [
             0,
             "#8e0152"
            ],
            [
             0.1,
             "#c51b7d"
            ],
            [
             0.2,
             "#de77ae"
            ],
            [
             0.3,
             "#f1b6da"
            ],
            [
             0.4,
             "#fde0ef"
            ],
            [
             0.5,
             "#f7f7f7"
            ],
            [
             0.6,
             "#e6f5d0"
            ],
            [
             0.7,
             "#b8e186"
            ],
            [
             0.8,
             "#7fbc41"
            ],
            [
             0.9,
             "#4d9221"
            ],
            [
             1,
             "#276419"
            ]
           ],
           "sequential": [
            [
             0,
             "#0d0887"
            ],
            [
             0.1111111111111111,
             "#46039f"
            ],
            [
             0.2222222222222222,
             "#7201a8"
            ],
            [
             0.3333333333333333,
             "#9c179e"
            ],
            [
             0.4444444444444444,
             "#bd3786"
            ],
            [
             0.5555555555555556,
             "#d8576b"
            ],
            [
             0.6666666666666666,
             "#ed7953"
            ],
            [
             0.7777777777777778,
             "#fb9f3a"
            ],
            [
             0.8888888888888888,
             "#fdca26"
            ],
            [
             1,
             "#f0f921"
            ]
           ],
           "sequentialminus": [
            [
             0,
             "#0d0887"
            ],
            [
             0.1111111111111111,
             "#46039f"
            ],
            [
             0.2222222222222222,
             "#7201a8"
            ],
            [
             0.3333333333333333,
             "#9c179e"
            ],
            [
             0.4444444444444444,
             "#bd3786"
            ],
            [
             0.5555555555555556,
             "#d8576b"
            ],
            [
             0.6666666666666666,
             "#ed7953"
            ],
            [
             0.7777777777777778,
             "#fb9f3a"
            ],
            [
             0.8888888888888888,
             "#fdca26"
            ],
            [
             1,
             "#f0f921"
            ]
           ]
          },
          "colorway": [
           "#636efa",
           "#EF553B",
           "#00cc96",
           "#ab63fa",
           "#FFA15A",
           "#19d3f3",
           "#FF6692",
           "#B6E880",
           "#FF97FF",
           "#FECB52"
          ],
          "font": {
           "color": "#2a3f5f"
          },
          "geo": {
           "bgcolor": "white",
           "lakecolor": "white",
           "landcolor": "#E5ECF6",
           "showlakes": true,
           "showland": true,
           "subunitcolor": "white"
          },
          "hoverlabel": {
           "align": "left"
          },
          "hovermode": "closest",
          "mapbox": {
           "style": "light"
          },
          "paper_bgcolor": "white",
          "plot_bgcolor": "#E5ECF6",
          "polar": {
           "angularaxis": {
            "gridcolor": "white",
            "linecolor": "white",
            "ticks": ""
           },
           "bgcolor": "#E5ECF6",
           "radialaxis": {
            "gridcolor": "white",
            "linecolor": "white",
            "ticks": ""
           }
          },
          "scene": {
           "xaxis": {
            "backgroundcolor": "#E5ECF6",
            "gridcolor": "white",
            "gridwidth": 2,
            "linecolor": "white",
            "showbackground": true,
            "ticks": "",
            "zerolinecolor": "white"
           },
           "yaxis": {
            "backgroundcolor": "#E5ECF6",
            "gridcolor": "white",
            "gridwidth": 2,
            "linecolor": "white",
            "showbackground": true,
            "ticks": "",
            "zerolinecolor": "white"
           },
           "zaxis": {
            "backgroundcolor": "#E5ECF6",
            "gridcolor": "white",
            "gridwidth": 2,
            "linecolor": "white",
            "showbackground": true,
            "ticks": "",
            "zerolinecolor": "white"
           }
          },
          "shapedefaults": {
           "line": {
            "color": "#2a3f5f"
           }
          },
          "ternary": {
           "aaxis": {
            "gridcolor": "white",
            "linecolor": "white",
            "ticks": ""
           },
           "baxis": {
            "gridcolor": "white",
            "linecolor": "white",
            "ticks": ""
           },
           "bgcolor": "#E5ECF6",
           "caxis": {
            "gridcolor": "white",
            "linecolor": "white",
            "ticks": ""
           }
          },
          "title": {
           "x": 0.05
          },
          "xaxis": {
           "automargin": true,
           "gridcolor": "white",
           "linecolor": "white",
           "ticks": "",
           "title": {
            "standoff": 15
           },
           "zerolinecolor": "white",
           "zerolinewidth": 2
          },
          "yaxis": {
           "automargin": true,
           "gridcolor": "white",
           "linecolor": "white",
           "ticks": "",
           "title": {
            "standoff": 15
           },
           "zerolinecolor": "white",
           "zerolinewidth": 2
          }
         }
        },
        "title": {
         "text": "Augmentation du coût de FirstImprovement_CURR par rapport à Best Improvement (CURR)<br>avec initialisation kmeans+"
        },
        "width": 1000,
        "xaxis": {
         "anchor": "y",
         "domain": [
          0,
          1
         ],
         "title": {
          "text": "Nombre de points"
         }
        },
        "yaxis": {
         "anchor": "x",
         "domain": [
          0,
          1
         ],
         "title": {
          "text": "Nombre de clusters"
         },
         "type": "log"
        }
       }
      }
     },
     "metadata": {},
     "output_type": "display_data"
    }
   ],
   "source": [
    "plot(df,\"kmean+\",color_formatter=MultipleRanges())"
   ]
  },
  {
   "cell_type": "code",
   "execution_count": 142,
   "metadata": {},
   "outputs": [
    {
     "data": {
      "application/vnd.plotly.v1+json": {
       "config": {
        "plotlyServerURL": "https://plot.ly"
       },
       "data": [
        {
         "hovertemplate": "Augmentation du coût<br> par rapport à<br> Best Improvement=[100, 99999]<br>Nombre de points=%{x}<br>Algorithme=%{y}<br>Nombre de clusters=%{z}<extra></extra>",
         "legendgroup": "[100, 99999]",
         "marker": {
          "color": "#9E2A2B",
          "symbol": "circle"
         },
         "mode": "markers",
         "name": "[100, 99999]",
         "scene": "scene",
         "showlegend": true,
         "type": "scatter3d",
         "x": [
          70,
          80,
          90,
          100,
          70,
          80,
          90,
          100,
          70,
          80,
          90,
          100,
          30,
          30,
          30,
          40,
          50,
          90,
          100,
          40,
          50,
          90,
          40,
          50,
          90,
          100,
          100
         ],
         "y": [
          "CallbackFirstImprovement_CURR",
          "CallbackFirstImprovement_CURR",
          "CallbackFirstImprovement_CURR",
          "CallbackFirstImprovement_CURR",
          "CallbackFirstImprovement_BACK",
          "CallbackFirstImprovement_BACK",
          "CallbackFirstImprovement_BACK",
          "CallbackFirstImprovement_BACK",
          "CallbackFirstImprovement_RANDOM",
          "CallbackFirstImprovement_RANDOM",
          "CallbackFirstImprovement_RANDOM",
          "CallbackFirstImprovement_RANDOM",
          "CallbackFirstImprovement_CURR",
          "CallbackFirstImprovement_BACK",
          "CallbackFirstImprovement_RANDOM",
          "CallbackFirstImprovement_CURR",
          "CallbackFirstImprovement_CURR",
          "CallbackFirstImprovement_CURR",
          "CallbackFirstImprovement_CURR",
          "CallbackFirstImprovement_BACK",
          "CallbackFirstImprovement_BACK",
          "CallbackFirstImprovement_BACK",
          "CallbackFirstImprovement_RANDOM",
          "CallbackFirstImprovement_RANDOM",
          "CallbackFirstImprovement_RANDOM",
          "CallbackFirstImprovement_RANDOM",
          "CallbackFirstImprovement_RANDOM"
         ],
         "z": [
          2,
          2,
          2,
          2,
          2,
          2,
          2,
          2,
          2,
          2,
          2,
          2,
          16,
          16,
          16,
          32,
          32,
          32,
          32,
          32,
          32,
          32,
          32,
          32,
          32,
          32,
          64
         ]
        },
        {
         "hovertemplate": "Augmentation du coût<br> par rapport à<br> Best Improvement=[10, 100]<br>Nombre de points=%{x}<br>Algorithme=%{y}<br>Nombre de clusters=%{z}<extra></extra>",
         "legendgroup": "[10, 100]",
         "marker": {
          "color": "#F3722C",
          "symbol": "circle"
         },
         "mode": "markers",
         "name": "[10, 100]",
         "scene": "scene",
         "showlegend": true,
         "type": "scatter3d",
         "x": [
          20,
          20,
          20,
          20,
          30,
          20,
          30,
          20,
          30,
          20,
          40,
          20,
          40,
          70,
          20,
          40,
          70,
          60,
          70,
          80,
          60,
          70,
          80,
          100,
          60,
          70,
          80,
          70,
          80,
          90,
          100,
          70,
          80,
          90,
          100,
          70,
          80,
          90,
          200,
          200,
          200
         ],
         "y": [
          "CallbackFirstImprovement_CURR",
          "CallbackFirstImprovement_BACK",
          "CallbackFirstImprovement_RANDOM",
          "CallbackFirstImprovement_CURR",
          "CallbackFirstImprovement_CURR",
          "CallbackFirstImprovement_BACK",
          "CallbackFirstImprovement_BACK",
          "CallbackFirstImprovement_RANDOM",
          "CallbackFirstImprovement_RANDOM",
          "CallbackFirstImprovement_CURR",
          "CallbackFirstImprovement_CURR",
          "CallbackFirstImprovement_BACK",
          "CallbackFirstImprovement_BACK",
          "CallbackFirstImprovement_BACK",
          "CallbackFirstImprovement_RANDOM",
          "CallbackFirstImprovement_RANDOM",
          "CallbackFirstImprovement_RANDOM",
          "CallbackFirstImprovement_CURR",
          "CallbackFirstImprovement_CURR",
          "CallbackFirstImprovement_CURR",
          "CallbackFirstImprovement_BACK",
          "CallbackFirstImprovement_BACK",
          "CallbackFirstImprovement_BACK",
          "CallbackFirstImprovement_BACK",
          "CallbackFirstImprovement_RANDOM",
          "CallbackFirstImprovement_RANDOM",
          "CallbackFirstImprovement_RANDOM",
          "CallbackFirstImprovement_CURR",
          "CallbackFirstImprovement_CURR",
          "CallbackFirstImprovement_CURR",
          "CallbackFirstImprovement_CURR",
          "CallbackFirstImprovement_BACK",
          "CallbackFirstImprovement_BACK",
          "CallbackFirstImprovement_BACK",
          "CallbackFirstImprovement_BACK",
          "CallbackFirstImprovement_RANDOM",
          "CallbackFirstImprovement_RANDOM",
          "CallbackFirstImprovement_RANDOM",
          "CallbackFirstImprovement_CURR",
          "CallbackFirstImprovement_BACK",
          "CallbackFirstImprovement_RANDOM"
         ],
         "z": [
          4,
          4,
          4,
          8,
          8,
          8,
          8,
          8,
          8,
          16,
          16,
          16,
          16,
          16,
          16,
          16,
          16,
          32,
          32,
          32,
          32,
          32,
          32,
          32,
          32,
          32,
          32,
          64,
          64,
          64,
          64,
          64,
          64,
          64,
          64,
          64,
          64,
          64,
          128,
          128,
          128
         ]
        },
        {
         "hovertemplate": "Augmentation du coût<br> par rapport à<br> Best Improvement=[1, 10]<br>Nombre de points=%{x}<br>Algorithme=%{y}<br>Nombre de clusters=%{z}<extra></extra>",
         "legendgroup": "[1, 10]",
         "marker": {
          "color": "#F8961E",
          "symbol": "circle"
         },
         "mode": "markers",
         "name": "[1, 10]",
         "scene": "scene",
         "showlegend": true,
         "type": "scatter3d",
         "x": [
          50,
          50,
          50,
          70,
          90
         ],
         "y": [
          "CallbackFirstImprovement_CURR",
          "CallbackFirstImprovement_BACK",
          "CallbackFirstImprovement_RANDOM",
          "CallbackFirstImprovement_CURR",
          "CallbackFirstImprovement_BACK"
         ],
         "z": [
          2,
          2,
          2,
          16,
          16
         ]
        },
        {
         "hovertemplate": "Augmentation du coût<br> par rapport à<br> Best Improvement=[0, 1]<br>Nombre de points=%{x}<br>Algorithme=%{y}<br>Nombre de clusters=%{z}<extra></extra>",
         "legendgroup": "[0, 1]",
         "marker": {
          "color": "#F9844A",
          "symbol": "circle"
         },
         "mode": "markers",
         "name": "[0, 1]",
         "scene": "scene",
         "showlegend": true,
         "type": "scatter3d",
         "x": [
          90
         ],
         "y": [
          "CallbackFirstImprovement_CURR"
         ],
         "z": [
          16
         ]
        },
        {
         "hovertemplate": "Augmentation du coût<br> par rapport à<br> Best Improvement=[-10, -1]<br>Nombre de points=%{x}<br>Algorithme=%{y}<br>Nombre de clusters=%{z}<extra></extra>",
         "legendgroup": "[-10, -1]",
         "marker": {
          "color": "#00BC78",
          "symbol": "circle"
         },
         "mode": "markers",
         "name": "[-10, -1]",
         "scene": "scene",
         "showlegend": true,
         "type": "scatter3d",
         "x": [
          90
         ],
         "y": [
          "CallbackFirstImprovement_RANDOM"
         ],
         "z": [
          16
         ]
        },
        {
         "hovertemplate": "Augmentation du coût<br> par rapport à<br> Best Improvement=[-100, -10]<br>Nombre de points=%{x}<br>Algorithme=%{y}<br>Nombre de clusters=%{z}<extra></extra>",
         "legendgroup": "[-100, -10]",
         "marker": {
          "color": "#4D908E",
          "symbol": "circle"
         },
         "mode": "markers",
         "name": "[-100, -10]",
         "scene": "scene",
         "showlegend": true,
         "type": "scatter3d",
         "x": [
          40,
          60,
          40,
          60,
          40,
          60,
          30,
          90,
          30,
          90,
          30,
          60,
          90,
          40,
          40,
          40,
          50,
          60,
          80,
          50,
          60,
          80,
          50,
          60,
          80
         ],
         "y": [
          "CallbackFirstImprovement_CURR",
          "CallbackFirstImprovement_CURR",
          "CallbackFirstImprovement_BACK",
          "CallbackFirstImprovement_BACK",
          "CallbackFirstImprovement_RANDOM",
          "CallbackFirstImprovement_RANDOM",
          "CallbackFirstImprovement_CURR",
          "CallbackFirstImprovement_CURR",
          "CallbackFirstImprovement_BACK",
          "CallbackFirstImprovement_BACK",
          "CallbackFirstImprovement_RANDOM",
          "CallbackFirstImprovement_RANDOM",
          "CallbackFirstImprovement_RANDOM",
          "CallbackFirstImprovement_CURR",
          "CallbackFirstImprovement_BACK",
          "CallbackFirstImprovement_RANDOM",
          "CallbackFirstImprovement_CURR",
          "CallbackFirstImprovement_CURR",
          "CallbackFirstImprovement_CURR",
          "CallbackFirstImprovement_BACK",
          "CallbackFirstImprovement_BACK",
          "CallbackFirstImprovement_BACK",
          "CallbackFirstImprovement_RANDOM",
          "CallbackFirstImprovement_RANDOM",
          "CallbackFirstImprovement_RANDOM"
         ],
         "z": [
          2,
          2,
          2,
          2,
          2,
          2,
          4,
          4,
          4,
          4,
          4,
          4,
          4,
          8,
          8,
          8,
          16,
          16,
          16,
          16,
          16,
          16,
          16,
          16,
          16
         ]
        },
        {
         "hovertemplate": "Augmentation du coût<br> par rapport à<br> Best Improvement=[-99999, -100]<br>Nombre de points=%{x}<br>Algorithme=%{y}<br>Nombre de clusters=%{z}<extra></extra>",
         "legendgroup": "[-99999, -100]",
         "marker": {
          "color": "#245F84",
          "symbol": "circle"
         },
         "mode": "markers",
         "name": "[-99999, -100]",
         "scene": "scene",
         "showlegend": true,
         "type": "scatter3d",
         "x": [
          20,
          30,
          20,
          30,
          20,
          30,
          40,
          50,
          60,
          70,
          80,
          100,
          40,
          50,
          60,
          70,
          80,
          100,
          40,
          50,
          70,
          80,
          100,
          50,
          60,
          70,
          80,
          90,
          100,
          50,
          60,
          70,
          80,
          90,
          100,
          50,
          60,
          70,
          80,
          90,
          100,
          100,
          100,
          100
         ],
         "y": [
          "CallbackFirstImprovement_CURR",
          "CallbackFirstImprovement_CURR",
          "CallbackFirstImprovement_BACK",
          "CallbackFirstImprovement_BACK",
          "CallbackFirstImprovement_RANDOM",
          "CallbackFirstImprovement_RANDOM",
          "CallbackFirstImprovement_CURR",
          "CallbackFirstImprovement_CURR",
          "CallbackFirstImprovement_CURR",
          "CallbackFirstImprovement_CURR",
          "CallbackFirstImprovement_CURR",
          "CallbackFirstImprovement_CURR",
          "CallbackFirstImprovement_BACK",
          "CallbackFirstImprovement_BACK",
          "CallbackFirstImprovement_BACK",
          "CallbackFirstImprovement_BACK",
          "CallbackFirstImprovement_BACK",
          "CallbackFirstImprovement_BACK",
          "CallbackFirstImprovement_RANDOM",
          "CallbackFirstImprovement_RANDOM",
          "CallbackFirstImprovement_RANDOM",
          "CallbackFirstImprovement_RANDOM",
          "CallbackFirstImprovement_RANDOM",
          "CallbackFirstImprovement_CURR",
          "CallbackFirstImprovement_CURR",
          "CallbackFirstImprovement_CURR",
          "CallbackFirstImprovement_CURR",
          "CallbackFirstImprovement_CURR",
          "CallbackFirstImprovement_CURR",
          "CallbackFirstImprovement_BACK",
          "CallbackFirstImprovement_BACK",
          "CallbackFirstImprovement_BACK",
          "CallbackFirstImprovement_BACK",
          "CallbackFirstImprovement_BACK",
          "CallbackFirstImprovement_BACK",
          "CallbackFirstImprovement_RANDOM",
          "CallbackFirstImprovement_RANDOM",
          "CallbackFirstImprovement_RANDOM",
          "CallbackFirstImprovement_RANDOM",
          "CallbackFirstImprovement_RANDOM",
          "CallbackFirstImprovement_RANDOM",
          "CallbackFirstImprovement_CURR",
          "CallbackFirstImprovement_BACK",
          "CallbackFirstImprovement_RANDOM"
         ],
         "z": [
          2,
          2,
          2,
          2,
          2,
          2,
          4,
          4,
          4,
          4,
          4,
          4,
          4,
          4,
          4,
          4,
          4,
          4,
          4,
          4,
          4,
          4,
          4,
          8,
          8,
          8,
          8,
          8,
          8,
          8,
          8,
          8,
          8,
          8,
          8,
          8,
          8,
          8,
          8,
          8,
          8,
          16,
          16,
          16
         ]
        }
       ],
       "layout": {
        "height": 800,
        "legend": {
         "title": {
          "text": "Augmentation du coût<br> par rapport à<br> Best Improvement"
         },
         "tracegroupgap": 0
        },
        "scene": {
         "domain": {
          "x": [
           0,
           1
          ],
          "y": [
           0,
           1
          ]
         },
         "xaxis": {
          "title": {
           "text": "Nombre de points"
          }
         },
         "yaxis": {
          "title": {
           "text": "Algorithme"
          }
         },
         "zaxis": {
          "title": {
           "text": "Nombre de clusters"
          },
          "type": "log"
         }
        },
        "template": {
         "data": {
          "bar": [
           {
            "error_x": {
             "color": "#f2f5fa"
            },
            "error_y": {
             "color": "#f2f5fa"
            },
            "marker": {
             "line": {
              "color": "rgb(17,17,17)",
              "width": 0.5
             },
             "pattern": {
              "fillmode": "overlay",
              "size": 10,
              "solidity": 0.2
             }
            },
            "type": "bar"
           }
          ],
          "barpolar": [
           {
            "marker": {
             "line": {
              "color": "rgb(17,17,17)",
              "width": 0.5
             },
             "pattern": {
              "fillmode": "overlay",
              "size": 10,
              "solidity": 0.2
             }
            },
            "type": "barpolar"
           }
          ],
          "carpet": [
           {
            "aaxis": {
             "endlinecolor": "#A2B1C6",
             "gridcolor": "#506784",
             "linecolor": "#506784",
             "minorgridcolor": "#506784",
             "startlinecolor": "#A2B1C6"
            },
            "baxis": {
             "endlinecolor": "#A2B1C6",
             "gridcolor": "#506784",
             "linecolor": "#506784",
             "minorgridcolor": "#506784",
             "startlinecolor": "#A2B1C6"
            },
            "type": "carpet"
           }
          ],
          "choropleth": [
           {
            "colorbar": {
             "outlinewidth": 0,
             "ticks": ""
            },
            "type": "choropleth"
           }
          ],
          "contour": [
           {
            "colorbar": {
             "outlinewidth": 0,
             "ticks": ""
            },
            "colorscale": [
             [
              0,
              "#0d0887"
             ],
             [
              0.1111111111111111,
              "#46039f"
             ],
             [
              0.2222222222222222,
              "#7201a8"
             ],
             [
              0.3333333333333333,
              "#9c179e"
             ],
             [
              0.4444444444444444,
              "#bd3786"
             ],
             [
              0.5555555555555556,
              "#d8576b"
             ],
             [
              0.6666666666666666,
              "#ed7953"
             ],
             [
              0.7777777777777778,
              "#fb9f3a"
             ],
             [
              0.8888888888888888,
              "#fdca26"
             ],
             [
              1,
              "#f0f921"
             ]
            ],
            "type": "contour"
           }
          ],
          "contourcarpet": [
           {
            "colorbar": {
             "outlinewidth": 0,
             "ticks": ""
            },
            "type": "contourcarpet"
           }
          ],
          "heatmap": [
           {
            "colorbar": {
             "outlinewidth": 0,
             "ticks": ""
            },
            "colorscale": [
             [
              0,
              "#0d0887"
             ],
             [
              0.1111111111111111,
              "#46039f"
             ],
             [
              0.2222222222222222,
              "#7201a8"
             ],
             [
              0.3333333333333333,
              "#9c179e"
             ],
             [
              0.4444444444444444,
              "#bd3786"
             ],
             [
              0.5555555555555556,
              "#d8576b"
             ],
             [
              0.6666666666666666,
              "#ed7953"
             ],
             [
              0.7777777777777778,
              "#fb9f3a"
             ],
             [
              0.8888888888888888,
              "#fdca26"
             ],
             [
              1,
              "#f0f921"
             ]
            ],
            "type": "heatmap"
           }
          ],
          "heatmapgl": [
           {
            "colorbar": {
             "outlinewidth": 0,
             "ticks": ""
            },
            "colorscale": [
             [
              0,
              "#0d0887"
             ],
             [
              0.1111111111111111,
              "#46039f"
             ],
             [
              0.2222222222222222,
              "#7201a8"
             ],
             [
              0.3333333333333333,
              "#9c179e"
             ],
             [
              0.4444444444444444,
              "#bd3786"
             ],
             [
              0.5555555555555556,
              "#d8576b"
             ],
             [
              0.6666666666666666,
              "#ed7953"
             ],
             [
              0.7777777777777778,
              "#fb9f3a"
             ],
             [
              0.8888888888888888,
              "#fdca26"
             ],
             [
              1,
              "#f0f921"
             ]
            ],
            "type": "heatmapgl"
           }
          ],
          "histogram": [
           {
            "marker": {
             "pattern": {
              "fillmode": "overlay",
              "size": 10,
              "solidity": 0.2
             }
            },
            "type": "histogram"
           }
          ],
          "histogram2d": [
           {
            "colorbar": {
             "outlinewidth": 0,
             "ticks": ""
            },
            "colorscale": [
             [
              0,
              "#0d0887"
             ],
             [
              0.1111111111111111,
              "#46039f"
             ],
             [
              0.2222222222222222,
              "#7201a8"
             ],
             [
              0.3333333333333333,
              "#9c179e"
             ],
             [
              0.4444444444444444,
              "#bd3786"
             ],
             [
              0.5555555555555556,
              "#d8576b"
             ],
             [
              0.6666666666666666,
              "#ed7953"
             ],
             [
              0.7777777777777778,
              "#fb9f3a"
             ],
             [
              0.8888888888888888,
              "#fdca26"
             ],
             [
              1,
              "#f0f921"
             ]
            ],
            "type": "histogram2d"
           }
          ],
          "histogram2dcontour": [
           {
            "colorbar": {
             "outlinewidth": 0,
             "ticks": ""
            },
            "colorscale": [
             [
              0,
              "#0d0887"
             ],
             [
              0.1111111111111111,
              "#46039f"
             ],
             [
              0.2222222222222222,
              "#7201a8"
             ],
             [
              0.3333333333333333,
              "#9c179e"
             ],
             [
              0.4444444444444444,
              "#bd3786"
             ],
             [
              0.5555555555555556,
              "#d8576b"
             ],
             [
              0.6666666666666666,
              "#ed7953"
             ],
             [
              0.7777777777777778,
              "#fb9f3a"
             ],
             [
              0.8888888888888888,
              "#fdca26"
             ],
             [
              1,
              "#f0f921"
             ]
            ],
            "type": "histogram2dcontour"
           }
          ],
          "mesh3d": [
           {
            "colorbar": {
             "outlinewidth": 0,
             "ticks": ""
            },
            "type": "mesh3d"
           }
          ],
          "parcoords": [
           {
            "line": {
             "colorbar": {
              "outlinewidth": 0,
              "ticks": ""
             }
            },
            "type": "parcoords"
           }
          ],
          "pie": [
           {
            "automargin": true,
            "type": "pie"
           }
          ],
          "scatter": [
           {
            "marker": {
             "line": {
              "color": "#283442"
             }
            },
            "type": "scatter"
           }
          ],
          "scatter3d": [
           {
            "line": {
             "colorbar": {
              "outlinewidth": 0,
              "ticks": ""
             }
            },
            "marker": {
             "colorbar": {
              "outlinewidth": 0,
              "ticks": ""
             }
            },
            "type": "scatter3d"
           }
          ],
          "scattercarpet": [
           {
            "marker": {
             "colorbar": {
              "outlinewidth": 0,
              "ticks": ""
             }
            },
            "type": "scattercarpet"
           }
          ],
          "scattergeo": [
           {
            "marker": {
             "colorbar": {
              "outlinewidth": 0,
              "ticks": ""
             }
            },
            "type": "scattergeo"
           }
          ],
          "scattergl": [
           {
            "marker": {
             "line": {
              "color": "#283442"
             }
            },
            "type": "scattergl"
           }
          ],
          "scattermapbox": [
           {
            "marker": {
             "colorbar": {
              "outlinewidth": 0,
              "ticks": ""
             }
            },
            "type": "scattermapbox"
           }
          ],
          "scatterpolar": [
           {
            "marker": {
             "colorbar": {
              "outlinewidth": 0,
              "ticks": ""
             }
            },
            "type": "scatterpolar"
           }
          ],
          "scatterpolargl": [
           {
            "marker": {
             "colorbar": {
              "outlinewidth": 0,
              "ticks": ""
             }
            },
            "type": "scatterpolargl"
           }
          ],
          "scatterternary": [
           {
            "marker": {
             "colorbar": {
              "outlinewidth": 0,
              "ticks": ""
             }
            },
            "type": "scatterternary"
           }
          ],
          "surface": [
           {
            "colorbar": {
             "outlinewidth": 0,
             "ticks": ""
            },
            "colorscale": [
             [
              0,
              "#0d0887"
             ],
             [
              0.1111111111111111,
              "#46039f"
             ],
             [
              0.2222222222222222,
              "#7201a8"
             ],
             [
              0.3333333333333333,
              "#9c179e"
             ],
             [
              0.4444444444444444,
              "#bd3786"
             ],
             [
              0.5555555555555556,
              "#d8576b"
             ],
             [
              0.6666666666666666,
              "#ed7953"
             ],
             [
              0.7777777777777778,
              "#fb9f3a"
             ],
             [
              0.8888888888888888,
              "#fdca26"
             ],
             [
              1,
              "#f0f921"
             ]
            ],
            "type": "surface"
           }
          ],
          "table": [
           {
            "cells": {
             "fill": {
              "color": "#506784"
             },
             "line": {
              "color": "rgb(17,17,17)"
             }
            },
            "header": {
             "fill": {
              "color": "#2a3f5f"
             },
             "line": {
              "color": "rgb(17,17,17)"
             }
            },
            "type": "table"
           }
          ]
         },
         "layout": {
          "annotationdefaults": {
           "arrowcolor": "#f2f5fa",
           "arrowhead": 0,
           "arrowwidth": 1
          },
          "autotypenumbers": "strict",
          "coloraxis": {
           "colorbar": {
            "outlinewidth": 0,
            "ticks": ""
           }
          },
          "colorscale": {
           "diverging": [
            [
             0,
             "#8e0152"
            ],
            [
             0.1,
             "#c51b7d"
            ],
            [
             0.2,
             "#de77ae"
            ],
            [
             0.3,
             "#f1b6da"
            ],
            [
             0.4,
             "#fde0ef"
            ],
            [
             0.5,
             "#f7f7f7"
            ],
            [
             0.6,
             "#e6f5d0"
            ],
            [
             0.7,
             "#b8e186"
            ],
            [
             0.8,
             "#7fbc41"
            ],
            [
             0.9,
             "#4d9221"
            ],
            [
             1,
             "#276419"
            ]
           ],
           "sequential": [
            [
             0,
             "#0d0887"
            ],
            [
             0.1111111111111111,
             "#46039f"
            ],
            [
             0.2222222222222222,
             "#7201a8"
            ],
            [
             0.3333333333333333,
             "#9c179e"
            ],
            [
             0.4444444444444444,
             "#bd3786"
            ],
            [
             0.5555555555555556,
             "#d8576b"
            ],
            [
             0.6666666666666666,
             "#ed7953"
            ],
            [
             0.7777777777777778,
             "#fb9f3a"
            ],
            [
             0.8888888888888888,
             "#fdca26"
            ],
            [
             1,
             "#f0f921"
            ]
           ],
           "sequentialminus": [
            [
             0,
             "#0d0887"
            ],
            [
             0.1111111111111111,
             "#46039f"
            ],
            [
             0.2222222222222222,
             "#7201a8"
            ],
            [
             0.3333333333333333,
             "#9c179e"
            ],
            [
             0.4444444444444444,
             "#bd3786"
            ],
            [
             0.5555555555555556,
             "#d8576b"
            ],
            [
             0.6666666666666666,
             "#ed7953"
            ],
            [
             0.7777777777777778,
             "#fb9f3a"
            ],
            [
             0.8888888888888888,
             "#fdca26"
            ],
            [
             1,
             "#f0f921"
            ]
           ]
          },
          "colorway": [
           "#636efa",
           "#EF553B",
           "#00cc96",
           "#ab63fa",
           "#FFA15A",
           "#19d3f3",
           "#FF6692",
           "#B6E880",
           "#FF97FF",
           "#FECB52"
          ],
          "font": {
           "color": "#f2f5fa"
          },
          "geo": {
           "bgcolor": "rgb(17,17,17)",
           "lakecolor": "rgb(17,17,17)",
           "landcolor": "rgb(17,17,17)",
           "showlakes": true,
           "showland": true,
           "subunitcolor": "#506784"
          },
          "hoverlabel": {
           "align": "left"
          },
          "hovermode": "closest",
          "mapbox": {
           "style": "dark"
          },
          "paper_bgcolor": "rgb(17,17,17)",
          "plot_bgcolor": "rgb(17,17,17)",
          "polar": {
           "angularaxis": {
            "gridcolor": "#506784",
            "linecolor": "#506784",
            "ticks": ""
           },
           "bgcolor": "rgb(17,17,17)",
           "radialaxis": {
            "gridcolor": "#506784",
            "linecolor": "#506784",
            "ticks": ""
           }
          },
          "scene": {
           "xaxis": {
            "backgroundcolor": "rgb(17,17,17)",
            "gridcolor": "#506784",
            "gridwidth": 2,
            "linecolor": "#506784",
            "showbackground": true,
            "ticks": "",
            "zerolinecolor": "#C8D4E3"
           },
           "yaxis": {
            "backgroundcolor": "rgb(17,17,17)",
            "gridcolor": "#506784",
            "gridwidth": 2,
            "linecolor": "#506784",
            "showbackground": true,
            "ticks": "",
            "zerolinecolor": "#C8D4E3"
           },
           "zaxis": {
            "backgroundcolor": "rgb(17,17,17)",
            "gridcolor": "#506784",
            "gridwidth": 2,
            "linecolor": "#506784",
            "showbackground": true,
            "ticks": "",
            "zerolinecolor": "#C8D4E3"
           }
          },
          "shapedefaults": {
           "line": {
            "color": "#f2f5fa"
           }
          },
          "sliderdefaults": {
           "bgcolor": "#C8D4E3",
           "bordercolor": "rgb(17,17,17)",
           "borderwidth": 1,
           "tickwidth": 0
          },
          "ternary": {
           "aaxis": {
            "gridcolor": "#506784",
            "linecolor": "#506784",
            "ticks": ""
           },
           "baxis": {
            "gridcolor": "#506784",
            "linecolor": "#506784",
            "ticks": ""
           },
           "bgcolor": "rgb(17,17,17)",
           "caxis": {
            "gridcolor": "#506784",
            "linecolor": "#506784",
            "ticks": ""
           }
          },
          "title": {
           "x": 0.05
          },
          "updatemenudefaults": {
           "bgcolor": "#506784",
           "borderwidth": 0
          },
          "xaxis": {
           "automargin": true,
           "gridcolor": "#283442",
           "linecolor": "#506784",
           "ticks": "",
           "title": {
            "standoff": 15
           },
           "zerolinecolor": "#283442",
           "zerolinewidth": 2
          },
          "yaxis": {
           "automargin": true,
           "gridcolor": "#283442",
           "linecolor": "#506784",
           "ticks": "",
           "title": {
            "standoff": 15
           },
           "zerolinecolor": "#283442",
           "zerolinewidth": 2
          }
         }
        },
        "title": {
         "text": "Augmentation du coûtpar rapport à Best Improvement (CURR)<br>avec initialisation random"
        },
        "width": 1000
       }
      }
     },
     "metadata": {},
     "output_type": "display_data"
    }
   ],
   "source": [
    "plot(df,\"random\",color_formatter=MultipleRanges())"
   ]
  },
  {
   "cell_type": "code",
   "execution_count": null,
   "metadata": {},
   "outputs": [],
   "source": []
  }
 ],
 "metadata": {
  "interpreter": {
   "hash": "a7a80cf5091cc3b0eca4837265a50c60c3c4b353b9419c8d484eb15b11025f30"
  },
  "kernelspec": {
   "display_name": "Python 3.8.12 (conda)",
   "language": "python",
   "name": "python3"
  },
  "language_info": {
   "codemirror_mode": {
    "name": "ipython",
    "version": 3
   },
   "file_extension": ".py",
   "mimetype": "text/x-python",
   "name": "python",
   "nbconvert_exporter": "python",
   "pygments_lexer": "ipython3",
   "version": "3.8.12"
  },
  "orig_nbformat": 4
 },
 "nbformat": 4,
 "nbformat_minor": 2
}
