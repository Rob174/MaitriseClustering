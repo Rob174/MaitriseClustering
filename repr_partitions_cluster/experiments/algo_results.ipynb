{
 "cells": [
  {
   "cell_type": "markdown",
   "metadata": {},
   "source": []
  },
  {
   "cell_type": "code",
   "execution_count": 1,
   "metadata": {},
   "outputs": [
    {
     "name": "stdout",
     "output_type": "stream",
     "text": [
      "C:\\Users\\robin\\Documents\\Cours\\Poly\\Recherche\\MaitriseClustering\\data\\algos_results.csv\n"
     ]
    }
   ],
   "source": [
    "\n",
    "\n",
    "import pandas as pd\n",
    "import numpy as np\n",
    "from pathlib import Path\n",
    "from IPython.display import display, HTML\n",
    "import plotly.express as px\n",
    "import dataframe_image as dfi\n",
    "import matplotlib.pyplot as plt\n",
    "import matplotlib.colors as mcolors\n",
    "pd.options.mode.chained_assignment = 'warn'  # default=\n",
    "pd.options.plotting.backend = \"plotly\"\n",
    "pd.options.display.float_format = '{:,.2f}'.format\n",
    "PATH_CACHE = Path(\"../../data/algos_results.csv\").resolve()\n",
    "print(PATH_CACHE)\n",
    "pd.set_option('display.max_columns', None)  "
   ]
  },
  {
   "cell_type": "code",
   "execution_count": 188,
   "metadata": {},
   "outputs": [],
   "source": [
    "orig_df = pd.read_csv(PATH_CACHE, sep=\",\",header=0,index_col=False)\n",
    "for orig_name,new_name in [(\"CallbackBestImprovement\",\"BI\"),(\"CallbackFirstImprovement\",\"FI\")]:\n",
    "    orig_df.loc[orig_df.ImprClass == orig_name,\"ImprClass\"] = new_name\n",
    "orig_df.loc[:,\"algorithm\"] = orig_df[\"ImprClass\"]+\"_\" + orig_df[\"iteration_order\"]\n",
    "orig_df.loc[:,\"Nb. points\"] = orig_df[\"num_points\"]\n",
    "orig_df.drop([\"ImprClass\",\"iteration_order\",\"num_iter\",\"global_index\"],axis=1,inplace=True)\n",
    "df = orig_df.copy()\n",
    "dico_comp = {}\n",
    "Ldf_clusters = []\n",
    "for num_clusters in [2**i for i in range(1,8)]:\n",
    "    df_clust = df[df[\"num_clusters\"] == num_clusters].copy()\n",
    "    dico_df_init = {}\n",
    "    for init_type in pd.unique(df[\"init_type\"]):\n",
    "        df_init = df_clust[df_clust[\"init_type\"] == init_type].copy()\n",
    "        dico_df_costs = {}\n",
    "        dico_df_time = {}\n",
    "        dico_df_num_iter_tot = {}\n",
    "        # Average cost computation\n",
    "        for algorithm in pd.unique(df_init[\"algorithm\"]):\n",
    "            df_algo = df_init[df_init[\"algorithm\"] == algorithm].copy()\n",
    "            df_algo = df_algo.groupby(\"num_points\",as_index=False).mean()\n",
    "            df_algo.set_index([\"Nb. points\"],inplace=True)\n",
    "            \n",
    "            if algorithm == \"BI_BACK\":\n",
    "                columns = [\"num_points\",\"init_cost\",\"end_cost\"]\n",
    "            else:\n",
    "                columns = [\"num_points\",\"end_cost\"]\n",
    "            dico_df_costs[algorithm] = df_algo[columns].copy()\n",
    "                \n",
    "            dico_df_time[algorithm] = df_algo[[\"num_points\",\"time\"]].copy().drop([\"num_points\"],axis=1)\n",
    "            dico_df_num_iter_tot[algorithm] = df_algo[[\"num_points\",\"num_iter_tot\"]].copy().drop([\"num_points\"],axis=1)\n",
    "        dico_impr_algos = {}\n",
    "        # Average improvement computation\n",
    "        for algorithm_name,df_algo in dico_df_costs.items():\n",
    "            if algorithm_name == \"BI_BACK\":\n",
    "                continue\n",
    "            BI_BACK = dico_df_costs[\"BI_BACK\"][[\"num_points\",\"end_cost\"]].copy()\n",
    "            FI = df_algo[[\"num_points\",\"end_cost\"]].copy()\n",
    "            dico_impr_algos[algorithm_name] = ((BI_BACK - FI)/BI_BACK*100).drop([\"num_points\"],axis=1)\n",
    "        for algorithm_name,df_algo in dico_df_costs.items():\n",
    "            df_algo.drop([\"num_points\"],axis=1,inplace=True)\n",
    "        if len(dico_impr_algos) > 1:\n",
    "            cost_df_comp = pd.concat(dico_df_costs.values(),axis=1,keys=dico_df_costs.keys())\n",
    "            impr_df_comp = pd.concat(dico_impr_algos.values(),axis=1,keys=dico_impr_algos.keys())\n",
    "            num_points = [int(i) for i in impr_df_comp.index]\n",
    "            impr_df_comp.insert(loc=0,column=\"points/centroid\",value=np.array(num_points)/num_clusters)\n",
    "            time_df_comp = pd.concat(dico_df_time.values(),axis=1,keys=dico_df_time.keys())\n",
    "            num_iter_comp = pd.concat(dico_df_num_iter_tot.values(),axis=1,keys=dico_df_num_iter_tot.keys())\n",
    "            clust_comp_df = pd.concat([cost_df_comp,impr_df_comp,time_df_comp,num_iter_comp],axis=1,keys=[\"Coût final\",\"% amélioration\",\"Temps d'exécution (s)\",\"Nombre d'itérations\"])\n",
    "            dico_df_init[init_type] = clust_comp_df\n",
    "    if len(dico_df_init) == 0:\n",
    "        pass\n",
    "    elif len(dico_df_init) == 1:\n",
    "        print(\"Pour le nombre de clusters : \",num_clusters)\n",
    "        print(display(dico_df_init[list(dico_df_init.keys())[0]]))\n",
    "    else:\n",
    "        comp_init = pd.concat(dico_df_init.values(),axis=1,keys=dico_df_init.keys())\n",
    "        # print(\"Pour le nombre de clusters : \",num_clusters)\n",
    "        # print(display(comp_init))\n",
    "        # dfi.export(comp_init,f\"comp_{num_clusters}_clusters.png\",max_cols=-1)\n",
    "        dico_comp[num_clusters] = comp_init\n"
   ]
  },
  {
   "cell_type": "code",
   "execution_count": 189,
   "metadata": {},
   "outputs": [],
   "source": [
    "# sample the colormaps that you want to use. Use 128 from each so we get 256\n",
    "def generate_cmap(negative_good=True):\n",
    "    # thanks to https://stackoverflow.com/questions/31051488/combining-two-matplotlib-colormaps\n",
    "    # colors in total\n",
    "    Lintervals = [\n",
    "        (1,0),\n",
    "        (0.,1.)\n",
    "    ]\n",
    "    Lcmap_names = [\"Reds\",\"Greens\"]\n",
    "    if negative_good:\n",
    "        Lcmap_names = Lcmap_names[::-1]\n",
    "    Lcmaps = [\n",
    "        plt.get_cmap(name)(np.linspace(*interval,128)) for name,interval in zip(Lcmap_names,Lintervals)\n",
    "    ]\n",
    "    \n",
    "\n",
    "    # combine them and build a new colormap\n",
    "    colors = np.vstack(Lcmaps)\n",
    "    mymap = mcolors.LinearSegmentedColormap.from_list('my_colormap', colors)\n",
    "    return mymap\n",
    "def select_col(x):\n",
    "    c1 = 'background-color: red'\n",
    "    c2 = '' \n",
    "    #compare columns\n",
    "    mask = x['Diff'] > x['HistoricStandardDev']\n",
    "    #DataFrame with same index and columns names as original filled empty strings\n",
    "    df1 =  pd.DataFrame(c2, index=x.index, columns=x.columns)\n",
    "    #modify values of df1 column by boolean mask\n",
    "    df1.loc[mask, 'Current'] = c1\n",
    "    return df1"
   ]
  },
  {
   "cell_type": "code",
   "execution_count": 190,
   "metadata": {},
   "outputs": [
    {
     "data": {
      "image/png": "[encoded data removed]",
      "text/plain": [
       "<Figure size 460.8x69.264 with 2 Axes>"
      ]
     },
     "metadata": {
      "needs_background": "light"
     },
     "output_type": "display_data"
    }
   ],
   "source": [
    "gradient = np.linspace(0, 1, 256)\n",
    "gradient = np.vstack((gradient, gradient))\n",
    "def plot_color_gradients(cmap_category, cmap_list,titles):\n",
    "    # Create figure and adjust figure height to number of colormaps\n",
    "    nrows = len(cmap_list)\n",
    "    figh = 0.35 + 0.15 + (nrows + (nrows-1)*0.1)*0.22\n",
    "    fig, axs = plt.subplots(nrows=nrows, figsize=(6.4, figh))\n",
    "    fig.subplots_adjust(top=1-.35/figh, bottom=.15/figh, left=0.2, right=0.99)\n",
    "\n",
    "    axs[0].set_title(cmap_category + ' colormaps', fontsize=14)\n",
    "\n",
    "    for ax, cmap_name,name in zip(axs, cmap_list,titles):\n",
    "        ax.imshow(gradient, aspect='auto', cmap=cmap_name)\n",
    "        ax.text(-.01, .5, name, va='center', ha='right', fontsize=10,\n",
    "                transform=ax.transAxes)\n",
    "\n",
    "    # Turn off *all* ticks & spines, not just the ones with colormaps.\n",
    "    for ax in axs:\n",
    "        ax.set_axis_off()\n",
    "plot_color_gradients(\"test\",[generate_cmap(negative_good=False),generate_cmap(negative_good=True)],[\"negative_good bad\",\"negative_good good\"])"
   ]
  },
  {
   "cell_type": "code",
   "execution_count": 191,
   "metadata": {},
   "outputs": [
    {
     "name": "stdout",
     "output_type": "stream",
     "text": [
      "Pour le nombre de clusters :  2\n"
     ]
    },
    {
     "data": {
      "text/html": [
       "<style type=\"text/css\">\n",
       "#T_41783_row0_col6 {\n",
       "  background-color: #2b934b;\n",
       "  color: #f1f1f1;\n",
       "}\n",
       "#T_41783_row0_col7 {\n",
       "  background-color: #c7e9c0;\n",
       "  color: #000000;\n",
       "}\n",
       "#T_41783_row0_col8 {\n",
       "  background-color: #00441b;\n",
       "  color: #f1f1f1;\n",
       "}\n",
       "#T_41783_row0_col23, #T_41783_row1_col7, #T_41783_row3_col24, #T_41783_row5_col23 {\n",
       "  background-color: #f0f9ed;\n",
       "  color: #000000;\n",
       "}\n",
       "#T_41783_row0_col24 {\n",
       "  background-color: #67000d;\n",
       "  color: #f1f1f1;\n",
       "}\n",
       "#T_41783_row0_col25 {\n",
       "  background-color: #e93529;\n",
       "  color: #f1f1f1;\n",
       "}\n",
       "#T_41783_row1_col6 {\n",
       "  background-color: #e3f4de;\n",
       "  color: #000000;\n",
       "}\n",
       "#T_41783_row1_col8 {\n",
       "  background-color: #fee4d8;\n",
       "  color: #000000;\n",
       "}\n",
       "#T_41783_row1_col23, #T_41783_row7_col6 {\n",
       "  background-color: #fca486;\n",
       "  color: #000000;\n",
       "}\n",
       "#T_41783_row1_col24 {\n",
       "  background-color: #005b25;\n",
       "  color: #f1f1f1;\n",
       "}\n",
       "#T_41783_row1_col25 {\n",
       "  background-color: #a50f15;\n",
       "  color: #f1f1f1;\n",
       "}\n",
       "#T_41783_row2_col6 {\n",
       "  background-color: #fc9272;\n",
       "  color: #000000;\n",
       "}\n",
       "#T_41783_row2_col7 {\n",
       "  background-color: #5bb86a;\n",
       "  color: #f1f1f1;\n",
       "}\n",
       "#T_41783_row2_col8 {\n",
       "  background-color: #278f48;\n",
       "  color: #f1f1f1;\n",
       "}\n",
       "#T_41783_row2_col23 {\n",
       "  background-color: #fcc4ad;\n",
       "  color: #000000;\n",
       "}\n",
       "#T_41783_row2_col24 {\n",
       "  background-color: #f44d38;\n",
       "  color: #f1f1f1;\n",
       "}\n",
       "#T_41783_row2_col25 {\n",
       "  background-color: #fb7858;\n",
       "  color: #f1f1f1;\n",
       "}\n",
       "#T_41783_row3_col6 {\n",
       "  background-color: #fdc6b0;\n",
       "  color: #000000;\n",
       "}\n",
       "#T_41783_row3_col7 {\n",
       "  background-color: #fff5f0;\n",
       "  color: #000000;\n",
       "}\n",
       "#T_41783_row3_col8 {\n",
       "  background-color: #ccebc6;\n",
       "  color: #000000;\n",
       "}\n",
       "#T_41783_row3_col23 {\n",
       "  background-color: #48ae60;\n",
       "  color: #f1f1f1;\n",
       "}\n",
       "#T_41783_row3_col25 {\n",
       "  background-color: #2f974e;\n",
       "  color: #f1f1f1;\n",
       "}\n",
       "#T_41783_row4_col6, #T_41783_row7_col8 {\n",
       "  background-color: #eff9ec;\n",
       "  color: #000000;\n",
       "}\n",
       "#T_41783_row4_col7 {\n",
       "  background-color: #fb7353;\n",
       "  color: #f1f1f1;\n",
       "}\n",
       "#T_41783_row4_col8 {\n",
       "  background-color: #fed9c9;\n",
       "  color: #000000;\n",
       "}\n",
       "#T_41783_row4_col23 {\n",
       "  background-color: #eef8ea;\n",
       "  color: #000000;\n",
       "}\n",
       "#T_41783_row4_col24 {\n",
       "  background-color: #e1f3dc;\n",
       "  color: #000000;\n",
       "}\n",
       "#T_41783_row4_col25, #T_41783_row6_col8 {\n",
       "  background-color: #f4fbf1;\n",
       "  color: #000000;\n",
       "}\n",
       "#T_41783_row5_col6 {\n",
       "  background-color: #87cd86;\n",
       "  color: #000000;\n",
       "}\n",
       "#T_41783_row5_col7 {\n",
       "  background-color: #ceecc8;\n",
       "  color: #000000;\n",
       "}\n",
       "#T_41783_row5_col8 {\n",
       "  background-color: #45ad5f;\n",
       "  color: #f1f1f1;\n",
       "}\n",
       "#T_41783_row5_col24 {\n",
       "  background-color: #e7f6e3;\n",
       "  color: #000000;\n",
       "}\n",
       "#T_41783_row5_col25 {\n",
       "  background-color: #3aa357;\n",
       "  color: #f1f1f1;\n",
       "}\n",
       "#T_41783_row6_col6 {\n",
       "  background-color: #fca689;\n",
       "  color: #000000;\n",
       "}\n",
       "#T_41783_row6_col7 {\n",
       "  background-color: #bbe4b4;\n",
       "  color: #000000;\n",
       "}\n",
       "#T_41783_row6_col23 {\n",
       "  background-color: #d8f0d2;\n",
       "  color: #000000;\n",
       "}\n",
       "#T_41783_row6_col24 {\n",
       "  background-color: #b8e3b2;\n",
       "  color: #000000;\n",
       "}\n",
       "#T_41783_row6_col25 {\n",
       "  background-color: #fdd4c2;\n",
       "  color: #000000;\n",
       "}\n",
       "#T_41783_row7_col7 {\n",
       "  background-color: #f7fcf5;\n",
       "  color: #000000;\n",
       "}\n",
       "#T_41783_row7_col23, #T_41783_row7_col25 {\n",
       "  background-color: #e5f5e0;\n",
       "  color: #000000;\n",
       "}\n",
       "#T_41783_row7_col24 {\n",
       "  background-color: #fc9e80;\n",
       "  color: #000000;\n",
       "}\n",
       "#T_41783_row8_col6 {\n",
       "  background-color: #fff1ea;\n",
       "  color: #000000;\n",
       "}\n",
       "#T_41783_row8_col7 {\n",
       "  background-color: #e9f7e5;\n",
       "  color: #000000;\n",
       "}\n",
       "#T_41783_row8_col8 {\n",
       "  background-color: #edf8e9;\n",
       "  color: #000000;\n",
       "}\n",
       "#T_41783_row8_col23 {\n",
       "  background-color: #c2e7bb;\n",
       "  color: #000000;\n",
       "}\n",
       "#T_41783_row8_col24 {\n",
       "  background-color: #d4eece;\n",
       "  color: #000000;\n",
       "}\n",
       "#T_41783_row8_col25 {\n",
       "  background-color: #6bc072;\n",
       "  color: #000000;\n",
       "}\n",
       "</style>\n",
       "<table id=\"T_41783\">\n",
       "  <thead>\n",
       "    <tr>\n",
       "      <th class=\"blank level0\" >&nbsp;</th>\n",
       "      <th id=\"T_41783_level0_col0\" class=\"col_heading level0 col0\" colspan=\"17\">random</th>\n",
       "      <th id=\"T_41783_level0_col17\" class=\"col_heading level0 col17\" colspan=\"17\">kmean+</th>\n",
       "    </tr>\n",
       "    <tr>\n",
       "      <th class=\"blank level1\" >&nbsp;</th>\n",
       "      <th id=\"T_41783_level1_col0\" class=\"col_heading level1 col0\" colspan=\"5\">Coût final</th>\n",
       "      <th id=\"T_41783_level1_col5\" class=\"col_heading level1 col5\" colspan=\"4\">% amélioration</th>\n",
       "      <th id=\"T_41783_level1_col9\" class=\"col_heading level1 col9\" colspan=\"4\">Temps d'exécution (s)</th>\n",
       "      <th id=\"T_41783_level1_col13\" class=\"col_heading level1 col13\" colspan=\"4\">Nombre d'itérations</th>\n",
       "      <th id=\"T_41783_level1_col17\" class=\"col_heading level1 col17\" colspan=\"5\">Coût final</th>\n",
       "      <th id=\"T_41783_level1_col22\" class=\"col_heading level1 col22\" colspan=\"4\">% amélioration</th>\n",
       "      <th id=\"T_41783_level1_col26\" class=\"col_heading level1 col26\" colspan=\"4\">Temps d'exécution (s)</th>\n",
       "      <th id=\"T_41783_level1_col30\" class=\"col_heading level1 col30\" colspan=\"4\">Nombre d'itérations</th>\n",
       "    </tr>\n",
       "    <tr>\n",
       "      <th class=\"blank level2\" >&nbsp;</th>\n",
       "      <th id=\"T_41783_level2_col0\" class=\"col_heading level2 col0\" colspan=\"2\">BI_BACK</th>\n",
       "      <th id=\"T_41783_level2_col2\" class=\"col_heading level2 col2\" >FI_CURR</th>\n",
       "      <th id=\"T_41783_level2_col3\" class=\"col_heading level2 col3\" >FI_BACK</th>\n",
       "      <th id=\"T_41783_level2_col4\" class=\"col_heading level2 col4\" >FI_RANDOM</th>\n",
       "      <th id=\"T_41783_level2_col5\" class=\"col_heading level2 col5\" >points/centroid</th>\n",
       "      <th id=\"T_41783_level2_col6\" class=\"col_heading level2 col6\" >FI_CURR</th>\n",
       "      <th id=\"T_41783_level2_col7\" class=\"col_heading level2 col7\" >FI_BACK</th>\n",
       "      <th id=\"T_41783_level2_col8\" class=\"col_heading level2 col8\" >FI_RANDOM</th>\n",
       "      <th id=\"T_41783_level2_col9\" class=\"col_heading level2 col9\" >BI_BACK</th>\n",
       "      <th id=\"T_41783_level2_col10\" class=\"col_heading level2 col10\" >FI_CURR</th>\n",
       "      <th id=\"T_41783_level2_col11\" class=\"col_heading level2 col11\" >FI_BACK</th>\n",
       "      <th id=\"T_41783_level2_col12\" class=\"col_heading level2 col12\" >FI_RANDOM</th>\n",
       "      <th id=\"T_41783_level2_col13\" class=\"col_heading level2 col13\" >BI_BACK</th>\n",
       "      <th id=\"T_41783_level2_col14\" class=\"col_heading level2 col14\" >FI_CURR</th>\n",
       "      <th id=\"T_41783_level2_col15\" class=\"col_heading level2 col15\" >FI_BACK</th>\n",
       "      <th id=\"T_41783_level2_col16\" class=\"col_heading level2 col16\" >FI_RANDOM</th>\n",
       "      <th id=\"T_41783_level2_col17\" class=\"col_heading level2 col17\" colspan=\"2\">BI_BACK</th>\n",
       "      <th id=\"T_41783_level2_col19\" class=\"col_heading level2 col19\" >FI_CURR</th>\n",
       "      <th id=\"T_41783_level2_col20\" class=\"col_heading level2 col20\" >FI_BACK</th>\n",
       "      <th id=\"T_41783_level2_col21\" class=\"col_heading level2 col21\" >FI_RANDOM</th>\n",
       "      <th id=\"T_41783_level2_col22\" class=\"col_heading level2 col22\" >points/centroid</th>\n",
       "      <th id=\"T_41783_level2_col23\" class=\"col_heading level2 col23\" >FI_CURR</th>\n",
       "      <th id=\"T_41783_level2_col24\" class=\"col_heading level2 col24\" >FI_BACK</th>\n",
       "      <th id=\"T_41783_level2_col25\" class=\"col_heading level2 col25\" >FI_RANDOM</th>\n",
       "      <th id=\"T_41783_level2_col26\" class=\"col_heading level2 col26\" >BI_BACK</th>\n",
       "      <th id=\"T_41783_level2_col27\" class=\"col_heading level2 col27\" >FI_CURR</th>\n",
       "      <th id=\"T_41783_level2_col28\" class=\"col_heading level2 col28\" >FI_BACK</th>\n",
       "      <th id=\"T_41783_level2_col29\" class=\"col_heading level2 col29\" >FI_RANDOM</th>\n",
       "      <th id=\"T_41783_level2_col30\" class=\"col_heading level2 col30\" >BI_BACK</th>\n",
       "      <th id=\"T_41783_level2_col31\" class=\"col_heading level2 col31\" >FI_CURR</th>\n",
       "      <th id=\"T_41783_level2_col32\" class=\"col_heading level2 col32\" >FI_BACK</th>\n",
       "      <th id=\"T_41783_level2_col33\" class=\"col_heading level2 col33\" >FI_RANDOM</th>\n",
       "    </tr>\n",
       "    <tr>\n",
       "      <th class=\"blank level3\" >&nbsp;</th>\n",
       "      <th id=\"T_41783_level3_col0\" class=\"col_heading level3 col0\" >init_cost</th>\n",
       "      <th id=\"T_41783_level3_col1\" class=\"col_heading level3 col1\" >end_cost</th>\n",
       "      <th id=\"T_41783_level3_col2\" class=\"col_heading level3 col2\" >end_cost</th>\n",
       "      <th id=\"T_41783_level3_col3\" class=\"col_heading level3 col3\" >end_cost</th>\n",
       "      <th id=\"T_41783_level3_col4\" class=\"col_heading level3 col4\" >end_cost</th>\n",
       "      <th id=\"T_41783_level3_col5\" class=\"col_heading level3 col5\" ></th>\n",
       "      <th id=\"T_41783_level3_col6\" class=\"col_heading level3 col6\" >end_cost</th>\n",
       "      <th id=\"T_41783_level3_col7\" class=\"col_heading level3 col7\" >end_cost</th>\n",
       "      <th id=\"T_41783_level3_col8\" class=\"col_heading level3 col8\" >end_cost</th>\n",
       "      <th id=\"T_41783_level3_col9\" class=\"col_heading level3 col9\" >time</th>\n",
       "      <th id=\"T_41783_level3_col10\" class=\"col_heading level3 col10\" >time</th>\n",
       "      <th id=\"T_41783_level3_col11\" class=\"col_heading level3 col11\" >time</th>\n",
       "      <th id=\"T_41783_level3_col12\" class=\"col_heading level3 col12\" >time</th>\n",
       "      <th id=\"T_41783_level3_col13\" class=\"col_heading level3 col13\" >num_iter_tot</th>\n",
       "      <th id=\"T_41783_level3_col14\" class=\"col_heading level3 col14\" >num_iter_tot</th>\n",
       "      <th id=\"T_41783_level3_col15\" class=\"col_heading level3 col15\" >num_iter_tot</th>\n",
       "      <th id=\"T_41783_level3_col16\" class=\"col_heading level3 col16\" >num_iter_tot</th>\n",
       "      <th id=\"T_41783_level3_col17\" class=\"col_heading level3 col17\" >init_cost</th>\n",
       "      <th id=\"T_41783_level3_col18\" class=\"col_heading level3 col18\" >end_cost</th>\n",
       "      <th id=\"T_41783_level3_col19\" class=\"col_heading level3 col19\" >end_cost</th>\n",
       "      <th id=\"T_41783_level3_col20\" class=\"col_heading level3 col20\" >end_cost</th>\n",
       "      <th id=\"T_41783_level3_col21\" class=\"col_heading level3 col21\" >end_cost</th>\n",
       "      <th id=\"T_41783_level3_col22\" class=\"col_heading level3 col22\" ></th>\n",
       "      <th id=\"T_41783_level3_col23\" class=\"col_heading level3 col23\" >end_cost</th>\n",
       "      <th id=\"T_41783_level3_col24\" class=\"col_heading level3 col24\" >end_cost</th>\n",
       "      <th id=\"T_41783_level3_col25\" class=\"col_heading level3 col25\" >end_cost</th>\n",
       "      <th id=\"T_41783_level3_col26\" class=\"col_heading level3 col26\" >time</th>\n",
       "      <th id=\"T_41783_level3_col27\" class=\"col_heading level3 col27\" >time</th>\n",
       "      <th id=\"T_41783_level3_col28\" class=\"col_heading level3 col28\" >time</th>\n",
       "      <th id=\"T_41783_level3_col29\" class=\"col_heading level3 col29\" >time</th>\n",
       "      <th id=\"T_41783_level3_col30\" class=\"col_heading level3 col30\" >num_iter_tot</th>\n",
       "      <th id=\"T_41783_level3_col31\" class=\"col_heading level3 col31\" >num_iter_tot</th>\n",
       "      <th id=\"T_41783_level3_col32\" class=\"col_heading level3 col32\" >num_iter_tot</th>\n",
       "      <th id=\"T_41783_level3_col33\" class=\"col_heading level3 col33\" >num_iter_tot</th>\n",
       "    </tr>\n",
       "    <tr>\n",
       "      <th class=\"index_name level0\" >Nb. points</th>\n",
       "      <th class=\"blank col0\" >&nbsp;</th>\n",
       "      <th class=\"blank col1\" >&nbsp;</th>\n",
       "      <th class=\"blank col2\" >&nbsp;</th>\n",
       "      <th class=\"blank col3\" >&nbsp;</th>\n",
       "      <th class=\"blank col4\" >&nbsp;</th>\n",
       "      <th class=\"blank col5\" >&nbsp;</th>\n",
       "      <th class=\"blank col6\" >&nbsp;</th>\n",
       "      <th class=\"blank col7\" >&nbsp;</th>\n",
       "      <th class=\"blank col8\" >&nbsp;</th>\n",
       "      <th class=\"blank col9\" >&nbsp;</th>\n",
       "      <th class=\"blank col10\" >&nbsp;</th>\n",
       "      <th class=\"blank col11\" >&nbsp;</th>\n",
       "      <th class=\"blank col12\" >&nbsp;</th>\n",
       "      <th class=\"blank col13\" >&nbsp;</th>\n",
       "      <th class=\"blank col14\" >&nbsp;</th>\n",
       "      <th class=\"blank col15\" >&nbsp;</th>\n",
       "      <th class=\"blank col16\" >&nbsp;</th>\n",
       "      <th class=\"blank col17\" >&nbsp;</th>\n",
       "      <th class=\"blank col18\" >&nbsp;</th>\n",
       "      <th class=\"blank col19\" >&nbsp;</th>\n",
       "      <th class=\"blank col20\" >&nbsp;</th>\n",
       "      <th class=\"blank col21\" >&nbsp;</th>\n",
       "      <th class=\"blank col22\" >&nbsp;</th>\n",
       "      <th class=\"blank col23\" >&nbsp;</th>\n",
       "      <th class=\"blank col24\" >&nbsp;</th>\n",
       "      <th class=\"blank col25\" >&nbsp;</th>\n",
       "      <th class=\"blank col26\" >&nbsp;</th>\n",
       "      <th class=\"blank col27\" >&nbsp;</th>\n",
       "      <th class=\"blank col28\" >&nbsp;</th>\n",
       "      <th class=\"blank col29\" >&nbsp;</th>\n",
       "      <th class=\"blank col30\" >&nbsp;</th>\n",
       "      <th class=\"blank col31\" >&nbsp;</th>\n",
       "      <th class=\"blank col32\" >&nbsp;</th>\n",
       "      <th class=\"blank col33\" >&nbsp;</th>\n",
       "    </tr>\n",
       "  </thead>\n",
       "  <tbody>\n",
       "    <tr>\n",
       "      <th id=\"T_41783_level0_row0\" class=\"row_heading level0 row0\" >20.000000</th>\n",
       "      <td id=\"T_41783_row0_col0\" class=\"data row0 col0\" >30171.069891</td>\n",
       "      <td id=\"T_41783_row0_col1\" class=\"data row0 col1\" >16770.571702</td>\n",
       "      <td id=\"T_41783_row0_col2\" class=\"data row0 col2\" >16601.847700</td>\n",
       "      <td id=\"T_41783_row0_col3\" class=\"data row0 col3\" >16711.315527</td>\n",
       "      <td id=\"T_41783_row0_col4\" class=\"data row0 col4\" >16534.249856</td>\n",
       "      <td id=\"T_41783_row0_col5\" class=\"data row0 col5\" >10.000000</td>\n",
       "      <td id=\"T_41783_row0_col6\" class=\"data row0 col6\" >1.006072</td>\n",
       "      <td id=\"T_41783_row0_col7\" class=\"data row0 col7\" >0.353334</td>\n",
       "      <td id=\"T_41783_row0_col8\" class=\"data row0 col8\" >1.409146</td>\n",
       "      <td id=\"T_41783_row0_col9\" class=\"data row0 col9\" >0.032740</td>\n",
       "      <td id=\"T_41783_row0_col10\" class=\"data row0 col10\" >0.028709</td>\n",
       "      <td id=\"T_41783_row0_col11\" class=\"data row0 col11\" >0.020535</td>\n",
       "      <td id=\"T_41783_row0_col12\" class=\"data row0 col12\" >0.020923</td>\n",
       "      <td id=\"T_41783_row0_col13\" class=\"data row0 col13\" >183.600000</td>\n",
       "      <td id=\"T_41783_row0_col14\" class=\"data row0 col14\" >125.884000</td>\n",
       "      <td id=\"T_41783_row0_col15\" class=\"data row0 col15\" >122.157000</td>\n",
       "      <td id=\"T_41783_row0_col16\" class=\"data row0 col16\" >123.576000</td>\n",
       "      <td id=\"T_41783_row0_col17\" class=\"data row0 col17\" >17339.582387</td>\n",
       "      <td id=\"T_41783_row0_col18\" class=\"data row0 col18\" >16712.959148</td>\n",
       "      <td id=\"T_41783_row0_col19\" class=\"data row0 col19\" >16703.585277</td>\n",
       "      <td id=\"T_41783_row0_col20\" class=\"data row0 col20\" >16910.338393</td>\n",
       "      <td id=\"T_41783_row0_col21\" class=\"data row0 col21\" >16840.363676</td>\n",
       "      <td id=\"T_41783_row0_col22\" class=\"data row0 col22\" >10.000000</td>\n",
       "      <td id=\"T_41783_row0_col23\" class=\"data row0 col23\" >0.056087</td>\n",
       "      <td id=\"T_41783_row0_col24\" class=\"data row0 col24\" >-1.180995</td>\n",
       "      <td id=\"T_41783_row0_col25\" class=\"data row0 col25\" >-0.762310</td>\n",
       "      <td id=\"T_41783_row0_col26\" class=\"data row0 col26\" >0.004003</td>\n",
       "      <td id=\"T_41783_row0_col27\" class=\"data row0 col27\" >0.003344</td>\n",
       "      <td id=\"T_41783_row0_col28\" class=\"data row0 col28\" >0.002627</td>\n",
       "      <td id=\"T_41783_row0_col29\" class=\"data row0 col29\" >0.003031</td>\n",
       "      <td id=\"T_41783_row0_col30\" class=\"data row0 col30\" >44.740000</td>\n",
       "      <td id=\"T_41783_row0_col31\" class=\"data row0 col31\" >32.964000</td>\n",
       "      <td id=\"T_41783_row0_col32\" class=\"data row0 col32\" >33.934000</td>\n",
       "      <td id=\"T_41783_row0_col33\" class=\"data row0 col33\" >33.590000</td>\n",
       "    </tr>\n",
       "    <tr>\n",
       "      <th id=\"T_41783_level0_row1\" class=\"row_heading level0 row1\" >30.000000</th>\n",
       "      <td id=\"T_41783_row1_col0\" class=\"data row1 col0\" >46769.648103</td>\n",
       "      <td id=\"T_41783_row1_col1\" class=\"data row1 col1\" >26615.382261</td>\n",
       "      <td id=\"T_41783_row1_col2\" class=\"data row1 col2\" >26563.540416</td>\n",
       "      <td id=\"T_41783_row1_col3\" class=\"data row1 col3\" >26597.518015</td>\n",
       "      <td id=\"T_41783_row1_col4\" class=\"data row1 col4\" >26655.853381</td>\n",
       "      <td id=\"T_41783_row1_col5\" class=\"data row1 col5\" >15.000000</td>\n",
       "      <td id=\"T_41783_row1_col6\" class=\"data row1 col6\" >0.194782</td>\n",
       "      <td id=\"T_41783_row1_col7\" class=\"data row1 col7\" >0.067120</td>\n",
       "      <td id=\"T_41783_row1_col8\" class=\"data row1 col8\" >-0.152059</td>\n",
       "      <td id=\"T_41783_row1_col9\" class=\"data row1 col9\" >0.073577</td>\n",
       "      <td id=\"T_41783_row1_col10\" class=\"data row1 col10\" >0.064218</td>\n",
       "      <td id=\"T_41783_row1_col11\" class=\"data row1 col11\" >0.051272</td>\n",
       "      <td id=\"T_41783_row1_col12\" class=\"data row1 col12\" >0.046137</td>\n",
       "      <td id=\"T_41783_row1_col13\" class=\"data row1 col13\" >418.560000</td>\n",
       "      <td id=\"T_41783_row1_col14\" class=\"data row1 col14\" >277.139000</td>\n",
       "      <td id=\"T_41783_row1_col15\" class=\"data row1 col15\" >276.383000</td>\n",
       "      <td id=\"T_41783_row1_col16\" class=\"data row1 col16\" >275.319000</td>\n",
       "      <td id=\"T_41783_row1_col17\" class=\"data row1 col17\" >27413.003338</td>\n",
       "      <td id=\"T_41783_row1_col18\" class=\"data row1 col18\" >26937.791015</td>\n",
       "      <td id=\"T_41783_row1_col19\" class=\"data row1 col19\" >27040.324390</td>\n",
       "      <td id=\"T_41783_row1_col20\" class=\"data row1 col20\" >26642.541314</td>\n",
       "      <td id=\"T_41783_row1_col21\" class=\"data row1 col21\" >27213.878048</td>\n",
       "      <td id=\"T_41783_row1_col22\" class=\"data row1 col22\" >15.000000</td>\n",
       "      <td id=\"T_41783_row1_col23\" class=\"data row1 col23\" >-0.380630</td>\n",
       "      <td id=\"T_41783_row1_col24\" class=\"data row1 col24\" >1.096043</td>\n",
       "      <td id=\"T_41783_row1_col25\" class=\"data row1 col25\" >-1.024906</td>\n",
       "      <td id=\"T_41783_row1_col26\" class=\"data row1 col26\" >0.007113</td>\n",
       "      <td id=\"T_41783_row1_col27\" class=\"data row1 col27\" >0.006170</td>\n",
       "      <td id=\"T_41783_row1_col28\" class=\"data row1 col28\" >0.004175</td>\n",
       "      <td id=\"T_41783_row1_col29\" class=\"data row1 col29\" >0.004627</td>\n",
       "      <td id=\"T_41783_row1_col30\" class=\"data row1 col30\" >69.360000</td>\n",
       "      <td id=\"T_41783_row1_col31\" class=\"data row1 col31\" >54.568000</td>\n",
       "      <td id=\"T_41783_row1_col32\" class=\"data row1 col32\" >53.217000</td>\n",
       "      <td id=\"T_41783_row1_col33\" class=\"data row1 col33\" >54.798000</td>\n",
       "    </tr>\n",
       "    <tr>\n",
       "      <th id=\"T_41783_level0_row2\" class=\"row_heading level0 row2\" >40.000000</th>\n",
       "      <td id=\"T_41783_row2_col0\" class=\"data row2 col0\" >63559.269288</td>\n",
       "      <td id=\"T_41783_row2_col1\" class=\"data row2 col1\" >36705.008550</td>\n",
       "      <td id=\"T_41783_row2_col2\" class=\"data row2 col2\" >36899.826764</td>\n",
       "      <td id=\"T_41783_row2_col3\" class=\"data row2 col3\" >36414.694576</td>\n",
       "      <td id=\"T_41783_row2_col4\" class=\"data row2 col4\" >36325.555078</td>\n",
       "      <td id=\"T_41783_row2_col5\" class=\"data row2 col5\" >20.000000</td>\n",
       "      <td id=\"T_41783_row2_col6\" class=\"data row2 col6\" >-0.530767</td>\n",
       "      <td id=\"T_41783_row2_col7\" class=\"data row2 col7\" >0.790938</td>\n",
       "      <td id=\"T_41783_row2_col8\" class=\"data row2 col8\" >1.033792</td>\n",
       "      <td id=\"T_41783_row2_col9\" class=\"data row2 col9\" >0.131571</td>\n",
       "      <td id=\"T_41783_row2_col10\" class=\"data row2 col10\" >0.110118</td>\n",
       "      <td id=\"T_41783_row2_col11\" class=\"data row2 col11\" >0.086230</td>\n",
       "      <td id=\"T_41783_row2_col12\" class=\"data row2 col12\" >0.082556</td>\n",
       "      <td id=\"T_41783_row2_col13\" class=\"data row2 col13\" >752.840000</td>\n",
       "      <td id=\"T_41783_row2_col14\" class=\"data row2 col14\" >501.697000</td>\n",
       "      <td id=\"T_41783_row2_col15\" class=\"data row2 col15\" >490.466000</td>\n",
       "      <td id=\"T_41783_row2_col16\" class=\"data row2 col16\" >491.671000</td>\n",
       "      <td id=\"T_41783_row2_col17\" class=\"data row2 col17\" >37597.632797</td>\n",
       "      <td id=\"T_41783_row2_col18\" class=\"data row2 col18\" >36943.123280</td>\n",
       "      <td id=\"T_41783_row2_col19\" class=\"data row2 col19\" >37038.633706</td>\n",
       "      <td id=\"T_41783_row2_col20\" class=\"data row2 col20\" >37192.735857</td>\n",
       "      <td id=\"T_41783_row2_col21\" class=\"data row2 col21\" >37142.000056</td>\n",
       "      <td id=\"T_41783_row2_col22\" class=\"data row2 col22\" >20.000000</td>\n",
       "      <td id=\"T_41783_row2_col23\" class=\"data row2 col23\" >-0.258534</td>\n",
       "      <td id=\"T_41783_row2_col24\" class=\"data row2 col24\" >-0.675667</td>\n",
       "      <td id=\"T_41783_row2_col25\" class=\"data row2 col25\" >-0.538332</td>\n",
       "      <td id=\"T_41783_row2_col26\" class=\"data row2 col26\" >0.011523</td>\n",
       "      <td id=\"T_41783_row2_col27\" class=\"data row2 col27\" >0.006952</td>\n",
       "      <td id=\"T_41783_row2_col28\" class=\"data row2 col28\" >0.006398</td>\n",
       "      <td id=\"T_41783_row2_col29\" class=\"data row2 col29\" >0.007225</td>\n",
       "      <td id=\"T_41783_row2_col30\" class=\"data row2 col30\" >108.480000</td>\n",
       "      <td id=\"T_41783_row2_col31\" class=\"data row2 col31\" >72.565000</td>\n",
       "      <td id=\"T_41783_row2_col32\" class=\"data row2 col32\" >77.774000</td>\n",
       "      <td id=\"T_41783_row2_col33\" class=\"data row2 col33\" >77.166000</td>\n",
       "    </tr>\n",
       "    <tr>\n",
       "      <th id=\"T_41783_level0_row3\" class=\"row_heading level0 row3\" >50.000000</th>\n",
       "      <td id=\"T_41783_row3_col0\" class=\"data row3 col0\" >80032.564746</td>\n",
       "      <td id=\"T_41783_row3_col1\" class=\"data row3 col1\" >46755.853409</td>\n",
       "      <td id=\"T_41783_row3_col2\" class=\"data row3 col2\" >46897.082551</td>\n",
       "      <td id=\"T_41783_row3_col3\" class=\"data row3 col3\" >46757.127111</td>\n",
       "      <td id=\"T_41783_row3_col4\" class=\"data row3 col4\" >46602.073550</td>\n",
       "      <td id=\"T_41783_row3_col5\" class=\"data row3 col5\" >25.000000</td>\n",
       "      <td id=\"T_41783_row3_col6\" class=\"data row3 col6\" >-0.302057</td>\n",
       "      <td id=\"T_41783_row3_col7\" class=\"data row3 col7\" >-0.002724</td>\n",
       "      <td id=\"T_41783_row3_col8\" class=\"data row3 col8\" >0.328900</td>\n",
       "      <td id=\"T_41783_row3_col9\" class=\"data row3 col9\" >0.225259</td>\n",
       "      <td id=\"T_41783_row3_col10\" class=\"data row3 col10\" >0.187660</td>\n",
       "      <td id=\"T_41783_row3_col11\" class=\"data row3 col11\" >0.151918</td>\n",
       "      <td id=\"T_41783_row3_col12\" class=\"data row3 col12\" >0.161321</td>\n",
       "      <td id=\"T_41783_row3_col13\" class=\"data row3 col13\" >1182.200000</td>\n",
       "      <td id=\"T_41783_row3_col14\" class=\"data row3 col14\" >769.652000</td>\n",
       "      <td id=\"T_41783_row3_col15\" class=\"data row3 col15\" >774.353000</td>\n",
       "      <td id=\"T_41783_row3_col16\" class=\"data row3 col16\" >769.843000</td>\n",
       "      <td id=\"T_41783_row3_col17\" class=\"data row3 col17\" >48131.127538</td>\n",
       "      <td id=\"T_41783_row3_col18\" class=\"data row3 col18\" >47514.333903</td>\n",
       "      <td id=\"T_41783_row3_col19\" class=\"data row3 col19\" >47172.778888</td>\n",
       "      <td id=\"T_41783_row3_col20\" class=\"data row3 col20\" >47485.281324</td>\n",
       "      <td id=\"T_41783_row3_col21\" class=\"data row3 col21\" >47121.623205</td>\n",
       "      <td id=\"T_41783_row3_col22\" class=\"data row3 col22\" >25.000000</td>\n",
       "      <td id=\"T_41783_row3_col23\" class=\"data row3 col23\" >0.718846</td>\n",
       "      <td id=\"T_41783_row3_col24\" class=\"data row3 col24\" >0.061145</td>\n",
       "      <td id=\"T_41783_row3_col25\" class=\"data row3 col25\" >0.826510</td>\n",
       "      <td id=\"T_41783_row3_col26\" class=\"data row3 col26\" >0.019081</td>\n",
       "      <td id=\"T_41783_row3_col27\" class=\"data row3 col27\" >0.010371</td>\n",
       "      <td id=\"T_41783_row3_col28\" class=\"data row3 col28\" >0.007435</td>\n",
       "      <td id=\"T_41783_row3_col29\" class=\"data row3 col29\" >0.009055</td>\n",
       "      <td id=\"T_41783_row3_col30\" class=\"data row3 col30\" >147.000000</td>\n",
       "      <td id=\"T_41783_row3_col31\" class=\"data row3 col31\" >105.902000</td>\n",
       "      <td id=\"T_41783_row3_col32\" class=\"data row3 col32\" >95.165000</td>\n",
       "      <td id=\"T_41783_row3_col33\" class=\"data row3 col33\" >101.221000</td>\n",
       "    </tr>\n",
       "    <tr>\n",
       "      <th id=\"T_41783_level0_row4\" class=\"row_heading level0 row4\" >60.000000</th>\n",
       "      <td id=\"T_41783_row4_col0\" class=\"data row4 col0\" >96650.680805</td>\n",
       "      <td id=\"T_41783_row4_col1\" class=\"data row4 col1\" >56791.954325</td>\n",
       "      <td id=\"T_41783_row4_col2\" class=\"data row4 col2\" >56744.433997</td>\n",
       "      <td id=\"T_41783_row4_col3\" class=\"data row4 col3\" >57167.207111</td>\n",
       "      <td id=\"T_41783_row4_col4\" class=\"data row4 col4\" >56911.914201</td>\n",
       "      <td id=\"T_41783_row4_col5\" class=\"data row4 col5\" >30.000000</td>\n",
       "      <td id=\"T_41783_row4_col6\" class=\"data row4 col6\" >0.083674</td>\n",
       "      <td id=\"T_41783_row4_col7\" class=\"data row4 col7\" >-0.660750</td>\n",
       "      <td id=\"T_41783_row4_col8\" class=\"data row4 col8\" >-0.211227</td>\n",
       "      <td id=\"T_41783_row4_col9\" class=\"data row4 col9\" >0.294741</td>\n",
       "      <td id=\"T_41783_row4_col10\" class=\"data row4 col10\" >0.241095</td>\n",
       "      <td id=\"T_41783_row4_col11\" class=\"data row4 col11\" >0.195870</td>\n",
       "      <td id=\"T_41783_row4_col12\" class=\"data row4 col12\" >0.195109</td>\n",
       "      <td id=\"T_41783_row4_col13\" class=\"data row4 col13\" >1711.080000</td>\n",
       "      <td id=\"T_41783_row4_col14\" class=\"data row4 col14\" >1128.472000</td>\n",
       "      <td id=\"T_41783_row4_col15\" class=\"data row4 col15\" >1130.952000</td>\n",
       "      <td id=\"T_41783_row4_col16\" class=\"data row4 col16\" >1129.406000</td>\n",
       "      <td id=\"T_41783_row4_col17\" class=\"data row4 col17\" >58380.878675</td>\n",
       "      <td id=\"T_41783_row4_col18\" class=\"data row4 col18\" >57781.163394</td>\n",
       "      <td id=\"T_41783_row4_col19\" class=\"data row4 col19\" >57735.306637</td>\n",
       "      <td id=\"T_41783_row4_col20\" class=\"data row4 col20\" >57682.583827</td>\n",
       "      <td id=\"T_41783_row4_col21\" class=\"data row4 col21\" >57760.244717</td>\n",
       "      <td id=\"T_41783_row4_col22\" class=\"data row4 col22\" >30.000000</td>\n",
       "      <td id=\"T_41783_row4_col23\" class=\"data row4 col23\" >0.079363</td>\n",
       "      <td id=\"T_41783_row4_col24\" class=\"data row4 col24\" >0.170608</td>\n",
       "      <td id=\"T_41783_row4_col25\" class=\"data row4 col25\" >0.036203</td>\n",
       "      <td id=\"T_41783_row4_col26\" class=\"data row4 col26\" >0.015580</td>\n",
       "      <td id=\"T_41783_row4_col27\" class=\"data row4 col27\" >0.011737</td>\n",
       "      <td id=\"T_41783_row4_col28\" class=\"data row4 col28\" >0.009505</td>\n",
       "      <td id=\"T_41783_row4_col29\" class=\"data row4 col29\" >0.010068</td>\n",
       "      <td id=\"T_41783_row4_col30\" class=\"data row4 col30\" >174.360000</td>\n",
       "      <td id=\"T_41783_row4_col31\" class=\"data row4 col31\" >119.028000</td>\n",
       "      <td id=\"T_41783_row4_col32\" class=\"data row4 col32\" >126.037000</td>\n",
       "      <td id=\"T_41783_row4_col33\" class=\"data row4 col33\" >117.969000</td>\n",
       "    </tr>\n",
       "    <tr>\n",
       "      <th id=\"T_41783_level0_row5\" class=\"row_heading level0 row5\" >70.000000</th>\n",
       "      <td id=\"T_41783_row5_col0\" class=\"data row5 col0\" >113238.425026</td>\n",
       "      <td id=\"T_41783_row5_col1\" class=\"data row5 col1\" >67379.514613</td>\n",
       "      <td id=\"T_41783_row5_col2\" class=\"data row5 col2\" >66950.556483</td>\n",
       "      <td id=\"T_41783_row5_col3\" class=\"data row5 col3\" >67166.441285</td>\n",
       "      <td id=\"T_41783_row5_col4\" class=\"data row5 col4\" >66799.754904</td>\n",
       "      <td id=\"T_41783_row5_col5\" class=\"data row5 col5\" >35.000000</td>\n",
       "      <td id=\"T_41783_row5_col6\" class=\"data row5 col6\" >0.636630</td>\n",
       "      <td id=\"T_41783_row5_col7\" class=\"data row5 col7\" >0.316229</td>\n",
       "      <td id=\"T_41783_row5_col8\" class=\"data row5 col8\" >0.860439</td>\n",
       "      <td id=\"T_41783_row5_col9\" class=\"data row5 col9\" >0.400400</td>\n",
       "      <td id=\"T_41783_row5_col10\" class=\"data row5 col10\" >0.328598</td>\n",
       "      <td id=\"T_41783_row5_col11\" class=\"data row5 col11\" >0.264504</td>\n",
       "      <td id=\"T_41783_row5_col12\" class=\"data row5 col12\" >0.261641</td>\n",
       "      <td id=\"T_41783_row5_col13\" class=\"data row5 col13\" >2335.410000</td>\n",
       "      <td id=\"T_41783_row5_col14\" class=\"data row5 col14\" >1534.751000</td>\n",
       "      <td id=\"T_41783_row5_col15\" class=\"data row5 col15\" >1537.022000</td>\n",
       "      <td id=\"T_41783_row5_col16\" class=\"data row5 col16\" >1527.234000</td>\n",
       "      <td id=\"T_41783_row5_col17\" class=\"data row5 col17\" >68744.293343</td>\n",
       "      <td id=\"T_41783_row5_col18\" class=\"data row5 col18\" >68136.361579</td>\n",
       "      <td id=\"T_41783_row5_col19\" class=\"data row5 col19\" >68096.822041</td>\n",
       "      <td id=\"T_41783_row5_col20\" class=\"data row5 col20\" >68047.118218</td>\n",
       "      <td id=\"T_41783_row5_col21\" class=\"data row5 col21\" >67611.673207</td>\n",
       "      <td id=\"T_41783_row5_col22\" class=\"data row5 col22\" >35.000000</td>\n",
       "      <td id=\"T_41783_row5_col23\" class=\"data row5 col23\" >0.058030</td>\n",
       "      <td id=\"T_41783_row5_col24\" class=\"data row5 col24\" >0.130978</td>\n",
       "      <td id=\"T_41783_row5_col25\" class=\"data row5 col25\" >0.770056</td>\n",
       "      <td id=\"T_41783_row5_col26\" class=\"data row5 col26\" >0.025976</td>\n",
       "      <td id=\"T_41783_row5_col27\" class=\"data row5 col27\" >0.015941</td>\n",
       "      <td id=\"T_41783_row5_col28\" class=\"data row5 col28\" >0.010900</td>\n",
       "      <td id=\"T_41783_row5_col29\" class=\"data row5 col29\" >0.012324</td>\n",
       "      <td id=\"T_41783_row5_col30\" class=\"data row5 col30\" >215.040000</td>\n",
       "      <td id=\"T_41783_row5_col31\" class=\"data row5 col31\" >156.828000</td>\n",
       "      <td id=\"T_41783_row5_col32\" class=\"data row5 col32\" >142.335000</td>\n",
       "      <td id=\"T_41783_row5_col33\" class=\"data row5 col33\" >140.195000</td>\n",
       "    </tr>\n",
       "    <tr>\n",
       "      <th id=\"T_41783_level0_row6\" class=\"row_heading level0 row6\" >80.000000</th>\n",
       "      <td id=\"T_41783_row6_col0\" class=\"data row6 col0\" >130339.785834</td>\n",
       "      <td id=\"T_41783_row6_col1\" class=\"data row6 col1\" >77437.031926</td>\n",
       "      <td id=\"T_41783_row6_col2\" class=\"data row6 col2\" >77782.842490</td>\n",
       "      <td id=\"T_41783_row6_col3\" class=\"data row6 col3\" >77118.739964</td>\n",
       "      <td id=\"T_41783_row6_col4\" class=\"data row6 col4\" >77406.293998</td>\n",
       "      <td id=\"T_41783_row6_col5\" class=\"data row6 col5\" >40.000000</td>\n",
       "      <td id=\"T_41783_row6_col6\" class=\"data row6 col6\" >-0.446570</td>\n",
       "      <td id=\"T_41783_row6_col7\" class=\"data row6 col7\" >0.411033</td>\n",
       "      <td id=\"T_41783_row6_col8\" class=\"data row6 col8\" >0.039694</td>\n",
       "      <td id=\"T_41783_row6_col9\" class=\"data row6 col9\" >0.622206</td>\n",
       "      <td id=\"T_41783_row6_col10\" class=\"data row6 col10\" >0.561027</td>\n",
       "      <td id=\"T_41783_row6_col11\" class=\"data row6 col11\" >0.455645</td>\n",
       "      <td id=\"T_41783_row6_col12\" class=\"data row6 col12\" >0.427342</td>\n",
       "      <td id=\"T_41783_row6_col13\" class=\"data row6 col13\" >3066.160000</td>\n",
       "      <td id=\"T_41783_row6_col14\" class=\"data row6 col14\" >2032.675000</td>\n",
       "      <td id=\"T_41783_row6_col15\" class=\"data row6 col15\" >2031.768000</td>\n",
       "      <td id=\"T_41783_row6_col16\" class=\"data row6 col16\" >2029.175000</td>\n",
       "      <td id=\"T_41783_row6_col17\" class=\"data row6 col17\" >78956.819610</td>\n",
       "      <td id=\"T_41783_row6_col18\" class=\"data row6 col18\" >78473.289162</td>\n",
       "      <td id=\"T_41783_row6_col19\" class=\"data row6 col19\" >78304.846518</td>\n",
       "      <td id=\"T_41783_row6_col20\" class=\"data row6 col20\" >78190.994305</td>\n",
       "      <td id=\"T_41783_row6_col21\" class=\"data row6 col21\" >78626.835420</td>\n",
       "      <td id=\"T_41783_row6_col22\" class=\"data row6 col22\" >40.000000</td>\n",
       "      <td id=\"T_41783_row6_col23\" class=\"data row6 col23\" >0.214650</td>\n",
       "      <td id=\"T_41783_row6_col24\" class=\"data row6 col24\" >0.359734</td>\n",
       "      <td id=\"T_41783_row6_col25\" class=\"data row6 col25\" >-0.195667</td>\n",
       "      <td id=\"T_41783_row6_col26\" class=\"data row6 col26\" >0.038010</td>\n",
       "      <td id=\"T_41783_row6_col27\" class=\"data row6 col27\" >0.021237</td>\n",
       "      <td id=\"T_41783_row6_col28\" class=\"data row6 col28\" >0.016562</td>\n",
       "      <td id=\"T_41783_row6_col29\" class=\"data row6 col29\" >0.019234</td>\n",
       "      <td id=\"T_41783_row6_col30\" class=\"data row6 col30\" >239.360000</td>\n",
       "      <td id=\"T_41783_row6_col31\" class=\"data row6 col31\" >156.239000</td>\n",
       "      <td id=\"T_41783_row6_col32\" class=\"data row6 col32\" >170.911000</td>\n",
       "      <td id=\"T_41783_row6_col33\" class=\"data row6 col33\" >174.226000</td>\n",
       "    </tr>\n",
       "    <tr>\n",
       "      <th id=\"T_41783_level0_row7\" class=\"row_heading level0 row7\" >90.000000</th>\n",
       "      <td id=\"T_41783_row7_col0\" class=\"data row7 col0\" >146480.346751</td>\n",
       "      <td id=\"T_41783_row7_col1\" class=\"data row7 col1\" >87637.394578</td>\n",
       "      <td id=\"T_41783_row7_col2\" class=\"data row7 col2\" >88039.719644</td>\n",
       "      <td id=\"T_41783_row7_col3\" class=\"data row7 col3\" >87634.591895</td>\n",
       "      <td id=\"T_41783_row7_col4\" class=\"data row7 col4\" >87560.466287</td>\n",
       "      <td id=\"T_41783_row7_col5\" class=\"data row7 col5\" >45.000000</td>\n",
       "      <td id=\"T_41783_row7_col6\" class=\"data row7 col6\" >-0.459079</td>\n",
       "      <td id=\"T_41783_row7_col7\" class=\"data row7 col7\" >0.003198</td>\n",
       "      <td id=\"T_41783_row7_col8\" class=\"data row7 col8\" >0.087780</td>\n",
       "      <td id=\"T_41783_row7_col9\" class=\"data row7 col9\" >0.704401</td>\n",
       "      <td id=\"T_41783_row7_col10\" class=\"data row7 col10\" >0.607981</td>\n",
       "      <td id=\"T_41783_row7_col11\" class=\"data row7 col11\" >0.483525</td>\n",
       "      <td id=\"T_41783_row7_col12\" class=\"data row7 col12\" >0.520661</td>\n",
       "      <td id=\"T_41783_row7_col13\" class=\"data row7 col13\" >3884.940000</td>\n",
       "      <td id=\"T_41783_row7_col14\" class=\"data row7 col14\" >2559.905000</td>\n",
       "      <td id=\"T_41783_row7_col15\" class=\"data row7 col15\" >2565.911000</td>\n",
       "      <td id=\"T_41783_row7_col16\" class=\"data row7 col16\" >2585.264000</td>\n",
       "      <td id=\"T_41783_row7_col17\" class=\"data row7 col17\" >89410.151995</td>\n",
       "      <td id=\"T_41783_row7_col18\" class=\"data row7 col18\" >88795.402735</td>\n",
       "      <td id=\"T_41783_row7_col19\" class=\"data row7 col19\" >88657.597047</td>\n",
       "      <td id=\"T_41783_row7_col20\" class=\"data row7 col20\" >89147.917194</td>\n",
       "      <td id=\"T_41783_row7_col21\" class=\"data row7 col21\" >88663.782724</td>\n",
       "      <td id=\"T_41783_row7_col22\" class=\"data row7 col22\" >45.000000</td>\n",
       "      <td id=\"T_41783_row7_col23\" class=\"data row7 col23\" >0.155195</td>\n",
       "      <td id=\"T_41783_row7_col24\" class=\"data row7 col24\" >-0.396996</td>\n",
       "      <td id=\"T_41783_row7_col25\" class=\"data row7 col25\" >0.148228</td>\n",
       "      <td id=\"T_41783_row7_col26\" class=\"data row7 col26\" >0.052245</td>\n",
       "      <td id=\"T_41783_row7_col27\" class=\"data row7 col27\" >0.029776</td>\n",
       "      <td id=\"T_41783_row7_col28\" class=\"data row7 col28\" >0.020495</td>\n",
       "      <td id=\"T_41783_row7_col29\" class=\"data row7 col29\" >0.023308</td>\n",
       "      <td id=\"T_41783_row7_col30\" class=\"data row7 col30\" >302.130000</td>\n",
       "      <td id=\"T_41783_row7_col31\" class=\"data row7 col31\" >200.679000</td>\n",
       "      <td id=\"T_41783_row7_col32\" class=\"data row7 col32\" >184.232000</td>\n",
       "      <td id=\"T_41783_row7_col33\" class=\"data row7 col33\" >200.522000</td>\n",
       "    </tr>\n",
       "    <tr>\n",
       "      <th id=\"T_41783_level0_row8\" class=\"row_heading level0 row8\" >100.000000</th>\n",
       "      <td id=\"T_41783_row8_col0\" class=\"data row8 col0\" >163285.893501</td>\n",
       "      <td id=\"T_41783_row8_col1\" class=\"data row8 col1\" >98126.073400</td>\n",
       "      <td id=\"T_41783_row8_col2\" class=\"data row8 col2\" >98159.330102</td>\n",
       "      <td id=\"T_41783_row8_col3\" class=\"data row8 col3\" >97996.324818</td>\n",
       "      <td id=\"T_41783_row8_col4\" class=\"data row8 col4\" >98023.180164</td>\n",
       "      <td id=\"T_41783_row8_col5\" class=\"data row8 col5\" >50.000000</td>\n",
       "      <td id=\"T_41783_row8_col6\" class=\"data row8 col6\" >-0.033892</td>\n",
       "      <td id=\"T_41783_row8_col7\" class=\"data row8 col7\" >0.132226</td>\n",
       "      <td id=\"T_41783_row8_col8\" class=\"data row8 col8\" >0.104858</td>\n",
       "      <td id=\"T_41783_row8_col9\" class=\"data row8 col9\" >0.813591</td>\n",
       "      <td id=\"T_41783_row8_col10\" class=\"data row8 col10\" >0.667855</td>\n",
       "      <td id=\"T_41783_row8_col11\" class=\"data row8 col11\" >0.539976</td>\n",
       "      <td id=\"T_41783_row8_col12\" class=\"data row8 col12\" >0.592728</td>\n",
       "      <td id=\"T_41783_row8_col13\" class=\"data row8 col13\" >4850.500000</td>\n",
       "      <td id=\"T_41783_row8_col14\" class=\"data row8 col14\" >3191.625000</td>\n",
       "      <td id=\"T_41783_row8_col15\" class=\"data row8 col15\" >3186.607000</td>\n",
       "      <td id=\"T_41783_row8_col16\" class=\"data row8 col16\" >3211.682000</td>\n",
       "      <td id=\"T_41783_row8_col17\" class=\"data row8 col17\" >99861.350960</td>\n",
       "      <td id=\"T_41783_row8_col18\" class=\"data row8 col18\" >99204.118276</td>\n",
       "      <td id=\"T_41783_row8_col19\" class=\"data row8 col19\" >98892.095776</td>\n",
       "      <td id=\"T_41783_row8_col20\" class=\"data row8 col20\" >98970.630648</td>\n",
       "      <td id=\"T_41783_row8_col21\" class=\"data row8 col21\" >98592.251640</td>\n",
       "      <td id=\"T_41783_row8_col22\" class=\"data row8 col22\" >50.000000</td>\n",
       "      <td id=\"T_41783_row8_col23\" class=\"data row8 col23\" >0.314526</td>\n",
       "      <td id=\"T_41783_row8_col24\" class=\"data row8 col24\" >0.235361</td>\n",
       "      <td id=\"T_41783_row8_col25\" class=\"data row8 col25\" >0.616775</td>\n",
       "      <td id=\"T_41783_row8_col26\" class=\"data row8 col26\" >0.047214</td>\n",
       "      <td id=\"T_41783_row8_col27\" class=\"data row8 col27\" >0.027135</td>\n",
       "      <td id=\"T_41783_row8_col28\" class=\"data row8 col28\" >0.019918</td>\n",
       "      <td id=\"T_41783_row8_col29\" class=\"data row8 col29\" >0.022723</td>\n",
       "      <td id=\"T_41783_row8_col30\" class=\"data row8 col30\" >364.800000</td>\n",
       "      <td id=\"T_41783_row8_col31\" class=\"data row8 col31\" >211.350000</td>\n",
       "      <td id=\"T_41783_row8_col32\" class=\"data row8 col32\" >217.402000</td>\n",
       "      <td id=\"T_41783_row8_col33\" class=\"data row8 col33\" >214.357000</td>\n",
       "    </tr>\n",
       "  </tbody>\n",
       "</table>\n"
      ],
      "text/plain": [
       "<pandas.io.formats.style.Styler at 0x22272e88670>"
      ]
     },
     "metadata": {},
     "output_type": "display_data"
    },
    {
     "name": "stdout",
     "output_type": "stream",
     "text": [
      "None\n",
      "Pour le nombre de clusters :  4\n"
     ]
    },
    {
     "data": {
      "text/html": [
       "<style type=\"text/css\">\n",
       "#T_464e0_row0_col6, #T_464e0_row7_col23 {\n",
       "  background-color: #e9f7e5;\n",
       "  color: #000000;\n",
       "}\n",
       "#T_464e0_row0_col7 {\n",
       "  background-color: #fee1d4;\n",
       "  color: #000000;\n",
       "}\n",
       "#T_464e0_row0_col8, #T_464e0_row8_col23 {\n",
       "  background-color: #fdd7c6;\n",
       "  color: #000000;\n",
       "}\n",
       "#T_464e0_row0_col23 {\n",
       "  background-color: #d21f20;\n",
       "  color: #f1f1f1;\n",
       "}\n",
       "#T_464e0_row0_col24 {\n",
       "  background-color: #fdcbb6;\n",
       "  color: #000000;\n",
       "}\n",
       "#T_464e0_row0_col25 {\n",
       "  background-color: #fb7b5b;\n",
       "  color: #f1f1f1;\n",
       "}\n",
       "#T_464e0_row1_col6 {\n",
       "  background-color: #278f48;\n",
       "  color: #f1f1f1;\n",
       "}\n",
       "#T_464e0_row1_col7 {\n",
       "  background-color: #00441b;\n",
       "  color: #f1f1f1;\n",
       "}\n",
       "#T_464e0_row1_col8 {\n",
       "  background-color: #3ea75a;\n",
       "  color: #f1f1f1;\n",
       "}\n",
       "#T_464e0_row1_col23 {\n",
       "  background-color: #afdfa8;\n",
       "  color: #000000;\n",
       "}\n",
       "#T_464e0_row1_col24 {\n",
       "  background-color: #bde5b6;\n",
       "  color: #000000;\n",
       "}\n",
       "#T_464e0_row1_col25 {\n",
       "  background-color: #fa6849;\n",
       "  color: #f1f1f1;\n",
       "}\n",
       "#T_464e0_row2_col6 {\n",
       "  background-color: #52b365;\n",
       "  color: #f1f1f1;\n",
       "}\n",
       "#T_464e0_row2_col7 {\n",
       "  background-color: #3ca559;\n",
       "  color: #f1f1f1;\n",
       "}\n",
       "#T_464e0_row2_col8 {\n",
       "  background-color: #5bb86a;\n",
       "  color: #f1f1f1;\n",
       "}\n",
       "#T_464e0_row2_col23 {\n",
       "  background-color: #67000d;\n",
       "  color: #f1f1f1;\n",
       "}\n",
       "#T_464e0_row2_col24 {\n",
       "  background-color: #f03f2e;\n",
       "  color: #f1f1f1;\n",
       "}\n",
       "#T_464e0_row2_col25 {\n",
       "  background-color: #d2edcc;\n",
       "  color: #000000;\n",
       "}\n",
       "#T_464e0_row3_col6 {\n",
       "  background-color: #9bd696;\n",
       "  color: #000000;\n",
       "}\n",
       "#T_464e0_row3_col7 {\n",
       "  background-color: #45ad5f;\n",
       "  color: #f1f1f1;\n",
       "}\n",
       "#T_464e0_row3_col8 {\n",
       "  background-color: #d0edca;\n",
       "  color: #000000;\n",
       "}\n",
       "#T_464e0_row3_col23 {\n",
       "  background-color: #c2e7bb;\n",
       "  color: #000000;\n",
       "}\n",
       "#T_464e0_row3_col24, #T_464e0_row4_col25 {\n",
       "  background-color: #e1f3dc;\n",
       "  color: #000000;\n",
       "}\n",
       "#T_464e0_row3_col25 {\n",
       "  background-color: #9ed798;\n",
       "  color: #000000;\n",
       "}\n",
       "#T_464e0_row4_col6 {\n",
       "  background-color: #68be70;\n",
       "  color: #000000;\n",
       "}\n",
       "#T_464e0_row4_col7 {\n",
       "  background-color: #7cc87c;\n",
       "  color: #000000;\n",
       "}\n",
       "#T_464e0_row4_col8 {\n",
       "  background-color: #90d18d;\n",
       "  color: #000000;\n",
       "}\n",
       "#T_464e0_row4_col23 {\n",
       "  background-color: #fff4ee;\n",
       "  color: #000000;\n",
       "}\n",
       "#T_464e0_row4_col24 {\n",
       "  background-color: #c4e8bd;\n",
       "  color: #000000;\n",
       "}\n",
       "#T_464e0_row5_col6 {\n",
       "  background-color: #87cd86;\n",
       "  color: #000000;\n",
       "}\n",
       "#T_464e0_row5_col7 {\n",
       "  background-color: #62bb6d;\n",
       "  color: #f1f1f1;\n",
       "}\n",
       "#T_464e0_row5_col8 {\n",
       "  background-color: #3fa95c;\n",
       "  color: #f1f1f1;\n",
       "}\n",
       "#T_464e0_row5_col23 {\n",
       "  background-color: #ffede5;\n",
       "  color: #000000;\n",
       "}\n",
       "#T_464e0_row5_col24 {\n",
       "  background-color: #fee4d8;\n",
       "  color: #000000;\n",
       "}\n",
       "#T_464e0_row5_col25 {\n",
       "  background-color: #dff3da;\n",
       "  color: #000000;\n",
       "}\n",
       "#T_464e0_row6_col6 {\n",
       "  background-color: #3aa357;\n",
       "  color: #f1f1f1;\n",
       "}\n",
       "#T_464e0_row6_col7 {\n",
       "  background-color: #2d954d;\n",
       "  color: #f1f1f1;\n",
       "}\n",
       "#T_464e0_row6_col8 {\n",
       "  background-color: #55b567;\n",
       "  color: #f1f1f1;\n",
       "}\n",
       "#T_464e0_row6_col23 {\n",
       "  background-color: #fee9df;\n",
       "  color: #000000;\n",
       "}\n",
       "#T_464e0_row6_col24 {\n",
       "  background-color: #f0f9ed;\n",
       "  color: #000000;\n",
       "}\n",
       "#T_464e0_row6_col25 {\n",
       "  background-color: #fdc9b3;\n",
       "  color: #000000;\n",
       "}\n",
       "#T_464e0_row7_col6 {\n",
       "  background-color: #ddf2d8;\n",
       "  color: #000000;\n",
       "}\n",
       "#T_464e0_row7_col7, #T_464e0_row8_col8 {\n",
       "  background-color: #a8dca2;\n",
       "  color: #000000;\n",
       "}\n",
       "#T_464e0_row7_col8 {\n",
       "  background-color: #92d28f;\n",
       "  color: #000000;\n",
       "}\n",
       "#T_464e0_row7_col24 {\n",
       "  background-color: #c7e9c0;\n",
       "  color: #000000;\n",
       "}\n",
       "#T_464e0_row7_col25 {\n",
       "  background-color: #e3f4de;\n",
       "  color: #000000;\n",
       "}\n",
       "#T_464e0_row8_col6 {\n",
       "  background-color: #84cc83;\n",
       "  color: #000000;\n",
       "}\n",
       "#T_464e0_row8_col7 {\n",
       "  background-color: #a3da9d;\n",
       "  color: #000000;\n",
       "}\n",
       "#T_464e0_row8_col24 {\n",
       "  background-color: #dbf1d6;\n",
       "  color: #000000;\n",
       "}\n",
       "#T_464e0_row8_col25 {\n",
       "  background-color: #fff1ea;\n",
       "  color: #000000;\n",
       "}\n",
       "</style>\n",
       "<table id=\"T_464e0\">\n",
       "  <thead>\n",
       "    <tr>\n",
       "      <th class=\"blank level0\" >&nbsp;</th>\n",
       "      <th id=\"T_464e0_level0_col0\" class=\"col_heading level0 col0\" colspan=\"17\">random</th>\n",
       "      <th id=\"T_464e0_level0_col17\" class=\"col_heading level0 col17\" colspan=\"17\">kmean+</th>\n",
       "    </tr>\n",
       "    <tr>\n",
       "      <th class=\"blank level1\" >&nbsp;</th>\n",
       "      <th id=\"T_464e0_level1_col0\" class=\"col_heading level1 col0\" colspan=\"5\">Coût final</th>\n",
       "      <th id=\"T_464e0_level1_col5\" class=\"col_heading level1 col5\" colspan=\"4\">% amélioration</th>\n",
       "      <th id=\"T_464e0_level1_col9\" class=\"col_heading level1 col9\" colspan=\"4\">Temps d'exécution (s)</th>\n",
       "      <th id=\"T_464e0_level1_col13\" class=\"col_heading level1 col13\" colspan=\"4\">Nombre d'itérations</th>\n",
       "      <th id=\"T_464e0_level1_col17\" class=\"col_heading level1 col17\" colspan=\"5\">Coût final</th>\n",
       "      <th id=\"T_464e0_level1_col22\" class=\"col_heading level1 col22\" colspan=\"4\">% amélioration</th>\n",
       "      <th id=\"T_464e0_level1_col26\" class=\"col_heading level1 col26\" colspan=\"4\">Temps d'exécution (s)</th>\n",
       "      <th id=\"T_464e0_level1_col30\" class=\"col_heading level1 col30\" colspan=\"4\">Nombre d'itérations</th>\n",
       "    </tr>\n",
       "    <tr>\n",
       "      <th class=\"blank level2\" >&nbsp;</th>\n",
       "      <th id=\"T_464e0_level2_col0\" class=\"col_heading level2 col0\" colspan=\"2\">BI_BACK</th>\n",
       "      <th id=\"T_464e0_level2_col2\" class=\"col_heading level2 col2\" >FI_CURR</th>\n",
       "      <th id=\"T_464e0_level2_col3\" class=\"col_heading level2 col3\" >FI_BACK</th>\n",
       "      <th id=\"T_464e0_level2_col4\" class=\"col_heading level2 col4\" >FI_RANDOM</th>\n",
       "      <th id=\"T_464e0_level2_col5\" class=\"col_heading level2 col5\" >points/centroid</th>\n",
       "      <th id=\"T_464e0_level2_col6\" class=\"col_heading level2 col6\" >FI_CURR</th>\n",
       "      <th id=\"T_464e0_level2_col7\" class=\"col_heading level2 col7\" >FI_BACK</th>\n",
       "      <th id=\"T_464e0_level2_col8\" class=\"col_heading level2 col8\" >FI_RANDOM</th>\n",
       "      <th id=\"T_464e0_level2_col9\" class=\"col_heading level2 col9\" >BI_BACK</th>\n",
       "      <th id=\"T_464e0_level2_col10\" class=\"col_heading level2 col10\" >FI_CURR</th>\n",
       "      <th id=\"T_464e0_level2_col11\" class=\"col_heading level2 col11\" >FI_BACK</th>\n",
       "      <th id=\"T_464e0_level2_col12\" class=\"col_heading level2 col12\" >FI_RANDOM</th>\n",
       "      <th id=\"T_464e0_level2_col13\" class=\"col_heading level2 col13\" >BI_BACK</th>\n",
       "      <th id=\"T_464e0_level2_col14\" class=\"col_heading level2 col14\" >FI_CURR</th>\n",
       "      <th id=\"T_464e0_level2_col15\" class=\"col_heading level2 col15\" >FI_BACK</th>\n",
       "      <th id=\"T_464e0_level2_col16\" class=\"col_heading level2 col16\" >FI_RANDOM</th>\n",
       "      <th id=\"T_464e0_level2_col17\" class=\"col_heading level2 col17\" colspan=\"2\">BI_BACK</th>\n",
       "      <th id=\"T_464e0_level2_col19\" class=\"col_heading level2 col19\" >FI_CURR</th>\n",
       "      <th id=\"T_464e0_level2_col20\" class=\"col_heading level2 col20\" >FI_BACK</th>\n",
       "      <th id=\"T_464e0_level2_col21\" class=\"col_heading level2 col21\" >FI_RANDOM</th>\n",
       "      <th id=\"T_464e0_level2_col22\" class=\"col_heading level2 col22\" >points/centroid</th>\n",
       "      <th id=\"T_464e0_level2_col23\" class=\"col_heading level2 col23\" >FI_CURR</th>\n",
       "      <th id=\"T_464e0_level2_col24\" class=\"col_heading level2 col24\" >FI_BACK</th>\n",
       "      <th id=\"T_464e0_level2_col25\" class=\"col_heading level2 col25\" >FI_RANDOM</th>\n",
       "      <th id=\"T_464e0_level2_col26\" class=\"col_heading level2 col26\" >BI_BACK</th>\n",
       "      <th id=\"T_464e0_level2_col27\" class=\"col_heading level2 col27\" >FI_CURR</th>\n",
       "      <th id=\"T_464e0_level2_col28\" class=\"col_heading level2 col28\" >FI_BACK</th>\n",
       "      <th id=\"T_464e0_level2_col29\" class=\"col_heading level2 col29\" >FI_RANDOM</th>\n",
       "      <th id=\"T_464e0_level2_col30\" class=\"col_heading level2 col30\" >BI_BACK</th>\n",
       "      <th id=\"T_464e0_level2_col31\" class=\"col_heading level2 col31\" >FI_CURR</th>\n",
       "      <th id=\"T_464e0_level2_col32\" class=\"col_heading level2 col32\" >FI_BACK</th>\n",
       "      <th id=\"T_464e0_level2_col33\" class=\"col_heading level2 col33\" >FI_RANDOM</th>\n",
       "    </tr>\n",
       "    <tr>\n",
       "      <th class=\"blank level3\" >&nbsp;</th>\n",
       "      <th id=\"T_464e0_level3_col0\" class=\"col_heading level3 col0\" >init_cost</th>\n",
       "      <th id=\"T_464e0_level3_col1\" class=\"col_heading level3 col1\" >end_cost</th>\n",
       "      <th id=\"T_464e0_level3_col2\" class=\"col_heading level3 col2\" >end_cost</th>\n",
       "      <th id=\"T_464e0_level3_col3\" class=\"col_heading level3 col3\" >end_cost</th>\n",
       "      <th id=\"T_464e0_level3_col4\" class=\"col_heading level3 col4\" >end_cost</th>\n",
       "      <th id=\"T_464e0_level3_col5\" class=\"col_heading level3 col5\" ></th>\n",
       "      <th id=\"T_464e0_level3_col6\" class=\"col_heading level3 col6\" >end_cost</th>\n",
       "      <th id=\"T_464e0_level3_col7\" class=\"col_heading level3 col7\" >end_cost</th>\n",
       "      <th id=\"T_464e0_level3_col8\" class=\"col_heading level3 col8\" >end_cost</th>\n",
       "      <th id=\"T_464e0_level3_col9\" class=\"col_heading level3 col9\" >time</th>\n",
       "      <th id=\"T_464e0_level3_col10\" class=\"col_heading level3 col10\" >time</th>\n",
       "      <th id=\"T_464e0_level3_col11\" class=\"col_heading level3 col11\" >time</th>\n",
       "      <th id=\"T_464e0_level3_col12\" class=\"col_heading level3 col12\" >time</th>\n",
       "      <th id=\"T_464e0_level3_col13\" class=\"col_heading level3 col13\" >num_iter_tot</th>\n",
       "      <th id=\"T_464e0_level3_col14\" class=\"col_heading level3 col14\" >num_iter_tot</th>\n",
       "      <th id=\"T_464e0_level3_col15\" class=\"col_heading level3 col15\" >num_iter_tot</th>\n",
       "      <th id=\"T_464e0_level3_col16\" class=\"col_heading level3 col16\" >num_iter_tot</th>\n",
       "      <th id=\"T_464e0_level3_col17\" class=\"col_heading level3 col17\" >init_cost</th>\n",
       "      <th id=\"T_464e0_level3_col18\" class=\"col_heading level3 col18\" >end_cost</th>\n",
       "      <th id=\"T_464e0_level3_col19\" class=\"col_heading level3 col19\" >end_cost</th>\n",
       "      <th id=\"T_464e0_level3_col20\" class=\"col_heading level3 col20\" >end_cost</th>\n",
       "      <th id=\"T_464e0_level3_col21\" class=\"col_heading level3 col21\" >end_cost</th>\n",
       "      <th id=\"T_464e0_level3_col22\" class=\"col_heading level3 col22\" ></th>\n",
       "      <th id=\"T_464e0_level3_col23\" class=\"col_heading level3 col23\" >end_cost</th>\n",
       "      <th id=\"T_464e0_level3_col24\" class=\"col_heading level3 col24\" >end_cost</th>\n",
       "      <th id=\"T_464e0_level3_col25\" class=\"col_heading level3 col25\" >end_cost</th>\n",
       "      <th id=\"T_464e0_level3_col26\" class=\"col_heading level3 col26\" >time</th>\n",
       "      <th id=\"T_464e0_level3_col27\" class=\"col_heading level3 col27\" >time</th>\n",
       "      <th id=\"T_464e0_level3_col28\" class=\"col_heading level3 col28\" >time</th>\n",
       "      <th id=\"T_464e0_level3_col29\" class=\"col_heading level3 col29\" >time</th>\n",
       "      <th id=\"T_464e0_level3_col30\" class=\"col_heading level3 col30\" >num_iter_tot</th>\n",
       "      <th id=\"T_464e0_level3_col31\" class=\"col_heading level3 col31\" >num_iter_tot</th>\n",
       "      <th id=\"T_464e0_level3_col32\" class=\"col_heading level3 col32\" >num_iter_tot</th>\n",
       "      <th id=\"T_464e0_level3_col33\" class=\"col_heading level3 col33\" >num_iter_tot</th>\n",
       "    </tr>\n",
       "    <tr>\n",
       "      <th class=\"index_name level0\" >Nb. points</th>\n",
       "      <th class=\"blank col0\" >&nbsp;</th>\n",
       "      <th class=\"blank col1\" >&nbsp;</th>\n",
       "      <th class=\"blank col2\" >&nbsp;</th>\n",
       "      <th class=\"blank col3\" >&nbsp;</th>\n",
       "      <th class=\"blank col4\" >&nbsp;</th>\n",
       "      <th class=\"blank col5\" >&nbsp;</th>\n",
       "      <th class=\"blank col6\" >&nbsp;</th>\n",
       "      <th class=\"blank col7\" >&nbsp;</th>\n",
       "      <th class=\"blank col8\" >&nbsp;</th>\n",
       "      <th class=\"blank col9\" >&nbsp;</th>\n",
       "      <th class=\"blank col10\" >&nbsp;</th>\n",
       "      <th class=\"blank col11\" >&nbsp;</th>\n",
       "      <th class=\"blank col12\" >&nbsp;</th>\n",
       "      <th class=\"blank col13\" >&nbsp;</th>\n",
       "      <th class=\"blank col14\" >&nbsp;</th>\n",
       "      <th class=\"blank col15\" >&nbsp;</th>\n",
       "      <th class=\"blank col16\" >&nbsp;</th>\n",
       "      <th class=\"blank col17\" >&nbsp;</th>\n",
       "      <th class=\"blank col18\" >&nbsp;</th>\n",
       "      <th class=\"blank col19\" >&nbsp;</th>\n",
       "      <th class=\"blank col20\" >&nbsp;</th>\n",
       "      <th class=\"blank col21\" >&nbsp;</th>\n",
       "      <th class=\"blank col22\" >&nbsp;</th>\n",
       "      <th class=\"blank col23\" >&nbsp;</th>\n",
       "      <th class=\"blank col24\" >&nbsp;</th>\n",
       "      <th class=\"blank col25\" >&nbsp;</th>\n",
       "      <th class=\"blank col26\" >&nbsp;</th>\n",
       "      <th class=\"blank col27\" >&nbsp;</th>\n",
       "      <th class=\"blank col28\" >&nbsp;</th>\n",
       "      <th class=\"blank col29\" >&nbsp;</th>\n",
       "      <th class=\"blank col30\" >&nbsp;</th>\n",
       "      <th class=\"blank col31\" >&nbsp;</th>\n",
       "      <th class=\"blank col32\" >&nbsp;</th>\n",
       "      <th class=\"blank col33\" >&nbsp;</th>\n",
       "    </tr>\n",
       "  </thead>\n",
       "  <tbody>\n",
       "    <tr>\n",
       "      <th id=\"T_464e0_level0_row0\" class=\"row_heading level0 row0\" >20.000000</th>\n",
       "      <td id=\"T_464e0_row0_col0\" class=\"data row0 col0\" >26678.820806</td>\n",
       "      <td id=\"T_464e0_row0_col1\" class=\"data row0 col1\" >5971.250014</td>\n",
       "      <td id=\"T_464e0_row0_col2\" class=\"data row0 col2\" >5956.503537</td>\n",
       "      <td id=\"T_464e0_row0_col3\" class=\"data row0 col3\" >5989.667065</td>\n",
       "      <td id=\"T_464e0_row0_col4\" class=\"data row0 col4\" >5995.762026</td>\n",
       "      <td id=\"T_464e0_row0_col5\" class=\"data row0 col5\" >5.000000</td>\n",
       "      <td id=\"T_464e0_row0_col6\" class=\"data row0 col6\" >0.246958</td>\n",
       "      <td id=\"T_464e0_row0_col7\" class=\"data row0 col7\" >-0.308429</td>\n",
       "      <td id=\"T_464e0_row0_col8\" class=\"data row0 col8\" >-0.410501</td>\n",
       "      <td id=\"T_464e0_row0_col9\" class=\"data row0 col9\" >0.131129</td>\n",
       "      <td id=\"T_464e0_row0_col10\" class=\"data row0 col10\" >0.141172</td>\n",
       "      <td id=\"T_464e0_row0_col11\" class=\"data row0 col11\" >0.118055</td>\n",
       "      <td id=\"T_464e0_row0_col12\" class=\"data row0 col12\" >0.101218</td>\n",
       "      <td id=\"T_464e0_row0_col13\" class=\"data row0 col13\" >824.040000</td>\n",
       "      <td id=\"T_464e0_row0_col14\" class=\"data row0 col14\" >697.127000</td>\n",
       "      <td id=\"T_464e0_row0_col15\" class=\"data row0 col15\" >698.266000</td>\n",
       "      <td id=\"T_464e0_row0_col16\" class=\"data row0 col16\" >701.095000</td>\n",
       "      <td id=\"T_464e0_row0_col17\" class=\"data row0 col17\" >6730.446231</td>\n",
       "      <td id=\"T_464e0_row0_col18\" class=\"data row0 col18\" >5978.046436</td>\n",
       "      <td id=\"T_464e0_row0_col19\" class=\"data row0 col19\" >6054.955118</td>\n",
       "      <td id=\"T_464e0_row0_col20\" class=\"data row0 col20\" >5998.962445</td>\n",
       "      <td id=\"T_464e0_row0_col21\" class=\"data row0 col21\" >6025.556717</td>\n",
       "      <td id=\"T_464e0_row0_col22\" class=\"data row0 col22\" >5.000000</td>\n",
       "      <td id=\"T_464e0_row0_col23\" class=\"data row0 col23\" >-1.286519</td>\n",
       "      <td id=\"T_464e0_row0_col24\" class=\"data row0 col24\" >-0.349880</td>\n",
       "      <td id=\"T_464e0_row0_col25\" class=\"data row0 col25\" >-0.794746</td>\n",
       "      <td id=\"T_464e0_row0_col26\" class=\"data row0 col26\" >0.019728</td>\n",
       "      <td id=\"T_464e0_row0_col27\" class=\"data row0 col27\" >0.011796</td>\n",
       "      <td id=\"T_464e0_row0_col28\" class=\"data row0 col28\" >0.008941</td>\n",
       "      <td id=\"T_464e0_row0_col29\" class=\"data row0 col29\" >0.012286</td>\n",
       "      <td id=\"T_464e0_row0_col30\" class=\"data row0 col30\" >195.780000</td>\n",
       "      <td id=\"T_464e0_row0_col31\" class=\"data row0 col31\" >131.572000</td>\n",
       "      <td id=\"T_464e0_row0_col32\" class=\"data row0 col32\" >131.040000</td>\n",
       "      <td id=\"T_464e0_row0_col33\" class=\"data row0 col33\" >133.795000</td>\n",
       "    </tr>\n",
       "    <tr>\n",
       "      <th id=\"T_464e0_level0_row1\" class=\"row_heading level0 row1\" >30.000000</th>\n",
       "      <td id=\"T_464e0_row1_col0\" class=\"data row1 col0\" >43159.040405</td>\n",
       "      <td id=\"T_464e0_row1_col1\" class=\"data row1 col1\" >10263.668314</td>\n",
       "      <td id=\"T_464e0_row1_col2\" class=\"data row1 col2\" >10075.579640</td>\n",
       "      <td id=\"T_464e0_row1_col3\" class=\"data row1 col3\" >10006.721217</td>\n",
       "      <td id=\"T_464e0_row1_col4\" class=\"data row1 col4\" >10099.295824</td>\n",
       "      <td id=\"T_464e0_row1_col5\" class=\"data row1 col5\" >7.500000</td>\n",
       "      <td id=\"T_464e0_row1_col6\" class=\"data row1 col6\" >1.832568</td>\n",
       "      <td id=\"T_464e0_row1_col7\" class=\"data row1 col7\" >2.503463</td>\n",
       "      <td id=\"T_464e0_row1_col8\" class=\"data row1 col8\" >1.601498</td>\n",
       "      <td id=\"T_464e0_row1_col9\" class=\"data row1 col9\" >0.302256</td>\n",
       "      <td id=\"T_464e0_row1_col10\" class=\"data row1 col10\" >0.321809</td>\n",
       "      <td id=\"T_464e0_row1_col11\" class=\"data row1 col11\" >0.271412</td>\n",
       "      <td id=\"T_464e0_row1_col12\" class=\"data row1 col12\" >0.239119</td>\n",
       "      <td id=\"T_464e0_row1_col13\" class=\"data row1 col13\" >1948.230000</td>\n",
       "      <td id=\"T_464e0_row1_col14\" class=\"data row1 col14\" >1701.347000</td>\n",
       "      <td id=\"T_464e0_row1_col15\" class=\"data row1 col15\" >1701.782000</td>\n",
       "      <td id=\"T_464e0_row1_col16\" class=\"data row1 col16\" >1726.486000</td>\n",
       "      <td id=\"T_464e0_row1_col17\" class=\"data row1 col17\" >10999.737064</td>\n",
       "      <td id=\"T_464e0_row1_col18\" class=\"data row1 col18\" >10302.741044</td>\n",
       "      <td id=\"T_464e0_row1_col19\" class=\"data row1 col19\" >10241.729625</td>\n",
       "      <td id=\"T_464e0_row1_col20\" class=\"data row1 col20\" >10251.159684</td>\n",
       "      <td id=\"T_464e0_row1_col21\" class=\"data row1 col21\" >10395.048765</td>\n",
       "      <td id=\"T_464e0_row1_col22\" class=\"data row1 col22\" >7.500000</td>\n",
       "      <td id=\"T_464e0_row1_col23\" class=\"data row1 col23\" >0.592186</td>\n",
       "      <td id=\"T_464e0_row1_col24\" class=\"data row1 col24\" >0.500657</td>\n",
       "      <td id=\"T_464e0_row1_col25\" class=\"data row1 col25\" >-0.895953</td>\n",
       "      <td id=\"T_464e0_row1_col26\" class=\"data row1 col26\" >0.037051</td>\n",
       "      <td id=\"T_464e0_row1_col27\" class=\"data row1 col27\" >0.017916</td>\n",
       "      <td id=\"T_464e0_row1_col28\" class=\"data row1 col28\" >0.014208</td>\n",
       "      <td id=\"T_464e0_row1_col29\" class=\"data row1 col29\" >0.016138</td>\n",
       "      <td id=\"T_464e0_row1_col30\" class=\"data row1 col30\" >318.240000</td>\n",
       "      <td id=\"T_464e0_row1_col31\" class=\"data row1 col31\" >232.425000</td>\n",
       "      <td id=\"T_464e0_row1_col32\" class=\"data row1 col32\" >220.442000</td>\n",
       "      <td id=\"T_464e0_row1_col33\" class=\"data row1 col33\" >218.533000</td>\n",
       "    </tr>\n",
       "    <tr>\n",
       "      <th id=\"T_464e0_level0_row2\" class=\"row_heading level0 row2\" >40.000000</th>\n",
       "      <td id=\"T_464e0_row2_col0\" class=\"data row2 col0\" >60084.259326</td>\n",
       "      <td id=\"T_464e0_row2_col1\" class=\"data row2 col1\" >14395.848507</td>\n",
       "      <td id=\"T_464e0_row2_col2\" class=\"data row2 col2\" >14186.435071</td>\n",
       "      <td id=\"T_464e0_row2_col3\" class=\"data row2 col3\" >14164.919512</td>\n",
       "      <td id=\"T_464e0_row2_col4\" class=\"data row2 col4\" >14195.274372</td>\n",
       "      <td id=\"T_464e0_row2_col5\" class=\"data row2 col5\" >10.000000</td>\n",
       "      <td id=\"T_464e0_row2_col6\" class=\"data row2 col6\" >1.454679</td>\n",
       "      <td id=\"T_464e0_row2_col7\" class=\"data row2 col7\" >1.604136</td>\n",
       "      <td id=\"T_464e0_row2_col8\" class=\"data row2 col8\" >1.393278</td>\n",
       "      <td id=\"T_464e0_row2_col9\" class=\"data row2 col9\" >0.618443</td>\n",
       "      <td id=\"T_464e0_row2_col10\" class=\"data row2 col10\" >0.666270</td>\n",
       "      <td id=\"T_464e0_row2_col11\" class=\"data row2 col11\" >0.560332</td>\n",
       "      <td id=\"T_464e0_row2_col12\" class=\"data row2 col12\" >0.472710</td>\n",
       "      <td id=\"T_464e0_row2_col13\" class=\"data row2 col13\" >3582.120000</td>\n",
       "      <td id=\"T_464e0_row2_col14\" class=\"data row2 col14\" >3205.045000</td>\n",
       "      <td id=\"T_464e0_row2_col15\" class=\"data row2 col15\" >3215.674000</td>\n",
       "      <td id=\"T_464e0_row2_col16\" class=\"data row2 col16\" >3213.287000</td>\n",
       "      <td id=\"T_464e0_row2_col17\" class=\"data row2 col17\" >15253.446713</td>\n",
       "      <td id=\"T_464e0_row2_col18\" class=\"data row2 col18\" >14475.606595</td>\n",
       "      <td id=\"T_464e0_row2_col19\" class=\"data row2 col19\" >14732.111826</td>\n",
       "      <td id=\"T_464e0_row2_col20\" class=\"data row2 col20\" >14631.943973</td>\n",
       "      <td id=\"T_464e0_row2_col21\" class=\"data row2 col21\" >14421.928400</td>\n",
       "      <td id=\"T_464e0_row2_col22\" class=\"data row2 col22\" >10.000000</td>\n",
       "      <td id=\"T_464e0_row2_col23\" class=\"data row2 col23\" >-1.771983</td>\n",
       "      <td id=\"T_464e0_row2_col24\" class=\"data row2 col24\" >-1.080006</td>\n",
       "      <td id=\"T_464e0_row2_col25\" class=\"data row2 col25\" >0.370818</td>\n",
       "      <td id=\"T_464e0_row2_col26\" class=\"data row2 col26\" >0.062434</td>\n",
       "      <td id=\"T_464e0_row2_col27\" class=\"data row2 col27\" >0.028055</td>\n",
       "      <td id=\"T_464e0_row2_col28\" class=\"data row2 col28\" >0.020321</td>\n",
       "      <td id=\"T_464e0_row2_col29\" class=\"data row2 col29\" >0.023528</td>\n",
       "      <td id=\"T_464e0_row2_col30\" class=\"data row2 col30\" >489.120000</td>\n",
       "      <td id=\"T_464e0_row2_col31\" class=\"data row2 col31\" >310.871000</td>\n",
       "      <td id=\"T_464e0_row2_col32\" class=\"data row2 col32\" >309.773000</td>\n",
       "      <td id=\"T_464e0_row2_col33\" class=\"data row2 col33\" >318.636000</td>\n",
       "    </tr>\n",
       "    <tr>\n",
       "      <th id=\"T_464e0_level0_row3\" class=\"row_heading level0 row3\" >50.000000</th>\n",
       "      <td id=\"T_464e0_row3_col0\" class=\"data row3 col0\" >77260.437777</td>\n",
       "      <td id=\"T_464e0_row3_col1\" class=\"data row3 col1\" >18555.066665</td>\n",
       "      <td id=\"T_464e0_row3_col2\" class=\"data row3 col2\" >18370.969816</td>\n",
       "      <td id=\"T_464e0_row3_col3\" class=\"data row3 col3\" >18268.508131</td>\n",
       "      <td id=\"T_464e0_row3_col4\" class=\"data row3 col4\" >18455.512134</td>\n",
       "      <td id=\"T_464e0_row3_col5\" class=\"data row3 col5\" >12.500000</td>\n",
       "      <td id=\"T_464e0_row3_col6\" class=\"data row3 col6\" >0.992165</td>\n",
       "      <td id=\"T_464e0_row3_col7\" class=\"data row3 col7\" >1.544368</td>\n",
       "      <td id=\"T_464e0_row3_col8\" class=\"data row3 col8\" >0.536536</td>\n",
       "      <td id=\"T_464e0_row3_col9\" class=\"data row3 col9\" >1.007704</td>\n",
       "      <td id=\"T_464e0_row3_col10\" class=\"data row3 col10\" >1.079435</td>\n",
       "      <td id=\"T_464e0_row3_col11\" class=\"data row3 col11\" >0.904068</td>\n",
       "      <td id=\"T_464e0_row3_col12\" class=\"data row3 col12\" >0.777197</td>\n",
       "      <td id=\"T_464e0_row3_col13\" class=\"data row3 col13\" >5790.300000</td>\n",
       "      <td id=\"T_464e0_row3_col14\" class=\"data row3 col14\" >5219.035000</td>\n",
       "      <td id=\"T_464e0_row3_col15\" class=\"data row3 col15\" >5235.657000</td>\n",
       "      <td id=\"T_464e0_row3_col16\" class=\"data row3 col16\" >5168.397000</td>\n",
       "      <td id=\"T_464e0_row3_col17\" class=\"data row3 col17\" >19523.078562</td>\n",
       "      <td id=\"T_464e0_row3_col18\" class=\"data row3 col18\" >18797.145327</td>\n",
       "      <td id=\"T_464e0_row3_col19\" class=\"data row3 col19\" >18708.003726</td>\n",
       "      <td id=\"T_464e0_row3_col20\" class=\"data row3 col20\" >18749.375275</td>\n",
       "      <td id=\"T_464e0_row3_col21\" class=\"data row3 col21\" >18668.740090</td>\n",
       "      <td id=\"T_464e0_row3_col22\" class=\"data row3 col22\" >12.500000</td>\n",
       "      <td id=\"T_464e0_row3_col23\" class=\"data row3 col23\" >0.474229</td>\n",
       "      <td id=\"T_464e0_row3_col24\" class=\"data row3 col24\" >0.254135</td>\n",
       "      <td id=\"T_464e0_row3_col25\" class=\"data row3 col25\" >0.683110</td>\n",
       "      <td id=\"T_464e0_row3_col26\" class=\"data row3 col26\" >0.082758</td>\n",
       "      <td id=\"T_464e0_row3_col27\" class=\"data row3 col27\" >0.044827</td>\n",
       "      <td id=\"T_464e0_row3_col28\" class=\"data row3 col28\" >0.030420</td>\n",
       "      <td id=\"T_464e0_row3_col29\" class=\"data row3 col29\" >0.033076</td>\n",
       "      <td id=\"T_464e0_row3_col30\" class=\"data row3 col30\" >630.000000</td>\n",
       "      <td id=\"T_464e0_row3_col31\" class=\"data row3 col31\" >415.276000</td>\n",
       "      <td id=\"T_464e0_row3_col32\" class=\"data row3 col32\" >438.572000</td>\n",
       "      <td id=\"T_464e0_row3_col33\" class=\"data row3 col33\" >414.303000</td>\n",
       "    </tr>\n",
       "    <tr>\n",
       "      <th id=\"T_464e0_level0_row4\" class=\"row_heading level0 row4\" >60.000000</th>\n",
       "      <td id=\"T_464e0_row4_col0\" class=\"data row4 col0\" >93473.408995</td>\n",
       "      <td id=\"T_464e0_row4_col1\" class=\"data row4 col1\" >22784.026676</td>\n",
       "      <td id=\"T_464e0_row4_col2\" class=\"data row4 col2\" >22483.395323</td>\n",
       "      <td id=\"T_464e0_row4_col3\" class=\"data row4 col3\" >22510.210003</td>\n",
       "      <td id=\"T_464e0_row4_col4\" class=\"data row4 col4\" >22539.367582</td>\n",
       "      <td id=\"T_464e0_row4_col5\" class=\"data row4 col5\" >15.000000</td>\n",
       "      <td id=\"T_464e0_row4_col6\" class=\"data row4 col6\" >1.319483</td>\n",
       "      <td id=\"T_464e0_row4_col7\" class=\"data row4 col7\" >1.201792</td>\n",
       "      <td id=\"T_464e0_row4_col8\" class=\"data row4 col8\" >1.073819</td>\n",
       "      <td id=\"T_464e0_row4_col9\" class=\"data row4 col9\" >1.287952</td>\n",
       "      <td id=\"T_464e0_row4_col10\" class=\"data row4 col10\" >1.391516</td>\n",
       "      <td id=\"T_464e0_row4_col11\" class=\"data row4 col11\" >1.186628</td>\n",
       "      <td id=\"T_464e0_row4_col12\" class=\"data row4 col12\" >1.112931</td>\n",
       "      <td id=\"T_464e0_row4_col13\" class=\"data row4 col13\" >8489.520000</td>\n",
       "      <td id=\"T_464e0_row4_col14\" class=\"data row4 col14\" >7636.029000</td>\n",
       "      <td id=\"T_464e0_row4_col15\" class=\"data row4 col15\" >7671.788000</td>\n",
       "      <td id=\"T_464e0_row4_col16\" class=\"data row4 col16\" >7716.511000</td>\n",
       "      <td id=\"T_464e0_row4_col17\" class=\"data row4 col17\" >23950.147613</td>\n",
       "      <td id=\"T_464e0_row4_col18\" class=\"data row4 col18\" >23140.233792</td>\n",
       "      <td id=\"T_464e0_row4_col19\" class=\"data row4 col19\" >23145.920765</td>\n",
       "      <td id=\"T_464e0_row4_col20\" class=\"data row4 col20\" >23033.732600</td>\n",
       "      <td id=\"T_464e0_row4_col21\" class=\"data row4 col21\" >23082.257805</td>\n",
       "      <td id=\"T_464e0_row4_col22\" class=\"data row4 col22\" >15.000000</td>\n",
       "      <td id=\"T_464e0_row4_col23\" class=\"data row4 col23\" >-0.024576</td>\n",
       "      <td id=\"T_464e0_row4_col24\" class=\"data row4 col24\" >0.460243</td>\n",
       "      <td id=\"T_464e0_row4_col25\" class=\"data row4 col25\" >0.250542</td>\n",
       "      <td id=\"T_464e0_row4_col26\" class=\"data row4 col26\" >0.108607</td>\n",
       "      <td id=\"T_464e0_row4_col27\" class=\"data row4 col27\" >0.069988</td>\n",
       "      <td id=\"T_464e0_row4_col28\" class=\"data row4 col28\" >0.036594</td>\n",
       "      <td id=\"T_464e0_row4_col29\" class=\"data row4 col29\" >0.042278</td>\n",
       "      <td id=\"T_464e0_row4_col30\" class=\"data row4 col30\" >845.640000</td>\n",
       "      <td id=\"T_464e0_row4_col31\" class=\"data row4 col31\" >565.725000</td>\n",
       "      <td id=\"T_464e0_row4_col32\" class=\"data row4 col32\" >536.876000</td>\n",
       "      <td id=\"T_464e0_row4_col33\" class=\"data row4 col33\" >551.637000</td>\n",
       "    </tr>\n",
       "    <tr>\n",
       "      <th id=\"T_464e0_level0_row5\" class=\"row_heading level0 row5\" >70.000000</th>\n",
       "      <td id=\"T_464e0_row5_col0\" class=\"data row5 col0\" >109872.910346</td>\n",
       "      <td id=\"T_464e0_row5_col1\" class=\"data row5 col1\" >26990.711423</td>\n",
       "      <td id=\"T_464e0_row5_col2\" class=\"data row5 col2\" >26687.625726</td>\n",
       "      <td id=\"T_464e0_row5_col3\" class=\"data row5 col3\" >26621.718341</td>\n",
       "      <td id=\"T_464e0_row5_col4\" class=\"data row5 col4\" >26564.821030</td>\n",
       "      <td id=\"T_464e0_row5_col5\" class=\"data row5 col5\" >17.500000</td>\n",
       "      <td id=\"T_464e0_row5_col6\" class=\"data row5 col6\" >1.122926</td>\n",
       "      <td id=\"T_464e0_row5_col7\" class=\"data row5 col7\" >1.367111</td>\n",
       "      <td id=\"T_464e0_row5_col8\" class=\"data row5 col8\" >1.577915</td>\n",
       "      <td id=\"T_464e0_row5_col9\" class=\"data row5 col9\" >1.770505</td>\n",
       "      <td id=\"T_464e0_row5_col10\" class=\"data row5 col10\" >1.931334</td>\n",
       "      <td id=\"T_464e0_row5_col11\" class=\"data row5 col11\" >1.618527</td>\n",
       "      <td id=\"T_464e0_row5_col12\" class=\"data row5 col12\" >1.502475</td>\n",
       "      <td id=\"T_464e0_row5_col13\" class=\"data row5 col13\" >11672.010000</td>\n",
       "      <td id=\"T_464e0_row5_col14\" class=\"data row5 col14\" >10676.628000</td>\n",
       "      <td id=\"T_464e0_row5_col15\" class=\"data row5 col15\" >10527.030000</td>\n",
       "      <td id=\"T_464e0_row5_col16\" class=\"data row5 col16\" >10619.902000</td>\n",
       "      <td id=\"T_464e0_row5_col17\" class=\"data row5 col17\" >28036.712809</td>\n",
       "      <td id=\"T_464e0_row5_col18\" class=\"data row5 col18\" >27227.050939</td>\n",
       "      <td id=\"T_464e0_row5_col19\" class=\"data row5 col19\" >27250.879288</td>\n",
       "      <td id=\"T_464e0_row5_col20\" class=\"data row5 col20\" >27276.917159</td>\n",
       "      <td id=\"T_464e0_row5_col21\" class=\"data row5 col21\" >27152.733688</td>\n",
       "      <td id=\"T_464e0_row5_col22\" class=\"data row5 col22\" >17.500000</td>\n",
       "      <td id=\"T_464e0_row5_col23\" class=\"data row5 col23\" >-0.087517</td>\n",
       "      <td id=\"T_464e0_row5_col24\" class=\"data row5 col24\" >-0.183150</td>\n",
       "      <td id=\"T_464e0_row5_col25\" class=\"data row5 col25\" >0.272954</td>\n",
       "      <td id=\"T_464e0_row5_col26\" class=\"data row5 col26\" >0.131202</td>\n",
       "      <td id=\"T_464e0_row5_col27\" class=\"data row5 col27\" >0.089667</td>\n",
       "      <td id=\"T_464e0_row5_col28\" class=\"data row5 col28\" >0.045806</td>\n",
       "      <td id=\"T_464e0_row5_col29\" class=\"data row5 col29\" >0.048956</td>\n",
       "      <td id=\"T_464e0_row5_col30\" class=\"data row5 col30\" >1038.030000</td>\n",
       "      <td id=\"T_464e0_row5_col31\" class=\"data row5 col31\" >673.592000</td>\n",
       "      <td id=\"T_464e0_row5_col32\" class=\"data row5 col32\" >667.663000</td>\n",
       "      <td id=\"T_464e0_row5_col33\" class=\"data row5 col33\" >620.987000</td>\n",
       "    </tr>\n",
       "    <tr>\n",
       "      <th id=\"T_464e0_level0_row6\" class=\"row_heading level0 row6\" >80.000000</th>\n",
       "      <td id=\"T_464e0_row6_col0\" class=\"data row6 col0\" >126880.888949</td>\n",
       "      <td id=\"T_464e0_row6_col1\" class=\"data row6 col1\" >31170.952426</td>\n",
       "      <td id=\"T_464e0_row6_col2\" class=\"data row6 col2\" >30659.628330</td>\n",
       "      <td id=\"T_464e0_row6_col3\" class=\"data row6 col3\" >30621.781722</td>\n",
       "      <td id=\"T_464e0_row6_col4\" class=\"data row6 col4\" >30725.086053</td>\n",
       "      <td id=\"T_464e0_row6_col5\" class=\"data row6 col5\" >20.000000</td>\n",
       "      <td id=\"T_464e0_row6_col6\" class=\"data row6 col6\" >1.640387</td>\n",
       "      <td id=\"T_464e0_row6_col7\" class=\"data row6 col7\" >1.761803</td>\n",
       "      <td id=\"T_464e0_row6_col8\" class=\"data row6 col8\" >1.430391</td>\n",
       "      <td id=\"T_464e0_row6_col9\" class=\"data row6 col9\" >2.589835</td>\n",
       "      <td id=\"T_464e0_row6_col10\" class=\"data row6 col10\" >2.867357</td>\n",
       "      <td id=\"T_464e0_row6_col11\" class=\"data row6 col11\" >2.472799</td>\n",
       "      <td id=\"T_464e0_row6_col12\" class=\"data row6 col12\" >2.214224</td>\n",
       "      <td id=\"T_464e0_row6_col13\" class=\"data row6 col13\" >15391.680000</td>\n",
       "      <td id=\"T_464e0_row6_col14\" class=\"data row6 col14\" >14016.132000</td>\n",
       "      <td id=\"T_464e0_row6_col15\" class=\"data row6 col15\" >13977.627000</td>\n",
       "      <td id=\"T_464e0_row6_col16\" class=\"data row6 col16\" >13968.893000</td>\n",
       "      <td id=\"T_464e0_row6_col17\" class=\"data row6 col17\" >32047.891934</td>\n",
       "      <td id=\"T_464e0_row6_col18\" class=\"data row6 col18\" >31317.109649</td>\n",
       "      <td id=\"T_464e0_row6_col19\" class=\"data row6 col19\" >31359.112811</td>\n",
       "      <td id=\"T_464e0_row6_col20\" class=\"data row6 col20\" >31289.944483</td>\n",
       "      <td id=\"T_464e0_row6_col21\" class=\"data row6 col21\" >31431.781847</td>\n",
       "      <td id=\"T_464e0_row6_col22\" class=\"data row6 col22\" >20.000000</td>\n",
       "      <td id=\"T_464e0_row6_col23\" class=\"data row6 col23\" >-0.134122</td>\n",
       "      <td id=\"T_464e0_row6_col24\" class=\"data row6 col24\" >0.086742</td>\n",
       "      <td id=\"T_464e0_row6_col25\" class=\"data row6 col25\" >-0.366165</td>\n",
       "      <td id=\"T_464e0_row6_col26\" class=\"data row6 col26\" >0.168287</td>\n",
       "      <td id=\"T_464e0_row6_col27\" class=\"data row6 col27\" >0.125792</td>\n",
       "      <td id=\"T_464e0_row6_col28\" class=\"data row6 col28\" >0.068237</td>\n",
       "      <td id=\"T_464e0_row6_col29\" class=\"data row6 col29\" >0.069101</td>\n",
       "      <td id=\"T_464e0_row6_col30\" class=\"data row6 col30\" >1172.160000</td>\n",
       "      <td id=\"T_464e0_row6_col31\" class=\"data row6 col31\" >793.185000</td>\n",
       "      <td id=\"T_464e0_row6_col32\" class=\"data row6 col32\" >836.685000</td>\n",
       "      <td id=\"T_464e0_row6_col33\" class=\"data row6 col33\" >769.029000</td>\n",
       "    </tr>\n",
       "    <tr>\n",
       "      <th id=\"T_464e0_level0_row7\" class=\"row_heading level0 row7\" >90.000000</th>\n",
       "      <td id=\"T_464e0_row7_col0\" class=\"data row7 col0\" >143329.887876</td>\n",
       "      <td id=\"T_464e0_row7_col1\" class=\"data row7 col1\" >35315.962732</td>\n",
       "      <td id=\"T_464e0_row7_col2\" class=\"data row7 col2\" >35175.061396</td>\n",
       "      <td id=\"T_464e0_row7_col3\" class=\"data row7 col3\" >35000.525535</td>\n",
       "      <td id=\"T_464e0_row7_col4\" class=\"data row7 col4\" >34943.183010</td>\n",
       "      <td id=\"T_464e0_row7_col5\" class=\"data row7 col5\" >22.500000</td>\n",
       "      <td id=\"T_464e0_row7_col6\" class=\"data row7 col6\" >0.398974</td>\n",
       "      <td id=\"T_464e0_row7_col7\" class=\"data row7 col7\" >0.893186</td>\n",
       "      <td id=\"T_464e0_row7_col8\" class=\"data row7 col8\" >1.055556</td>\n",
       "      <td id=\"T_464e0_row7_col9\" class=\"data row7 col9\" >3.561284</td>\n",
       "      <td id=\"T_464e0_row7_col10\" class=\"data row7 col10\" >3.855093</td>\n",
       "      <td id=\"T_464e0_row7_col11\" class=\"data row7 col11\" >3.291504</td>\n",
       "      <td id=\"T_464e0_row7_col12\" class=\"data row7 col12\" >2.922593</td>\n",
       "      <td id=\"T_464e0_row7_col13\" class=\"data row7 col13\" >19879.560000</td>\n",
       "      <td id=\"T_464e0_row7_col14\" class=\"data row7 col14\" >18023.509000</td>\n",
       "      <td id=\"T_464e0_row7_col15\" class=\"data row7 col15\" >17948.480000</td>\n",
       "      <td id=\"T_464e0_row7_col16\" class=\"data row7 col16\" >18095.396000</td>\n",
       "      <td id=\"T_464e0_row7_col17\" class=\"data row7 col17\" >36383.152191</td>\n",
       "      <td id=\"T_464e0_row7_col18\" class=\"data row7 col18\" >35519.556661</td>\n",
       "      <td id=\"T_464e0_row7_col19\" class=\"data row7 col19\" >35456.635176</td>\n",
       "      <td id=\"T_464e0_row7_col20\" class=\"data row7 col20\" >35358.125404</td>\n",
       "      <td id=\"T_464e0_row7_col21\" class=\"data row7 col21\" >35432.309418</td>\n",
       "      <td id=\"T_464e0_row7_col22\" class=\"data row7 col22\" >22.500000</td>\n",
       "      <td id=\"T_464e0_row7_col23\" class=\"data row7 col23\" >0.177146</td>\n",
       "      <td id=\"T_464e0_row7_col24\" class=\"data row7 col24\" >0.454486</td>\n",
       "      <td id=\"T_464e0_row7_col25\" class=\"data row7 col25\" >0.245632</td>\n",
       "      <td id=\"T_464e0_row7_col26\" class=\"data row7 col26\" >0.225094</td>\n",
       "      <td id=\"T_464e0_row7_col27\" class=\"data row7 col27\" >0.154683</td>\n",
       "      <td id=\"T_464e0_row7_col28\" class=\"data row7 col28\" >0.069781</td>\n",
       "      <td id=\"T_464e0_row7_col29\" class=\"data row7 col29\" >0.074137</td>\n",
       "      <td id=\"T_464e0_row7_col30\" class=\"data row7 col30\" >1507.140000</td>\n",
       "      <td id=\"T_464e0_row7_col31\" class=\"data row7 col31\" >902.027000</td>\n",
       "      <td id=\"T_464e0_row7_col32\" class=\"data row7 col32\" >861.699000</td>\n",
       "      <td id=\"T_464e0_row7_col33\" class=\"data row7 col33\" >869.004000</td>\n",
       "    </tr>\n",
       "    <tr>\n",
       "      <th id=\"T_464e0_level0_row8\" class=\"row_heading level0 row8\" >100.000000</th>\n",
       "      <td id=\"T_464e0_row8_col0\" class=\"data row8 col0\" >159733.256549</td>\n",
       "      <td id=\"T_464e0_row8_col1\" class=\"data row8 col1\" >39432.487378</td>\n",
       "      <td id=\"T_464e0_row8_col2\" class=\"data row8 col2\" >38978.916358</td>\n",
       "      <td id=\"T_464e0_row8_col3\" class=\"data row8 col3\" >39068.883420</td>\n",
       "      <td id=\"T_464e0_row8_col4\" class=\"data row8 col4\" >39079.090371</td>\n",
       "      <td id=\"T_464e0_row8_col5\" class=\"data row8 col5\" >25.000000</td>\n",
       "      <td id=\"T_464e0_row8_col6\" class=\"data row8 col6\" >1.150247</td>\n",
       "      <td id=\"T_464e0_row8_col7\" class=\"data row8 col7\" >0.922092</td>\n",
       "      <td id=\"T_464e0_row8_col8\" class=\"data row8 col8\" >0.896208</td>\n",
       "      <td id=\"T_464e0_row8_col9\" class=\"data row8 col9\" >3.734852</td>\n",
       "      <td id=\"T_464e0_row8_col10\" class=\"data row8 col10\" >4.055528</td>\n",
       "      <td id=\"T_464e0_row8_col11\" class=\"data row8 col11\" >3.442513</td>\n",
       "      <td id=\"T_464e0_row8_col12\" class=\"data row8 col12\" >3.231584</td>\n",
       "      <td id=\"T_464e0_row8_col13\" class=\"data row8 col13\" >24712.800000</td>\n",
       "      <td id=\"T_464e0_row8_col14\" class=\"data row8 col14\" >22530.008000</td>\n",
       "      <td id=\"T_464e0_row8_col15\" class=\"data row8 col15\" >22579.253000</td>\n",
       "      <td id=\"T_464e0_row8_col16\" class=\"data row8 col16\" >22608.634000</td>\n",
       "      <td id=\"T_464e0_row8_col17\" class=\"data row8 col17\" >40493.331024</td>\n",
       "      <td id=\"T_464e0_row8_col18\" class=\"data row8 col18\" >39719.530211</td>\n",
       "      <td id=\"T_464e0_row8_col19\" class=\"data row8 col19\" >39831.017842</td>\n",
       "      <td id=\"T_464e0_row8_col20\" class=\"data row8 col20\" >39601.874853</td>\n",
       "      <td id=\"T_464e0_row8_col21\" class=\"data row8 col21\" >39739.322576</td>\n",
       "      <td id=\"T_464e0_row8_col22\" class=\"data row8 col22\" >25.000000</td>\n",
       "      <td id=\"T_464e0_row8_col23\" class=\"data row8 col23\" >-0.280687</td>\n",
       "      <td id=\"T_464e0_row8_col24\" class=\"data row8 col24\" >0.296215</td>\n",
       "      <td id=\"T_464e0_row8_col25\" class=\"data row8 col25\" >-0.049830</td>\n",
       "      <td id=\"T_464e0_row8_col26\" class=\"data row8 col26\" >0.227884</td>\n",
       "      <td id=\"T_464e0_row8_col27\" class=\"data row8 col27\" >0.151775</td>\n",
       "      <td id=\"T_464e0_row8_col28\" class=\"data row8 col28\" >0.084020</td>\n",
       "      <td id=\"T_464e0_row8_col29\" class=\"data row8 col29\" >0.074011</td>\n",
       "      <td id=\"T_464e0_row8_col30\" class=\"data row8 col30\" >1691.700000</td>\n",
       "      <td id=\"T_464e0_row8_col31\" class=\"data row8 col31\" >976.714000</td>\n",
       "      <td id=\"T_464e0_row8_col32\" class=\"data row8 col32\" >1031.358000</td>\n",
       "      <td id=\"T_464e0_row8_col33\" class=\"data row8 col33\" >919.045000</td>\n",
       "    </tr>\n",
       "  </tbody>\n",
       "</table>\n"
      ],
      "text/plain": [
       "<pandas.io.formats.style.Styler at 0x22272e706a0>"
      ]
     },
     "metadata": {},
     "output_type": "display_data"
    },
    {
     "name": "stdout",
     "output_type": "stream",
     "text": [
      "None\n",
      "Pour le nombre de clusters :  8\n"
     ]
    },
    {
     "data": {
      "text/html": [
       "<style type=\"text/css\">\n",
       "#T_991af_row0_col6, #T_991af_row0_col24 {\n",
       "  background-color: #67000d;\n",
       "  color: #f1f1f1;\n",
       "}\n",
       "#T_991af_row0_col7 {\n",
       "  background-color: #c4161c;\n",
       "  color: #f1f1f1;\n",
       "}\n",
       "#T_991af_row0_col8 {\n",
       "  background-color: #cb181d;\n",
       "  color: #f1f1f1;\n",
       "}\n",
       "#T_991af_row0_col23 {\n",
       "  background-color: #fdc9b3;\n",
       "  color: #000000;\n",
       "}\n",
       "#T_991af_row0_col25 {\n",
       "  background-color: #005120;\n",
       "  color: #f1f1f1;\n",
       "}\n",
       "#T_991af_row1_col6, #T_991af_row1_col8 {\n",
       "  background-color: #fee3d6;\n",
       "  color: #000000;\n",
       "}\n",
       "#T_991af_row1_col7 {\n",
       "  background-color: #fedbcc;\n",
       "  color: #000000;\n",
       "}\n",
       "#T_991af_row1_col23 {\n",
       "  background-color: #fcbba1;\n",
       "  color: #000000;\n",
       "}\n",
       "#T_991af_row1_col24 {\n",
       "  background-color: #c9181d;\n",
       "  color: #f1f1f1;\n",
       "}\n",
       "#T_991af_row1_col25 {\n",
       "  background-color: #fdcdb9;\n",
       "  color: #000000;\n",
       "}\n",
       "#T_991af_row2_col6 {\n",
       "  background-color: #ebf7e7;\n",
       "  color: #000000;\n",
       "}\n",
       "#T_991af_row2_col7 {\n",
       "  background-color: #f1faee;\n",
       "  color: #000000;\n",
       "}\n",
       "#T_991af_row2_col8 {\n",
       "  background-color: #eef8ea;\n",
       "  color: #000000;\n",
       "}\n",
       "#T_991af_row2_col23 {\n",
       "  background-color: #aa1016;\n",
       "  color: #f1f1f1;\n",
       "}\n",
       "#T_991af_row2_col24 {\n",
       "  background-color: #fcb095;\n",
       "  color: #000000;\n",
       "}\n",
       "#T_991af_row2_col25 {\n",
       "  background-color: #fc8767;\n",
       "  color: #f1f1f1;\n",
       "}\n",
       "#T_991af_row3_col6 {\n",
       "  background-color: #daf0d4;\n",
       "  color: #000000;\n",
       "}\n",
       "#T_991af_row3_col7 {\n",
       "  background-color: #e5f5e0;\n",
       "  color: #000000;\n",
       "}\n",
       "#T_991af_row3_col8, #T_991af_row4_col6 {\n",
       "  background-color: #dff3da;\n",
       "  color: #000000;\n",
       "}\n",
       "#T_991af_row3_col23 {\n",
       "  background-color: #e9f7e5;\n",
       "  color: #000000;\n",
       "}\n",
       "#T_991af_row3_col24 {\n",
       "  background-color: #e8f6e4;\n",
       "  color: #000000;\n",
       "}\n",
       "#T_991af_row3_col25, #T_991af_row8_col6 {\n",
       "  background-color: #cbeac4;\n",
       "  color: #000000;\n",
       "}\n",
       "#T_991af_row4_col7, #T_991af_row5_col6 {\n",
       "  background-color: #dbf1d6;\n",
       "  color: #000000;\n",
       "}\n",
       "#T_991af_row4_col8 {\n",
       "  background-color: #e6f5e1;\n",
       "  color: #000000;\n",
       "}\n",
       "#T_991af_row4_col23 {\n",
       "  background-color: #6ec173;\n",
       "  color: #000000;\n",
       "}\n",
       "#T_991af_row4_col24 {\n",
       "  background-color: #90d18d;\n",
       "  color: #000000;\n",
       "}\n",
       "#T_991af_row4_col25 {\n",
       "  background-color: #5bb86a;\n",
       "  color: #f1f1f1;\n",
       "}\n",
       "#T_991af_row5_col7, #T_991af_row7_col23 {\n",
       "  background-color: #e1f3dc;\n",
       "  color: #000000;\n",
       "}\n",
       "#T_991af_row5_col8 {\n",
       "  background-color: #ceecc8;\n",
       "  color: #000000;\n",
       "}\n",
       "#T_991af_row5_col23, #T_991af_row6_col25 {\n",
       "  background-color: #6bc072;\n",
       "  color: #000000;\n",
       "}\n",
       "#T_991af_row5_col24, #T_991af_row6_col6, #T_991af_row6_col8 {\n",
       "  background-color: #c0e6b9;\n",
       "  color: #000000;\n",
       "}\n",
       "#T_991af_row5_col25 {\n",
       "  background-color: #9ed798;\n",
       "  color: #000000;\n",
       "}\n",
       "#T_991af_row6_col7 {\n",
       "  background-color: #d4eece;\n",
       "  color: #000000;\n",
       "}\n",
       "#T_991af_row6_col23 {\n",
       "  background-color: #fdd2bf;\n",
       "  color: #000000;\n",
       "}\n",
       "#T_991af_row6_col24 {\n",
       "  background-color: #f2faf0;\n",
       "  color: #000000;\n",
       "}\n",
       "#T_991af_row7_col6 {\n",
       "  background-color: #b6e2af;\n",
       "  color: #000000;\n",
       "}\n",
       "#T_991af_row7_col7 {\n",
       "  background-color: #c2e7bb;\n",
       "  color: #000000;\n",
       "}\n",
       "#T_991af_row7_col8 {\n",
       "  background-color: #bde5b6;\n",
       "  color: #000000;\n",
       "}\n",
       "#T_991af_row7_col24 {\n",
       "  background-color: #d2edcc;\n",
       "  color: #000000;\n",
       "}\n",
       "#T_991af_row7_col25, #T_991af_row8_col25 {\n",
       "  background-color: #fff4ee;\n",
       "  color: #000000;\n",
       "}\n",
       "#T_991af_row8_col7 {\n",
       "  background-color: #ccebc6;\n",
       "  color: #000000;\n",
       "}\n",
       "#T_991af_row8_col8 {\n",
       "  background-color: #c4e8bd;\n",
       "  color: #000000;\n",
       "}\n",
       "#T_991af_row8_col23 {\n",
       "  background-color: #d0edca;\n",
       "  color: #000000;\n",
       "}\n",
       "#T_991af_row8_col24 {\n",
       "  background-color: #ffece3;\n",
       "  color: #000000;\n",
       "}\n",
       "</style>\n",
       "<table id=\"T_991af\">\n",
       "  <thead>\n",
       "    <tr>\n",
       "      <th class=\"blank level0\" >&nbsp;</th>\n",
       "      <th id=\"T_991af_level0_col0\" class=\"col_heading level0 col0\" colspan=\"17\">random</th>\n",
       "      <th id=\"T_991af_level0_col17\" class=\"col_heading level0 col17\" colspan=\"17\">kmean+</th>\n",
       "    </tr>\n",
       "    <tr>\n",
       "      <th class=\"blank level1\" >&nbsp;</th>\n",
       "      <th id=\"T_991af_level1_col0\" class=\"col_heading level1 col0\" colspan=\"5\">Coût final</th>\n",
       "      <th id=\"T_991af_level1_col5\" class=\"col_heading level1 col5\" colspan=\"4\">% amélioration</th>\n",
       "      <th id=\"T_991af_level1_col9\" class=\"col_heading level1 col9\" colspan=\"4\">Temps d'exécution (s)</th>\n",
       "      <th id=\"T_991af_level1_col13\" class=\"col_heading level1 col13\" colspan=\"4\">Nombre d'itérations</th>\n",
       "      <th id=\"T_991af_level1_col17\" class=\"col_heading level1 col17\" colspan=\"5\">Coût final</th>\n",
       "      <th id=\"T_991af_level1_col22\" class=\"col_heading level1 col22\" colspan=\"4\">% amélioration</th>\n",
       "      <th id=\"T_991af_level1_col26\" class=\"col_heading level1 col26\" colspan=\"4\">Temps d'exécution (s)</th>\n",
       "      <th id=\"T_991af_level1_col30\" class=\"col_heading level1 col30\" colspan=\"4\">Nombre d'itérations</th>\n",
       "    </tr>\n",
       "    <tr>\n",
       "      <th class=\"blank level2\" >&nbsp;</th>\n",
       "      <th id=\"T_991af_level2_col0\" class=\"col_heading level2 col0\" colspan=\"2\">BI_BACK</th>\n",
       "      <th id=\"T_991af_level2_col2\" class=\"col_heading level2 col2\" >FI_CURR</th>\n",
       "      <th id=\"T_991af_level2_col3\" class=\"col_heading level2 col3\" >FI_BACK</th>\n",
       "      <th id=\"T_991af_level2_col4\" class=\"col_heading level2 col4\" >FI_RANDOM</th>\n",
       "      <th id=\"T_991af_level2_col5\" class=\"col_heading level2 col5\" >points/centroid</th>\n",
       "      <th id=\"T_991af_level2_col6\" class=\"col_heading level2 col6\" >FI_CURR</th>\n",
       "      <th id=\"T_991af_level2_col7\" class=\"col_heading level2 col7\" >FI_BACK</th>\n",
       "      <th id=\"T_991af_level2_col8\" class=\"col_heading level2 col8\" >FI_RANDOM</th>\n",
       "      <th id=\"T_991af_level2_col9\" class=\"col_heading level2 col9\" >BI_BACK</th>\n",
       "      <th id=\"T_991af_level2_col10\" class=\"col_heading level2 col10\" >FI_CURR</th>\n",
       "      <th id=\"T_991af_level2_col11\" class=\"col_heading level2 col11\" >FI_BACK</th>\n",
       "      <th id=\"T_991af_level2_col12\" class=\"col_heading level2 col12\" >FI_RANDOM</th>\n",
       "      <th id=\"T_991af_level2_col13\" class=\"col_heading level2 col13\" >BI_BACK</th>\n",
       "      <th id=\"T_991af_level2_col14\" class=\"col_heading level2 col14\" >FI_CURR</th>\n",
       "      <th id=\"T_991af_level2_col15\" class=\"col_heading level2 col15\" >FI_BACK</th>\n",
       "      <th id=\"T_991af_level2_col16\" class=\"col_heading level2 col16\" >FI_RANDOM</th>\n",
       "      <th id=\"T_991af_level2_col17\" class=\"col_heading level2 col17\" colspan=\"2\">BI_BACK</th>\n",
       "      <th id=\"T_991af_level2_col19\" class=\"col_heading level2 col19\" >FI_CURR</th>\n",
       "      <th id=\"T_991af_level2_col20\" class=\"col_heading level2 col20\" >FI_BACK</th>\n",
       "      <th id=\"T_991af_level2_col21\" class=\"col_heading level2 col21\" >FI_RANDOM</th>\n",
       "      <th id=\"T_991af_level2_col22\" class=\"col_heading level2 col22\" >points/centroid</th>\n",
       "      <th id=\"T_991af_level2_col23\" class=\"col_heading level2 col23\" >FI_CURR</th>\n",
       "      <th id=\"T_991af_level2_col24\" class=\"col_heading level2 col24\" >FI_BACK</th>\n",
       "      <th id=\"T_991af_level2_col25\" class=\"col_heading level2 col25\" >FI_RANDOM</th>\n",
       "      <th id=\"T_991af_level2_col26\" class=\"col_heading level2 col26\" >BI_BACK</th>\n",
       "      <th id=\"T_991af_level2_col27\" class=\"col_heading level2 col27\" >FI_CURR</th>\n",
       "      <th id=\"T_991af_level2_col28\" class=\"col_heading level2 col28\" >FI_BACK</th>\n",
       "      <th id=\"T_991af_level2_col29\" class=\"col_heading level2 col29\" >FI_RANDOM</th>\n",
       "      <th id=\"T_991af_level2_col30\" class=\"col_heading level2 col30\" >BI_BACK</th>\n",
       "      <th id=\"T_991af_level2_col31\" class=\"col_heading level2 col31\" >FI_CURR</th>\n",
       "      <th id=\"T_991af_level2_col32\" class=\"col_heading level2 col32\" >FI_BACK</th>\n",
       "      <th id=\"T_991af_level2_col33\" class=\"col_heading level2 col33\" >FI_RANDOM</th>\n",
       "    </tr>\n",
       "    <tr>\n",
       "      <th class=\"blank level3\" >&nbsp;</th>\n",
       "      <th id=\"T_991af_level3_col0\" class=\"col_heading level3 col0\" >init_cost</th>\n",
       "      <th id=\"T_991af_level3_col1\" class=\"col_heading level3 col1\" >end_cost</th>\n",
       "      <th id=\"T_991af_level3_col2\" class=\"col_heading level3 col2\" >end_cost</th>\n",
       "      <th id=\"T_991af_level3_col3\" class=\"col_heading level3 col3\" >end_cost</th>\n",
       "      <th id=\"T_991af_level3_col4\" class=\"col_heading level3 col4\" >end_cost</th>\n",
       "      <th id=\"T_991af_level3_col5\" class=\"col_heading level3 col5\" ></th>\n",
       "      <th id=\"T_991af_level3_col6\" class=\"col_heading level3 col6\" >end_cost</th>\n",
       "      <th id=\"T_991af_level3_col7\" class=\"col_heading level3 col7\" >end_cost</th>\n",
       "      <th id=\"T_991af_level3_col8\" class=\"col_heading level3 col8\" >end_cost</th>\n",
       "      <th id=\"T_991af_level3_col9\" class=\"col_heading level3 col9\" >time</th>\n",
       "      <th id=\"T_991af_level3_col10\" class=\"col_heading level3 col10\" >time</th>\n",
       "      <th id=\"T_991af_level3_col11\" class=\"col_heading level3 col11\" >time</th>\n",
       "      <th id=\"T_991af_level3_col12\" class=\"col_heading level3 col12\" >time</th>\n",
       "      <th id=\"T_991af_level3_col13\" class=\"col_heading level3 col13\" >num_iter_tot</th>\n",
       "      <th id=\"T_991af_level3_col14\" class=\"col_heading level3 col14\" >num_iter_tot</th>\n",
       "      <th id=\"T_991af_level3_col15\" class=\"col_heading level3 col15\" >num_iter_tot</th>\n",
       "      <th id=\"T_991af_level3_col16\" class=\"col_heading level3 col16\" >num_iter_tot</th>\n",
       "      <th id=\"T_991af_level3_col17\" class=\"col_heading level3 col17\" >init_cost</th>\n",
       "      <th id=\"T_991af_level3_col18\" class=\"col_heading level3 col18\" >end_cost</th>\n",
       "      <th id=\"T_991af_level3_col19\" class=\"col_heading level3 col19\" >end_cost</th>\n",
       "      <th id=\"T_991af_level3_col20\" class=\"col_heading level3 col20\" >end_cost</th>\n",
       "      <th id=\"T_991af_level3_col21\" class=\"col_heading level3 col21\" >end_cost</th>\n",
       "      <th id=\"T_991af_level3_col22\" class=\"col_heading level3 col22\" ></th>\n",
       "      <th id=\"T_991af_level3_col23\" class=\"col_heading level3 col23\" >end_cost</th>\n",
       "      <th id=\"T_991af_level3_col24\" class=\"col_heading level3 col24\" >end_cost</th>\n",
       "      <th id=\"T_991af_level3_col25\" class=\"col_heading level3 col25\" >end_cost</th>\n",
       "      <th id=\"T_991af_level3_col26\" class=\"col_heading level3 col26\" >time</th>\n",
       "      <th id=\"T_991af_level3_col27\" class=\"col_heading level3 col27\" >time</th>\n",
       "      <th id=\"T_991af_level3_col28\" class=\"col_heading level3 col28\" >time</th>\n",
       "      <th id=\"T_991af_level3_col29\" class=\"col_heading level3 col29\" >time</th>\n",
       "      <th id=\"T_991af_level3_col30\" class=\"col_heading level3 col30\" >num_iter_tot</th>\n",
       "      <th id=\"T_991af_level3_col31\" class=\"col_heading level3 col31\" >num_iter_tot</th>\n",
       "      <th id=\"T_991af_level3_col32\" class=\"col_heading level3 col32\" >num_iter_tot</th>\n",
       "      <th id=\"T_991af_level3_col33\" class=\"col_heading level3 col33\" >num_iter_tot</th>\n",
       "    </tr>\n",
       "    <tr>\n",
       "      <th class=\"index_name level0\" >Nb. points</th>\n",
       "      <th class=\"blank col0\" >&nbsp;</th>\n",
       "      <th class=\"blank col1\" >&nbsp;</th>\n",
       "      <th class=\"blank col2\" >&nbsp;</th>\n",
       "      <th class=\"blank col3\" >&nbsp;</th>\n",
       "      <th class=\"blank col4\" >&nbsp;</th>\n",
       "      <th class=\"blank col5\" >&nbsp;</th>\n",
       "      <th class=\"blank col6\" >&nbsp;</th>\n",
       "      <th class=\"blank col7\" >&nbsp;</th>\n",
       "      <th class=\"blank col8\" >&nbsp;</th>\n",
       "      <th class=\"blank col9\" >&nbsp;</th>\n",
       "      <th class=\"blank col10\" >&nbsp;</th>\n",
       "      <th class=\"blank col11\" >&nbsp;</th>\n",
       "      <th class=\"blank col12\" >&nbsp;</th>\n",
       "      <th class=\"blank col13\" >&nbsp;</th>\n",
       "      <th class=\"blank col14\" >&nbsp;</th>\n",
       "      <th class=\"blank col15\" >&nbsp;</th>\n",
       "      <th class=\"blank col16\" >&nbsp;</th>\n",
       "      <th class=\"blank col17\" >&nbsp;</th>\n",
       "      <th class=\"blank col18\" >&nbsp;</th>\n",
       "      <th class=\"blank col19\" >&nbsp;</th>\n",
       "      <th class=\"blank col20\" >&nbsp;</th>\n",
       "      <th class=\"blank col21\" >&nbsp;</th>\n",
       "      <th class=\"blank col22\" >&nbsp;</th>\n",
       "      <th class=\"blank col23\" >&nbsp;</th>\n",
       "      <th class=\"blank col24\" >&nbsp;</th>\n",
       "      <th class=\"blank col25\" >&nbsp;</th>\n",
       "      <th class=\"blank col26\" >&nbsp;</th>\n",
       "      <th class=\"blank col27\" >&nbsp;</th>\n",
       "      <th class=\"blank col28\" >&nbsp;</th>\n",
       "      <th class=\"blank col29\" >&nbsp;</th>\n",
       "      <th class=\"blank col30\" >&nbsp;</th>\n",
       "      <th class=\"blank col31\" >&nbsp;</th>\n",
       "      <th class=\"blank col32\" >&nbsp;</th>\n",
       "      <th class=\"blank col33\" >&nbsp;</th>\n",
       "    </tr>\n",
       "  </thead>\n",
       "  <tbody>\n",
       "    <tr>\n",
       "      <th id=\"T_991af_level0_row0\" class=\"row_heading level0 row0\" >20.000000</th>\n",
       "      <td id=\"T_991af_row0_col0\" class=\"data row0 col0\" >20758.713062</td>\n",
       "      <td id=\"T_991af_row0_col1\" class=\"data row0 col1\" >1768.009369</td>\n",
       "      <td id=\"T_991af_row0_col2\" class=\"data row0 col2\" >1890.235853</td>\n",
       "      <td id=\"T_991af_row0_col3\" class=\"data row0 col3\" >1862.257188</td>\n",
       "      <td id=\"T_991af_row0_col4\" class=\"data row0 col4\" >1859.033787</td>\n",
       "      <td id=\"T_991af_row0_col5\" class=\"data row0 col5\" >2.500000</td>\n",
       "      <td id=\"T_991af_row0_col6\" class=\"data row0 col6\" >-6.913226</td>\n",
       "      <td id=\"T_991af_row0_col7\" class=\"data row0 col7\" >-5.330731</td>\n",
       "      <td id=\"T_991af_row0_col8\" class=\"data row0 col8\" >-5.148413</td>\n",
       "      <td id=\"T_991af_row0_col9\" class=\"data row0 col9\" >0.297387</td>\n",
       "      <td id=\"T_991af_row0_col10\" class=\"data row0 col10\" >0.340322</td>\n",
       "      <td id=\"T_991af_row0_col11\" class=\"data row0 col11\" >0.290835</td>\n",
       "      <td id=\"T_991af_row0_col12\" class=\"data row0 col12\" >0.251261</td>\n",
       "      <td id=\"T_991af_row0_col13\" class=\"data row0 col13\" >1980.020000</td>\n",
       "      <td id=\"T_991af_row0_col14\" class=\"data row0 col14\" >1898.865000</td>\n",
       "      <td id=\"T_991af_row0_col15\" class=\"data row0 col15\" >1911.995000</td>\n",
       "      <td id=\"T_991af_row0_col16\" class=\"data row0 col16\" >1894.916000</td>\n",
       "      <td id=\"T_991af_row0_col17\" class=\"data row0 col17\" >2502.320771</td>\n",
       "      <td id=\"T_991af_row0_col18\" class=\"data row0 col18\" >1800.977633</td>\n",
       "      <td id=\"T_991af_row0_col19\" class=\"data row0 col19\" >1805.880501</td>\n",
       "      <td id=\"T_991af_row0_col20\" class=\"data row0 col20\" >1824.654084</td>\n",
       "      <td id=\"T_991af_row0_col21\" class=\"data row0 col21\" >1778.317973</td>\n",
       "      <td id=\"T_991af_row0_col22\" class=\"data row0 col22\" >2.500000</td>\n",
       "      <td id=\"T_991af_row0_col23\" class=\"data row0 col23\" >-0.272234</td>\n",
       "      <td id=\"T_991af_row0_col24\" class=\"data row0 col24\" >-1.314644</td>\n",
       "      <td id=\"T_991af_row0_col25\" class=\"data row0 col25\" >1.258187</td>\n",
       "      <td id=\"T_991af_row0_col26\" class=\"data row0 col26\" >0.062521</td>\n",
       "      <td id=\"T_991af_row0_col27\" class=\"data row0 col27\" >0.031004</td>\n",
       "      <td id=\"T_991af_row0_col28\" class=\"data row0 col28\" >0.025355</td>\n",
       "      <td id=\"T_991af_row0_col29\" class=\"data row0 col29\" >0.029953</td>\n",
       "      <td id=\"T_991af_row0_col30\" class=\"data row0 col30\" >622.300000</td>\n",
       "      <td id=\"T_991af_row0_col31\" class=\"data row0 col31\" >407.266000</td>\n",
       "      <td id=\"T_991af_row0_col32\" class=\"data row0 col32\" >404.422000</td>\n",
       "      <td id=\"T_991af_row0_col33\" class=\"data row0 col33\" >411.119000</td>\n",
       "    </tr>\n",
       "    <tr>\n",
       "      <th id=\"T_991af_level0_row1\" class=\"row_heading level0 row1\" >30.000000</th>\n",
       "      <td id=\"T_991af_row1_col0\" class=\"data row1 col0\" >36832.627076</td>\n",
       "      <td id=\"T_991af_row1_col1\" class=\"data row1 col1\" >3668.231244</td>\n",
       "      <td id=\"T_991af_row1_col2\" class=\"data row1 col2\" >3696.255654</td>\n",
       "      <td id=\"T_991af_row1_col3\" class=\"data row1 col3\" >3705.410704</td>\n",
       "      <td id=\"T_991af_row1_col4\" class=\"data row1 col4\" >3697.233173</td>\n",
       "      <td id=\"T_991af_row1_col5\" class=\"data row1 col5\" >3.750000</td>\n",
       "      <td id=\"T_991af_row1_col6\" class=\"data row1 col6\" >-0.763976</td>\n",
       "      <td id=\"T_991af_row1_col7\" class=\"data row1 col7\" >-1.013553</td>\n",
       "      <td id=\"T_991af_row1_col8\" class=\"data row1 col8\" >-0.790624</td>\n",
       "      <td id=\"T_991af_row1_col9\" class=\"data row1 col9\" >0.754269</td>\n",
       "      <td id=\"T_991af_row1_col10\" class=\"data row1 col10\" >1.060581</td>\n",
       "      <td id=\"T_991af_row1_col11\" class=\"data row1 col11\" >0.983652</td>\n",
       "      <td id=\"T_991af_row1_col12\" class=\"data row1 col12\" >0.826286</td>\n",
       "      <td id=\"T_991af_row1_col13\" class=\"data row1 col13\" >5029.290000</td>\n",
       "      <td id=\"T_991af_row1_col14\" class=\"data row1 col14\" >5561.389000</td>\n",
       "      <td id=\"T_991af_row1_col15\" class=\"data row1 col15\" >5481.518000</td>\n",
       "      <td id=\"T_991af_row1_col16\" class=\"data row1 col16\" >5530.138000</td>\n",
       "      <td id=\"T_991af_row1_col17\" class=\"data row1 col17\" >4627.231939</td>\n",
       "      <td id=\"T_991af_row1_col18\" class=\"data row1 col18\" >3702.737949</td>\n",
       "      <td id=\"T_991af_row1_col19\" class=\"data row1 col19\" >3715.005058</td>\n",
       "      <td id=\"T_991af_row1_col20\" class=\"data row1 col20\" >3739.572184</td>\n",
       "      <td id=\"T_991af_row1_col21\" class=\"data row1 col21\" >3712.237161</td>\n",
       "      <td id=\"T_991af_row1_col22\" class=\"data row1 col22\" >3.750000</td>\n",
       "      <td id=\"T_991af_row1_col23\" class=\"data row1 col23\" >-0.331298</td>\n",
       "      <td id=\"T_991af_row1_col24\" class=\"data row1 col24\" >-0.994784</td>\n",
       "      <td id=\"T_991af_row1_col25\" class=\"data row1 col25\" >-0.256546</td>\n",
       "      <td id=\"T_991af_row1_col26\" class=\"data row1 col26\" >0.160699</td>\n",
       "      <td id=\"T_991af_row1_col27\" class=\"data row1 col27\" >0.080937</td>\n",
       "      <td id=\"T_991af_row1_col28\" class=\"data row1 col28\" >0.049242</td>\n",
       "      <td id=\"T_991af_row1_col29\" class=\"data row1 col29\" >0.061342</td>\n",
       "      <td id=\"T_991af_row1_col30\" class=\"data row1 col30\" >1259.580000</td>\n",
       "      <td id=\"T_991af_row1_col31\" class=\"data row1 col31\" >798.128000</td>\n",
       "      <td id=\"T_991af_row1_col32\" class=\"data row1 col32\" >767.701000</td>\n",
       "      <td id=\"T_991af_row1_col33\" class=\"data row1 col33\" >794.934000</td>\n",
       "    </tr>\n",
       "    <tr>\n",
       "      <th id=\"T_991af_level0_row2\" class=\"row_heading level0 row2\" >40.000000</th>\n",
       "      <td id=\"T_991af_row2_col0\" class=\"data row2 col0\" >53252.670575</td>\n",
       "      <td id=\"T_991af_row2_col1\" class=\"data row2 col1\" >5673.327770</td>\n",
       "      <td id=\"T_991af_row2_col2\" class=\"data row2 col2\" >5637.187213</td>\n",
       "      <td id=\"T_991af_row2_col3\" class=\"data row2 col3\" >5655.755660</td>\n",
       "      <td id=\"T_991af_row2_col4\" class=\"data row2 col4\" >5646.021961</td>\n",
       "      <td id=\"T_991af_row2_col5\" class=\"data row2 col5\" >5.000000</td>\n",
       "      <td id=\"T_991af_row2_col6\" class=\"data row2 col6\" >0.637026</td>\n",
       "      <td id=\"T_991af_row2_col7\" class=\"data row2 col7\" >0.309732</td>\n",
       "      <td id=\"T_991af_row2_col8\" class=\"data row2 col8\" >0.481301</td>\n",
       "      <td id=\"T_991af_row2_col9\" class=\"data row2 col9\" >1.497256</td>\n",
       "      <td id=\"T_991af_row2_col10\" class=\"data row2 col10\" >2.108989</td>\n",
       "      <td id=\"T_991af_row2_col11\" class=\"data row2 col11\" >1.832880</td>\n",
       "      <td id=\"T_991af_row2_col12\" class=\"data row2 col12\" >1.709897</td>\n",
       "      <td id=\"T_991af_row2_col13\" class=\"data row2 col13\" >9526.160000</td>\n",
       "      <td id=\"T_991af_row2_col14\" class=\"data row2 col14\" >11295.509000</td>\n",
       "      <td id=\"T_991af_row2_col15\" class=\"data row2 col15\" >11372.803000</td>\n",
       "      <td id=\"T_991af_row2_col16\" class=\"data row2 col16\" >11530.133000</td>\n",
       "      <td id=\"T_991af_row2_col17\" class=\"data row2 col17\" >6770.261707</td>\n",
       "      <td id=\"T_991af_row2_col18\" class=\"data row2 col18\" >5731.273178</td>\n",
       "      <td id=\"T_991af_row2_col19\" class=\"data row2 col19\" >5795.619406</td>\n",
       "      <td id=\"T_991af_row2_col20\" class=\"data row2 col20\" >5752.851153</td>\n",
       "      <td id=\"T_991af_row2_col21\" class=\"data row2 col21\" >5762.226462</td>\n",
       "      <td id=\"T_991af_row2_col22\" class=\"data row2 col22\" >5.000000</td>\n",
       "      <td id=\"T_991af_row2_col23\" class=\"data row2 col23\" >-1.122721</td>\n",
       "      <td id=\"T_991af_row2_col24\" class=\"data row2 col24\" >-0.376495</td>\n",
       "      <td id=\"T_991af_row2_col25\" class=\"data row2 col25\" >-0.540077</td>\n",
       "      <td id=\"T_991af_row2_col26\" class=\"data row2 col26\" >0.277434</td>\n",
       "      <td id=\"T_991af_row2_col27\" class=\"data row2 col27\" >0.167190</td>\n",
       "      <td id=\"T_991af_row2_col28\" class=\"data row2 col28\" >0.088925</td>\n",
       "      <td id=\"T_991af_row2_col29\" class=\"data row2 col29\" >0.103545</td>\n",
       "      <td id=\"T_991af_row2_col30\" class=\"data row2 col30\" >1964.760000</td>\n",
       "      <td id=\"T_991af_row2_col31\" class=\"data row2 col31\" >1222.801000</td>\n",
       "      <td id=\"T_991af_row2_col32\" class=\"data row2 col32\" >1254.439000</td>\n",
       "      <td id=\"T_991af_row2_col33\" class=\"data row2 col33\" >1232.146000</td>\n",
       "    </tr>\n",
       "    <tr>\n",
       "      <th id=\"T_991af_level0_row3\" class=\"row_heading level0 row3\" >50.000000</th>\n",
       "      <td id=\"T_991af_row3_col0\" class=\"data row3 col0\" >69796.128627</td>\n",
       "      <td id=\"T_991af_row3_col1\" class=\"data row3 col1\" >7717.029438</td>\n",
       "      <td id=\"T_991af_row3_col2\" class=\"data row3 col2\" >7625.041125</td>\n",
       "      <td id=\"T_991af_row3_col3\" class=\"data row3 col3\" >7650.138116</td>\n",
       "      <td id=\"T_991af_row3_col4\" class=\"data row3 col4\" >7635.628676</td>\n",
       "      <td id=\"T_991af_row3_col5\" class=\"data row3 col5\" >6.250000</td>\n",
       "      <td id=\"T_991af_row3_col6\" class=\"data row3 col6\" >1.192017</td>\n",
       "      <td id=\"T_991af_row3_col7\" class=\"data row3 col7\" >0.866801</td>\n",
       "      <td id=\"T_991af_row3_col8\" class=\"data row3 col8\" >1.054820</td>\n",
       "      <td id=\"T_991af_row3_col9\" class=\"data row3 col9\" >2.487152</td>\n",
       "      <td id=\"T_991af_row3_col10\" class=\"data row3 col10\" >3.807956</td>\n",
       "      <td id=\"T_991af_row3_col11\" class=\"data row3 col11\" >3.301774</td>\n",
       "      <td id=\"T_991af_row3_col12\" class=\"data row3 col12\" >3.041069</td>\n",
       "      <td id=\"T_991af_row3_col13\" class=\"data row3 col13\" >15339.450000</td>\n",
       "      <td id=\"T_991af_row3_col14\" class=\"data row3 col14\" >19738.451000</td>\n",
       "      <td id=\"T_991af_row3_col15\" class=\"data row3 col15\" >19707.572000</td>\n",
       "      <td id=\"T_991af_row3_col16\" class=\"data row3 col16\" >19619.982000</td>\n",
       "      <td id=\"T_991af_row3_col17\" class=\"data row3 col17\" >9039.541992</td>\n",
       "      <td id=\"T_991af_row3_col18\" class=\"data row3 col18\" >7856.490549</td>\n",
       "      <td id=\"T_991af_row3_col19\" class=\"data row3 col19\" >7846.136255</td>\n",
       "      <td id=\"T_991af_row3_col20\" class=\"data row3 col20\" >7845.393883</td>\n",
       "      <td id=\"T_991af_row3_col21\" class=\"data row3 col21\" >7831.559098</td>\n",
       "      <td id=\"T_991af_row3_col22\" class=\"data row3 col22\" >6.250000</td>\n",
       "      <td id=\"T_991af_row3_col23\" class=\"data row3 col23\" >0.131793</td>\n",
       "      <td id=\"T_991af_row3_col24\" class=\"data row3 col24\" >0.141242</td>\n",
       "      <td id=\"T_991af_row3_col25\" class=\"data row3 col25\" >0.317336</td>\n",
       "      <td id=\"T_991af_row3_col26\" class=\"data row3 col26\" >0.429410</td>\n",
       "      <td id=\"T_991af_row3_col27\" class=\"data row3 col27\" >0.262548</td>\n",
       "      <td id=\"T_991af_row3_col28\" class=\"data row3 col28\" >0.137616</td>\n",
       "      <td id=\"T_991af_row3_col29\" class=\"data row3 col29\" >0.158673</td>\n",
       "      <td id=\"T_991af_row3_col30\" class=\"data row3 col30\" >2863.700000</td>\n",
       "      <td id=\"T_991af_row3_col31\" class=\"data row3 col31\" >1671.074000</td>\n",
       "      <td id=\"T_991af_row3_col32\" class=\"data row3 col32\" >1737.774000</td>\n",
       "      <td id=\"T_991af_row3_col33\" class=\"data row3 col33\" >1788.690000</td>\n",
       "    </tr>\n",
       "    <tr>\n",
       "      <th id=\"T_991af_level0_row4\" class=\"row_heading level0 row4\" >60.000000</th>\n",
       "      <td id=\"T_991af_row4_col0\" class=\"data row4 col0\" >86882.791230</td>\n",
       "      <td id=\"T_991af_row4_col1\" class=\"data row4 col1\" >9769.255441</td>\n",
       "      <td id=\"T_991af_row4_col2\" class=\"data row4 col2\" >9668.219937</td>\n",
       "      <td id=\"T_991af_row4_col3\" class=\"data row4 col3\" >9656.044801</td>\n",
       "      <td id=\"T_991af_row4_col4\" class=\"data row4 col4\" >9689.408215</td>\n",
       "      <td id=\"T_991af_row4_col5\" class=\"data row4 col5\" >7.500000</td>\n",
       "      <td id=\"T_991af_row4_col6\" class=\"data row4 col6\" >1.034219</td>\n",
       "      <td id=\"T_991af_row4_col7\" class=\"data row4 col7\" >1.158846</td>\n",
       "      <td id=\"T_991af_row4_col8\" class=\"data row4 col8\" >0.817332</td>\n",
       "      <td id=\"T_991af_row4_col9\" class=\"data row4 col9\" >3.368137</td>\n",
       "      <td id=\"T_991af_row4_col10\" class=\"data row4 col10\" >5.217852</td>\n",
       "      <td id=\"T_991af_row4_col11\" class=\"data row4 col11\" >4.471798</td>\n",
       "      <td id=\"T_991af_row4_col12\" class=\"data row4 col12\" >4.351576</td>\n",
       "      <td id=\"T_991af_row4_col13\" class=\"data row4 col13\" >22923.180000</td>\n",
       "      <td id=\"T_991af_row4_col14\" class=\"data row4 col14\" >30347.630000</td>\n",
       "      <td id=\"T_991af_row4_col15\" class=\"data row4 col15\" >29992.101000</td>\n",
       "      <td id=\"T_991af_row4_col16\" class=\"data row4 col16\" >30570.563000</td>\n",
       "      <td id=\"T_991af_row4_col17\" class=\"data row4 col17\" >11205.140299</td>\n",
       "      <td id=\"T_991af_row4_col18\" class=\"data row4 col18\" >9978.422083</td>\n",
       "      <td id=\"T_991af_row4_col19\" class=\"data row4 col19\" >9911.740014</td>\n",
       "      <td id=\"T_991af_row4_col20\" class=\"data row4 col20\" >9922.207838</td>\n",
       "      <td id=\"T_991af_row4_col21\" class=\"data row4 col21\" >9904.971879</td>\n",
       "      <td id=\"T_991af_row4_col22\" class=\"data row4 col22\" >7.500000</td>\n",
       "      <td id=\"T_991af_row4_col23\" class=\"data row4 col23\" >0.668263</td>\n",
       "      <td id=\"T_991af_row4_col24\" class=\"data row4 col24\" >0.563358</td>\n",
       "      <td id=\"T_991af_row4_col25\" class=\"data row4 col25\" >0.736090</td>\n",
       "      <td id=\"T_991af_row4_col26\" class=\"data row4 col26\" >0.530999</td>\n",
       "      <td id=\"T_991af_row4_col27\" class=\"data row4 col27\" >0.336122</td>\n",
       "      <td id=\"T_991af_row4_col28\" class=\"data row4 col28\" >0.236206</td>\n",
       "      <td id=\"T_991af_row4_col29\" class=\"data row4 col29\" >0.192495</td>\n",
       "      <td id=\"T_991af_row4_col30\" class=\"data row4 col30\" >3777.060000</td>\n",
       "      <td id=\"T_991af_row4_col31\" class=\"data row4 col31\" >2289.240000</td>\n",
       "      <td id=\"T_991af_row4_col32\" class=\"data row4 col32\" >2259.543000</td>\n",
       "      <td id=\"T_991af_row4_col33\" class=\"data row4 col33\" >2283.199000</td>\n",
       "    </tr>\n",
       "    <tr>\n",
       "      <th id=\"T_991af_level0_row5\" class=\"row_heading level0 row5\" >70.000000</th>\n",
       "      <td id=\"T_991af_row5_col0\" class=\"data row5 col0\" >103126.332010</td>\n",
       "      <td id=\"T_991af_row5_col1\" class=\"data row5 col1\" >11854.697690</td>\n",
       "      <td id=\"T_991af_row5_col2\" class=\"data row5 col2\" >11714.379920</td>\n",
       "      <td id=\"T_991af_row5_col3\" class=\"data row5 col3\" >11733.586554</td>\n",
       "      <td id=\"T_991af_row5_col4\" class=\"data row5 col4\" >11672.366439</td>\n",
       "      <td id=\"T_991af_row5_col5\" class=\"data row5 col5\" >8.750000</td>\n",
       "      <td id=\"T_991af_row5_col6\" class=\"data row5 col6\" >1.183647</td>\n",
       "      <td id=\"T_991af_row5_col7\" class=\"data row5 col7\" >1.021630</td>\n",
       "      <td id=\"T_991af_row5_col8\" class=\"data row5 col8\" >1.538051</td>\n",
       "      <td id=\"T_991af_row5_col9\" class=\"data row5 col9\" >4.693454</td>\n",
       "      <td id=\"T_991af_row5_col10\" class=\"data row5 col10\" >7.554806</td>\n",
       "      <td id=\"T_991af_row5_col11\" class=\"data row5 col11\" >6.529773</td>\n",
       "      <td id=\"T_991af_row5_col12\" class=\"data row5 col12\" >6.246750</td>\n",
       "      <td id=\"T_991af_row5_col13\" class=\"data row5 col13\" >31943.590000</td>\n",
       "      <td id=\"T_991af_row5_col14\" class=\"data row5 col14\" >43919.618000</td>\n",
       "      <td id=\"T_991af_row5_col15\" class=\"data row5 col15\" >43520.775000</td>\n",
       "      <td id=\"T_991af_row5_col16\" class=\"data row5 col16\" >43992.729000</td>\n",
       "      <td id=\"T_991af_row5_col17\" class=\"data row5 col17\" >13317.928710</td>\n",
       "      <td id=\"T_991af_row5_col18\" class=\"data row5 col18\" >12132.277296</td>\n",
       "      <td id=\"T_991af_row5_col19\" class=\"data row5 col19\" >12049.583470</td>\n",
       "      <td id=\"T_991af_row5_col20\" class=\"data row5 col20\" >12087.891706</td>\n",
       "      <td id=\"T_991af_row5_col21\" class=\"data row5 col21\" >12070.825533</td>\n",
       "      <td id=\"T_991af_row5_col22\" class=\"data row5 col22\" >8.750000</td>\n",
       "      <td id=\"T_991af_row5_col23\" class=\"data row5 col23\" >0.681602</td>\n",
       "      <td id=\"T_991af_row5_col24\" class=\"data row5 col24\" >0.365847</td>\n",
       "      <td id=\"T_991af_row5_col25\" class=\"data row5 col25\" >0.506515</td>\n",
       "      <td id=\"T_991af_row5_col26\" class=\"data row5 col26\" >0.656655</td>\n",
       "      <td id=\"T_991af_row5_col27\" class=\"data row5 col27\" >0.419033</td>\n",
       "      <td id=\"T_991af_row5_col28\" class=\"data row5 col28\" >0.316169</td>\n",
       "      <td id=\"T_991af_row5_col29\" class=\"data row5 col29\" >0.243315</td>\n",
       "      <td id=\"T_991af_row5_col30\" class=\"data row5 col30\" >4650.100000</td>\n",
       "      <td id=\"T_991af_row5_col31\" class=\"data row5 col31\" >2854.668000</td>\n",
       "      <td id=\"T_991af_row5_col32\" class=\"data row5 col32\" >2804.647000</td>\n",
       "      <td id=\"T_991af_row5_col33\" class=\"data row5 col33\" >2806.003000</td>\n",
       "    </tr>\n",
       "    <tr>\n",
       "      <th id=\"T_991af_level0_row6\" class=\"row_heading level0 row6\" >80.000000</th>\n",
       "      <td id=\"T_991af_row6_col0\" class=\"data row6 col0\" >119894.531692</td>\n",
       "      <td id=\"T_991af_row6_col1\" class=\"data row6 col1\" >13971.462635</td>\n",
       "      <td id=\"T_991af_row6_col2\" class=\"data row6 col2\" >13706.257037</td>\n",
       "      <td id=\"T_991af_row6_col3\" class=\"data row6 col3\" >13777.250880</td>\n",
       "      <td id=\"T_991af_row6_col4\" class=\"data row6 col4\" >13700.134437</td>\n",
       "      <td id=\"T_991af_row6_col5\" class=\"data row6 col5\" >10.000000</td>\n",
       "      <td id=\"T_991af_row6_col6\" class=\"data row6 col6\" >1.898195</td>\n",
       "      <td id=\"T_991af_row6_col7\" class=\"data row6 col7\" >1.390060</td>\n",
       "      <td id=\"T_991af_row6_col8\" class=\"data row6 col8\" >1.942017</td>\n",
       "      <td id=\"T_991af_row6_col9\" class=\"data row6 col9\" >7.079333</td>\n",
       "      <td id=\"T_991af_row6_col10\" class=\"data row6 col10\" >11.550261</td>\n",
       "      <td id=\"T_991af_row6_col11\" class=\"data row6 col11\" >10.075105</td>\n",
       "      <td id=\"T_991af_row6_col12\" class=\"data row6 col12\" >9.742800</td>\n",
       "      <td id=\"T_991af_row6_col13\" class=\"data row6 col13\" >42549.360000</td>\n",
       "      <td id=\"T_991af_row6_col14\" class=\"data row6 col14\" >58975.665000</td>\n",
       "      <td id=\"T_991af_row6_col15\" class=\"data row6 col15\" >58686.801000</td>\n",
       "      <td id=\"T_991af_row6_col16\" class=\"data row6 col16\" >59499.519000</td>\n",
       "      <td id=\"T_991af_row6_col17\" class=\"data row6 col17\" >15500.514933</td>\n",
       "      <td id=\"T_991af_row6_col18\" class=\"data row6 col18\" >14269.773568</td>\n",
       "      <td id=\"T_991af_row6_col19\" class=\"data row6 col19\" >14303.301587</td>\n",
       "      <td id=\"T_991af_row6_col20\" class=\"data row6 col20\" >14263.614633</td>\n",
       "      <td id=\"T_991af_row6_col21\" class=\"data row6 col21\" >14172.341756</td>\n",
       "      <td id=\"T_991af_row6_col22\" class=\"data row6 col22\" >10.000000</td>\n",
       "      <td id=\"T_991af_row6_col23\" class=\"data row6 col23\" >-0.234958</td>\n",
       "      <td id=\"T_991af_row6_col24\" class=\"data row6 col24\" >0.043161</td>\n",
       "      <td id=\"T_991af_row6_col25\" class=\"data row6 col25\" >0.682785</td>\n",
       "      <td id=\"T_991af_row6_col26\" class=\"data row6 col26\" >0.950076</td>\n",
       "      <td id=\"T_991af_row6_col27\" class=\"data row6 col27\" >0.590333</td>\n",
       "      <td id=\"T_991af_row6_col28\" class=\"data row6 col28\" >0.494384</td>\n",
       "      <td id=\"T_991af_row6_col29\" class=\"data row6 col29\" >0.383563</td>\n",
       "      <td id=\"T_991af_row6_col30\" class=\"data row6 col30\" >5638.080000</td>\n",
       "      <td id=\"T_991af_row6_col31\" class=\"data row6 col31\" >3392.673000</td>\n",
       "      <td id=\"T_991af_row6_col32\" class=\"data row6 col32\" >3462.039000</td>\n",
       "      <td id=\"T_991af_row6_col33\" class=\"data row6 col33\" >3589.834000</td>\n",
       "    </tr>\n",
       "    <tr>\n",
       "      <th id=\"T_991af_level0_row7\" class=\"row_heading level0 row7\" >90.000000</th>\n",
       "      <td id=\"T_991af_row7_col0\" class=\"data row7 col0\" >136394.914921</td>\n",
       "      <td id=\"T_991af_row7_col1\" class=\"data row7 col1\" >16093.828404</td>\n",
       "      <td id=\"T_991af_row7_col2\" class=\"data row7 col2\" >15752.408776</td>\n",
       "      <td id=\"T_991af_row7_col3\" class=\"data row7 col3\" >15792.184268</td>\n",
       "      <td id=\"T_991af_row7_col4\" class=\"data row7 col4\" >15773.675510</td>\n",
       "      <td id=\"T_991af_row7_col5\" class=\"data row7 col5\" >11.250000</td>\n",
       "      <td id=\"T_991af_row7_col6\" class=\"data row7 col6\" >2.121432</td>\n",
       "      <td id=\"T_991af_row7_col7\" class=\"data row7 col7\" >1.874285</td>\n",
       "      <td id=\"T_991af_row7_col8\" class=\"data row7 col8\" >1.989290</td>\n",
       "      <td id=\"T_991af_row7_col9\" class=\"data row7 col9\" >8.446033</td>\n",
       "      <td id=\"T_991af_row7_col10\" class=\"data row7 col10\" >13.759572</td>\n",
       "      <td id=\"T_991af_row7_col11\" class=\"data row7 col11\" >11.494274</td>\n",
       "      <td id=\"T_991af_row7_col12\" class=\"data row7 col12\" >10.208057</td>\n",
       "      <td id=\"T_991af_row7_col13\" class=\"data row7 col13\" >54483.030000</td>\n",
       "      <td id=\"T_991af_row7_col14\" class=\"data row7 col14\" >77737.758000</td>\n",
       "      <td id=\"T_991af_row7_col15\" class=\"data row7 col15\" >76705.495000</td>\n",
       "      <td id=\"T_991af_row7_col16\" class=\"data row7 col16\" >77107.859000</td>\n",
       "      <td id=\"T_991af_row7_col17\" class=\"data row7 col17\" >17625.710727</td>\n",
       "      <td id=\"T_991af_row7_col18\" class=\"data row7 col18\" >16386.609381</td>\n",
       "      <td id=\"T_991af_row7_col19\" class=\"data row7 col19\" >16356.147527</td>\n",
       "      <td id=\"T_991af_row7_col20\" class=\"data row7 col20\" >16341.412698</td>\n",
       "      <td id=\"T_991af_row7_col21\" class=\"data row7 col21\" >16388.711576</td>\n",
       "      <td id=\"T_991af_row7_col22\" class=\"data row7 col22\" >11.250000</td>\n",
       "      <td id=\"T_991af_row7_col23\" class=\"data row7 col23\" >0.185895</td>\n",
       "      <td id=\"T_991af_row7_col24\" class=\"data row7 col24\" >0.275815</td>\n",
       "      <td id=\"T_991af_row7_col25\" class=\"data row7 col25\" >-0.012829</td>\n",
       "      <td id=\"T_991af_row7_col26\" class=\"data row7 col26\" >0.968817</td>\n",
       "      <td id=\"T_991af_row7_col27\" class=\"data row7 col27\" >0.571444</td>\n",
       "      <td id=\"T_991af_row7_col28\" class=\"data row7 col28\" >0.431783</td>\n",
       "      <td id=\"T_991af_row7_col29\" class=\"data row7 col29\" >0.349768</td>\n",
       "      <td id=\"T_991af_row7_col30\" class=\"data row7 col30\" >6997.410000</td>\n",
       "      <td id=\"T_991af_row7_col31\" class=\"data row7 col31\" >4308.658000</td>\n",
       "      <td id=\"T_991af_row7_col32\" class=\"data row7 col32\" >4048.397000</td>\n",
       "      <td id=\"T_991af_row7_col33\" class=\"data row7 col33\" >4195.869000</td>\n",
       "    </tr>\n",
       "    <tr>\n",
       "      <th id=\"T_991af_level0_row8\" class=\"row_heading level0 row8\" >100.000000</th>\n",
       "      <td id=\"T_991af_row8_col0\" class=\"data row8 col0\" >153021.543620</td>\n",
       "      <td id=\"T_991af_row8_col1\" class=\"data row8 col1\" >18153.901214</td>\n",
       "      <td id=\"T_991af_row8_col2\" class=\"data row8 col2\" >17852.861213</td>\n",
       "      <td id=\"T_991af_row8_col3\" class=\"data row8 col3\" >17860.277297</td>\n",
       "      <td id=\"T_991af_row8_col4\" class=\"data row8 col4\" >17820.862253</td>\n",
       "      <td id=\"T_991af_row8_col5\" class=\"data row8 col5\" >12.500000</td>\n",
       "      <td id=\"T_991af_row8_col6\" class=\"data row8 col6\" >1.658266</td>\n",
       "      <td id=\"T_991af_row8_col7\" class=\"data row8 col7\" >1.617415</td>\n",
       "      <td id=\"T_991af_row8_col8\" class=\"data row8 col8\" >1.834531</td>\n",
       "      <td id=\"T_991af_row8_col9\" class=\"data row8 col9\" >10.008759</td>\n",
       "      <td id=\"T_991af_row8_col10\" class=\"data row8 col10\" >16.748792</td>\n",
       "      <td id=\"T_991af_row8_col11\" class=\"data row8 col11\" >14.405307</td>\n",
       "      <td id=\"T_991af_row8_col12\" class=\"data row8 col12\" >14.008306</td>\n",
       "      <td id=\"T_991af_row8_col13\" class=\"data row8 col13\" >68460.700000</td>\n",
       "      <td id=\"T_991af_row8_col14\" class=\"data row8 col14\" >98115.907000</td>\n",
       "      <td id=\"T_991af_row8_col15\" class=\"data row8 col15\" >97397.636000</td>\n",
       "      <td id=\"T_991af_row8_col16\" class=\"data row8 col16\" >98512.245000</td>\n",
       "      <td id=\"T_991af_row8_col17\" class=\"data row8 col17\" >19703.443578</td>\n",
       "      <td id=\"T_991af_row8_col18\" class=\"data row8 col18\" >18550.450425</td>\n",
       "      <td id=\"T_991af_row8_col19\" class=\"data row8 col19\" >18498.719093</td>\n",
       "      <td id=\"T_991af_row8_col20\" class=\"data row8 col20\" >18564.769157</td>\n",
       "      <td id=\"T_991af_row8_col21\" class=\"data row8 col21\" >18552.648371</td>\n",
       "      <td id=\"T_991af_row8_col22\" class=\"data row8 col22\" >12.500000</td>\n",
       "      <td id=\"T_991af_row8_col23\" class=\"data row8 col23\" >0.278868</td>\n",
       "      <td id=\"T_991af_row8_col24\" class=\"data row8 col24\" >-0.077188</td>\n",
       "      <td id=\"T_991af_row8_col25\" class=\"data row8 col25\" >-0.011848</td>\n",
       "      <td id=\"T_991af_row8_col26\" class=\"data row8 col26\" >1.123867</td>\n",
       "      <td id=\"T_991af_row8_col27\" class=\"data row8 col27\" >0.671937</td>\n",
       "      <td id=\"T_991af_row8_col28\" class=\"data row8 col28\" >0.592175</td>\n",
       "      <td id=\"T_991af_row8_col29\" class=\"data row8 col29\" >0.593299</td>\n",
       "      <td id=\"T_991af_row8_col30\" class=\"data row8 col30\" >7608.300000</td>\n",
       "      <td id=\"T_991af_row8_col31\" class=\"data row8 col31\" >4586.315000</td>\n",
       "      <td id=\"T_991af_row8_col32\" class=\"data row8 col32\" >4734.811000</td>\n",
       "      <td id=\"T_991af_row8_col33\" class=\"data row8 col33\" >4858.826000</td>\n",
       "    </tr>\n",
       "  </tbody>\n",
       "</table>\n"
      ],
      "text/plain": [
       "<pandas.io.formats.style.Styler at 0x22273b75e50>"
      ]
     },
     "metadata": {},
     "output_type": "display_data"
    },
    {
     "name": "stdout",
     "output_type": "stream",
     "text": [
      "None\n",
      "Pour le nombre de clusters :  16\n"
     ]
    },
    {
     "data": {
      "text/html": [
       "<style type=\"text/css\">\n",
       "#T_4b97d_row0_col6 {\n",
       "  background-color: #960b13;\n",
       "  color: #f1f1f1;\n",
       "}\n",
       "#T_4b97d_row0_col7, #T_4b97d_row0_col23 {\n",
       "  background-color: #67000d;\n",
       "  color: #f1f1f1;\n",
       "}\n",
       "#T_4b97d_row0_col8 {\n",
       "  background-color: #73030f;\n",
       "  color: #f1f1f1;\n",
       "}\n",
       "#T_4b97d_row0_col24 {\n",
       "  background-color: #7a0510;\n",
       "  color: #f1f1f1;\n",
       "}\n",
       "#T_4b97d_row0_col25 {\n",
       "  background-color: #860811;\n",
       "  color: #f1f1f1;\n",
       "}\n",
       "#T_4b97d_row1_col6 {\n",
       "  background-color: #fc997a;\n",
       "  color: #000000;\n",
       "}\n",
       "#T_4b97d_row1_col7 {\n",
       "  background-color: #fc8d6d;\n",
       "  color: #f1f1f1;\n",
       "}\n",
       "#T_4b97d_row1_col8 {\n",
       "  background-color: #fca486;\n",
       "  color: #000000;\n",
       "}\n",
       "#T_4b97d_row1_col23 {\n",
       "  background-color: #fee0d2;\n",
       "  color: #000000;\n",
       "}\n",
       "#T_4b97d_row1_col24, #T_4b97d_row1_col25, #T_4b97d_row3_col7 {\n",
       "  background-color: #fee4d8;\n",
       "  color: #000000;\n",
       "}\n",
       "#T_4b97d_row2_col6, #T_4b97d_row2_col8 {\n",
       "  background-color: #fdc6b0;\n",
       "  color: #000000;\n",
       "}\n",
       "#T_4b97d_row2_col7 {\n",
       "  background-color: #fdd4c2;\n",
       "  color: #000000;\n",
       "}\n",
       "#T_4b97d_row2_col23, #T_4b97d_row4_col8 {\n",
       "  background-color: #fff0e8;\n",
       "  color: #000000;\n",
       "}\n",
       "#T_4b97d_row2_col24 {\n",
       "  background-color: #ffede5;\n",
       "  color: #000000;\n",
       "}\n",
       "#T_4b97d_row2_col25 {\n",
       "  background-color: #ffece3;\n",
       "  color: #000000;\n",
       "}\n",
       "#T_4b97d_row3_col6, #T_4b97d_row4_col7 {\n",
       "  background-color: #feeae1;\n",
       "  color: #000000;\n",
       "}\n",
       "#T_4b97d_row3_col8 {\n",
       "  background-color: #ffeee7;\n",
       "  color: #000000;\n",
       "}\n",
       "#T_4b97d_row3_col23 {\n",
       "  background-color: #fff4ee;\n",
       "  color: #000000;\n",
       "}\n",
       "#T_4b97d_row3_col24, #T_4b97d_row5_col25 {\n",
       "  background-color: #fff5f0;\n",
       "  color: #000000;\n",
       "}\n",
       "#T_4b97d_row3_col25, #T_4b97d_row4_col6 {\n",
       "  background-color: #fff2ec;\n",
       "  color: #000000;\n",
       "}\n",
       "#T_4b97d_row4_col23, #T_4b97d_row5_col7, #T_4b97d_row5_col8, #T_4b97d_row6_col8, #T_4b97d_row6_col24 {\n",
       "  background-color: #f4fbf1;\n",
       "  color: #000000;\n",
       "}\n",
       "#T_4b97d_row4_col24, #T_4b97d_row4_col25, #T_4b97d_row5_col6, #T_4b97d_row5_col23, #T_4b97d_row6_col23, #T_4b97d_row6_col25 {\n",
       "  background-color: #f5fbf2;\n",
       "  color: #000000;\n",
       "}\n",
       "#T_4b97d_row5_col24 {\n",
       "  background-color: #f7fcf5;\n",
       "  color: #000000;\n",
       "}\n",
       "#T_4b97d_row6_col6, #T_4b97d_row7_col23 {\n",
       "  background-color: #f6fcf4;\n",
       "  color: #000000;\n",
       "}\n",
       "#T_4b97d_row6_col7, #T_4b97d_row7_col24, #T_4b97d_row7_col25 {\n",
       "  background-color: #f2faf0;\n",
       "  color: #000000;\n",
       "}\n",
       "#T_4b97d_row7_col6, #T_4b97d_row7_col7, #T_4b97d_row7_col8, #T_4b97d_row8_col7, #T_4b97d_row8_col8 {\n",
       "  background-color: #f0f9ed;\n",
       "  color: #000000;\n",
       "}\n",
       "#T_4b97d_row8_col6 {\n",
       "  background-color: #edf8e9;\n",
       "  color: #000000;\n",
       "}\n",
       "#T_4b97d_row8_col23, #T_4b97d_row8_col24, #T_4b97d_row8_col25 {\n",
       "  background-color: #000000;\n",
       "  color: #f1f1f1;\n",
       "}\n",
       "</style>\n",
       "<table id=\"T_4b97d\">\n",
       "  <thead>\n",
       "    <tr>\n",
       "      <th class=\"blank level0\" >&nbsp;</th>\n",
       "      <th id=\"T_4b97d_level0_col0\" class=\"col_heading level0 col0\" colspan=\"17\">random</th>\n",
       "      <th id=\"T_4b97d_level0_col17\" class=\"col_heading level0 col17\" colspan=\"17\">kmean+</th>\n",
       "    </tr>\n",
       "    <tr>\n",
       "      <th class=\"blank level1\" >&nbsp;</th>\n",
       "      <th id=\"T_4b97d_level1_col0\" class=\"col_heading level1 col0\" colspan=\"5\">Coût final</th>\n",
       "      <th id=\"T_4b97d_level1_col5\" class=\"col_heading level1 col5\" colspan=\"4\">% amélioration</th>\n",
       "      <th id=\"T_4b97d_level1_col9\" class=\"col_heading level1 col9\" colspan=\"4\">Temps d'exécution (s)</th>\n",
       "      <th id=\"T_4b97d_level1_col13\" class=\"col_heading level1 col13\" colspan=\"4\">Nombre d'itérations</th>\n",
       "      <th id=\"T_4b97d_level1_col17\" class=\"col_heading level1 col17\" colspan=\"5\">Coût final</th>\n",
       "      <th id=\"T_4b97d_level1_col22\" class=\"col_heading level1 col22\" colspan=\"4\">% amélioration</th>\n",
       "      <th id=\"T_4b97d_level1_col26\" class=\"col_heading level1 col26\" colspan=\"4\">Temps d'exécution (s)</th>\n",
       "      <th id=\"T_4b97d_level1_col30\" class=\"col_heading level1 col30\" colspan=\"4\">Nombre d'itérations</th>\n",
       "    </tr>\n",
       "    <tr>\n",
       "      <th class=\"blank level2\" >&nbsp;</th>\n",
       "      <th id=\"T_4b97d_level2_col0\" class=\"col_heading level2 col0\" colspan=\"2\">BI_BACK</th>\n",
       "      <th id=\"T_4b97d_level2_col2\" class=\"col_heading level2 col2\" >FI_CURR</th>\n",
       "      <th id=\"T_4b97d_level2_col3\" class=\"col_heading level2 col3\" >FI_BACK</th>\n",
       "      <th id=\"T_4b97d_level2_col4\" class=\"col_heading level2 col4\" >FI_RANDOM</th>\n",
       "      <th id=\"T_4b97d_level2_col5\" class=\"col_heading level2 col5\" >points/centroid</th>\n",
       "      <th id=\"T_4b97d_level2_col6\" class=\"col_heading level2 col6\" >FI_CURR</th>\n",
       "      <th id=\"T_4b97d_level2_col7\" class=\"col_heading level2 col7\" >FI_BACK</th>\n",
       "      <th id=\"T_4b97d_level2_col8\" class=\"col_heading level2 col8\" >FI_RANDOM</th>\n",
       "      <th id=\"T_4b97d_level2_col9\" class=\"col_heading level2 col9\" >BI_BACK</th>\n",
       "      <th id=\"T_4b97d_level2_col10\" class=\"col_heading level2 col10\" >FI_CURR</th>\n",
       "      <th id=\"T_4b97d_level2_col11\" class=\"col_heading level2 col11\" >FI_BACK</th>\n",
       "      <th id=\"T_4b97d_level2_col12\" class=\"col_heading level2 col12\" >FI_RANDOM</th>\n",
       "      <th id=\"T_4b97d_level2_col13\" class=\"col_heading level2 col13\" >BI_BACK</th>\n",
       "      <th id=\"T_4b97d_level2_col14\" class=\"col_heading level2 col14\" >FI_CURR</th>\n",
       "      <th id=\"T_4b97d_level2_col15\" class=\"col_heading level2 col15\" >FI_BACK</th>\n",
       "      <th id=\"T_4b97d_level2_col16\" class=\"col_heading level2 col16\" >FI_RANDOM</th>\n",
       "      <th id=\"T_4b97d_level2_col17\" class=\"col_heading level2 col17\" colspan=\"2\">BI_BACK</th>\n",
       "      <th id=\"T_4b97d_level2_col19\" class=\"col_heading level2 col19\" >FI_CURR</th>\n",
       "      <th id=\"T_4b97d_level2_col20\" class=\"col_heading level2 col20\" >FI_BACK</th>\n",
       "      <th id=\"T_4b97d_level2_col21\" class=\"col_heading level2 col21\" >FI_RANDOM</th>\n",
       "      <th id=\"T_4b97d_level2_col22\" class=\"col_heading level2 col22\" >points/centroid</th>\n",
       "      <th id=\"T_4b97d_level2_col23\" class=\"col_heading level2 col23\" >FI_CURR</th>\n",
       "      <th id=\"T_4b97d_level2_col24\" class=\"col_heading level2 col24\" >FI_BACK</th>\n",
       "      <th id=\"T_4b97d_level2_col25\" class=\"col_heading level2 col25\" >FI_RANDOM</th>\n",
       "      <th id=\"T_4b97d_level2_col26\" class=\"col_heading level2 col26\" >BI_BACK</th>\n",
       "      <th id=\"T_4b97d_level2_col27\" class=\"col_heading level2 col27\" >FI_CURR</th>\n",
       "      <th id=\"T_4b97d_level2_col28\" class=\"col_heading level2 col28\" >FI_BACK</th>\n",
       "      <th id=\"T_4b97d_level2_col29\" class=\"col_heading level2 col29\" >FI_RANDOM</th>\n",
       "      <th id=\"T_4b97d_level2_col30\" class=\"col_heading level2 col30\" >BI_BACK</th>\n",
       "      <th id=\"T_4b97d_level2_col31\" class=\"col_heading level2 col31\" >FI_CURR</th>\n",
       "      <th id=\"T_4b97d_level2_col32\" class=\"col_heading level2 col32\" >FI_BACK</th>\n",
       "      <th id=\"T_4b97d_level2_col33\" class=\"col_heading level2 col33\" >FI_RANDOM</th>\n",
       "    </tr>\n",
       "    <tr>\n",
       "      <th class=\"blank level3\" >&nbsp;</th>\n",
       "      <th id=\"T_4b97d_level3_col0\" class=\"col_heading level3 col0\" >init_cost</th>\n",
       "      <th id=\"T_4b97d_level3_col1\" class=\"col_heading level3 col1\" >end_cost</th>\n",
       "      <th id=\"T_4b97d_level3_col2\" class=\"col_heading level3 col2\" >end_cost</th>\n",
       "      <th id=\"T_4b97d_level3_col3\" class=\"col_heading level3 col3\" >end_cost</th>\n",
       "      <th id=\"T_4b97d_level3_col4\" class=\"col_heading level3 col4\" >end_cost</th>\n",
       "      <th id=\"T_4b97d_level3_col5\" class=\"col_heading level3 col5\" ></th>\n",
       "      <th id=\"T_4b97d_level3_col6\" class=\"col_heading level3 col6\" >end_cost</th>\n",
       "      <th id=\"T_4b97d_level3_col7\" class=\"col_heading level3 col7\" >end_cost</th>\n",
       "      <th id=\"T_4b97d_level3_col8\" class=\"col_heading level3 col8\" >end_cost</th>\n",
       "      <th id=\"T_4b97d_level3_col9\" class=\"col_heading level3 col9\" >time</th>\n",
       "      <th id=\"T_4b97d_level3_col10\" class=\"col_heading level3 col10\" >time</th>\n",
       "      <th id=\"T_4b97d_level3_col11\" class=\"col_heading level3 col11\" >time</th>\n",
       "      <th id=\"T_4b97d_level3_col12\" class=\"col_heading level3 col12\" >time</th>\n",
       "      <th id=\"T_4b97d_level3_col13\" class=\"col_heading level3 col13\" >num_iter_tot</th>\n",
       "      <th id=\"T_4b97d_level3_col14\" class=\"col_heading level3 col14\" >num_iter_tot</th>\n",
       "      <th id=\"T_4b97d_level3_col15\" class=\"col_heading level3 col15\" >num_iter_tot</th>\n",
       "      <th id=\"T_4b97d_level3_col16\" class=\"col_heading level3 col16\" >num_iter_tot</th>\n",
       "      <th id=\"T_4b97d_level3_col17\" class=\"col_heading level3 col17\" >init_cost</th>\n",
       "      <th id=\"T_4b97d_level3_col18\" class=\"col_heading level3 col18\" >end_cost</th>\n",
       "      <th id=\"T_4b97d_level3_col19\" class=\"col_heading level3 col19\" >end_cost</th>\n",
       "      <th id=\"T_4b97d_level3_col20\" class=\"col_heading level3 col20\" >end_cost</th>\n",
       "      <th id=\"T_4b97d_level3_col21\" class=\"col_heading level3 col21\" >end_cost</th>\n",
       "      <th id=\"T_4b97d_level3_col22\" class=\"col_heading level3 col22\" ></th>\n",
       "      <th id=\"T_4b97d_level3_col23\" class=\"col_heading level3 col23\" >end_cost</th>\n",
       "      <th id=\"T_4b97d_level3_col24\" class=\"col_heading level3 col24\" >end_cost</th>\n",
       "      <th id=\"T_4b97d_level3_col25\" class=\"col_heading level3 col25\" >end_cost</th>\n",
       "      <th id=\"T_4b97d_level3_col26\" class=\"col_heading level3 col26\" >time</th>\n",
       "      <th id=\"T_4b97d_level3_col27\" class=\"col_heading level3 col27\" >time</th>\n",
       "      <th id=\"T_4b97d_level3_col28\" class=\"col_heading level3 col28\" >time</th>\n",
       "      <th id=\"T_4b97d_level3_col29\" class=\"col_heading level3 col29\" >time</th>\n",
       "      <th id=\"T_4b97d_level3_col30\" class=\"col_heading level3 col30\" >num_iter_tot</th>\n",
       "      <th id=\"T_4b97d_level3_col31\" class=\"col_heading level3 col31\" >num_iter_tot</th>\n",
       "      <th id=\"T_4b97d_level3_col32\" class=\"col_heading level3 col32\" >num_iter_tot</th>\n",
       "      <th id=\"T_4b97d_level3_col33\" class=\"col_heading level3 col33\" >num_iter_tot</th>\n",
       "    </tr>\n",
       "    <tr>\n",
       "      <th class=\"index_name level0\" >Nb. points</th>\n",
       "      <th class=\"blank col0\" >&nbsp;</th>\n",
       "      <th class=\"blank col1\" >&nbsp;</th>\n",
       "      <th class=\"blank col2\" >&nbsp;</th>\n",
       "      <th class=\"blank col3\" >&nbsp;</th>\n",
       "      <th class=\"blank col4\" >&nbsp;</th>\n",
       "      <th class=\"blank col5\" >&nbsp;</th>\n",
       "      <th class=\"blank col6\" >&nbsp;</th>\n",
       "      <th class=\"blank col7\" >&nbsp;</th>\n",
       "      <th class=\"blank col8\" >&nbsp;</th>\n",
       "      <th class=\"blank col9\" >&nbsp;</th>\n",
       "      <th class=\"blank col10\" >&nbsp;</th>\n",
       "      <th class=\"blank col11\" >&nbsp;</th>\n",
       "      <th class=\"blank col12\" >&nbsp;</th>\n",
       "      <th class=\"blank col13\" >&nbsp;</th>\n",
       "      <th class=\"blank col14\" >&nbsp;</th>\n",
       "      <th class=\"blank col15\" >&nbsp;</th>\n",
       "      <th class=\"blank col16\" >&nbsp;</th>\n",
       "      <th class=\"blank col17\" >&nbsp;</th>\n",
       "      <th class=\"blank col18\" >&nbsp;</th>\n",
       "      <th class=\"blank col19\" >&nbsp;</th>\n",
       "      <th class=\"blank col20\" >&nbsp;</th>\n",
       "      <th class=\"blank col21\" >&nbsp;</th>\n",
       "      <th class=\"blank col22\" >&nbsp;</th>\n",
       "      <th class=\"blank col23\" >&nbsp;</th>\n",
       "      <th class=\"blank col24\" >&nbsp;</th>\n",
       "      <th class=\"blank col25\" >&nbsp;</th>\n",
       "      <th class=\"blank col26\" >&nbsp;</th>\n",
       "      <th class=\"blank col27\" >&nbsp;</th>\n",
       "      <th class=\"blank col28\" >&nbsp;</th>\n",
       "      <th class=\"blank col29\" >&nbsp;</th>\n",
       "      <th class=\"blank col30\" >&nbsp;</th>\n",
       "      <th class=\"blank col31\" >&nbsp;</th>\n",
       "      <th class=\"blank col32\" >&nbsp;</th>\n",
       "      <th class=\"blank col33\" >&nbsp;</th>\n",
       "    </tr>\n",
       "  </thead>\n",
       "  <tbody>\n",
       "    <tr>\n",
       "      <th id=\"T_4b97d_level0_row0\" class=\"row_heading level0 row0\" >20.000000</th>\n",
       "      <td id=\"T_4b97d_row0_col0\" class=\"data row0 col0\" >13812.063088</td>\n",
       "      <td id=\"T_4b97d_row0_col1\" class=\"data row0 col1\" >191.750591</td>\n",
       "      <td id=\"T_4b97d_row0_col2\" class=\"data row0 col2\" >240.268516</td>\n",
       "      <td id=\"T_4b97d_row0_col3\" class=\"data row0 col3\" >245.650979</td>\n",
       "      <td id=\"T_4b97d_row0_col4\" class=\"data row0 col4\" >244.261038</td>\n",
       "      <td id=\"T_4b97d_row0_col5\" class=\"data row0 col5\" >1.250000</td>\n",
       "      <td id=\"T_4b97d_row0_col6\" class=\"data row0 col6\" >-25.302621</td>\n",
       "      <td id=\"T_4b97d_row0_col7\" class=\"data row0 col7\" >-28.109633</td>\n",
       "      <td id=\"T_4b97d_row0_col8\" class=\"data row0 col8\" >-27.384764</td>\n",
       "      <td id=\"T_4b97d_row0_col9\" class=\"data row0 col9\" >0.356818</td>\n",
       "      <td id=\"T_4b97d_row0_col10\" class=\"data row0 col10\" >0.310957</td>\n",
       "      <td id=\"T_4b97d_row0_col11\" class=\"data row0 col11\" >0.289489</td>\n",
       "      <td id=\"T_4b97d_row0_col12\" class=\"data row0 col12\" >0.215756</td>\n",
       "      <td id=\"T_4b97d_row0_col13\" class=\"data row0 col13\" >2940.600000</td>\n",
       "      <td id=\"T_4b97d_row0_col14\" class=\"data row0 col14\" >2283.825000</td>\n",
       "      <td id=\"T_4b97d_row0_col15\" class=\"data row0 col15\" >2528.050000</td>\n",
       "      <td id=\"T_4b97d_row0_col16\" class=\"data row0 col16\" >2301.846000</td>\n",
       "      <td id=\"T_4b97d_row0_col17\" class=\"data row0 col17\" >742.703927</td>\n",
       "      <td id=\"T_4b97d_row0_col18\" class=\"data row0 col18\" >158.966288</td>\n",
       "      <td id=\"T_4b97d_row0_col19\" class=\"data row0 col19\" >231.309420</td>\n",
       "      <td id=\"T_4b97d_row0_col20\" class=\"data row0 col20\" >228.087654</td>\n",
       "      <td id=\"T_4b97d_row0_col21\" class=\"data row0 col21\" >226.642049</td>\n",
       "      <td id=\"T_4b97d_row0_col22\" class=\"data row0 col22\" >1.250000</td>\n",
       "      <td id=\"T_4b97d_row0_col23\" class=\"data row0 col23\" >-45.508474</td>\n",
       "      <td id=\"T_4b97d_row0_col24\" class=\"data row0 col24\" >-43.481777</td>\n",
       "      <td id=\"T_4b97d_row0_col25\" class=\"data row0 col25\" >-42.572398</td>\n",
       "      <td id=\"T_4b97d_row0_col26\" class=\"data row0 col26\" >0.083307</td>\n",
       "      <td id=\"T_4b97d_row0_col27\" class=\"data row0 col27\" >0.049590</td>\n",
       "      <td id=\"T_4b97d_row0_col28\" class=\"data row0 col28\" >0.039858</td>\n",
       "      <td id=\"T_4b97d_row0_col29\" class=\"data row0 col29\" >0.048423</td>\n",
       "      <td id=\"T_4b97d_row0_col30\" class=\"data row0 col30\" >1245.600000</td>\n",
       "      <td id=\"T_4b97d_row0_col31\" class=\"data row0 col31\" >815.205000</td>\n",
       "      <td id=\"T_4b97d_row0_col32\" class=\"data row0 col32\" >787.135000</td>\n",
       "      <td id=\"T_4b97d_row0_col33\" class=\"data row0 col33\" >813.843000</td>\n",
       "    </tr>\n",
       "    <tr>\n",
       "      <th id=\"T_4b97d_level0_row1\" class=\"row_heading level0 row1\" >30.000000</th>\n",
       "      <td id=\"T_4b97d_row1_col0\" class=\"data row1 col0\" >27028.361179</td>\n",
       "      <td id=\"T_4b97d_row1_col1\" class=\"data row1 col1\" >883.609451</td>\n",
       "      <td id=\"T_4b97d_row1_col2\" class=\"data row1 col2\" >971.167221</td>\n",
       "      <td id=\"T_4b97d_row1_col3\" class=\"data row1 col3\" >981.414027</td>\n",
       "      <td id=\"T_4b97d_row1_col4\" class=\"data row1 col4\" >964.089852</td>\n",
       "      <td id=\"T_4b97d_row1_col5\" class=\"data row1 col5\" >1.875000</td>\n",
       "      <td id=\"T_4b97d_row1_col6\" class=\"data row1 col6\" >-9.909103</td>\n",
       "      <td id=\"T_4b97d_row1_col7\" class=\"data row1 col7\" >-11.068756</td>\n",
       "      <td id=\"T_4b97d_row1_col8\" class=\"data row1 col8\" >-9.108142</td>\n",
       "      <td id=\"T_4b97d_row1_col9\" class=\"data row1 col9\" >1.274285</td>\n",
       "      <td id=\"T_4b97d_row1_col10\" class=\"data row1 col10\" >1.550850</td>\n",
       "      <td id=\"T_4b97d_row1_col11\" class=\"data row1 col11\" >1.435976</td>\n",
       "      <td id=\"T_4b97d_row1_col12\" class=\"data row1 col12\" >1.302532</td>\n",
       "      <td id=\"T_4b97d_row1_col13\" class=\"data row1 col13\" >9097.200000</td>\n",
       "      <td id=\"T_4b97d_row1_col14\" class=\"data row1 col14\" >9377.774000</td>\n",
       "      <td id=\"T_4b97d_row1_col15\" class=\"data row1 col15\" >9841.065000</td>\n",
       "      <td id=\"T_4b97d_row1_col16\" class=\"data row1 col16\" >9535.967000</td>\n",
       "      <td id=\"T_4b97d_row1_col17\" class=\"data row1 col17\" >1685.916586</td>\n",
       "      <td id=\"T_4b97d_row1_col18\" class=\"data row1 col18\" >927.728162</td>\n",
       "      <td id=\"T_4b97d_row1_col19\" class=\"data row1 col19\" >982.136225</td>\n",
       "      <td id=\"T_4b97d_row1_col20\" class=\"data row1 col20\" >971.973960</td>\n",
       "      <td id=\"T_4b97d_row1_col21\" class=\"data row1 col21\" >973.700782</td>\n",
       "      <td id=\"T_4b97d_row1_col22\" class=\"data row1 col22\" >1.875000</td>\n",
       "      <td id=\"T_4b97d_row1_col23\" class=\"data row1 col23\" >-5.864656</td>\n",
       "      <td id=\"T_4b97d_row1_col24\" class=\"data row1 col24\" >-4.769263</td>\n",
       "      <td id=\"T_4b97d_row1_col25\" class=\"data row1 col25\" >-4.955398</td>\n",
       "      <td id=\"T_4b97d_row1_col26\" class=\"data row1 col26\" >0.369393</td>\n",
       "      <td id=\"T_4b97d_row1_col27\" class=\"data row1 col27\" >0.167075</td>\n",
       "      <td id=\"T_4b97d_row1_col28\" class=\"data row1 col28\" >0.124618</td>\n",
       "      <td id=\"T_4b97d_row1_col29\" class=\"data row1 col29\" >0.147384</td>\n",
       "      <td id=\"T_4b97d_row1_col30\" class=\"data row1 col30\" >2929.950000</td>\n",
       "      <td id=\"T_4b97d_row1_col31\" class=\"data row1 col31\" >1947.159000</td>\n",
       "      <td id=\"T_4b97d_row1_col32\" class=\"data row1 col32\" >1931.508000</td>\n",
       "      <td id=\"T_4b97d_row1_col33\" class=\"data row1 col33\" >1907.097000</td>\n",
       "    </tr>\n",
       "    <tr>\n",
       "      <th id=\"T_4b97d_level0_row2\" class=\"row_heading level0 row2\" >40.000000</th>\n",
       "      <td id=\"T_4b97d_row2_col0\" class=\"data row2 col0\" >42083.631002</td>\n",
       "      <td id=\"T_4b97d_row2_col1\" class=\"data row2 col1\" >1687.343954</td>\n",
       "      <td id=\"T_4b97d_row2_col2\" class=\"data row2 col2\" >1790.444045</td>\n",
       "      <td id=\"T_4b97d_row2_col3\" class=\"data row2 col3\" >1768.136478</td>\n",
       "      <td id=\"T_4b97d_row2_col4\" class=\"data row2 col4\" >1790.310694</td>\n",
       "      <td id=\"T_4b97d_row2_col5\" class=\"data row2 col5\" >2.500000</td>\n",
       "      <td id=\"T_4b97d_row2_col6\" class=\"data row2 col6\" >-6.110200</td>\n",
       "      <td id=\"T_4b97d_row2_col7\" class=\"data row2 col7\" >-4.788148</td>\n",
       "      <td id=\"T_4b97d_row2_col8\" class=\"data row2 col8\" >-6.102297</td>\n",
       "      <td id=\"T_4b97d_row2_col9\" class=\"data row2 col9\" >2.912354</td>\n",
       "      <td id=\"T_4b97d_row2_col10\" class=\"data row2 col10\" >3.984968</td>\n",
       "      <td id=\"T_4b97d_row2_col11\" class=\"data row2 col11\" >3.495027</td>\n",
       "      <td id=\"T_4b97d_row2_col12\" class=\"data row2 col12\" >3.504284</td>\n",
       "      <td id=\"T_4b97d_row2_col13\" class=\"data row2 col13\" >19051.800000</td>\n",
       "      <td id=\"T_4b97d_row2_col14\" class=\"data row2 col14\" >22930.188000</td>\n",
       "      <td id=\"T_4b97d_row2_col15\" class=\"data row2 col15\" >23367.596000</td>\n",
       "      <td id=\"T_4b97d_row2_col16\" class=\"data row2 col16\" >23143.240000</td>\n",
       "      <td id=\"T_4b97d_row2_col17\" class=\"data row2 col17\" >2728.806870</td>\n",
       "      <td id=\"T_4b97d_row2_col18\" class=\"data row2 col18\" >1790.165833</td>\n",
       "      <td id=\"T_4b97d_row2_col19\" class=\"data row2 col19\" >1817.071529</td>\n",
       "      <td id=\"T_4b97d_row2_col20\" class=\"data row2 col20\" >1831.984481</td>\n",
       "      <td id=\"T_4b97d_row2_col21\" class=\"data row2 col21\" >1835.654645</td>\n",
       "      <td id=\"T_4b97d_row2_col22\" class=\"data row2 col22\" >2.500000</td>\n",
       "      <td id=\"T_4b97d_row2_col23\" class=\"data row2 col23\" >-1.502972</td>\n",
       "      <td id=\"T_4b97d_row2_col24\" class=\"data row2 col24\" >-2.336021</td>\n",
       "      <td id=\"T_4b97d_row2_col25\" class=\"data row2 col25\" >-2.541039</td>\n",
       "      <td id=\"T_4b97d_row2_col26\" class=\"data row2 col26\" >0.829678</td>\n",
       "      <td id=\"T_4b97d_row2_col27\" class=\"data row2 col27\" >0.525349</td>\n",
       "      <td id=\"T_4b97d_row2_col28\" class=\"data row2 col28\" >0.285067</td>\n",
       "      <td id=\"T_4b97d_row2_col29\" class=\"data row2 col29\" >0.337372</td>\n",
       "      <td id=\"T_4b97d_row2_col30\" class=\"data row2 col30\" >5531.400000</td>\n",
       "      <td id=\"T_4b97d_row2_col31\" class=\"data row2 col31\" >3492.194000</td>\n",
       "      <td id=\"T_4b97d_row2_col32\" class=\"data row2 col32\" >3510.858000</td>\n",
       "      <td id=\"T_4b97d_row2_col33\" class=\"data row2 col33\" >3515.171000</td>\n",
       "    </tr>\n",
       "    <tr>\n",
       "      <th id=\"T_4b97d_level0_row3\" class=\"row_heading level0 row3\" >50.000000</th>\n",
       "      <td id=\"T_4b97d_row3_col0\" class=\"data row3 col0\" >57677.620448</td>\n",
       "      <td id=\"T_4b97d_row3_col1\" class=\"data row3 col1\" >2608.048226</td>\n",
       "      <td id=\"T_4b97d_row3_col2\" class=\"data row3 col2\" >2654.848400</td>\n",
       "      <td id=\"T_4b97d_row3_col3\" class=\"data row3 col3\" >2683.187261</td>\n",
       "      <td id=\"T_4b97d_row3_col4\" class=\"data row3 col4\" >2638.334497</td>\n",
       "      <td id=\"T_4b97d_row3_col5\" class=\"data row3 col5\" >3.125000</td>\n",
       "      <td id=\"T_4b97d_row3_col6\" class=\"data row3 col6\" >-1.794452</td>\n",
       "      <td id=\"T_4b97d_row3_col7\" class=\"data row3 col7\" >-2.881045</td>\n",
       "      <td id=\"T_4b97d_row3_col8\" class=\"data row3 col8\" >-1.161262</td>\n",
       "      <td id=\"T_4b97d_row3_col9\" class=\"data row3 col9\" >5.083628</td>\n",
       "      <td id=\"T_4b97d_row3_col10\" class=\"data row3 col10\" >7.629708</td>\n",
       "      <td id=\"T_4b97d_row3_col11\" class=\"data row3 col11\" >6.492129</td>\n",
       "      <td id=\"T_4b97d_row3_col12\" class=\"data row3 col12\" >6.361788</td>\n",
       "      <td id=\"T_4b97d_row3_col13\" class=\"data row3 col13\" >32466.000000</td>\n",
       "      <td id=\"T_4b97d_row3_col14\" class=\"data row3 col14\" >44162.255000</td>\n",
       "      <td id=\"T_4b97d_row3_col15\" class=\"data row3 col15\" >44600.868000</td>\n",
       "      <td id=\"T_4b97d_row3_col16\" class=\"data row3 col16\" >44682.918000</td>\n",
       "      <td id=\"T_4b97d_row3_col17\" class=\"data row3 col17\" >3894.192959</td>\n",
       "      <td id=\"T_4b97d_row3_col18\" class=\"data row3 col18\" >2716.549079</td>\n",
       "      <td id=\"T_4b97d_row3_col19\" class=\"data row3 col19\" >2729.792889</td>\n",
       "      <td id=\"T_4b97d_row3_col20\" class=\"data row3 col20\" >2720.615214</td>\n",
       "      <td id=\"T_4b97d_row3_col21\" class=\"data row3 col21\" >2744.764469</td>\n",
       "      <td id=\"T_4b97d_row3_col22\" class=\"data row3 col22\" >3.125000</td>\n",
       "      <td id=\"T_4b97d_row3_col23\" class=\"data row3 col23\" >-0.487523</td>\n",
       "      <td id=\"T_4b97d_row3_col24\" class=\"data row3 col24\" >-0.149680</td>\n",
       "      <td id=\"T_4b97d_row3_col25\" class=\"data row3 col25\" >-1.038648</td>\n",
       "      <td id=\"T_4b97d_row3_col26\" class=\"data row3 col26\" >1.254240</td>\n",
       "      <td id=\"T_4b97d_row3_col27\" class=\"data row3 col27\" >0.854021</td>\n",
       "      <td id=\"T_4b97d_row3_col28\" class=\"data row3 col28\" >0.541479</td>\n",
       "      <td id=\"T_4b97d_row3_col29\" class=\"data row3 col29\" >0.526147</td>\n",
       "      <td id=\"T_4b97d_row3_col30\" class=\"data row3 col30\" >8857.500000</td>\n",
       "      <td id=\"T_4b97d_row3_col31\" class=\"data row3 col31\" >5589.267000</td>\n",
       "      <td id=\"T_4b97d_row3_col32\" class=\"data row3 col32\" >5715.236000</td>\n",
       "      <td id=\"T_4b97d_row3_col33\" class=\"data row3 col33\" >5672.904000</td>\n",
       "    </tr>\n",
       "    <tr>\n",
       "      <th id=\"T_4b97d_level0_row4\" class=\"row_heading level0 row4\" >60.000000</th>\n",
       "      <td id=\"T_4b97d_row4_col0\" class=\"data row4 col0\" >74155.091455</td>\n",
       "      <td id=\"T_4b97d_row4_col1\" class=\"data row4 col1\" >3526.350408</td>\n",
       "      <td id=\"T_4b97d_row4_col2\" class=\"data row4 col2\" >3542.705937</td>\n",
       "      <td id=\"T_4b97d_row4_col3\" class=\"data row4 col3\" >3595.095960</td>\n",
       "      <td id=\"T_4b97d_row4_col4\" class=\"data row4 col4\" >3561.730262</td>\n",
       "      <td id=\"T_4b97d_row4_col5\" class=\"data row4 col5\" >3.750000</td>\n",
       "      <td id=\"T_4b97d_row4_col6\" class=\"data row4 col6\" >-0.463809</td>\n",
       "      <td id=\"T_4b97d_row4_col7\" class=\"data row4 col7\" >-1.949482</td>\n",
       "      <td id=\"T_4b97d_row4_col8\" class=\"data row4 col8\" >-1.003299</td>\n",
       "      <td id=\"T_4b97d_row4_col9\" class=\"data row4 col9\" >7.154334</td>\n",
       "      <td id=\"T_4b97d_row4_col10\" class=\"data row4 col10\" >12.239186</td>\n",
       "      <td id=\"T_4b97d_row4_col11\" class=\"data row4 col11\" >10.709773</td>\n",
       "      <td id=\"T_4b97d_row4_col12\" class=\"data row4 col12\" >10.646660</td>\n",
       "      <td id=\"T_4b97d_row4_col13\" class=\"data row4 col13\" >49560.300000</td>\n",
       "      <td id=\"T_4b97d_row4_col14\" class=\"data row4 col14\" >73333.938000</td>\n",
       "      <td id=\"T_4b97d_row4_col15\" class=\"data row4 col15\" >73473.458000</td>\n",
       "      <td id=\"T_4b97d_row4_col16\" class=\"data row4 col16\" >74371.636000</td>\n",
       "      <td id=\"T_4b97d_row4_col17\" class=\"data row4 col17\" >5108.728846</td>\n",
       "      <td id=\"T_4b97d_row4_col18\" class=\"data row4 col18\" >3715.422579</td>\n",
       "      <td id=\"T_4b97d_row4_col19\" class=\"data row4 col19\" >3669.276373</td>\n",
       "      <td id=\"T_4b97d_row4_col20\" class=\"data row4 col20\" >3681.128688</td>\n",
       "      <td id=\"T_4b97d_row4_col21\" class=\"data row4 col21\" >3686.285481</td>\n",
       "      <td id=\"T_4b97d_row4_col22\" class=\"data row4 col22\" >3.750000</td>\n",
       "      <td id=\"T_4b97d_row4_col23\" class=\"data row4 col23\" >1.242018</td>\n",
       "      <td id=\"T_4b97d_row4_col24\" class=\"data row4 col24\" >0.923015</td>\n",
       "      <td id=\"T_4b97d_row4_col25\" class=\"data row4 col25\" >0.784220</td>\n",
       "      <td id=\"T_4b97d_row4_col26\" class=\"data row4 col26\" >1.829393</td>\n",
       "      <td id=\"T_4b97d_row4_col27\" class=\"data row4 col27\" >1.274211</td>\n",
       "      <td id=\"T_4b97d_row4_col28\" class=\"data row4 col28\" >0.926289</td>\n",
       "      <td id=\"T_4b97d_row4_col29\" class=\"data row4 col29\" >0.807639</td>\n",
       "      <td id=\"T_4b97d_row4_col30\" class=\"data row4 col30\" >12817.800000</td>\n",
       "      <td id=\"T_4b97d_row4_col31\" class=\"data row4 col31\" >8048.064000</td>\n",
       "      <td id=\"T_4b97d_row4_col32\" class=\"data row4 col32\" >8008.813000</td>\n",
       "      <td id=\"T_4b97d_row4_col33\" class=\"data row4 col33\" >8120.418000</td>\n",
       "    </tr>\n",
       "    <tr>\n",
       "      <th id=\"T_4b97d_level0_row5\" class=\"row_heading level0 row5\" >70.000000</th>\n",
       "      <td id=\"T_4b97d_row5_col0\" class=\"data row5 col0\" >90839.789660</td>\n",
       "      <td id=\"T_4b97d_row5_col1\" class=\"data row5 col1\" >4523.495940</td>\n",
       "      <td id=\"T_4b97d_row5_col2\" class=\"data row5 col2\" >4500.555740</td>\n",
       "      <td id=\"T_4b97d_row5_col3\" class=\"data row5 col3\" >4489.300970</td>\n",
       "      <td id=\"T_4b97d_row5_col4\" class=\"data row5 col4\" >4490.488227</td>\n",
       "      <td id=\"T_4b97d_row5_col5\" class=\"data row5 col5\" >4.375000</td>\n",
       "      <td id=\"T_4b97d_row5_col6\" class=\"data row5 col6\" >0.507134</td>\n",
       "      <td id=\"T_4b97d_row5_col7\" class=\"data row5 col7\" >0.755941</td>\n",
       "      <td id=\"T_4b97d_row5_col8\" class=\"data row5 col8\" >0.729695</td>\n",
       "      <td id=\"T_4b97d_row5_col9\" class=\"data row5 col9\" >10.161887</td>\n",
       "      <td id=\"T_4b97d_row5_col10\" class=\"data row5 col10\" >18.659204</td>\n",
       "      <td id=\"T_4b97d_row5_col11\" class=\"data row5 col11\" >16.185036</td>\n",
       "      <td id=\"T_4b97d_row5_col12\" class=\"data row5 col12\" >16.193826</td>\n",
       "      <td id=\"T_4b97d_row5_col13\" class=\"data row5 col13\" >70150.500000</td>\n",
       "      <td id=\"T_4b97d_row5_col14\" class=\"data row5 col14\" >111722.495000</td>\n",
       "      <td id=\"T_4b97d_row5_col15\" class=\"data row5 col15\" >111012.220000</td>\n",
       "      <td id=\"T_4b97d_row5_col16\" class=\"data row5 col16\" >112032.156000</td>\n",
       "      <td id=\"T_4b97d_row5_col17\" class=\"data row5 col17\" >6303.521684</td>\n",
       "      <td id=\"T_4b97d_row5_col18\" class=\"data row5 col18\" >4675.453810</td>\n",
       "      <td id=\"T_4b97d_row5_col19\" class=\"data row5 col19\" >4632.734073</td>\n",
       "      <td id=\"T_4b97d_row5_col20\" class=\"data row5 col20\" >4672.160883</td>\n",
       "      <td id=\"T_4b97d_row5_col21\" class=\"data row5 col21\" >4679.205582</td>\n",
       "      <td id=\"T_4b97d_row5_col22\" class=\"data row5 col22\" >4.375000</td>\n",
       "      <td id=\"T_4b97d_row5_col23\" class=\"data row5 col23\" >0.913702</td>\n",
       "      <td id=\"T_4b97d_row5_col24\" class=\"data row5 col24\" >0.070430</td>\n",
       "      <td id=\"T_4b97d_row5_col25\" class=\"data row5 col25\" >-0.080244</td>\n",
       "      <td id=\"T_4b97d_row5_col26\" class=\"data row5 col26\" >2.572170</td>\n",
       "      <td id=\"T_4b97d_row5_col27\" class=\"data row5 col27\" >1.780566</td>\n",
       "      <td id=\"T_4b97d_row5_col28\" class=\"data row5 col28\" >1.353159</td>\n",
       "      <td id=\"T_4b97d_row5_col29\" class=\"data row5 col29\" >1.212725</td>\n",
       "      <td id=\"T_4b97d_row5_col30\" class=\"data row5 col30\" >17631.600000</td>\n",
       "      <td id=\"T_4b97d_row5_col31\" class=\"data row5 col31\" >10927.296000</td>\n",
       "      <td id=\"T_4b97d_row5_col32\" class=\"data row5 col32\" >10756.806000</td>\n",
       "      <td id=\"T_4b97d_row5_col33\" class=\"data row5 col33\" >11156.677000</td>\n",
       "    </tr>\n",
       "    <tr>\n",
       "      <th id=\"T_4b97d_level0_row6\" class=\"row_heading level0 row6\" >80.000000</th>\n",
       "      <td id=\"T_4b97d_row6_col0\" class=\"data row6 col0\" >106485.618080</td>\n",
       "      <td id=\"T_4b97d_row6_col1\" class=\"data row6 col1\" >5490.127312</td>\n",
       "      <td id=\"T_4b97d_row6_col2\" class=\"data row6 col2\" >5468.357470</td>\n",
       "      <td id=\"T_4b97d_row6_col3\" class=\"data row6 col3\" >5440.503380</td>\n",
       "      <td id=\"T_4b97d_row6_col4\" class=\"data row6 col4\" >5443.802184</td>\n",
       "      <td id=\"T_4b97d_row6_col5\" class=\"data row6 col5\" >5.000000</td>\n",
       "      <td id=\"T_4b97d_row6_col6\" class=\"data row6 col6\" >0.396527</td>\n",
       "      <td id=\"T_4b97d_row6_col7\" class=\"data row6 col7\" >0.903876</td>\n",
       "      <td id=\"T_4b97d_row6_col8\" class=\"data row6 col8\" >0.843790</td>\n",
       "      <td id=\"T_4b97d_row6_col9\" class=\"data row6 col9\" >15.050358</td>\n",
       "      <td id=\"T_4b97d_row6_col10\" class=\"data row6 col10\" >28.365545</td>\n",
       "      <td id=\"T_4b97d_row6_col11\" class=\"data row6 col11\" >24.313835</td>\n",
       "      <td id=\"T_4b97d_row6_col12\" class=\"data row6 col12\" >24.909353</td>\n",
       "      <td id=\"T_4b97d_row6_col13\" class=\"data row6 col13\" >94718.400000</td>\n",
       "      <td id=\"T_4b97d_row6_col14\" class=\"data row6 col14\" >158955.106000</td>\n",
       "      <td id=\"T_4b97d_row6_col15\" class=\"data row6 col15\" >158082.992000</td>\n",
       "      <td id=\"T_4b97d_row6_col16\" class=\"data row6 col16\" >160767.489000</td>\n",
       "      <td id=\"T_4b97d_row6_col17\" class=\"data row6 col17\" >7541.626088</td>\n",
       "      <td id=\"T_4b97d_row6_col18\" class=\"data row6 col18\" >5719.415599</td>\n",
       "      <td id=\"T_4b97d_row6_col19\" class=\"data row6 col19\" >5659.639946</td>\n",
       "      <td id=\"T_4b97d_row6_col20\" class=\"data row6 col20\" >5656.365087</td>\n",
       "      <td id=\"T_4b97d_row6_col21\" class=\"data row6 col21\" >5672.580222</td>\n",
       "      <td id=\"T_4b97d_row6_col22\" class=\"data row6 col22\" >5.000000</td>\n",
       "      <td id=\"T_4b97d_row6_col23\" class=\"data row6 col23\" >1.045136</td>\n",
       "      <td id=\"T_4b97d_row6_col24\" class=\"data row6 col24\" >1.102394</td>\n",
       "      <td id=\"T_4b97d_row6_col25\" class=\"data row6 col25\" >0.818884</td>\n",
       "      <td id=\"T_4b97d_row6_col26\" class=\"data row6 col26\" >3.562023</td>\n",
       "      <td id=\"T_4b97d_row6_col27\" class=\"data row6 col27\" >2.471961</td>\n",
       "      <td id=\"T_4b97d_row6_col28\" class=\"data row6 col28\" >2.097251</td>\n",
       "      <td id=\"T_4b97d_row6_col29\" class=\"data row6 col29\" >1.870592</td>\n",
       "      <td id=\"T_4b97d_row6_col30\" class=\"data row6 col30\" >22833.600000</td>\n",
       "      <td id=\"T_4b97d_row6_col31\" class=\"data row6 col31\" >13681.304000</td>\n",
       "      <td id=\"T_4b97d_row6_col32\" class=\"data row6 col32\" >14178.523000</td>\n",
       "      <td id=\"T_4b97d_row6_col33\" class=\"data row6 col33\" >13987.436000</td>\n",
       "    </tr>\n",
       "    <tr>\n",
       "      <th id=\"T_4b97d_level0_row7\" class=\"row_heading level0 row7\" >90.000000</th>\n",
       "      <td id=\"T_4b97d_row7_col0\" class=\"data row7 col0\" >123547.025957</td>\n",
       "      <td id=\"T_4b97d_row7_col1\" class=\"data row7 col1\" >6486.076909</td>\n",
       "      <td id=\"T_4b97d_row7_col2\" class=\"data row7 col2\" >6388.665985</td>\n",
       "      <td id=\"T_4b97d_row7_col3\" class=\"data row7 col3\" >6398.195674</td>\n",
       "      <td id=\"T_4b97d_row7_col4\" class=\"data row7 col4\" >6389.762577</td>\n",
       "      <td id=\"T_4b97d_row7_col5\" class=\"data row7 col5\" >5.625000</td>\n",
       "      <td id=\"T_4b97d_row7_col6\" class=\"data row7 col6\" >1.501847</td>\n",
       "      <td id=\"T_4b97d_row7_col7\" class=\"data row7 col7\" >1.354921</td>\n",
       "      <td id=\"T_4b97d_row7_col8\" class=\"data row7 col8\" >1.484940</td>\n",
       "      <td id=\"T_4b97d_row7_col9\" class=\"data row7 col9\" >18.458390</td>\n",
       "      <td id=\"T_4b97d_row7_col10\" class=\"data row7 col10\" >37.493345</td>\n",
       "      <td id=\"T_4b97d_row7_col11\" class=\"data row7 col11\" >32.748624</td>\n",
       "      <td id=\"T_4b97d_row7_col12\" class=\"data row7 col12\" >32.357602</td>\n",
       "      <td id=\"T_4b97d_row7_col13\" class=\"data row7 col13\" >123581.700000</td>\n",
       "      <td id=\"T_4b97d_row7_col14\" class=\"data row7 col14\" >216070.136000</td>\n",
       "      <td id=\"T_4b97d_row7_col15\" class=\"data row7 col15\" >214649.853000</td>\n",
       "      <td id=\"T_4b97d_row7_col16\" class=\"data row7 col16\" >218148.890000</td>\n",
       "      <td id=\"T_4b97d_row7_col17\" class=\"data row7 col17\" >8716.362230</td>\n",
       "      <td id=\"T_4b97d_row7_col18\" class=\"data row7 col18\" >6766.362969</td>\n",
       "      <td id=\"T_4b97d_row7_col19\" class=\"data row7 col19\" >6725.623245</td>\n",
       "      <td id=\"T_4b97d_row7_col20\" class=\"data row7 col20\" >6659.274013</td>\n",
       "      <td id=\"T_4b97d_row7_col21\" class=\"data row7 col21\" >6658.238938</td>\n",
       "      <td id=\"T_4b97d_row7_col22\" class=\"data row7 col22\" >5.625000</td>\n",
       "      <td id=\"T_4b97d_row7_col23\" class=\"data row7 col23\" >0.602092</td>\n",
       "      <td id=\"T_4b97d_row7_col24\" class=\"data row7 col24\" >1.582666</td>\n",
       "      <td id=\"T_4b97d_row7_col25\" class=\"data row7 col25\" >1.597964</td>\n",
       "      <td id=\"T_4b97d_row7_col26\" class=\"data row7 col26\" >4.293819</td>\n",
       "      <td id=\"T_4b97d_row7_col27\" class=\"data row7 col27\" >2.926617</td>\n",
       "      <td id=\"T_4b97d_row7_col28\" class=\"data row7 col28\" >2.416022</td>\n",
       "      <td id=\"T_4b97d_row7_col29\" class=\"data row7 col29\" >2.052773</td>\n",
       "      <td id=\"T_4b97d_row7_col30\" class=\"data row7 col30\" >27951.750000</td>\n",
       "      <td id=\"T_4b97d_row7_col31\" class=\"data row7 col31\" >17464.196000</td>\n",
       "      <td id=\"T_4b97d_row7_col32\" class=\"data row7 col32\" >17609.605000</td>\n",
       "      <td id=\"T_4b97d_row7_col33\" class=\"data row7 col33\" >17749.226000</td>\n",
       "    </tr>\n",
       "    <tr>\n",
       "      <th id=\"T_4b97d_level0_row8\" class=\"row_heading level0 row8\" >100.000000</th>\n",
       "      <td id=\"T_4b97d_row8_col0\" class=\"data row8 col0\" >140354.173711</td>\n",
       "      <td id=\"T_4b97d_row8_col1\" class=\"data row8 col1\" >7486.183512</td>\n",
       "      <td id=\"T_4b97d_row8_col2\" class=\"data row8 col2\" >7336.113609</td>\n",
       "      <td id=\"T_4b97d_row8_col3\" class=\"data row8 col3\" >7381.547280</td>\n",
       "      <td id=\"T_4b97d_row8_col4\" class=\"data row8 col4\" >7377.879494</td>\n",
       "      <td id=\"T_4b97d_row8_col5\" class=\"data row8 col5\" >6.250000</td>\n",
       "      <td id=\"T_4b97d_row8_col6\" class=\"data row8 col6\" >2.004625</td>\n",
       "      <td id=\"T_4b97d_row8_col7\" class=\"data row8 col7\" >1.397725</td>\n",
       "      <td id=\"T_4b97d_row8_col8\" class=\"data row8 col8\" >1.446719</td>\n",
       "      <td id=\"T_4b97d_row8_col9\" class=\"data row8 col9\" >22.482260</td>\n",
       "      <td id=\"T_4b97d_row8_col10\" class=\"data row8 col10\" >48.679665</td>\n",
       "      <td id=\"T_4b97d_row8_col11\" class=\"data row8 col11\" >43.186005</td>\n",
       "      <td id=\"T_4b97d_row8_col12\" class=\"data row8 col12\" >45.431458</td>\n",
       "      <td id=\"T_4b97d_row8_col13\" class=\"data row8 col13\" >155668.500000</td>\n",
       "      <td id=\"T_4b97d_row8_col14\" class=\"data row8 col14\" >284074.949000</td>\n",
       "      <td id=\"T_4b97d_row8_col15\" class=\"data row8 col15\" >280546.034521</td>\n",
       "      <td id=\"T_4b97d_row8_col16\" class=\"data row8 col16\" >286583.211488</td>\n",
       "      <td id=\"T_4b97d_row8_col17\" class=\"data row8 col17\" >9920.878142</td>\n",
       "      <td id=\"T_4b97d_row8_col18\" class=\"data row8 col18\" >7751.254021</td>\n",
       "      <td id=\"T_4b97d_row8_col19\" class=\"data row8 col19\" >nan</td>\n",
       "      <td id=\"T_4b97d_row8_col20\" class=\"data row8 col20\" >nan</td>\n",
       "      <td id=\"T_4b97d_row8_col21\" class=\"data row8 col21\" >nan</td>\n",
       "      <td id=\"T_4b97d_row8_col22\" class=\"data row8 col22\" >6.250000</td>\n",
       "      <td id=\"T_4b97d_row8_col23\" class=\"data row8 col23\" >nan</td>\n",
       "      <td id=\"T_4b97d_row8_col24\" class=\"data row8 col24\" >nan</td>\n",
       "      <td id=\"T_4b97d_row8_col25\" class=\"data row8 col25\" >nan</td>\n",
       "      <td id=\"T_4b97d_row8_col26\" class=\"data row8 col26\" >5.341237</td>\n",
       "      <td id=\"T_4b97d_row8_col27\" class=\"data row8 col27\" >nan</td>\n",
       "      <td id=\"T_4b97d_row8_col28\" class=\"data row8 col28\" >nan</td>\n",
       "      <td id=\"T_4b97d_row8_col29\" class=\"data row8 col29\" >nan</td>\n",
       "      <td id=\"T_4b97d_row8_col30\" class=\"data row8 col30\" >33411.764706</td>\n",
       "      <td id=\"T_4b97d_row8_col31\" class=\"data row8 col31\" >nan</td>\n",
       "      <td id=\"T_4b97d_row8_col32\" class=\"data row8 col32\" >nan</td>\n",
       "      <td id=\"T_4b97d_row8_col33\" class=\"data row8 col33\" >nan</td>\n",
       "    </tr>\n",
       "  </tbody>\n",
       "</table>\n"
      ],
      "text/plain": [
       "<pandas.io.formats.style.Styler at 0x22273c1d970>"
      ]
     },
     "metadata": {},
     "output_type": "display_data"
    },
    {
     "name": "stdout",
     "output_type": "stream",
     "text": [
      "None\n",
      "Pour le nombre de clusters :  32\n"
     ]
    },
    {
     "data": {
      "text/html": [
       "<style type=\"text/css\">\n",
       "#T_afbf4_row0_col6 {\n",
       "  background-color: #860811;\n",
       "  color: #f1f1f1;\n",
       "}\n",
       "#T_afbf4_row0_col7, #T_afbf4_row0_col25 {\n",
       "  background-color: #67000d;\n",
       "  color: #f1f1f1;\n",
       "}\n",
       "#T_afbf4_row0_col8 {\n",
       "  background-color: #a10e15;\n",
       "  color: #f1f1f1;\n",
       "}\n",
       "#T_afbf4_row0_col23 {\n",
       "  background-color: #820711;\n",
       "  color: #f1f1f1;\n",
       "}\n",
       "#T_afbf4_row0_col24 {\n",
       "  background-color: #6b010e;\n",
       "  color: #f1f1f1;\n",
       "}\n",
       "#T_afbf4_row1_col6 {\n",
       "  background-color: #fb7656;\n",
       "  color: #f1f1f1;\n",
       "}\n",
       "#T_afbf4_row1_col7 {\n",
       "  background-color: #f44d38;\n",
       "  color: #f1f1f1;\n",
       "}\n",
       "#T_afbf4_row1_col8 {\n",
       "  background-color: #fb7858;\n",
       "  color: #f1f1f1;\n",
       "}\n",
       "#T_afbf4_row1_col23, #T_afbf4_row2_col7 {\n",
       "  background-color: #fc9c7d;\n",
       "  color: #000000;\n",
       "}\n",
       "#T_afbf4_row1_col24 {\n",
       "  background-color: #fca183;\n",
       "  color: #000000;\n",
       "}\n",
       "#T_afbf4_row1_col25 {\n",
       "  background-color: #fcae92;\n",
       "  color: #000000;\n",
       "}\n",
       "#T_afbf4_row2_col6, #T_afbf4_row2_col8 {\n",
       "  background-color: #fca98c;\n",
       "  color: #000000;\n",
       "}\n",
       "#T_afbf4_row2_col23 {\n",
       "  background-color: #fee0d2;\n",
       "  color: #000000;\n",
       "}\n",
       "#T_afbf4_row2_col24, #T_afbf4_row2_col25 {\n",
       "  background-color: #fee1d4;\n",
       "  color: #000000;\n",
       "}\n",
       "#T_afbf4_row3_col6, #T_afbf4_row3_col8 {\n",
       "  background-color: #fdc6b0;\n",
       "  color: #000000;\n",
       "}\n",
       "#T_afbf4_row3_col7 {\n",
       "  background-color: #fcc2aa;\n",
       "  color: #000000;\n",
       "}\n",
       "#T_afbf4_row3_col23 {\n",
       "  background-color: #ffede5;\n",
       "  color: #000000;\n",
       "}\n",
       "#T_afbf4_row3_col24 {\n",
       "  background-color: #ffeee7;\n",
       "  color: #000000;\n",
       "}\n",
       "#T_afbf4_row3_col25 {\n",
       "  background-color: #ffece3;\n",
       "  color: #000000;\n",
       "}\n",
       "#T_afbf4_row4_col6, #T_afbf4_row4_col8 {\n",
       "  background-color: #fdd4c2;\n",
       "  color: #000000;\n",
       "}\n",
       "#T_afbf4_row4_col7 {\n",
       "  background-color: #fdd0bc;\n",
       "  color: #000000;\n",
       "}\n",
       "#T_afbf4_row4_col23, #T_afbf4_row5_col23, #T_afbf4_row5_col24, #T_afbf4_row5_col25 {\n",
       "  background-color: #fff2ec;\n",
       "  color: #000000;\n",
       "}\n",
       "#T_afbf4_row4_col24 {\n",
       "  background-color: #fff5f0;\n",
       "  color: #000000;\n",
       "}\n",
       "#T_afbf4_row4_col25 {\n",
       "  background-color: #fff4ee;\n",
       "  color: #000000;\n",
       "}\n",
       "#T_afbf4_row5_col6 {\n",
       "  background-color: #fee4d8;\n",
       "  color: #000000;\n",
       "}\n",
       "#T_afbf4_row5_col7, #T_afbf4_row5_col8 {\n",
       "  background-color: #fee8dd;\n",
       "  color: #000000;\n",
       "}\n",
       "</style>\n",
       "<table id=\"T_afbf4\">\n",
       "  <thead>\n",
       "    <tr>\n",
       "      <th class=\"blank level0\" >&nbsp;</th>\n",
       "      <th id=\"T_afbf4_level0_col0\" class=\"col_heading level0 col0\" colspan=\"17\">random</th>\n",
       "      <th id=\"T_afbf4_level0_col17\" class=\"col_heading level0 col17\" colspan=\"17\">kmean+</th>\n",
       "    </tr>\n",
       "    <tr>\n",
       "      <th class=\"blank level1\" >&nbsp;</th>\n",
       "      <th id=\"T_afbf4_level1_col0\" class=\"col_heading level1 col0\" colspan=\"5\">Coût final</th>\n",
       "      <th id=\"T_afbf4_level1_col5\" class=\"col_heading level1 col5\" colspan=\"4\">% amélioration</th>\n",
       "      <th id=\"T_afbf4_level1_col9\" class=\"col_heading level1 col9\" colspan=\"4\">Temps d'exécution (s)</th>\n",
       "      <th id=\"T_afbf4_level1_col13\" class=\"col_heading level1 col13\" colspan=\"4\">Nombre d'itérations</th>\n",
       "      <th id=\"T_afbf4_level1_col17\" class=\"col_heading level1 col17\" colspan=\"5\">Coût final</th>\n",
       "      <th id=\"T_afbf4_level1_col22\" class=\"col_heading level1 col22\" colspan=\"4\">% amélioration</th>\n",
       "      <th id=\"T_afbf4_level1_col26\" class=\"col_heading level1 col26\" colspan=\"4\">Temps d'exécution (s)</th>\n",
       "      <th id=\"T_afbf4_level1_col30\" class=\"col_heading level1 col30\" colspan=\"4\">Nombre d'itérations</th>\n",
       "    </tr>\n",
       "    <tr>\n",
       "      <th class=\"blank level2\" >&nbsp;</th>\n",
       "      <th id=\"T_afbf4_level2_col0\" class=\"col_heading level2 col0\" colspan=\"2\">BI_BACK</th>\n",
       "      <th id=\"T_afbf4_level2_col2\" class=\"col_heading level2 col2\" >FI_CURR</th>\n",
       "      <th id=\"T_afbf4_level2_col3\" class=\"col_heading level2 col3\" >FI_BACK</th>\n",
       "      <th id=\"T_afbf4_level2_col4\" class=\"col_heading level2 col4\" >FI_RANDOM</th>\n",
       "      <th id=\"T_afbf4_level2_col5\" class=\"col_heading level2 col5\" >points/centroid</th>\n",
       "      <th id=\"T_afbf4_level2_col6\" class=\"col_heading level2 col6\" >FI_CURR</th>\n",
       "      <th id=\"T_afbf4_level2_col7\" class=\"col_heading level2 col7\" >FI_BACK</th>\n",
       "      <th id=\"T_afbf4_level2_col8\" class=\"col_heading level2 col8\" >FI_RANDOM</th>\n",
       "      <th id=\"T_afbf4_level2_col9\" class=\"col_heading level2 col9\" >BI_BACK</th>\n",
       "      <th id=\"T_afbf4_level2_col10\" class=\"col_heading level2 col10\" >FI_CURR</th>\n",
       "      <th id=\"T_afbf4_level2_col11\" class=\"col_heading level2 col11\" >FI_BACK</th>\n",
       "      <th id=\"T_afbf4_level2_col12\" class=\"col_heading level2 col12\" >FI_RANDOM</th>\n",
       "      <th id=\"T_afbf4_level2_col13\" class=\"col_heading level2 col13\" >BI_BACK</th>\n",
       "      <th id=\"T_afbf4_level2_col14\" class=\"col_heading level2 col14\" >FI_CURR</th>\n",
       "      <th id=\"T_afbf4_level2_col15\" class=\"col_heading level2 col15\" >FI_BACK</th>\n",
       "      <th id=\"T_afbf4_level2_col16\" class=\"col_heading level2 col16\" >FI_RANDOM</th>\n",
       "      <th id=\"T_afbf4_level2_col17\" class=\"col_heading level2 col17\" colspan=\"2\">BI_BACK</th>\n",
       "      <th id=\"T_afbf4_level2_col19\" class=\"col_heading level2 col19\" >FI_CURR</th>\n",
       "      <th id=\"T_afbf4_level2_col20\" class=\"col_heading level2 col20\" >FI_BACK</th>\n",
       "      <th id=\"T_afbf4_level2_col21\" class=\"col_heading level2 col21\" >FI_RANDOM</th>\n",
       "      <th id=\"T_afbf4_level2_col22\" class=\"col_heading level2 col22\" >points/centroid</th>\n",
       "      <th id=\"T_afbf4_level2_col23\" class=\"col_heading level2 col23\" >FI_CURR</th>\n",
       "      <th id=\"T_afbf4_level2_col24\" class=\"col_heading level2 col24\" >FI_BACK</th>\n",
       "      <th id=\"T_afbf4_level2_col25\" class=\"col_heading level2 col25\" >FI_RANDOM</th>\n",
       "      <th id=\"T_afbf4_level2_col26\" class=\"col_heading level2 col26\" >BI_BACK</th>\n",
       "      <th id=\"T_afbf4_level2_col27\" class=\"col_heading level2 col27\" >FI_CURR</th>\n",
       "      <th id=\"T_afbf4_level2_col28\" class=\"col_heading level2 col28\" >FI_BACK</th>\n",
       "      <th id=\"T_afbf4_level2_col29\" class=\"col_heading level2 col29\" >FI_RANDOM</th>\n",
       "      <th id=\"T_afbf4_level2_col30\" class=\"col_heading level2 col30\" >BI_BACK</th>\n",
       "      <th id=\"T_afbf4_level2_col31\" class=\"col_heading level2 col31\" >FI_CURR</th>\n",
       "      <th id=\"T_afbf4_level2_col32\" class=\"col_heading level2 col32\" >FI_BACK</th>\n",
       "      <th id=\"T_afbf4_level2_col33\" class=\"col_heading level2 col33\" >FI_RANDOM</th>\n",
       "    </tr>\n",
       "    <tr>\n",
       "      <th class=\"blank level3\" >&nbsp;</th>\n",
       "      <th id=\"T_afbf4_level3_col0\" class=\"col_heading level3 col0\" >init_cost</th>\n",
       "      <th id=\"T_afbf4_level3_col1\" class=\"col_heading level3 col1\" >end_cost</th>\n",
       "      <th id=\"T_afbf4_level3_col2\" class=\"col_heading level3 col2\" >end_cost</th>\n",
       "      <th id=\"T_afbf4_level3_col3\" class=\"col_heading level3 col3\" >end_cost</th>\n",
       "      <th id=\"T_afbf4_level3_col4\" class=\"col_heading level3 col4\" >end_cost</th>\n",
       "      <th id=\"T_afbf4_level3_col5\" class=\"col_heading level3 col5\" ></th>\n",
       "      <th id=\"T_afbf4_level3_col6\" class=\"col_heading level3 col6\" >end_cost</th>\n",
       "      <th id=\"T_afbf4_level3_col7\" class=\"col_heading level3 col7\" >end_cost</th>\n",
       "      <th id=\"T_afbf4_level3_col8\" class=\"col_heading level3 col8\" >end_cost</th>\n",
       "      <th id=\"T_afbf4_level3_col9\" class=\"col_heading level3 col9\" >time</th>\n",
       "      <th id=\"T_afbf4_level3_col10\" class=\"col_heading level3 col10\" >time</th>\n",
       "      <th id=\"T_afbf4_level3_col11\" class=\"col_heading level3 col11\" >time</th>\n",
       "      <th id=\"T_afbf4_level3_col12\" class=\"col_heading level3 col12\" >time</th>\n",
       "      <th id=\"T_afbf4_level3_col13\" class=\"col_heading level3 col13\" >num_iter_tot</th>\n",
       "      <th id=\"T_afbf4_level3_col14\" class=\"col_heading level3 col14\" >num_iter_tot</th>\n",
       "      <th id=\"T_afbf4_level3_col15\" class=\"col_heading level3 col15\" >num_iter_tot</th>\n",
       "      <th id=\"T_afbf4_level3_col16\" class=\"col_heading level3 col16\" >num_iter_tot</th>\n",
       "      <th id=\"T_afbf4_level3_col17\" class=\"col_heading level3 col17\" >init_cost</th>\n",
       "      <th id=\"T_afbf4_level3_col18\" class=\"col_heading level3 col18\" >end_cost</th>\n",
       "      <th id=\"T_afbf4_level3_col19\" class=\"col_heading level3 col19\" >end_cost</th>\n",
       "      <th id=\"T_afbf4_level3_col20\" class=\"col_heading level3 col20\" >end_cost</th>\n",
       "      <th id=\"T_afbf4_level3_col21\" class=\"col_heading level3 col21\" >end_cost</th>\n",
       "      <th id=\"T_afbf4_level3_col22\" class=\"col_heading level3 col22\" ></th>\n",
       "      <th id=\"T_afbf4_level3_col23\" class=\"col_heading level3 col23\" >end_cost</th>\n",
       "      <th id=\"T_afbf4_level3_col24\" class=\"col_heading level3 col24\" >end_cost</th>\n",
       "      <th id=\"T_afbf4_level3_col25\" class=\"col_heading level3 col25\" >end_cost</th>\n",
       "      <th id=\"T_afbf4_level3_col26\" class=\"col_heading level3 col26\" >time</th>\n",
       "      <th id=\"T_afbf4_level3_col27\" class=\"col_heading level3 col27\" >time</th>\n",
       "      <th id=\"T_afbf4_level3_col28\" class=\"col_heading level3 col28\" >time</th>\n",
       "      <th id=\"T_afbf4_level3_col29\" class=\"col_heading level3 col29\" >time</th>\n",
       "      <th id=\"T_afbf4_level3_col30\" class=\"col_heading level3 col30\" >num_iter_tot</th>\n",
       "      <th id=\"T_afbf4_level3_col31\" class=\"col_heading level3 col31\" >num_iter_tot</th>\n",
       "      <th id=\"T_afbf4_level3_col32\" class=\"col_heading level3 col32\" >num_iter_tot</th>\n",
       "      <th id=\"T_afbf4_level3_col33\" class=\"col_heading level3 col33\" >num_iter_tot</th>\n",
       "    </tr>\n",
       "    <tr>\n",
       "      <th class=\"index_name level0\" >Nb. points</th>\n",
       "      <th class=\"blank col0\" >&nbsp;</th>\n",
       "      <th class=\"blank col1\" >&nbsp;</th>\n",
       "      <th class=\"blank col2\" >&nbsp;</th>\n",
       "      <th class=\"blank col3\" >&nbsp;</th>\n",
       "      <th class=\"blank col4\" >&nbsp;</th>\n",
       "      <th class=\"blank col5\" >&nbsp;</th>\n",
       "      <th class=\"blank col6\" >&nbsp;</th>\n",
       "      <th class=\"blank col7\" >&nbsp;</th>\n",
       "      <th class=\"blank col8\" >&nbsp;</th>\n",
       "      <th class=\"blank col9\" >&nbsp;</th>\n",
       "      <th class=\"blank col10\" >&nbsp;</th>\n",
       "      <th class=\"blank col11\" >&nbsp;</th>\n",
       "      <th class=\"blank col12\" >&nbsp;</th>\n",
       "      <th class=\"blank col13\" >&nbsp;</th>\n",
       "      <th class=\"blank col14\" >&nbsp;</th>\n",
       "      <th class=\"blank col15\" >&nbsp;</th>\n",
       "      <th class=\"blank col16\" >&nbsp;</th>\n",
       "      <th class=\"blank col17\" >&nbsp;</th>\n",
       "      <th class=\"blank col18\" >&nbsp;</th>\n",
       "      <th class=\"blank col19\" >&nbsp;</th>\n",
       "      <th class=\"blank col20\" >&nbsp;</th>\n",
       "      <th class=\"blank col21\" >&nbsp;</th>\n",
       "      <th class=\"blank col22\" >&nbsp;</th>\n",
       "      <th class=\"blank col23\" >&nbsp;</th>\n",
       "      <th class=\"blank col24\" >&nbsp;</th>\n",
       "      <th class=\"blank col25\" >&nbsp;</th>\n",
       "      <th class=\"blank col26\" >&nbsp;</th>\n",
       "      <th class=\"blank col27\" >&nbsp;</th>\n",
       "      <th class=\"blank col28\" >&nbsp;</th>\n",
       "      <th class=\"blank col29\" >&nbsp;</th>\n",
       "      <th class=\"blank col30\" >&nbsp;</th>\n",
       "      <th class=\"blank col31\" >&nbsp;</th>\n",
       "      <th class=\"blank col32\" >&nbsp;</th>\n",
       "      <th class=\"blank col33\" >&nbsp;</th>\n",
       "    </tr>\n",
       "  </thead>\n",
       "  <tbody>\n",
       "    <tr>\n",
       "      <th id=\"T_afbf4_level0_row0\" class=\"row_heading level0 row0\" >40.000000</th>\n",
       "      <td id=\"T_afbf4_row0_col0\" class=\"data row0 col0\" >28535.794037</td>\n",
       "      <td id=\"T_afbf4_row0_col1\" class=\"data row0 col1\" >187.451439</td>\n",
       "      <td id=\"T_afbf4_row0_col2\" class=\"data row0 col2\" >240.873428</td>\n",
       "      <td id=\"T_afbf4_row0_col3\" class=\"data row0 col3\" >244.472965</td>\n",
       "      <td id=\"T_afbf4_row0_col4\" class=\"data row0 col4\" >237.683875</td>\n",
       "      <td id=\"T_afbf4_row0_col5\" class=\"data row0 col5\" >1.250000</td>\n",
       "      <td id=\"T_afbf4_row0_col6\" class=\"data row0 col6\" >-28.499109</td>\n",
       "      <td id=\"T_afbf4_row0_col7\" class=\"data row0 col7\" >-30.419359</td>\n",
       "      <td id=\"T_afbf4_row0_col8\" class=\"data row0 col8\" >-26.797573</td>\n",
       "      <td id=\"T_afbf4_row0_col9\" class=\"data row0 col9\" >3.150677</td>\n",
       "      <td id=\"T_afbf4_row0_col10\" class=\"data row0 col10\" >3.046761</td>\n",
       "      <td id=\"T_afbf4_row0_col11\" class=\"data row0 col11\" >2.957535</td>\n",
       "      <td id=\"T_afbf4_row0_col12\" class=\"data row0 col12\" >2.271744</td>\n",
       "      <td id=\"T_afbf4_row0_col13\" class=\"data row0 col13\" >24451.560000</td>\n",
       "      <td id=\"T_afbf4_row0_col14\" class=\"data row0 col14\" >21749.461000</td>\n",
       "      <td id=\"T_afbf4_row0_col15\" class=\"data row0 col15\" >25348.816000</td>\n",
       "      <td id=\"T_afbf4_row0_col16\" class=\"data row0 col16\" >21759.856000</td>\n",
       "      <td id=\"T_afbf4_row0_col17\" class=\"data row0 col17\" >895.731174</td>\n",
       "      <td id=\"T_afbf4_row0_col18\" class=\"data row0 col18\" >144.775212</td>\n",
       "      <td id=\"T_afbf4_row0_col19\" class=\"data row0 col19\" >232.574362</td>\n",
       "      <td id=\"T_afbf4_row0_col20\" class=\"data row0 col20\" >237.032157</td>\n",
       "      <td id=\"T_afbf4_row0_col21\" class=\"data row0 col21\" >238.424630</td>\n",
       "      <td id=\"T_afbf4_row0_col22\" class=\"data row0 col22\" >1.250000</td>\n",
       "      <td id=\"T_afbf4_row0_col23\" class=\"data row0 col23\" >-60.645154</td>\n",
       "      <td id=\"T_afbf4_row0_col24\" class=\"data row0 col24\" >-63.724268</td>\n",
       "      <td id=\"T_afbf4_row0_col25\" class=\"data row0 col25\" >-64.686086</td>\n",
       "      <td id=\"T_afbf4_row0_col26\" class=\"data row0 col26\" >1.077137</td>\n",
       "      <td id=\"T_afbf4_row0_col27\" class=\"data row0 col27\" >0.445347</td>\n",
       "      <td id=\"T_afbf4_row0_col28\" class=\"data row0 col28\" >0.343959</td>\n",
       "      <td id=\"T_afbf4_row0_col29\" class=\"data row0 col29\" >0.425054</td>\n",
       "      <td id=\"T_afbf4_row0_col30\" class=\"data row0 col30\" >10248.600000</td>\n",
       "      <td id=\"T_afbf4_row0_col31\" class=\"data row0 col31\" >6366.660000</td>\n",
       "      <td id=\"T_afbf4_row0_col32\" class=\"data row0 col32\" >6397.716000</td>\n",
       "      <td id=\"T_afbf4_row0_col33\" class=\"data row0 col33\" >6467.800000</td>\n",
       "    </tr>\n",
       "    <tr>\n",
       "      <th id=\"T_afbf4_level0_row1\" class=\"row_heading level0 row1\" >50.000000</th>\n",
       "      <td id=\"T_afbf4_row1_col0\" class=\"data row1 col0\" >40970.862592</td>\n",
       "      <td id=\"T_afbf4_row1_col1\" class=\"data row1 col1\" >496.672566</td>\n",
       "      <td id=\"T_afbf4_row1_col2\" class=\"data row1 col2\" >566.883297</td>\n",
       "      <td id=\"T_afbf4_row1_col3\" class=\"data row1 col3\" >583.940117</td>\n",
       "      <td id=\"T_afbf4_row1_col4\" class=\"data row1 col4\" >565.835352</td>\n",
       "      <td id=\"T_afbf4_row1_col5\" class=\"data row1 col5\" >1.562500</td>\n",
       "      <td id=\"T_afbf4_row1_col6\" class=\"data row1 col6\" >-14.136221</td>\n",
       "      <td id=\"T_afbf4_row1_col7\" class=\"data row1 col7\" >-17.570439</td>\n",
       "      <td id=\"T_afbf4_row1_col8\" class=\"data row1 col8\" >-13.925228</td>\n",
       "      <td id=\"T_afbf4_row1_col9\" class=\"data row1 col9\" >6.051135</td>\n",
       "      <td id=\"T_afbf4_row1_col10\" class=\"data row1 col10\" >7.432592</td>\n",
       "      <td id=\"T_afbf4_row1_col11\" class=\"data row1 col11\" >6.905026</td>\n",
       "      <td id=\"T_afbf4_row1_col12\" class=\"data row1 col12\" >6.207920</td>\n",
       "      <td id=\"T_afbf4_row1_col13\" class=\"data row1 col13\" >48025.200000</td>\n",
       "      <td id=\"T_afbf4_row1_col14\" class=\"data row1 col14\" >52560.649000</td>\n",
       "      <td id=\"T_afbf4_row1_col15\" class=\"data row1 col15\" >57488.275000</td>\n",
       "      <td id=\"T_afbf4_row1_col16\" class=\"data row1 col16\" >52451.579000</td>\n",
       "      <td id=\"T_afbf4_row1_col17\" class=\"data row1 col17\" >1386.740339</td>\n",
       "      <td id=\"T_afbf4_row1_col18\" class=\"data row1 col18\" >499.187550</td>\n",
       "      <td id=\"T_afbf4_row1_col19\" class=\"data row1 col19\" >610.693073</td>\n",
       "      <td id=\"T_afbf4_row1_col20\" class=\"data row1 col20\" >606.549409</td>\n",
       "      <td id=\"T_afbf4_row1_col21\" class=\"data row1 col21\" >594.003773</td>\n",
       "      <td id=\"T_afbf4_row1_col22\" class=\"data row1 col22\" >1.562500</td>\n",
       "      <td id=\"T_afbf4_row1_col23\" class=\"data row1 col23\" >-22.337401</td>\n",
       "      <td id=\"T_afbf4_row1_col24\" class=\"data row1 col24\" >-21.507319</td>\n",
       "      <td id=\"T_afbf4_row1_col25\" class=\"data row1 col25\" >-18.994108</td>\n",
       "      <td id=\"T_afbf4_row1_col26\" class=\"data row1 col26\" >1.866226</td>\n",
       "      <td id=\"T_afbf4_row1_col27\" class=\"data row1 col27\" >1.260102</td>\n",
       "      <td id=\"T_afbf4_row1_col28\" class=\"data row1 col28\" >0.679706</td>\n",
       "      <td id=\"T_afbf4_row1_col29\" class=\"data row1 col29\" >0.777515</td>\n",
       "      <td id=\"T_afbf4_row1_col30\" class=\"data row1 col30\" >15403.900000</td>\n",
       "      <td id=\"T_afbf4_row1_col31\" class=\"data row1 col31\" >10695.798000</td>\n",
       "      <td id=\"T_afbf4_row1_col32\" class=\"data row1 col32\" >10472.705000</td>\n",
       "      <td id=\"T_afbf4_row1_col33\" class=\"data row1 col33\" >10655.952000</td>\n",
       "    </tr>\n",
       "    <tr>\n",
       "      <th id=\"T_afbf4_level0_row2\" class=\"row_heading level0 row2\" >60.000000</th>\n",
       "      <td id=\"T_afbf4_row2_col0\" class=\"data row2 col0\" >54639.014740</td>\n",
       "      <td id=\"T_afbf4_row2_col1\" class=\"data row2 col1\" >857.944434</td>\n",
       "      <td id=\"T_afbf4_row2_col2\" class=\"data row2 col2\" >938.277453</td>\n",
       "      <td id=\"T_afbf4_row2_col3\" class=\"data row2 col3\" >947.754278</td>\n",
       "      <td id=\"T_afbf4_row2_col4\" class=\"data row2 col4\" >938.537998</td>\n",
       "      <td id=\"T_afbf4_row2_col5\" class=\"data row2 col5\" >1.875000</td>\n",
       "      <td id=\"T_afbf4_row2_col6\" class=\"data row2 col6\" >-9.363429</td>\n",
       "      <td id=\"T_afbf4_row2_col7\" class=\"data row2 col7\" >-10.468026</td>\n",
       "      <td id=\"T_afbf4_row2_col8\" class=\"data row2 col8\" >-9.393798</td>\n",
       "      <td id=\"T_afbf4_row2_col9\" class=\"data row2 col9\" >10.657581</td>\n",
       "      <td id=\"T_afbf4_row2_col10\" class=\"data row2 col10\" >15.282025</td>\n",
       "      <td id=\"T_afbf4_row2_col11\" class=\"data row2 col11\" >13.993397</td>\n",
       "      <td id=\"T_afbf4_row2_col12\" class=\"data row2 col12\" >13.146848</td>\n",
       "      <td id=\"T_afbf4_row2_col13\" class=\"data row2 col13\" >80212.500000</td>\n",
       "      <td id=\"T_afbf4_row2_col14\" class=\"data row2 col14\" >100750.080000</td>\n",
       "      <td id=\"T_afbf4_row2_col15\" class=\"data row2 col15\" >107030.432000</td>\n",
       "      <td id=\"T_afbf4_row2_col16\" class=\"data row2 col16\" >101062.563000</td>\n",
       "      <td id=\"T_afbf4_row2_col17\" class=\"data row2 col17\" >1948.501131</td>\n",
       "      <td id=\"T_afbf4_row2_col18\" class=\"data row2 col18\" >935.321023</td>\n",
       "      <td id=\"T_afbf4_row2_col19\" class=\"data row2 col19\" >1011.073927</td>\n",
       "      <td id=\"T_afbf4_row2_col20\" class=\"data row2 col20\" >1007.494641</td>\n",
       "      <td id=\"T_afbf4_row2_col21\" class=\"data row2 col21\" >1009.919890</td>\n",
       "      <td id=\"T_afbf4_row2_col22\" class=\"data row2 col22\" >1.875000</td>\n",
       "      <td id=\"T_afbf4_row2_col23\" class=\"data row2 col23\" >-8.099134</td>\n",
       "      <td id=\"T_afbf4_row2_col24\" class=\"data row2 col24\" >-7.716454</td>\n",
       "      <td id=\"T_afbf4_row2_col25\" class=\"data row2 col25\" >-7.975750</td>\n",
       "      <td id=\"T_afbf4_row2_col26\" class=\"data row2 col26\" >3.201368</td>\n",
       "      <td id=\"T_afbf4_row2_col27\" class=\"data row2 col27\" >2.400040</td>\n",
       "      <td id=\"T_afbf4_row2_col28\" class=\"data row2 col28\" >1.461219</td>\n",
       "      <td id=\"T_afbf4_row2_col29\" class=\"data row2 col29\" >1.399594</td>\n",
       "      <td id=\"T_afbf4_row2_col30\" class=\"data row2 col30\" >24299.040000</td>\n",
       "      <td id=\"T_afbf4_row2_col31\" class=\"data row2 col31\" >16032.046000</td>\n",
       "      <td id=\"T_afbf4_row2_col32\" class=\"data row2 col32\" >16511.758000</td>\n",
       "      <td id=\"T_afbf4_row2_col33\" class=\"data row2 col33\" >16299.677000</td>\n",
       "    </tr>\n",
       "    <tr>\n",
       "      <th id=\"T_afbf4_level0_row3\" class=\"row_heading level0 row3\" >70.000000</th>\n",
       "      <td id=\"T_afbf4_row3_col0\" class=\"data row3 col0\" >69007.847171</td>\n",
       "      <td id=\"T_afbf4_row3_col1\" class=\"data row3 col1\" >1246.797577</td>\n",
       "      <td id=\"T_afbf4_row3_col2\" class=\"data row3 col2\" >1328.246927</td>\n",
       "      <td id=\"T_afbf4_row3_col3\" class=\"data row3 col3\" >1333.427328</td>\n",
       "      <td id=\"T_afbf4_row3_col4\" class=\"data row3 col4\" >1328.669611</td>\n",
       "      <td id=\"T_afbf4_row3_col5\" class=\"data row3 col5\" >2.187500</td>\n",
       "      <td id=\"T_afbf4_row3_col6\" class=\"data row3 col6\" >-6.532684</td>\n",
       "      <td id=\"T_afbf4_row3_col7\" class=\"data row3 col7\" >-6.948181</td>\n",
       "      <td id=\"T_afbf4_row3_col8\" class=\"data row3 col8\" >-6.566586</td>\n",
       "      <td id=\"T_afbf4_row3_col9\" class=\"data row3 col9\" >16.652781</td>\n",
       "      <td id=\"T_afbf4_row3_col10\" class=\"data row3 col10\" >26.842428</td>\n",
       "      <td id=\"T_afbf4_row3_col11\" class=\"data row3 col11\" >23.957581</td>\n",
       "      <td id=\"T_afbf4_row3_col12\" class=\"data row3 col12\" >23.551961</td>\n",
       "      <td id=\"T_afbf4_row3_col13\" class=\"data row3 col13\" >121591.610000</td>\n",
       "      <td id=\"T_afbf4_row3_col14\" class=\"data row3 col14\" >170468.301000</td>\n",
       "      <td id=\"T_afbf4_row3_col15\" class=\"data row3 col15\" >175763.009000</td>\n",
       "      <td id=\"T_afbf4_row3_col16\" class=\"data row3 col16\" >171051.635000</td>\n",
       "      <td id=\"T_afbf4_row3_col17\" class=\"data row3 col17\" >2522.845789</td>\n",
       "      <td id=\"T_afbf4_row3_col18\" class=\"data row3 col18\" >1392.008090</td>\n",
       "      <td id=\"T_afbf4_row3_col19\" class=\"data row3 col19\" >1439.649274</td>\n",
       "      <td id=\"T_afbf4_row3_col20\" class=\"data row3 col20\" >1432.756669</td>\n",
       "      <td id=\"T_afbf4_row3_col21\" class=\"data row3 col21\" >1441.366680</td>\n",
       "      <td id=\"T_afbf4_row3_col22\" class=\"data row3 col22\" >2.187500</td>\n",
       "      <td id=\"T_afbf4_row3_col23\" class=\"data row3 col23\" >-3.422479</td>\n",
       "      <td id=\"T_afbf4_row3_col24\" class=\"data row3 col24\" >-2.927323</td>\n",
       "      <td id=\"T_afbf4_row3_col25\" class=\"data row3 col25\" >-3.545855</td>\n",
       "      <td id=\"T_afbf4_row3_col26\" class=\"data row3 col26\" >4.929777</td>\n",
       "      <td id=\"T_afbf4_row3_col27\" class=\"data row3 col27\" >3.692212</td>\n",
       "      <td id=\"T_afbf4_row3_col28\" class=\"data row3 col28\" >2.791381</td>\n",
       "      <td id=\"T_afbf4_row3_col29\" class=\"data row3 col29\" >2.487617</td>\n",
       "      <td id=\"T_afbf4_row3_col30\" class=\"data row3 col30\" >35557.620000</td>\n",
       "      <td id=\"T_afbf4_row3_col31\" class=\"data row3 col31\" >23428.993000</td>\n",
       "      <td id=\"T_afbf4_row3_col32\" class=\"data row3 col32\" >23669.442000</td>\n",
       "      <td id=\"T_afbf4_row3_col33\" class=\"data row3 col33\" >23998.285000</td>\n",
       "    </tr>\n",
       "    <tr>\n",
       "      <th id=\"T_afbf4_level0_row4\" class=\"row_heading level0 row4\" >80.000000</th>\n",
       "      <td id=\"T_afbf4_row4_col0\" class=\"data row4 col0\" >84144.269157</td>\n",
       "      <td id=\"T_afbf4_row4_col1\" class=\"data row4 col1\" >1647.371163</td>\n",
       "      <td id=\"T_afbf4_row4_col2\" class=\"data row4 col2\" >1730.436709</td>\n",
       "      <td id=\"T_afbf4_row4_col3\" class=\"data row4 col3\" >1737.767092</td>\n",
       "      <td id=\"T_afbf4_row4_col4\" class=\"data row4 col4\" >1729.784672</td>\n",
       "      <td id=\"T_afbf4_row4_col5\" class=\"data row4 col5\" >2.500000</td>\n",
       "      <td id=\"T_afbf4_row4_col6\" class=\"data row4 col6\" >-5.042309</td>\n",
       "      <td id=\"T_afbf4_row4_col7\" class=\"data row4 col7\" >-5.487284</td>\n",
       "      <td id=\"T_afbf4_row4_col8\" class=\"data row4 col8\" >-5.002729</td>\n",
       "      <td id=\"T_afbf4_row4_col9\" class=\"data row4 col9\" >25.986629</td>\n",
       "      <td id=\"T_afbf4_row4_col10\" class=\"data row4 col10\" >45.902760</td>\n",
       "      <td id=\"T_afbf4_row4_col11\" class=\"data row4 col11\" >40.622212</td>\n",
       "      <td id=\"T_afbf4_row4_col12\" class=\"data row4 col12\" >39.649902</td>\n",
       "      <td id=\"T_afbf4_row4_col13\" class=\"data row4 col13\" >171400.240000</td>\n",
       "      <td id=\"T_afbf4_row4_col14\" class=\"data row4 col14\" >263472.295000</td>\n",
       "      <td id=\"T_afbf4_row4_col15\" class=\"data row4 col15\" >269463.149000</td>\n",
       "      <td id=\"T_afbf4_row4_col16\" class=\"data row4 col16\" >262969.682000</td>\n",
       "      <td id=\"T_afbf4_row4_col17\" class=\"data row4 col17\" >3206.629795</td>\n",
       "      <td id=\"T_afbf4_row4_col18\" class=\"data row4 col18\" >1869.686462</td>\n",
       "      <td id=\"T_afbf4_row4_col19\" class=\"data row4 col19\" >1889.150012</td>\n",
       "      <td id=\"T_afbf4_row4_col20\" class=\"data row4 col20\" >1878.719206</td>\n",
       "      <td id=\"T_afbf4_row4_col21\" class=\"data row4 col21\" >1887.105191</td>\n",
       "      <td id=\"T_afbf4_row4_col22\" class=\"data row4 col22\" >2.500000</td>\n",
       "      <td id=\"T_afbf4_row4_col23\" class=\"data row4 col23\" >-1.041006</td>\n",
       "      <td id=\"T_afbf4_row4_col24\" class=\"data row4 col24\" >-0.483115</td>\n",
       "      <td id=\"T_afbf4_row4_col25\" class=\"data row4 col25\" >-0.931639</td>\n",
       "      <td id=\"T_afbf4_row4_col26\" class=\"data row4 col26\" >7.541179</td>\n",
       "      <td id=\"T_afbf4_row4_col27\" class=\"data row4 col27\" >5.760697</td>\n",
       "      <td id=\"T_afbf4_row4_col28\" class=\"data row4 col28\" >4.686845</td>\n",
       "      <td id=\"T_afbf4_row4_col29\" class=\"data row4 col29\" >4.111714</td>\n",
       "      <td id=\"T_afbf4_row4_col30\" class=\"data row4 col30\" >50376.240000</td>\n",
       "      <td id=\"T_afbf4_row4_col31\" class=\"data row4 col31\" >32729.513000</td>\n",
       "      <td id=\"T_afbf4_row4_col32\" class=\"data row4 col32\" >33312.995000</td>\n",
       "      <td id=\"T_afbf4_row4_col33\" class=\"data row4 col33\" >32872.577000</td>\n",
       "    </tr>\n",
       "    <tr>\n",
       "      <th id=\"T_afbf4_level0_row5\" class=\"row_heading level0 row5\" >90.000000</th>\n",
       "      <td id=\"T_afbf4_row5_col0\" class=\"data row5 col0\" >100027.785499</td>\n",
       "      <td id=\"T_afbf4_row5_col1\" class=\"data row5 col1\" >2082.269470</td>\n",
       "      <td id=\"T_afbf4_row5_col2\" class=\"data row5 col2\" >2147.247013</td>\n",
       "      <td id=\"T_afbf4_row5_col3\" class=\"data row5 col3\" >2135.548656</td>\n",
       "      <td id=\"T_afbf4_row5_col4\" class=\"data row5 col4\" >2134.873196</td>\n",
       "      <td id=\"T_afbf4_row5_col5\" class=\"data row5 col5\" >2.812500</td>\n",
       "      <td id=\"T_afbf4_row5_col6\" class=\"data row5 col6\" >-3.120516</td>\n",
       "      <td id=\"T_afbf4_row5_col7\" class=\"data row5 col7\" >-2.558708</td>\n",
       "      <td id=\"T_afbf4_row5_col8\" class=\"data row5 col8\" >-2.526269</td>\n",
       "      <td id=\"T_afbf4_row5_col9\" class=\"data row5 col9\" >33.220152</td>\n",
       "      <td id=\"T_afbf4_row5_col10\" class=\"data row5 col10\" >62.589254</td>\n",
       "      <td id=\"T_afbf4_row5_col11\" class=\"data row5 col11\" >56.634429</td>\n",
       "      <td id=\"T_afbf4_row5_col12\" class=\"data row5 col12\" >58.383451</td>\n",
       "      <td id=\"T_afbf4_row5_col13\" class=\"data row5 col13\" >230367.510000</td>\n",
       "      <td id=\"T_afbf4_row5_col14\" class=\"data row5 col14\" >380406.502000</td>\n",
       "      <td id=\"T_afbf4_row5_col15\" class=\"data row5 col15\" >386960.307000</td>\n",
       "      <td id=\"T_afbf4_row5_col16\" class=\"data row5 col16\" >381821.810000</td>\n",
       "      <td id=\"T_afbf4_row5_col17\" class=\"data row5 col17\" >3865.297673</td>\n",
       "      <td id=\"T_afbf4_row5_col18\" class=\"data row5 col18\" >2326.296403</td>\n",
       "      <td id=\"T_afbf4_row5_col19\" class=\"data row5 col19\" >2359.046976</td>\n",
       "      <td id=\"T_afbf4_row5_col20\" class=\"data row5 col20\" >2359.380470</td>\n",
       "      <td id=\"T_afbf4_row5_col21\" class=\"data row5 col21\" >2357.349828</td>\n",
       "      <td id=\"T_afbf4_row5_col22\" class=\"data row5 col22\" >2.812500</td>\n",
       "      <td id=\"T_afbf4_row5_col23\" class=\"data row5 col23\" >-1.407842</td>\n",
       "      <td id=\"T_afbf4_row5_col24\" class=\"data row5 col24\" >-1.422178</td>\n",
       "      <td id=\"T_afbf4_row5_col25\" class=\"data row5 col25\" >-1.334887</td>\n",
       "      <td id=\"T_afbf4_row5_col26\" class=\"data row5 col26\" >10.665208</td>\n",
       "      <td id=\"T_afbf4_row5_col27\" class=\"data row5 col27\" >7.310411</td>\n",
       "      <td id=\"T_afbf4_row5_col28\" class=\"data row5 col28\" >5.720004</td>\n",
       "      <td id=\"T_afbf4_row5_col29\" class=\"data row5 col29\" >5.611081</td>\n",
       "      <td id=\"T_afbf4_row5_col30\" class=\"data row5 col30\" >68377.320000</td>\n",
       "      <td id=\"T_afbf4_row5_col31\" class=\"data row5 col31\" >43162.984000</td>\n",
       "      <td id=\"T_afbf4_row5_col32\" class=\"data row5 col32\" >42343.059000</td>\n",
       "      <td id=\"T_afbf4_row5_col33\" class=\"data row5 col33\" >44287.487000</td>\n",
       "    </tr>\n",
       "  </tbody>\n",
       "</table>\n"
      ],
      "text/plain": [
       "<pandas.io.formats.style.Styler at 0x22270cd7850>"
      ]
     },
     "metadata": {},
     "output_type": "display_data"
    },
    {
     "name": "stdout",
     "output_type": "stream",
     "text": [
      "None\n",
      "Pour le nombre de clusters :  64\n"
     ]
    },
    {
     "data": {
      "text/html": [
       "<style type=\"text/css\">\n",
       "#T_fbe36_row0_col6 {\n",
       "  background-color: #b61319;\n",
       "  color: #f1f1f1;\n",
       "}\n",
       "#T_fbe36_row0_col7, #T_fbe36_row0_col23, #T_fbe36_row0_col25 {\n",
       "  background-color: #67000d;\n",
       "  color: #f1f1f1;\n",
       "}\n",
       "#T_fbe36_row0_col8 {\n",
       "  background-color: #bb141a;\n",
       "  color: #f1f1f1;\n",
       "}\n",
       "#T_fbe36_row0_col24 {\n",
       "  background-color: #6f020e;\n",
       "  color: #f1f1f1;\n",
       "}\n",
       "#T_fbe36_row1_col6 {\n",
       "  background-color: #f14432;\n",
       "  color: #f1f1f1;\n",
       "}\n",
       "#T_fbe36_row1_col7 {\n",
       "  background-color: #db2824;\n",
       "  color: #f1f1f1;\n",
       "}\n",
       "#T_fbe36_row1_col8 {\n",
       "  background-color: #f44d38;\n",
       "  color: #f1f1f1;\n",
       "}\n",
       "#T_fbe36_row1_col23 {\n",
       "  background-color: #fc997a;\n",
       "  color: #000000;\n",
       "}\n",
       "#T_fbe36_row1_col24 {\n",
       "  background-color: #fca183;\n",
       "  color: #000000;\n",
       "}\n",
       "#T_fbe36_row1_col25 {\n",
       "  background-color: #fc9c7d;\n",
       "  color: #000000;\n",
       "}\n",
       "#T_fbe36_row2_col6 {\n",
       "  background-color: #fb7656;\n",
       "  color: #f1f1f1;\n",
       "}\n",
       "#T_fbe36_row2_col7 {\n",
       "  background-color: #fa6849;\n",
       "  color: #f1f1f1;\n",
       "}\n",
       "#T_fbe36_row2_col8 {\n",
       "  background-color: #fb7858;\n",
       "  color: #f1f1f1;\n",
       "}\n",
       "#T_fbe36_row2_col23, #T_fbe36_row2_col25 {\n",
       "  background-color: #fdd4c2;\n",
       "  color: #000000;\n",
       "}\n",
       "#T_fbe36_row2_col24 {\n",
       "  background-color: #fdd7c6;\n",
       "  color: #000000;\n",
       "}\n",
       "</style>\n",
       "<table id=\"T_fbe36\">\n",
       "  <thead>\n",
       "    <tr>\n",
       "      <th class=\"blank level0\" >&nbsp;</th>\n",
       "      <th id=\"T_fbe36_level0_col0\" class=\"col_heading level0 col0\" colspan=\"17\">random</th>\n",
       "      <th id=\"T_fbe36_level0_col17\" class=\"col_heading level0 col17\" colspan=\"17\">kmean+</th>\n",
       "    </tr>\n",
       "    <tr>\n",
       "      <th class=\"blank level1\" >&nbsp;</th>\n",
       "      <th id=\"T_fbe36_level1_col0\" class=\"col_heading level1 col0\" colspan=\"5\">Coût final</th>\n",
       "      <th id=\"T_fbe36_level1_col5\" class=\"col_heading level1 col5\" colspan=\"4\">% amélioration</th>\n",
       "      <th id=\"T_fbe36_level1_col9\" class=\"col_heading level1 col9\" colspan=\"4\">Temps d'exécution (s)</th>\n",
       "      <th id=\"T_fbe36_level1_col13\" class=\"col_heading level1 col13\" colspan=\"4\">Nombre d'itérations</th>\n",
       "      <th id=\"T_fbe36_level1_col17\" class=\"col_heading level1 col17\" colspan=\"5\">Coût final</th>\n",
       "      <th id=\"T_fbe36_level1_col22\" class=\"col_heading level1 col22\" colspan=\"4\">% amélioration</th>\n",
       "      <th id=\"T_fbe36_level1_col26\" class=\"col_heading level1 col26\" colspan=\"4\">Temps d'exécution (s)</th>\n",
       "      <th id=\"T_fbe36_level1_col30\" class=\"col_heading level1 col30\" colspan=\"4\">Nombre d'itérations</th>\n",
       "    </tr>\n",
       "    <tr>\n",
       "      <th class=\"blank level2\" >&nbsp;</th>\n",
       "      <th id=\"T_fbe36_level2_col0\" class=\"col_heading level2 col0\" colspan=\"2\">BI_BACK</th>\n",
       "      <th id=\"T_fbe36_level2_col2\" class=\"col_heading level2 col2\" >FI_CURR</th>\n",
       "      <th id=\"T_fbe36_level2_col3\" class=\"col_heading level2 col3\" >FI_BACK</th>\n",
       "      <th id=\"T_fbe36_level2_col4\" class=\"col_heading level2 col4\" >FI_RANDOM</th>\n",
       "      <th id=\"T_fbe36_level2_col5\" class=\"col_heading level2 col5\" >points/centroid</th>\n",
       "      <th id=\"T_fbe36_level2_col6\" class=\"col_heading level2 col6\" >FI_CURR</th>\n",
       "      <th id=\"T_fbe36_level2_col7\" class=\"col_heading level2 col7\" >FI_BACK</th>\n",
       "      <th id=\"T_fbe36_level2_col8\" class=\"col_heading level2 col8\" >FI_RANDOM</th>\n",
       "      <th id=\"T_fbe36_level2_col9\" class=\"col_heading level2 col9\" >BI_BACK</th>\n",
       "      <th id=\"T_fbe36_level2_col10\" class=\"col_heading level2 col10\" >FI_CURR</th>\n",
       "      <th id=\"T_fbe36_level2_col11\" class=\"col_heading level2 col11\" >FI_BACK</th>\n",
       "      <th id=\"T_fbe36_level2_col12\" class=\"col_heading level2 col12\" >FI_RANDOM</th>\n",
       "      <th id=\"T_fbe36_level2_col13\" class=\"col_heading level2 col13\" >BI_BACK</th>\n",
       "      <th id=\"T_fbe36_level2_col14\" class=\"col_heading level2 col14\" >FI_CURR</th>\n",
       "      <th id=\"T_fbe36_level2_col15\" class=\"col_heading level2 col15\" >FI_BACK</th>\n",
       "      <th id=\"T_fbe36_level2_col16\" class=\"col_heading level2 col16\" >FI_RANDOM</th>\n",
       "      <th id=\"T_fbe36_level2_col17\" class=\"col_heading level2 col17\" colspan=\"2\">BI_BACK</th>\n",
       "      <th id=\"T_fbe36_level2_col19\" class=\"col_heading level2 col19\" >FI_CURR</th>\n",
       "      <th id=\"T_fbe36_level2_col20\" class=\"col_heading level2 col20\" >FI_BACK</th>\n",
       "      <th id=\"T_fbe36_level2_col21\" class=\"col_heading level2 col21\" >FI_RANDOM</th>\n",
       "      <th id=\"T_fbe36_level2_col22\" class=\"col_heading level2 col22\" >points/centroid</th>\n",
       "      <th id=\"T_fbe36_level2_col23\" class=\"col_heading level2 col23\" >FI_CURR</th>\n",
       "      <th id=\"T_fbe36_level2_col24\" class=\"col_heading level2 col24\" >FI_BACK</th>\n",
       "      <th id=\"T_fbe36_level2_col25\" class=\"col_heading level2 col25\" >FI_RANDOM</th>\n",
       "      <th id=\"T_fbe36_level2_col26\" class=\"col_heading level2 col26\" >BI_BACK</th>\n",
       "      <th id=\"T_fbe36_level2_col27\" class=\"col_heading level2 col27\" >FI_CURR</th>\n",
       "      <th id=\"T_fbe36_level2_col28\" class=\"col_heading level2 col28\" >FI_BACK</th>\n",
       "      <th id=\"T_fbe36_level2_col29\" class=\"col_heading level2 col29\" >FI_RANDOM</th>\n",
       "      <th id=\"T_fbe36_level2_col30\" class=\"col_heading level2 col30\" >BI_BACK</th>\n",
       "      <th id=\"T_fbe36_level2_col31\" class=\"col_heading level2 col31\" >FI_CURR</th>\n",
       "      <th id=\"T_fbe36_level2_col32\" class=\"col_heading level2 col32\" >FI_BACK</th>\n",
       "      <th id=\"T_fbe36_level2_col33\" class=\"col_heading level2 col33\" >FI_RANDOM</th>\n",
       "    </tr>\n",
       "    <tr>\n",
       "      <th class=\"blank level3\" >&nbsp;</th>\n",
       "      <th id=\"T_fbe36_level3_col0\" class=\"col_heading level3 col0\" >init_cost</th>\n",
       "      <th id=\"T_fbe36_level3_col1\" class=\"col_heading level3 col1\" >end_cost</th>\n",
       "      <th id=\"T_fbe36_level3_col2\" class=\"col_heading level3 col2\" >end_cost</th>\n",
       "      <th id=\"T_fbe36_level3_col3\" class=\"col_heading level3 col3\" >end_cost</th>\n",
       "      <th id=\"T_fbe36_level3_col4\" class=\"col_heading level3 col4\" >end_cost</th>\n",
       "      <th id=\"T_fbe36_level3_col5\" class=\"col_heading level3 col5\" ></th>\n",
       "      <th id=\"T_fbe36_level3_col6\" class=\"col_heading level3 col6\" >end_cost</th>\n",
       "      <th id=\"T_fbe36_level3_col7\" class=\"col_heading level3 col7\" >end_cost</th>\n",
       "      <th id=\"T_fbe36_level3_col8\" class=\"col_heading level3 col8\" >end_cost</th>\n",
       "      <th id=\"T_fbe36_level3_col9\" class=\"col_heading level3 col9\" >time</th>\n",
       "      <th id=\"T_fbe36_level3_col10\" class=\"col_heading level3 col10\" >time</th>\n",
       "      <th id=\"T_fbe36_level3_col11\" class=\"col_heading level3 col11\" >time</th>\n",
       "      <th id=\"T_fbe36_level3_col12\" class=\"col_heading level3 col12\" >time</th>\n",
       "      <th id=\"T_fbe36_level3_col13\" class=\"col_heading level3 col13\" >num_iter_tot</th>\n",
       "      <th id=\"T_fbe36_level3_col14\" class=\"col_heading level3 col14\" >num_iter_tot</th>\n",
       "      <th id=\"T_fbe36_level3_col15\" class=\"col_heading level3 col15\" >num_iter_tot</th>\n",
       "      <th id=\"T_fbe36_level3_col16\" class=\"col_heading level3 col16\" >num_iter_tot</th>\n",
       "      <th id=\"T_fbe36_level3_col17\" class=\"col_heading level3 col17\" >init_cost</th>\n",
       "      <th id=\"T_fbe36_level3_col18\" class=\"col_heading level3 col18\" >end_cost</th>\n",
       "      <th id=\"T_fbe36_level3_col19\" class=\"col_heading level3 col19\" >end_cost</th>\n",
       "      <th id=\"T_fbe36_level3_col20\" class=\"col_heading level3 col20\" >end_cost</th>\n",
       "      <th id=\"T_fbe36_level3_col21\" class=\"col_heading level3 col21\" >end_cost</th>\n",
       "      <th id=\"T_fbe36_level3_col22\" class=\"col_heading level3 col22\" ></th>\n",
       "      <th id=\"T_fbe36_level3_col23\" class=\"col_heading level3 col23\" >end_cost</th>\n",
       "      <th id=\"T_fbe36_level3_col24\" class=\"col_heading level3 col24\" >end_cost</th>\n",
       "      <th id=\"T_fbe36_level3_col25\" class=\"col_heading level3 col25\" >end_cost</th>\n",
       "      <th id=\"T_fbe36_level3_col26\" class=\"col_heading level3 col26\" >time</th>\n",
       "      <th id=\"T_fbe36_level3_col27\" class=\"col_heading level3 col27\" >time</th>\n",
       "      <th id=\"T_fbe36_level3_col28\" class=\"col_heading level3 col28\" >time</th>\n",
       "      <th id=\"T_fbe36_level3_col29\" class=\"col_heading level3 col29\" >time</th>\n",
       "      <th id=\"T_fbe36_level3_col30\" class=\"col_heading level3 col30\" >num_iter_tot</th>\n",
       "      <th id=\"T_fbe36_level3_col31\" class=\"col_heading level3 col31\" >num_iter_tot</th>\n",
       "      <th id=\"T_fbe36_level3_col32\" class=\"col_heading level3 col32\" >num_iter_tot</th>\n",
       "      <th id=\"T_fbe36_level3_col33\" class=\"col_heading level3 col33\" >num_iter_tot</th>\n",
       "    </tr>\n",
       "    <tr>\n",
       "      <th class=\"index_name level0\" >Nb. points</th>\n",
       "      <th class=\"blank col0\" >&nbsp;</th>\n",
       "      <th class=\"blank col1\" >&nbsp;</th>\n",
       "      <th class=\"blank col2\" >&nbsp;</th>\n",
       "      <th class=\"blank col3\" >&nbsp;</th>\n",
       "      <th class=\"blank col4\" >&nbsp;</th>\n",
       "      <th class=\"blank col5\" >&nbsp;</th>\n",
       "      <th class=\"blank col6\" >&nbsp;</th>\n",
       "      <th class=\"blank col7\" >&nbsp;</th>\n",
       "      <th class=\"blank col8\" >&nbsp;</th>\n",
       "      <th class=\"blank col9\" >&nbsp;</th>\n",
       "      <th class=\"blank col10\" >&nbsp;</th>\n",
       "      <th class=\"blank col11\" >&nbsp;</th>\n",
       "      <th class=\"blank col12\" >&nbsp;</th>\n",
       "      <th class=\"blank col13\" >&nbsp;</th>\n",
       "      <th class=\"blank col14\" >&nbsp;</th>\n",
       "      <th class=\"blank col15\" >&nbsp;</th>\n",
       "      <th class=\"blank col16\" >&nbsp;</th>\n",
       "      <th class=\"blank col17\" >&nbsp;</th>\n",
       "      <th class=\"blank col18\" >&nbsp;</th>\n",
       "      <th class=\"blank col19\" >&nbsp;</th>\n",
       "      <th class=\"blank col20\" >&nbsp;</th>\n",
       "      <th class=\"blank col21\" >&nbsp;</th>\n",
       "      <th class=\"blank col22\" >&nbsp;</th>\n",
       "      <th class=\"blank col23\" >&nbsp;</th>\n",
       "      <th class=\"blank col24\" >&nbsp;</th>\n",
       "      <th class=\"blank col25\" >&nbsp;</th>\n",
       "      <th class=\"blank col26\" >&nbsp;</th>\n",
       "      <th class=\"blank col27\" >&nbsp;</th>\n",
       "      <th class=\"blank col28\" >&nbsp;</th>\n",
       "      <th class=\"blank col29\" >&nbsp;</th>\n",
       "      <th class=\"blank col30\" >&nbsp;</th>\n",
       "      <th class=\"blank col31\" >&nbsp;</th>\n",
       "      <th class=\"blank col32\" >&nbsp;</th>\n",
       "      <th class=\"blank col33\" >&nbsp;</th>\n",
       "    </tr>\n",
       "  </thead>\n",
       "  <tbody>\n",
       "    <tr>\n",
       "      <th id=\"T_fbe36_level0_row0\" class=\"row_heading level0 row0\" >70.000000</th>\n",
       "      <td id=\"T_fbe36_row0_col0\" class=\"data row0 col0\" >45587.428386</td>\n",
       "      <td id=\"T_fbe36_row0_col1\" class=\"data row0 col1\" >62.205604</td>\n",
       "      <td id=\"T_fbe36_row0_col2\" class=\"data row0 col2\" >82.671756</td>\n",
       "      <td id=\"T_fbe36_row0_col3\" class=\"data row0 col3\" >87.168798</td>\n",
       "      <td id=\"T_fbe36_row0_col4\" class=\"data row0 col4\" >82.233995</td>\n",
       "      <td id=\"T_fbe36_row0_col5\" class=\"data row0 col5\" >1.093750</td>\n",
       "      <td id=\"T_fbe36_row0_col6\" class=\"data row0 col6\" >-32.900817</td>\n",
       "      <td id=\"T_fbe36_row0_col7\" class=\"data row0 col7\" >-40.130135</td>\n",
       "      <td id=\"T_fbe36_row0_col8\" class=\"data row0 col8\" >-32.197084</td>\n",
       "      <td id=\"T_fbe36_row0_col9\" class=\"data row0 col9\" >14.335862</td>\n",
       "      <td id=\"T_fbe36_row0_col10\" class=\"data row0 col10\" >12.807295</td>\n",
       "      <td id=\"T_fbe36_row0_col11\" class=\"data row0 col11\" >14.422299</td>\n",
       "      <td id=\"T_fbe36_row0_col12\" class=\"data row0 col12\" >9.859295</td>\n",
       "      <td id=\"T_fbe36_row0_col13\" class=\"data row0 col13\" >129821.580000</td>\n",
       "      <td id=\"T_fbe36_row0_col14\" class=\"data row0 col14\" >110512.429000</td>\n",
       "      <td id=\"T_fbe36_row0_col15\" class=\"data row0 col15\" >148978.461000</td>\n",
       "      <td id=\"T_fbe36_row0_col16\" class=\"data row0 col16\" >104663.727000</td>\n",
       "      <td id=\"T_fbe36_row0_col17\" class=\"data row0 col17\" >847.534954</td>\n",
       "      <td id=\"T_fbe36_row0_col18\" class=\"data row0 col18\" >23.486924</td>\n",
       "      <td id=\"T_fbe36_row0_col19\" class=\"data row0 col19\" >79.488077</td>\n",
       "      <td id=\"T_fbe36_row0_col20\" class=\"data row0 col20\" >78.675528</td>\n",
       "      <td id=\"T_fbe36_row0_col21\" class=\"data row0 col21\" >79.752222</td>\n",
       "      <td id=\"T_fbe36_row0_col22\" class=\"data row0 col22\" >1.093750</td>\n",
       "      <td id=\"T_fbe36_row0_col23\" class=\"data row0 col23\" >-238.435454</td>\n",
       "      <td id=\"T_fbe36_row0_col24\" class=\"data row0 col24\" >-234.975875</td>\n",
       "      <td id=\"T_fbe36_row0_col25\" class=\"data row0 col25\" >-239.560100</td>\n",
       "      <td id=\"T_fbe36_row0_col26\" class=\"data row0 col26\" >9.138500</td>\n",
       "      <td id=\"T_fbe36_row0_col27\" class=\"data row0 col27\" >3.961745</td>\n",
       "      <td id=\"T_fbe36_row0_col28\" class=\"data row0 col28\" >2.591514</td>\n",
       "      <td id=\"T_fbe36_row0_col29\" class=\"data row0 col29\" >2.759026</td>\n",
       "      <td id=\"T_fbe36_row0_col30\" class=\"data row0 col30\" >83062.350000</td>\n",
       "      <td id=\"T_fbe36_row0_col31\" class=\"data row0 col31\" >41939.436000</td>\n",
       "      <td id=\"T_fbe36_row0_col32\" class=\"data row0 col32\" >43419.538000</td>\n",
       "      <td id=\"T_fbe36_row0_col33\" class=\"data row0 col33\" >41191.458000</td>\n",
       "    </tr>\n",
       "    <tr>\n",
       "      <th id=\"T_fbe36_level0_row1\" class=\"row_heading level0 row1\" >80.000000</th>\n",
       "      <td id=\"T_fbe36_row1_col0\" class=\"data row1 col0\" >57266.160462</td>\n",
       "      <td id=\"T_fbe36_row1_col1\" class=\"data row1 col1\" >187.056277</td>\n",
       "      <td id=\"T_fbe36_row1_col2\" class=\"data row1 col2\" >231.744376</td>\n",
       "      <td id=\"T_fbe36_row1_col3\" class=\"data row1 col3\" >238.951730</td>\n",
       "      <td id=\"T_fbe36_row1_col4\" class=\"data row1 col4\" >230.386727</td>\n",
       "      <td id=\"T_fbe36_row1_col5\" class=\"data row1 col5\" >1.250000</td>\n",
       "      <td id=\"T_fbe36_row1_col6\" class=\"data row1 col6\" >-23.890190</td>\n",
       "      <td id=\"T_fbe36_row1_col7\" class=\"data row1 col7\" >-27.743230</td>\n",
       "      <td id=\"T_fbe36_row1_col8\" class=\"data row1 col8\" >-23.164392</td>\n",
       "      <td id=\"T_fbe36_row1_col9\" class=\"data row1 col9\" >25.006270</td>\n",
       "      <td id=\"T_fbe36_row1_col10\" class=\"data row1 col10\" >27.251952</td>\n",
       "      <td id=\"T_fbe36_row1_col11\" class=\"data row1 col11\" >27.900190</td>\n",
       "      <td id=\"T_fbe36_row1_col12\" class=\"data row1 col12\" >22.534385</td>\n",
       "      <td id=\"T_fbe36_row1_col13\" class=\"data row1 col13\" >199750.320000</td>\n",
       "      <td id=\"T_fbe36_row1_col14\" class=\"data row1 col14\" >201723.264000</td>\n",
       "      <td id=\"T_fbe36_row1_col15\" class=\"data row1 col15\" >249355.468000</td>\n",
       "      <td id=\"T_fbe36_row1_col16\" class=\"data row1 col16\" >196486.734000</td>\n",
       "      <td id=\"T_fbe36_row1_col17\" class=\"data row1 col17\" >1077.300029</td>\n",
       "      <td id=\"T_fbe36_row1_col18\" class=\"data row1 col18\" >132.246110</td>\n",
       "      <td id=\"T_fbe36_row1_col19\" class=\"data row1 col19\" >243.983282</td>\n",
       "      <td id=\"T_fbe36_row1_col20\" class=\"data row1 col20\" >237.423738</td>\n",
       "      <td id=\"T_fbe36_row1_col21\" class=\"data row1 col21\" >243.086221</td>\n",
       "      <td id=\"T_fbe36_row1_col22\" class=\"data row1 col22\" >1.250000</td>\n",
       "      <td id=\"T_fbe36_row1_col23\" class=\"data row1 col23\" >-84.491840</td>\n",
       "      <td id=\"T_fbe36_row1_col24\" class=\"data row1 col24\" >-79.531736</td>\n",
       "      <td id=\"T_fbe36_row1_col25\" class=\"data row1 col25\" >-83.813513</td>\n",
       "      <td id=\"T_fbe36_row1_col26\" class=\"data row1 col26\" >11.278230</td>\n",
       "      <td id=\"T_fbe36_row1_col27\" class=\"data row1 col27\" >5.875506</td>\n",
       "      <td id=\"T_fbe36_row1_col28\" class=\"data row1 col28\" >3.838946</td>\n",
       "      <td id=\"T_fbe36_row1_col29\" class=\"data row1 col29\" >4.341684</td>\n",
       "      <td id=\"T_fbe36_row1_col30\" class=\"data row1 col30\" >88431.840000</td>\n",
       "      <td id=\"T_fbe36_row1_col31\" class=\"data row1 col31\" >54502.194000</td>\n",
       "      <td id=\"T_fbe36_row1_col32\" class=\"data row1 col32\" >55587.466000</td>\n",
       "      <td id=\"T_fbe36_row1_col33\" class=\"data row1 col33\" >54475.698000</td>\n",
       "    </tr>\n",
       "    <tr>\n",
       "      <th id=\"T_fbe36_level0_row2\" class=\"row_heading level0 row2\" >90.000000</th>\n",
       "      <td id=\"T_fbe36_row2_col0\" class=\"data row2 col0\" >68696.203461</td>\n",
       "      <td id=\"T_fbe36_row2_col1\" class=\"data row2 col1\" >329.601952</td>\n",
       "      <td id=\"T_fbe36_row2_col2\" class=\"data row2 col2\" >390.616853</td>\n",
       "      <td id=\"T_fbe36_row2_col3\" class=\"data row2 col3\" >395.977471</td>\n",
       "      <td id=\"T_fbe36_row2_col4\" class=\"data row2 col4\" >390.515976</td>\n",
       "      <td id=\"T_fbe36_row2_col5\" class=\"data row2 col5\" >1.406250</td>\n",
       "      <td id=\"T_fbe36_row2_col6\" class=\"data row2 col6\" >-18.511693</td>\n",
       "      <td id=\"T_fbe36_row2_col7\" class=\"data row2 col7\" >-20.138084</td>\n",
       "      <td id=\"T_fbe36_row2_col8\" class=\"data row2 col8\" >-18.481087</td>\n",
       "      <td id=\"T_fbe36_row2_col9\" class=\"data row2 col9\" >35.004400</td>\n",
       "      <td id=\"T_fbe36_row2_col10\" class=\"data row2 col10\" >44.420218</td>\n",
       "      <td id=\"T_fbe36_row2_col11\" class=\"data row2 col11\" >44.106748</td>\n",
       "      <td id=\"T_fbe36_row2_col12\" class=\"data row2 col12\" >38.294374</td>\n",
       "      <td id=\"T_fbe36_row2_col13\" class=\"data row2 col13\" >291466.350000</td>\n",
       "      <td id=\"T_fbe36_row2_col14\" class=\"data row2 col14\" >331949.041000</td>\n",
       "      <td id=\"T_fbe36_row2_col15\" class=\"data row2 col15\" >393288.793000</td>\n",
       "      <td id=\"T_fbe36_row2_col16\" class=\"data row2 col16\" >332024.728000</td>\n",
       "      <td id=\"T_fbe36_row2_col17\" class=\"data row2 col17\" >1341.740563</td>\n",
       "      <td id=\"T_fbe36_row2_col18\" class=\"data row2 col18\" >301.056827</td>\n",
       "      <td id=\"T_fbe36_row2_col19\" class=\"data row2 col19\" >421.210976</td>\n",
       "      <td id=\"T_fbe36_row2_col20\" class=\"data row2 col20\" >416.076900</td>\n",
       "      <td id=\"T_fbe36_row2_col21\" class=\"data row2 col21\" >421.766082</td>\n",
       "      <td id=\"T_fbe36_row2_col22\" class=\"data row2 col22\" >1.406250</td>\n",
       "      <td id=\"T_fbe36_row2_col23\" class=\"data row2 col23\" >-39.910787</td>\n",
       "      <td id=\"T_fbe36_row2_col24\" class=\"data row2 col24\" >-38.205436</td>\n",
       "      <td id=\"T_fbe36_row2_col25\" class=\"data row2 col25\" >-40.095173</td>\n",
       "      <td id=\"T_fbe36_row2_col26\" class=\"data row2 col26\" >12.961646</td>\n",
       "      <td id=\"T_fbe36_row2_col27\" class=\"data row2 col27\" >9.089143</td>\n",
       "      <td id=\"T_fbe36_row2_col28\" class=\"data row2 col28\" >5.760208</td>\n",
       "      <td id=\"T_fbe36_row2_col29\" class=\"data row2 col29\" >5.973308</td>\n",
       "      <td id=\"T_fbe36_row2_col30\" class=\"data row2 col30\" >104758.920000</td>\n",
       "      <td id=\"T_fbe36_row2_col31\" class=\"data row2 col31\" >69398.163000</td>\n",
       "      <td id=\"T_fbe36_row2_col32\" class=\"data row2 col32\" >71726.196000</td>\n",
       "      <td id=\"T_fbe36_row2_col33\" class=\"data row2 col33\" >70639.948000</td>\n",
       "    </tr>\n",
       "  </tbody>\n",
       "</table>\n"
      ],
      "text/plain": [
       "<pandas.io.formats.style.Styler at 0x22273c1d8e0>"
      ]
     },
     "metadata": {},
     "output_type": "display_data"
    },
    {
     "name": "stdout",
     "output_type": "stream",
     "text": [
      "None\n"
     ]
    }
   ],
   "source": [
    "for num_clusters,df_comp in dico_comp.items():\n",
    "    Lindexes = [\n",
    "        [(init,'% amélioration',algo,\"end_cost\") for algo in [\"FI_CURR\",\"FI_BACK\",\"FI_RANDOM\"]]\n",
    "        for init in ['random','kmean+']\n",
    "    ]\n",
    "    styler = df_comp.copy().style\n",
    "    i = 0\n",
    "    for indexes,negative_good in zip(Lindexes,[False,False]):\n",
    "        subset_list = [df_comp[index] for index in indexes]\n",
    "        maxi = max(s.abs().max() for s in subset_list)\n",
    "        if maxi == 0:\n",
    "            continue\n",
    "        styler.background_gradient(cmap=generate_cmap(negative_good=negative_good), axis=1,subset=indexes,vmin=-maxi,vmax=maxi)\n",
    "    print(\"Pour le nombre de clusters : \",num_clusters)\n",
    "    print(display(styler))\n",
    "    # raise Exception(\"\")"
   ]
  },
  {
   "cell_type": "code",
   "execution_count": 192,
   "metadata": {},
   "outputs": [
    {
     "name": "stdout",
     "output_type": "stream",
     "text": [
      "-3 inf\n",
      "[-3.0, -1.9999999999999996, -0.9999999999999956, -0.0, 1.0000000000000044, 2.0000000000000004, 3.0]\n",
      "[-3.0, -1.9999999999999996, -0.9999999999999956, -0.0, 1.0000000000000044, 2.0000000000000004, 3.0]\n",
      "['-1E0', '-1E-1', '-1E-2', -0.0, '1E-2', '1E-1', '1E0']\n"
     ]
    },
    {
     "data": {
      "application/vnd.plotly.v1+json": {
       "config": {
        "plotlyServerURL": "https://plot.ly"
       },
       "data": [
        {
         "customdata": [
          [
           0
          ],
          [
           0
          ],
          [
           0
          ],
          [
           0
          ],
          [
           0
          ],
          [
           0
          ],
          [
           0
          ],
          [
           0
          ],
          [
           0
          ],
          [
           0
          ],
          [
           0
          ],
          [
           0
          ],
          [
           0
          ],
          [
           0
          ],
          [
           0
          ],
          [
           0
          ],
          [
           0
          ],
          [
           0
          ],
          [
           0
          ],
          [
           0
          ],
          [
           0
          ],
          [
           0
          ],
          [
           0
          ],
          [
           0
          ],
          [
           0
          ],
          [
           0
          ],
          [
           0
          ],
          [
           0
          ],
          [
           0
          ],
          [
           0
          ],
          [
           0
          ],
          [
           0
          ],
          [
           0
          ],
          [
           0
          ],
          [
           0
          ],
          [
           0
          ],
          [
           0
          ],
          [
           0
          ],
          [
           0
          ],
          [
           0
          ],
          [
           0
          ],
          [
           0
          ],
          [
           0
          ],
          [
           0
          ],
          [
           0
          ],
          [
           0
          ],
          [
           0
          ],
          [
           0
          ],
          [
           0
          ],
          [
           0
          ],
          [
           0
          ],
          [
           0
          ],
          [
           0
          ],
          [
           0
          ],
          [
           0
          ],
          [
           0
          ],
          [
           0
          ],
          [
           0
          ],
          [
           0
          ],
          [
           0
          ],
          [
           0
          ],
          [
           0
          ],
          [
           0
          ],
          [
           0
          ],
          [
           0
          ],
          [
           0
          ],
          [
           0
          ],
          [
           0
          ],
          [
           0
          ],
          [
           0
          ],
          [
           0
          ],
          [
           0
          ],
          [
           0
          ],
          [
           0
          ],
          [
           0
          ],
          [
           0
          ],
          [
           0
          ],
          [
           0
          ],
          [
           0
          ],
          [
           0
          ],
          [
           0
          ],
          [
           0
          ],
          [
           0
          ],
          [
           0
          ],
          [
           0
          ],
          [
           0
          ],
          [
           0
          ],
          [
           0
          ],
          [
           0
          ],
          [
           0
          ],
          [
           1.180995195096384
          ],
          [
           -0.3533342559376077
          ],
          [
           -1.096042735797241
          ],
          [
           -0.0671200058704346
          ],
          [
           0.6756672282496373
          ],
          [
           -0.7909383097524406
          ],
          [
           -0.061144872009556074
          ],
          [
           0.0027241561737011174
          ],
          [
           -0.17060848336557743
          ],
          [
           0.660749909132614
          ],
          [
           -0.13097758521482822
          ],
          [
           -0.3162286485663369
          ],
          [
           -0.35973368753869117
          ],
          [
           -0.4110332665869354
          ],
          [
           0.3969962949914577
          ],
          [
           -0.0031980451637366606
          ],
          [
           -0.2353608216363756
          ],
          [
           -0.13222640772922198
          ],
          [
           0.349880343209717
          ],
          [
           0.3084287378286293
          ],
          [
           -0.5006566645408754
          ],
          [
           -2.503462592230688
          ],
          [
           1.0800057087184063
          ],
          [
           -1.6041360434732996
          ],
          [
           -0.25413461010541477
          ],
          [
           -1.5443681193659748
          ],
          [
           -0.4602425068584109
          ],
          [
           -1.2017922766062217
          ],
          [
           0.1831495443999884
          ],
          [
           -1.367111360976827
          ],
          [
           -0.08674225014818164
          ],
          [
           -1.7618027719165252
          ],
          [
           -0.45448556279767593
          ],
          [
           -0.8931858933316464
          ],
          [
           -0.2962153831561102
          ],
          [
           -0.9220923712284383
          ],
          [
           1.3146443408346453
          ],
          [
           5.330730767435296
          ],
          [
           0.9947837376193505
          ],
          [
           1.0135527958042991
          ],
          [
           0.37649531980740913
          ],
          [
           -0.3097319743412047
          ],
          [
           -0.14124202677663703
          ],
          [
           -0.8668014457690094
          ],
          [
           -0.563358063712492
          ],
          [
           -1.1588461448396017
          ],
          [
           -0.3658471446342153
          ],
          [
           -1.0216298922084133
          ],
          [
           -0.043160708113115086
          ],
          [
           -1.3900602979757652
          ],
          [
           -0.27581473291441305
          ],
          [
           -1.874284528839505
          ],
          [
           0.07718805322933185
          ],
          [
           -1.6174149731781151
          ],
          [
           43.48177686559488
          ],
          [
           28.109633288383662
          ],
          [
           4.76926323167663
          ],
          [
           11.068756200997726
          ],
          [
           2.3360209136963883
          ],
          [
           4.788147905263722
          ],
          [
           0.14968014600260582
          ],
          [
           2.881044687606139
          ],
          [
           -0.9230145384543307
          ],
          [
           1.949481593367936
          ],
          [
           -0.07043009449316937
          ],
          [
           -0.7559412234642918
          ],
          [
           -1.1023943078436718
          ],
          [
           -0.9038757965913481
          ],
          [
           -1.5826664389451466
          ],
          [
           -1.3549212667494734
          ],
          [
           -1.3977246464970032
          ],
          [
           63.724268069085596
          ],
          [
           30.41935899491404
          ],
          [
           21.507319105779736
          ],
          [
           17.570439190436254
          ],
          [
           7.716454204532915
          ],
          [
           10.468025702712426
          ],
          [
           2.9273234128580508
          ],
          [
           6.948180949375381
          ],
          [
           0.4831154740125615
          ],
          [
           5.487283679317024
          ],
          [
           1.4221776660968175
          ],
          [
           2.5587075442740908
          ],
          [
           234.9758746331228
          ],
          [
           40.130135224429615
          ],
          [
           79.53173582162664
          ],
          [
           27.74322995553292
          ],
          [
           38.20543598950305
          ],
          [
           20.13808418409898
          ],
          [
           null
          ],
          [
           -0.05608744346246089
          ],
          [
           -1.0060718561625388
          ],
          [
           0.38063022722938256
          ],
          [
           -0.19478151579724384
          ],
          [
           0.25853370698982364
          ],
          [
           0.5307673853485064
          ],
          [
           -0.7188462654212321
          ],
          [
           0.30205660202650114
          ],
          [
           -0.07936281352285446
          ],
          [
           -0.08367440002360586
          ],
          [
           -0.05803001025945063
          ],
          [
           -0.6366298907082403
          ],
          [
           -0.21464965404318428
          ],
          [
           0.4465700136085726
          ],
          [
           -0.15519461966429554
          ],
          [
           0.45907921731530266
          ],
          [
           -0.3145257527759302
          ],
          [
           0.033891810306493235
          ],
          [
           1.2865186425420587
          ],
          [
           -0.24695796174413429
          ],
          [
           -0.5921862820094379
          ],
          [
           -1.8325677360158819
          ],
          [
           1.7719826062077302
          ],
          [
           -1.4546793500846988
          ],
          [
           -0.4742294604657807
          ],
          [
           -0.992164847385947
          ],
          [
           0.024576126572155955
          ],
          [
           -1.3194829712996987
          ],
          [
           0.0875171881092478
          ],
          [
           -1.1229259290946703
          ],
          [
           0.1341220910494033
          ],
          [
           -1.6403865013718246
          ],
          [
           -0.1771460319328207
          ],
          [
           -0.3989735107524193
          ],
          [
           0.28068718468762033
          ],
          [
           -1.150247041560911
          ],
          [
           0.2722337073227757
          ],
          [
           6.9132260320035925
          ],
          [
           0.331298347083666
          ],
          [
           0.7639761155048588
          ],
          [
           1.122721352071705
          ],
          [
           -0.6370257248380079
          ],
          [
           -0.1317928724430733
          ],
          [
           -1.1920171326013929
          ],
          [
           -0.6682626580606756
          ],
          [
           -1.034219083217491
          ],
          [
           -0.6816018389424152
          ],
          [
           -1.1836469681800215
          ],
          [
           0.23495830723847733
          ],
          [
           -1.898194946477569
          ],
          [
           -0.18589479181044866
          ],
          [
           -2.121432013460689
          ],
          [
           -0.27886833535741273
          ],
          [
           -1.6582661621150536
          ],
          [
           45.50847428939281
          ],
          [
           25.302620823451594
          ],
          [
           5.86465575417963
          ],
          [
           9.909102938701439
          ],
          [
           1.5029722836755164
          ],
          [
           6.1102000109369285
          ],
          [
           0.48752330362848656
          ],
          [
           1.794452007977414
          ],
          [
           -1.2420176833680208
          ],
          [
           0.46380895110135073
          ],
          [
           -0.9137024643617627
          ],
          [
           -0.5071343223334145
          ],
          [
           -1.0451356753973409
          ],
          [
           -0.39652708838943396
          ],
          [
           -0.602091896055906
          ],
          [
           -1.5018465826726057
          ],
          [
           -2.004624948810819
          ],
          [
           60.64515352730714
          ],
          [
           28.499108614476093
          ],
          [
           22.337400654960994
          ],
          [
           14.136221036954701
          ],
          [
           8.099134189741235
          ],
          [
           9.363429153243759
          ],
          [
           3.42247890250797
          ],
          [
           6.532684337008883
          ],
          [
           1.0410061208043986
          ],
          [
           5.042309078222195
          ],
          [
           1.407841799116353
          ],
          [
           3.1205155502156834
          ],
          [
           238.43545418347634
          ],
          [
           32.90081672148707
          ],
          [
           84.4918399544514
          ],
          [
           23.890189929570514
          ],
          [
           39.91078703336958
          ],
          [
           18.511692842691136
          ],
          [
           null
          ],
          [
           0.7623098154341965
          ],
          [
           -1.4091460349131666
          ],
          [
           1.024905985182906
          ],
          [
           0.15205913197640844
          ],
          [
           0.5383323300369369
          ],
          [
           -1.0337920818723214
          ],
          [
           -0.8265099517359046
          ],
          [
           -0.32889969354302856
          ],
          [
           -0.0362032800442452
          ],
          [
           0.21122688624205785
          ],
          [
           -0.7700563387899422
          ],
          [
           -0.8604391299561575
          ],
          [
           0.19566690764683475
          ],
          [
           -0.03969409362629779
          ],
          [
           -0.14822840685255406
          ],
          [
           -0.08778021305132493
          ],
          [
           -0.6167754383334154
          ],
          [
           -0.10485820134244253
          ],
          [
           0.7947459388871663
          ],
          [
           0.41050051655081454
          ],
          [
           0.8959530351037208
          ],
          [
           -1.6014984554982385
          ],
          [
           -0.3708182802548533
          ],
          [
           -1.393277613525362
          ],
          [
           -0.6831103078536535
          ],
          [
           -0.5365355576844867
          ],
          [
           -0.2505419258154668
          ],
          [
           -1.073818500073431
          ],
          [
           -0.27295372758501646
          ],
          [
           -1.5779146602661314
          ],
          [
           0.3661646935737285
          ],
          [
           -1.4303905995621293
          ],
          [
           -0.24563156692926721
          ],
          [
           -1.0555558821502597
          ],
          [
           0.04983030845781731
          ],
          [
           -0.8962077458737087
          ],
          [
           -1.258186661573823
          ],
          [
           5.148412653566812
          ],
          [
           0.25654563573370937
          ],
          [
           0.7906243445238829
          ],
          [
           0.5400769205640262
          ],
          [
           -0.48130145125931023
          ],
          [
           -0.31733572975712904
          ],
          [
           -1.0548198968664
          ],
          [
           -0.7360903684053061
          ],
          [
           -0.817331746264125
          ],
          [
           -0.506514656981152
          ],
          [
           -1.5380506154881786
          ],
          [
           -0.6827845697299297
          ],
          [
           -1.9420171313566188
          ],
          [
           0.012828740177467322
          ],
          [
           -1.9892898396195953
          ],
          [
           0.011848475612375849
          ],
          [
           -1.8345310851411247
          ],
          [
           42.572398036939994
          ],
          [
           27.384764019020047
          ],
          [
           4.955397709011683
          ],
          [
           9.108141680581383
          ],
          [
           2.541039019655336
          ],
          [
           6.102297020084016
          ],
          [
           1.0386482687289569
          ],
          [
           1.16126192116064
          ],
          [
           -0.7842202868729609
          ],
          [
           1.003299446109367
          ],
          [
           0.08024402580244464
          ],
          [
           -0.7296947736276668
          ],
          [
           -0.8188839563003301
          ],
          [
           -0.8437896787982483
          ],
          [
           -1.5979638008677923
          ],
          [
           -1.484939713275879
          ],
          [
           -1.4467187197221594
          ],
          [
           64.68608556877551
          ],
          [
           26.797572895930532
          ],
          [
           18.99410813545444
          ],
          [
           13.925227814810093
          ],
          [
           7.975750133841789
          ],
          [
           9.393797699408044
          ],
          [
           3.5458550577057837
          ],
          [
           6.566585923411875
          ],
          [
           0.931639031119038
          ],
          [
           5.002728637506962
          ],
          [
           1.334886876524805
          ],
          [
           2.5262688595873444
          ],
          [
           239.56010029976892
          ],
          [
           32.197084074402945
          ],
          [
           83.81351264440859
          ],
          [
           23.164392437073342
          ],
          [
           40.09517270599742
          ],
          [
           18.481087102377476
          ],
          [
           null
          ]
         ],
         "hovertemplate": "Nb. pts par clusters=%{x}<br>init_type=%{y}<br>algorithm=%{z}<br>% amélioration end_cost=%{customdata[0]}<br>color=%{marker.color}<extra></extra>",
         "legendgroup": "",
         "marker": {
          "color": [
           0,
           0,
           0,
           0,
           0,
           0,
           0,
           0,
           0,
           0,
           0,
           0,
           0,
           0,
           0,
           0,
           0,
           0,
           0,
           0,
           0,
           0,
           0,
           0,
           0,
           0,
           0,
           0,
           0,
           0,
           0,
           0,
           0,
           0,
           0,
           0,
           0,
           0,
           0,
           0,
           0,
           0,
           0,
           0,
           0,
           0,
           0,
           0,
           0,
           0,
           0,
           0,
           0,
           0,
           0,
           0,
           0,
           0,
           0,
           0,
           0,
           0,
           0,
           0,
           0,
           0,
           0,
           0,
           0,
           0,
           0,
           0,
           0,
           0,
           0,
           0,
           0,
           0,
           0,
           0,
           0,
           0,
           0,
           0,
           0,
           0,
           0,
           0,
           0,
           0,
           3.0722481306809395,
           -2.5481857445491327,
           -3.039827488052622,
           -1.8268519858048096,
           2.8297328549387393,
           -2.898142611463665,
           -1.7863600402547577,
           0.43523200171080356,
           -2.232000622301949,
           2.820037112078879,
           -2.1171969792402665,
           -2.500001212056257,
           -2.55598110956471,
           -2.613876972509828,
           2.5987864536843404,
           -0.5048845926882239,
           -2.371734171492909,
           -2.1213181993686825,
           2.5439195438680073,
           2.489154836625788,
           -2.6995400016939683,
           -3.398541106376362,
           3.033426051096533,
           -3.205241197130396,
           -2.405063814811224,
           -3.1887508278352388,
           -2.6629867265480565,
           -3.07982940866534,
           2.262805842657582,
           -3.1358038923936506,
           -1.938230683829156,
           -3.2459572889440462,
           -2.6575200919652713,
           -2.950941855357077,
           -2.471607608696785,
           -2.9647744289770466,
           3.118808276244252,
           3.7267867487095687,
           2.9977286769598734,
           3.0058463759488916,
           2.575759581879482,
           -2.4909860408852555,
           -2.1499639409187714,
           -2.9379196270236214,
           -2.7507845150386174,
           -3.0640257803272024,
           -2.5632996697987043,
           -3.0092935916077876,
           -1.6350885612911246,
           -3.1430336394700413,
           -2.440617460725037,
           -3.272835520343192,
           1.887550087666368,
           -3.2088214592633646,
           4.638307283048928,
           4.448855179941476,
           3.678451293268363,
           4.044098821836993,
           3.368476726566338,
           3.6801675572414263,
           2.17516419811632,
           3.4595499946324573,
           -2.965208541676795,
           3.2899191390179907,
           -1.847758271067817,
           -2.878488029208258,
           -3.0423369621121124,
           -2.9561087572885243,
           -3.199389393074555,
           -3.131914059483708,
           -3.1454216232799777,
           4.804304855904619,
           4.4831500582408195,
           4.332586278814778,
           4.244782617249371,
           3.88741778308754,
           4.019864780315997,
           3.4664707062603988,
           3.841871120122202,
           2.6840509480032724,
           3.7393574127525544,
           3.152953854189587,
           3.408020649636187,
           5.37102327481828,
           4.603470623155833,
           4.900540461259839,
           4.443157021632909,
           4.5821251600919295,
           4.304018152024453,
           null,
           -1.7488656447617026,
           -3.0026290002233114,
           2.5805032742233567,
           -2.2895477412071514,
           2.4125171733694497,
           2.724904228438158,
           -2.8566360208166475,
           2.4800883325082737,
           -1.899617055766474,
           -1.9225926069889248,
           -1.7636526473458911,
           -2.8038870255273607,
           -2.3317301928515297,
           2.6498895576034163,
           -2.1908766609259667,
           2.6618876325404037,
           -2.4976562104509012,
           1.5300947669820497,
           3.1094160838184086,
           -2.3926230320598494,
           -2.772458342741548,
           -3.263060036155866,
           3.248459454534623,
           -3.1627672738472716,
           -2.6759885300729978,
           -2.996583835825793,
           1.390513435063958,
           -3.120403789767667,
           1.942093355512947,
           -3.050351110093702,
           2.127500315739023,
           -3.214946186850603,
           -2.2483314285914044,
           -2.6009440623134514,
           2.448222584538597,
           -3.0607911249314665,
           2.434941897494674,
           3.8396807566288684,
           2.5202192691019007,
           2.883079781263403,
           3.050271982197537,
           -2.8041569706863876,
           -2.1198919235937668,
           -3.0762824974686254,
           -2.824947193801696,
           -3.014612547030705,
           -2.8335307534744096,
           -3.073222190027542,
           2.3709908046432906,
           -3.2783408128498506,
           -2.269267222371855,
           -3.326629118284119,
           -2.4453992042615544,
           -3.2196542387960903,
           4.658092275655705,
           4.403165507350272,
           3.7682425248150704,
           3.9960343400144476,
           3.176950971832571,
           3.7860554266459125,
           2.687995379819936,
           3.253931847762991,
           -3.0941277792016577,
           2.666339125881122,
           -2.960804796256053,
           -2.7051230041498946,
           -3.019172672506067,
           -2.5982728611018207,
           -2.779662781796274,
           -3.176625570682982,
           -3.3020331311217666,
           4.782796099836596,
           4.454831276504357,
           4.349032634003989,
           4.150333327272563,
           3.908438594592795,
           3.9714349288228297,
           3.5343407796540594,
           3.8150916733425326,
           3.017453283039605,
           3.702629463088209,
           3.1485538553523074,
           3.4942263511072675,
           5.377370833330853,
           4.517206678899293,
           4.926814767720369,
           4.378219602451281,
           4.6010902920756624,
           4.267446135588281,
           null,
           2.882131511743619,
           -3.148956002953576,
           3.0106840293050405,
           2.182012507004793,
           2.731050462548398,
           -3.0144332014510113,
           -2.917248087136709,
           -2.5170634688227773,
           -1.5587479197205547,
           2.3247491970218244,
           -2.886522500147181,
           -2.9347201524564945,
           2.291517381398273,
           -1.5987258897268963,
           -2.1709314408706804,
           -1.943396630586221,
           -2.79012707060604,
           -2.020602403885509,
           2.900228317368943,
           2.6133137079476088,
           2.9522852450082504,
           -3.204526524161929,
           -2.5691611354458206,
           -3.144037659144603,
           -2.834490838709401,
           -2.729598509143427,
           -2.3988804113479385,
           -3.0309308818497884,
           -2.4360890296130346,
           -3.198083511181556,
           2.5636764663301737,
           -3.1554546473049534,
           -2.3902841786834497,
           -3.0234812302226075,
           1.6974935755337577,
           -2.952408693176301,
           -3.099745076783186,
           3.711673349029688,
           2.409164630985599,
           2.8979701827992748,
           2.732455618707131,
           -2.6824171711994027,
           -2.5015189733382392,
           -3.0231783132125862,
           -2.86693113511271,
           -2.912398367828099,
           -2.704592017028849,
           -3.1869706278357044,
           -2.8342836979188726,
           -3.2882530566846695,
           1.1081840093883086,
           -3.2986980644602477,
           1.0736624789774196,
           -3.2635250750403904,
           4.629128113998563,
           4.437509002862796,
           3.6950785157128823,
           3.9594297776102234,
           3.4050113340353705,
           3.785493342448334,
           3.016468501539923,
           3.0649301853592523,
           -2.8944380728060937,
           3.001430572485896,
           1.9044127088948204,
           -2.8631412356691492,
           -2.913222362433024,
           -2.926234208805542,
           -3.2035669368919693,
           -3.171708822189869,
           -3.160384101024235,
           4.810810870922261,
           4.428095460982602,
           4.2786189061590125,
           4.143802308901824,
           3.9017715398380144,
           3.9728412031777816,
           3.549720979170963,
           3.8173396313557992,
           2.969247675058579,
           3.6992069461315484,
           3.125444463466378,
           3.402479568714015,
           5.3794144862439754,
           4.507816541641823,
           4.923314042422782,
           4.364820913877109,
           4.603092088496846,
           4.266727513890464,
           null
          ],
          "coloraxis": "coloraxis",
          "symbol": "circle"
         },
         "mode": "markers",
         "name": "",
         "scene": "scene",
         "showlegend": false,
         "type": "scatter3d",
         "x": [
          10,
          10,
          15,
          15,
          20,
          20,
          25,
          25,
          30,
          30,
          35,
          35,
          40,
          40,
          45,
          45,
          50,
          50,
          5,
          5,
          7.5,
          7.5,
          10,
          10,
          12.5,
          12.5,
          15,
          15,
          17.5,
          17.5,
          20,
          20,
          22.5,
          22.5,
          25,
          25,
          2.5,
          2.5,
          3.75,
          3.75,
          5,
          5,
          6.25,
          6.25,
          7.5,
          7.5,
          8.75,
          8.75,
          10,
          10,
          11.25,
          11.25,
          12.5,
          12.5,
          1.25,
          1.25,
          1.875,
          1.875,
          2.5,
          2.5,
          3.125,
          3.125,
          3.75,
          3.75,
          4.375,
          4.375,
          5,
          5,
          5.625,
          5.625,
          6.25,
          6.25,
          1.25,
          1.25,
          1.5625,
          1.5625,
          1.875,
          1.875,
          2.1875,
          2.1875,
          2.5,
          2.5,
          2.8125,
          2.8125,
          1.09375,
          1.09375,
          1.25,
          1.25,
          1.40625,
          1.40625,
          10,
          10,
          15,
          15,
          20,
          20,
          25,
          25,
          30,
          30,
          35,
          35,
          40,
          40,
          45,
          45,
          50,
          50,
          5,
          5,
          7.5,
          7.5,
          10,
          10,
          12.5,
          12.5,
          15,
          15,
          17.5,
          17.5,
          20,
          20,
          22.5,
          22.5,
          25,
          25,
          2.5,
          2.5,
          3.75,
          3.75,
          5,
          5,
          6.25,
          6.25,
          7.5,
          7.5,
          8.75,
          8.75,
          10,
          10,
          11.25,
          11.25,
          12.5,
          12.5,
          1.25,
          1.25,
          1.875,
          1.875,
          2.5,
          2.5,
          3.125,
          3.125,
          3.75,
          3.75,
          4.375,
          4.375,
          5,
          5,
          5.625,
          5.625,
          6.25,
          1.25,
          1.25,
          1.5625,
          1.5625,
          1.875,
          1.875,
          2.1875,
          2.1875,
          2.5,
          2.5,
          2.8125,
          2.8125,
          1.09375,
          1.09375,
          1.25,
          1.25,
          1.40625,
          1.40625,
          6.25,
          10,
          10,
          15,
          15,
          20,
          20,
          25,
          25,
          30,
          30,
          35,
          35,
          40,
          40,
          45,
          45,
          50,
          50,
          5,
          5,
          7.5,
          7.5,
          10,
          10,
          12.5,
          12.5,
          15,
          15,
          17.5,
          17.5,
          20,
          20,
          22.5,
          22.5,
          25,
          25,
          2.5,
          2.5,
          3.75,
          3.75,
          5,
          5,
          6.25,
          6.25,
          7.5,
          7.5,
          8.75,
          8.75,
          10,
          10,
          11.25,
          11.25,
          12.5,
          12.5,
          1.25,
          1.25,
          1.875,
          1.875,
          2.5,
          2.5,
          3.125,
          3.125,
          3.75,
          3.75,
          4.375,
          4.375,
          5,
          5,
          5.625,
          5.625,
          6.25,
          1.25,
          1.25,
          1.5625,
          1.5625,
          1.875,
          1.875,
          2.1875,
          2.1875,
          2.5,
          2.5,
          2.8125,
          2.8125,
          1.09375,
          1.09375,
          1.25,
          1.25,
          1.40625,
          1.40625,
          6.25,
          10,
          10,
          15,
          15,
          20,
          20,
          25,
          25,
          30,
          30,
          35,
          35,
          40,
          40,
          45,
          45,
          50,
          50,
          5,
          5,
          7.5,
          7.5,
          10,
          10,
          12.5,
          12.5,
          15,
          15,
          17.5,
          17.5,
          20,
          20,
          22.5,
          22.5,
          25,
          25,
          2.5,
          2.5,
          3.75,
          3.75,
          5,
          5,
          6.25,
          6.25,
          7.5,
          7.5,
          8.75,
          8.75,
          10,
          10,
          11.25,
          11.25,
          12.5,
          12.5,
          1.25,
          1.25,
          1.875,
          1.875,
          2.5,
          2.5,
          3.125,
          3.125,
          3.75,
          3.75,
          4.375,
          4.375,
          5,
          5,
          5.625,
          5.625,
          6.25,
          1.25,
          1.25,
          1.5625,
          1.5625,
          1.875,
          1.875,
          2.1875,
          2.1875,
          2.5,
          2.5,
          2.8125,
          2.8125,
          1.09375,
          1.09375,
          1.25,
          1.25,
          1.40625,
          1.40625,
          6.25
         ],
         "y": [
          "kmean+",
          "random",
          "kmean+",
          "random",
          "kmean+",
          "random",
          "kmean+",
          "random",
          "kmean+",
          "random",
          "kmean+",
          "random",
          "kmean+",
          "random",
          "kmean+",
          "random",
          "kmean+",
          "random",
          "kmean+",
          "random",
          "kmean+",
          "random",
          "kmean+",
          "random",
          "kmean+",
          "random",
          "kmean+",
          "random",
          "kmean+",
          "random",
          "kmean+",
          "random",
          "kmean+",
          "random",
          "kmean+",
          "random",
          "kmean+",
          "random",
          "kmean+",
          "random",
          "kmean+",
          "random",
          "kmean+",
          "random",
          "kmean+",
          "random",
          "kmean+",
          "random",
          "kmean+",
          "random",
          "kmean+",
          "random",
          "kmean+",
          "random",
          "kmean+",
          "random",
          "kmean+",
          "random",
          "kmean+",
          "random",
          "kmean+",
          "random",
          "kmean+",
          "random",
          "kmean+",
          "random",
          "kmean+",
          "random",
          "kmean+",
          "random",
          "kmean+",
          "random",
          "kmean+",
          "random",
          "kmean+",
          "random",
          "kmean+",
          "random",
          "kmean+",
          "random",
          "kmean+",
          "random",
          "kmean+",
          "random",
          "kmean+",
          "random",
          "kmean+",
          "random",
          "kmean+",
          "random",
          "kmean+",
          "random",
          "kmean+",
          "random",
          "kmean+",
          "random",
          "kmean+",
          "random",
          "kmean+",
          "random",
          "kmean+",
          "random",
          "kmean+",
          "random",
          "kmean+",
          "random",
          "kmean+",
          "random",
          "kmean+",
          "random",
          "kmean+",
          "random",
          "kmean+",
          "random",
          "kmean+",
          "random",
          "kmean+",
          "random",
          "kmean+",
          "random",
          "kmean+",
          "random",
          "kmean+",
          "random",
          "kmean+",
          "random",
          "kmean+",
          "random",
          "kmean+",
          "random",
          "kmean+",
          "random",
          "kmean+",
          "random",
          "kmean+",
          "random",
          "kmean+",
          "random",
          "kmean+",
          "random",
          "kmean+",
          "random",
          "kmean+",
          "random",
          "kmean+",
          "random",
          "kmean+",
          "random",
          "kmean+",
          "random",
          "kmean+",
          "random",
          "kmean+",
          "random",
          "kmean+",
          "random",
          "kmean+",
          "random",
          "kmean+",
          "random",
          "random",
          "kmean+",
          "random",
          "kmean+",
          "random",
          "kmean+",
          "random",
          "kmean+",
          "random",
          "kmean+",
          "random",
          "kmean+",
          "random",
          "kmean+",
          "random",
          "kmean+",
          "random",
          "kmean+",
          "random",
          "kmean+",
          "kmean+",
          "random",
          "kmean+",
          "random",
          "kmean+",
          "random",
          "kmean+",
          "random",
          "kmean+",
          "random",
          "kmean+",
          "random",
          "kmean+",
          "random",
          "kmean+",
          "random",
          "kmean+",
          "random",
          "kmean+",
          "random",
          "kmean+",
          "random",
          "kmean+",
          "random",
          "kmean+",
          "random",
          "kmean+",
          "random",
          "kmean+",
          "random",
          "kmean+",
          "random",
          "kmean+",
          "random",
          "kmean+",
          "random",
          "kmean+",
          "random",
          "kmean+",
          "random",
          "kmean+",
          "random",
          "kmean+",
          "random",
          "kmean+",
          "random",
          "kmean+",
          "random",
          "kmean+",
          "random",
          "kmean+",
          "random",
          "kmean+",
          "random",
          "kmean+",
          "random",
          "kmean+",
          "random",
          "kmean+",
          "random",
          "kmean+",
          "random",
          "kmean+",
          "random",
          "kmean+",
          "random",
          "kmean+",
          "random",
          "kmean+",
          "random",
          "random",
          "kmean+",
          "random",
          "kmean+",
          "random",
          "kmean+",
          "random",
          "kmean+",
          "random",
          "kmean+",
          "random",
          "kmean+",
          "random",
          "kmean+",
          "random",
          "kmean+",
          "random",
          "kmean+",
          "random",
          "kmean+",
          "kmean+",
          "random",
          "kmean+",
          "random",
          "kmean+",
          "random",
          "kmean+",
          "random",
          "kmean+",
          "random",
          "kmean+",
          "random",
          "kmean+",
          "random",
          "kmean+",
          "random",
          "kmean+",
          "random",
          "kmean+",
          "random",
          "kmean+",
          "random",
          "kmean+",
          "random",
          "kmean+",
          "random",
          "kmean+",
          "random",
          "kmean+",
          "random",
          "kmean+",
          "random",
          "kmean+",
          "random",
          "kmean+",
          "random",
          "kmean+",
          "random",
          "kmean+",
          "random",
          "kmean+",
          "random",
          "kmean+",
          "random",
          "kmean+",
          "random",
          "kmean+",
          "random",
          "kmean+",
          "random",
          "kmean+",
          "random",
          "kmean+",
          "random",
          "kmean+",
          "random",
          "kmean+",
          "random",
          "kmean+",
          "random",
          "kmean+",
          "random",
          "kmean+",
          "random",
          "kmean+",
          "random",
          "kmean+",
          "random",
          "kmean+",
          "random",
          "random",
          "kmean+",
          "random",
          "kmean+",
          "random",
          "kmean+",
          "random",
          "kmean+",
          "random",
          "kmean+",
          "random",
          "kmean+",
          "random",
          "kmean+",
          "random",
          "kmean+",
          "random",
          "kmean+",
          "random",
          "kmean+"
         ],
         "z": [
          "BI_BACK",
          "BI_BACK",
          "BI_BACK",
          "BI_BACK",
          "BI_BACK",
          "BI_BACK",
          "BI_BACK",
          "BI_BACK",
          "BI_BACK",
          "BI_BACK",
          "BI_BACK",
          "BI_BACK",
          "BI_BACK",
          "BI_BACK",
          "BI_BACK",
          "BI_BACK",
          "BI_BACK",
          "BI_BACK",
          "BI_BACK",
          "BI_BACK",
          "BI_BACK",
          "BI_BACK",
          "BI_BACK",
          "BI_BACK",
          "BI_BACK",
          "BI_BACK",
          "BI_BACK",
          "BI_BACK",
          "BI_BACK",
          "BI_BACK",
          "BI_BACK",
          "BI_BACK",
          "BI_BACK",
          "BI_BACK",
          "BI_BACK",
          "BI_BACK",
          "BI_BACK",
          "BI_BACK",
          "BI_BACK",
          "BI_BACK",
          "BI_BACK",
          "BI_BACK",
          "BI_BACK",
          "BI_BACK",
          "BI_BACK",
          "BI_BACK",
          "BI_BACK",
          "BI_BACK",
          "BI_BACK",
          "BI_BACK",
          "BI_BACK",
          "BI_BACK",
          "BI_BACK",
          "BI_BACK",
          "BI_BACK",
          "BI_BACK",
          "BI_BACK",
          "BI_BACK",
          "BI_BACK",
          "BI_BACK",
          "BI_BACK",
          "BI_BACK",
          "BI_BACK",
          "BI_BACK",
          "BI_BACK",
          "BI_BACK",
          "BI_BACK",
          "BI_BACK",
          "BI_BACK",
          "BI_BACK",
          "BI_BACK",
          "BI_BACK",
          "BI_BACK",
          "BI_BACK",
          "BI_BACK",
          "BI_BACK",
          "BI_BACK",
          "BI_BACK",
          "BI_BACK",
          "BI_BACK",
          "BI_BACK",
          "BI_BACK",
          "BI_BACK",
          "BI_BACK",
          "BI_BACK",
          "BI_BACK",
          "BI_BACK",
          "BI_BACK",
          "BI_BACK",
          "BI_BACK",
          "FI_BACK",
          "FI_BACK",
          "FI_BACK",
          "FI_BACK",
          "FI_BACK",
          "FI_BACK",
          "FI_BACK",
          "FI_BACK",
          "FI_BACK",
          "FI_BACK",
          "FI_BACK",
          "FI_BACK",
          "FI_BACK",
          "FI_BACK",
          "FI_BACK",
          "FI_BACK",
          "FI_BACK",
          "FI_BACK",
          "FI_BACK",
          "FI_BACK",
          "FI_BACK",
          "FI_BACK",
          "FI_BACK",
          "FI_BACK",
          "FI_BACK",
          "FI_BACK",
          "FI_BACK",
          "FI_BACK",
          "FI_BACK",
          "FI_BACK",
          "FI_BACK",
          "FI_BACK",
          "FI_BACK",
          "FI_BACK",
          "FI_BACK",
          "FI_BACK",
          "FI_BACK",
          "FI_BACK",
          "FI_BACK",
          "FI_BACK",
          "FI_BACK",
          "FI_BACK",
          "FI_BACK",
          "FI_BACK",
          "FI_BACK",
          "FI_BACK",
          "FI_BACK",
          "FI_BACK",
          "FI_BACK",
          "FI_BACK",
          "FI_BACK",
          "FI_BACK",
          "FI_BACK",
          "FI_BACK",
          "FI_BACK",
          "FI_BACK",
          "FI_BACK",
          "FI_BACK",
          "FI_BACK",
          "FI_BACK",
          "FI_BACK",
          "FI_BACK",
          "FI_BACK",
          "FI_BACK",
          "FI_BACK",
          "FI_BACK",
          "FI_BACK",
          "FI_BACK",
          "FI_BACK",
          "FI_BACK",
          "FI_BACK",
          "FI_BACK",
          "FI_BACK",
          "FI_BACK",
          "FI_BACK",
          "FI_BACK",
          "FI_BACK",
          "FI_BACK",
          "FI_BACK",
          "FI_BACK",
          "FI_BACK",
          "FI_BACK",
          "FI_BACK",
          "FI_BACK",
          "FI_BACK",
          "FI_BACK",
          "FI_BACK",
          "FI_BACK",
          "FI_BACK",
          "FI_BACK",
          "FI_CURR",
          "FI_CURR",
          "FI_CURR",
          "FI_CURR",
          "FI_CURR",
          "FI_CURR",
          "FI_CURR",
          "FI_CURR",
          "FI_CURR",
          "FI_CURR",
          "FI_CURR",
          "FI_CURR",
          "FI_CURR",
          "FI_CURR",
          "FI_CURR",
          "FI_CURR",
          "FI_CURR",
          "FI_CURR",
          "FI_CURR",
          "FI_CURR",
          "FI_CURR",
          "FI_CURR",
          "FI_CURR",
          "FI_CURR",
          "FI_CURR",
          "FI_CURR",
          "FI_CURR",
          "FI_CURR",
          "FI_CURR",
          "FI_CURR",
          "FI_CURR",
          "FI_CURR",
          "FI_CURR",
          "FI_CURR",
          "FI_CURR",
          "FI_CURR",
          "FI_CURR",
          "FI_CURR",
          "FI_CURR",
          "FI_CURR",
          "FI_CURR",
          "FI_CURR",
          "FI_CURR",
          "FI_CURR",
          "FI_CURR",
          "FI_CURR",
          "FI_CURR",
          "FI_CURR",
          "FI_CURR",
          "FI_CURR",
          "FI_CURR",
          "FI_CURR",
          "FI_CURR",
          "FI_CURR",
          "FI_CURR",
          "FI_CURR",
          "FI_CURR",
          "FI_CURR",
          "FI_CURR",
          "FI_CURR",
          "FI_CURR",
          "FI_CURR",
          "FI_CURR",
          "FI_CURR",
          "FI_CURR",
          "FI_CURR",
          "FI_CURR",
          "FI_CURR",
          "FI_CURR",
          "FI_CURR",
          "FI_CURR",
          "FI_CURR",
          "FI_CURR",
          "FI_CURR",
          "FI_CURR",
          "FI_CURR",
          "FI_CURR",
          "FI_CURR",
          "FI_CURR",
          "FI_CURR",
          "FI_CURR",
          "FI_CURR",
          "FI_CURR",
          "FI_CURR",
          "FI_CURR",
          "FI_CURR",
          "FI_CURR",
          "FI_CURR",
          "FI_CURR",
          "FI_CURR",
          "FI_RANDOM",
          "FI_RANDOM",
          "FI_RANDOM",
          "FI_RANDOM",
          "FI_RANDOM",
          "FI_RANDOM",
          "FI_RANDOM",
          "FI_RANDOM",
          "FI_RANDOM",
          "FI_RANDOM",
          "FI_RANDOM",
          "FI_RANDOM",
          "FI_RANDOM",
          "FI_RANDOM",
          "FI_RANDOM",
          "FI_RANDOM",
          "FI_RANDOM",
          "FI_RANDOM",
          "FI_RANDOM",
          "FI_RANDOM",
          "FI_RANDOM",
          "FI_RANDOM",
          "FI_RANDOM",
          "FI_RANDOM",
          "FI_RANDOM",
          "FI_RANDOM",
          "FI_RANDOM",
          "FI_RANDOM",
          "FI_RANDOM",
          "FI_RANDOM",
          "FI_RANDOM",
          "FI_RANDOM",
          "FI_RANDOM",
          "FI_RANDOM",
          "FI_RANDOM",
          "FI_RANDOM",
          "FI_RANDOM",
          "FI_RANDOM",
          "FI_RANDOM",
          "FI_RANDOM",
          "FI_RANDOM",
          "FI_RANDOM",
          "FI_RANDOM",
          "FI_RANDOM",
          "FI_RANDOM",
          "FI_RANDOM",
          "FI_RANDOM",
          "FI_RANDOM",
          "FI_RANDOM",
          "FI_RANDOM",
          "FI_RANDOM",
          "FI_RANDOM",
          "FI_RANDOM",
          "FI_RANDOM",
          "FI_RANDOM",
          "FI_RANDOM",
          "FI_RANDOM",
          "FI_RANDOM",
          "FI_RANDOM",
          "FI_RANDOM",
          "FI_RANDOM",
          "FI_RANDOM",
          "FI_RANDOM",
          "FI_RANDOM",
          "FI_RANDOM",
          "FI_RANDOM",
          "FI_RANDOM",
          "FI_RANDOM",
          "FI_RANDOM",
          "FI_RANDOM",
          "FI_RANDOM",
          "FI_RANDOM",
          "FI_RANDOM",
          "FI_RANDOM",
          "FI_RANDOM",
          "FI_RANDOM",
          "FI_RANDOM",
          "FI_RANDOM",
          "FI_RANDOM",
          "FI_RANDOM",
          "FI_RANDOM",
          "FI_RANDOM",
          "FI_RANDOM",
          "FI_RANDOM",
          "FI_RANDOM",
          "FI_RANDOM",
          "FI_RANDOM",
          "FI_RANDOM",
          "FI_RANDOM",
          "FI_RANDOM"
         ]
        }
       ],
       "layout": {
        "coloraxis": {
         "cmax": 3.001,
         "cmin": -3.001,
         "colorbar": {
          "ticktext": [
           "-1E0",
           "-1E-1",
           "-1E-2",
           0,
           "1E-2",
           "1E-1",
           "1E0"
          ],
          "tickvals": [
           -3,
           -2,
           -1,
           0,
           1,
           2,
           3
          ],
          "title": {
           "text": "% amélioration end_cost"
          }
         },
         "colorscale": [
          [
           0,
           "blue"
          ],
          [
           0.25,
           "cyan"
          ],
          [
           0.5,
           "green"
          ],
          [
           0.75,
           "yellow"
          ],
          [
           1,
           "red"
          ]
         ]
        },
        "height": 900,
        "legend": {
         "tracegroupgap": 0
        },
        "margin": {
         "t": 60
        },
        "scene": {
         "domain": {
          "x": [
           0,
           1
          ],
          "y": [
           0,
           1
          ]
         },
         "xaxis": {
          "title": {
           "text": "Nb. pts par clusters"
          }
         },
         "yaxis": {
          "title": {
           "text": "init_type"
          }
         },
         "zaxis": {
          "title": {
           "text": "algorithm"
          }
         }
        },
        "template": {
         "data": {
          "bar": [
           {
            "error_x": {
             "color": "#f2f5fa"
            },
            "error_y": {
             "color": "#f2f5fa"
            },
            "marker": {
             "line": {
              "color": "rgb(17,17,17)",
              "width": 0.5
             },
             "pattern": {
              "fillmode": "overlay",
              "size": 10,
              "solidity": 0.2
             }
            },
            "type": "bar"
           }
          ],
          "barpolar": [
           {
            "marker": {
             "line": {
              "color": "rgb(17,17,17)",
              "width": 0.5
             },
             "pattern": {
              "fillmode": "overlay",
              "size": 10,
              "solidity": 0.2
             }
            },
            "type": "barpolar"
           }
          ],
          "carpet": [
           {
            "aaxis": {
             "endlinecolor": "#A2B1C6",
             "gridcolor": "#506784",
             "linecolor": "#506784",
             "minorgridcolor": "#506784",
             "startlinecolor": "#A2B1C6"
            },
            "baxis": {
             "endlinecolor": "#A2B1C6",
             "gridcolor": "#506784",
             "linecolor": "#506784",
             "minorgridcolor": "#506784",
             "startlinecolor": "#A2B1C6"
            },
            "type": "carpet"
           }
          ],
          "choropleth": [
           {
            "colorbar": {
             "outlinewidth": 0,
             "ticks": ""
            },
            "type": "choropleth"
           }
          ],
          "contour": [
           {
            "colorbar": {
             "outlinewidth": 0,
             "ticks": ""
            },
            "colorscale": [
             [
              0,
              "#0d0887"
             ],
             [
              0.1111111111111111,
              "#46039f"
             ],
             [
              0.2222222222222222,
              "#7201a8"
             ],
             [
              0.3333333333333333,
              "#9c179e"
             ],
             [
              0.4444444444444444,
              "#bd3786"
             ],
             [
              0.5555555555555556,
              "#d8576b"
             ],
             [
              0.6666666666666666,
              "#ed7953"
             ],
             [
              0.7777777777777778,
              "#fb9f3a"
             ],
             [
              0.8888888888888888,
              "#fdca26"
             ],
             [
              1,
              "#f0f921"
             ]
            ],
            "type": "contour"
           }
          ],
          "contourcarpet": [
           {
            "colorbar": {
             "outlinewidth": 0,
             "ticks": ""
            },
            "type": "contourcarpet"
           }
          ],
          "heatmap": [
           {
            "colorbar": {
             "outlinewidth": 0,
             "ticks": ""
            },
            "colorscale": [
             [
              0,
              "#0d0887"
             ],
             [
              0.1111111111111111,
              "#46039f"
             ],
             [
              0.2222222222222222,
              "#7201a8"
             ],
             [
              0.3333333333333333,
              "#9c179e"
             ],
             [
              0.4444444444444444,
              "#bd3786"
             ],
             [
              0.5555555555555556,
              "#d8576b"
             ],
             [
              0.6666666666666666,
              "#ed7953"
             ],
             [
              0.7777777777777778,
              "#fb9f3a"
             ],
             [
              0.8888888888888888,
              "#fdca26"
             ],
             [
              1,
              "#f0f921"
             ]
            ],
            "type": "heatmap"
           }
          ],
          "heatmapgl": [
           {
            "colorbar": {
             "outlinewidth": 0,
             "ticks": ""
            },
            "colorscale": [
             [
              0,
              "#0d0887"
             ],
             [
              0.1111111111111111,
              "#46039f"
             ],
             [
              0.2222222222222222,
              "#7201a8"
             ],
             [
              0.3333333333333333,
              "#9c179e"
             ],
             [
              0.4444444444444444,
              "#bd3786"
             ],
             [
              0.5555555555555556,
              "#d8576b"
             ],
             [
              0.6666666666666666,
              "#ed7953"
             ],
             [
              0.7777777777777778,
              "#fb9f3a"
             ],
             [
              0.8888888888888888,
              "#fdca26"
             ],
             [
              1,
              "#f0f921"
             ]
            ],
            "type": "heatmapgl"
           }
          ],
          "histogram": [
           {
            "marker": {
             "pattern": {
              "fillmode": "overlay",
              "size": 10,
              "solidity": 0.2
             }
            },
            "type": "histogram"
           }
          ],
          "histogram2d": [
           {
            "colorbar": {
             "outlinewidth": 0,
             "ticks": ""
            },
            "colorscale": [
             [
              0,
              "#0d0887"
             ],
             [
              0.1111111111111111,
              "#46039f"
             ],
             [
              0.2222222222222222,
              "#7201a8"
             ],
             [
              0.3333333333333333,
              "#9c179e"
             ],
             [
              0.4444444444444444,
              "#bd3786"
             ],
             [
              0.5555555555555556,
              "#d8576b"
             ],
             [
              0.6666666666666666,
              "#ed7953"
             ],
             [
              0.7777777777777778,
              "#fb9f3a"
             ],
             [
              0.8888888888888888,
              "#fdca26"
             ],
             [
              1,
              "#f0f921"
             ]
            ],
            "type": "histogram2d"
           }
          ],
          "histogram2dcontour": [
           {
            "colorbar": {
             "outlinewidth": 0,
             "ticks": ""
            },
            "colorscale": [
             [
              0,
              "#0d0887"
             ],
             [
              0.1111111111111111,
              "#46039f"
             ],
             [
              0.2222222222222222,
              "#7201a8"
             ],
             [
              0.3333333333333333,
              "#9c179e"
             ],
             [
              0.4444444444444444,
              "#bd3786"
             ],
             [
              0.5555555555555556,
              "#d8576b"
             ],
             [
              0.6666666666666666,
              "#ed7953"
             ],
             [
              0.7777777777777778,
              "#fb9f3a"
             ],
             [
              0.8888888888888888,
              "#fdca26"
             ],
             [
              1,
              "#f0f921"
             ]
            ],
            "type": "histogram2dcontour"
           }
          ],
          "mesh3d": [
           {
            "colorbar": {
             "outlinewidth": 0,
             "ticks": ""
            },
            "type": "mesh3d"
           }
          ],
          "parcoords": [
           {
            "line": {
             "colorbar": {
              "outlinewidth": 0,
              "ticks": ""
             }
            },
            "type": "parcoords"
           }
          ],
          "pie": [
           {
            "automargin": true,
            "type": "pie"
           }
          ],
          "scatter": [
           {
            "marker": {
             "line": {
              "color": "#283442"
             }
            },
            "type": "scatter"
           }
          ],
          "scatter3d": [
           {
            "line": {
             "colorbar": {
              "outlinewidth": 0,
              "ticks": ""
             }
            },
            "marker": {
             "colorbar": {
              "outlinewidth": 0,
              "ticks": ""
             }
            },
            "type": "scatter3d"
           }
          ],
          "scattercarpet": [
           {
            "marker": {
             "colorbar": {
              "outlinewidth": 0,
              "ticks": ""
             }
            },
            "type": "scattercarpet"
           }
          ],
          "scattergeo": [
           {
            "marker": {
             "colorbar": {
              "outlinewidth": 0,
              "ticks": ""
             }
            },
            "type": "scattergeo"
           }
          ],
          "scattergl": [
           {
            "marker": {
             "line": {
              "color": "#283442"
             }
            },
            "type": "scattergl"
           }
          ],
          "scattermapbox": [
           {
            "marker": {
             "colorbar": {
              "outlinewidth": 0,
              "ticks": ""
             }
            },
            "type": "scattermapbox"
           }
          ],
          "scatterpolar": [
           {
            "marker": {
             "colorbar": {
              "outlinewidth": 0,
              "ticks": ""
             }
            },
            "type": "scatterpolar"
           }
          ],
          "scatterpolargl": [
           {
            "marker": {
             "colorbar": {
              "outlinewidth": 0,
              "ticks": ""
             }
            },
            "type": "scatterpolargl"
           }
          ],
          "scatterternary": [
           {
            "marker": {
             "colorbar": {
              "outlinewidth": 0,
              "ticks": ""
             }
            },
            "type": "scatterternary"
           }
          ],
          "surface": [
           {
            "colorbar": {
             "outlinewidth": 0,
             "ticks": ""
            },
            "colorscale": [
             [
              0,
              "#0d0887"
             ],
             [
              0.1111111111111111,
              "#46039f"
             ],
             [
              0.2222222222222222,
              "#7201a8"
             ],
             [
              0.3333333333333333,
              "#9c179e"
             ],
             [
              0.4444444444444444,
              "#bd3786"
             ],
             [
              0.5555555555555556,
              "#d8576b"
             ],
             [
              0.6666666666666666,
              "#ed7953"
             ],
             [
              0.7777777777777778,
              "#fb9f3a"
             ],
             [
              0.8888888888888888,
              "#fdca26"
             ],
             [
              1,
              "#f0f921"
             ]
            ],
            "type": "surface"
           }
          ],
          "table": [
           {
            "cells": {
             "fill": {
              "color": "#506784"
             },
             "line": {
              "color": "rgb(17,17,17)"
             }
            },
            "header": {
             "fill": {
              "color": "#2a3f5f"
             },
             "line": {
              "color": "rgb(17,17,17)"
             }
            },
            "type": "table"
           }
          ]
         },
         "layout": {
          "annotationdefaults": {
           "arrowcolor": "#f2f5fa",
           "arrowhead": 0,
           "arrowwidth": 1
          },
          "autotypenumbers": "strict",
          "coloraxis": {
           "colorbar": {
            "outlinewidth": 0,
            "ticks": ""
           }
          },
          "colorscale": {
           "diverging": [
            [
             0,
             "#8e0152"
            ],
            [
             0.1,
             "#c51b7d"
            ],
            [
             0.2,
             "#de77ae"
            ],
            [
             0.3,
             "#f1b6da"
            ],
            [
             0.4,
             "#fde0ef"
            ],
            [
             0.5,
             "#f7f7f7"
            ],
            [
             0.6,
             "#e6f5d0"
            ],
            [
             0.7,
             "#b8e186"
            ],
            [
             0.8,
             "#7fbc41"
            ],
            [
             0.9,
             "#4d9221"
            ],
            [
             1,
             "#276419"
            ]
           ],
           "sequential": [
            [
             0,
             "#0d0887"
            ],
            [
             0.1111111111111111,
             "#46039f"
            ],
            [
             0.2222222222222222,
             "#7201a8"
            ],
            [
             0.3333333333333333,
             "#9c179e"
            ],
            [
             0.4444444444444444,
             "#bd3786"
            ],
            [
             0.5555555555555556,
             "#d8576b"
            ],
            [
             0.6666666666666666,
             "#ed7953"
            ],
            [
             0.7777777777777778,
             "#fb9f3a"
            ],
            [
             0.8888888888888888,
             "#fdca26"
            ],
            [
             1,
             "#f0f921"
            ]
           ],
           "sequentialminus": [
            [
             0,
             "#0d0887"
            ],
            [
             0.1111111111111111,
             "#46039f"
            ],
            [
             0.2222222222222222,
             "#7201a8"
            ],
            [
             0.3333333333333333,
             "#9c179e"
            ],
            [
             0.4444444444444444,
             "#bd3786"
            ],
            [
             0.5555555555555556,
             "#d8576b"
            ],
            [
             0.6666666666666666,
             "#ed7953"
            ],
            [
             0.7777777777777778,
             "#fb9f3a"
            ],
            [
             0.8888888888888888,
             "#fdca26"
            ],
            [
             1,
             "#f0f921"
            ]
           ]
          },
          "colorway": [
           "#636efa",
           "#EF553B",
           "#00cc96",
           "#ab63fa",
           "#FFA15A",
           "#19d3f3",
           "#FF6692",
           "#B6E880",
           "#FF97FF",
           "#FECB52"
          ],
          "font": {
           "color": "#f2f5fa"
          },
          "geo": {
           "bgcolor": "rgb(17,17,17)",
           "lakecolor": "rgb(17,17,17)",
           "landcolor": "rgb(17,17,17)",
           "showlakes": true,
           "showland": true,
           "subunitcolor": "#506784"
          },
          "hoverlabel": {
           "align": "left"
          },
          "hovermode": "closest",
          "mapbox": {
           "style": "dark"
          },
          "paper_bgcolor": "rgb(17,17,17)",
          "plot_bgcolor": "rgb(17,17,17)",
          "polar": {
           "angularaxis": {
            "gridcolor": "#506784",
            "linecolor": "#506784",
            "ticks": ""
           },
           "bgcolor": "rgb(17,17,17)",
           "radialaxis": {
            "gridcolor": "#506784",
            "linecolor": "#506784",
            "ticks": ""
           }
          },
          "scene": {
           "xaxis": {
            "backgroundcolor": "rgb(17,17,17)",
            "gridcolor": "#506784",
            "gridwidth": 2,
            "linecolor": "#506784",
            "showbackground": true,
            "ticks": "",
            "zerolinecolor": "#C8D4E3"
           },
           "yaxis": {
            "backgroundcolor": "rgb(17,17,17)",
            "gridcolor": "#506784",
            "gridwidth": 2,
            "linecolor": "#506784",
            "showbackground": true,
            "ticks": "",
            "zerolinecolor": "#C8D4E3"
           },
           "zaxis": {
            "backgroundcolor": "rgb(17,17,17)",
            "gridcolor": "#506784",
            "gridwidth": 2,
            "linecolor": "#506784",
            "showbackground": true,
            "ticks": "",
            "zerolinecolor": "#C8D4E3"
           }
          },
          "shapedefaults": {
           "line": {
            "color": "#f2f5fa"
           }
          },
          "sliderdefaults": {
           "bgcolor": "#C8D4E3",
           "bordercolor": "rgb(17,17,17)",
           "borderwidth": 1,
           "tickwidth": 0
          },
          "ternary": {
           "aaxis": {
            "gridcolor": "#506784",
            "linecolor": "#506784",
            "ticks": ""
           },
           "baxis": {
            "gridcolor": "#506784",
            "linecolor": "#506784",
            "ticks": ""
           },
           "bgcolor": "rgb(17,17,17)",
           "caxis": {
            "gridcolor": "#506784",
            "linecolor": "#506784",
            "ticks": ""
           }
          },
          "title": {
           "x": 0.05
          },
          "updatemenudefaults": {
           "bgcolor": "#506784",
           "borderwidth": 0
          },
          "xaxis": {
           "automargin": true,
           "gridcolor": "#283442",
           "linecolor": "#506784",
           "ticks": "",
           "title": {
            "standoff": 15
           },
           "zerolinecolor": "#283442",
           "zerolinewidth": 2
          },
          "yaxis": {
           "automargin": true,
           "gridcolor": "#283442",
           "linecolor": "#506784",
           "ticks": "",
           "title": {
            "standoff": 15
           },
           "zerolinecolor": "#283442",
           "zerolinewidth": 2
          }
         }
        },
        "width": 1000
       }
      }
     },
     "metadata": {},
     "output_type": "display_data"
    }
   ],
   "source": [
    "COLUMN = \"% amélioration end_cost\"\n",
    "df = orig_df.copy().drop(columns=[\"num_points\"])\n",
    "grouped_cols = [\"num_clusters\",\"Nb. points\",\"init_type\",\"algorithm\"]\n",
    "df = df.groupby(grouped_cols).mean().reset_index()\n",
    "df_BI = df[df[\"algorithm\"] == \"BI_BACK\"].copy().set_index(grouped_cols)\n",
    "Ldf = []\n",
    "for algo in pd.unique(df[\"algorithm\"]):\n",
    "    df_algo = df[df[\"algorithm\"] == algo].copy()\n",
    "    df_algo[\"algorithm\"] = \"BI_BACK\"\n",
    "    df_algo = df_algo.set_index(grouped_cols)\n",
    "    df_algo_orig = df_algo.copy()\n",
    "    df_algo = (df_algo - df_BI)/df_BI*100\n",
    "    df_algo.columns = [\"% amélioration \"+c for c in df_algo.columns]\n",
    "    df_algo = pd.concat([df_algo_orig,df_algo],axis=1)\n",
    "    df_algo = df_algo.reset_index()\n",
    "    df_algo[\"algorithm\"] = algo\n",
    "    Ldf.append(df_algo)\n",
    "df = pd.concat(Ldf,axis=0)\n",
    "df[\"Nb. pts par clusters\"] = df[\"Nb. points\"]/df[\"num_clusters\"]\n",
    "ticks_pow = [-2,-1,0]\n",
    "max_val = abs(min(ticks_pow))\n",
    "delta_zero = 0.001+1\n",
    "print(min(ticks_pow)-1,np.inf)\n",
    "logscale = lambda x:  np.sign(x) * (1-min(ticks_pow)+np.clip(np.log10(np.abs(x+1e-16)),min(ticks_pow)-delta_zero,np.inf))\n",
    "fig = px.scatter_3d(df,x=\"Nb. pts par clusters\",y=\"init_type\",z=\"algorithm\",color=logscale(df[COLUMN]),\n",
    "                    hover_data=[\"Nb. pts par clusters\",\"init_type\",\"algorithm\",COLUMN],\n",
    "                    color_continuous_scale=[\"red\",\"yellow\",\"green\",\"cyan\",\"blue\"][::-1],\n",
    "                    range_color=[-max_val-delta_zero,max_val+delta_zero],\n",
    "                    template=\"plotly_dark\",width=1000,height=900)\n",
    "def build(f):\n",
    "    ticks_pos = [f(1,p) for p in ticks_pow]\n",
    "    ticks_neg = [f(-1,p) for p in ticks_pow[::-1]]\n",
    "    return [*ticks_neg,logscale(0),*ticks_pos]\n",
    "def func(sign,p):\n",
    "    real_value = sign*10**p\n",
    "    return logscale(real_value)\n",
    "Lp = build(func)\n",
    "print(Lp)\n",
    "Lannot = build(lambda sign,p: \"1E\"+str(p) if sign > 0 else \"-1E\"+str(p))\n",
    "print(Lp)\n",
    "print(Lannot)\n",
    "fig.update_layout(coloraxis_colorbar=dict(\n",
    "    title=COLUMN,\n",
    "    tickvals=np.round(Lp,decimals=2),\n",
    "    ticktext=Lannot,\n",
    "))\n",
    "fig.show()"
   ]
  },
  {
   "cell_type": "code",
   "execution_count": 66,
   "metadata": {},
   "outputs": [],
   "source": [
    "class SignColorFormatter:\n",
    "    def format(self,df):\n",
    "        original_df = df.copy()\n",
    "        df.loc[\n",
    "            original_df[\"cost_augm_BI_ref\"] < 0, \"cost_augm_BI_ref\"\n",
    "        ] = \"decrease\"\n",
    "        df.loc[\n",
    "            original_df[\"cost_augm_BI_ref\"] > 0, \"cost_augm_BI_ref\"\n",
    "        ] = \"increase\"\n",
    "        df.loc[\n",
    "            original_df[\"cost_augm_BI_ref\"] == 0, \"cost_augm_BI_ref\"\n",
    "        ] = \"no_change\"\n",
    "        return df\n",
    "    def get_colors(self):\n",
    "        return {\"decrease\":\"red\",\"increase\":\"green\",\"no_change\":\"blue\"}\n",
    "class MultipleRanges:\n",
    "    def __init__(self):\n",
    "        self.dico = {\"#9E2A2B\":[100,99999],\n",
    "                     \"#F3722C\":[10,100],\n",
    "                     \"#F8961E\":[1,10],\n",
    "                     \"#F9844A\":[0,1],\n",
    "                     \"white\": 0,\n",
    "                     \"#C6FF94\":[-1,0],\n",
    "                     \"#00BC78\":[-10,-1],\n",
    "                     \"#4D908E\":[-100,-10],\n",
    "                     \"#245F84\":[-99999,-100],\n",
    "                     }\n",
    "    def format(self,df):\n",
    "        original_df = df.copy()\n",
    "        for ranges in self.dico.values():\n",
    "            if isinstance(ranges,list):\n",
    "                if  ranges[1] in self.dico.values():\n",
    "                    localization = (original_df[\"cost_augm_BI_ref\"] > ranges[0]) & (original_df[\"cost_augm_BI_ref\"] < ranges[1])\n",
    "                else:\n",
    "                    localization = (original_df[\"cost_augm_BI_ref\"] > ranges[0]) & (original_df[\"cost_augm_BI_ref\"] <= ranges[1])\n",
    "                    \n",
    "                df.loc[\n",
    "                    localization, \"cost_augm_BI_ref\"\n",
    "                ] = str(ranges)\n",
    "            elif isinstance(ranges,int):\n",
    "                df.loc[\n",
    "                    original_df[\"cost_augm_BI_ref\"] == ranges, \"cost_augm_BI_ref\"\n",
    "                ] = str(ranges)\n",
    "            else:\n",
    "                print(f\"WARNING: ranges {ranges} is not a list or int\")\n",
    "        return df\n",
    "    def get_colors(self):\n",
    "        return {str(ranges):color for color,ranges in self.dico.items()}\n",
    "    \n",
    "def reformat(df, init=\"random\", average=True, color_formatter=None):\n",
    "    tmp_df = df[df[\"init_type\"] == init].copy()\n",
    "    tmp_df.loc[:, \"algorithm\"] = tmp_df[\"ImprClass\"] + \"_\" + tmp_df[\"iteration_order\"]\n",
    "    tmp_df.loc[:, \"index\"] = (\n",
    "        tmp_df[\"uuid_points_coords\"]\n",
    "        + \"_\"\n",
    "        + tmp_df[\"uuid_points_assign\"]\n",
    "        + \"_\"\n",
    "        + tmp_df[\"num_points\"].astype(str)\n",
    "    )\n",
    "    tmp_df = tmp_df.drop(\n",
    "        [\n",
    "            \"init_cost\",\n",
    "            \"ImprClass\",\n",
    "            \"init_type\",\n",
    "            \"iteration_order\",\n",
    "            \"uuid_points_coords\",\n",
    "            \"uuid_points_assign\",\n",
    "        ],\n",
    "        axis=1,\n",
    "    )\n",
    "    Lnew = []\n",
    "    for num_clust in [2, 4, 8, 16, 32, 64, 128]:\n",
    "        df_tmp = tmp_df[tmp_df[\"num_clusters\"] == num_clust].copy()\n",
    "        Ldf = []\n",
    "        for algorithm in pd.unique(df_tmp[\"algorithm\"]):\n",
    "            df_tmp1 = df_tmp[df_tmp[\"algorithm\"] == algorithm].copy()\n",
    "            df_tmp1.set_index([\"index\"], inplace=True)\n",
    "            if \"Best\" in algorithm:\n",
    "                backup_tmp_df = df_tmp1.copy()\n",
    "                backup_tmp_df.loc[:, \"algorithm\"] = algorithm\n",
    "                backup_tmp_df.loc[:, \"num_clusters\"] = num_clust\n",
    "                continue\n",
    "            else:\n",
    "                current = df_tmp1\n",
    "                df_tmp1 = df_tmp1.assign(\n",
    "                    cost_augm_BI_ref=current[\"end_cost\"].copy()\n",
    "                    - backup_tmp_df[\"end_cost\"].copy()\n",
    "                )\n",
    "            if average:\n",
    "                df_tmp1 = df_tmp1.groupby(\"num_points\", as_index=False).mean()\n",
    "            df_tmp1.loc[:, \"algorithm\"] = algorithm\n",
    "            df_tmp1.loc[:, \"num_clusters\"] = num_clust\n",
    "            new_df_tmp1 = df_tmp1.copy()\n",
    "            if color_formatter is not None:\n",
    "                new_df_tmp1 = color_formatter.format(new_df_tmp1)\n",
    "            Ldf.append(new_df_tmp1)\n",
    "        if len(Ldf) > 0:\n",
    "            Lnew.append(pd.concat(Ldf, axis=0))\n",
    "    new_df = pd.concat(Lnew, axis=0)\n",
    "    return new_df\n",
    "\n",
    "\n",
    "def table(init_df, init=\"random\"):\n",
    "    df = reformat(init_df.copy(), init, average=False)\n",
    "    return display(df)\n",
    "\n",
    "\n",
    "def plot(init_df, init=\"random\", color_formatter=None):\n",
    "    df = reformat(init_df.copy(), init, color_formatter=color_formatter)\n",
    "    # fig = px.scatter_3d(\n",
    "    #     df,\n",
    "    #     x=\"num_points\",\n",
    "    #     y=\"algorithm\",\n",
    "    #     z=\"num_clusters\",\n",
    "    #     log_z=True,\n",
    "    #     color=\"cost_augm_BI_ref\",\n",
    "    #     color_discrete_map=color_formatter.get_colors() if color_formatter is not None else None,\n",
    "    #     template=\"plotly_dark\",\n",
    "    #     width=1000,\n",
    "    #     height=800,\n",
    "    #     labels={\n",
    "    #                  \"num_points\": \"Nombre de points\",\n",
    "    #                  \"algorithm\": \"Algorithme\",\n",
    "    #                  \"num_clusters\": \"Nombre de clusters\",\n",
    "    #                  \"cost_augm_BI_ref\": \"Augmentation du coût<br> par rapport à<br> Best Improvement\"\n",
    "    #              },\n",
    "    #     category_orders={\"cost_augm_BI_ref\": (color_formatter.get_colors().keys()) } if color_formatter is not None else None ,\n",
    "    #     title=f\"Augmentation du coûtpar rapport à Best Improvement (CURR)<br>avec initialisation {init}\",\n",
    "    # )\n",
    "    fig = px.scatter(\n",
    "        df[df[\"algorithm\"] == \"CallbackFirstImprovement_CURR\"],\n",
    "        x=\"num_points\",\n",
    "        y=\"num_clusters\",\n",
    "        log_y=True,\n",
    "        color=\"cost_augm_BI_ref\",\n",
    "        color_discrete_map=color_formatter.get_colors() if color_formatter is not None else None,\n",
    "        width=1000,\n",
    "        height=800,\n",
    "        labels={\n",
    "                     \"num_points\": \"Nombre de points\",\n",
    "                     \"algorithm\": \"Algorithme\",\n",
    "                     \"num_clusters\": \"Nombre de clusters\",\n",
    "                     \"cost_augm_BI_ref\": \"Augmentation du coût<br> par rapport à<br> Best Improvement\"\n",
    "                 },\n",
    "        category_orders={\"cost_augm_BI_ref\": (color_formatter.get_colors().keys()) } if color_formatter is not None else None ,\n",
    "        title=f\"Augmentation du coût de FirstImprovement_CURR par rapport à Best Improvement (CURR)<br>avec initialisation \\\"{init}\\\"\",\n",
    "    )\n",
    "    fig.update_traces(marker=dict(size=12),\n",
    "                  selector=dict(mode='markers'))\n",
    "    fig.show()  # \"png\"\n",
    "for num_clusters,df_comp in dico_comp.items():\n",
    "    Lindexes = [\n",
    "        [(init,'% amélioration',algo,\"end_cost\") for algo in [\"FI_CURR\",\"FI_BACK\",\"FI_RANDOM\"]]\n",
    "        for init in ['random','kmean+']\n",
    "    ]\n",
    "    styler = df_comp.copy().style\n",
    "    i = 0\n",
    "    for indexes,negative_good in zip(Lindexes,[False,False]):\n",
    "        subset_list = [df_comp[index] for index in indexes]\n",
    "        maxi = max(s.abs().max() for s in subset_list)\n",
    "        if maxi == 0:\n",
    "            continue\n",
    "        styler.background_gradient(cmap=generate_cmap(negative_good=negative_good), axis=1,subset=indexes,vmin=-maxi,vmax=maxi)\n",
    "    print(\"Pour le nombre de clusters : \",num_clusters)\n",
    "    print(display(styler))"
   ]
  },
  {
   "cell_type": "code",
   "execution_count": 67,
   "metadata": {},
   "outputs": [
    {
     "data": {
      "application/vnd.plotly.v1+json": {
       "config": {
        "plotlyServerURL": "https://plot.ly"
       },
       "data": [
        {
         "hovertemplate": "Augmentation du coût<br> par rapport à<br> Best Improvement=[100, 99999]<br>Nombre de points=%{x}<br>Nombre de clusters=%{y}<extra></extra>",
         "legendgroup": "[100, 99999]",
         "marker": {
          "color": "#9E2A2B",
          "size": 12,
          "symbol": "circle"
         },
         "mode": "markers",
         "name": "[100, 99999]",
         "orientation": "v",
         "showlegend": true,
         "type": "scatter",
         "x": [
          40,
          30,
          40
         ],
         "xaxis": "x",
         "y": [
          4,
          16,
          32
         ],
         "yaxis": "y"
        },
        {
         "hovertemplate": "Augmentation du coût<br> par rapport à<br> Best Improvement=[10, 100]<br>Nombre de points=%{x}<br>Nombre de clusters=%{y}<extra></extra>",
         "legendgroup": "[10, 100]",
         "marker": {
          "color": "#F3722C",
          "size": 12,
          "symbol": "circle"
         },
         "mode": "markers",
         "name": "[10, 100]",
         "orientation": "v",
         "showlegend": true,
         "type": "scatter",
         "x": [
          30,
          50,
          20,
          70,
          20,
          40,
          70,
          50,
          70
         ],
         "xaxis": "x",
         "y": [
          4,
          4,
          8,
          8,
          16,
          16,
          16,
          32,
          64
         ],
         "yaxis": "y"
        },
        {
         "hovertemplate": "Augmentation du coût<br> par rapport à<br> Best Improvement=[1, 10]<br>Nombre de points=%{x}<br>Nombre de clusters=%{y}<extra></extra>",
         "legendgroup": "[1, 10]",
         "marker": {
          "color": "#F8961E",
          "size": 12,
          "symbol": "circle"
         },
         "mode": "markers",
         "name": "[1, 10]",
         "orientation": "v",
         "showlegend": true,
         "type": "scatter",
         "x": [
          30,
          40
         ],
         "xaxis": "x",
         "y": [
          8,
          8
         ],
         "yaxis": "y"
        },
        {
         "hovertemplate": "Augmentation du coût<br> par rapport à<br> Best Improvement=[0, 1]<br>Nombre de points=%{x}<br>Nombre de clusters=%{y}<extra></extra>",
         "legendgroup": "[0, 1]",
         "marker": {
          "color": "#F9844A",
          "size": 12,
          "symbol": "circle"
         },
         "mode": "markers",
         "name": "[0, 1]",
         "orientation": "v",
         "showlegend": true,
         "type": "scatter",
         "x": [
          40
         ],
         "xaxis": "x",
         "y": [
          2
         ],
         "yaxis": "y"
        },
        {
         "hovertemplate": "Augmentation du coût<br> par rapport à<br> Best Improvement=[-1, 0]<br>Nombre de points=%{x}<br>Nombre de clusters=%{y}<extra></extra>",
         "legendgroup": "[-1, 0]",
         "marker": {
          "color": "#C6FF94",
          "size": 12,
          "symbol": "circle"
         },
         "mode": "markers",
         "name": "[-1, 0]",
         "orientation": "v",
         "showlegend": true,
         "type": "scatter",
         "x": [
          30,
          50,
          60,
          70
         ],
         "xaxis": "x",
         "y": [
          2,
          2,
          2,
          2
         ],
         "yaxis": "y"
        },
        {
         "hovertemplate": "Augmentation du coût<br> par rapport à<br> Best Improvement=[-10, -1]<br>Nombre de points=%{x}<br>Nombre de clusters=%{y}<extra></extra>",
         "legendgroup": "[-10, -1]",
         "marker": {
          "color": "#00BC78",
          "size": 12,
          "symbol": "circle"
         },
         "mode": "markers",
         "name": "[-10, -1]",
         "orientation": "v",
         "showlegend": true,
         "type": "scatter",
         "x": [
          20,
          50,
          80
         ],
         "xaxis": "x",
         "y": [
          4,
          16,
          16
         ],
         "yaxis": "y"
        },
        {
         "hovertemplate": "Augmentation du coût<br> par rapport à<br> Best Improvement=[-100, -10]<br>Nombre de points=%{x}<br>Nombre de clusters=%{y}<extra></extra>",
         "legendgroup": "[-100, -10]",
         "marker": {
          "color": "#4D908E",
          "size": 12,
          "symbol": "circle"
         },
         "mode": "markers",
         "name": "[-100, -10]",
         "orientation": "v",
         "showlegend": true,
         "type": "scatter",
         "x": [
          60,
          70,
          50,
          60,
          60,
          60,
          70
         ],
         "xaxis": "x",
         "y": [
          4,
          4,
          8,
          8,
          16,
          32,
          32
         ],
         "yaxis": "y"
        },
        {
         "hovertemplate": "Augmentation du coût<br> par rapport à<br> Best Improvement=[-99999, -100]<br>Nombre de points=%{x}<br>Nombre de clusters=%{y}<extra></extra>",
         "legendgroup": "[-99999, -100]",
         "marker": {
          "color": "#245F84",
          "size": 12,
          "symbol": "circle"
         },
         "mode": "markers",
         "name": "[-99999, -100]",
         "orientation": "v",
         "showlegend": true,
         "type": "scatter",
         "x": [
          20
         ],
         "xaxis": "x",
         "y": [
          2
         ],
         "yaxis": "y"
        }
       ],
       "layout": {
        "height": 800,
        "legend": {
         "title": {
          "text": "Augmentation du coût<br> par rapport à<br> Best Improvement"
         },
         "tracegroupgap": 0
        },
        "template": {
         "data": {
          "bar": [
           {
            "error_x": {
             "color": "#2a3f5f"
            },
            "error_y": {
             "color": "#2a3f5f"
            },
            "marker": {
             "line": {
              "color": "#E5ECF6",
              "width": 0.5
             },
             "pattern": {
              "fillmode": "overlay",
              "size": 10,
              "solidity": 0.2
             }
            },
            "type": "bar"
           }
          ],
          "barpolar": [
           {
            "marker": {
             "line": {
              "color": "#E5ECF6",
              "width": 0.5
             },
             "pattern": {
              "fillmode": "overlay",
              "size": 10,
              "solidity": 0.2
             }
            },
            "type": "barpolar"
           }
          ],
          "carpet": [
           {
            "aaxis": {
             "endlinecolor": "#2a3f5f",
             "gridcolor": "white",
             "linecolor": "white",
             "minorgridcolor": "white",
             "startlinecolor": "#2a3f5f"
            },
            "baxis": {
             "endlinecolor": "#2a3f5f",
             "gridcolor": "white",
             "linecolor": "white",
             "minorgridcolor": "white",
             "startlinecolor": "#2a3f5f"
            },
            "type": "carpet"
           }
          ],
          "choropleth": [
           {
            "colorbar": {
             "outlinewidth": 0,
             "ticks": ""
            },
            "type": "choropleth"
           }
          ],
          "contour": [
           {
            "colorbar": {
             "outlinewidth": 0,
             "ticks": ""
            },
            "colorscale": [
             [
              0,
              "#0d0887"
             ],
             [
              0.1111111111111111,
              "#46039f"
             ],
             [
              0.2222222222222222,
              "#7201a8"
             ],
             [
              0.3333333333333333,
              "#9c179e"
             ],
             [
              0.4444444444444444,
              "#bd3786"
             ],
             [
              0.5555555555555556,
              "#d8576b"
             ],
             [
              0.6666666666666666,
              "#ed7953"
             ],
             [
              0.7777777777777778,
              "#fb9f3a"
             ],
             [
              0.8888888888888888,
              "#fdca26"
             ],
             [
              1,
              "#f0f921"
             ]
            ],
            "type": "contour"
           }
          ],
          "contourcarpet": [
           {
            "colorbar": {
             "outlinewidth": 0,
             "ticks": ""
            },
            "type": "contourcarpet"
           }
          ],
          "heatmap": [
           {
            "colorbar": {
             "outlinewidth": 0,
             "ticks": ""
            },
            "colorscale": [
             [
              0,
              "#0d0887"
             ],
             [
              0.1111111111111111,
              "#46039f"
             ],
             [
              0.2222222222222222,
              "#7201a8"
             ],
             [
              0.3333333333333333,
              "#9c179e"
             ],
             [
              0.4444444444444444,
              "#bd3786"
             ],
             [
              0.5555555555555556,
              "#d8576b"
             ],
             [
              0.6666666666666666,
              "#ed7953"
             ],
             [
              0.7777777777777778,
              "#fb9f3a"
             ],
             [
              0.8888888888888888,
              "#fdca26"
             ],
             [
              1,
              "#f0f921"
             ]
            ],
            "type": "heatmap"
           }
          ],
          "heatmapgl": [
           {
            "colorbar": {
             "outlinewidth": 0,
             "ticks": ""
            },
            "colorscale": [
             [
              0,
              "#0d0887"
             ],
             [
              0.1111111111111111,
              "#46039f"
             ],
             [
              0.2222222222222222,
              "#7201a8"
             ],
             [
              0.3333333333333333,
              "#9c179e"
             ],
             [
              0.4444444444444444,
              "#bd3786"
             ],
             [
              0.5555555555555556,
              "#d8576b"
             ],
             [
              0.6666666666666666,
              "#ed7953"
             ],
             [
              0.7777777777777778,
              "#fb9f3a"
             ],
             [
              0.8888888888888888,
              "#fdca26"
             ],
             [
              1,
              "#f0f921"
             ]
            ],
            "type": "heatmapgl"
           }
          ],
          "histogram": [
           {
            "marker": {
             "pattern": {
              "fillmode": "overlay",
              "size": 10,
              "solidity": 0.2
             }
            },
            "type": "histogram"
           }
          ],
          "histogram2d": [
           {
            "colorbar": {
             "outlinewidth": 0,
             "ticks": ""
            },
            "colorscale": [
             [
              0,
              "#0d0887"
             ],
             [
              0.1111111111111111,
              "#46039f"
             ],
             [
              0.2222222222222222,
              "#7201a8"
             ],
             [
              0.3333333333333333,
              "#9c179e"
             ],
             [
              0.4444444444444444,
              "#bd3786"
             ],
             [
              0.5555555555555556,
              "#d8576b"
             ],
             [
              0.6666666666666666,
              "#ed7953"
             ],
             [
              0.7777777777777778,
              "#fb9f3a"
             ],
             [
              0.8888888888888888,
              "#fdca26"
             ],
             [
              1,
              "#f0f921"
             ]
            ],
            "type": "histogram2d"
           }
          ],
          "histogram2dcontour": [
           {
            "colorbar": {
             "outlinewidth": 0,
             "ticks": ""
            },
            "colorscale": [
             [
              0,
              "#0d0887"
             ],
             [
              0.1111111111111111,
              "#46039f"
             ],
             [
              0.2222222222222222,
              "#7201a8"
             ],
             [
              0.3333333333333333,
              "#9c179e"
             ],
             [
              0.4444444444444444,
              "#bd3786"
             ],
             [
              0.5555555555555556,
              "#d8576b"
             ],
             [
              0.6666666666666666,
              "#ed7953"
             ],
             [
              0.7777777777777778,
              "#fb9f3a"
             ],
             [
              0.8888888888888888,
              "#fdca26"
             ],
             [
              1,
              "#f0f921"
             ]
            ],
            "type": "histogram2dcontour"
           }
          ],
          "mesh3d": [
           {
            "colorbar": {
             "outlinewidth": 0,
             "ticks": ""
            },
            "type": "mesh3d"
           }
          ],
          "parcoords": [
           {
            "line": {
             "colorbar": {
              "outlinewidth": 0,
              "ticks": ""
             }
            },
            "type": "parcoords"
           }
          ],
          "pie": [
           {
            "automargin": true,
            "type": "pie"
           }
          ],
          "scatter": [
           {
            "marker": {
             "colorbar": {
              "outlinewidth": 0,
              "ticks": ""
             }
            },
            "type": "scatter"
           }
          ],
          "scatter3d": [
           {
            "line": {
             "colorbar": {
              "outlinewidth": 0,
              "ticks": ""
             }
            },
            "marker": {
             "colorbar": {
              "outlinewidth": 0,
              "ticks": ""
             }
            },
            "type": "scatter3d"
           }
          ],
          "scattercarpet": [
           {
            "marker": {
             "colorbar": {
              "outlinewidth": 0,
              "ticks": ""
             }
            },
            "type": "scattercarpet"
           }
          ],
          "scattergeo": [
           {
            "marker": {
             "colorbar": {
              "outlinewidth": 0,
              "ticks": ""
             }
            },
            "type": "scattergeo"
           }
          ],
          "scattergl": [
           {
            "marker": {
             "colorbar": {
              "outlinewidth": 0,
              "ticks": ""
             }
            },
            "type": "scattergl"
           }
          ],
          "scattermapbox": [
           {
            "marker": {
             "colorbar": {
              "outlinewidth": 0,
              "ticks": ""
             }
            },
            "type": "scattermapbox"
           }
          ],
          "scatterpolar": [
           {
            "marker": {
             "colorbar": {
              "outlinewidth": 0,
              "ticks": ""
             }
            },
            "type": "scatterpolar"
           }
          ],
          "scatterpolargl": [
           {
            "marker": {
             "colorbar": {
              "outlinewidth": 0,
              "ticks": ""
             }
            },
            "type": "scatterpolargl"
           }
          ],
          "scatterternary": [
           {
            "marker": {
             "colorbar": {
              "outlinewidth": 0,
              "ticks": ""
             }
            },
            "type": "scatterternary"
           }
          ],
          "surface": [
           {
            "colorbar": {
             "outlinewidth": 0,
             "ticks": ""
            },
            "colorscale": [
             [
              0,
              "#0d0887"
             ],
             [
              0.1111111111111111,
              "#46039f"
             ],
             [
              0.2222222222222222,
              "#7201a8"
             ],
             [
              0.3333333333333333,
              "#9c179e"
             ],
             [
              0.4444444444444444,
              "#bd3786"
             ],
             [
              0.5555555555555556,
              "#d8576b"
             ],
             [
              0.6666666666666666,
              "#ed7953"
             ],
             [
              0.7777777777777778,
              "#fb9f3a"
             ],
             [
              0.8888888888888888,
              "#fdca26"
             ],
             [
              1,
              "#f0f921"
             ]
            ],
            "type": "surface"
           }
          ],
          "table": [
           {
            "cells": {
             "fill": {
              "color": "#EBF0F8"
             },
             "line": {
              "color": "white"
             }
            },
            "header": {
             "fill": {
              "color": "#C8D4E3"
             },
             "line": {
              "color": "white"
             }
            },
            "type": "table"
           }
          ]
         },
         "layout": {
          "annotationdefaults": {
           "arrowcolor": "#2a3f5f",
           "arrowhead": 0,
           "arrowwidth": 1
          },
          "autotypenumbers": "strict",
          "coloraxis": {
           "colorbar": {
            "outlinewidth": 0,
            "ticks": ""
           }
          },
          "colorscale": {
           "diverging": [
            [
             0,
             "#8e0152"
            ],
            [
             0.1,
             "#c51b7d"
            ],
            [
             0.2,
             "#de77ae"
            ],
            [
             0.3,
             "#f1b6da"
            ],
            [
             0.4,
             "#fde0ef"
            ],
            [
             0.5,
             "#f7f7f7"
            ],
            [
             0.6,
             "#e6f5d0"
            ],
            [
             0.7,
             "#b8e186"
            ],
            [
             0.8,
             "#7fbc41"
            ],
            [
             0.9,
             "#4d9221"
            ],
            [
             1,
             "#276419"
            ]
           ],
           "sequential": [
            [
             0,
             "#0d0887"
            ],
            [
             0.1111111111111111,
             "#46039f"
            ],
            [
             0.2222222222222222,
             "#7201a8"
            ],
            [
             0.3333333333333333,
             "#9c179e"
            ],
            [
             0.4444444444444444,
             "#bd3786"
            ],
            [
             0.5555555555555556,
             "#d8576b"
            ],
            [
             0.6666666666666666,
             "#ed7953"
            ],
            [
             0.7777777777777778,
             "#fb9f3a"
            ],
            [
             0.8888888888888888,
             "#fdca26"
            ],
            [
             1,
             "#f0f921"
            ]
           ],
           "sequentialminus": [
            [
             0,
             "#0d0887"
            ],
            [
             0.1111111111111111,
             "#46039f"
            ],
            [
             0.2222222222222222,
             "#7201a8"
            ],
            [
             0.3333333333333333,
             "#9c179e"
            ],
            [
             0.4444444444444444,
             "#bd3786"
            ],
            [
             0.5555555555555556,
             "#d8576b"
            ],
            [
             0.6666666666666666,
             "#ed7953"
            ],
            [
             0.7777777777777778,
             "#fb9f3a"
            ],
            [
             0.8888888888888888,
             "#fdca26"
            ],
            [
             1,
             "#f0f921"
            ]
           ]
          },
          "colorway": [
           "#636efa",
           "#EF553B",
           "#00cc96",
           "#ab63fa",
           "#FFA15A",
           "#19d3f3",
           "#FF6692",
           "#B6E880",
           "#FF97FF",
           "#FECB52"
          ],
          "font": {
           "color": "#2a3f5f"
          },
          "geo": {
           "bgcolor": "white",
           "lakecolor": "white",
           "landcolor": "#E5ECF6",
           "showlakes": true,
           "showland": true,
           "subunitcolor": "white"
          },
          "hoverlabel": {
           "align": "left"
          },
          "hovermode": "closest",
          "mapbox": {
           "style": "light"
          },
          "paper_bgcolor": "white",
          "plot_bgcolor": "#E5ECF6",
          "polar": {
           "angularaxis": {
            "gridcolor": "white",
            "linecolor": "white",
            "ticks": ""
           },
           "bgcolor": "#E5ECF6",
           "radialaxis": {
            "gridcolor": "white",
            "linecolor": "white",
            "ticks": ""
           }
          },
          "scene": {
           "xaxis": {
            "backgroundcolor": "#E5ECF6",
            "gridcolor": "white",
            "gridwidth": 2,
            "linecolor": "white",
            "showbackground": true,
            "ticks": "",
            "zerolinecolor": "white"
           },
           "yaxis": {
            "backgroundcolor": "#E5ECF6",
            "gridcolor": "white",
            "gridwidth": 2,
            "linecolor": "white",
            "showbackground": true,
            "ticks": "",
            "zerolinecolor": "white"
           },
           "zaxis": {
            "backgroundcolor": "#E5ECF6",
            "gridcolor": "white",
            "gridwidth": 2,
            "linecolor": "white",
            "showbackground": true,
            "ticks": "",
            "zerolinecolor": "white"
           }
          },
          "shapedefaults": {
           "line": {
            "color": "#2a3f5f"
           }
          },
          "ternary": {
           "aaxis": {
            "gridcolor": "white",
            "linecolor": "white",
            "ticks": ""
           },
           "baxis": {
            "gridcolor": "white",
            "linecolor": "white",
            "ticks": ""
           },
           "bgcolor": "#E5ECF6",
           "caxis": {
            "gridcolor": "white",
            "linecolor": "white",
            "ticks": ""
           }
          },
          "title": {
           "x": 0.05
          },
          "xaxis": {
           "automargin": true,
           "gridcolor": "white",
           "linecolor": "white",
           "ticks": "",
           "title": {
            "standoff": 15
           },
           "zerolinecolor": "white",
           "zerolinewidth": 2
          },
          "yaxis": {
           "automargin": true,
           "gridcolor": "white",
           "linecolor": "white",
           "ticks": "",
           "title": {
            "standoff": 15
           },
           "zerolinecolor": "white",
           "zerolinewidth": 2
          }
         }
        },
        "title": {
         "text": "Augmentation du coût de FirstImprovement_CURR par rapport à Best Improvement (CURR)<br>avec initialisation \"kmean+\""
        },
        "width": 1000,
        "xaxis": {
         "anchor": "y",
         "domain": [
          0,
          1
         ],
         "title": {
          "text": "Nombre de points"
         }
        },
        "yaxis": {
         "anchor": "x",
         "domain": [
          0,
          1
         ],
         "title": {
          "text": "Nombre de clusters"
         },
         "type": "log"
        }
       }
      }
     },
     "metadata": {},
     "output_type": "display_data"
    }
   ],
   "source": [
    "plot(df,\"kmean+\",color_formatter=MultipleRanges())"
   ]
  },
  {
   "cell_type": "code",
   "execution_count": 68,
   "metadata": {},
   "outputs": [
    {
     "data": {
      "application/vnd.plotly.v1+json": {
       "config": {
        "plotlyServerURL": "https://plot.ly"
       },
       "data": [
        {
         "hovertemplate": "Augmentation du coût<br> par rapport à<br> Best Improvement=[100, 99999]<br>Nombre de points=%{x}<br>Nombre de clusters=%{y}<extra></extra>",
         "legendgroup": "[100, 99999]",
         "marker": {
          "color": "#9E2A2B",
          "size": 12,
          "symbol": "circle"
         },
         "mode": "markers",
         "name": "[100, 99999]",
         "orientation": "v",
         "showlegend": true,
         "type": "scatter",
         "x": [
          70,
          30,
          40,
          50
         ],
         "xaxis": "x",
         "y": [
          2,
          16,
          32,
          32
         ],
         "yaxis": "y"
        },
        {
         "hovertemplate": "Augmentation du coût<br> par rapport à<br> Best Improvement=[10, 100]<br>Nombre de points=%{x}<br>Nombre de clusters=%{y}<extra></extra>",
         "legendgroup": "[10, 100]",
         "marker": {
          "color": "#F3722C",
          "size": 12,
          "symbol": "circle"
         },
         "mode": "markers",
         "name": "[10, 100]",
         "orientation": "v",
         "showlegend": true,
         "type": "scatter",
         "x": [
          20,
          20,
          30,
          20,
          40,
          60,
          70,
          70
         ],
         "xaxis": "x",
         "y": [
          4,
          8,
          8,
          16,
          16,
          32,
          32,
          64
         ],
         "yaxis": "y"
        },
        {
         "hovertemplate": "Augmentation du coût<br> par rapport à<br> Best Improvement=[1, 10]<br>Nombre de points=%{x}<br>Nombre de clusters=%{y}<extra></extra>",
         "legendgroup": "[1, 10]",
         "marker": {
          "color": "#F8961E",
          "size": 12,
          "symbol": "circle"
         },
         "mode": "markers",
         "name": "[1, 10]",
         "orientation": "v",
         "showlegend": true,
         "type": "scatter",
         "x": [
          50,
          70
         ],
         "xaxis": "x",
         "y": [
          2,
          16
         ],
         "yaxis": "y"
        },
        {
         "hovertemplate": "Augmentation du coût<br> par rapport à<br> Best Improvement=[-100, -10]<br>Nombre de points=%{x}<br>Nombre de clusters=%{y}<extra></extra>",
         "legendgroup": "[-100, -10]",
         "marker": {
          "color": "#4D908E",
          "size": 12,
          "symbol": "circle"
         },
         "mode": "markers",
         "name": "[-100, -10]",
         "orientation": "v",
         "showlegend": true,
         "type": "scatter",
         "x": [
          40,
          60,
          30,
          40,
          50,
          60,
          80
         ],
         "xaxis": "x",
         "y": [
          2,
          2,
          4,
          8,
          16,
          16,
          16
         ],
         "yaxis": "y"
        },
        {
         "hovertemplate": "Augmentation du coût<br> par rapport à<br> Best Improvement=[-99999, -100]<br>Nombre de points=%{x}<br>Nombre de clusters=%{y}<extra></extra>",
         "legendgroup": "[-99999, -100]",
         "marker": {
          "color": "#245F84",
          "size": 12,
          "symbol": "circle"
         },
         "mode": "markers",
         "name": "[-99999, -100]",
         "orientation": "v",
         "showlegend": true,
         "type": "scatter",
         "x": [
          20,
          30,
          40,
          50,
          60,
          70,
          50,
          60,
          70
         ],
         "xaxis": "x",
         "y": [
          2,
          2,
          4,
          4,
          4,
          4,
          8,
          8,
          8
         ],
         "yaxis": "y"
        }
       ],
       "layout": {
        "height": 800,
        "legend": {
         "title": {
          "text": "Augmentation du coût<br> par rapport à<br> Best Improvement"
         },
         "tracegroupgap": 0
        },
        "template": {
         "data": {
          "bar": [
           {
            "error_x": {
             "color": "#2a3f5f"
            },
            "error_y": {
             "color": "#2a3f5f"
            },
            "marker": {
             "line": {
              "color": "#E5ECF6",
              "width": 0.5
             },
             "pattern": {
              "fillmode": "overlay",
              "size": 10,
              "solidity": 0.2
             }
            },
            "type": "bar"
           }
          ],
          "barpolar": [
           {
            "marker": {
             "line": {
              "color": "#E5ECF6",
              "width": 0.5
             },
             "pattern": {
              "fillmode": "overlay",
              "size": 10,
              "solidity": 0.2
             }
            },
            "type": "barpolar"
           }
          ],
          "carpet": [
           {
            "aaxis": {
             "endlinecolor": "#2a3f5f",
             "gridcolor": "white",
             "linecolor": "white",
             "minorgridcolor": "white",
             "startlinecolor": "#2a3f5f"
            },
            "baxis": {
             "endlinecolor": "#2a3f5f",
             "gridcolor": "white",
             "linecolor": "white",
             "minorgridcolor": "white",
             "startlinecolor": "#2a3f5f"
            },
            "type": "carpet"
           }
          ],
          "choropleth": [
           {
            "colorbar": {
             "outlinewidth": 0,
             "ticks": ""
            },
            "type": "choropleth"
           }
          ],
          "contour": [
           {
            "colorbar": {
             "outlinewidth": 0,
             "ticks": ""
            },
            "colorscale": [
             [
              0,
              "#0d0887"
             ],
             [
              0.1111111111111111,
              "#46039f"
             ],
             [
              0.2222222222222222,
              "#7201a8"
             ],
             [
              0.3333333333333333,
              "#9c179e"
             ],
             [
              0.4444444444444444,
              "#bd3786"
             ],
             [
              0.5555555555555556,
              "#d8576b"
             ],
             [
              0.6666666666666666,
              "#ed7953"
             ],
             [
              0.7777777777777778,
              "#fb9f3a"
             ],
             [
              0.8888888888888888,
              "#fdca26"
             ],
             [
              1,
              "#f0f921"
             ]
            ],
            "type": "contour"
           }
          ],
          "contourcarpet": [
           {
            "colorbar": {
             "outlinewidth": 0,
             "ticks": ""
            },
            "type": "contourcarpet"
           }
          ],
          "heatmap": [
           {
            "colorbar": {
             "outlinewidth": 0,
             "ticks": ""
            },
            "colorscale": [
             [
              0,
              "#0d0887"
             ],
             [
              0.1111111111111111,
              "#46039f"
             ],
             [
              0.2222222222222222,
              "#7201a8"
             ],
             [
              0.3333333333333333,
              "#9c179e"
             ],
             [
              0.4444444444444444,
              "#bd3786"
             ],
             [
              0.5555555555555556,
              "#d8576b"
             ],
             [
              0.6666666666666666,
              "#ed7953"
             ],
             [
              0.7777777777777778,
              "#fb9f3a"
             ],
             [
              0.8888888888888888,
              "#fdca26"
             ],
             [
              1,
              "#f0f921"
             ]
            ],
            "type": "heatmap"
           }
          ],
          "heatmapgl": [
           {
            "colorbar": {
             "outlinewidth": 0,
             "ticks": ""
            },
            "colorscale": [
             [
              0,
              "#0d0887"
             ],
             [
              0.1111111111111111,
              "#46039f"
             ],
             [
              0.2222222222222222,
              "#7201a8"
             ],
             [
              0.3333333333333333,
              "#9c179e"
             ],
             [
              0.4444444444444444,
              "#bd3786"
             ],
             [
              0.5555555555555556,
              "#d8576b"
             ],
             [
              0.6666666666666666,
              "#ed7953"
             ],
             [
              0.7777777777777778,
              "#fb9f3a"
             ],
             [
              0.8888888888888888,
              "#fdca26"
             ],
             [
              1,
              "#f0f921"
             ]
            ],
            "type": "heatmapgl"
           }
          ],
          "histogram": [
           {
            "marker": {
             "pattern": {
              "fillmode": "overlay",
              "size": 10,
              "solidity": 0.2
             }
            },
            "type": "histogram"
           }
          ],
          "histogram2d": [
           {
            "colorbar": {
             "outlinewidth": 0,
             "ticks": ""
            },
            "colorscale": [
             [
              0,
              "#0d0887"
             ],
             [
              0.1111111111111111,
              "#46039f"
             ],
             [
              0.2222222222222222,
              "#7201a8"
             ],
             [
              0.3333333333333333,
              "#9c179e"
             ],
             [
              0.4444444444444444,
              "#bd3786"
             ],
             [
              0.5555555555555556,
              "#d8576b"
             ],
             [
              0.6666666666666666,
              "#ed7953"
             ],
             [
              0.7777777777777778,
              "#fb9f3a"
             ],
             [
              0.8888888888888888,
              "#fdca26"
             ],
             [
              1,
              "#f0f921"
             ]
            ],
            "type": "histogram2d"
           }
          ],
          "histogram2dcontour": [
           {
            "colorbar": {
             "outlinewidth": 0,
             "ticks": ""
            },
            "colorscale": [
             [
              0,
              "#0d0887"
             ],
             [
              0.1111111111111111,
              "#46039f"
             ],
             [
              0.2222222222222222,
              "#7201a8"
             ],
             [
              0.3333333333333333,
              "#9c179e"
             ],
             [
              0.4444444444444444,
              "#bd3786"
             ],
             [
              0.5555555555555556,
              "#d8576b"
             ],
             [
              0.6666666666666666,
              "#ed7953"
             ],
             [
              0.7777777777777778,
              "#fb9f3a"
             ],
             [
              0.8888888888888888,
              "#fdca26"
             ],
             [
              1,
              "#f0f921"
             ]
            ],
            "type": "histogram2dcontour"
           }
          ],
          "mesh3d": [
           {
            "colorbar": {
             "outlinewidth": 0,
             "ticks": ""
            },
            "type": "mesh3d"
           }
          ],
          "parcoords": [
           {
            "line": {
             "colorbar": {
              "outlinewidth": 0,
              "ticks": ""
             }
            },
            "type": "parcoords"
           }
          ],
          "pie": [
           {
            "automargin": true,
            "type": "pie"
           }
          ],
          "scatter": [
           {
            "marker": {
             "colorbar": {
              "outlinewidth": 0,
              "ticks": ""
             }
            },
            "type": "scatter"
           }
          ],
          "scatter3d": [
           {
            "line": {
             "colorbar": {
              "outlinewidth": 0,
              "ticks": ""
             }
            },
            "marker": {
             "colorbar": {
              "outlinewidth": 0,
              "ticks": ""
             }
            },
            "type": "scatter3d"
           }
          ],
          "scattercarpet": [
           {
            "marker": {
             "colorbar": {
              "outlinewidth": 0,
              "ticks": ""
             }
            },
            "type": "scattercarpet"
           }
          ],
          "scattergeo": [
           {
            "marker": {
             "colorbar": {
              "outlinewidth": 0,
              "ticks": ""
             }
            },
            "type": "scattergeo"
           }
          ],
          "scattergl": [
           {
            "marker": {
             "colorbar": {
              "outlinewidth": 0,
              "ticks": ""
             }
            },
            "type": "scattergl"
           }
          ],
          "scattermapbox": [
           {
            "marker": {
             "colorbar": {
              "outlinewidth": 0,
              "ticks": ""
             }
            },
            "type": "scattermapbox"
           }
          ],
          "scatterpolar": [
           {
            "marker": {
             "colorbar": {
              "outlinewidth": 0,
              "ticks": ""
             }
            },
            "type": "scatterpolar"
           }
          ],
          "scatterpolargl": [
           {
            "marker": {
             "colorbar": {
              "outlinewidth": 0,
              "ticks": ""
             }
            },
            "type": "scatterpolargl"
           }
          ],
          "scatterternary": [
           {
            "marker": {
             "colorbar": {
              "outlinewidth": 0,
              "ticks": ""
             }
            },
            "type": "scatterternary"
           }
          ],
          "surface": [
           {
            "colorbar": {
             "outlinewidth": 0,
             "ticks": ""
            },
            "colorscale": [
             [
              0,
              "#0d0887"
             ],
             [
              0.1111111111111111,
              "#46039f"
             ],
             [
              0.2222222222222222,
              "#7201a8"
             ],
             [
              0.3333333333333333,
              "#9c179e"
             ],
             [
              0.4444444444444444,
              "#bd3786"
             ],
             [
              0.5555555555555556,
              "#d8576b"
             ],
             [
              0.6666666666666666,
              "#ed7953"
             ],
             [
              0.7777777777777778,
              "#fb9f3a"
             ],
             [
              0.8888888888888888,
              "#fdca26"
             ],
             [
              1,
              "#f0f921"
             ]
            ],
            "type": "surface"
           }
          ],
          "table": [
           {
            "cells": {
             "fill": {
              "color": "#EBF0F8"
             },
             "line": {
              "color": "white"
             }
            },
            "header": {
             "fill": {
              "color": "#C8D4E3"
             },
             "line": {
              "color": "white"
             }
            },
            "type": "table"
           }
          ]
         },
         "layout": {
          "annotationdefaults": {
           "arrowcolor": "#2a3f5f",
           "arrowhead": 0,
           "arrowwidth": 1
          },
          "autotypenumbers": "strict",
          "coloraxis": {
           "colorbar": {
            "outlinewidth": 0,
            "ticks": ""
           }
          },
          "colorscale": {
           "diverging": [
            [
             0,
             "#8e0152"
            ],
            [
             0.1,
             "#c51b7d"
            ],
            [
             0.2,
             "#de77ae"
            ],
            [
             0.3,
             "#f1b6da"
            ],
            [
             0.4,
             "#fde0ef"
            ],
            [
             0.5,
             "#f7f7f7"
            ],
            [
             0.6,
             "#e6f5d0"
            ],
            [
             0.7,
             "#b8e186"
            ],
            [
             0.8,
             "#7fbc41"
            ],
            [
             0.9,
             "#4d9221"
            ],
            [
             1,
             "#276419"
            ]
           ],
           "sequential": [
            [
             0,
             "#0d0887"
            ],
            [
             0.1111111111111111,
             "#46039f"
            ],
            [
             0.2222222222222222,
             "#7201a8"
            ],
            [
             0.3333333333333333,
             "#9c179e"
            ],
            [
             0.4444444444444444,
             "#bd3786"
            ],
            [
             0.5555555555555556,
             "#d8576b"
            ],
            [
             0.6666666666666666,
             "#ed7953"
            ],
            [
             0.7777777777777778,
             "#fb9f3a"
            ],
            [
             0.8888888888888888,
             "#fdca26"
            ],
            [
             1,
             "#f0f921"
            ]
           ],
           "sequentialminus": [
            [
             0,
             "#0d0887"
            ],
            [
             0.1111111111111111,
             "#46039f"
            ],
            [
             0.2222222222222222,
             "#7201a8"
            ],
            [
             0.3333333333333333,
             "#9c179e"
            ],
            [
             0.4444444444444444,
             "#bd3786"
            ],
            [
             0.5555555555555556,
             "#d8576b"
            ],
            [
             0.6666666666666666,
             "#ed7953"
            ],
            [
             0.7777777777777778,
             "#fb9f3a"
            ],
            [
             0.8888888888888888,
             "#fdca26"
            ],
            [
             1,
             "#f0f921"
            ]
           ]
          },
          "colorway": [
           "#636efa",
           "#EF553B",
           "#00cc96",
           "#ab63fa",
           "#FFA15A",
           "#19d3f3",
           "#FF6692",
           "#B6E880",
           "#FF97FF",
           "#FECB52"
          ],
          "font": {
           "color": "#2a3f5f"
          },
          "geo": {
           "bgcolor": "white",
           "lakecolor": "white",
           "landcolor": "#E5ECF6",
           "showlakes": true,
           "showland": true,
           "subunitcolor": "white"
          },
          "hoverlabel": {
           "align": "left"
          },
          "hovermode": "closest",
          "mapbox": {
           "style": "light"
          },
          "paper_bgcolor": "white",
          "plot_bgcolor": "#E5ECF6",
          "polar": {
           "angularaxis": {
            "gridcolor": "white",
            "linecolor": "white",
            "ticks": ""
           },
           "bgcolor": "#E5ECF6",
           "radialaxis": {
            "gridcolor": "white",
            "linecolor": "white",
            "ticks": ""
           }
          },
          "scene": {
           "xaxis": {
            "backgroundcolor": "#E5ECF6",
            "gridcolor": "white",
            "gridwidth": 2,
            "linecolor": "white",
            "showbackground": true,
            "ticks": "",
            "zerolinecolor": "white"
           },
           "yaxis": {
            "backgroundcolor": "#E5ECF6",
            "gridcolor": "white",
            "gridwidth": 2,
            "linecolor": "white",
            "showbackground": true,
            "ticks": "",
            "zerolinecolor": "white"
           },
           "zaxis": {
            "backgroundcolor": "#E5ECF6",
            "gridcolor": "white",
            "gridwidth": 2,
            "linecolor": "white",
            "showbackground": true,
            "ticks": "",
            "zerolinecolor": "white"
           }
          },
          "shapedefaults": {
           "line": {
            "color": "#2a3f5f"
           }
          },
          "ternary": {
           "aaxis": {
            "gridcolor": "white",
            "linecolor": "white",
            "ticks": ""
           },
           "baxis": {
            "gridcolor": "white",
            "linecolor": "white",
            "ticks": ""
           },
           "bgcolor": "#E5ECF6",
           "caxis": {
            "gridcolor": "white",
            "linecolor": "white",
            "ticks": ""
           }
          },
          "title": {
           "x": 0.05
          },
          "xaxis": {
           "automargin": true,
           "gridcolor": "white",
           "linecolor": "white",
           "ticks": "",
           "title": {
            "standoff": 15
           },
           "zerolinecolor": "white",
           "zerolinewidth": 2
          },
          "yaxis": {
           "automargin": true,
           "gridcolor": "white",
           "linecolor": "white",
           "ticks": "",
           "title": {
            "standoff": 15
           },
           "zerolinecolor": "white",
           "zerolinewidth": 2
          }
         }
        },
        "title": {
         "text": "Augmentation du coût de FirstImprovement_CURR par rapport à Best Improvement (CURR)<br>avec initialisation \"random\""
        },
        "width": 1000,
        "xaxis": {
         "anchor": "y",
         "domain": [
          0,
          1
         ],
         "title": {
          "text": "Nombre de points"
         }
        },
        "yaxis": {
         "anchor": "x",
         "domain": [
          0,
          1
         ],
         "title": {
          "text": "Nombre de clusters"
         },
         "type": "log"
        }
       }
      }
     },
     "metadata": {},
     "output_type": "display_data"
    }
   ],
   "source": [
    "plot(df,\"random\",color_formatter=MultipleRanges())"
   ]
  },
  {
   "cell_type": "code",
   "execution_count": null,
   "metadata": {},
   "outputs": [],
   "source": []
  }
 ],
 "metadata": {
  "interpreter": {
   "hash": "a7a80cf5091cc3b0eca4837265a50c60c3c4b353b9419c8d484eb15b11025f30"
  },
  "kernelspec": {
   "display_name": "Python 3.8.12 (conda)",
   "language": "python",
   "name": "python3"
  },
  "language_info": {
   "codemirror_mode": {
    "name": "ipython",
    "version": 3
   },
   "file_extension": ".py",
   "mimetype": "text/x-python",
   "name": "python",
   "nbconvert_exporter": "python",
   "pygments_lexer": "ipython3",
   "version": "3.8.12"
  },
  "orig_nbformat": 4
 },
 "nbformat": 4,
 "nbformat_minor": 2
}
