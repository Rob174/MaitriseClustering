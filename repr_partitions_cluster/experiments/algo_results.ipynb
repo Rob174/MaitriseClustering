{
 "cells": [
  {
   "cell_type": "markdown",
   "metadata": {},
   "source": []
  },
  {
   "cell_type": "markdown",
   "metadata": {},
   "source": [
    "Imports"
   ]
  },
  {
   "cell_type": "code",
   "execution_count": 1,
   "metadata": {},
   "outputs": [],
   "source": [
    "\n",
    "\n",
    "import pandas as pd\n",
    "import numpy as np\n",
    "from pathlib import Path\n",
    "from IPython.display import display, HTML\n",
    "import plotly.express as px\n",
    "import dataframe_image as dfi\n",
    "import matplotlib.pyplot as plt\n",
    "import matplotlib.colors as mcolors\n",
    "pd.options.mode.chained_assignment = 'warn'  # default=\n",
    "pd.options.plotting.backend = \"plotly\"\n",
    "pd.options.display.float_format = '{:,.2f}'.format\n",
    "PATH_CACHE = Path(\"../../data/results_fi_bi.csv\").resolve()\n",
    "# print(PATH_CACHE)\n",
    "pd.set_option('display.max_columns', None)  "
   ]
  },
  {
   "cell_type": "markdown",
   "metadata": {},
   "source": [
    "## Load original data and preprocess"
   ]
  },
  {
   "cell_type": "code",
   "execution_count": 5,
   "metadata": {},
   "outputs": [
    {
     "data": {
      "text/html": [
       "<div>\n",
       "<style scoped>\n",
       "    .dataframe tbody tr th:only-of-type {\n",
       "        vertical-align: middle;\n",
       "    }\n",
       "\n",
       "    .dataframe tbody tr th {\n",
       "        vertical-align: top;\n",
       "    }\n",
       "\n",
       "    .dataframe thead th {\n",
       "        text-align: right;\n",
       "    }\n",
       "</style>\n",
       "<table border=\"1\" class=\"dataframe\">\n",
       "  <thead>\n",
       "    <tr style=\"text-align: right;\">\n",
       "      <th></th>\n",
       "      <th>num_clusters</th>\n",
       "      <th>init_type</th>\n",
       "      <th>init_cost</th>\n",
       "      <th>end_cost</th>\n",
       "      <th>num_iter_tot</th>\n",
       "      <th>time</th>\n",
       "      <th>algorithm</th>\n",
       "      <th>Nb. points</th>\n",
       "    </tr>\n",
       "  </thead>\n",
       "  <tbody>\n",
       "    <tr>\n",
       "      <th>0</th>\n",
       "      <td>2</td>\n",
       "      <td>random</td>\n",
       "      <td>1,642,751.39</td>\n",
       "      <td>1,642,751.39</td>\n",
       "      <td>1000</td>\n",
       "      <td>16.00</td>\n",
       "      <td>BI_BACK</td>\n",
       "      <td>1000</td>\n",
       "    </tr>\n",
       "    <tr>\n",
       "      <th>1</th>\n",
       "      <td>2</td>\n",
       "      <td>random</td>\n",
       "      <td>1,642,751.39</td>\n",
       "      <td>1,642,751.39</td>\n",
       "      <td>1000</td>\n",
       "      <td>12.00</td>\n",
       "      <td>BI_BACK</td>\n",
       "      <td>1000</td>\n",
       "    </tr>\n",
       "    <tr>\n",
       "      <th>2</th>\n",
       "      <td>2</td>\n",
       "      <td>random</td>\n",
       "      <td>1,642,751.39</td>\n",
       "      <td>1,642,751.39</td>\n",
       "      <td>1000</td>\n",
       "      <td>12.00</td>\n",
       "      <td>BI_BACK</td>\n",
       "      <td>1000</td>\n",
       "    </tr>\n",
       "    <tr>\n",
       "      <th>3</th>\n",
       "      <td>2</td>\n",
       "      <td>random</td>\n",
       "      <td>1,642,751.39</td>\n",
       "      <td>1,642,751.39</td>\n",
       "      <td>1000</td>\n",
       "      <td>20.00</td>\n",
       "      <td>BI_BACK</td>\n",
       "      <td>1000</td>\n",
       "    </tr>\n",
       "    <tr>\n",
       "      <th>4</th>\n",
       "      <td>2</td>\n",
       "      <td>random</td>\n",
       "      <td>1,642,751.39</td>\n",
       "      <td>1,642,751.39</td>\n",
       "      <td>1000</td>\n",
       "      <td>12.00</td>\n",
       "      <td>BI_BACK</td>\n",
       "      <td>1000</td>\n",
       "    </tr>\n",
       "    <tr>\n",
       "      <th>...</th>\n",
       "      <td>...</td>\n",
       "      <td>...</td>\n",
       "      <td>...</td>\n",
       "      <td>...</td>\n",
       "      <td>...</td>\n",
       "      <td>...</td>\n",
       "      <td>...</td>\n",
       "      <td>...</td>\n",
       "    </tr>\n",
       "    <tr>\n",
       "      <th>27995</th>\n",
       "      <td>128</td>\n",
       "      <td>kmeans+</td>\n",
       "      <td>1,423,452.65</td>\n",
       "      <td>1,416,154.94</td>\n",
       "      <td>41259744</td>\n",
       "      <td>444,638.00</td>\n",
       "      <td>FI_CURR</td>\n",
       "      <td>1000</td>\n",
       "    </tr>\n",
       "    <tr>\n",
       "      <th>27996</th>\n",
       "      <td>128</td>\n",
       "      <td>kmeans+</td>\n",
       "      <td>1,423,452.65</td>\n",
       "      <td>1,416,154.94</td>\n",
       "      <td>41259744</td>\n",
       "      <td>427,181.00</td>\n",
       "      <td>FI_CURR</td>\n",
       "      <td>1000</td>\n",
       "    </tr>\n",
       "    <tr>\n",
       "      <th>27997</th>\n",
       "      <td>128</td>\n",
       "      <td>kmeans+</td>\n",
       "      <td>1,423,452.65</td>\n",
       "      <td>1,416,154.94</td>\n",
       "      <td>41259744</td>\n",
       "      <td>433,083.00</td>\n",
       "      <td>FI_CURR</td>\n",
       "      <td>1000</td>\n",
       "    </tr>\n",
       "    <tr>\n",
       "      <th>27998</th>\n",
       "      <td>128</td>\n",
       "      <td>kmeans+</td>\n",
       "      <td>1,423,452.65</td>\n",
       "      <td>1,416,154.94</td>\n",
       "      <td>41259744</td>\n",
       "      <td>421,314.00</td>\n",
       "      <td>FI_CURR</td>\n",
       "      <td>1000</td>\n",
       "    </tr>\n",
       "    <tr>\n",
       "      <th>27999</th>\n",
       "      <td>128</td>\n",
       "      <td>kmeans+</td>\n",
       "      <td>1,423,452.65</td>\n",
       "      <td>1,416,154.94</td>\n",
       "      <td>41259744</td>\n",
       "      <td>419,984.00</td>\n",
       "      <td>FI_CURR</td>\n",
       "      <td>1000</td>\n",
       "    </tr>\n",
       "  </tbody>\n",
       "</table>\n",
       "<p>28000 rows × 8 columns</p>\n",
       "</div>"
      ],
      "text/plain": [
       "       num_clusters init_type    init_cost     end_cost  num_iter_tot  \\\n",
       "0                 2    random 1,642,751.39 1,642,751.39          1000   \n",
       "1                 2    random 1,642,751.39 1,642,751.39          1000   \n",
       "2                 2    random 1,642,751.39 1,642,751.39          1000   \n",
       "3                 2    random 1,642,751.39 1,642,751.39          1000   \n",
       "4                 2    random 1,642,751.39 1,642,751.39          1000   \n",
       "...             ...       ...          ...          ...           ...   \n",
       "27995           128   kmeans+ 1,423,452.65 1,416,154.94      41259744   \n",
       "27996           128   kmeans+ 1,423,452.65 1,416,154.94      41259744   \n",
       "27997           128   kmeans+ 1,423,452.65 1,416,154.94      41259744   \n",
       "27998           128   kmeans+ 1,423,452.65 1,416,154.94      41259744   \n",
       "27999           128   kmeans+ 1,423,452.65 1,416,154.94      41259744   \n",
       "\n",
       "            time algorithm  Nb. points  \n",
       "0          16.00   BI_BACK        1000  \n",
       "1          12.00   BI_BACK        1000  \n",
       "2          12.00   BI_BACK        1000  \n",
       "3          20.00   BI_BACK        1000  \n",
       "4          12.00   BI_BACK        1000  \n",
       "...          ...       ...         ...  \n",
       "27995 444,638.00   FI_CURR        1000  \n",
       "27996 427,181.00   FI_CURR        1000  \n",
       "27997 433,083.00   FI_CURR        1000  \n",
       "27998 421,314.00   FI_CURR        1000  \n",
       "27999 419,984.00   FI_CURR        1000  \n",
       "\n",
       "[28000 rows x 8 columns]"
      ]
     },
     "metadata": {},
     "output_type": "display_data"
    },
    {
     "name": "stdout",
     "output_type": "stream",
     "text": [
      "None\n"
     ]
    }
   ],
   "source": [
    "orig_df = pd.read_csv(PATH_CACHE, sep=\",\",header=0,index_col=False)\n",
    "# for col in orig_df:\n",
    "#     print(col,orig_df[col].unique())\n",
    "for orig_name,new_name in [(0,\"BI\"),(1,\"FI\"),(2,\"DI\")]:\n",
    "    orig_df.loc[orig_df.ImprClass == orig_name,\"ImprClass\"] = new_name\n",
    "for orig_name,new_name in [(0,\"BACK\"),(1,\"CURR\"),(2,\"RANDOM\")]:\n",
    "    orig_df.loc[orig_df.iteration_order == orig_name,\"iteration_order\"] = new_name\n",
    "for orig_name,new_name in [(0,\"random\"),(1,\"kmeans+\")]:\n",
    "    orig_df.loc[orig_df.init_type == orig_name,\"init_type\"] = new_name\n",
    "orig_df.loc[:,\"algorithm\"] = orig_df[\"ImprClass\"]+\"_\" + orig_df[\"iteration_order\"]\n",
    "orig_df.loc[:,\"Nb. points\"] = orig_df[\"num_points\"]\n",
    "orig_df.drop([\"ImprClass\",\"iteration_order\",\"num_iter\",\"num_points\",\"seed\"],axis=1,inplace=True)\n",
    "df = orig_df.copy()\n",
    "print(display(orig_df))"
   ]
  },
  {
   "cell_type": "markdown",
   "metadata": {},
   "source": [
    "## Merged Data"
   ]
  },
  {
   "cell_type": "code",
   "execution_count": 18,
   "metadata": {},
   "outputs": [],
   "source": [
    "QUERY = \"algorithm == 'FI_CURR' & init_type == 'random'\""
   ]
  },
  {
   "cell_type": "code",
   "execution_count": 19,
   "metadata": {},
   "outputs": [
    {
     "data": {
      "text/html": [
       "<style type=\"text/css\">\n",
       "#T_a3621_row0_col10, #T_a3621_row0_col11 {\n",
       "  background-color: #f7fcf5;\n",
       "  color: #000000;\n",
       "}\n",
       "#T_a3621_row0_col12 {\n",
       "  background-color: #f4fbf1;\n",
       "  color: #000000;\n",
       "}\n",
       "#T_a3621_row1_col10, #T_a3621_row2_col10 {\n",
       "  background-color: #fff5f0;\n",
       "  color: #000000;\n",
       "}\n",
       "#T_a3621_row1_col11, #T_a3621_row4_col12 {\n",
       "  background-color: #ffede5;\n",
       "  color: #000000;\n",
       "}\n",
       "#T_a3621_row1_col12 {\n",
       "  background-color: #fff1ea;\n",
       "  color: #000000;\n",
       "}\n",
       "#T_a3621_row2_col11 {\n",
       "  background-color: #dff3da;\n",
       "  color: #000000;\n",
       "}\n",
       "#T_a3621_row2_col12 {\n",
       "  background-color: #d6efd0;\n",
       "  color: #000000;\n",
       "}\n",
       "#T_a3621_row3_col10 {\n",
       "  background-color: #b1e0ab;\n",
       "  color: #000000;\n",
       "}\n",
       "#T_a3621_row3_col11 {\n",
       "  background-color: #f5fbf2;\n",
       "  color: #000000;\n",
       "}\n",
       "#T_a3621_row3_col12 {\n",
       "  background-color: #eef8ea;\n",
       "  color: #000000;\n",
       "}\n",
       "#T_a3621_row4_col10 {\n",
       "  background-color: #005120;\n",
       "  color: #f1f1f1;\n",
       "}\n",
       "#T_a3621_row4_col11 {\n",
       "  background-color: #fee1d4;\n",
       "  color: #000000;\n",
       "}\n",
       "#T_a3621_row5_col10 {\n",
       "  background-color: #c4e8bd;\n",
       "  color: #000000;\n",
       "}\n",
       "#T_a3621_row5_col11, #T_a3621_row5_col12, #T_a3621_row6_col10 {\n",
       "  background-color: #00441b;\n",
       "  color: #f1f1f1;\n",
       "}\n",
       "#T_a3621_row6_col11 {\n",
       "  background-color: #026f2e;\n",
       "  color: #f1f1f1;\n",
       "}\n",
       "#T_a3621_row6_col12 {\n",
       "  background-color: #107a37;\n",
       "  color: #f1f1f1;\n",
       "}\n",
       "</style>\n",
       "<table id=\"T_a3621\">\n",
       "  <thead>\n",
       "    <tr>\n",
       "      <th class=\"blank level0\" >&nbsp;</th>\n",
       "      <th id=\"T_a3621_level0_col0\" class=\"col_heading level0 col0\" >index</th>\n",
       "      <th id=\"T_a3621_level0_col1\" class=\"col_heading level0 col1\" >num_clusters</th>\n",
       "      <th id=\"T_a3621_level0_col2\" class=\"col_heading level0 col2\" >Nb. points</th>\n",
       "      <th id=\"T_a3621_level0_col3\" class=\"col_heading level0 col3\" >init_type</th>\n",
       "      <th id=\"T_a3621_level0_col4\" class=\"col_heading level0 col4\" >algorithm</th>\n",
       "      <th id=\"T_a3621_level0_col5\" class=\"col_heading level0 col5\" >init_cost</th>\n",
       "      <th id=\"T_a3621_level0_col6\" class=\"col_heading level0 col6\" >end_cost</th>\n",
       "      <th id=\"T_a3621_level0_col7\" class=\"col_heading level0 col7\" >num_iter_tot</th>\n",
       "      <th id=\"T_a3621_level0_col8\" class=\"col_heading level0 col8\" >time</th>\n",
       "      <th id=\"T_a3621_level0_col9\" class=\"col_heading level0 col9\" >prct_amelioration_init_cost</th>\n",
       "      <th id=\"T_a3621_level0_col10\" class=\"col_heading level0 col10\" >prct_amelioration_end_cost</th>\n",
       "      <th id=\"T_a3621_level0_col11\" class=\"col_heading level0 col11\" >prct_amelioration_num_iter_tot</th>\n",
       "      <th id=\"T_a3621_level0_col12\" class=\"col_heading level0 col12\" >prct_amelioration_time</th>\n",
       "      <th id=\"T_a3621_level0_col13\" class=\"col_heading level0 col13\" >Nb pts par cluster</th>\n",
       "    </tr>\n",
       "  </thead>\n",
       "  <tbody>\n",
       "    <tr>\n",
       "      <th id=\"T_a3621_level0_row0\" class=\"row_heading level0 row0\" >15</th>\n",
       "      <td id=\"T_a3621_row0_col0\" class=\"data row0 col0\" >1</td>\n",
       "      <td id=\"T_a3621_row0_col1\" class=\"data row0 col1\" >2</td>\n",
       "      <td id=\"T_a3621_row0_col2\" class=\"data row0 col2\" >1000</td>\n",
       "      <td id=\"T_a3621_row0_col3\" class=\"data row0 col3\" >random</td>\n",
       "      <td id=\"T_a3621_row0_col4\" class=\"data row0 col4\" >FI_CURR</td>\n",
       "      <td id=\"T_a3621_row0_col5\" class=\"data row0 col5\" >1642751.388000</td>\n",
       "      <td id=\"T_a3621_row0_col6\" class=\"data row0 col6\" >1642751.388000</td>\n",
       "      <td id=\"T_a3621_row0_col7\" class=\"data row0 col7\" >1000.000000</td>\n",
       "      <td id=\"T_a3621_row0_col8\" class=\"data row0 col8\" >17.048000</td>\n",
       "      <td id=\"T_a3621_row0_col9\" class=\"data row0 col9\" >0.000000</td>\n",
       "      <td id=\"T_a3621_row0_col10\" class=\"data row0 col10\" >0.000000</td>\n",
       "      <td id=\"T_a3621_row0_col11\" class=\"data row0 col11\" >0.000000</td>\n",
       "      <td id=\"T_a3621_row0_col12\" class=\"data row0 col12\" >9.696931</td>\n",
       "      <td id=\"T_a3621_row0_col13\" class=\"data row0 col13\" >500.000000</td>\n",
       "    </tr>\n",
       "    <tr>\n",
       "      <th id=\"T_a3621_level0_row1\" class=\"row_heading level0 row1\" >17</th>\n",
       "      <td id=\"T_a3621_row1_col0\" class=\"data row1 col0\" >3</td>\n",
       "      <td id=\"T_a3621_row1_col1\" class=\"data row1 col1\" >4</td>\n",
       "      <td id=\"T_a3621_row1_col2\" class=\"data row1 col2\" >1000</td>\n",
       "      <td id=\"T_a3621_row1_col3\" class=\"data row1 col3\" >random</td>\n",
       "      <td id=\"T_a3621_row1_col4\" class=\"data row1 col4\" >FI_CURR</td>\n",
       "      <td id=\"T_a3621_row1_col5\" class=\"data row1 col5\" >1640816.081000</td>\n",
       "      <td id=\"T_a3621_row1_col6\" class=\"data row1 col6\" >658052.565000</td>\n",
       "      <td id=\"T_a3621_row1_col7\" class=\"data row1 col7\" >1827877.000000</td>\n",
       "      <td id=\"T_a3621_row1_col8\" class=\"data row1 col8\" >22662.267000</td>\n",
       "      <td id=\"T_a3621_row1_col9\" class=\"data row1 col9\" >0.000000</td>\n",
       "      <td id=\"T_a3621_row1_col10\" class=\"data row1 col10\" >-0.633863</td>\n",
       "      <td id=\"T_a3621_row1_col11\" class=\"data row1 col11\" >-13.329682</td>\n",
       "      <td id=\"T_a3621_row1_col12\" class=\"data row1 col12\" >-9.256392</td>\n",
       "      <td id=\"T_a3621_row1_col13\" class=\"data row1 col13\" >250.000000</td>\n",
       "    </tr>\n",
       "    <tr>\n",
       "      <th id=\"T_a3621_level0_row2\" class=\"row_heading level0 row2\" >19</th>\n",
       "      <td id=\"T_a3621_row2_col0\" class=\"data row2 col0\" >5</td>\n",
       "      <td id=\"T_a3621_row2_col1\" class=\"data row2 col1\" >8</td>\n",
       "      <td id=\"T_a3621_row2_col2\" class=\"data row2 col2\" >1000</td>\n",
       "      <td id=\"T_a3621_row2_col3\" class=\"data row2 col3\" >random</td>\n",
       "      <td id=\"T_a3621_row2_col4\" class=\"data row2 col4\" >FI_CURR</td>\n",
       "      <td id=\"T_a3621_row2_col5\" class=\"data row2 col5\" >1633227.758000</td>\n",
       "      <td id=\"T_a3621_row2_col6\" class=\"data row2 col6\" >244865.582000</td>\n",
       "      <td id=\"T_a3621_row2_col7\" class=\"data row2 col7\" >10843532.000000</td>\n",
       "      <td id=\"T_a3621_row2_col8\" class=\"data row2 col8\" >131432.074000</td>\n",
       "      <td id=\"T_a3621_row2_col9\" class=\"data row2 col9\" >0.000000</td>\n",
       "      <td id=\"T_a3621_row2_col10\" class=\"data row2 col10\" >-1.140245</td>\n",
       "      <td id=\"T_a3621_row2_col11\" class=\"data row2 col11\" >42.509292</td>\n",
       "      <td id=\"T_a3621_row2_col12\" class=\"data row2 col12\" >69.287020</td>\n",
       "      <td id=\"T_a3621_row2_col13\" class=\"data row2 col13\" >125.000000</td>\n",
       "    </tr>\n",
       "    <tr>\n",
       "      <th id=\"T_a3621_level0_row3\" class=\"row_heading level0 row3\" >21</th>\n",
       "      <td id=\"T_a3621_row3_col0\" class=\"data row3 col0\" >7</td>\n",
       "      <td id=\"T_a3621_row3_col1\" class=\"data row3 col1\" >16</td>\n",
       "      <td id=\"T_a3621_row3_col2\" class=\"data row3 col2\" >1000</td>\n",
       "      <td id=\"T_a3621_row3_col3\" class=\"data row3 col3\" >random</td>\n",
       "      <td id=\"T_a3621_row3_col4\" class=\"data row3 col4\" >FI_CURR</td>\n",
       "      <td id=\"T_a3621_row3_col5\" class=\"data row3 col5\" >1622703.378000</td>\n",
       "      <td id=\"T_a3621_row3_col6\" class=\"data row3 col6\" >637282.988000</td>\n",
       "      <td id=\"T_a3621_row3_col7\" class=\"data row3 col7\" >22381098.000000</td>\n",
       "      <td id=\"T_a3621_row3_col8\" class=\"data row3 col8\" >271064.292000</td>\n",
       "      <td id=\"T_a3621_row3_col9\" class=\"data row3 col9\" >0.000000</td>\n",
       "      <td id=\"T_a3621_row3_col10\" class=\"data row3 col10\" >483.733939</td>\n",
       "      <td id=\"T_a3621_row3_col11\" class=\"data row3 col11\" >5.001633</td>\n",
       "      <td id=\"T_a3621_row3_col12\" class=\"data row3 col12\" >24.363133</td>\n",
       "      <td id=\"T_a3621_row3_col13\" class=\"data row3 col13\" >62.500000</td>\n",
       "    </tr>\n",
       "    <tr>\n",
       "      <th id=\"T_a3621_level0_row4\" class=\"row_heading level0 row4\" >23</th>\n",
       "      <td id=\"T_a3621_row4_col0\" class=\"data row4 col0\" >9</td>\n",
       "      <td id=\"T_a3621_row4_col1\" class=\"data row4 col1\" >32</td>\n",
       "      <td id=\"T_a3621_row4_col2\" class=\"data row4 col2\" >1000</td>\n",
       "      <td id=\"T_a3621_row4_col3\" class=\"data row4 col3\" >random</td>\n",
       "      <td id=\"T_a3621_row4_col4\" class=\"data row4 col4\" >FI_CURR</td>\n",
       "      <td id=\"T_a3621_row4_col5\" class=\"data row4 col5\" >1569864.574000</td>\n",
       "      <td id=\"T_a3621_row4_col6\" class=\"data row4 col6\" >743800.468000</td>\n",
       "      <td id=\"T_a3621_row4_col7\" class=\"data row4 col7\" >33160254.000000</td>\n",
       "      <td id=\"T_a3621_row4_col8\" class=\"data row4 col8\" >382178.848000</td>\n",
       "      <td id=\"T_a3621_row4_col9\" class=\"data row4 col9\" >0.000000</td>\n",
       "      <td id=\"T_a3621_row4_col10\" class=\"data row4 col10\" >1421.615805</td>\n",
       "      <td id=\"T_a3621_row4_col11\" class=\"data row4 col11\" >-32.808693</td>\n",
       "      <td id=\"T_a3621_row4_col12\" class=\"data row4 col12\" >-16.985644</td>\n",
       "      <td id=\"T_a3621_row4_col13\" class=\"data row4 col13\" >31.250000</td>\n",
       "    </tr>\n",
       "    <tr>\n",
       "      <th id=\"T_a3621_level0_row5\" class=\"row_heading level0 row5\" >25</th>\n",
       "      <td id=\"T_a3621_row5_col0\" class=\"data row5 col0\" >11</td>\n",
       "      <td id=\"T_a3621_row5_col1\" class=\"data row5 col1\" >64</td>\n",
       "      <td id=\"T_a3621_row5_col2\" class=\"data row5 col2\" >1000</td>\n",
       "      <td id=\"T_a3621_row5_col3\" class=\"data row5 col3\" >random</td>\n",
       "      <td id=\"T_a3621_row5_col4\" class=\"data row5 col4\" >FI_CURR</td>\n",
       "      <td id=\"T_a3621_row5_col5\" class=\"data row5 col5\" >1540827.075000</td>\n",
       "      <td id=\"T_a3621_row5_col6\" class=\"data row5 col6\" >113463.749000</td>\n",
       "      <td id=\"T_a3621_row5_col7\" class=\"data row5 col7\" >378039252.000000</td>\n",
       "      <td id=\"T_a3621_row5_col8\" class=\"data row5 col8\" >4221327.771000</td>\n",
       "      <td id=\"T_a3621_row5_col9\" class=\"data row5 col9\" >0.000000</td>\n",
       "      <td id=\"T_a3621_row5_col10\" class=\"data row5 col10\" >395.190660</td>\n",
       "      <td id=\"T_a3621_row5_col11\" class=\"data row5 col11\" >274.570727</td>\n",
       "      <td id=\"T_a3621_row5_col12\" class=\"data row5 col12\" >355.779741</td>\n",
       "      <td id=\"T_a3621_row5_col13\" class=\"data row5 col13\" >15.625000</td>\n",
       "    </tr>\n",
       "    <tr>\n",
       "      <th id=\"T_a3621_level0_row6\" class=\"row_heading level0 row6\" >27</th>\n",
       "      <td id=\"T_a3621_row6_col0\" class=\"data row6 col0\" >13</td>\n",
       "      <td id=\"T_a3621_row6_col1\" class=\"data row6 col1\" >128</td>\n",
       "      <td id=\"T_a3621_row6_col2\" class=\"data row6 col2\" >1000</td>\n",
       "      <td id=\"T_a3621_row6_col3\" class=\"data row6 col3\" >random</td>\n",
       "      <td id=\"T_a3621_row6_col4\" class=\"data row6 col4\" >FI_CURR</td>\n",
       "      <td id=\"T_a3621_row6_col5\" class=\"data row6 col5\" >1423452.653000</td>\n",
       "      <td id=\"T_a3621_row6_col6\" class=\"data row6 col6\" >164980.655000</td>\n",
       "      <td id=\"T_a3621_row6_col7\" class=\"data row6 col7\" >640859759.000000</td>\n",
       "      <td id=\"T_a3621_row6_col8\" class=\"data row6 col8\" >6078393.644000</td>\n",
       "      <td id=\"T_a3621_row6_col9\" class=\"data row6 col9\" >0.000000</td>\n",
       "      <td id=\"T_a3621_row6_col10\" class=\"data row6 col10\" >1489.471943</td>\n",
       "      <td id=\"T_a3621_row6_col11\" class=\"data row6 col11\" >237.534437</td>\n",
       "      <td id=\"T_a3621_row6_col12\" class=\"data row6 col12\" >291.232219</td>\n",
       "      <td id=\"T_a3621_row6_col13\" class=\"data row6 col13\" >7.812500</td>\n",
       "    </tr>\n",
       "  </tbody>\n",
       "</table>\n"
      ],
      "text/plain": [
       "<pandas.io.formats.style.Styler at 0x2c5613bdc10>"
      ]
     },
     "metadata": {},
     "output_type": "display_data"
    },
    {
     "name": "stdout",
     "output_type": "stream",
     "text": [
      "None\n"
     ]
    }
   ],
   "source": [
    "grouped_cols = [\"num_clusters\",\"Nb. points\",\"init_type\",\"algorithm\"]\n",
    "df_compil = orig_df.groupby(grouped_cols).mean().reset_index()\n",
    "df_BI = df_compil[df_compil[\"algorithm\"] == \"BI_BACK\"].copy().set_index(grouped_cols)\n",
    "Ldf = []\n",
    "for algo in pd.unique(df_compil[\"algorithm\"]):\n",
    "    df_algo = df_compil[df_compil[\"algorithm\"] == algo].copy()\n",
    "    df_algo[\"algorithm\"] = \"BI_BACK\"\n",
    "    df_algo = df_algo.set_index(grouped_cols)\n",
    "    df_algo_orig = df_algo.copy()\n",
    "    df_algo = (df_algo - df_BI)/df_BI*100\n",
    "    df_algo.columns = [\"prct_amelioration_\"+c for c in df_algo.columns]\n",
    "    df_algo = pd.concat([df_algo_orig,df_algo],axis=1)\n",
    "    df_algo = df_algo.reset_index()\n",
    "    if df_algo[\"prct_amelioration_end_cost\"].isnull().values.any():\n",
    "        b=0\n",
    "    df_algo[\"algorithm\"] = algo\n",
    "    Ldf.append(df_algo)\n",
    "df_compil = pd.concat(Ldf,axis=0)\n",
    "df_compil.loc[:,\"Nb pts par cluster\"] = df_compil[\"Nb. points\"]/df_compil[\"num_clusters\"]\n",
    "# print(display(df_compil[df_compil[\"algorithm\"]!=\"BI_BACK\"].head()))\n",
    "\n",
    "# sample the colormaps that you want to use. Use 128 from each so we get 256\n",
    "def generate_cmap(negative_good=True):\n",
    "    # thanks to https://stackoverflow.com/questions/31051488/combining-two-matplotlib-colormaps\n",
    "    # colors in total\n",
    "    Lintervals = [\n",
    "        (1,0),\n",
    "        (0.,1.)\n",
    "    ]\n",
    "    Lcmap_names = [\"Reds\",\"Greens\"]\n",
    "    if negative_good:\n",
    "        Lcmap_names = Lcmap_names[::-1]\n",
    "    Lcmaps = [\n",
    "        plt.get_cmap(name)(np.linspace(*interval,128)) for name,interval in zip(Lcmap_names,Lintervals)\n",
    "    ]\n",
    "    \n",
    "\n",
    "    # combine them and build a new colormap\n",
    "    colors = np.vstack(Lcmaps)\n",
    "    mymap = mcolors.LinearSegmentedColormap.from_list('my_colormap', colors)\n",
    "    return mymap\n",
    "def select_col(x):\n",
    "    c1 = 'background-color: red'\n",
    "    c2 = '' \n",
    "    #compare columns\n",
    "    mask = x['Diff'] > x['HistoricStandardDev']\n",
    "    #DataFrame with same index and columns names as original filled empty strings\n",
    "    df1 =  pd.DataFrame(c2, index=x.index, columns=x.columns)\n",
    "    #modify values of df1 column by boolean mask\n",
    "    df1.loc[mask, 'Current'] = c1\n",
    "    return df1\n",
    "\n",
    "# Colors\n",
    "Lindexes = [f\"prct_amelioration_{col}\" for col in [\"end_cost\",\"num_iter_tot\",\"time\"]]\n",
    "df = df_compil.copy().reset_index()\n",
    "df = df.query(QUERY)\n",
    "styler = df.copy().style\n",
    "for indexes,negative_good in zip(Lindexes,[False,False,False]):\n",
    "    maxi = df[indexes].abs().max()\n",
    "    styler.background_gradient(cmap=generate_cmap(negative_good=negative_good), subset=indexes,vmin=-maxi,vmax=maxi)\n",
    "print(display(styler))\n"
   ]
  },
  {
   "cell_type": "code",
   "execution_count": null,
   "metadata": {},
   "outputs": [],
   "source": [
    "df = df_compil.copy().reset_index()\n",
    "ticks_pow = [-2,-1,0]\n",
    "max_val = abs(min(ticks_pow))\n",
    "delta_zero = 0.001+1\n",
    "logscale = lambda x:  np.sign(x) * (1-min(ticks_pow)+np.clip(np.log10(np.abs(x+1e-16)),min(ticks_pow)-delta_zero,np.inf))\n",
    "fig = px.scatter_3d(df,x=\"Nb. points\",y=\"init_type\",z=\"algorithm\",color=logscale(df[COLUMN]),\n",
    "                    hover_data=[\"Nb. points\",\"num_clusters\",\"init_type\",\"algorithm\",COLUMN],\n",
    "                    color_continuous_scale=[\"red\",\"yellow\",\"green\",\"cyan\",\"blue\"][::-1],\n",
    "                    range_color=[-max_val-delta_zero,max_val+delta_zero],\n",
    "                    template=\"plotly_dark\",width=1000,height=900)\n",
    "def build(f):\n",
    "    ticks_pos = [f(1,p) for p in ticks_pow]\n",
    "    ticks_neg = [f(-1,p) for p in ticks_pow[::-1]]\n",
    "    return [*ticks_neg,logscale(0),*ticks_pos]\n",
    "def func(sign,p):\n",
    "    real_value = sign*10**p\n",
    "    return logscale(real_value)\n",
    "Lp = build(func)\n",
    "Lannot = build(lambda sign,p: \"1E\"+str(p) if sign > 0 else \"-1E\"+str(p))\n",
    "fig.update_layout(coloraxis_colorbar=dict(\n",
    "    title=COLUMN,\n",
    "    tickvals=np.round(Lp,decimals=2),\n",
    "    ticktext=Lannot,\n",
    "))\n",
    "fig.show()"
   ]
  },
  {
   "cell_type": "markdown",
   "metadata": {},
   "source": [
    "# Observations"
   ]
  },
  {
   "cell_type": "markdown",
   "metadata": {},
   "source": [
    "\n",
    "## Initialisation random\n",
    "\n",
    "Coût final\n",
    "- A partir d'environ 5 points par cluster il devient plus intéressant d'utiliser BI_BACK\n",
    "- Pour 2 clusters un comportement plus instable est observé\n",
    "\n",
    "Temps de calcul et nombre d'itérations\n",
    "- à partir de 1.25 points par cluster il devient plus intéressant d'utiliser FI_BACK (si nombre de clusters >= 16)\n",
    "\n",
    "## Initialisation KMeans+\n",
    "\n",
    "Coût final\n",
    "- BI_BACK et FI très similaires.\n",
    "- BI_BACK est plus meilleur si nb points/cluster $\\in [3.12,5.63]$ pour num_clusters >= 16\n",
    "- BI_BACK est plus meilleur si nb points/cluster > 6.25,11.25 pour num_clusters < 16 : tendance moins visible\n",
    "\n",
    "Temps de calcul et nombre d'itérations\n",
    "- BI_BACK toujours meilleur\n",
    "\n",
    "## Comparaison FI_BACK, FI_CURR, FI_RANDOM\n",
    "\n",
    "- Pour nb points/cluster < 30 mêmes ordre de grandeur pour chaque algorithme\n",
    "- "
   ]
  },
  {
   "cell_type": "markdown",
   "metadata": {},
   "source": [
    "# % improvement of COLUMN = f(combination of number of points / cluster, algorithm, initialization) ?"
   ]
  },
  {
   "cell_type": "code",
   "execution_count": 36,
   "metadata": {},
   "outputs": [],
   "source": [
    "COLUMN = \"prct_amelioration_end_cost\"\n",
    "QUERY = \"algorithm == 'FI_CURR'\""
   ]
  },
  {
   "cell_type": "code",
   "execution_count": 37,
   "metadata": {},
   "outputs": [
    {
     "data": {
      "application/vnd.plotly.v1+json": {
       "config": {
        "plotlyServerURL": "https://plot.ly"
       },
       "data": [
        {
         "customdata": [
          [
           "FI_CURR",
           0
          ],
          [
           "FI_CURR",
           0
          ],
          [
           "FI_CURR",
           0
          ],
          [
           "FI_CURR",
           -0.6338625834598083
          ],
          [
           "FI_CURR",
           0
          ],
          [
           "FI_CURR",
           -1.140244933650959
          ],
          [
           "FI_CURR",
           -0.18123812454033555
          ],
          [
           "FI_CURR",
           483.73393911383494
          ],
          [
           "FI_CURR",
           -0.022159617410910666
          ],
          [
           "FI_CURR",
           1421.6158052208614
          ],
          [
           "FI_CURR",
           -0.04529083593175165
          ],
          [
           "FI_CURR",
           395.1906599984707
          ],
          [
           "FI_CURR",
           -0.04316858037811318
          ],
          [
           "FI_CURR",
           1489.4719434459303
          ]
         ],
         "hovertemplate": "Nb. points=%{x}<br>num_clusters=%{y}<br>init_type=%{z}<br>algorithm=%{customdata[0]}<br>prct_amelioration_end_cost=%{customdata[1]}<br>color=%{marker.color}<extra></extra>",
         "legendgroup": "",
         "marker": {
          "color": [
           0,
           0,
           0,
           -2.8019951163775354,
           0,
           -3.056998151255164,
           -2.258249559433006,
           5.684606558864117,
           -1.345562257962316,
           6.152782243217369,
           -1.6560103365186076,
           5.596806671849147,
           -1.6351677668844518,
           6.173032327006334
          ],
          "coloraxis": "coloraxis",
          "symbol": "circle"
         },
         "mode": "markers",
         "name": "",
         "scene": "scene",
         "showlegend": false,
         "type": "scatter3d",
         "x": [
          1000,
          1000,
          1000,
          1000,
          1000,
          1000,
          1000,
          1000,
          1000,
          1000,
          1000,
          1000,
          1000,
          1000
         ],
         "y": [
          2,
          2,
          4,
          4,
          8,
          8,
          16,
          16,
          32,
          32,
          64,
          64,
          128,
          128
         ],
         "z": [
          "kmeans+",
          "random",
          "kmeans+",
          "random",
          "kmeans+",
          "random",
          "kmeans+",
          "random",
          "kmeans+",
          "random",
          "kmeans+",
          "random",
          "kmeans+",
          "random"
         ]
        }
       ],
       "layout": {
        "coloraxis": {
         "cmax": 3.001,
         "cmin": -3.001,
         "colorbar": {
          "ticktext": [
           "-1E0",
           "-1E-1",
           "-1E-2",
           0,
           "1E-2",
           "1E-1",
           "1E0"
          ],
          "tickvals": [
           -3,
           -2,
           -1,
           0,
           1,
           2,
           3
          ],
          "title": {
           "text": "prct_amelioration_end_cost"
          }
         },
         "colorscale": [
          [
           0,
           "blue"
          ],
          [
           0.25,
           "cyan"
          ],
          [
           0.5,
           "green"
          ],
          [
           0.75,
           "yellow"
          ],
          [
           1,
           "red"
          ]
         ]
        },
        "height": 900,
        "legend": {
         "tracegroupgap": 0
        },
        "margin": {
         "t": 60
        },
        "scene": {
         "domain": {
          "x": [
           0,
           1
          ],
          "y": [
           0,
           1
          ]
         },
         "xaxis": {
          "title": {
           "text": "Nb. points"
          }
         },
         "yaxis": {
          "title": {
           "text": "num_clusters"
          }
         },
         "zaxis": {
          "title": {
           "text": "init_type"
          }
         }
        },
        "template": {
         "data": {
          "bar": [
           {
            "error_x": {
             "color": "#f2f5fa"
            },
            "error_y": {
             "color": "#f2f5fa"
            },
            "marker": {
             "line": {
              "color": "rgb(17,17,17)",
              "width": 0.5
             },
             "pattern": {
              "fillmode": "overlay",
              "size": 10,
              "solidity": 0.2
             }
            },
            "type": "bar"
           }
          ],
          "barpolar": [
           {
            "marker": {
             "line": {
              "color": "rgb(17,17,17)",
              "width": 0.5
             },
             "pattern": {
              "fillmode": "overlay",
              "size": 10,
              "solidity": 0.2
             }
            },
            "type": "barpolar"
           }
          ],
          "carpet": [
           {
            "aaxis": {
             "endlinecolor": "#A2B1C6",
             "gridcolor": "#506784",
             "linecolor": "#506784",
             "minorgridcolor": "#506784",
             "startlinecolor": "#A2B1C6"
            },
            "baxis": {
             "endlinecolor": "#A2B1C6",
             "gridcolor": "#506784",
             "linecolor": "#506784",
             "minorgridcolor": "#506784",
             "startlinecolor": "#A2B1C6"
            },
            "type": "carpet"
           }
          ],
          "choropleth": [
           {
            "colorbar": {
             "outlinewidth": 0,
             "ticks": ""
            },
            "type": "choropleth"
           }
          ],
          "contour": [
           {
            "colorbar": {
             "outlinewidth": 0,
             "ticks": ""
            },
            "colorscale": [
             [
              0,
              "#0d0887"
             ],
             [
              0.1111111111111111,
              "#46039f"
             ],
             [
              0.2222222222222222,
              "#7201a8"
             ],
             [
              0.3333333333333333,
              "#9c179e"
             ],
             [
              0.4444444444444444,
              "#bd3786"
             ],
             [
              0.5555555555555556,
              "#d8576b"
             ],
             [
              0.6666666666666666,
              "#ed7953"
             ],
             [
              0.7777777777777778,
              "#fb9f3a"
             ],
             [
              0.8888888888888888,
              "#fdca26"
             ],
             [
              1,
              "#f0f921"
             ]
            ],
            "type": "contour"
           }
          ],
          "contourcarpet": [
           {
            "colorbar": {
             "outlinewidth": 0,
             "ticks": ""
            },
            "type": "contourcarpet"
           }
          ],
          "heatmap": [
           {
            "colorbar": {
             "outlinewidth": 0,
             "ticks": ""
            },
            "colorscale": [
             [
              0,
              "#0d0887"
             ],
             [
              0.1111111111111111,
              "#46039f"
             ],
             [
              0.2222222222222222,
              "#7201a8"
             ],
             [
              0.3333333333333333,
              "#9c179e"
             ],
             [
              0.4444444444444444,
              "#bd3786"
             ],
             [
              0.5555555555555556,
              "#d8576b"
             ],
             [
              0.6666666666666666,
              "#ed7953"
             ],
             [
              0.7777777777777778,
              "#fb9f3a"
             ],
             [
              0.8888888888888888,
              "#fdca26"
             ],
             [
              1,
              "#f0f921"
             ]
            ],
            "type": "heatmap"
           }
          ],
          "heatmapgl": [
           {
            "colorbar": {
             "outlinewidth": 0,
             "ticks": ""
            },
            "colorscale": [
             [
              0,
              "#0d0887"
             ],
             [
              0.1111111111111111,
              "#46039f"
             ],
             [
              0.2222222222222222,
              "#7201a8"
             ],
             [
              0.3333333333333333,
              "#9c179e"
             ],
             [
              0.4444444444444444,
              "#bd3786"
             ],
             [
              0.5555555555555556,
              "#d8576b"
             ],
             [
              0.6666666666666666,
              "#ed7953"
             ],
             [
              0.7777777777777778,
              "#fb9f3a"
             ],
             [
              0.8888888888888888,
              "#fdca26"
             ],
             [
              1,
              "#f0f921"
             ]
            ],
            "type": "heatmapgl"
           }
          ],
          "histogram": [
           {
            "marker": {
             "pattern": {
              "fillmode": "overlay",
              "size": 10,
              "solidity": 0.2
             }
            },
            "type": "histogram"
           }
          ],
          "histogram2d": [
           {
            "colorbar": {
             "outlinewidth": 0,
             "ticks": ""
            },
            "colorscale": [
             [
              0,
              "#0d0887"
             ],
             [
              0.1111111111111111,
              "#46039f"
             ],
             [
              0.2222222222222222,
              "#7201a8"
             ],
             [
              0.3333333333333333,
              "#9c179e"
             ],
             [
              0.4444444444444444,
              "#bd3786"
             ],
             [
              0.5555555555555556,
              "#d8576b"
             ],
             [
              0.6666666666666666,
              "#ed7953"
             ],
             [
              0.7777777777777778,
              "#fb9f3a"
             ],
             [
              0.8888888888888888,
              "#fdca26"
             ],
             [
              1,
              "#f0f921"
             ]
            ],
            "type": "histogram2d"
           }
          ],
          "histogram2dcontour": [
           {
            "colorbar": {
             "outlinewidth": 0,
             "ticks": ""
            },
            "colorscale": [
             [
              0,
              "#0d0887"
             ],
             [
              0.1111111111111111,
              "#46039f"
             ],
             [
              0.2222222222222222,
              "#7201a8"
             ],
             [
              0.3333333333333333,
              "#9c179e"
             ],
             [
              0.4444444444444444,
              "#bd3786"
             ],
             [
              0.5555555555555556,
              "#d8576b"
             ],
             [
              0.6666666666666666,
              "#ed7953"
             ],
             [
              0.7777777777777778,
              "#fb9f3a"
             ],
             [
              0.8888888888888888,
              "#fdca26"
             ],
             [
              1,
              "#f0f921"
             ]
            ],
            "type": "histogram2dcontour"
           }
          ],
          "mesh3d": [
           {
            "colorbar": {
             "outlinewidth": 0,
             "ticks": ""
            },
            "type": "mesh3d"
           }
          ],
          "parcoords": [
           {
            "line": {
             "colorbar": {
              "outlinewidth": 0,
              "ticks": ""
             }
            },
            "type": "parcoords"
           }
          ],
          "pie": [
           {
            "automargin": true,
            "type": "pie"
           }
          ],
          "scatter": [
           {
            "marker": {
             "line": {
              "color": "#283442"
             }
            },
            "type": "scatter"
           }
          ],
          "scatter3d": [
           {
            "line": {
             "colorbar": {
              "outlinewidth": 0,
              "ticks": ""
             }
            },
            "marker": {
             "colorbar": {
              "outlinewidth": 0,
              "ticks": ""
             }
            },
            "type": "scatter3d"
           }
          ],
          "scattercarpet": [
           {
            "marker": {
             "colorbar": {
              "outlinewidth": 0,
              "ticks": ""
             }
            },
            "type": "scattercarpet"
           }
          ],
          "scattergeo": [
           {
            "marker": {
             "colorbar": {
              "outlinewidth": 0,
              "ticks": ""
             }
            },
            "type": "scattergeo"
           }
          ],
          "scattergl": [
           {
            "marker": {
             "line": {
              "color": "#283442"
             }
            },
            "type": "scattergl"
           }
          ],
          "scattermapbox": [
           {
            "marker": {
             "colorbar": {
              "outlinewidth": 0,
              "ticks": ""
             }
            },
            "type": "scattermapbox"
           }
          ],
          "scatterpolar": [
           {
            "marker": {
             "colorbar": {
              "outlinewidth": 0,
              "ticks": ""
             }
            },
            "type": "scatterpolar"
           }
          ],
          "scatterpolargl": [
           {
            "marker": {
             "colorbar": {
              "outlinewidth": 0,
              "ticks": ""
             }
            },
            "type": "scatterpolargl"
           }
          ],
          "scatterternary": [
           {
            "marker": {
             "colorbar": {
              "outlinewidth": 0,
              "ticks": ""
             }
            },
            "type": "scatterternary"
           }
          ],
          "surface": [
           {
            "colorbar": {
             "outlinewidth": 0,
             "ticks": ""
            },
            "colorscale": [
             [
              0,
              "#0d0887"
             ],
             [
              0.1111111111111111,
              "#46039f"
             ],
             [
              0.2222222222222222,
              "#7201a8"
             ],
             [
              0.3333333333333333,
              "#9c179e"
             ],
             [
              0.4444444444444444,
              "#bd3786"
             ],
             [
              0.5555555555555556,
              "#d8576b"
             ],
             [
              0.6666666666666666,
              "#ed7953"
             ],
             [
              0.7777777777777778,
              "#fb9f3a"
             ],
             [
              0.8888888888888888,
              "#fdca26"
             ],
             [
              1,
              "#f0f921"
             ]
            ],
            "type": "surface"
           }
          ],
          "table": [
           {
            "cells": {
             "fill": {
              "color": "#506784"
             },
             "line": {
              "color": "rgb(17,17,17)"
             }
            },
            "header": {
             "fill": {
              "color": "#2a3f5f"
             },
             "line": {
              "color": "rgb(17,17,17)"
             }
            },
            "type": "table"
           }
          ]
         },
         "layout": {
          "annotationdefaults": {
           "arrowcolor": "#f2f5fa",
           "arrowhead": 0,
           "arrowwidth": 1
          },
          "autotypenumbers": "strict",
          "coloraxis": {
           "colorbar": {
            "outlinewidth": 0,
            "ticks": ""
           }
          },
          "colorscale": {
           "diverging": [
            [
             0,
             "#8e0152"
            ],
            [
             0.1,
             "#c51b7d"
            ],
            [
             0.2,
             "#de77ae"
            ],
            [
             0.3,
             "#f1b6da"
            ],
            [
             0.4,
             "#fde0ef"
            ],
            [
             0.5,
             "#f7f7f7"
            ],
            [
             0.6,
             "#e6f5d0"
            ],
            [
             0.7,
             "#b8e186"
            ],
            [
             0.8,
             "#7fbc41"
            ],
            [
             0.9,
             "#4d9221"
            ],
            [
             1,
             "#276419"
            ]
           ],
           "sequential": [
            [
             0,
             "#0d0887"
            ],
            [
             0.1111111111111111,
             "#46039f"
            ],
            [
             0.2222222222222222,
             "#7201a8"
            ],
            [
             0.3333333333333333,
             "#9c179e"
            ],
            [
             0.4444444444444444,
             "#bd3786"
            ],
            [
             0.5555555555555556,
             "#d8576b"
            ],
            [
             0.6666666666666666,
             "#ed7953"
            ],
            [
             0.7777777777777778,
             "#fb9f3a"
            ],
            [
             0.8888888888888888,
             "#fdca26"
            ],
            [
             1,
             "#f0f921"
            ]
           ],
           "sequentialminus": [
            [
             0,
             "#0d0887"
            ],
            [
             0.1111111111111111,
             "#46039f"
            ],
            [
             0.2222222222222222,
             "#7201a8"
            ],
            [
             0.3333333333333333,
             "#9c179e"
            ],
            [
             0.4444444444444444,
             "#bd3786"
            ],
            [
             0.5555555555555556,
             "#d8576b"
            ],
            [
             0.6666666666666666,
             "#ed7953"
            ],
            [
             0.7777777777777778,
             "#fb9f3a"
            ],
            [
             0.8888888888888888,
             "#fdca26"
            ],
            [
             1,
             "#f0f921"
            ]
           ]
          },
          "colorway": [
           "#636efa",
           "#EF553B",
           "#00cc96",
           "#ab63fa",
           "#FFA15A",
           "#19d3f3",
           "#FF6692",
           "#B6E880",
           "#FF97FF",
           "#FECB52"
          ],
          "font": {
           "color": "#f2f5fa"
          },
          "geo": {
           "bgcolor": "rgb(17,17,17)",
           "lakecolor": "rgb(17,17,17)",
           "landcolor": "rgb(17,17,17)",
           "showlakes": true,
           "showland": true,
           "subunitcolor": "#506784"
          },
          "hoverlabel": {
           "align": "left"
          },
          "hovermode": "closest",
          "mapbox": {
           "style": "dark"
          },
          "paper_bgcolor": "rgb(17,17,17)",
          "plot_bgcolor": "rgb(17,17,17)",
          "polar": {
           "angularaxis": {
            "gridcolor": "#506784",
            "linecolor": "#506784",
            "ticks": ""
           },
           "bgcolor": "rgb(17,17,17)",
           "radialaxis": {
            "gridcolor": "#506784",
            "linecolor": "#506784",
            "ticks": ""
           }
          },
          "scene": {
           "xaxis": {
            "backgroundcolor": "rgb(17,17,17)",
            "gridcolor": "#506784",
            "gridwidth": 2,
            "linecolor": "#506784",
            "showbackground": true,
            "ticks": "",
            "zerolinecolor": "#C8D4E3"
           },
           "yaxis": {
            "backgroundcolor": "rgb(17,17,17)",
            "gridcolor": "#506784",
            "gridwidth": 2,
            "linecolor": "#506784",
            "showbackground": true,
            "ticks": "",
            "zerolinecolor": "#C8D4E3"
           },
           "zaxis": {
            "backgroundcolor": "rgb(17,17,17)",
            "gridcolor": "#506784",
            "gridwidth": 2,
            "linecolor": "#506784",
            "showbackground": true,
            "ticks": "",
            "zerolinecolor": "#C8D4E3"
           }
          },
          "shapedefaults": {
           "line": {
            "color": "#f2f5fa"
           }
          },
          "sliderdefaults": {
           "bgcolor": "#C8D4E3",
           "bordercolor": "rgb(17,17,17)",
           "borderwidth": 1,
           "tickwidth": 0
          },
          "ternary": {
           "aaxis": {
            "gridcolor": "#506784",
            "linecolor": "#506784",
            "ticks": ""
           },
           "baxis": {
            "gridcolor": "#506784",
            "linecolor": "#506784",
            "ticks": ""
           },
           "bgcolor": "rgb(17,17,17)",
           "caxis": {
            "gridcolor": "#506784",
            "linecolor": "#506784",
            "ticks": ""
           }
          },
          "title": {
           "x": 0.05
          },
          "updatemenudefaults": {
           "bgcolor": "#506784",
           "borderwidth": 0
          },
          "xaxis": {
           "automargin": true,
           "gridcolor": "#283442",
           "linecolor": "#506784",
           "ticks": "",
           "title": {
            "standoff": 15
           },
           "zerolinecolor": "#283442",
           "zerolinewidth": 2
          },
          "yaxis": {
           "automargin": true,
           "gridcolor": "#283442",
           "linecolor": "#506784",
           "ticks": "",
           "title": {
            "standoff": 15
           },
           "zerolinecolor": "#283442",
           "zerolinewidth": 2
          }
         }
        },
        "width": 1000
       }
      }
     },
     "metadata": {},
     "output_type": "display_data"
    }
   ],
   "source": [
    "df = df_compil.query(QUERY)\n",
    "df = df.copy().reset_index()\n",
    "ticks_pow = [-2,-1,0]\n",
    "max_val = max(abs(x) for x in ticks_pow)\n",
    "delta_zero = 0.001+1\n",
    "logscale = lambda x:  np.sign(x) * (1-min(ticks_pow)+np.clip(np.log10(np.abs(x+1e-16)),min(ticks_pow)-delta_zero,np.inf))\n",
    "fig = px.scatter_3d(df,x=\"Nb. points\",y=\"num_clusters\",z=\"init_type\",color=logscale(df[COLUMN]),\n",
    "                    hover_data=[\"Nb. points\",\"num_clusters\",\"init_type\",\"algorithm\",COLUMN],\n",
    "                    color_continuous_scale=[\"red\",\"yellow\",\"green\",\"cyan\",\"blue\"][::-1],\n",
    "                    range_color=[-max_val-delta_zero,max_val+delta_zero],\n",
    "                    template=\"plotly_dark\",width=1000,height=900)\n",
    "def build(f):\n",
    "    ticks_pos = [f(1,p) for p in ticks_pow]\n",
    "    ticks_neg = [f(-1,p) for p in ticks_pow[::-1]]\n",
    "    return [*ticks_neg,logscale(0),*ticks_pos]\n",
    "def func(sign,p):\n",
    "    real_value = sign*10**p\n",
    "    return logscale(real_value)\n",
    "Lp = build(func)\n",
    "Lannot = build(lambda sign,p: \"1E\"+str(p) if sign > 0 else \"-1E\"+str(p))\n",
    "fig.update_layout(coloraxis_colorbar=dict(\n",
    "    title=COLUMN,\n",
    "    tickvals=np.round(Lp,decimals=2),\n",
    "    ticktext=Lannot,\n",
    "))\n",
    "fig.show()"
   ]
  },
  {
   "cell_type": "code",
   "execution_count": null,
   "metadata": {},
   "outputs": [],
   "source": []
  }
 ],
 "metadata": {
  "interpreter": {
   "hash": "a7a80cf5091cc3b0eca4837265a50c60c3c4b353b9419c8d484eb15b11025f30"
  },
  "kernelspec": {
   "display_name": "Python 3.8.12 (conda)",
   "language": "python",
   "name": "python3"
  },
  "language_info": {
   "codemirror_mode": {
    "name": "ipython",
    "version": 3
   },
   "file_extension": ".py",
   "mimetype": "text/x-python",
   "name": "python",
   "nbconvert_exporter": "python",
   "pygments_lexer": "ipython3",
   "version": "3.8.12"
  },
  "orig_nbformat": 4
 },
 "nbformat": 4,
 "nbformat_minor": 2
}
