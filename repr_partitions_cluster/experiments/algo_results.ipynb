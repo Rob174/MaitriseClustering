{
 "cells": [
  {
   "cell_type": "markdown",
   "metadata": {},
   "source": []
  },
  {
   "cell_type": "markdown",
   "metadata": {},
   "source": [
    "Imports"
   ]
  },
  {
   "cell_type": "code",
   "execution_count": 132,
   "metadata": {},
   "outputs": [],
   "source": [
    "\n",
    "\n",
    "import pandas as pd\n",
    "import numpy as np\n",
    "from pathlib import Path\n",
    "from IPython.display import display, HTML\n",
    "import plotly.express as px\n",
    "import dataframe_image as dfi\n",
    "import matplotlib.pyplot as plt\n",
    "import matplotlib.colors as mcolors\n",
    "pd.options.mode.chained_assignment = 'warn'  # default=\n",
    "pd.options.plotting.backend = \"plotly\"\n",
    "pd.options.display.float_format = '{:,.2f}'.format\n",
    "PATH_CACHE = Path(\"../../data/algos_results.csv\").resolve()\n",
    "# print(PATH_CACHE)\n",
    "pd.set_option('display.max_columns', None)  "
   ]
  },
  {
   "cell_type": "markdown",
   "metadata": {},
   "source": [
    "## Load original data and preprocess"
   ]
  },
  {
   "cell_type": "code",
   "execution_count": 133,
   "metadata": {},
   "outputs": [
    {
     "data": {
      "text/html": [
       "<div>\n",
       "<style scoped>\n",
       "    .dataframe tbody tr th:only-of-type {\n",
       "        vertical-align: middle;\n",
       "    }\n",
       "\n",
       "    .dataframe tbody tr th {\n",
       "        vertical-align: top;\n",
       "    }\n",
       "\n",
       "    .dataframe thead th {\n",
       "        text-align: right;\n",
       "    }\n",
       "</style>\n",
       "<table border=\"1\" class=\"dataframe\">\n",
       "  <thead>\n",
       "    <tr style=\"text-align: right;\">\n",
       "      <th></th>\n",
       "      <th>num_clusters</th>\n",
       "      <th>init_type</th>\n",
       "      <th>init_cost</th>\n",
       "      <th>end_cost</th>\n",
       "      <th>num_iter_tot</th>\n",
       "      <th>time</th>\n",
       "      <th>algorithm</th>\n",
       "      <th>Nb. points</th>\n",
       "    </tr>\n",
       "  </thead>\n",
       "  <tbody>\n",
       "    <tr>\n",
       "      <th>0</th>\n",
       "      <td>2</td>\n",
       "      <td>random</td>\n",
       "      <td>25,858.54</td>\n",
       "      <td>14,143.12</td>\n",
       "      <td>180</td>\n",
       "      <td>0.03</td>\n",
       "      <td>BI_BACK</td>\n",
       "      <td>20</td>\n",
       "    </tr>\n",
       "    <tr>\n",
       "      <th>1</th>\n",
       "      <td>2</td>\n",
       "      <td>random</td>\n",
       "      <td>26,804.39</td>\n",
       "      <td>15,272.50</td>\n",
       "      <td>180</td>\n",
       "      <td>0.03</td>\n",
       "      <td>BI_BACK</td>\n",
       "      <td>20</td>\n",
       "    </tr>\n",
       "    <tr>\n",
       "      <th>2</th>\n",
       "      <td>2</td>\n",
       "      <td>random</td>\n",
       "      <td>19,462.05</td>\n",
       "      <td>11,661.72</td>\n",
       "      <td>180</td>\n",
       "      <td>0.03</td>\n",
       "      <td>BI_BACK</td>\n",
       "      <td>20</td>\n",
       "    </tr>\n",
       "    <tr>\n",
       "      <th>3</th>\n",
       "      <td>2</td>\n",
       "      <td>random</td>\n",
       "      <td>31,366.33</td>\n",
       "      <td>20,703.83</td>\n",
       "      <td>160</td>\n",
       "      <td>0.03</td>\n",
       "      <td>BI_BACK</td>\n",
       "      <td>20</td>\n",
       "    </tr>\n",
       "    <tr>\n",
       "      <th>4</th>\n",
       "      <td>2</td>\n",
       "      <td>random</td>\n",
       "      <td>29,653.63</td>\n",
       "      <td>17,133.42</td>\n",
       "      <td>200</td>\n",
       "      <td>0.03</td>\n",
       "      <td>BI_BACK</td>\n",
       "      <td>20</td>\n",
       "    </tr>\n",
       "  </tbody>\n",
       "</table>\n",
       "</div>"
      ],
      "text/plain": [
       "   num_clusters init_type  init_cost  end_cost  num_iter_tot  time algorithm  \\\n",
       "0             2    random  25,858.54 14,143.12           180  0.03   BI_BACK   \n",
       "1             2    random  26,804.39 15,272.50           180  0.03   BI_BACK   \n",
       "2             2    random  19,462.05 11,661.72           180  0.03   BI_BACK   \n",
       "3             2    random  31,366.33 20,703.83           160  0.03   BI_BACK   \n",
       "4             2    random  29,653.63 17,133.42           200  0.03   BI_BACK   \n",
       "\n",
       "   Nb. points  \n",
       "0          20  \n",
       "1          20  \n",
       "2          20  \n",
       "3          20  \n",
       "4          20  "
      ]
     },
     "metadata": {},
     "output_type": "display_data"
    },
    {
     "name": "stdout",
     "output_type": "stream",
     "text": [
      "None\n"
     ]
    }
   ],
   "source": [
    "orig_df = pd.read_csv(PATH_CACHE, sep=\",\",header=0,index_col=False)\n",
    "for orig_name,new_name in [(\"CallbackBestImprovement\",\"BI\"),(\"CallbackFirstImprovement\",\"FI\")]:\n",
    "    orig_df.loc[orig_df.ImprClass == orig_name,\"ImprClass\"] = new_name\n",
    "orig_df.loc[:,\"algorithm\"] = orig_df[\"ImprClass\"]+\"_\" + orig_df[\"iteration_order\"]\n",
    "orig_df.loc[:,\"Nb. points\"] = orig_df[\"num_points\"]\n",
    "orig_df.drop([\"ImprClass\",\"iteration_order\",\"num_iter\",\"global_index\",\"num_points\"],axis=1,inplace=True)\n",
    "df = orig_df.copy()\n",
    "print(display(df.head()))"
   ]
  },
  {
   "cell_type": "markdown",
   "metadata": {},
   "source": [
    "## Merged Data"
   ]
  },
  {
   "cell_type": "code",
   "execution_count": 134,
   "metadata": {},
   "outputs": [],
   "source": [
    "QUERY = \"algorithm != 'BI_BACK' & num_clusters == 64 & init_type == 'kmean+'\""
   ]
  },
  {
   "cell_type": "code",
   "execution_count": 135,
   "metadata": {},
   "outputs": [
    {
     "data": {
      "text/html": [
       "<style type=\"text/css\">\n",
       "#T_09b41_row0_col10 {\n",
       "  background-color: #00491d;\n",
       "  color: #f1f1f1;\n",
       "}\n",
       "#T_09b41_row0_col11 {\n",
       "  background-color: #7e0610;\n",
       "  color: #f1f1f1;\n",
       "}\n",
       "#T_09b41_row0_col12, #T_09b41_row8_col11 {\n",
       "  background-color: #67000d;\n",
       "  color: #f1f1f1;\n",
       "}\n",
       "#T_09b41_row1_col10 {\n",
       "  background-color: #afdfa8;\n",
       "  color: #000000;\n",
       "}\n",
       "#T_09b41_row1_col11 {\n",
       "  background-color: #ce1a1e;\n",
       "  color: #f1f1f1;\n",
       "}\n",
       "#T_09b41_row1_col12 {\n",
       "  background-color: #8e0912;\n",
       "  color: #f1f1f1;\n",
       "}\n",
       "#T_09b41_row2_col10 {\n",
       "  background-color: #ddf2d8;\n",
       "  color: #000000;\n",
       "}\n",
       "#T_09b41_row2_col11 {\n",
       "  background-color: #ed392b;\n",
       "  color: #f1f1f1;\n",
       "}\n",
       "#T_09b41_row2_col12 {\n",
       "  background-color: #c2161b;\n",
       "  color: #f1f1f1;\n",
       "}\n",
       "#T_09b41_row3_col10, #T_09b41_row3_col11, #T_09b41_row3_col12, #T_09b41_row11_col10, #T_09b41_row11_col11, #T_09b41_row11_col12 {\n",
       "  background-color: #000000;\n",
       "  color: #f1f1f1;\n",
       "}\n",
       "#T_09b41_row4_col10, #T_09b41_row8_col10 {\n",
       "  background-color: #00441b;\n",
       "  color: #f1f1f1;\n",
       "}\n",
       "#T_09b41_row4_col11 {\n",
       "  background-color: #6f020e;\n",
       "  color: #f1f1f1;\n",
       "}\n",
       "#T_09b41_row4_col12 {\n",
       "  background-color: #bd151a;\n",
       "  color: #f1f1f1;\n",
       "}\n",
       "#T_09b41_row5_col10 {\n",
       "  background-color: #a8dca2;\n",
       "  color: #000000;\n",
       "}\n",
       "#T_09b41_row5_col11, #T_09b41_row9_col11 {\n",
       "  background-color: #c7171c;\n",
       "  color: #f1f1f1;\n",
       "}\n",
       "#T_09b41_row5_col12, #T_09b41_row6_col11 {\n",
       "  background-color: #e22e27;\n",
       "  color: #f1f1f1;\n",
       "}\n",
       "#T_09b41_row6_col10, #T_09b41_row10_col10 {\n",
       "  background-color: #dbf1d6;\n",
       "  color: #000000;\n",
       "}\n",
       "#T_09b41_row6_col12 {\n",
       "  background-color: #fc8565;\n",
       "  color: #f1f1f1;\n",
       "}\n",
       "#T_09b41_row7_col10 {\n",
       "  background-color: #e9f7e5;\n",
       "  color: #000000;\n",
       "}\n",
       "#T_09b41_row7_col11 {\n",
       "  background-color: #f03f2e;\n",
       "  color: #f1f1f1;\n",
       "}\n",
       "#T_09b41_row7_col12 {\n",
       "  background-color: #fcb398;\n",
       "  color: #000000;\n",
       "}\n",
       "#T_09b41_row8_col12 {\n",
       "  background-color: #73030f;\n",
       "  color: #f1f1f1;\n",
       "}\n",
       "#T_09b41_row9_col10 {\n",
       "  background-color: #aadda4;\n",
       "  color: #000000;\n",
       "}\n",
       "#T_09b41_row9_col12 {\n",
       "  background-color: #aa1016;\n",
       "  color: #f1f1f1;\n",
       "}\n",
       "#T_09b41_row10_col11 {\n",
       "  background-color: #e93529;\n",
       "  color: #f1f1f1;\n",
       "}\n",
       "#T_09b41_row10_col12 {\n",
       "  background-color: #c9181d;\n",
       "  color: #f1f1f1;\n",
       "}\n",
       "</style>\n",
       "<table id=\"T_09b41\">\n",
       "  <thead>\n",
       "    <tr>\n",
       "      <th class=\"blank level0\" >&nbsp;</th>\n",
       "      <th id=\"T_09b41_level0_col0\" class=\"col_heading level0 col0\" >index</th>\n",
       "      <th id=\"T_09b41_level0_col1\" class=\"col_heading level0 col1\" >num_clusters</th>\n",
       "      <th id=\"T_09b41_level0_col2\" class=\"col_heading level0 col2\" >Nb. points</th>\n",
       "      <th id=\"T_09b41_level0_col3\" class=\"col_heading level0 col3\" >init_type</th>\n",
       "      <th id=\"T_09b41_level0_col4\" class=\"col_heading level0 col4\" >algorithm</th>\n",
       "      <th id=\"T_09b41_level0_col5\" class=\"col_heading level0 col5\" >init_cost</th>\n",
       "      <th id=\"T_09b41_level0_col6\" class=\"col_heading level0 col6\" >end_cost</th>\n",
       "      <th id=\"T_09b41_level0_col7\" class=\"col_heading level0 col7\" >num_iter_tot</th>\n",
       "      <th id=\"T_09b41_level0_col8\" class=\"col_heading level0 col8\" >time</th>\n",
       "      <th id=\"T_09b41_level0_col9\" class=\"col_heading level0 col9\" >prct_amelioration_init_cost</th>\n",
       "      <th id=\"T_09b41_level0_col10\" class=\"col_heading level0 col10\" >prct_amelioration_end_cost</th>\n",
       "      <th id=\"T_09b41_level0_col11\" class=\"col_heading level0 col11\" >prct_amelioration_num_iter_tot</th>\n",
       "      <th id=\"T_09b41_level0_col12\" class=\"col_heading level0 col12\" >prct_amelioration_time</th>\n",
       "      <th id=\"T_09b41_level0_col13\" class=\"col_heading level0 col13\" >Nb pts par cluster</th>\n",
       "    </tr>\n",
       "  </thead>\n",
       "  <tbody>\n",
       "    <tr>\n",
       "      <th id=\"T_09b41_level0_row0\" class=\"row_heading level0 row0\" >180</th>\n",
       "      <td id=\"T_09b41_row0_col0\" class=\"data row0 col0\" >86</td>\n",
       "      <td id=\"T_09b41_row0_col1\" class=\"data row0 col1\" >64</td>\n",
       "      <td id=\"T_09b41_row0_col2\" class=\"data row0 col2\" >70</td>\n",
       "      <td id=\"T_09b41_row0_col3\" class=\"data row0 col3\" >kmean+</td>\n",
       "      <td id=\"T_09b41_row0_col4\" class=\"data row0 col4\" >FI_BACK</td>\n",
       "      <td id=\"T_09b41_row0_col5\" class=\"data row0 col5\" >840.282551</td>\n",
       "      <td id=\"T_09b41_row0_col6\" class=\"data row0 col6\" >78.675528</td>\n",
       "      <td id=\"T_09b41_row0_col7\" class=\"data row0 col7\" >43419.538000</td>\n",
       "      <td id=\"T_09b41_row0_col8\" class=\"data row0 col8\" >2.591514</td>\n",
       "      <td id=\"T_09b41_row0_col9\" class=\"data row0 col9\" >-0.855706</td>\n",
       "      <td id=\"T_09b41_row0_col10\" class=\"data row0 col10\" >234.975875</td>\n",
       "      <td id=\"T_09b41_row0_col11\" class=\"data row0 col11\" >-47.726572</td>\n",
       "      <td id=\"T_09b41_row0_col12\" class=\"data row0 col12\" >-71.641803</td>\n",
       "      <td id=\"T_09b41_row0_col13\" class=\"data row0 col13\" >1.093750</td>\n",
       "    </tr>\n",
       "    <tr>\n",
       "      <th id=\"T_09b41_level0_row1\" class=\"row_heading level0 row1\" >182</th>\n",
       "      <td id=\"T_09b41_row1_col0\" class=\"data row1 col0\" >88</td>\n",
       "      <td id=\"T_09b41_row1_col1\" class=\"data row1 col1\" >64</td>\n",
       "      <td id=\"T_09b41_row1_col2\" class=\"data row1 col2\" >80</td>\n",
       "      <td id=\"T_09b41_row1_col3\" class=\"data row1 col3\" >kmean+</td>\n",
       "      <td id=\"T_09b41_row1_col4\" class=\"data row1 col4\" >FI_BACK</td>\n",
       "      <td id=\"T_09b41_row1_col5\" class=\"data row1 col5\" >1088.478589</td>\n",
       "      <td id=\"T_09b41_row1_col6\" class=\"data row1 col6\" >237.423738</td>\n",
       "      <td id=\"T_09b41_row1_col7\" class=\"data row1 col7\" >55587.466000</td>\n",
       "      <td id=\"T_09b41_row1_col8\" class=\"data row1 col8\" >3.838946</td>\n",
       "      <td id=\"T_09b41_row1_col9\" class=\"data row1 col9\" >1.037646</td>\n",
       "      <td id=\"T_09b41_row1_col10\" class=\"data row1 col10\" >79.531736</td>\n",
       "      <td id=\"T_09b41_row1_col11\" class=\"data row1 col11\" >-37.140892</td>\n",
       "      <td id=\"T_09b41_row1_col12\" class=\"data row1 col12\" >-65.961452</td>\n",
       "      <td id=\"T_09b41_row1_col13\" class=\"data row1 col13\" >1.250000</td>\n",
       "    </tr>\n",
       "    <tr>\n",
       "      <th id=\"T_09b41_level0_row2\" class=\"row_heading level0 row2\" >184</th>\n",
       "      <td id=\"T_09b41_row2_col0\" class=\"data row2 col0\" >90</td>\n",
       "      <td id=\"T_09b41_row2_col1\" class=\"data row2 col1\" >64</td>\n",
       "      <td id=\"T_09b41_row2_col2\" class=\"data row2 col2\" >90</td>\n",
       "      <td id=\"T_09b41_row2_col3\" class=\"data row2 col3\" >kmean+</td>\n",
       "      <td id=\"T_09b41_row2_col4\" class=\"data row2 col4\" >FI_BACK</td>\n",
       "      <td id=\"T_09b41_row2_col5\" class=\"data row2 col5\" >1348.033420</td>\n",
       "      <td id=\"T_09b41_row2_col6\" class=\"data row2 col6\" >416.076900</td>\n",
       "      <td id=\"T_09b41_row2_col7\" class=\"data row2 col7\" >71726.196000</td>\n",
       "      <td id=\"T_09b41_row2_col8\" class=\"data row2 col8\" >5.760208</td>\n",
       "      <td id=\"T_09b41_row2_col9\" class=\"data row2 col9\" >0.469007</td>\n",
       "      <td id=\"T_09b41_row2_col10\" class=\"data row2 col10\" >38.205436</td>\n",
       "      <td id=\"T_09b41_row2_col11\" class=\"data row2 col11\" >-31.532135</td>\n",
       "      <td id=\"T_09b41_row2_col12\" class=\"data row2 col12\" >-55.559592</td>\n",
       "      <td id=\"T_09b41_row2_col13\" class=\"data row2 col13\" >1.406250</td>\n",
       "    </tr>\n",
       "    <tr>\n",
       "      <th id=\"T_09b41_level0_row3\" class=\"row_heading level0 row3\" >187</th>\n",
       "      <td id=\"T_09b41_row3_col0\" class=\"data row3 col0\" >93</td>\n",
       "      <td id=\"T_09b41_row3_col1\" class=\"data row3 col1\" >64</td>\n",
       "      <td id=\"T_09b41_row3_col2\" class=\"data row3 col2\" >100</td>\n",
       "      <td id=\"T_09b41_row3_col3\" class=\"data row3 col3\" >kmean+</td>\n",
       "      <td id=\"T_09b41_row3_col4\" class=\"data row3 col4\" >FI_BACK</td>\n",
       "      <td id=\"T_09b41_row3_col5\" class=\"data row3 col5\" >nan</td>\n",
       "      <td id=\"T_09b41_row3_col6\" class=\"data row3 col6\" >nan</td>\n",
       "      <td id=\"T_09b41_row3_col7\" class=\"data row3 col7\" >nan</td>\n",
       "      <td id=\"T_09b41_row3_col8\" class=\"data row3 col8\" >nan</td>\n",
       "      <td id=\"T_09b41_row3_col9\" class=\"data row3 col9\" >nan</td>\n",
       "      <td id=\"T_09b41_row3_col10\" class=\"data row3 col10\" >nan</td>\n",
       "      <td id=\"T_09b41_row3_col11\" class=\"data row3 col11\" >nan</td>\n",
       "      <td id=\"T_09b41_row3_col12\" class=\"data row3 col12\" >nan</td>\n",
       "      <td id=\"T_09b41_row3_col13\" class=\"data row3 col13\" >1.562500</td>\n",
       "    </tr>\n",
       "    <tr>\n",
       "      <th id=\"T_09b41_level0_row4\" class=\"row_heading level0 row4\" >274</th>\n",
       "      <td id=\"T_09b41_row4_col0\" class=\"data row4 col0\" >86</td>\n",
       "      <td id=\"T_09b41_row4_col1\" class=\"data row4 col1\" >64</td>\n",
       "      <td id=\"T_09b41_row4_col2\" class=\"data row4 col2\" >70</td>\n",
       "      <td id=\"T_09b41_row4_col3\" class=\"data row4 col3\" >kmean+</td>\n",
       "      <td id=\"T_09b41_row4_col4\" class=\"data row4 col4\" >FI_CURR</td>\n",
       "      <td id=\"T_09b41_row4_col5\" class=\"data row4 col5\" >835.260574</td>\n",
       "      <td id=\"T_09b41_row4_col6\" class=\"data row4 col6\" >79.488077</td>\n",
       "      <td id=\"T_09b41_row4_col7\" class=\"data row4 col7\" >41939.436000</td>\n",
       "      <td id=\"T_09b41_row4_col8\" class=\"data row4 col8\" >3.961745</td>\n",
       "      <td id=\"T_09b41_row4_col9\" class=\"data row4 col9\" >-1.448245</td>\n",
       "      <td id=\"T_09b41_row4_col10\" class=\"data row4 col10\" >238.435454</td>\n",
       "      <td id=\"T_09b41_row4_col11\" class=\"data row4 col11\" >-49.508489</td>\n",
       "      <td id=\"T_09b41_row4_col12\" class=\"data row4 col12\" >-56.647758</td>\n",
       "      <td id=\"T_09b41_row4_col13\" class=\"data row4 col13\" >1.093750</td>\n",
       "    </tr>\n",
       "    <tr>\n",
       "      <th id=\"T_09b41_level0_row5\" class=\"row_heading level0 row5\" >276</th>\n",
       "      <td id=\"T_09b41_row5_col0\" class=\"data row5 col0\" >88</td>\n",
       "      <td id=\"T_09b41_row5_col1\" class=\"data row5 col1\" >64</td>\n",
       "      <td id=\"T_09b41_row5_col2\" class=\"data row5 col2\" >80</td>\n",
       "      <td id=\"T_09b41_row5_col3\" class=\"data row5 col3\" >kmean+</td>\n",
       "      <td id=\"T_09b41_row5_col4\" class=\"data row5 col4\" >FI_CURR</td>\n",
       "      <td id=\"T_09b41_row5_col5\" class=\"data row5 col5\" >1085.608231</td>\n",
       "      <td id=\"T_09b41_row5_col6\" class=\"data row5 col6\" >243.983282</td>\n",
       "      <td id=\"T_09b41_row5_col7\" class=\"data row5 col7\" >54502.194000</td>\n",
       "      <td id=\"T_09b41_row5_col8\" class=\"data row5 col8\" >5.875506</td>\n",
       "      <td id=\"T_09b41_row5_col9\" class=\"data row5 col9\" >0.771206</td>\n",
       "      <td id=\"T_09b41_row5_col10\" class=\"data row5 col10\" >84.491840</td>\n",
       "      <td id=\"T_09b41_row5_col11\" class=\"data row5 col11\" >-38.368133</td>\n",
       "      <td id=\"T_09b41_row5_col12\" class=\"data row5 col12\" >-47.904004</td>\n",
       "      <td id=\"T_09b41_row5_col13\" class=\"data row5 col13\" >1.250000</td>\n",
       "    </tr>\n",
       "    <tr>\n",
       "      <th id=\"T_09b41_level0_row6\" class=\"row_heading level0 row6\" >278</th>\n",
       "      <td id=\"T_09b41_row6_col0\" class=\"data row6 col0\" >90</td>\n",
       "      <td id=\"T_09b41_row6_col1\" class=\"data row6 col1\" >64</td>\n",
       "      <td id=\"T_09b41_row6_col2\" class=\"data row6 col2\" >90</td>\n",
       "      <td id=\"T_09b41_row6_col3\" class=\"data row6 col3\" >kmean+</td>\n",
       "      <td id=\"T_09b41_row6_col4\" class=\"data row6 col4\" >FI_CURR</td>\n",
       "      <td id=\"T_09b41_row6_col5\" class=\"data row6 col5\" >1340.102497</td>\n",
       "      <td id=\"T_09b41_row6_col6\" class=\"data row6 col6\" >421.210976</td>\n",
       "      <td id=\"T_09b41_row6_col7\" class=\"data row6 col7\" >69398.163000</td>\n",
       "      <td id=\"T_09b41_row6_col8\" class=\"data row6 col8\" >9.089143</td>\n",
       "      <td id=\"T_09b41_row6_col9\" class=\"data row6 col9\" >-0.122085</td>\n",
       "      <td id=\"T_09b41_row6_col10\" class=\"data row6 col10\" >39.910787</td>\n",
       "      <td id=\"T_09b41_row6_col11\" class=\"data row6 col11\" >-33.754412</td>\n",
       "      <td id=\"T_09b41_row6_col12\" class=\"data row6 col12\" >-29.876625</td>\n",
       "      <td id=\"T_09b41_row6_col13\" class=\"data row6 col13\" >1.406250</td>\n",
       "    </tr>\n",
       "    <tr>\n",
       "      <th id=\"T_09b41_level0_row7\" class=\"row_heading level0 row7\" >280</th>\n",
       "      <td id=\"T_09b41_row7_col0\" class=\"data row7 col0\" >92</td>\n",
       "      <td id=\"T_09b41_row7_col1\" class=\"data row7 col1\" >64</td>\n",
       "      <td id=\"T_09b41_row7_col2\" class=\"data row7 col2\" >100</td>\n",
       "      <td id=\"T_09b41_row7_col3\" class=\"data row7 col3\" >kmean+</td>\n",
       "      <td id=\"T_09b41_row7_col4\" class=\"data row7 col4\" >FI_CURR</td>\n",
       "      <td id=\"T_09b41_row7_col5\" class=\"data row7 col5\" >1604.440637</td>\n",
       "      <td id=\"T_09b41_row7_col6\" class=\"data row7 col6\" >620.340350</td>\n",
       "      <td id=\"T_09b41_row7_col7\" class=\"data row7 col7\" >90496.420139</td>\n",
       "      <td id=\"T_09b41_row7_col8\" class=\"data row7 col8\" >13.563929</td>\n",
       "      <td id=\"T_09b41_row7_col9\" class=\"data row7 col9\" >-2.370049</td>\n",
       "      <td id=\"T_09b41_row7_col10\" class=\"data row7 col10\" >23.575477</td>\n",
       "      <td id=\"T_09b41_row7_col11\" class=\"data row7 col11\" >-30.730042</td>\n",
       "      <td id=\"T_09b41_row7_col12\" class=\"data row7 col12\" >-19.790301</td>\n",
       "      <td id=\"T_09b41_row7_col13\" class=\"data row7 col13\" >1.562500</td>\n",
       "    </tr>\n",
       "    <tr>\n",
       "      <th id=\"T_09b41_level0_row8\" class=\"row_heading level0 row8\" >368</th>\n",
       "      <td id=\"T_09b41_row8_col0\" class=\"data row8 col0\" >86</td>\n",
       "      <td id=\"T_09b41_row8_col1\" class=\"data row8 col1\" >64</td>\n",
       "      <td id=\"T_09b41_row8_col2\" class=\"data row8 col2\" >70</td>\n",
       "      <td id=\"T_09b41_row8_col3\" class=\"data row8 col3\" >kmean+</td>\n",
       "      <td id=\"T_09b41_row8_col4\" class=\"data row8 col4\" >FI_RANDOM</td>\n",
       "      <td id=\"T_09b41_row8_col5\" class=\"data row8 col5\" >847.661059</td>\n",
       "      <td id=\"T_09b41_row8_col6\" class=\"data row8 col6\" >79.752222</td>\n",
       "      <td id=\"T_09b41_row8_col7\" class=\"data row8 col7\" >41191.458000</td>\n",
       "      <td id=\"T_09b41_row8_col8\" class=\"data row8 col8\" >2.759026</td>\n",
       "      <td id=\"T_09b41_row8_col9\" class=\"data row8 col9\" >0.014879</td>\n",
       "      <td id=\"T_09b41_row8_col10\" class=\"data row8 col10\" >239.560100</td>\n",
       "      <td id=\"T_09b41_row8_col11\" class=\"data row8 col11\" >-50.408990</td>\n",
       "      <td id=\"T_09b41_row8_col12\" class=\"data row8 col12\" >-69.808769</td>\n",
       "      <td id=\"T_09b41_row8_col13\" class=\"data row8 col13\" >1.093750</td>\n",
       "    </tr>\n",
       "    <tr>\n",
       "      <th id=\"T_09b41_level0_row9\" class=\"row_heading level0 row9\" >370</th>\n",
       "      <td id=\"T_09b41_row9_col0\" class=\"data row9 col0\" >88</td>\n",
       "      <td id=\"T_09b41_row9_col1\" class=\"data row9 col1\" >64</td>\n",
       "      <td id=\"T_09b41_row9_col2\" class=\"data row9 col2\" >80</td>\n",
       "      <td id=\"T_09b41_row9_col3\" class=\"data row9 col3\" >kmean+</td>\n",
       "      <td id=\"T_09b41_row9_col4\" class=\"data row9 col4\" >FI_RANDOM</td>\n",
       "      <td id=\"T_09b41_row9_col5\" class=\"data row9 col5\" >1093.788184</td>\n",
       "      <td id=\"T_09b41_row9_col6\" class=\"data row9 col6\" >243.086221</td>\n",
       "      <td id=\"T_09b41_row9_col7\" class=\"data row9 col7\" >54475.698000</td>\n",
       "      <td id=\"T_09b41_row9_col8\" class=\"data row9 col8\" >4.341684</td>\n",
       "      <td id=\"T_09b41_row9_col9\" class=\"data row9 col9\" >1.530507</td>\n",
       "      <td id=\"T_09b41_row9_col10\" class=\"data row9 col10\" >83.813513</td>\n",
       "      <td id=\"T_09b41_row9_col11\" class=\"data row9 col11\" >-38.398095</td>\n",
       "      <td id=\"T_09b41_row9_col12\" class=\"data row9 col12\" >-61.503854</td>\n",
       "      <td id=\"T_09b41_row9_col13\" class=\"data row9 col13\" >1.250000</td>\n",
       "    </tr>\n",
       "    <tr>\n",
       "      <th id=\"T_09b41_level0_row10\" class=\"row_heading level0 row10\" >372</th>\n",
       "      <td id=\"T_09b41_row10_col0\" class=\"data row10 col0\" >90</td>\n",
       "      <td id=\"T_09b41_row10_col1\" class=\"data row10 col1\" >64</td>\n",
       "      <td id=\"T_09b41_row10_col2\" class=\"data row10 col2\" >90</td>\n",
       "      <td id=\"T_09b41_row10_col3\" class=\"data row10 col3\" >kmean+</td>\n",
       "      <td id=\"T_09b41_row10_col4\" class=\"data row10 col4\" >FI_RANDOM</td>\n",
       "      <td id=\"T_09b41_row10_col5\" class=\"data row10 col5\" >1355.216911</td>\n",
       "      <td id=\"T_09b41_row10_col6\" class=\"data row10 col6\" >421.766082</td>\n",
       "      <td id=\"T_09b41_row10_col7\" class=\"data row10 col7\" >70639.948000</td>\n",
       "      <td id=\"T_09b41_row10_col8\" class=\"data row10 col8\" >5.973308</td>\n",
       "      <td id=\"T_09b41_row10_col9\" class=\"data row10 col9\" >1.004393</td>\n",
       "      <td id=\"T_09b41_row10_col10\" class=\"data row10 col10\" >40.095173</td>\n",
       "      <td id=\"T_09b41_row10_col11\" class=\"data row10 col11\" >-32.569038</td>\n",
       "      <td id=\"T_09b41_row10_col12\" class=\"data row10 col12\" >-53.915513</td>\n",
       "      <td id=\"T_09b41_row10_col13\" class=\"data row10 col13\" >1.406250</td>\n",
       "    </tr>\n",
       "    <tr>\n",
       "      <th id=\"T_09b41_level0_row11\" class=\"row_heading level0 row11\" >375</th>\n",
       "      <td id=\"T_09b41_row11_col0\" class=\"data row11 col0\" >93</td>\n",
       "      <td id=\"T_09b41_row11_col1\" class=\"data row11 col1\" >64</td>\n",
       "      <td id=\"T_09b41_row11_col2\" class=\"data row11 col2\" >100</td>\n",
       "      <td id=\"T_09b41_row11_col3\" class=\"data row11 col3\" >kmean+</td>\n",
       "      <td id=\"T_09b41_row11_col4\" class=\"data row11 col4\" >FI_RANDOM</td>\n",
       "      <td id=\"T_09b41_row11_col5\" class=\"data row11 col5\" >nan</td>\n",
       "      <td id=\"T_09b41_row11_col6\" class=\"data row11 col6\" >nan</td>\n",
       "      <td id=\"T_09b41_row11_col7\" class=\"data row11 col7\" >nan</td>\n",
       "      <td id=\"T_09b41_row11_col8\" class=\"data row11 col8\" >nan</td>\n",
       "      <td id=\"T_09b41_row11_col9\" class=\"data row11 col9\" >nan</td>\n",
       "      <td id=\"T_09b41_row11_col10\" class=\"data row11 col10\" >nan</td>\n",
       "      <td id=\"T_09b41_row11_col11\" class=\"data row11 col11\" >nan</td>\n",
       "      <td id=\"T_09b41_row11_col12\" class=\"data row11 col12\" >nan</td>\n",
       "      <td id=\"T_09b41_row11_col13\" class=\"data row11 col13\" >1.562500</td>\n",
       "    </tr>\n",
       "  </tbody>\n",
       "</table>\n"
      ],
      "text/plain": [
       "<pandas.io.formats.style.Styler at 0x25624f37970>"
      ]
     },
     "metadata": {},
     "output_type": "display_data"
    },
    {
     "name": "stdout",
     "output_type": "stream",
     "text": [
      "None\n"
     ]
    }
   ],
   "source": [
    "grouped_cols = [\"num_clusters\",\"Nb. points\",\"init_type\",\"algorithm\"]\n",
    "df_compil = orig_df.groupby(grouped_cols).mean().reset_index()\n",
    "df_BI = df_compil[df_compil[\"algorithm\"] == \"BI_BACK\"].copy().set_index(grouped_cols)\n",
    "Ldf = []\n",
    "for algo in pd.unique(df_compil[\"algorithm\"]):\n",
    "    df_algo = df_compil[df_compil[\"algorithm\"] == algo].copy()\n",
    "    df_algo[\"algorithm\"] = \"BI_BACK\"\n",
    "    df_algo = df_algo.set_index(grouped_cols)\n",
    "    df_algo_orig = df_algo.copy()\n",
    "    df_algo = (df_algo - df_BI)/df_BI*100\n",
    "    df_algo.columns = [\"prct_amelioration_\"+c for c in df_algo.columns]\n",
    "    df_algo = pd.concat([df_algo_orig,df_algo],axis=1)\n",
    "    df_algo = df_algo.reset_index()\n",
    "    df_algo[\"algorithm\"] = algo\n",
    "    Ldf.append(df_algo)\n",
    "df_compil = pd.concat(Ldf,axis=0)\n",
    "df_compil.loc[:,\"Nb pts par cluster\"] = df_compil[\"Nb. points\"]/df_compil[\"num_clusters\"]\n",
    "# print(display(df_compil[df_compil[\"algorithm\"]!=\"BI_BACK\"].head()))\n",
    "\n",
    "# sample the colormaps that you want to use. Use 128 from each so we get 256\n",
    "def generate_cmap(negative_good=True):\n",
    "    # thanks to https://stackoverflow.com/questions/31051488/combining-two-matplotlib-colormaps\n",
    "    # colors in total\n",
    "    Lintervals = [\n",
    "        (1,0),\n",
    "        (0.,1.)\n",
    "    ]\n",
    "    Lcmap_names = [\"Reds\",\"Greens\"]\n",
    "    if negative_good:\n",
    "        Lcmap_names = Lcmap_names[::-1]\n",
    "    Lcmaps = [\n",
    "        plt.get_cmap(name)(np.linspace(*interval,128)) for name,interval in zip(Lcmap_names,Lintervals)\n",
    "    ]\n",
    "    \n",
    "\n",
    "    # combine them and build a new colormap\n",
    "    colors = np.vstack(Lcmaps)\n",
    "    mymap = mcolors.LinearSegmentedColormap.from_list('my_colormap', colors)\n",
    "    return mymap\n",
    "def select_col(x):\n",
    "    c1 = 'background-color: red'\n",
    "    c2 = '' \n",
    "    #compare columns\n",
    "    mask = x['Diff'] > x['HistoricStandardDev']\n",
    "    #DataFrame with same index and columns names as original filled empty strings\n",
    "    df1 =  pd.DataFrame(c2, index=x.index, columns=x.columns)\n",
    "    #modify values of df1 column by boolean mask\n",
    "    df1.loc[mask, 'Current'] = c1\n",
    "    return df1\n",
    "\n",
    "# Colors\n",
    "Lindexes = [f\"prct_amelioration_{col}\" for col in [\"end_cost\",\"num_iter_tot\",\"time\"]]\n",
    "df = df_compil.copy().reset_index()\n",
    "df = df.query(QUERY)\n",
    "styler = df.copy().style\n",
    "for indexes,negative_good in zip(Lindexes,[False,False,False]):\n",
    "    maxi = df[indexes].abs().max()\n",
    "    styler.background_gradient(cmap=generate_cmap(negative_good=negative_good), subset=indexes,vmin=-maxi,vmax=maxi)\n",
    "print(display(styler))\n"
   ]
  },
  {
   "cell_type": "markdown",
   "metadata": {},
   "source": [
    "# Observations"
   ]
  },
  {
   "cell_type": "markdown",
   "metadata": {},
   "source": [
    "\n",
    "## Initialisation random\n",
    "\n",
    "Coût final\n",
    "- A partir d'environ 5 points par cluster il devient plus intéressant d'utiliser BI_BACK\n",
    "- Pour 2 clusters un comportement plus instable est observé\n",
    "\n",
    "Temps de calcul et nombre d'itérations\n",
    "- à partir de 1.25 points par cluster il devient plus intéressant d'utiliser FI_BACK (si nombre de clusters >= 16)\n",
    "\n",
    "## Initialisation KMeans+\n",
    "\n",
    "Coût final\n",
    "- BI_BACK et FI très similaires.\n",
    "- BI_BACK est plus meilleur si nb points/cluster $\\in [3.12,5.63]$ pour num_clusters >= 16\n",
    "- BI_BACK est plus meilleur si nb points/cluster > 6.25,11.25 pour num_clusters < 16 : tendance moins visible\n",
    "\n",
    "Temps de calcul et nombre d'itérations\n",
    "- BI_BACK toujours meilleur\n",
    "\n",
    "## Comparaison FI_BACK, FI_CURR, FI_RANDOM\n",
    "\n",
    "- Pour nb points/cluster < 30 mêmes ordre de grandeur pour chaque algorithme\n",
    "- "
   ]
  },
  {
   "cell_type": "markdown",
   "metadata": {},
   "source": [
    "# % improvement of COLUMN = f(combination of number of points / cluster, algorithm, initialization) ?"
   ]
  },
  {
   "cell_type": "code",
   "execution_count": 136,
   "metadata": {},
   "outputs": [],
   "source": [
    "COLUMN = \"prct_amelioration_end_cost\""
   ]
  },
  {
   "cell_type": "code",
   "execution_count": 137,
   "metadata": {},
   "outputs": [
    {
     "data": {
      "application/vnd.plotly.v1+json": {
       "config": {
        "plotlyServerURL": "https://plot.ly"
       },
       "data": [
        {
         "customdata": [
          [
           0
          ],
          [
           0
          ],
          [
           0
          ],
          [
           0
          ],
          [
           0
          ],
          [
           0
          ],
          [
           0
          ],
          [
           0
          ],
          [
           0
          ],
          [
           0
          ],
          [
           0
          ],
          [
           0
          ],
          [
           0
          ],
          [
           0
          ],
          [
           0
          ],
          [
           0
          ],
          [
           0
          ],
          [
           0
          ],
          [
           0
          ],
          [
           0
          ],
          [
           0
          ],
          [
           0
          ],
          [
           0
          ],
          [
           0
          ],
          [
           0
          ],
          [
           0
          ],
          [
           0
          ],
          [
           0
          ],
          [
           0
          ],
          [
           0
          ],
          [
           0
          ],
          [
           0
          ],
          [
           0
          ],
          [
           0
          ],
          [
           0
          ],
          [
           0
          ],
          [
           0
          ],
          [
           0
          ],
          [
           0
          ],
          [
           0
          ],
          [
           0
          ],
          [
           0
          ],
          [
           0
          ],
          [
           0
          ],
          [
           0
          ],
          [
           0
          ],
          [
           0
          ],
          [
           0
          ],
          [
           0
          ],
          [
           0
          ],
          [
           0
          ],
          [
           0
          ],
          [
           0
          ],
          [
           0
          ],
          [
           0
          ],
          [
           0
          ],
          [
           0
          ],
          [
           0
          ],
          [
           0
          ],
          [
           0
          ],
          [
           0
          ],
          [
           0
          ],
          [
           0
          ],
          [
           0
          ],
          [
           0
          ],
          [
           0
          ],
          [
           0
          ],
          [
           0
          ],
          [
           0
          ],
          [
           0
          ],
          [
           0
          ],
          [
           0
          ],
          [
           0
          ],
          [
           0
          ],
          [
           0
          ],
          [
           0
          ],
          [
           0
          ],
          [
           0
          ],
          [
           0
          ],
          [
           0
          ],
          [
           0
          ],
          [
           0
          ],
          [
           0
          ],
          [
           0
          ],
          [
           0
          ],
          [
           0
          ],
          [
           0
          ],
          [
           0
          ],
          [
           0
          ],
          [
           0
          ],
          [
           0
          ],
          [
           0
          ],
          [
           0
          ],
          [
           0
          ],
          [
           1.180995195096384
          ],
          [
           -0.3533342559376077
          ],
          [
           -1.096042735797241
          ],
          [
           -0.0671200058704346
          ],
          [
           0.6756672282496373
          ],
          [
           -0.7909383097524406
          ],
          [
           -0.061144872009556074
          ],
          [
           0.0027241561737011174
          ],
          [
           -0.17060848336557743
          ],
          [
           0.660749909132614
          ],
          [
           -0.13097758521482822
          ],
          [
           -0.3162286485663369
          ],
          [
           -0.35973368753869117
          ],
          [
           -0.4110332665869354
          ],
          [
           0.3969962949914577
          ],
          [
           -0.0031980451637366606
          ],
          [
           -0.2353608216363756
          ],
          [
           -0.13222640772922198
          ],
          [
           0.349880343209717
          ],
          [
           0.3084287378286293
          ],
          [
           -0.5006566645408754
          ],
          [
           -2.503462592230688
          ],
          [
           1.0800057087184063
          ],
          [
           -1.6041360434732996
          ],
          [
           -0.25413461010541477
          ],
          [
           -1.5443681193659748
          ],
          [
           -0.4602425068584109
          ],
          [
           -1.2017922766062217
          ],
          [
           0.1831495443999884
          ],
          [
           -1.367111360976827
          ],
          [
           -0.08674225014818164
          ],
          [
           -1.7618027719165252
          ],
          [
           -0.45448556279767593
          ],
          [
           -0.8931858933316464
          ],
          [
           -0.2962153831561102
          ],
          [
           -0.9220923712284383
          ],
          [
           1.3146443408346453
          ],
          [
           5.330730767435296
          ],
          [
           0.9947837376193505
          ],
          [
           1.0135527958042991
          ],
          [
           0.37649531980740913
          ],
          [
           -0.3097319743412047
          ],
          [
           -0.14124202677663703
          ],
          [
           -0.8668014457690094
          ],
          [
           -0.563358063712492
          ],
          [
           -1.1588461448396017
          ],
          [
           -0.3658471446342153
          ],
          [
           -1.0216298922084133
          ],
          [
           -0.043160708113115086
          ],
          [
           -1.3900602979757652
          ],
          [
           -0.27581473291441305
          ],
          [
           -1.874284528839505
          ],
          [
           0.07718805322933185
          ],
          [
           -1.6174149731781151
          ],
          [
           43.48177686559488
          ],
          [
           28.109633288383662
          ],
          [
           4.76926323167663
          ],
          [
           11.068756200997726
          ],
          [
           2.3360209136963883
          ],
          [
           4.788147905263722
          ],
          [
           0.14968014600260582
          ],
          [
           2.881044687606139
          ],
          [
           -0.9230145384543307
          ],
          [
           1.949481593367936
          ],
          [
           -0.07043009449316937
          ],
          [
           -0.7559412234642918
          ],
          [
           -1.1023943078436718
          ],
          [
           -0.9038757965913481
          ],
          [
           -1.5826664389451466
          ],
          [
           -1.3549212667494734
          ],
          [
           0.4086968885104065
          ],
          [
           -1.3166622473473448
          ],
          [
           63.724268069085596
          ],
          [
           30.41935899491404
          ],
          [
           21.507319105779736
          ],
          [
           17.570439190436254
          ],
          [
           7.716454204532915
          ],
          [
           10.468025702712426
          ],
          [
           2.9273234128580508
          ],
          [
           6.948180949375381
          ],
          [
           0.4831154740125615
          ],
          [
           5.487283679317024
          ],
          [
           1.4221776660968175
          ],
          [
           2.5587075442740908
          ],
          [
           -0.27144961646110927
          ],
          [
           2.2154278853918616
          ],
          [
           234.9758746331228
          ],
          [
           40.130135224429615
          ],
          [
           79.53173582162664
          ],
          [
           27.74322995553292
          ],
          [
           38.20543598950305
          ],
          [
           20.13808418409898
          ],
          [
           16.45873248869927
          ],
          [
           null
          ],
          [
           -0.05608744346246089
          ],
          [
           -1.0060718561625388
          ],
          [
           0.38063022722938256
          ],
          [
           -0.19478151579724384
          ],
          [
           0.25853370698982364
          ],
          [
           0.5307673853485064
          ],
          [
           -0.7188462654212321
          ],
          [
           0.30205660202650114
          ],
          [
           -0.07936281352285446
          ],
          [
           -0.08367440002360586
          ],
          [
           -0.05803001025945063
          ],
          [
           -0.6366298907082403
          ],
          [
           -0.21464965404318428
          ],
          [
           0.4465700136085726
          ],
          [
           -0.15519461966429554
          ],
          [
           0.45907921731530266
          ],
          [
           -0.3145257527759302
          ],
          [
           0.033891810306493235
          ],
          [
           1.2865186425420587
          ],
          [
           -0.24695796174413429
          ],
          [
           -0.5921862820094379
          ],
          [
           -1.8325677360158819
          ],
          [
           1.7719826062077302
          ],
          [
           -1.4546793500846988
          ],
          [
           -0.4742294604657807
          ],
          [
           -0.992164847385947
          ],
          [
           0.024576126572155955
          ],
          [
           -1.3194829712996987
          ],
          [
           0.0875171881092478
          ],
          [
           -1.1229259290946703
          ],
          [
           0.1341220910494033
          ],
          [
           -1.6403865013718246
          ],
          [
           -0.1771460319328207
          ],
          [
           -0.3989735107524193
          ],
          [
           0.28068718468762033
          ],
          [
           -1.150247041560911
          ],
          [
           0.2722337073227757
          ],
          [
           6.9132260320035925
          ],
          [
           0.331298347083666
          ],
          [
           0.7639761155048588
          ],
          [
           1.122721352071705
          ],
          [
           -0.6370257248380079
          ],
          [
           -0.1317928724430733
          ],
          [
           -1.1920171326013929
          ],
          [
           -0.6682626580606756
          ],
          [
           -1.034219083217491
          ],
          [
           -0.6816018389424152
          ],
          [
           -1.1836469681800215
          ],
          [
           0.23495830723847733
          ],
          [
           -1.898194946477569
          ],
          [
           -0.18589479181044866
          ],
          [
           -2.121432013460689
          ],
          [
           -0.27886833535741273
          ],
          [
           -1.6582661621150536
          ],
          [
           45.50847428939281
          ],
          [
           25.302620823451594
          ],
          [
           5.86465575417963
          ],
          [
           9.909102938701439
          ],
          [
           1.5029722836755164
          ],
          [
           6.1102000109369285
          ],
          [
           0.48752330362848656
          ],
          [
           1.794452007977414
          ],
          [
           -1.2420176833680208
          ],
          [
           0.46380895110135073
          ],
          [
           -0.9137024643617627
          ],
          [
           -0.5071343223334145
          ],
          [
           -1.0451356753973409
          ],
          [
           -0.39652708838943396
          ],
          [
           -0.602091896055906
          ],
          [
           -1.5018465826726057
          ],
          [
           0.3200049925046593
          ],
          [
           -2.004624948810819
          ],
          [
           60.64515352730714
          ],
          [
           28.499108614476093
          ],
          [
           22.337400654960994
          ],
          [
           14.136221036954701
          ],
          [
           8.099134189741235
          ],
          [
           9.363429153243759
          ],
          [
           3.42247890250797
          ],
          [
           6.532684337008883
          ],
          [
           1.0410061208043986
          ],
          [
           5.042309078222195
          ],
          [
           1.407841799116353
          ],
          [
           3.1205155502156834
          ],
          [
           -0.9029562788946139
          ],
          [
           1.7685267124664603
          ],
          [
           238.43545418347634
          ],
          [
           32.90081672148707
          ],
          [
           84.4918399544514
          ],
          [
           23.890189929570514
          ],
          [
           39.91078703336958
          ],
          [
           18.511692842691136
          ],
          [
           23.575477071421272
          ],
          [
           15.251637474547033
          ],
          [
           0.7623098154341965
          ],
          [
           -1.4091460349131666
          ],
          [
           1.024905985182906
          ],
          [
           0.15205913197640844
          ],
          [
           0.5383323300369369
          ],
          [
           -1.0337920818723214
          ],
          [
           -0.8265099517359046
          ],
          [
           -0.32889969354302856
          ],
          [
           -0.0362032800442452
          ],
          [
           0.21122688624205785
          ],
          [
           -0.7700563387899422
          ],
          [
           -0.8604391299561575
          ],
          [
           0.19566690764683475
          ],
          [
           -0.03969409362629779
          ],
          [
           -0.14822840685255406
          ],
          [
           -0.08778021305132493
          ],
          [
           -0.6167754383334154
          ],
          [
           -0.10485820134244253
          ],
          [
           0.7947459388871663
          ],
          [
           0.41050051655081454
          ],
          [
           0.8959530351037208
          ],
          [
           -1.6014984554982385
          ],
          [
           -0.3708182802548533
          ],
          [
           -1.393277613525362
          ],
          [
           -0.6831103078536535
          ],
          [
           -0.5365355576844867
          ],
          [
           -0.2505419258154668
          ],
          [
           -1.073818500073431
          ],
          [
           -0.27295372758501646
          ],
          [
           -1.5779146602661314
          ],
          [
           0.3661646935737285
          ],
          [
           -1.4303905995621293
          ],
          [
           -0.24563156692926721
          ],
          [
           -1.0555558821502597
          ],
          [
           0.04983030845781731
          ],
          [
           -0.8962077458737087
          ],
          [
           -1.258186661573823
          ],
          [
           5.148412653566812
          ],
          [
           0.25654563573370937
          ],
          [
           0.7906243445238829
          ],
          [
           0.5400769205640262
          ],
          [
           -0.48130145125931023
          ],
          [
           -0.31733572975712904
          ],
          [
           -1.0548198968664
          ],
          [
           -0.7360903684053061
          ],
          [
           -0.817331746264125
          ],
          [
           -0.506514656981152
          ],
          [
           -1.5380506154881786
          ],
          [
           -0.6827845697299297
          ],
          [
           -1.9420171313566188
          ],
          [
           0.012828740177467322
          ],
          [
           -1.9892898396195953
          ],
          [
           0.011848475612375849
          ],
          [
           -1.8345310851411247
          ],
          [
           42.572398036939994
          ],
          [
           27.384764019020047
          ],
          [
           4.955397709011683
          ],
          [
           9.108141680581383
          ],
          [
           2.541039019655336
          ],
          [
           6.102297020084016
          ],
          [
           1.0386482687289569
          ],
          [
           1.16126192116064
          ],
          [
           -0.7842202868729609
          ],
          [
           1.003299446109367
          ],
          [
           0.08024402580244464
          ],
          [
           -0.7296947736276668
          ],
          [
           -0.8188839563003301
          ],
          [
           -0.8437896787982483
          ],
          [
           -1.5979638008677923
          ],
          [
           -1.484939713275879
          ],
          [
           -0.060673219655982095
          ],
          [
           -1.459497716127706
          ],
          [
           64.68608556877551
          ],
          [
           26.797572895930532
          ],
          [
           18.99410813545444
          ],
          [
           13.925227814810093
          ],
          [
           7.975750133841789
          ],
          [
           9.393797699408044
          ],
          [
           3.5458550577057837
          ],
          [
           6.566585923411875
          ],
          [
           0.931639031119038
          ],
          [
           5.002728637506962
          ],
          [
           1.334886876524805
          ],
          [
           2.5262688595873444
          ],
          [
           -0.4865796861142452
          ],
          [
           1.7404795720317283
          ],
          [
           239.56010029976892
          ],
          [
           32.197084074402945
          ],
          [
           83.81351264440859
          ],
          [
           23.164392437073342
          ],
          [
           40.09517270599742
          ],
          [
           18.481087102377476
          ],
          [
           15.969821155258096
          ],
          [
           null
          ]
         ],
         "hovertemplate": "Nb pts par cluster=%{x}<br>init_type=%{y}<br>algorithm=%{z}<br>prct_amelioration_end_cost=%{customdata[0]}<br>color=%{marker.color}<extra></extra>",
         "legendgroup": "",
         "marker": {
          "color": [
           0,
           0,
           0,
           0,
           0,
           0,
           0,
           0,
           0,
           0,
           0,
           0,
           0,
           0,
           0,
           0,
           0,
           0,
           0,
           0,
           0,
           0,
           0,
           0,
           0,
           0,
           0,
           0,
           0,
           0,
           0,
           0,
           0,
           0,
           0,
           0,
           0,
           0,
           0,
           0,
           0,
           0,
           0,
           0,
           0,
           0,
           0,
           0,
           0,
           0,
           0,
           0,
           0,
           0,
           0,
           0,
           0,
           0,
           0,
           0,
           0,
           0,
           0,
           0,
           0,
           0,
           0,
           0,
           0,
           0,
           0,
           0,
           0,
           0,
           0,
           0,
           0,
           0,
           0,
           0,
           0,
           0,
           0,
           0,
           0,
           0,
           0,
           0,
           0,
           0,
           0,
           0,
           0,
           0,
           3.0722481306809395,
           -2.5481857445491327,
           -3.039827488052622,
           -1.8268519858048096,
           2.8297328549387393,
           -2.898142611463665,
           -1.7863600402547577,
           0.43523200171080356,
           -2.232000622301949,
           2.820037112078879,
           -2.1171969792402665,
           -2.500001212056257,
           -2.55598110956471,
           -2.613876972509828,
           2.5987864536843404,
           -0.5048845926882239,
           -2.371734171492909,
           -2.1213181993686825,
           2.5439195438680073,
           2.489154836625788,
           -2.6995400016939683,
           -3.398541106376362,
           3.033426051096533,
           -3.205241197130396,
           -2.405063814811224,
           -3.1887508278352388,
           -2.6629867265480565,
           -3.07982940866534,
           2.262805842657582,
           -3.1358038923936506,
           -1.938230683829156,
           -3.2459572889440462,
           -2.6575200919652713,
           -2.950941855357077,
           -2.471607608696785,
           -2.9647744289770466,
           3.118808276244252,
           3.7267867487095687,
           2.9977286769598734,
           3.0058463759488916,
           2.575759581879482,
           -2.4909860408852555,
           -2.1499639409187714,
           -2.9379196270236214,
           -2.7507845150386174,
           -3.0640257803272024,
           -2.5632996697987043,
           -3.0092935916077876,
           -1.6350885612911246,
           -3.1430336394700413,
           -2.440617460725037,
           -3.272835520343192,
           1.887550087666368,
           -3.2088214592633646,
           4.638307283048928,
           4.448855179941476,
           3.678451293268363,
           4.044098821836993,
           3.368476726566338,
           3.6801675572414263,
           2.17516419811632,
           3.4595499946324573,
           -2.965208541676795,
           3.2899191390179907,
           -1.847758271067817,
           -2.878488029208258,
           -3.0423369621121124,
           -2.9561087572885243,
           -3.199389393074555,
           -3.131914059483708,
           2.6114013313550855,
           -3.1194743832187855,
           4.804304855904619,
           4.4831500582408195,
           4.332586278814778,
           4.244782617249371,
           3.88741778308754,
           4.019864780315997,
           3.4664707062603988,
           3.841871120122202,
           2.6840509480032724,
           3.7393574127525544,
           3.152953854189587,
           3.408020649636187,
           -2.433689232365095,
           3.345457617835874,
           5.37102327481828,
           4.603470623155833,
           4.900540461259839,
           4.443157021632909,
           4.5821251600919295,
           4.304018152024453,
           4.216396386504472,
           null,
           -1.7488656447617026,
           -3.0026290002233114,
           2.5805032742233567,
           -2.2895477412071514,
           2.4125171733694497,
           2.724904228438158,
           -2.8566360208166475,
           2.4800883325082737,
           -1.899617055766474,
           -1.9225926069889248,
           -1.7636526473458911,
           -2.8038870255273607,
           -2.3317301928515297,
           2.6498895576034163,
           -2.1908766609259667,
           2.6618876325404037,
           -2.4976562104509012,
           1.5300947669820497,
           3.1094160838184086,
           -2.3926230320598494,
           -2.772458342741548,
           -3.263060036155866,
           3.248459454534623,
           -3.1627672738472716,
           -2.6759885300729978,
           -2.996583835825793,
           1.390513435063958,
           -3.120403789767667,
           1.942093355512947,
           -3.050351110093702,
           2.127500315739023,
           -3.214946186850603,
           -2.2483314285914044,
           -2.6009440623134514,
           2.448222584538597,
           -3.0607911249314665,
           2.434941897494674,
           3.8396807566288684,
           2.5202192691019007,
           2.883079781263403,
           3.050271982197537,
           -2.8041569706863876,
           -2.1198919235937668,
           -3.0762824974686254,
           -2.824947193801696,
           -3.014612547030705,
           -2.8335307534744096,
           -3.073222190027542,
           2.3709908046432906,
           -3.2783408128498506,
           -2.269267222371855,
           -3.326629118284119,
           -2.4453992042615544,
           -3.2196542387960903,
           4.658092275655705,
           4.403165507350272,
           3.7682425248150704,
           3.9960343400144476,
           3.176950971832571,
           3.7860554266459125,
           2.687995379819936,
           3.253931847762991,
           -3.0941277792016577,
           2.666339125881122,
           -2.960804796256053,
           -2.7051230041498946,
           -3.019172672506067,
           -2.5982728611018207,
           -2.779662781796274,
           -3.176625570682982,
           2.5051567539458772,
           -3.3020331311217666,
           4.782796099836596,
           4.454831276504357,
           4.349032634003989,
           4.150333327272563,
           3.908438594592795,
           3.9714349288228297,
           3.5343407796540594,
           3.8150916733425326,
           3.017453283039605,
           3.702629463088209,
           3.1485538553523074,
           3.4942263511072675,
           -2.955666722301878,
           3.247611623941083,
           5.377370833330853,
           4.517206678899293,
           4.926814767720369,
           4.378219602451281,
           4.6010902920756624,
           4.267446135588281,
           4.372460489845819,
           4.183316473714475,
           2.882131511743619,
           -3.148956002953576,
           3.0106840293050405,
           2.182012507004793,
           2.731050462548398,
           -3.0144332014510113,
           -2.917248087136709,
           -2.5170634688227773,
           -1.5587479197205547,
           2.3247491970218244,
           -2.886522500147181,
           -2.9347201524564945,
           2.291517381398273,
           -1.5987258897268963,
           -2.1709314408706804,
           -1.943396630586221,
           -2.79012707060604,
           -2.020602403885509,
           2.900228317368943,
           2.6133137079476088,
           2.9522852450082504,
           -3.204526524161929,
           -2.5691611354458206,
           -3.144037659144603,
           -2.834490838709401,
           -2.729598509143427,
           -2.3988804113479385,
           -3.0309308818497884,
           -2.4360890296130346,
           -3.198083511181556,
           2.5636764663301737,
           -3.1554546473049534,
           -2.3902841786834497,
           -3.0234812302226075,
           1.6974935755337577,
           -2.952408693176301,
           -3.099745076783186,
           3.711673349029688,
           2.409164630985599,
           2.8979701827992748,
           2.732455618707131,
           -2.6824171711994027,
           -2.5015189733382392,
           -3.0231783132125862,
           -2.86693113511271,
           -2.912398367828099,
           -2.704592017028849,
           -3.1869706278357044,
           -2.8342836979188726,
           -3.2882530566846695,
           1.1081840093883086,
           -3.2986980644602477,
           1.0736624789774196,
           -3.2635250750403904,
           4.629128113998563,
           4.437509002862796,
           3.6950785157128823,
           3.9594297776102234,
           3.4050113340353705,
           3.785493342448334,
           3.016468501539923,
           3.0649301853592523,
           -2.8944380728060937,
           3.001430572485896,
           1.9044127088948204,
           -2.8631412356691492,
           -2.913222362433024,
           -2.926234208805542,
           -3.2035669368919693,
           -3.171708822189869,
           -1.7829970416182819,
           -3.1642034197256015,
           4.810810870922261,
           4.428095460982602,
           4.2786189061590125,
           4.143802308901824,
           3.9017715398380144,
           3.9728412031777816,
           3.549720979170963,
           3.8173396313557992,
           2.969247675058579,
           3.6992069461315484,
           3.125444463466378,
           3.402479568714015,
           -2.687153973907083,
           3.2406689303459832,
           5.3794144862439754,
           4.507816541641823,
           4.923314042422782,
           4.364820913877109,
           4.603092088496846,
           4.266727513890464,
           4.203300052536765,
           null
          ],
          "coloraxis": "coloraxis",
          "symbol": "circle"
         },
         "mode": "markers",
         "name": "",
         "scene": "scene",
         "showlegend": false,
         "type": "scatter3d",
         "x": [
          10,
          10,
          15,
          15,
          20,
          20,
          25,
          25,
          30,
          30,
          35,
          35,
          40,
          40,
          45,
          45,
          50,
          50,
          5,
          5,
          7.5,
          7.5,
          10,
          10,
          12.5,
          12.5,
          15,
          15,
          17.5,
          17.5,
          20,
          20,
          22.5,
          22.5,
          25,
          25,
          2.5,
          2.5,
          3.75,
          3.75,
          5,
          5,
          6.25,
          6.25,
          7.5,
          7.5,
          8.75,
          8.75,
          10,
          10,
          11.25,
          11.25,
          12.5,
          12.5,
          1.25,
          1.25,
          1.875,
          1.875,
          2.5,
          2.5,
          3.125,
          3.125,
          3.75,
          3.75,
          4.375,
          4.375,
          5,
          5,
          5.625,
          5.625,
          6.25,
          6.25,
          1.25,
          1.25,
          1.5625,
          1.5625,
          1.875,
          1.875,
          2.1875,
          2.1875,
          2.5,
          2.5,
          2.8125,
          2.8125,
          3.125,
          3.125,
          1.09375,
          1.09375,
          1.25,
          1.25,
          1.40625,
          1.40625,
          1.5625,
          1.5625,
          10,
          10,
          15,
          15,
          20,
          20,
          25,
          25,
          30,
          30,
          35,
          35,
          40,
          40,
          45,
          45,
          50,
          50,
          5,
          5,
          7.5,
          7.5,
          10,
          10,
          12.5,
          12.5,
          15,
          15,
          17.5,
          17.5,
          20,
          20,
          22.5,
          22.5,
          25,
          25,
          2.5,
          2.5,
          3.75,
          3.75,
          5,
          5,
          6.25,
          6.25,
          7.5,
          7.5,
          8.75,
          8.75,
          10,
          10,
          11.25,
          11.25,
          12.5,
          12.5,
          1.25,
          1.25,
          1.875,
          1.875,
          2.5,
          2.5,
          3.125,
          3.125,
          3.75,
          3.75,
          4.375,
          4.375,
          5,
          5,
          5.625,
          5.625,
          6.25,
          6.25,
          1.25,
          1.25,
          1.5625,
          1.5625,
          1.875,
          1.875,
          2.1875,
          2.1875,
          2.5,
          2.5,
          2.8125,
          2.8125,
          3.125,
          3.125,
          1.09375,
          1.09375,
          1.25,
          1.25,
          1.40625,
          1.40625,
          1.5625,
          1.5625,
          10,
          10,
          15,
          15,
          20,
          20,
          25,
          25,
          30,
          30,
          35,
          35,
          40,
          40,
          45,
          45,
          50,
          50,
          5,
          5,
          7.5,
          7.5,
          10,
          10,
          12.5,
          12.5,
          15,
          15,
          17.5,
          17.5,
          20,
          20,
          22.5,
          22.5,
          25,
          25,
          2.5,
          2.5,
          3.75,
          3.75,
          5,
          5,
          6.25,
          6.25,
          7.5,
          7.5,
          8.75,
          8.75,
          10,
          10,
          11.25,
          11.25,
          12.5,
          12.5,
          1.25,
          1.25,
          1.875,
          1.875,
          2.5,
          2.5,
          3.125,
          3.125,
          3.75,
          3.75,
          4.375,
          4.375,
          5,
          5,
          5.625,
          5.625,
          6.25,
          6.25,
          1.25,
          1.25,
          1.5625,
          1.5625,
          1.875,
          1.875,
          2.1875,
          2.1875,
          2.5,
          2.5,
          2.8125,
          2.8125,
          3.125,
          3.125,
          1.09375,
          1.09375,
          1.25,
          1.25,
          1.40625,
          1.40625,
          1.5625,
          1.5625,
          10,
          10,
          15,
          15,
          20,
          20,
          25,
          25,
          30,
          30,
          35,
          35,
          40,
          40,
          45,
          45,
          50,
          50,
          5,
          5,
          7.5,
          7.5,
          10,
          10,
          12.5,
          12.5,
          15,
          15,
          17.5,
          17.5,
          20,
          20,
          22.5,
          22.5,
          25,
          25,
          2.5,
          2.5,
          3.75,
          3.75,
          5,
          5,
          6.25,
          6.25,
          7.5,
          7.5,
          8.75,
          8.75,
          10,
          10,
          11.25,
          11.25,
          12.5,
          12.5,
          1.25,
          1.25,
          1.875,
          1.875,
          2.5,
          2.5,
          3.125,
          3.125,
          3.75,
          3.75,
          4.375,
          4.375,
          5,
          5,
          5.625,
          5.625,
          6.25,
          6.25,
          1.25,
          1.25,
          1.5625,
          1.5625,
          1.875,
          1.875,
          2.1875,
          2.1875,
          2.5,
          2.5,
          2.8125,
          2.8125,
          3.125,
          3.125,
          1.09375,
          1.09375,
          1.25,
          1.25,
          1.40625,
          1.40625,
          1.5625,
          1.5625
         ],
         "y": [
          "kmean+",
          "random",
          "kmean+",
          "random",
          "kmean+",
          "random",
          "kmean+",
          "random",
          "kmean+",
          "random",
          "kmean+",
          "random",
          "kmean+",
          "random",
          "kmean+",
          "random",
          "kmean+",
          "random",
          "kmean+",
          "random",
          "kmean+",
          "random",
          "kmean+",
          "random",
          "kmean+",
          "random",
          "kmean+",
          "random",
          "kmean+",
          "random",
          "kmean+",
          "random",
          "kmean+",
          "random",
          "kmean+",
          "random",
          "kmean+",
          "random",
          "kmean+",
          "random",
          "kmean+",
          "random",
          "kmean+",
          "random",
          "kmean+",
          "random",
          "kmean+",
          "random",
          "kmean+",
          "random",
          "kmean+",
          "random",
          "kmean+",
          "random",
          "kmean+",
          "random",
          "kmean+",
          "random",
          "kmean+",
          "random",
          "kmean+",
          "random",
          "kmean+",
          "random",
          "kmean+",
          "random",
          "kmean+",
          "random",
          "kmean+",
          "random",
          "kmean+",
          "random",
          "kmean+",
          "random",
          "kmean+",
          "random",
          "kmean+",
          "random",
          "kmean+",
          "random",
          "kmean+",
          "random",
          "kmean+",
          "random",
          "kmean+",
          "random",
          "kmean+",
          "random",
          "kmean+",
          "random",
          "kmean+",
          "random",
          "kmean+",
          "random",
          "kmean+",
          "random",
          "kmean+",
          "random",
          "kmean+",
          "random",
          "kmean+",
          "random",
          "kmean+",
          "random",
          "kmean+",
          "random",
          "kmean+",
          "random",
          "kmean+",
          "random",
          "kmean+",
          "random",
          "kmean+",
          "random",
          "kmean+",
          "random",
          "kmean+",
          "random",
          "kmean+",
          "random",
          "kmean+",
          "random",
          "kmean+",
          "random",
          "kmean+",
          "random",
          "kmean+",
          "random",
          "kmean+",
          "random",
          "kmean+",
          "random",
          "kmean+",
          "random",
          "kmean+",
          "random",
          "kmean+",
          "random",
          "kmean+",
          "random",
          "kmean+",
          "random",
          "kmean+",
          "random",
          "kmean+",
          "random",
          "kmean+",
          "random",
          "kmean+",
          "random",
          "kmean+",
          "random",
          "kmean+",
          "random",
          "kmean+",
          "random",
          "kmean+",
          "random",
          "kmean+",
          "random",
          "kmean+",
          "random",
          "kmean+",
          "random",
          "kmean+",
          "random",
          "kmean+",
          "random",
          "kmean+",
          "random",
          "kmean+",
          "random",
          "kmean+",
          "random",
          "kmean+",
          "random",
          "kmean+",
          "random",
          "kmean+",
          "random",
          "kmean+",
          "random",
          "kmean+",
          "random",
          "kmean+",
          "random",
          "random",
          "kmean+",
          "kmean+",
          "random",
          "kmean+",
          "random",
          "kmean+",
          "random",
          "kmean+",
          "random",
          "kmean+",
          "random",
          "kmean+",
          "random",
          "kmean+",
          "random",
          "kmean+",
          "random",
          "kmean+",
          "random",
          "kmean+",
          "random",
          "kmean+",
          "random",
          "kmean+",
          "random",
          "kmean+",
          "random",
          "kmean+",
          "random",
          "kmean+",
          "random",
          "kmean+",
          "random",
          "kmean+",
          "random",
          "kmean+",
          "random",
          "kmean+",
          "random",
          "kmean+",
          "random",
          "kmean+",
          "random",
          "kmean+",
          "random",
          "kmean+",
          "random",
          "kmean+",
          "random",
          "kmean+",
          "random",
          "kmean+",
          "random",
          "kmean+",
          "random",
          "kmean+",
          "random",
          "kmean+",
          "random",
          "kmean+",
          "random",
          "kmean+",
          "random",
          "kmean+",
          "random",
          "kmean+",
          "random",
          "kmean+",
          "random",
          "kmean+",
          "random",
          "kmean+",
          "random",
          "kmean+",
          "random",
          "kmean+",
          "random",
          "kmean+",
          "random",
          "kmean+",
          "random",
          "kmean+",
          "random",
          "kmean+",
          "random",
          "kmean+",
          "random",
          "kmean+",
          "random",
          "kmean+",
          "random",
          "kmean+",
          "random",
          "kmean+",
          "random",
          "kmean+",
          "random",
          "kmean+",
          "random",
          "kmean+",
          "random",
          "kmean+",
          "random",
          "kmean+",
          "random",
          "kmean+",
          "random",
          "kmean+",
          "random",
          "kmean+",
          "random",
          "kmean+",
          "random",
          "kmean+",
          "random",
          "kmean+",
          "random",
          "kmean+",
          "random",
          "kmean+",
          "random",
          "kmean+",
          "random",
          "kmean+",
          "random",
          "kmean+",
          "random",
          "kmean+",
          "random",
          "kmean+",
          "random",
          "kmean+",
          "random",
          "kmean+",
          "random",
          "kmean+",
          "random",
          "kmean+",
          "random",
          "kmean+",
          "random",
          "kmean+",
          "random",
          "kmean+",
          "random",
          "kmean+",
          "random",
          "kmean+",
          "random",
          "kmean+",
          "random",
          "kmean+",
          "random",
          "kmean+",
          "random",
          "kmean+",
          "random",
          "kmean+",
          "random",
          "kmean+",
          "random",
          "kmean+",
          "random",
          "kmean+",
          "random",
          "kmean+",
          "random",
          "kmean+",
          "random",
          "kmean+",
          "random",
          "kmean+",
          "random",
          "kmean+",
          "random",
          "kmean+",
          "random",
          "kmean+",
          "random",
          "kmean+",
          "random",
          "kmean+",
          "random",
          "kmean+",
          "random",
          "kmean+",
          "random",
          "random",
          "kmean+"
         ],
         "z": [
          "BI_BACK",
          "BI_BACK",
          "BI_BACK",
          "BI_BACK",
          "BI_BACK",
          "BI_BACK",
          "BI_BACK",
          "BI_BACK",
          "BI_BACK",
          "BI_BACK",
          "BI_BACK",
          "BI_BACK",
          "BI_BACK",
          "BI_BACK",
          "BI_BACK",
          "BI_BACK",
          "BI_BACK",
          "BI_BACK",
          "BI_BACK",
          "BI_BACK",
          "BI_BACK",
          "BI_BACK",
          "BI_BACK",
          "BI_BACK",
          "BI_BACK",
          "BI_BACK",
          "BI_BACK",
          "BI_BACK",
          "BI_BACK",
          "BI_BACK",
          "BI_BACK",
          "BI_BACK",
          "BI_BACK",
          "BI_BACK",
          "BI_BACK",
          "BI_BACK",
          "BI_BACK",
          "BI_BACK",
          "BI_BACK",
          "BI_BACK",
          "BI_BACK",
          "BI_BACK",
          "BI_BACK",
          "BI_BACK",
          "BI_BACK",
          "BI_BACK",
          "BI_BACK",
          "BI_BACK",
          "BI_BACK",
          "BI_BACK",
          "BI_BACK",
          "BI_BACK",
          "BI_BACK",
          "BI_BACK",
          "BI_BACK",
          "BI_BACK",
          "BI_BACK",
          "BI_BACK",
          "BI_BACK",
          "BI_BACK",
          "BI_BACK",
          "BI_BACK",
          "BI_BACK",
          "BI_BACK",
          "BI_BACK",
          "BI_BACK",
          "BI_BACK",
          "BI_BACK",
          "BI_BACK",
          "BI_BACK",
          "BI_BACK",
          "BI_BACK",
          "BI_BACK",
          "BI_BACK",
          "BI_BACK",
          "BI_BACK",
          "BI_BACK",
          "BI_BACK",
          "BI_BACK",
          "BI_BACK",
          "BI_BACK",
          "BI_BACK",
          "BI_BACK",
          "BI_BACK",
          "BI_BACK",
          "BI_BACK",
          "BI_BACK",
          "BI_BACK",
          "BI_BACK",
          "BI_BACK",
          "BI_BACK",
          "BI_BACK",
          "BI_BACK",
          "BI_BACK",
          "FI_BACK",
          "FI_BACK",
          "FI_BACK",
          "FI_BACK",
          "FI_BACK",
          "FI_BACK",
          "FI_BACK",
          "FI_BACK",
          "FI_BACK",
          "FI_BACK",
          "FI_BACK",
          "FI_BACK",
          "FI_BACK",
          "FI_BACK",
          "FI_BACK",
          "FI_BACK",
          "FI_BACK",
          "FI_BACK",
          "FI_BACK",
          "FI_BACK",
          "FI_BACK",
          "FI_BACK",
          "FI_BACK",
          "FI_BACK",
          "FI_BACK",
          "FI_BACK",
          "FI_BACK",
          "FI_BACK",
          "FI_BACK",
          "FI_BACK",
          "FI_BACK",
          "FI_BACK",
          "FI_BACK",
          "FI_BACK",
          "FI_BACK",
          "FI_BACK",
          "FI_BACK",
          "FI_BACK",
          "FI_BACK",
          "FI_BACK",
          "FI_BACK",
          "FI_BACK",
          "FI_BACK",
          "FI_BACK",
          "FI_BACK",
          "FI_BACK",
          "FI_BACK",
          "FI_BACK",
          "FI_BACK",
          "FI_BACK",
          "FI_BACK",
          "FI_BACK",
          "FI_BACK",
          "FI_BACK",
          "FI_BACK",
          "FI_BACK",
          "FI_BACK",
          "FI_BACK",
          "FI_BACK",
          "FI_BACK",
          "FI_BACK",
          "FI_BACK",
          "FI_BACK",
          "FI_BACK",
          "FI_BACK",
          "FI_BACK",
          "FI_BACK",
          "FI_BACK",
          "FI_BACK",
          "FI_BACK",
          "FI_BACK",
          "FI_BACK",
          "FI_BACK",
          "FI_BACK",
          "FI_BACK",
          "FI_BACK",
          "FI_BACK",
          "FI_BACK",
          "FI_BACK",
          "FI_BACK",
          "FI_BACK",
          "FI_BACK",
          "FI_BACK",
          "FI_BACK",
          "FI_BACK",
          "FI_BACK",
          "FI_BACK",
          "FI_BACK",
          "FI_BACK",
          "FI_BACK",
          "FI_BACK",
          "FI_BACK",
          "FI_BACK",
          "FI_BACK",
          "FI_CURR",
          "FI_CURR",
          "FI_CURR",
          "FI_CURR",
          "FI_CURR",
          "FI_CURR",
          "FI_CURR",
          "FI_CURR",
          "FI_CURR",
          "FI_CURR",
          "FI_CURR",
          "FI_CURR",
          "FI_CURR",
          "FI_CURR",
          "FI_CURR",
          "FI_CURR",
          "FI_CURR",
          "FI_CURR",
          "FI_CURR",
          "FI_CURR",
          "FI_CURR",
          "FI_CURR",
          "FI_CURR",
          "FI_CURR",
          "FI_CURR",
          "FI_CURR",
          "FI_CURR",
          "FI_CURR",
          "FI_CURR",
          "FI_CURR",
          "FI_CURR",
          "FI_CURR",
          "FI_CURR",
          "FI_CURR",
          "FI_CURR",
          "FI_CURR",
          "FI_CURR",
          "FI_CURR",
          "FI_CURR",
          "FI_CURR",
          "FI_CURR",
          "FI_CURR",
          "FI_CURR",
          "FI_CURR",
          "FI_CURR",
          "FI_CURR",
          "FI_CURR",
          "FI_CURR",
          "FI_CURR",
          "FI_CURR",
          "FI_CURR",
          "FI_CURR",
          "FI_CURR",
          "FI_CURR",
          "FI_CURR",
          "FI_CURR",
          "FI_CURR",
          "FI_CURR",
          "FI_CURR",
          "FI_CURR",
          "FI_CURR",
          "FI_CURR",
          "FI_CURR",
          "FI_CURR",
          "FI_CURR",
          "FI_CURR",
          "FI_CURR",
          "FI_CURR",
          "FI_CURR",
          "FI_CURR",
          "FI_CURR",
          "FI_CURR",
          "FI_CURR",
          "FI_CURR",
          "FI_CURR",
          "FI_CURR",
          "FI_CURR",
          "FI_CURR",
          "FI_CURR",
          "FI_CURR",
          "FI_CURR",
          "FI_CURR",
          "FI_CURR",
          "FI_CURR",
          "FI_CURR",
          "FI_CURR",
          "FI_CURR",
          "FI_CURR",
          "FI_CURR",
          "FI_CURR",
          "FI_CURR",
          "FI_CURR",
          "FI_CURR",
          "FI_CURR",
          "FI_RANDOM",
          "FI_RANDOM",
          "FI_RANDOM",
          "FI_RANDOM",
          "FI_RANDOM",
          "FI_RANDOM",
          "FI_RANDOM",
          "FI_RANDOM",
          "FI_RANDOM",
          "FI_RANDOM",
          "FI_RANDOM",
          "FI_RANDOM",
          "FI_RANDOM",
          "FI_RANDOM",
          "FI_RANDOM",
          "FI_RANDOM",
          "FI_RANDOM",
          "FI_RANDOM",
          "FI_RANDOM",
          "FI_RANDOM",
          "FI_RANDOM",
          "FI_RANDOM",
          "FI_RANDOM",
          "FI_RANDOM",
          "FI_RANDOM",
          "FI_RANDOM",
          "FI_RANDOM",
          "FI_RANDOM",
          "FI_RANDOM",
          "FI_RANDOM",
          "FI_RANDOM",
          "FI_RANDOM",
          "FI_RANDOM",
          "FI_RANDOM",
          "FI_RANDOM",
          "FI_RANDOM",
          "FI_RANDOM",
          "FI_RANDOM",
          "FI_RANDOM",
          "FI_RANDOM",
          "FI_RANDOM",
          "FI_RANDOM",
          "FI_RANDOM",
          "FI_RANDOM",
          "FI_RANDOM",
          "FI_RANDOM",
          "FI_RANDOM",
          "FI_RANDOM",
          "FI_RANDOM",
          "FI_RANDOM",
          "FI_RANDOM",
          "FI_RANDOM",
          "FI_RANDOM",
          "FI_RANDOM",
          "FI_RANDOM",
          "FI_RANDOM",
          "FI_RANDOM",
          "FI_RANDOM",
          "FI_RANDOM",
          "FI_RANDOM",
          "FI_RANDOM",
          "FI_RANDOM",
          "FI_RANDOM",
          "FI_RANDOM",
          "FI_RANDOM",
          "FI_RANDOM",
          "FI_RANDOM",
          "FI_RANDOM",
          "FI_RANDOM",
          "FI_RANDOM",
          "FI_RANDOM",
          "FI_RANDOM",
          "FI_RANDOM",
          "FI_RANDOM",
          "FI_RANDOM",
          "FI_RANDOM",
          "FI_RANDOM",
          "FI_RANDOM",
          "FI_RANDOM",
          "FI_RANDOM",
          "FI_RANDOM",
          "FI_RANDOM",
          "FI_RANDOM",
          "FI_RANDOM",
          "FI_RANDOM",
          "FI_RANDOM",
          "FI_RANDOM",
          "FI_RANDOM",
          "FI_RANDOM",
          "FI_RANDOM",
          "FI_RANDOM",
          "FI_RANDOM",
          "FI_RANDOM",
          "FI_RANDOM"
         ]
        }
       ],
       "layout": {
        "coloraxis": {
         "cmax": 3.001,
         "cmin": -3.001,
         "colorbar": {
          "ticktext": [
           "-1E0",
           "-1E-1",
           "-1E-2",
           0,
           "1E-2",
           "1E-1",
           "1E0"
          ],
          "tickvals": [
           -3,
           -2,
           -1,
           0,
           1,
           2,
           3
          ],
          "title": {
           "text": "prct_amelioration_end_cost"
          }
         },
         "colorscale": [
          [
           0,
           "blue"
          ],
          [
           0.25,
           "cyan"
          ],
          [
           0.5,
           "green"
          ],
          [
           0.75,
           "yellow"
          ],
          [
           1,
           "red"
          ]
         ]
        },
        "height": 900,
        "legend": {
         "tracegroupgap": 0
        },
        "margin": {
         "t": 60
        },
        "scene": {
         "domain": {
          "x": [
           0,
           1
          ],
          "y": [
           0,
           1
          ]
         },
         "xaxis": {
          "title": {
           "text": "Nb pts par cluster"
          }
         },
         "yaxis": {
          "title": {
           "text": "init_type"
          }
         },
         "zaxis": {
          "title": {
           "text": "algorithm"
          }
         }
        },
        "template": {
         "data": {
          "bar": [
           {
            "error_x": {
             "color": "#f2f5fa"
            },
            "error_y": {
             "color": "#f2f5fa"
            },
            "marker": {
             "line": {
              "color": "rgb(17,17,17)",
              "width": 0.5
             },
             "pattern": {
              "fillmode": "overlay",
              "size": 10,
              "solidity": 0.2
             }
            },
            "type": "bar"
           }
          ],
          "barpolar": [
           {
            "marker": {
             "line": {
              "color": "rgb(17,17,17)",
              "width": 0.5
             },
             "pattern": {
              "fillmode": "overlay",
              "size": 10,
              "solidity": 0.2
             }
            },
            "type": "barpolar"
           }
          ],
          "carpet": [
           {
            "aaxis": {
             "endlinecolor": "#A2B1C6",
             "gridcolor": "#506784",
             "linecolor": "#506784",
             "minorgridcolor": "#506784",
             "startlinecolor": "#A2B1C6"
            },
            "baxis": {
             "endlinecolor": "#A2B1C6",
             "gridcolor": "#506784",
             "linecolor": "#506784",
             "minorgridcolor": "#506784",
             "startlinecolor": "#A2B1C6"
            },
            "type": "carpet"
           }
          ],
          "choropleth": [
           {
            "colorbar": {
             "outlinewidth": 0,
             "ticks": ""
            },
            "type": "choropleth"
           }
          ],
          "contour": [
           {
            "colorbar": {
             "outlinewidth": 0,
             "ticks": ""
            },
            "colorscale": [
             [
              0,
              "#0d0887"
             ],
             [
              0.1111111111111111,
              "#46039f"
             ],
             [
              0.2222222222222222,
              "#7201a8"
             ],
             [
              0.3333333333333333,
              "#9c179e"
             ],
             [
              0.4444444444444444,
              "#bd3786"
             ],
             [
              0.5555555555555556,
              "#d8576b"
             ],
             [
              0.6666666666666666,
              "#ed7953"
             ],
             [
              0.7777777777777778,
              "#fb9f3a"
             ],
             [
              0.8888888888888888,
              "#fdca26"
             ],
             [
              1,
              "#f0f921"
             ]
            ],
            "type": "contour"
           }
          ],
          "contourcarpet": [
           {
            "colorbar": {
             "outlinewidth": 0,
             "ticks": ""
            },
            "type": "contourcarpet"
           }
          ],
          "heatmap": [
           {
            "colorbar": {
             "outlinewidth": 0,
             "ticks": ""
            },
            "colorscale": [
             [
              0,
              "#0d0887"
             ],
             [
              0.1111111111111111,
              "#46039f"
             ],
             [
              0.2222222222222222,
              "#7201a8"
             ],
             [
              0.3333333333333333,
              "#9c179e"
             ],
             [
              0.4444444444444444,
              "#bd3786"
             ],
             [
              0.5555555555555556,
              "#d8576b"
             ],
             [
              0.6666666666666666,
              "#ed7953"
             ],
             [
              0.7777777777777778,
              "#fb9f3a"
             ],
             [
              0.8888888888888888,
              "#fdca26"
             ],
             [
              1,
              "#f0f921"
             ]
            ],
            "type": "heatmap"
           }
          ],
          "heatmapgl": [
           {
            "colorbar": {
             "outlinewidth": 0,
             "ticks": ""
            },
            "colorscale": [
             [
              0,
              "#0d0887"
             ],
             [
              0.1111111111111111,
              "#46039f"
             ],
             [
              0.2222222222222222,
              "#7201a8"
             ],
             [
              0.3333333333333333,
              "#9c179e"
             ],
             [
              0.4444444444444444,
              "#bd3786"
             ],
             [
              0.5555555555555556,
              "#d8576b"
             ],
             [
              0.6666666666666666,
              "#ed7953"
             ],
             [
              0.7777777777777778,
              "#fb9f3a"
             ],
             [
              0.8888888888888888,
              "#fdca26"
             ],
             [
              1,
              "#f0f921"
             ]
            ],
            "type": "heatmapgl"
           }
          ],
          "histogram": [
           {
            "marker": {
             "pattern": {
              "fillmode": "overlay",
              "size": 10,
              "solidity": 0.2
             }
            },
            "type": "histogram"
           }
          ],
          "histogram2d": [
           {
            "colorbar": {
             "outlinewidth": 0,
             "ticks": ""
            },
            "colorscale": [
             [
              0,
              "#0d0887"
             ],
             [
              0.1111111111111111,
              "#46039f"
             ],
             [
              0.2222222222222222,
              "#7201a8"
             ],
             [
              0.3333333333333333,
              "#9c179e"
             ],
             [
              0.4444444444444444,
              "#bd3786"
             ],
             [
              0.5555555555555556,
              "#d8576b"
             ],
             [
              0.6666666666666666,
              "#ed7953"
             ],
             [
              0.7777777777777778,
              "#fb9f3a"
             ],
             [
              0.8888888888888888,
              "#fdca26"
             ],
             [
              1,
              "#f0f921"
             ]
            ],
            "type": "histogram2d"
           }
          ],
          "histogram2dcontour": [
           {
            "colorbar": {
             "outlinewidth": 0,
             "ticks": ""
            },
            "colorscale": [
             [
              0,
              "#0d0887"
             ],
             [
              0.1111111111111111,
              "#46039f"
             ],
             [
              0.2222222222222222,
              "#7201a8"
             ],
             [
              0.3333333333333333,
              "#9c179e"
             ],
             [
              0.4444444444444444,
              "#bd3786"
             ],
             [
              0.5555555555555556,
              "#d8576b"
             ],
             [
              0.6666666666666666,
              "#ed7953"
             ],
             [
              0.7777777777777778,
              "#fb9f3a"
             ],
             [
              0.8888888888888888,
              "#fdca26"
             ],
             [
              1,
              "#f0f921"
             ]
            ],
            "type": "histogram2dcontour"
           }
          ],
          "mesh3d": [
           {
            "colorbar": {
             "outlinewidth": 0,
             "ticks": ""
            },
            "type": "mesh3d"
           }
          ],
          "parcoords": [
           {
            "line": {
             "colorbar": {
              "outlinewidth": 0,
              "ticks": ""
             }
            },
            "type": "parcoords"
           }
          ],
          "pie": [
           {
            "automargin": true,
            "type": "pie"
           }
          ],
          "scatter": [
           {
            "marker": {
             "line": {
              "color": "#283442"
             }
            },
            "type": "scatter"
           }
          ],
          "scatter3d": [
           {
            "line": {
             "colorbar": {
              "outlinewidth": 0,
              "ticks": ""
             }
            },
            "marker": {
             "colorbar": {
              "outlinewidth": 0,
              "ticks": ""
             }
            },
            "type": "scatter3d"
           }
          ],
          "scattercarpet": [
           {
            "marker": {
             "colorbar": {
              "outlinewidth": 0,
              "ticks": ""
             }
            },
            "type": "scattercarpet"
           }
          ],
          "scattergeo": [
           {
            "marker": {
             "colorbar": {
              "outlinewidth": 0,
              "ticks": ""
             }
            },
            "type": "scattergeo"
           }
          ],
          "scattergl": [
           {
            "marker": {
             "line": {
              "color": "#283442"
             }
            },
            "type": "scattergl"
           }
          ],
          "scattermapbox": [
           {
            "marker": {
             "colorbar": {
              "outlinewidth": 0,
              "ticks": ""
             }
            },
            "type": "scattermapbox"
           }
          ],
          "scatterpolar": [
           {
            "marker": {
             "colorbar": {
              "outlinewidth": 0,
              "ticks": ""
             }
            },
            "type": "scatterpolar"
           }
          ],
          "scatterpolargl": [
           {
            "marker": {
             "colorbar": {
              "outlinewidth": 0,
              "ticks": ""
             }
            },
            "type": "scatterpolargl"
           }
          ],
          "scatterternary": [
           {
            "marker": {
             "colorbar": {
              "outlinewidth": 0,
              "ticks": ""
             }
            },
            "type": "scatterternary"
           }
          ],
          "surface": [
           {
            "colorbar": {
             "outlinewidth": 0,
             "ticks": ""
            },
            "colorscale": [
             [
              0,
              "#0d0887"
             ],
             [
              0.1111111111111111,
              "#46039f"
             ],
             [
              0.2222222222222222,
              "#7201a8"
             ],
             [
              0.3333333333333333,
              "#9c179e"
             ],
             [
              0.4444444444444444,
              "#bd3786"
             ],
             [
              0.5555555555555556,
              "#d8576b"
             ],
             [
              0.6666666666666666,
              "#ed7953"
             ],
             [
              0.7777777777777778,
              "#fb9f3a"
             ],
             [
              0.8888888888888888,
              "#fdca26"
             ],
             [
              1,
              "#f0f921"
             ]
            ],
            "type": "surface"
           }
          ],
          "table": [
           {
            "cells": {
             "fill": {
              "color": "#506784"
             },
             "line": {
              "color": "rgb(17,17,17)"
             }
            },
            "header": {
             "fill": {
              "color": "#2a3f5f"
             },
             "line": {
              "color": "rgb(17,17,17)"
             }
            },
            "type": "table"
           }
          ]
         },
         "layout": {
          "annotationdefaults": {
           "arrowcolor": "#f2f5fa",
           "arrowhead": 0,
           "arrowwidth": 1
          },
          "autotypenumbers": "strict",
          "coloraxis": {
           "colorbar": {
            "outlinewidth": 0,
            "ticks": ""
           }
          },
          "colorscale": {
           "diverging": [
            [
             0,
             "#8e0152"
            ],
            [
             0.1,
             "#c51b7d"
            ],
            [
             0.2,
             "#de77ae"
            ],
            [
             0.3,
             "#f1b6da"
            ],
            [
             0.4,
             "#fde0ef"
            ],
            [
             0.5,
             "#f7f7f7"
            ],
            [
             0.6,
             "#e6f5d0"
            ],
            [
             0.7,
             "#b8e186"
            ],
            [
             0.8,
             "#7fbc41"
            ],
            [
             0.9,
             "#4d9221"
            ],
            [
             1,
             "#276419"
            ]
           ],
           "sequential": [
            [
             0,
             "#0d0887"
            ],
            [
             0.1111111111111111,
             "#46039f"
            ],
            [
             0.2222222222222222,
             "#7201a8"
            ],
            [
             0.3333333333333333,
             "#9c179e"
            ],
            [
             0.4444444444444444,
             "#bd3786"
            ],
            [
             0.5555555555555556,
             "#d8576b"
            ],
            [
             0.6666666666666666,
             "#ed7953"
            ],
            [
             0.7777777777777778,
             "#fb9f3a"
            ],
            [
             0.8888888888888888,
             "#fdca26"
            ],
            [
             1,
             "#f0f921"
            ]
           ],
           "sequentialminus": [
            [
             0,
             "#0d0887"
            ],
            [
             0.1111111111111111,
             "#46039f"
            ],
            [
             0.2222222222222222,
             "#7201a8"
            ],
            [
             0.3333333333333333,
             "#9c179e"
            ],
            [
             0.4444444444444444,
             "#bd3786"
            ],
            [
             0.5555555555555556,
             "#d8576b"
            ],
            [
             0.6666666666666666,
             "#ed7953"
            ],
            [
             0.7777777777777778,
             "#fb9f3a"
            ],
            [
             0.8888888888888888,
             "#fdca26"
            ],
            [
             1,
             "#f0f921"
            ]
           ]
          },
          "colorway": [
           "#636efa",
           "#EF553B",
           "#00cc96",
           "#ab63fa",
           "#FFA15A",
           "#19d3f3",
           "#FF6692",
           "#B6E880",
           "#FF97FF",
           "#FECB52"
          ],
          "font": {
           "color": "#f2f5fa"
          },
          "geo": {
           "bgcolor": "rgb(17,17,17)",
           "lakecolor": "rgb(17,17,17)",
           "landcolor": "rgb(17,17,17)",
           "showlakes": true,
           "showland": true,
           "subunitcolor": "#506784"
          },
          "hoverlabel": {
           "align": "left"
          },
          "hovermode": "closest",
          "mapbox": {
           "style": "dark"
          },
          "paper_bgcolor": "rgb(17,17,17)",
          "plot_bgcolor": "rgb(17,17,17)",
          "polar": {
           "angularaxis": {
            "gridcolor": "#506784",
            "linecolor": "#506784",
            "ticks": ""
           },
           "bgcolor": "rgb(17,17,17)",
           "radialaxis": {
            "gridcolor": "#506784",
            "linecolor": "#506784",
            "ticks": ""
           }
          },
          "scene": {
           "xaxis": {
            "backgroundcolor": "rgb(17,17,17)",
            "gridcolor": "#506784",
            "gridwidth": 2,
            "linecolor": "#506784",
            "showbackground": true,
            "ticks": "",
            "zerolinecolor": "#C8D4E3"
           },
           "yaxis": {
            "backgroundcolor": "rgb(17,17,17)",
            "gridcolor": "#506784",
            "gridwidth": 2,
            "linecolor": "#506784",
            "showbackground": true,
            "ticks": "",
            "zerolinecolor": "#C8D4E3"
           },
           "zaxis": {
            "backgroundcolor": "rgb(17,17,17)",
            "gridcolor": "#506784",
            "gridwidth": 2,
            "linecolor": "#506784",
            "showbackground": true,
            "ticks": "",
            "zerolinecolor": "#C8D4E3"
           }
          },
          "shapedefaults": {
           "line": {
            "color": "#f2f5fa"
           }
          },
          "sliderdefaults": {
           "bgcolor": "#C8D4E3",
           "bordercolor": "rgb(17,17,17)",
           "borderwidth": 1,
           "tickwidth": 0
          },
          "ternary": {
           "aaxis": {
            "gridcolor": "#506784",
            "linecolor": "#506784",
            "ticks": ""
           },
           "baxis": {
            "gridcolor": "#506784",
            "linecolor": "#506784",
            "ticks": ""
           },
           "bgcolor": "rgb(17,17,17)",
           "caxis": {
            "gridcolor": "#506784",
            "linecolor": "#506784",
            "ticks": ""
           }
          },
          "title": {
           "x": 0.05
          },
          "updatemenudefaults": {
           "bgcolor": "#506784",
           "borderwidth": 0
          },
          "xaxis": {
           "automargin": true,
           "gridcolor": "#283442",
           "linecolor": "#506784",
           "ticks": "",
           "title": {
            "standoff": 15
           },
           "zerolinecolor": "#283442",
           "zerolinewidth": 2
          },
          "yaxis": {
           "automargin": true,
           "gridcolor": "#283442",
           "linecolor": "#506784",
           "ticks": "",
           "title": {
            "standoff": 15
           },
           "zerolinecolor": "#283442",
           "zerolinewidth": 2
          }
         }
        },
        "width": 1000
       }
      }
     },
     "metadata": {},
     "output_type": "display_data"
    }
   ],
   "source": [
    "df = df_compil.copy().reset_index()\n",
    "ticks_pow = [-2,-1,0]\n",
    "max_val = abs(min(ticks_pow))\n",
    "delta_zero = 0.001+1\n",
    "logscale = lambda x:  np.sign(x) * (1-min(ticks_pow)+np.clip(np.log10(np.abs(x+1e-16)),min(ticks_pow)-delta_zero,np.inf))\n",
    "fig = px.scatter_3d(df,x=\"Nb pts par cluster\",y=\"init_type\",z=\"algorithm\",color=logscale(df[COLUMN]),\n",
    "                    hover_data=[\"Nb pts par cluster\",\"init_type\",\"algorithm\",COLUMN],\n",
    "                    color_continuous_scale=[\"red\",\"yellow\",\"green\",\"cyan\",\"blue\"][::-1],\n",
    "                    range_color=[-max_val-delta_zero,max_val+delta_zero],\n",
    "                    template=\"plotly_dark\",width=1000,height=900)\n",
    "def build(f):\n",
    "    ticks_pos = [f(1,p) for p in ticks_pow]\n",
    "    ticks_neg = [f(-1,p) for p in ticks_pow[::-1]]\n",
    "    return [*ticks_neg,logscale(0),*ticks_pos]\n",
    "def func(sign,p):\n",
    "    real_value = sign*10**p\n",
    "    return logscale(real_value)\n",
    "Lp = build(func)\n",
    "Lannot = build(lambda sign,p: \"1E\"+str(p) if sign > 0 else \"-1E\"+str(p))\n",
    "fig.update_layout(coloraxis_colorbar=dict(\n",
    "    title=COLUMN,\n",
    "    tickvals=np.round(Lp,decimals=2),\n",
    "    ticktext=Lannot,\n",
    "))\n",
    "fig.show()"
   ]
  },
  {
   "cell_type": "code",
   "execution_count": null,
   "metadata": {},
   "outputs": [],
   "source": []
  }
 ],
 "metadata": {
  "interpreter": {
   "hash": "a7a80cf5091cc3b0eca4837265a50c60c3c4b353b9419c8d484eb15b11025f30"
  },
  "kernelspec": {
   "display_name": "Python 3.8.12 (conda)",
   "language": "python",
   "name": "python3"
  },
  "language_info": {
   "codemirror_mode": {
    "name": "ipython",
    "version": 3
   },
   "file_extension": ".py",
   "mimetype": "text/x-python",
   "name": "python",
   "nbconvert_exporter": "python",
   "pygments_lexer": "ipython3",
   "version": "3.8.12"
  },
  "orig_nbformat": 4
 },
 "nbformat": 4,
 "nbformat_minor": 2
}
