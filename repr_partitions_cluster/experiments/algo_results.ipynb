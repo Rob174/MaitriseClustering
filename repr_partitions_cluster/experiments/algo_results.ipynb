{
 "cells": [
  {
   "cell_type": "markdown",
   "metadata": {},
   "source": []
  },
  {
   "cell_type": "code",
   "execution_count": 8,
   "metadata": {},
   "outputs": [
    {
     "name": "stdout",
     "output_type": "stream",
     "text": [
      "C:\\Users\\robin\\Documents\\Cours\\Poly\\Recherche\\MaitriseClustering\\data\\algos_results.csv\n"
     ]
    }
   ],
   "source": [
    "import pandas as pd\n",
    "import numpy as np\n",
    "from pathlib import Path\n",
    "from IPython.display import display, HTML\n",
    "import plotly.express as px\n",
    "pd.options.mode.chained_assignment = 'warn'  # default=\n",
    "pd.options.plotting.backend = \"plotly\"\n",
    "PATH_CACHE = Path(\"../../data/algos_results.csv\").resolve()\n",
    "print(PATH_CACHE)"
   ]
  },
  {
   "cell_type": "code",
   "execution_count": 16,
   "metadata": {},
   "outputs": [],
   "source": [
    "df = pd.read_csv(PATH_CACHE)"
   ]
  },
  {
   "cell_type": "code",
   "execution_count": 20,
   "metadata": {},
   "outputs": [
    {
     "name": "stdout",
     "output_type": "stream",
     "text": [
      "Index(['num_clusters', 'num_points', 'init_type', 'ImprClass',\n",
      "       'iteration_order', 'init_cost', 'end_cost', 'num_iter', 'time',\n",
      "       'uuid_points_coords', 'uuid_points_assign'],\n",
      "      dtype='object')\n",
      "[16  2  4  8 32 64]\n"
     ]
    }
   ],
   "source": [
    "df100 = df[df[\"init_type\"] == \"random\"].copy()\n",
    "print(df100.columns)\n",
    "print(df100[\"num_clusters\"].unique())\n",
    "Lcluster_concat = []\n",
    "for num_clusters in [4,8,16,64]:\n",
    "    Linit_concat = []\n",
    "    for ImprClass, iteration_order in list(zip([\"CallbackBestImprovement\", \"CallbackFirstImprovement\",\"CallbackFirstImprovement\",\"CallbackFirstImprovement\"], [\"BACK\",\"CURR\", \"BACK\", \"RANDOM\"])):\n",
    "        tmp_df = df100[df100[\"ImprClass\"] == ImprClass]\n",
    "        tmp_df = tmp_df[tmp_df[\"iteration_order\"] == iteration_order].sort_values(by=[\"uuid_points_coords\",\"uuid_points_assign\"],axis=0)\n",
    "        tmp_df = tmp_df[tmp_df[\"num_clusters\"] == num_clusters]\n",
    "        tmp_df = tmp_df.drop([\"init_cost\",\"ImprClass\",\"init_type\",\"iteration_order\",\"num_clusters\",\"uuid_points_coords\",\"uuid_points_assign\"],axis=1)\n",
    "        tmp_df.reset_index(drop=True, inplace=True)\n",
    "        if ImprClass == \"CallbackBestImprovement\":\n",
    "            backup_tmp_df = tmp_df.copy()\n",
    "        else:\n",
    "            tmp_df[\"cost_augm\"] = tmp_df[\"end_cost\"].reset_index(drop=True) - backup_tmp_df[\"end_cost\"].reset_index(drop=True)\n",
    "            # tmp_df = tmp_df.rename(columns={\"end_cost\":\"cost_augm_BI\"})\n",
    "        tmp_df = tmp_df.groupby(\"num_points\",as_index=False).mean()\n",
    "        tmp_df = tmp_df.set_index(['num_points'])\n",
    "        Linit_concat.append(tmp_df)\n",
    "    Lcluster_concat.append(pd.concat(Linit_concat,axis=1, keys=[\"BI_BACK\", \"FI_CURR\", \"FI_BACK\", \"FI_RANDOM\"]))"
   ]
  },
  {
   "cell_type": "code",
   "execution_count": 21,
   "metadata": {},
   "outputs": [
    {
     "data": {
      "text/html": [
       "<div>\n",
       "<style scoped>\n",
       "    .dataframe tbody tr th:only-of-type {\n",
       "        vertical-align: middle;\n",
       "    }\n",
       "\n",
       "    .dataframe tbody tr th {\n",
       "        vertical-align: top;\n",
       "    }\n",
       "\n",
       "    .dataframe thead tr th {\n",
       "        text-align: left;\n",
       "    }\n",
       "\n",
       "    .dataframe thead tr:last-of-type th {\n",
       "        text-align: right;\n",
       "    }\n",
       "</style>\n",
       "<table border=\"1\" class=\"dataframe\">\n",
       "  <thead>\n",
       "    <tr>\n",
       "      <th></th>\n",
       "      <th colspan=\"15\" halign=\"left\">4 clusters</th>\n",
       "      <th colspan=\"15\" halign=\"left\">8 clusters</th>\n",
       "      <th colspan=\"15\" halign=\"left\">16 clusters</th>\n",
       "      <th colspan=\"15\" halign=\"left\">64 clusters</th>\n",
       "    </tr>\n",
       "    <tr>\n",
       "      <th></th>\n",
       "      <th colspan=\"3\" halign=\"left\">BI_BACK</th>\n",
       "      <th colspan=\"4\" halign=\"left\">FI_CURR</th>\n",
       "      <th colspan=\"4\" halign=\"left\">FI_BACK</th>\n",
       "      <th colspan=\"4\" halign=\"left\">FI_RANDOM</th>\n",
       "      <th colspan=\"3\" halign=\"left\">BI_BACK</th>\n",
       "      <th colspan=\"4\" halign=\"left\">FI_CURR</th>\n",
       "      <th colspan=\"4\" halign=\"left\">FI_BACK</th>\n",
       "      <th colspan=\"4\" halign=\"left\">FI_RANDOM</th>\n",
       "      <th colspan=\"3\" halign=\"left\">BI_BACK</th>\n",
       "      <th colspan=\"4\" halign=\"left\">FI_CURR</th>\n",
       "      <th colspan=\"4\" halign=\"left\">FI_BACK</th>\n",
       "      <th colspan=\"4\" halign=\"left\">FI_RANDOM</th>\n",
       "      <th colspan=\"3\" halign=\"left\">BI_BACK</th>\n",
       "      <th colspan=\"4\" halign=\"left\">FI_CURR</th>\n",
       "      <th colspan=\"4\" halign=\"left\">FI_BACK</th>\n",
       "      <th colspan=\"4\" halign=\"left\">FI_RANDOM</th>\n",
       "    </tr>\n",
       "    <tr>\n",
       "      <th></th>\n",
       "      <th>end_cost</th>\n",
       "      <th>num_iter</th>\n",
       "      <th>time</th>\n",
       "      <th>end_cost</th>\n",
       "      <th>num_iter</th>\n",
       "      <th>time</th>\n",
       "      <th>cost_augm</th>\n",
       "      <th>end_cost</th>\n",
       "      <th>num_iter</th>\n",
       "      <th>time</th>\n",
       "      <th>cost_augm</th>\n",
       "      <th>end_cost</th>\n",
       "      <th>num_iter</th>\n",
       "      <th>time</th>\n",
       "      <th>cost_augm</th>\n",
       "      <th>end_cost</th>\n",
       "      <th>num_iter</th>\n",
       "      <th>time</th>\n",
       "      <th>end_cost</th>\n",
       "      <th>num_iter</th>\n",
       "      <th>time</th>\n",
       "      <th>cost_augm</th>\n",
       "      <th>end_cost</th>\n",
       "      <th>num_iter</th>\n",
       "      <th>time</th>\n",
       "      <th>cost_augm</th>\n",
       "      <th>end_cost</th>\n",
       "      <th>num_iter</th>\n",
       "      <th>time</th>\n",
       "      <th>cost_augm</th>\n",
       "      <th>end_cost</th>\n",
       "      <th>num_iter</th>\n",
       "      <th>time</th>\n",
       "      <th>end_cost</th>\n",
       "      <th>num_iter</th>\n",
       "      <th>time</th>\n",
       "      <th>cost_augm</th>\n",
       "      <th>end_cost</th>\n",
       "      <th>num_iter</th>\n",
       "      <th>time</th>\n",
       "      <th>cost_augm</th>\n",
       "      <th>end_cost</th>\n",
       "      <th>num_iter</th>\n",
       "      <th>time</th>\n",
       "      <th>cost_augm</th>\n",
       "      <th>end_cost</th>\n",
       "      <th>num_iter</th>\n",
       "      <th>time</th>\n",
       "      <th>end_cost</th>\n",
       "      <th>num_iter</th>\n",
       "      <th>time</th>\n",
       "      <th>cost_augm</th>\n",
       "      <th>end_cost</th>\n",
       "      <th>num_iter</th>\n",
       "      <th>time</th>\n",
       "      <th>cost_augm</th>\n",
       "      <th>end_cost</th>\n",
       "      <th>num_iter</th>\n",
       "      <th>time</th>\n",
       "      <th>cost_augm</th>\n",
       "    </tr>\n",
       "    <tr>\n",
       "      <th>num_points</th>\n",
       "      <th></th>\n",
       "      <th></th>\n",
       "      <th></th>\n",
       "      <th></th>\n",
       "      <th></th>\n",
       "      <th></th>\n",
       "      <th></th>\n",
       "      <th></th>\n",
       "      <th></th>\n",
       "      <th></th>\n",
       "      <th></th>\n",
       "      <th></th>\n",
       "      <th></th>\n",
       "      <th></th>\n",
       "      <th></th>\n",
       "      <th></th>\n",
       "      <th></th>\n",
       "      <th></th>\n",
       "      <th></th>\n",
       "      <th></th>\n",
       "      <th></th>\n",
       "      <th></th>\n",
       "      <th></th>\n",
       "      <th></th>\n",
       "      <th></th>\n",
       "      <th></th>\n",
       "      <th></th>\n",
       "      <th></th>\n",
       "      <th></th>\n",
       "      <th></th>\n",
       "      <th></th>\n",
       "      <th></th>\n",
       "      <th></th>\n",
       "      <th></th>\n",
       "      <th></th>\n",
       "      <th></th>\n",
       "      <th></th>\n",
       "      <th></th>\n",
       "      <th></th>\n",
       "      <th></th>\n",
       "      <th></th>\n",
       "      <th></th>\n",
       "      <th></th>\n",
       "      <th></th>\n",
       "      <th></th>\n",
       "      <th></th>\n",
       "      <th></th>\n",
       "      <th></th>\n",
       "      <th></th>\n",
       "      <th></th>\n",
       "      <th></th>\n",
       "      <th></th>\n",
       "      <th></th>\n",
       "      <th></th>\n",
       "      <th></th>\n",
       "      <th></th>\n",
       "      <th></th>\n",
       "      <th></th>\n",
       "      <th></th>\n",
       "      <th></th>\n",
       "    </tr>\n",
       "  </thead>\n",
       "  <tbody>\n",
       "    <tr>\n",
       "      <th>20</th>\n",
       "      <td>5705.342804</td>\n",
       "      <td>12.254</td>\n",
       "      <td>0.112840</td>\n",
       "      <td>5746.151804</td>\n",
       "      <td>25.051</td>\n",
       "      <td>0.107885</td>\n",
       "      <td>40.809000</td>\n",
       "      <td>5751.547336</td>\n",
       "      <td>25.088</td>\n",
       "      <td>0.092144</td>\n",
       "      <td>46.204532</td>\n",
       "      <td>5748.241293</td>\n",
       "      <td>25.218</td>\n",
       "      <td>0.096410</td>\n",
       "      <td>42.898489</td>\n",
       "      <td>1836.580722</td>\n",
       "      <td>12.859</td>\n",
       "      <td>0.274717</td>\n",
       "      <td>1868.732761</td>\n",
       "      <td>35.903</td>\n",
       "      <td>0.296002</td>\n",
       "      <td>32.152039</td>\n",
       "      <td>1875.151258</td>\n",
       "      <td>36.418</td>\n",
       "      <td>0.259929</td>\n",
       "      <td>38.570536</td>\n",
       "      <td>1867.916687</td>\n",
       "      <td>36.581</td>\n",
       "      <td>0.266102</td>\n",
       "      <td>31.335965</td>\n",
       "      <td>255.416915</td>\n",
       "      <td>8.592000</td>\n",
       "      <td>0.338933</td>\n",
       "      <td>283.630104</td>\n",
       "      <td>23.068000</td>\n",
       "      <td>0.304394</td>\n",
       "      <td>-3676.995339</td>\n",
       "      <td>294.719920</td>\n",
       "      <td>25.442000</td>\n",
       "      <td>0.272310</td>\n",
       "      <td>-2433.521516</td>\n",
       "      <td>280.859691</td>\n",
       "      <td>22.541000</td>\n",
       "      <td>0.258722</td>\n",
       "      <td>-5217.088919</td>\n",
       "      <td>NaN</td>\n",
       "      <td>NaN</td>\n",
       "      <td>NaN</td>\n",
       "      <td>NaN</td>\n",
       "      <td>NaN</td>\n",
       "      <td>NaN</td>\n",
       "      <td>NaN</td>\n",
       "      <td>NaN</td>\n",
       "      <td>NaN</td>\n",
       "      <td>NaN</td>\n",
       "      <td>NaN</td>\n",
       "      <td>NaN</td>\n",
       "      <td>NaN</td>\n",
       "      <td>NaN</td>\n",
       "      <td>NaN</td>\n",
       "    </tr>\n",
       "    <tr>\n",
       "      <th>30</th>\n",
       "      <td>9197.812228</td>\n",
       "      <td>21.410</td>\n",
       "      <td>0.309436</td>\n",
       "      <td>9167.008379</td>\n",
       "      <td>42.339</td>\n",
       "      <td>0.296689</td>\n",
       "      <td>-30.803849</td>\n",
       "      <td>9167.008257</td>\n",
       "      <td>42.160</td>\n",
       "      <td>0.251640</td>\n",
       "      <td>-30.803971</td>\n",
       "      <td>9173.137468</td>\n",
       "      <td>42.472</td>\n",
       "      <td>0.264844</td>\n",
       "      <td>-24.674760</td>\n",
       "      <td>4025.843851</td>\n",
       "      <td>22.835</td>\n",
       "      <td>0.735441</td>\n",
       "      <td>4047.063981</td>\n",
       "      <td>76.722</td>\n",
       "      <td>0.983858</td>\n",
       "      <td>21.220131</td>\n",
       "      <td>4069.519158</td>\n",
       "      <td>76.905</td>\n",
       "      <td>0.853858</td>\n",
       "      <td>43.675307</td>\n",
       "      <td>4042.562812</td>\n",
       "      <td>76.991</td>\n",
       "      <td>0.867598</td>\n",
       "      <td>16.718962</td>\n",
       "      <td>1046.256509</td>\n",
       "      <td>19.058000</td>\n",
       "      <td>1.293837</td>\n",
       "      <td>1204.457798</td>\n",
       "      <td>67.008000</td>\n",
       "      <td>1.549130</td>\n",
       "      <td>-3591.536097</td>\n",
       "      <td>1243.576439</td>\n",
       "      <td>68.202000</td>\n",
       "      <td>1.385921</td>\n",
       "      <td>-2198.224587</td>\n",
       "      <td>1200.329973</td>\n",
       "      <td>66.946000</td>\n",
       "      <td>1.354723</td>\n",
       "      <td>44.783633</td>\n",
       "      <td>NaN</td>\n",
       "      <td>NaN</td>\n",
       "      <td>NaN</td>\n",
       "      <td>NaN</td>\n",
       "      <td>NaN</td>\n",
       "      <td>NaN</td>\n",
       "      <td>NaN</td>\n",
       "      <td>NaN</td>\n",
       "      <td>NaN</td>\n",
       "      <td>NaN</td>\n",
       "      <td>NaN</td>\n",
       "      <td>NaN</td>\n",
       "      <td>NaN</td>\n",
       "      <td>NaN</td>\n",
       "      <td>NaN</td>\n",
       "    </tr>\n",
       "    <tr>\n",
       "      <th>40</th>\n",
       "      <td>14506.005846</td>\n",
       "      <td>30.270</td>\n",
       "      <td>0.557933</td>\n",
       "      <td>14348.786391</td>\n",
       "      <td>60.690</td>\n",
       "      <td>0.565315</td>\n",
       "      <td>-157.219455</td>\n",
       "      <td>14346.044465</td>\n",
       "      <td>60.444</td>\n",
       "      <td>0.478951</td>\n",
       "      <td>-159.961381</td>\n",
       "      <td>14348.786313</td>\n",
       "      <td>60.795</td>\n",
       "      <td>0.499262</td>\n",
       "      <td>-157.219533</td>\n",
       "      <td>6211.363831</td>\n",
       "      <td>32.285</td>\n",
       "      <td>1.364178</td>\n",
       "      <td>6173.340889</td>\n",
       "      <td>120.585</td>\n",
       "      <td>2.004035</td>\n",
       "      <td>-38.022942</td>\n",
       "      <td>6188.412332</td>\n",
       "      <td>120.956</td>\n",
       "      <td>1.740101</td>\n",
       "      <td>-22.951498</td>\n",
       "      <td>6169.477573</td>\n",
       "      <td>120.969</td>\n",
       "      <td>1.765259</td>\n",
       "      <td>-41.886258</td>\n",
       "      <td>1881.267219</td>\n",
       "      <td>30.456000</td>\n",
       "      <td>2.865765</td>\n",
       "      <td>1909.127776</td>\n",
       "      <td>128.695000</td>\n",
       "      <td>4.133169</td>\n",
       "      <td>-3181.368953</td>\n",
       "      <td>1899.439372</td>\n",
       "      <td>129.381000</td>\n",
       "      <td>3.650551</td>\n",
       "      <td>-2304.895806</td>\n",
       "      <td>1911.125823</td>\n",
       "      <td>128.382000</td>\n",
       "      <td>3.588875</td>\n",
       "      <td>143.305434</td>\n",
       "      <td>NaN</td>\n",
       "      <td>NaN</td>\n",
       "      <td>NaN</td>\n",
       "      <td>NaN</td>\n",
       "      <td>NaN</td>\n",
       "      <td>NaN</td>\n",
       "      <td>NaN</td>\n",
       "      <td>NaN</td>\n",
       "      <td>NaN</td>\n",
       "      <td>NaN</td>\n",
       "      <td>NaN</td>\n",
       "      <td>NaN</td>\n",
       "      <td>NaN</td>\n",
       "      <td>NaN</td>\n",
       "      <td>NaN</td>\n",
       "    </tr>\n",
       "    <tr>\n",
       "      <th>50</th>\n",
       "      <td>18752.541618</td>\n",
       "      <td>37.685</td>\n",
       "      <td>0.808036</td>\n",
       "      <td>18505.084732</td>\n",
       "      <td>78.297</td>\n",
       "      <td>0.826179</td>\n",
       "      <td>-247.456886</td>\n",
       "      <td>18505.746290</td>\n",
       "      <td>78.617</td>\n",
       "      <td>0.700293</td>\n",
       "      <td>-246.795328</td>\n",
       "      <td>18519.472613</td>\n",
       "      <td>78.683</td>\n",
       "      <td>0.733761</td>\n",
       "      <td>-233.069005</td>\n",
       "      <td>8602.361103</td>\n",
       "      <td>41.637</td>\n",
       "      <td>2.011114</td>\n",
       "      <td>8341.394304</td>\n",
       "      <td>170.225</td>\n",
       "      <td>3.316299</td>\n",
       "      <td>-260.966798</td>\n",
       "      <td>8371.922166</td>\n",
       "      <td>169.542</td>\n",
       "      <td>2.854361</td>\n",
       "      <td>-230.438937</td>\n",
       "      <td>8354.102680</td>\n",
       "      <td>169.850</td>\n",
       "      <td>2.913203</td>\n",
       "      <td>-248.258423</td>\n",
       "      <td>2759.777835</td>\n",
       "      <td>41.909000</td>\n",
       "      <td>4.535456</td>\n",
       "      <td>2726.670754</td>\n",
       "      <td>197.374000</td>\n",
       "      <td>7.459464</td>\n",
       "      <td>1788.929885</td>\n",
       "      <td>2738.680612</td>\n",
       "      <td>197.789000</td>\n",
       "      <td>6.533533</td>\n",
       "      <td>-1928.730916</td>\n",
       "      <td>2730.259282</td>\n",
       "      <td>199.339000</td>\n",
       "      <td>6.534844</td>\n",
       "      <td>419.279307</td>\n",
       "      <td>NaN</td>\n",
       "      <td>NaN</td>\n",
       "      <td>NaN</td>\n",
       "      <td>NaN</td>\n",
       "      <td>NaN</td>\n",
       "      <td>NaN</td>\n",
       "      <td>NaN</td>\n",
       "      <td>NaN</td>\n",
       "      <td>NaN</td>\n",
       "      <td>NaN</td>\n",
       "      <td>NaN</td>\n",
       "      <td>NaN</td>\n",
       "      <td>NaN</td>\n",
       "      <td>NaN</td>\n",
       "      <td>NaN</td>\n",
       "    </tr>\n",
       "    <tr>\n",
       "      <th>60</th>\n",
       "      <td>22290.983223</td>\n",
       "      <td>46.553</td>\n",
       "      <td>1.211266</td>\n",
       "      <td>22188.560625</td>\n",
       "      <td>98.873</td>\n",
       "      <td>1.248399</td>\n",
       "      <td>-102.422598</td>\n",
       "      <td>22186.583066</td>\n",
       "      <td>98.064</td>\n",
       "      <td>1.048460</td>\n",
       "      <td>-104.400157</td>\n",
       "      <td>22191.796011</td>\n",
       "      <td>98.537</td>\n",
       "      <td>1.101176</td>\n",
       "      <td>-99.187212</td>\n",
       "      <td>10682.589992</td>\n",
       "      <td>52.930</td>\n",
       "      <td>3.045649</td>\n",
       "      <td>10294.543136</td>\n",
       "      <td>220.409</td>\n",
       "      <td>5.145425</td>\n",
       "      <td>-388.046856</td>\n",
       "      <td>10317.910405</td>\n",
       "      <td>218.200</td>\n",
       "      <td>4.407217</td>\n",
       "      <td>-364.679587</td>\n",
       "      <td>10326.212144</td>\n",
       "      <td>220.677</td>\n",
       "      <td>4.526888</td>\n",
       "      <td>-356.377848</td>\n",
       "      <td>3855.034238</td>\n",
       "      <td>53.246000</td>\n",
       "      <td>6.692591</td>\n",
       "      <td>3778.626405</td>\n",
       "      <td>264.071000</td>\n",
       "      <td>11.737884</td>\n",
       "      <td>1974.900124</td>\n",
       "      <td>3792.042296</td>\n",
       "      <td>263.453000</td>\n",
       "      <td>10.233117</td>\n",
       "      <td>-1790.053321</td>\n",
       "      <td>3769.780740</td>\n",
       "      <td>265.930000</td>\n",
       "      <td>10.291002</td>\n",
       "      <td>726.111301</td>\n",
       "      <td>NaN</td>\n",
       "      <td>NaN</td>\n",
       "      <td>NaN</td>\n",
       "      <td>NaN</td>\n",
       "      <td>NaN</td>\n",
       "      <td>NaN</td>\n",
       "      <td>NaN</td>\n",
       "      <td>NaN</td>\n",
       "      <td>NaN</td>\n",
       "      <td>NaN</td>\n",
       "      <td>NaN</td>\n",
       "      <td>NaN</td>\n",
       "      <td>NaN</td>\n",
       "      <td>NaN</td>\n",
       "      <td>NaN</td>\n",
       "    </tr>\n",
       "    <tr>\n",
       "      <th>70</th>\n",
       "      <td>28516.037258</td>\n",
       "      <td>55.570</td>\n",
       "      <td>1.659223</td>\n",
       "      <td>28334.192194</td>\n",
       "      <td>116.434</td>\n",
       "      <td>1.665104</td>\n",
       "      <td>-181.845064</td>\n",
       "      <td>28333.976417</td>\n",
       "      <td>116.416</td>\n",
       "      <td>1.413984</td>\n",
       "      <td>-182.060841</td>\n",
       "      <td>28343.034111</td>\n",
       "      <td>117.224</td>\n",
       "      <td>1.486276</td>\n",
       "      <td>-173.003147</td>\n",
       "      <td>12407.574668</td>\n",
       "      <td>65.407</td>\n",
       "      <td>4.734163</td>\n",
       "      <td>12226.203265</td>\n",
       "      <td>280.264</td>\n",
       "      <td>8.392811</td>\n",
       "      <td>-181.371403</td>\n",
       "      <td>12214.652787</td>\n",
       "      <td>277.200</td>\n",
       "      <td>7.146682</td>\n",
       "      <td>-192.921881</td>\n",
       "      <td>12226.820575</td>\n",
       "      <td>280.950</td>\n",
       "      <td>7.291740</td>\n",
       "      <td>-180.754093</td>\n",
       "      <td>4843.043575</td>\n",
       "      <td>66.485000</td>\n",
       "      <td>9.531127</td>\n",
       "      <td>4848.046382</td>\n",
       "      <td>345.224000</td>\n",
       "      <td>18.062550</td>\n",
       "      <td>2163.021331</td>\n",
       "      <td>4865.648891</td>\n",
       "      <td>344.139000</td>\n",
       "      <td>15.723479</td>\n",
       "      <td>3411.952057</td>\n",
       "      <td>4859.890439</td>\n",
       "      <td>346.549000</td>\n",
       "      <td>15.705697</td>\n",
       "      <td>1051.579834</td>\n",
       "      <td>82.963024</td>\n",
       "      <td>28.395</td>\n",
       "      <td>14.396022</td>\n",
       "      <td>104.573828</td>\n",
       "      <td>84.181</td>\n",
       "      <td>12.395218</td>\n",
       "      <td>21.610804</td>\n",
       "      <td>101.960777</td>\n",
       "      <td>113.744</td>\n",
       "      <td>14.007048</td>\n",
       "      <td>18.997752</td>\n",
       "      <td>105.116762</td>\n",
       "      <td>77.974</td>\n",
       "      <td>9.821259</td>\n",
       "      <td>22.153738</td>\n",
       "    </tr>\n",
       "    <tr>\n",
       "      <th>80</th>\n",
       "      <td>31897.472845</td>\n",
       "      <td>65.016</td>\n",
       "      <td>2.303660</td>\n",
       "      <td>31687.925332</td>\n",
       "      <td>136.424</td>\n",
       "      <td>2.320278</td>\n",
       "      <td>-209.547513</td>\n",
       "      <td>31688.360083</td>\n",
       "      <td>136.177</td>\n",
       "      <td>1.965819</td>\n",
       "      <td>-209.112762</td>\n",
       "      <td>31688.111102</td>\n",
       "      <td>137.240</td>\n",
       "      <td>2.057737</td>\n",
       "      <td>-209.361743</td>\n",
       "      <td>14455.087322</td>\n",
       "      <td>76.309</td>\n",
       "      <td>6.115269</td>\n",
       "      <td>14194.762316</td>\n",
       "      <td>328.714</td>\n",
       "      <td>10.879960</td>\n",
       "      <td>-260.325007</td>\n",
       "      <td>14199.961778</td>\n",
       "      <td>325.568</td>\n",
       "      <td>9.294740</td>\n",
       "      <td>-255.125544</td>\n",
       "      <td>14205.491808</td>\n",
       "      <td>327.940</td>\n",
       "      <td>9.459403</td>\n",
       "      <td>-249.595514</td>\n",
       "      <td>5942.520591</td>\n",
       "      <td>78.973000</td>\n",
       "      <td>13.632679</td>\n",
       "      <td>5888.761634</td>\n",
       "      <td>429.751000</td>\n",
       "      <td>27.525611</td>\n",
       "      <td>2268.745257</td>\n",
       "      <td>5882.653797</td>\n",
       "      <td>424.385000</td>\n",
       "      <td>23.621844</td>\n",
       "      <td>3563.356793</td>\n",
       "      <td>5883.118642</td>\n",
       "      <td>431.924000</td>\n",
       "      <td>23.801578</td>\n",
       "      <td>1278.197038</td>\n",
       "      <td>224.170034</td>\n",
       "      <td>38.163</td>\n",
       "      <td>23.290419</td>\n",
       "      <td>279.667518</td>\n",
       "      <td>141.530</td>\n",
       "      <td>25.460754</td>\n",
       "      <td>55.497484</td>\n",
       "      <td>260.262938</td>\n",
       "      <td>164.435</td>\n",
       "      <td>26.197370</td>\n",
       "      <td>36.092904</td>\n",
       "      <td>278.437145</td>\n",
       "      <td>136.118</td>\n",
       "      <td>20.940609</td>\n",
       "      <td>54.267111</td>\n",
       "    </tr>\n",
       "    <tr>\n",
       "      <th>90</th>\n",
       "      <td>37150.486936</td>\n",
       "      <td>75.171</td>\n",
       "      <td>2.980331</td>\n",
       "      <td>37111.662679</td>\n",
       "      <td>172.859</td>\n",
       "      <td>3.339091</td>\n",
       "      <td>-38.824257</td>\n",
       "      <td>37111.662728</td>\n",
       "      <td>172.213</td>\n",
       "      <td>2.826806</td>\n",
       "      <td>-38.824208</td>\n",
       "      <td>37111.662059</td>\n",
       "      <td>172.571</td>\n",
       "      <td>2.952307</td>\n",
       "      <td>-38.824877</td>\n",
       "      <td>16933.298093</td>\n",
       "      <td>86.721</td>\n",
       "      <td>7.925592</td>\n",
       "      <td>16521.336981</td>\n",
       "      <td>384.729</td>\n",
       "      <td>14.448809</td>\n",
       "      <td>-411.961112</td>\n",
       "      <td>16541.994999</td>\n",
       "      <td>380.075</td>\n",
       "      <td>12.284553</td>\n",
       "      <td>-391.303094</td>\n",
       "      <td>16502.313120</td>\n",
       "      <td>385.588</td>\n",
       "      <td>12.626148</td>\n",
       "      <td>-430.984973</td>\n",
       "      <td>6996.106831</td>\n",
       "      <td>91.255000</td>\n",
       "      <td>17.524258</td>\n",
       "      <td>6996.311697</td>\n",
       "      <td>547.498000</td>\n",
       "      <td>39.158480</td>\n",
       "      <td>2288.226557</td>\n",
       "      <td>7004.218964</td>\n",
       "      <td>540.887000</td>\n",
       "      <td>33.570122</td>\n",
       "      <td>3764.283367</td>\n",
       "      <td>6989.659291</td>\n",
       "      <td>548.059000</td>\n",
       "      <td>33.572083</td>\n",
       "      <td>1401.508903</td>\n",
       "      <td>393.802850</td>\n",
       "      <td>50.365</td>\n",
       "      <td>37.191629</td>\n",
       "      <td>489.187940</td>\n",
       "      <td>222.840</td>\n",
       "      <td>48.902322</td>\n",
       "      <td>95.385090</td>\n",
       "      <td>467.748156</td>\n",
       "      <td>240.055</td>\n",
       "      <td>48.577100</td>\n",
       "      <td>73.945305</td>\n",
       "      <td>492.149094</td>\n",
       "      <td>219.915</td>\n",
       "      <td>41.491315</td>\n",
       "      <td>98.346244</td>\n",
       "    </tr>\n",
       "    <tr>\n",
       "      <th>100</th>\n",
       "      <td>NaN</td>\n",
       "      <td>NaN</td>\n",
       "      <td>NaN</td>\n",
       "      <td>NaN</td>\n",
       "      <td>NaN</td>\n",
       "      <td>NaN</td>\n",
       "      <td>NaN</td>\n",
       "      <td>NaN</td>\n",
       "      <td>NaN</td>\n",
       "      <td>NaN</td>\n",
       "      <td>NaN</td>\n",
       "      <td>NaN</td>\n",
       "      <td>NaN</td>\n",
       "      <td>NaN</td>\n",
       "      <td>NaN</td>\n",
       "      <td>NaN</td>\n",
       "      <td>NaN</td>\n",
       "      <td>NaN</td>\n",
       "      <td>NaN</td>\n",
       "      <td>NaN</td>\n",
       "      <td>NaN</td>\n",
       "      <td>NaN</td>\n",
       "      <td>NaN</td>\n",
       "      <td>NaN</td>\n",
       "      <td>NaN</td>\n",
       "      <td>NaN</td>\n",
       "      <td>NaN</td>\n",
       "      <td>NaN</td>\n",
       "      <td>NaN</td>\n",
       "      <td>NaN</td>\n",
       "      <td>8001.977201</td>\n",
       "      <td>103.830275</td>\n",
       "      <td>23.218233</td>\n",
       "      <td>7750.050804</td>\n",
       "      <td>639.916279</td>\n",
       "      <td>53.408180</td>\n",
       "      <td>-178.065540</td>\n",
       "      <td>7716.001260</td>\n",
       "      <td>633.065728</td>\n",
       "      <td>45.894109</td>\n",
       "      <td>-90.320220</td>\n",
       "      <td>7760.538975</td>\n",
       "      <td>644.880383</td>\n",
       "      <td>45.826249</td>\n",
       "      <td>528.821506</td>\n",
       "      <td>NaN</td>\n",
       "      <td>NaN</td>\n",
       "      <td>NaN</td>\n",
       "      <td>NaN</td>\n",
       "      <td>NaN</td>\n",
       "      <td>NaN</td>\n",
       "      <td>NaN</td>\n",
       "      <td>NaN</td>\n",
       "      <td>NaN</td>\n",
       "      <td>NaN</td>\n",
       "      <td>NaN</td>\n",
       "      <td>NaN</td>\n",
       "      <td>NaN</td>\n",
       "      <td>NaN</td>\n",
       "      <td>NaN</td>\n",
       "    </tr>\n",
       "  </tbody>\n",
       "</table>\n",
       "</div>"
      ],
      "text/plain": [
       "              4 clusters                                                      \\\n",
       "                 BI_BACK                          FI_CURR                      \n",
       "                end_cost num_iter      time      end_cost num_iter      time   \n",
       "num_points                                                                     \n",
       "20           5705.342804   12.254  0.112840   5746.151804   25.051  0.107885   \n",
       "30           9197.812228   21.410  0.309436   9167.008379   42.339  0.296689   \n",
       "40          14506.005846   30.270  0.557933  14348.786391   60.690  0.565315   \n",
       "50          18752.541618   37.685  0.808036  18505.084732   78.297  0.826179   \n",
       "60          22290.983223   46.553  1.211266  22188.560625   98.873  1.248399   \n",
       "70          28516.037258   55.570  1.659223  28334.192194  116.434  1.665104   \n",
       "80          31897.472845   65.016  2.303660  31687.925332  136.424  2.320278   \n",
       "90          37150.486936   75.171  2.980331  37111.662679  172.859  3.339091   \n",
       "100                  NaN      NaN       NaN           NaN      NaN       NaN   \n",
       "\n",
       "                                                                     \\\n",
       "                             FI_BACK                                  \n",
       "             cost_augm      end_cost num_iter      time   cost_augm   \n",
       "num_points                                                            \n",
       "20           40.809000   5751.547336   25.088  0.092144   46.204532   \n",
       "30          -30.803849   9167.008257   42.160  0.251640  -30.803971   \n",
       "40         -157.219455  14346.044465   60.444  0.478951 -159.961381   \n",
       "50         -247.456886  18505.746290   78.617  0.700293 -246.795328   \n",
       "60         -102.422598  22186.583066   98.064  1.048460 -104.400157   \n",
       "70         -181.845064  28333.976417  116.416  1.413984 -182.060841   \n",
       "80         -209.547513  31688.360083  136.177  1.965819 -209.112762   \n",
       "90          -38.824257  37111.662728  172.213  2.826806  -38.824208   \n",
       "100                NaN           NaN      NaN       NaN         NaN   \n",
       "\n",
       "                                                           8 clusters  \\\n",
       "               FI_RANDOM                                      BI_BACK   \n",
       "                end_cost num_iter      time   cost_augm      end_cost   \n",
       "num_points                                                              \n",
       "20           5748.241293   25.218  0.096410   42.898489   1836.580722   \n",
       "30           9173.137468   42.472  0.264844  -24.674760   4025.843851   \n",
       "40          14348.786313   60.795  0.499262 -157.219533   6211.363831   \n",
       "50          18519.472613   78.683  0.733761 -233.069005   8602.361103   \n",
       "60          22191.796011   98.537  1.101176  -99.187212  10682.589992   \n",
       "70          28343.034111  117.224  1.486276 -173.003147  12407.574668   \n",
       "80          31688.111102  137.240  2.057737 -209.361743  14455.087322   \n",
       "90          37111.662059  172.571  2.952307  -38.824877  16933.298093   \n",
       "100                  NaN      NaN       NaN         NaN           NaN   \n",
       "\n",
       "                                                                             \\\n",
       "                                    FI_CURR                                   \n",
       "           num_iter      time      end_cost num_iter       time   cost_augm   \n",
       "num_points                                                                    \n",
       "20           12.859  0.274717   1868.732761   35.903   0.296002   32.152039   \n",
       "30           22.835  0.735441   4047.063981   76.722   0.983858   21.220131   \n",
       "40           32.285  1.364178   6173.340889  120.585   2.004035  -38.022942   \n",
       "50           41.637  2.011114   8341.394304  170.225   3.316299 -260.966798   \n",
       "60           52.930  3.045649  10294.543136  220.409   5.145425 -388.046856   \n",
       "70           65.407  4.734163  12226.203265  280.264   8.392811 -181.371403   \n",
       "80           76.309  6.115269  14194.762316  328.714  10.879960 -260.325007   \n",
       "90           86.721  7.925592  16521.336981  384.729  14.448809 -411.961112   \n",
       "100             NaN       NaN           NaN      NaN        NaN         NaN   \n",
       "\n",
       "                                                                        \\\n",
       "                 FI_BACK                                     FI_RANDOM   \n",
       "                end_cost num_iter       time   cost_augm      end_cost   \n",
       "num_points                                                               \n",
       "20           1875.151258   36.418   0.259929   38.570536   1867.916687   \n",
       "30           4069.519158   76.905   0.853858   43.675307   4042.562812   \n",
       "40           6188.412332  120.956   1.740101  -22.951498   6169.477573   \n",
       "50           8371.922166  169.542   2.854361 -230.438937   8354.102680   \n",
       "60          10317.910405  218.200   4.407217 -364.679587  10326.212144   \n",
       "70          12214.652787  277.200   7.146682 -192.921881  12226.820575   \n",
       "80          14199.961778  325.568   9.294740 -255.125544  14205.491808   \n",
       "90          16541.994999  380.075  12.284553 -391.303094  16502.313120   \n",
       "100                  NaN      NaN        NaN         NaN           NaN   \n",
       "\n",
       "                                            16 clusters              \\\n",
       "                                                BI_BACK               \n",
       "           num_iter       time   cost_augm     end_cost    num_iter   \n",
       "num_points                                                            \n",
       "20           36.581   0.266102   31.335965   255.416915    8.592000   \n",
       "30           76.991   0.867598   16.718962  1046.256509   19.058000   \n",
       "40          120.969   1.765259  -41.886258  1881.267219   30.456000   \n",
       "50          169.850   2.913203 -248.258423  2759.777835   41.909000   \n",
       "60          220.677   4.526888 -356.377848  3855.034238   53.246000   \n",
       "70          280.950   7.291740 -180.754093  4843.043575   66.485000   \n",
       "80          327.940   9.459403 -249.595514  5942.520591   78.973000   \n",
       "90          385.588  12.626148 -430.984973  6996.106831   91.255000   \n",
       "100             NaN        NaN         NaN  8001.977201  103.830275   \n",
       "\n",
       "                                                                        \\\n",
       "                           FI_CURR                                       \n",
       "                 time     end_cost    num_iter       time    cost_augm   \n",
       "num_points                                                               \n",
       "20           0.338933   283.630104   23.068000   0.304394 -3676.995339   \n",
       "30           1.293837  1204.457798   67.008000   1.549130 -3591.536097   \n",
       "40           2.865765  1909.127776  128.695000   4.133169 -3181.368953   \n",
       "50           4.535456  2726.670754  197.374000   7.459464  1788.929885   \n",
       "60           6.692591  3778.626405  264.071000  11.737884  1974.900124   \n",
       "70           9.531127  4848.046382  345.224000  18.062550  2163.021331   \n",
       "80          13.632679  5888.761634  429.751000  27.525611  2268.745257   \n",
       "90          17.524258  6996.311697  547.498000  39.158480  2288.226557   \n",
       "100         23.218233  7750.050804  639.916279  53.408180  -178.065540   \n",
       "\n",
       "                                                                          \\\n",
       "                FI_BACK                                        FI_RANDOM   \n",
       "               end_cost    num_iter       time    cost_augm     end_cost   \n",
       "num_points                                                                 \n",
       "20           294.719920   25.442000   0.272310 -2433.521516   280.859691   \n",
       "30          1243.576439   68.202000   1.385921 -2198.224587  1200.329973   \n",
       "40          1899.439372  129.381000   3.650551 -2304.895806  1911.125823   \n",
       "50          2738.680612  197.789000   6.533533 -1928.730916  2730.259282   \n",
       "60          3792.042296  263.453000  10.233117 -1790.053321  3769.780740   \n",
       "70          4865.648891  344.139000  15.723479  3411.952057  4859.890439   \n",
       "80          5882.653797  424.385000  23.621844  3563.356793  5883.118642   \n",
       "90          7004.218964  540.887000  33.570122  3764.283367  6989.659291   \n",
       "100         7716.001260  633.065728  45.894109   -90.320220  7760.538975   \n",
       "\n",
       "                                               64 clusters           \\\n",
       "                                                   BI_BACK            \n",
       "              num_iter       time    cost_augm    end_cost num_iter   \n",
       "num_points                                                            \n",
       "20           22.541000   0.258722 -5217.088919         NaN      NaN   \n",
       "30           66.946000   1.354723    44.783633         NaN      NaN   \n",
       "40          128.382000   3.588875   143.305434         NaN      NaN   \n",
       "50          199.339000   6.534844   419.279307         NaN      NaN   \n",
       "60          265.930000  10.291002   726.111301         NaN      NaN   \n",
       "70          346.549000  15.705697  1051.579834   82.963024   28.395   \n",
       "80          431.924000  23.801578  1278.197038  224.170034   38.163   \n",
       "90          548.059000  33.572083  1401.508903  393.802850   50.365   \n",
       "100         644.880383  45.826249   528.821506         NaN      NaN   \n",
       "\n",
       "                                                                              \\\n",
       "                          FI_CURR                                    FI_BACK   \n",
       "                 time    end_cost num_iter       time  cost_augm    end_cost   \n",
       "num_points                                                                     \n",
       "20                NaN         NaN      NaN        NaN        NaN         NaN   \n",
       "30                NaN         NaN      NaN        NaN        NaN         NaN   \n",
       "40                NaN         NaN      NaN        NaN        NaN         NaN   \n",
       "50                NaN         NaN      NaN        NaN        NaN         NaN   \n",
       "60                NaN         NaN      NaN        NaN        NaN         NaN   \n",
       "70          14.396022  104.573828   84.181  12.395218  21.610804  101.960777   \n",
       "80          23.290419  279.667518  141.530  25.460754  55.497484  260.262938   \n",
       "90          37.191629  489.187940  222.840  48.902322  95.385090  467.748156   \n",
       "100               NaN         NaN      NaN        NaN        NaN         NaN   \n",
       "\n",
       "                                                                           \\\n",
       "                                            FI_RANDOM                       \n",
       "           num_iter       time  cost_augm    end_cost num_iter       time   \n",
       "num_points                                                                  \n",
       "20              NaN        NaN        NaN         NaN      NaN        NaN   \n",
       "30              NaN        NaN        NaN         NaN      NaN        NaN   \n",
       "40              NaN        NaN        NaN         NaN      NaN        NaN   \n",
       "50              NaN        NaN        NaN         NaN      NaN        NaN   \n",
       "60              NaN        NaN        NaN         NaN      NaN        NaN   \n",
       "70          113.744  14.007048  18.997752  105.116762   77.974   9.821259   \n",
       "80          164.435  26.197370  36.092904  278.437145  136.118  20.940609   \n",
       "90          240.055  48.577100  73.945305  492.149094  219.915  41.491315   \n",
       "100             NaN        NaN        NaN         NaN      NaN        NaN   \n",
       "\n",
       "                       \n",
       "                       \n",
       "            cost_augm  \n",
       "num_points             \n",
       "20                NaN  \n",
       "30                NaN  \n",
       "40                NaN  \n",
       "50                NaN  \n",
       "60                NaN  \n",
       "70          22.153738  \n",
       "80          54.267111  \n",
       "90          98.346244  \n",
       "100               NaN  "
      ]
     },
     "execution_count": 21,
     "metadata": {},
     "output_type": "execute_result"
    }
   ],
   "source": [
    "pd.set_option('display.max_rows', None, 'display.max_columns', None)\n",
    "df100_cluster = pd.concat(Lcluster_concat, axis=1, keys=[\"4 clusters\", \"8 clusters\",\"16 clusters\", \"64 clusters\"])\n",
    "df100_cluster"
   ]
  },
  {
   "cell_type": "code",
   "execution_count": 98,
   "metadata": {},
   "outputs": [
    {
     "data": {
      "application/vnd.plotly.v1+json": {
       "config": {
        "plotlyServerURL": "https://plot.ly"
       },
       "data": [
        {
         "hovertemplate": "cost_augm_BI_ref=decrease<br>num_points=%{x}<br>algorithm=%{y}<br>num_clusters=%{z}<extra></extra>",
         "legendgroup": "decrease",
         "marker": {
          "color": "#636efa",
          "symbol": "circle"
         },
         "mode": "markers",
         "name": "decrease",
         "scene": "scene",
         "showlegend": true,
         "type": "scatter3d",
         "x": [
          20,
          30,
          40,
          60,
          20,
          30,
          40,
          60,
          20,
          30,
          40,
          60,
          30,
          40,
          50,
          60,
          70,
          80,
          90,
          30,
          40,
          50,
          60,
          70,
          80,
          90,
          30,
          40,
          50,
          60,
          70,
          80,
          90,
          40,
          50,
          60,
          70,
          80,
          90,
          40,
          50,
          60,
          70,
          80,
          90,
          40,
          50,
          60,
          70,
          80,
          90,
          50,
          60,
          80,
          100,
          50,
          60,
          80,
          100,
          50,
          60,
          80,
          90,
          100
         ],
         "y": [
          "CallbackFirstImprovement_CURR",
          "CallbackFirstImprovement_CURR",
          "CallbackFirstImprovement_CURR",
          "CallbackFirstImprovement_CURR",
          "CallbackFirstImprovement_BACK",
          "CallbackFirstImprovement_BACK",
          "CallbackFirstImprovement_BACK",
          "CallbackFirstImprovement_BACK",
          "CallbackFirstImprovement_RANDOM",
          "CallbackFirstImprovement_RANDOM",
          "CallbackFirstImprovement_RANDOM",
          "CallbackFirstImprovement_RANDOM",
          "CallbackFirstImprovement_CURR",
          "CallbackFirstImprovement_CURR",
          "CallbackFirstImprovement_CURR",
          "CallbackFirstImprovement_CURR",
          "CallbackFirstImprovement_CURR",
          "CallbackFirstImprovement_CURR",
          "CallbackFirstImprovement_CURR",
          "CallbackFirstImprovement_BACK",
          "CallbackFirstImprovement_BACK",
          "CallbackFirstImprovement_BACK",
          "CallbackFirstImprovement_BACK",
          "CallbackFirstImprovement_BACK",
          "CallbackFirstImprovement_BACK",
          "CallbackFirstImprovement_BACK",
          "CallbackFirstImprovement_RANDOM",
          "CallbackFirstImprovement_RANDOM",
          "CallbackFirstImprovement_RANDOM",
          "CallbackFirstImprovement_RANDOM",
          "CallbackFirstImprovement_RANDOM",
          "CallbackFirstImprovement_RANDOM",
          "CallbackFirstImprovement_RANDOM",
          "CallbackFirstImprovement_CURR",
          "CallbackFirstImprovement_CURR",
          "CallbackFirstImprovement_CURR",
          "CallbackFirstImprovement_CURR",
          "CallbackFirstImprovement_CURR",
          "CallbackFirstImprovement_CURR",
          "CallbackFirstImprovement_BACK",
          "CallbackFirstImprovement_BACK",
          "CallbackFirstImprovement_BACK",
          "CallbackFirstImprovement_BACK",
          "CallbackFirstImprovement_BACK",
          "CallbackFirstImprovement_BACK",
          "CallbackFirstImprovement_RANDOM",
          "CallbackFirstImprovement_RANDOM",
          "CallbackFirstImprovement_RANDOM",
          "CallbackFirstImprovement_RANDOM",
          "CallbackFirstImprovement_RANDOM",
          "CallbackFirstImprovement_RANDOM",
          "CallbackFirstImprovement_CURR",
          "CallbackFirstImprovement_CURR",
          "CallbackFirstImprovement_CURR",
          "CallbackFirstImprovement_CURR",
          "CallbackFirstImprovement_BACK",
          "CallbackFirstImprovement_BACK",
          "CallbackFirstImprovement_BACK",
          "CallbackFirstImprovement_BACK",
          "CallbackFirstImprovement_RANDOM",
          "CallbackFirstImprovement_RANDOM",
          "CallbackFirstImprovement_RANDOM",
          "CallbackFirstImprovement_RANDOM",
          "CallbackFirstImprovement_RANDOM"
         ],
         "z": [
          2,
          2,
          2,
          2,
          2,
          2,
          2,
          2,
          2,
          2,
          2,
          2,
          4,
          4,
          4,
          4,
          4,
          4,
          4,
          4,
          4,
          4,
          4,
          4,
          4,
          4,
          4,
          4,
          4,
          4,
          4,
          4,
          4,
          8,
          8,
          8,
          8,
          8,
          8,
          8,
          8,
          8,
          8,
          8,
          8,
          8,
          8,
          8,
          8,
          8,
          8,
          16,
          16,
          16,
          16,
          16,
          16,
          16,
          16,
          16,
          16,
          16,
          16,
          16
         ]
        },
        {
         "hovertemplate": "cost_augm_BI_ref=increase<br>num_points=%{x}<br>algorithm=%{y}<br>num_clusters=%{z}<extra></extra>",
         "legendgroup": "increase",
         "marker": {
          "color": "#EF553B",
          "symbol": "circle"
         },
         "mode": "markers",
         "name": "increase",
         "scene": "scene",
         "showlegend": true,
         "type": "scatter3d",
         "x": [
          50,
          70,
          80,
          90,
          50,
          70,
          80,
          90,
          50,
          70,
          80,
          90,
          20,
          20,
          20,
          20,
          30,
          20,
          30,
          20,
          30,
          20,
          30,
          40,
          70,
          90,
          20,
          30,
          40,
          70,
          90,
          20,
          30,
          40,
          70,
          40,
          50,
          60,
          70,
          80,
          90,
          40,
          50,
          60,
          70,
          80,
          90,
          40,
          50,
          60,
          70,
          80,
          90,
          70,
          80,
          90,
          70,
          80,
          90,
          70,
          80,
          90
         ],
         "y": [
          "CallbackFirstImprovement_CURR",
          "CallbackFirstImprovement_CURR",
          "CallbackFirstImprovement_CURR",
          "CallbackFirstImprovement_CURR",
          "CallbackFirstImprovement_BACK",
          "CallbackFirstImprovement_BACK",
          "CallbackFirstImprovement_BACK",
          "CallbackFirstImprovement_BACK",
          "CallbackFirstImprovement_RANDOM",
          "CallbackFirstImprovement_RANDOM",
          "CallbackFirstImprovement_RANDOM",
          "CallbackFirstImprovement_RANDOM",
          "CallbackFirstImprovement_CURR",
          "CallbackFirstImprovement_BACK",
          "CallbackFirstImprovement_RANDOM",
          "CallbackFirstImprovement_CURR",
          "CallbackFirstImprovement_CURR",
          "CallbackFirstImprovement_BACK",
          "CallbackFirstImprovement_BACK",
          "CallbackFirstImprovement_RANDOM",
          "CallbackFirstImprovement_RANDOM",
          "CallbackFirstImprovement_CURR",
          "CallbackFirstImprovement_CURR",
          "CallbackFirstImprovement_CURR",
          "CallbackFirstImprovement_CURR",
          "CallbackFirstImprovement_CURR",
          "CallbackFirstImprovement_BACK",
          "CallbackFirstImprovement_BACK",
          "CallbackFirstImprovement_BACK",
          "CallbackFirstImprovement_BACK",
          "CallbackFirstImprovement_BACK",
          "CallbackFirstImprovement_RANDOM",
          "CallbackFirstImprovement_RANDOM",
          "CallbackFirstImprovement_RANDOM",
          "CallbackFirstImprovement_RANDOM",
          "CallbackFirstImprovement_CURR",
          "CallbackFirstImprovement_CURR",
          "CallbackFirstImprovement_CURR",
          "CallbackFirstImprovement_CURR",
          "CallbackFirstImprovement_CURR",
          "CallbackFirstImprovement_CURR",
          "CallbackFirstImprovement_BACK",
          "CallbackFirstImprovement_BACK",
          "CallbackFirstImprovement_BACK",
          "CallbackFirstImprovement_BACK",
          "CallbackFirstImprovement_BACK",
          "CallbackFirstImprovement_BACK",
          "CallbackFirstImprovement_RANDOM",
          "CallbackFirstImprovement_RANDOM",
          "CallbackFirstImprovement_RANDOM",
          "CallbackFirstImprovement_RANDOM",
          "CallbackFirstImprovement_RANDOM",
          "CallbackFirstImprovement_RANDOM",
          "CallbackFirstImprovement_CURR",
          "CallbackFirstImprovement_CURR",
          "CallbackFirstImprovement_CURR",
          "CallbackFirstImprovement_BACK",
          "CallbackFirstImprovement_BACK",
          "CallbackFirstImprovement_BACK",
          "CallbackFirstImprovement_RANDOM",
          "CallbackFirstImprovement_RANDOM",
          "CallbackFirstImprovement_RANDOM"
         ],
         "z": [
          2,
          2,
          2,
          2,
          2,
          2,
          2,
          2,
          2,
          2,
          2,
          2,
          4,
          4,
          4,
          8,
          8,
          8,
          8,
          8,
          8,
          16,
          16,
          16,
          16,
          16,
          16,
          16,
          16,
          16,
          16,
          16,
          16,
          16,
          16,
          32,
          32,
          32,
          32,
          32,
          32,
          32,
          32,
          32,
          32,
          32,
          32,
          32,
          32,
          32,
          32,
          32,
          32,
          64,
          64,
          64,
          64,
          64,
          64,
          64,
          64,
          64
         ]
        }
       ],
       "layout": {
        "height": 800,
        "legend": {
         "title": {
          "text": "cost_augm_BI_ref"
         },
         "tracegroupgap": 0
        },
        "margin": {
         "t": 60
        },
        "scene": {
         "domain": {
          "x": [
           0,
           1
          ],
          "y": [
           0,
           1
          ]
         },
         "xaxis": {
          "title": {
           "text": "num_points"
          }
         },
         "yaxis": {
          "title": {
           "text": "algorithm"
          }
         },
         "zaxis": {
          "title": {
           "text": "num_clusters"
          }
         }
        },
        "template": {
         "data": {
          "bar": [
           {
            "error_x": {
             "color": "#f2f5fa"
            },
            "error_y": {
             "color": "#f2f5fa"
            },
            "marker": {
             "line": {
              "color": "rgb(17,17,17)",
              "width": 0.5
             },
             "pattern": {
              "fillmode": "overlay",
              "size": 10,
              "solidity": 0.2
             }
            },
            "type": "bar"
           }
          ],
          "barpolar": [
           {
            "marker": {
             "line": {
              "color": "rgb(17,17,17)",
              "width": 0.5
             },
             "pattern": {
              "fillmode": "overlay",
              "size": 10,
              "solidity": 0.2
             }
            },
            "type": "barpolar"
           }
          ],
          "carpet": [
           {
            "aaxis": {
             "endlinecolor": "#A2B1C6",
             "gridcolor": "#506784",
             "linecolor": "#506784",
             "minorgridcolor": "#506784",
             "startlinecolor": "#A2B1C6"
            },
            "baxis": {
             "endlinecolor": "#A2B1C6",
             "gridcolor": "#506784",
             "linecolor": "#506784",
             "minorgridcolor": "#506784",
             "startlinecolor": "#A2B1C6"
            },
            "type": "carpet"
           }
          ],
          "choropleth": [
           {
            "colorbar": {
             "outlinewidth": 0,
             "ticks": ""
            },
            "type": "choropleth"
           }
          ],
          "contour": [
           {
            "colorbar": {
             "outlinewidth": 0,
             "ticks": ""
            },
            "colorscale": [
             [
              0,
              "#0d0887"
             ],
             [
              0.1111111111111111,
              "#46039f"
             ],
             [
              0.2222222222222222,
              "#7201a8"
             ],
             [
              0.3333333333333333,
              "#9c179e"
             ],
             [
              0.4444444444444444,
              "#bd3786"
             ],
             [
              0.5555555555555556,
              "#d8576b"
             ],
             [
              0.6666666666666666,
              "#ed7953"
             ],
             [
              0.7777777777777778,
              "#fb9f3a"
             ],
             [
              0.8888888888888888,
              "#fdca26"
             ],
             [
              1,
              "#f0f921"
             ]
            ],
            "type": "contour"
           }
          ],
          "contourcarpet": [
           {
            "colorbar": {
             "outlinewidth": 0,
             "ticks": ""
            },
            "type": "contourcarpet"
           }
          ],
          "heatmap": [
           {
            "colorbar": {
             "outlinewidth": 0,
             "ticks": ""
            },
            "colorscale": [
             [
              0,
              "#0d0887"
             ],
             [
              0.1111111111111111,
              "#46039f"
             ],
             [
              0.2222222222222222,
              "#7201a8"
             ],
             [
              0.3333333333333333,
              "#9c179e"
             ],
             [
              0.4444444444444444,
              "#bd3786"
             ],
             [
              0.5555555555555556,
              "#d8576b"
             ],
             [
              0.6666666666666666,
              "#ed7953"
             ],
             [
              0.7777777777777778,
              "#fb9f3a"
             ],
             [
              0.8888888888888888,
              "#fdca26"
             ],
             [
              1,
              "#f0f921"
             ]
            ],
            "type": "heatmap"
           }
          ],
          "heatmapgl": [
           {
            "colorbar": {
             "outlinewidth": 0,
             "ticks": ""
            },
            "colorscale": [
             [
              0,
              "#0d0887"
             ],
             [
              0.1111111111111111,
              "#46039f"
             ],
             [
              0.2222222222222222,
              "#7201a8"
             ],
             [
              0.3333333333333333,
              "#9c179e"
             ],
             [
              0.4444444444444444,
              "#bd3786"
             ],
             [
              0.5555555555555556,
              "#d8576b"
             ],
             [
              0.6666666666666666,
              "#ed7953"
             ],
             [
              0.7777777777777778,
              "#fb9f3a"
             ],
             [
              0.8888888888888888,
              "#fdca26"
             ],
             [
              1,
              "#f0f921"
             ]
            ],
            "type": "heatmapgl"
           }
          ],
          "histogram": [
           {
            "marker": {
             "pattern": {
              "fillmode": "overlay",
              "size": 10,
              "solidity": 0.2
             }
            },
            "type": "histogram"
           }
          ],
          "histogram2d": [
           {
            "colorbar": {
             "outlinewidth": 0,
             "ticks": ""
            },
            "colorscale": [
             [
              0,
              "#0d0887"
             ],
             [
              0.1111111111111111,
              "#46039f"
             ],
             [
              0.2222222222222222,
              "#7201a8"
             ],
             [
              0.3333333333333333,
              "#9c179e"
             ],
             [
              0.4444444444444444,
              "#bd3786"
             ],
             [
              0.5555555555555556,
              "#d8576b"
             ],
             [
              0.6666666666666666,
              "#ed7953"
             ],
             [
              0.7777777777777778,
              "#fb9f3a"
             ],
             [
              0.8888888888888888,
              "#fdca26"
             ],
             [
              1,
              "#f0f921"
             ]
            ],
            "type": "histogram2d"
           }
          ],
          "histogram2dcontour": [
           {
            "colorbar": {
             "outlinewidth": 0,
             "ticks": ""
            },
            "colorscale": [
             [
              0,
              "#0d0887"
             ],
             [
              0.1111111111111111,
              "#46039f"
             ],
             [
              0.2222222222222222,
              "#7201a8"
             ],
             [
              0.3333333333333333,
              "#9c179e"
             ],
             [
              0.4444444444444444,
              "#bd3786"
             ],
             [
              0.5555555555555556,
              "#d8576b"
             ],
             [
              0.6666666666666666,
              "#ed7953"
             ],
             [
              0.7777777777777778,
              "#fb9f3a"
             ],
             [
              0.8888888888888888,
              "#fdca26"
             ],
             [
              1,
              "#f0f921"
             ]
            ],
            "type": "histogram2dcontour"
           }
          ],
          "mesh3d": [
           {
            "colorbar": {
             "outlinewidth": 0,
             "ticks": ""
            },
            "type": "mesh3d"
           }
          ],
          "parcoords": [
           {
            "line": {
             "colorbar": {
              "outlinewidth": 0,
              "ticks": ""
             }
            },
            "type": "parcoords"
           }
          ],
          "pie": [
           {
            "automargin": true,
            "type": "pie"
           }
          ],
          "scatter": [
           {
            "marker": {
             "line": {
              "color": "#283442"
             }
            },
            "type": "scatter"
           }
          ],
          "scatter3d": [
           {
            "line": {
             "colorbar": {
              "outlinewidth": 0,
              "ticks": ""
             }
            },
            "marker": {
             "colorbar": {
              "outlinewidth": 0,
              "ticks": ""
             }
            },
            "type": "scatter3d"
           }
          ],
          "scattercarpet": [
           {
            "marker": {
             "colorbar": {
              "outlinewidth": 0,
              "ticks": ""
             }
            },
            "type": "scattercarpet"
           }
          ],
          "scattergeo": [
           {
            "marker": {
             "colorbar": {
              "outlinewidth": 0,
              "ticks": ""
             }
            },
            "type": "scattergeo"
           }
          ],
          "scattergl": [
           {
            "marker": {
             "line": {
              "color": "#283442"
             }
            },
            "type": "scattergl"
           }
          ],
          "scattermapbox": [
           {
            "marker": {
             "colorbar": {
              "outlinewidth": 0,
              "ticks": ""
             }
            },
            "type": "scattermapbox"
           }
          ],
          "scatterpolar": [
           {
            "marker": {
             "colorbar": {
              "outlinewidth": 0,
              "ticks": ""
             }
            },
            "type": "scatterpolar"
           }
          ],
          "scatterpolargl": [
           {
            "marker": {
             "colorbar": {
              "outlinewidth": 0,
              "ticks": ""
             }
            },
            "type": "scatterpolargl"
           }
          ],
          "scatterternary": [
           {
            "marker": {
             "colorbar": {
              "outlinewidth": 0,
              "ticks": ""
             }
            },
            "type": "scatterternary"
           }
          ],
          "surface": [
           {
            "colorbar": {
             "outlinewidth": 0,
             "ticks": ""
            },
            "colorscale": [
             [
              0,
              "#0d0887"
             ],
             [
              0.1111111111111111,
              "#46039f"
             ],
             [
              0.2222222222222222,
              "#7201a8"
             ],
             [
              0.3333333333333333,
              "#9c179e"
             ],
             [
              0.4444444444444444,
              "#bd3786"
             ],
             [
              0.5555555555555556,
              "#d8576b"
             ],
             [
              0.6666666666666666,
              "#ed7953"
             ],
             [
              0.7777777777777778,
              "#fb9f3a"
             ],
             [
              0.8888888888888888,
              "#fdca26"
             ],
             [
              1,
              "#f0f921"
             ]
            ],
            "type": "surface"
           }
          ],
          "table": [
           {
            "cells": {
             "fill": {
              "color": "#506784"
             },
             "line": {
              "color": "rgb(17,17,17)"
             }
            },
            "header": {
             "fill": {
              "color": "#2a3f5f"
             },
             "line": {
              "color": "rgb(17,17,17)"
             }
            },
            "type": "table"
           }
          ]
         },
         "layout": {
          "annotationdefaults": {
           "arrowcolor": "#f2f5fa",
           "arrowhead": 0,
           "arrowwidth": 1
          },
          "autotypenumbers": "strict",
          "coloraxis": {
           "colorbar": {
            "outlinewidth": 0,
            "ticks": ""
           }
          },
          "colorscale": {
           "diverging": [
            [
             0,
             "#8e0152"
            ],
            [
             0.1,
             "#c51b7d"
            ],
            [
             0.2,
             "#de77ae"
            ],
            [
             0.3,
             "#f1b6da"
            ],
            [
             0.4,
             "#fde0ef"
            ],
            [
             0.5,
             "#f7f7f7"
            ],
            [
             0.6,
             "#e6f5d0"
            ],
            [
             0.7,
             "#b8e186"
            ],
            [
             0.8,
             "#7fbc41"
            ],
            [
             0.9,
             "#4d9221"
            ],
            [
             1,
             "#276419"
            ]
           ],
           "sequential": [
            [
             0,
             "#0d0887"
            ],
            [
             0.1111111111111111,
             "#46039f"
            ],
            [
             0.2222222222222222,
             "#7201a8"
            ],
            [
             0.3333333333333333,
             "#9c179e"
            ],
            [
             0.4444444444444444,
             "#bd3786"
            ],
            [
             0.5555555555555556,
             "#d8576b"
            ],
            [
             0.6666666666666666,
             "#ed7953"
            ],
            [
             0.7777777777777778,
             "#fb9f3a"
            ],
            [
             0.8888888888888888,
             "#fdca26"
            ],
            [
             1,
             "#f0f921"
            ]
           ],
           "sequentialminus": [
            [
             0,
             "#0d0887"
            ],
            [
             0.1111111111111111,
             "#46039f"
            ],
            [
             0.2222222222222222,
             "#7201a8"
            ],
            [
             0.3333333333333333,
             "#9c179e"
            ],
            [
             0.4444444444444444,
             "#bd3786"
            ],
            [
             0.5555555555555556,
             "#d8576b"
            ],
            [
             0.6666666666666666,
             "#ed7953"
            ],
            [
             0.7777777777777778,
             "#fb9f3a"
            ],
            [
             0.8888888888888888,
             "#fdca26"
            ],
            [
             1,
             "#f0f921"
            ]
           ]
          },
          "colorway": [
           "#636efa",
           "#EF553B",
           "#00cc96",
           "#ab63fa",
           "#FFA15A",
           "#19d3f3",
           "#FF6692",
           "#B6E880",
           "#FF97FF",
           "#FECB52"
          ],
          "font": {
           "color": "#f2f5fa"
          },
          "geo": {
           "bgcolor": "rgb(17,17,17)",
           "lakecolor": "rgb(17,17,17)",
           "landcolor": "rgb(17,17,17)",
           "showlakes": true,
           "showland": true,
           "subunitcolor": "#506784"
          },
          "hoverlabel": {
           "align": "left"
          },
          "hovermode": "closest",
          "mapbox": {
           "style": "dark"
          },
          "paper_bgcolor": "rgb(17,17,17)",
          "plot_bgcolor": "rgb(17,17,17)",
          "polar": {
           "angularaxis": {
            "gridcolor": "#506784",
            "linecolor": "#506784",
            "ticks": ""
           },
           "bgcolor": "rgb(17,17,17)",
           "radialaxis": {
            "gridcolor": "#506784",
            "linecolor": "#506784",
            "ticks": ""
           }
          },
          "scene": {
           "xaxis": {
            "backgroundcolor": "rgb(17,17,17)",
            "gridcolor": "#506784",
            "gridwidth": 2,
            "linecolor": "#506784",
            "showbackground": true,
            "ticks": "",
            "zerolinecolor": "#C8D4E3"
           },
           "yaxis": {
            "backgroundcolor": "rgb(17,17,17)",
            "gridcolor": "#506784",
            "gridwidth": 2,
            "linecolor": "#506784",
            "showbackground": true,
            "ticks": "",
            "zerolinecolor": "#C8D4E3"
           },
           "zaxis": {
            "backgroundcolor": "rgb(17,17,17)",
            "gridcolor": "#506784",
            "gridwidth": 2,
            "linecolor": "#506784",
            "showbackground": true,
            "ticks": "",
            "zerolinecolor": "#C8D4E3"
           }
          },
          "shapedefaults": {
           "line": {
            "color": "#f2f5fa"
           }
          },
          "sliderdefaults": {
           "bgcolor": "#C8D4E3",
           "bordercolor": "rgb(17,17,17)",
           "borderwidth": 1,
           "tickwidth": 0
          },
          "ternary": {
           "aaxis": {
            "gridcolor": "#506784",
            "linecolor": "#506784",
            "ticks": ""
           },
           "baxis": {
            "gridcolor": "#506784",
            "linecolor": "#506784",
            "ticks": ""
           },
           "bgcolor": "rgb(17,17,17)",
           "caxis": {
            "gridcolor": "#506784",
            "linecolor": "#506784",
            "ticks": ""
           }
          },
          "title": {
           "x": 0.05
          },
          "updatemenudefaults": {
           "bgcolor": "#506784",
           "borderwidth": 0
          },
          "xaxis": {
           "automargin": true,
           "gridcolor": "#283442",
           "linecolor": "#506784",
           "ticks": "",
           "title": {
            "standoff": 15
           },
           "zerolinecolor": "#283442",
           "zerolinewidth": 2
          },
          "yaxis": {
           "automargin": true,
           "gridcolor": "#283442",
           "linecolor": "#506784",
           "ticks": "",
           "title": {
            "standoff": 15
           },
           "zerolinecolor": "#283442",
           "zerolinewidth": 2
          }
         }
        },
        "width": 1000
       }
      }
     },
     "metadata": {},
     "output_type": "display_data"
    }
   ],
   "source": [
    "\n",
    "tmp_df = df[df[\"init_type\"] == \"random\"].copy()\n",
    "tmp_df.loc[:,\"algorithm\"] = tmp_df[\"ImprClass\"]+\"_\" + tmp_df[\"iteration_order\"]\n",
    "tmp_df.loc[:,\"index\"] = tmp_df[\"uuid_points_coords\"]+\"_\" + tmp_df[\"uuid_points_assign\"]+\"_\"+tmp_df[\"num_points\"].astype(str)\n",
    "tmp_df = tmp_df.drop([\"init_cost\",\"ImprClass\",\"init_type\",\"iteration_order\",\"uuid_points_coords\",\"uuid_points_assign\"],axis=1)\n",
    "Lnew = []\n",
    "for num_clust in [2,4,8,16,32,64,128]:\n",
    "    df_tmp = tmp_df[tmp_df[\"num_clusters\"] == num_clust].copy()\n",
    "    Ldf = []\n",
    "    for algorithm in pd.unique(df_tmp[\"algorithm\"]):\n",
    "        df_tmp1 = df_tmp[df_tmp[\"algorithm\"] == algorithm].copy()\n",
    "        df_tmp1.set_index([\"index\"],inplace=True)\n",
    "        if \"Best\" in algorithm:\n",
    "            backup_tmp_df = df_tmp1.copy()\n",
    "            backup_tmp_df.loc[:,\"algorithm\"] = algorithm\n",
    "            backup_tmp_df.loc[:,\"num_clusters\"] = num_clust\n",
    "            continue\n",
    "        else:\n",
    "            current = df_tmp1\n",
    "            df_tmp1 = df_tmp1.assign(cost_augm_BI_ref=current[\"end_cost\"].copy() - backup_tmp_df[\"end_cost\"].copy())\n",
    "        df_tmp1 = df_tmp1.groupby(\"num_points\",as_index=False).mean()\n",
    "        df_tmp1.loc[:,\"algorithm\"] = algorithm\n",
    "        df_tmp1.loc[:,\"num_clusters\"] = num_clust\n",
    "        new_df_tmp1 = df_tmp1.copy()\n",
    "        new_df_tmp1.loc[df_tmp1[\"cost_augm_BI_ref\"]<0,\"cost_augm_BI_ref\"] = \"decrease\"\n",
    "        new_df_tmp1.loc[df_tmp1[\"cost_augm_BI_ref\"]>0,\"cost_augm_BI_ref\"] = \"increase\"\n",
    "        new_df_tmp1.loc[df_tmp1[\"cost_augm_BI_ref\"]==0,\"cost_augm_BI_ref\"] = \"no_change\"\n",
    "        Ldf.append(new_df_tmp1)\n",
    "    if len(Ldf) >0:\n",
    "        Lnew.append(pd.concat(Ldf,axis=0))\n",
    "new_df = pd.concat(Lnew,axis=0)\n",
    "fig = px.scatter_3d(new_df, x='num_points', y='algorithm', z='num_clusters',\n",
    "              color='cost_augm_BI_ref',color_continuous_scale  =[\"red\",\"green\",\"blue\"],template=\"plotly_dark\",width=1000,height=800)\n",
    "fig.show()"
   ]
  },
  {
   "cell_type": "code",
   "execution_count": null,
   "metadata": {},
   "outputs": [],
   "source": []
  }
 ],
 "metadata": {
  "interpreter": {
   "hash": "a7a80cf5091cc3b0eca4837265a50c60c3c4b353b9419c8d484eb15b11025f30"
  },
  "kernelspec": {
   "display_name": "Python 3.8.12 (conda)",
   "language": "python",
   "name": "python3"
  },
  "language_info": {
   "codemirror_mode": {
    "name": "ipython",
    "version": 3
   },
   "file_extension": ".py",
   "mimetype": "text/x-python",
   "name": "python",
   "nbconvert_exporter": "python",
   "pygments_lexer": "ipython3",
   "version": "3.8.12"
  },
  "orig_nbformat": 4
 },
 "nbformat": 4,
 "nbformat_minor": 2
}
